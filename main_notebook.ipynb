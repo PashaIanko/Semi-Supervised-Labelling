{
  "cells": [
    {
      "cell_type": "markdown",
      "metadata": {
        "id": "SY5WztYNneGg"
      },
      "source": [
        "### MSc Computer Science, Data Science @UniPD\n",
        "### Optimization Methods for Data Science\n",
        "---"
      ]
    },
    {
      "cell_type": "markdown",
      "metadata": {
        "id": "dDnBuyzNnFxk"
      },
      "source": [
        "# Packages"
      ]
    },
    {
      "cell_type": "code",
      "execution_count": 131,
      "metadata": {
        "id": "VlSWeYY3nI05"
      },
      "outputs": [],
      "source": [
        "env = 'pc'  # 'pc', 'colab'\n",
        "\n",
        "save_dir = f'C:/Users/79137/Pasha/2. UNIPD/Semester 2/Optimization for Data Science/Homeworks/HW 1/Semi-Supervised-Labelling/'\n",
        "using_gpu = False"
      ]
    },
    {
      "cell_type": "code",
      "execution_count": 132,
      "metadata": {
        "id": "7uuSxlZRjyxM"
      },
      "outputs": [],
      "source": [
        "%%capture\n",
        "git_download_path = 'https://raw.githubusercontent.com/PashaIanko/Semi-Supervised-Labelling/master/'\n",
        "\n",
        "def download_files(url_dict):\n",
        "    for file, url in url_dict.items():\n",
        "        !wget -O {file} {url} {file}\n",
        "\n",
        "if env == 'colab':\n",
        "    from google.colab import drive\n",
        "    drive.mount('/content/drive')\n",
        "\n",
        "    files = [\n",
        "           'BCGDSolver.py',\n",
        "           'DataProperties.py',\n",
        "           'GradientDescentSolver.py',\n",
        "           'GradientSolver.py',\n",
        "           'Utils.py'  \n",
        "    ]\n",
        "\n",
        "    url_dict = {file: git_download_path + file for file in files}\n",
        "    download_files(url_dict)"
      ]
    },
    {
      "cell_type": "code",
      "execution_count": 133,
      "metadata": {
        "id": "2N9xcpuXji8g"
      },
      "outputs": [],
      "source": [
        "from sklearn.datasets import make_blobs\n",
        "import numpy as np\n",
        "\n",
        "from sklearn import datasets\n",
        "from sklearn.metrics import accuracy_score\n",
        "import pandas as pd\n",
        "import timeit\n",
        "\n",
        "# Plotting\n",
        "import matplotlib.pyplot as plt"
      ]
    },
    {
      "cell_type": "code",
      "execution_count": 134,
      "metadata": {
        "id": "_t8si-IGji8g"
      },
      "outputs": [],
      "source": [
        "import Utils\n",
        "import GradientSolver\n",
        "import GradientDescentSolver\n",
        "import DataProperties\n",
        "import BCGDSolver\n",
        "import importlib\n",
        "\n",
        "def reload_all(modules_list):\n",
        "    for module in modules_list:\n",
        "        importlib.reload(module)\n",
        "\n",
        "reload_all(\n",
        "    [\n",
        "        Utils,\n",
        "        GradientSolver,\n",
        "        GradientDescentSolver,\n",
        "        DataProperties,\n",
        "        BCGDSolver\n",
        "    ]\n",
        ")\n",
        "\n",
        "from Utils import *\n",
        "from GradientSolver import GradientSolver\n",
        "from GradientDescentSolver import GradientDescentSolver\n",
        "from DataProperties import DataProperties\n",
        "from BCGDSolver import BCGDSolver"
      ]
    },
    {
      "cell_type": "markdown",
      "metadata": {
        "id": "d_yGB-zWji8e"
      },
      "source": [
        "# Data preparation"
      ]
    },
    {
      "cell_type": "code",
      "execution_count": 135,
      "metadata": {
        "id": "fjGFGUL5ji8f"
      },
      "outputs": [],
      "source": [
        "# Fix states\n",
        "sklearn_random_state = 42\n",
        "numpy_seed = 42\n",
        "\n",
        "np.random.seed(numpy_seed)"
      ]
    },
    {
      "cell_type": "code",
      "execution_count": 136,
      "metadata": {
        "colab": {
          "base_uri": "https://localhost:8080/",
          "height": 282
        },
        "id": "ba7q6jrYji8h",
        "outputId": "6b6c6a58-14ed-40bc-ec15-e83552ce2b84"
      },
      "outputs": [
        {
          "name": "stdout",
          "output_type": "stream",
          "text": [
            "Data shape: X: (200, 2), Y: (200,)\n"
          ]
        },
        {
          "data": {
            "image/png": "[encoded data removed]",
            "text/plain": [
              "<Figure size 432x288 with 1 Axes>"
            ]
          },
          "metadata": {
            "needs_background": "light"
          },
          "output_type": "display_data"
        }
      ],
      "source": [
        "X, Y = make_blobs(\n",
        "    n_samples = DataProperties.n_samples,\n",
        "    centers = DataProperties.n_clusters,\n",
        "    n_features = DataProperties.n_dims,\n",
        "    random_state = sklearn_random_state\n",
        ")\n",
        "\n",
        "def euclidian_similarity(Xi, Xj):\n",
        "    return 1 / (norm(Xi - Xj) + 0.001)\n",
        "\n",
        "weights = calc_weight_matrix(X, weight_func = euclidian_similarity)\n",
        "\n",
        "\n",
        "Y = Y.astype('float64')\n",
        "clusters = np.unique(Y)\n",
        "\n",
        "print(f'Data shape: X: {X.shape}, Y: {Y.shape}')\n",
        "plot_clusters(X, Y)"
      ]
    },
    {
      "cell_type": "markdown",
      "metadata": {
        "id": "3euoJu6uji8i"
      },
      "source": [
        "## Unlabel subset and visualize"
      ]
    },
    {
      "cell_type": "code",
      "execution_count": 137,
      "metadata": {
        "colab": {
          "base_uri": "https://localhost:8080/",
          "height": 404
        },
        "id": "Q_Gd7FQhji8j",
        "outputId": "42891ec6-d8cd-4620-d3ca-c47b0e957340"
      },
      "outputs": [
        {
          "name": "stdout",
          "output_type": "stream",
          "text": [
            "Found 100 instances of object 0.0\n",
            "We have to delabel 95 instances\n",
            "Found 100 instances of object 1.0\n",
            "We have to delabel 95 instances\n",
            "\n",
            "    We have 190 unlabeled data\n",
            "    Out of 200\n",
            "    \n"
          ]
        },
        {
          "data": {
            "image/png": "[encoded data removed]",
            "text/plain": [
              "<Figure size 432x288 with 1 Axes>"
            ]
          },
          "metadata": {
            "needs_background": "light"
          },
          "output_type": "display_data"
        }
      ],
      "source": [
        "Y_delabeled = delabel_data(\n",
        "    Y,\n",
        "    labeled_percent = DataProperties.labeled_percentage,\n",
        "    delabel_value = DataProperties.unlabeled\n",
        ")\n",
        "\n",
        "print(\n",
        "    f'''\n",
        "    We have {len(Y_delabeled[Y_delabeled == DataProperties.unlabeled])} unlabeled data\n",
        "    Out of {len(Y_delabeled)}\n",
        "    '''\n",
        ")\n",
        "\n",
        "plot_clusters(X, Y_delabeled)"
      ]
    },
    {
      "cell_type": "markdown",
      "metadata": {
        "id": "kXobOU1Oji8j"
      },
      "source": [
        "- Up to now, we have the clustered data, saved correct labelling (Y) and delabelled data (Y_delabelled)\n",
        "- For the unlabelled y variables, the loss function depends on the (y_1, ..., y_U) unlabeled parameters. Each of the\n",
        "parameters is independent on others, and can be 0 or 1 (for **binary clustering problem**). This is why we will be searching\n",
        "for **optimal solution in the R^(U)** space, which yields minimum to the **loss function**"
      ]
    },
    {
      "cell_type": "code",
      "execution_count": 138,
      "metadata": {
        "id": "8bywWUfPji8k"
      },
      "outputs": [],
      "source": [
        "import collections\n",
        "class_stats = collections.Counter(Y_delabeled)\n",
        "assert(len(class_stats.keys()) == 3)  # 2 labeled classes and 1 unlabeled"
      ]
    },
    {
      "cell_type": "markdown",
      "metadata": {
        "id": "a8p9YRMLnWHy"
      },
      "source": [
        "# Gradient descent"
      ]
    },
    {
      "cell_type": "code",
      "execution_count": 139,
      "metadata": {
        "id": "hYtCWDXkji8k"
      },
      "outputs": [],
      "source": [
        "# solver = GradientDescentSolver(\n",
        "#     similarity_func = None, # euclidian_similarity,\n",
        "#     lr_strategy = 'lr_constant',  # search for alpha_k\n",
        "#     learning_rate = 0.001\n",
        "# )"
      ]
    },
    {
      "cell_type": "code",
      "execution_count": 140,
      "metadata": {
        "colab": {
          "base_uri": "https://localhost:8080/"
        },
        "id": "wVOCEkE4iHif",
        "outputId": "fa059598-cdc8-45e2-a304-3ccc4404ea58"
      },
      "outputs": [],
      "source": [
        "# Y_preds_GD = solver.solve(\n",
        "#     X, \n",
        "#     Y_delabeled, \n",
        "#     iter_limit = 10, \n",
        "#     delta_loss_limit = 0.008, \n",
        "#     stop_loss = 150,\n",
        "#     weight_matrix = weights\n",
        "# )"
      ]
    },
    {
      "cell_type": "code",
      "execution_count": 141,
      "metadata": {
        "colab": {
          "base_uri": "https://localhost:8080/",
          "height": 530
        },
        "id": "RNwF4Xw1ji8l",
        "outputId": "2314a1c2-9cdc-41b2-8e13-ec2056f0ec1f"
      },
      "outputs": [],
      "source": [
        "# plot_clusters(X, Y)\n",
        "# plot_clusters(X, Y_preds_GD)\n",
        "# print(f'Accuracy: {accuracy_score(Y, Y_preds_GD)}')"
      ]
    },
    {
      "cell_type": "code",
      "execution_count": 142,
      "metadata": {
        "colab": {
          "base_uri": "https://localhost:8080/",
          "height": 265
        },
        "id": "kkBkvHBUji8m",
        "outputId": "c76d1ac9-b023-4e3a-a07e-088965b8265d"
      },
      "outputs": [],
      "source": [
        "# plt.plot(solver.losses, marker = 'o')\n",
        "# plt.grid()"
      ]
    },
    {
      "cell_type": "markdown",
      "metadata": {
        "id": "GP5tfHQAji8m"
      },
      "source": [
        "# Block coordinates gradient descent (randomized)"
      ]
    },
    {
      "cell_type": "markdown",
      "metadata": {
        "id": "cCyQ8hkUji8m"
      },
      "source": [
        "## BCGD random permutations"
      ]
    },
    {
      "cell_type": "code",
      "execution_count": 143,
      "metadata": {
        "id": "4-b49qQUji8n"
      },
      "outputs": [],
      "source": [
        "# random_solver = BCGDSolver(\n",
        "#     lr_strategy = 'lr_constant',\n",
        "#     learning_rate = 0.001,\n",
        "#     similarity_func = None,\n",
        "\n",
        "#     bcgd_strategy = 'random permutation',\n",
        "# )"
      ]
    },
    {
      "cell_type": "code",
      "execution_count": 144,
      "metadata": {
        "colab": {
          "base_uri": "https://localhost:8080/"
        },
        "id": "DcYrVUNwji8n",
        "outputId": "502ef351-0545-426e-eeb6-93a0d8e533d4"
      },
      "outputs": [],
      "source": [
        "# Y_preds_BCGD_permutation = random_solver.solve(\n",
        "#     X, \n",
        "#     Y_delabeled, \n",
        "#     iter_limit = 10, \n",
        "#     delta_loss_limit = 0.008, \n",
        "#     stop_loss= 2174,\n",
        "#     weight_matrix = weights\n",
        "# )"
      ]
    },
    {
      "cell_type": "code",
      "execution_count": 145,
      "metadata": {
        "colab": {
          "base_uri": "https://localhost:8080/",
          "height": 530
        },
        "id": "6KwW3-WNji8n",
        "outputId": "689e0976-95fa-466c-85ac-b88a0f9d2302"
      },
      "outputs": [],
      "source": [
        "# plot_clusters(X, Y)\n",
        "# plot_clusters(X, Y_preds_BCGD_permutation)\n",
        "# print(f'Accuracy: {accuracy_score(Y, Y_preds_BCGD_permutation)}')"
      ]
    },
    {
      "cell_type": "code",
      "execution_count": 146,
      "metadata": {
        "colab": {
          "base_uri": "https://localhost:8080/",
          "height": 265
        },
        "id": "RJVEaOaBji8n",
        "outputId": "2c2b3940-724f-4f3d-b243-b642508e3e2e"
      },
      "outputs": [],
      "source": [
        "# plt.plot(random_solver.losses, marker = 'o')\n",
        "# plt.grid()"
      ]
    },
    {
      "cell_type": "markdown",
      "metadata": {
        "id": "H3EP1xPTji8o"
      },
      "source": [
        "## BCGD random sampling"
      ]
    },
    {
      "cell_type": "code",
      "execution_count": 147,
      "metadata": {
        "id": "Np9yEf8Qji8o"
      },
      "outputs": [],
      "source": [
        "# BCGD_RS_solver = BCGDSolver(\n",
        "#     lr_strategy = 'lr_constant',\n",
        "#     learning_rate = 0.00015,\n",
        "#     similarity_func = None,\n",
        "\n",
        "#     bcgd_strategy = 'random sampling'\n",
        "# )"
      ]
    },
    {
      "cell_type": "code",
      "execution_count": 148,
      "metadata": {
        "colab": {
          "base_uri": "https://localhost:8080/"
        },
        "id": "d7DWIY39ji8o",
        "outputId": "ebfc0699-9636-498c-c407-29205efe3830"
      },
      "outputs": [],
      "source": [
        "# Y_preds_BCGD_sampling = BCGD_RS_solver.solve(\n",
        "#     X = X, \n",
        "#     Y = Y_delabeled, \n",
        "#     iter_limit = 100,\n",
        "#     delta_loss_limit = 0.0,\n",
        "#     stop_loss= 2380,\n",
        "#     weight_matrix = weights\n",
        "# )"
      ]
    },
    {
      "cell_type": "code",
      "execution_count": 149,
      "metadata": {
        "colab": {
          "base_uri": "https://localhost:8080/",
          "height": 282
        },
        "id": "Hkiavnn4ji8p",
        "outputId": "1b4c0c3b-0882-4df1-b5ad-86629625047b"
      },
      "outputs": [],
      "source": [
        "# plot_clusters(\n",
        "#     X, Y_preds_BCGD_sampling\n",
        "# )\n",
        "# print(f'Accuracy: {accuracy_score(Y, Y_preds_BCGD_sampling)}')"
      ]
    },
    {
      "cell_type": "code",
      "execution_count": 150,
      "metadata": {
        "colab": {
          "base_uri": "https://localhost:8080/",
          "height": 265
        },
        "id": "QYc5egcOji8p",
        "outputId": "d6e6ff11-117c-4b9a-e166-0230d0295b14"
      },
      "outputs": [],
      "source": [
        "# plt.plot(BCGD_RS_solver.losses)\n",
        "# plt.grid()"
      ]
    },
    {
      "cell_type": "markdown",
      "metadata": {
        "id": "AKCfR4boji8p"
      },
      "source": [
        "## BCGD cyclic"
      ]
    },
    {
      "cell_type": "code",
      "execution_count": 151,
      "metadata": {
        "id": "9t1zhz2nji8p"
      },
      "outputs": [],
      "source": [
        "# BCGD_cyclic_solver = BCGDSolver(\n",
        "#     lr_strategy = 'lr_constant',\n",
        "#     learning_rate = 0.001,\n",
        "#     similarity_func = None,\n",
        "\n",
        "#     bcgd_strategy = 'cyclic'\n",
        "# )"
      ]
    },
    {
      "cell_type": "code",
      "execution_count": 152,
      "metadata": {
        "colab": {
          "base_uri": "https://localhost:8080/"
        },
        "id": "MTLrf9Hgji8p",
        "outputId": "53556d8a-7768-4f06-e40a-8e6f9e83360d"
      },
      "outputs": [],
      "source": [
        "# Y_preds_BCGD_cyclic = BCGD_cyclic_solver.solve(\n",
        "#     X,\n",
        "#     Y_delabeled, \n",
        "#     iter_limit = 10, \n",
        "#     delta_loss_limit = 0.0001,\n",
        "#     stop_loss = 2300,\n",
        "#     weight_matrix = weights\n",
        "# )"
      ]
    },
    {
      "cell_type": "code",
      "execution_count": 153,
      "metadata": {
        "colab": {
          "base_uri": "https://localhost:8080/",
          "height": 282
        },
        "id": "95Q50O22ji8q",
        "outputId": "bde02962-99a1-4a3f-8b82-0f31f240de73"
      },
      "outputs": [],
      "source": [
        "# print(f'Accuracy: {accuracy_score(Y_preds_BCGD_cyclic, Y)}')\n",
        "# plot_clusters(\n",
        "#     X, Y_preds_BCGD_cyclic\n",
        "# )"
      ]
    },
    {
      "cell_type": "code",
      "execution_count": 154,
      "metadata": {
        "colab": {
          "base_uri": "https://localhost:8080/",
          "height": 265
        },
        "id": "9w-wKchjji8q",
        "outputId": "bda9a6a2-e3db-44b2-f4e7-e1b9ab4a35d3"
      },
      "outputs": [],
      "source": [
        "# plt.plot(BCGD_cyclic_solver.losses, marker = 'o')\n",
        "# plt.grid()"
      ]
    },
    {
      "cell_type": "markdown",
      "metadata": {
        "id": "JE0wByBMji8q"
      },
      "source": [
        "# Model comparison"
      ]
    },
    {
      "cell_type": "markdown",
      "metadata": {
        "id": "swRV0Q4jji8q"
      },
      "source": [
        "We will compare models based on:\n",
        "- Clustering metrics\n",
        "- CPU time\n",
        "- Number of iterations\n",
        "- Loss curves\n",
        "- Distance metrics"
      ]
    },
    {
      "cell_type": "code",
      "execution_count": 155,
      "metadata": {
        "id": "1VaNQmYvji8q"
      },
      "outputs": [],
      "source": [
        "learning_rate_strategy = 'lr_constant'\n",
        "simil_func = None  # No feature yet\n",
        "lr = 0.001\n",
        "\n",
        "gd_solver = GradientDescentSolver(\n",
        "    similarity_func = simil_func,\n",
        "    lr_strategy = learning_rate_strategy,\n",
        "    learning_rate = lr\n",
        ")\n",
        "\n",
        "bcgd_permut_solver = BCGDSolver(\n",
        "    lr_strategy = learning_rate_strategy,\n",
        "    learning_rate = lr,\n",
        "    similarity_func = simil_func,\n",
        "    bcgd_strategy = 'random permutation',\n",
        ")\n",
        "\n",
        "bcgd_sampling_solver = BCGDSolver(\n",
        "    lr_strategy = learning_rate_strategy,\n",
        "    learning_rate = lr,\n",
        "    similarity_func = simil_func,\n",
        "    bcgd_strategy = 'random sampling',\n",
        ")\n",
        "\n",
        "bcgd_cyclic_solver = BCGDSolver(\n",
        "    lr_strategy = learning_rate_strategy,\n",
        "    learning_rate = lr,\n",
        "    similarity_func = simil_func,\n",
        "    bcgd_strategy = 'cyclic',\n",
        ")\n",
        "\n",
        "solvers = {\n",
        "    'GD': gd_solver,\n",
        "    'BCGD permutation': bcgd_permut_solver,\n",
        "    'BCGD cyclic': bcgd_cyclic_solver,\n",
        "    'BCGD sampling': bcgd_sampling_solver,\n",
        "}"
      ]
    },
    {
      "cell_type": "code",
      "execution_count": 157,
      "metadata": {
        "id": "hcChCMybji8r"
      },
      "outputs": [],
      "source": [
        "def compare_models(solvers_dict, X, Y_delabeled, iters_limit, delta_loss_limit, stop_loss, weights_matrix):\n",
        "    predictions = {k:None for k in solvers_dict.keys()}\n",
        "    losses = {k:None for k in solvers_dict.keys()}\n",
        "    n_iterations = {k:None for k in solvers_dict.keys()}\n",
        "    cpu_times_total = {k:None for k in solvers_dict.keys()}\n",
        "\n",
        "    for model_name, model in solvers_dict.items():\n",
        "        start = timeit.default_timer()\n",
        "        Y_preds = model.solve(\n",
        "            X,\n",
        "            Y_delabeled,\n",
        "            iter_limit = iters_limit,\n",
        "            delta_loss_limit = delta_loss_limit,\n",
        "            stop_loss= stop_loss,\n",
        "            weight_matrix = weights_matrix\n",
        "        )\n",
        "        end = timeit.default_timer()\n",
        "        predictions[model_name] = Y_preds\n",
        "        losses[model_name] = model.losses\n",
        "        n_iterations[model_name] = model.n_iterations\n",
        "        cpu_times_total[model_name] = end - start\n",
        "    \n",
        "\n",
        "    return predictions, losses, n_iterations, cpu_times_total"
      ]
    },
    {
      "cell_type": "code",
      "execution_count": 158,
      "metadata": {
        "colab": {
          "base_uri": "https://localhost:8080/"
        },
        "id": "dLm9tU_sji8r",
        "outputId": "90587085-3a7f-4ab4-f475-9277db580918"
      },
      "outputs": [
        {
          "name": "stdout",
          "output_type": "stream",
          "text": [
            "Iteration: 0, Loss: 248.28414123752782, delta loss: 248.28414123752782\n",
            "Iteration: 1, Loss: 243.6499183160233, delta loss: 4.6342229215045165\n",
            "Iteration: 2, Loss: 239.81321314089578, delta loss: 3.83670517512752\n",
            "Iteration: 3, Loss: 236.5656858048136, delta loss: 3.247527336082186\n",
            "Iteration: 4, Loss: 233.7695256864917, delta loss: 2.796160118321893\n",
            "Iteration: 5, Loss: 231.33076530099513, delta loss: 2.438760385496579\n",
            "Iteration: 6, Loss: 229.1831921005058, delta loss: 2.147573200489319\n",
            "Iteration: 7, Loss: 227.27853529295055, delta loss: 1.9046568075552557\n",
            "Iteration: 8, Loss: 225.5804009938172, delta loss: 1.6981342991333577\n",
            "Iteration: 9, Loss: 224.06046806103103, delta loss: 1.519932932786162\n",
            "Iteration: 10, Loss: 222.69606180958328, delta loss: 1.3644062514477469\n",
            "Iteration: 11, Loss: 221.4685772869031, delta loss: 1.2274845226801858\n",
            "Iteration: 12, Loss: 220.36243304707807, delta loss: 1.1061442398250279\n",
            "Iteration: 13, Loss: 219.3643608426921, delta loss: 0.9980722043859771\n",
            "Iteration: 14, Loss: 218.46291131171955, delta loss: 0.9014495309725419\n",
            "\n",
            "\n",
            "Iteration: 0, Loss: 248.28414123752782, Delta: 248.28414123752782\n",
            "Iteration: 1, Loss: 243.330523319353, Delta: 4.953617918174814\n",
            "Iteration: 2, Loss: 239.254698666202, Delta: 4.075824653151017\n",
            "Iteration: 3, Loss: 235.82915037557447, Delta: 3.4255482906275176\n",
            "Iteration: 4, Loss: 232.90062554691679, Delta: 2.928524828657686\n",
            "Iteration: 5, Loss: 230.36667262733013, Delta: 2.5339529195866533\n",
            "Iteration: 6, Loss: 228.15332457398662, Delta: 2.213348053343509\n",
            "Iteration: 7, Loss: 226.2066779158267, Delta: 1.9466466581599207\n",
            "Iteration: 8, Loss: 224.4860432722325, Delta: 1.7206346435941953\n",
            "Iteration: 9, Loss: 222.95937092788523, Delta: 1.5266723443472756\n",
            "Iteration: 10, Loss: 221.60059371936694, Delta: 1.3587772085182905\n",
            "Iteration: 11, Loss: 220.38846040295732, Delta: 1.21213331640962\n",
            "Iteration: 12, Loss: 219.30543357668574, Delta: 1.0830268262715776\n",
            "Iteration: 13, Loss: 218.33650302378618, Delta: 0.9689305528995646\n",
            "Iteration: 14, Loss: 217.46854706878858, Delta: 0.8679559549975977\n",
            "Iteration: 0, Loss: 248.28414123752782, Delta: 248.28414123752782\n",
            "Iteration: 1, Loss: 243.3296971775491, Delta: 4.9544440599787265\n",
            "Iteration: 2, Loss: 239.24946690905418, Delta: 4.080230268494915\n",
            "Iteration: 3, Loss: 235.81809792804304, Delta: 3.4313689810111327\n",
            "Iteration: 4, Loss: 232.88530151206038, Delta: 2.932796415982665\n",
            "Iteration: 5, Loss: 230.34764784706607, Delta: 2.537653664994309\n",
            "Iteration: 6, Loss: 228.13156085696258, Delta: 2.2160869901034914\n",
            "Iteration: 7, Loss: 226.1829236934792, Delta: 1.9486371634833688\n",
            "Iteration: 8, Loss: 224.46062987129605, Delta: 1.7222938221831612\n",
            "Iteration: 9, Loss: 222.9325158827743, Delta: 1.5281139885217385\n",
            "Iteration: 10, Loss: 221.57274824997606, Delta: 1.3597676327982526\n",
            "Iteration: 11, Loss: 220.36011023829388, Delta: 1.2126380116821736\n",
            "Iteration: 12, Loss: 219.27685288677893, Delta: 1.083257351514959\n",
            "Iteration: 13, Loss: 218.3079054800984, Delta: 0.9689474066805133\n",
            "Iteration: 14, Loss: 217.44031885780112, Delta: 0.8675866222972957\n",
            "Iteration: 0, Loss: 248.28414123752782, Delta: 248.28414123752782\n",
            "Iteration: 1, Loss: 248.28099316205183, Delta: 0.0031480754759911633\n",
            "Iteration: 2, Loss: 248.2072045377851, Delta: 0.07378862426674004\n",
            "Iteration: 3, Loss: 248.1830957223546, Delta: 0.02410881543048049\n",
            "Iteration: 4, Loss: 248.17801916789648, Delta: 0.005076554458128157\n",
            "Iteration: 5, Loss: 248.1660120922063, Delta: 0.012007075690178226\n",
            "Iteration: 6, Loss: 248.1406457961611, Delta: 0.025366296045206127\n",
            "Iteration: 7, Loss: 248.12012167835894, Delta: 0.020524117802153796\n",
            "Iteration: 8, Loss: 248.091879415505, Delta: 0.028242262853950706\n",
            "Iteration: 9, Loss: 248.0823370970376, Delta: 0.009542318467396171\n",
            "Iteration: 10, Loss: 247.78292432189673, Delta: 0.2994127751408655\n",
            "Iteration: 11, Loss: 247.77659431358512, Delta: 0.006330008311607571\n",
            "Iteration: 12, Loss: 247.76415771073871, Delta: 0.012436602846406686\n",
            "Iteration: 13, Loss: 247.75496578776458, Delta: 0.009191922974139288\n",
            "Iteration: 14, Loss: 247.74701388202755, Delta: 0.007951905737030529\n"
          ]
        }
      ],
      "source": [
        "iters_limit = 15\n",
        "delta_loss_limit = 0.0001\n",
        "stop_loss= 150  # 4000\n",
        "\n",
        "\n",
        "preds, losses, n_iters, cpu_times_total = compare_models(\n",
        "        solvers,\n",
        "        X,\n",
        "        Y_delabeled,\n",
        "        iters_limit = iters_limit,\n",
        "        delta_loss_limit = delta_loss_limit,\n",
        "        stop_loss = stop_loss,\n",
        "        weights_matrix =  weights\n",
        "    )\n",
        "\n",
        "accuracies = {name: accuracy_score(preds[name], Y) for name in solvers.keys()}\n",
        "cpu_times = {name: solver.cpu_times for name, solver in solvers.items()}"
      ]
    },
    {
      "cell_type": "markdown",
      "metadata": {},
      "source": [
        "## Saving data"
      ]
    },
    {
      "cell_type": "code",
      "execution_count": 159,
      "metadata": {},
      "outputs": [
        {
          "data": {
            "text/html": [
              "<div>\n",
              "<style scoped>\n",
              "    .dataframe tbody tr th:only-of-type {\n",
              "        vertical-align: middle;\n",
              "    }\n",
              "\n",
              "    .dataframe tbody tr th {\n",
              "        vertical-align: top;\n",
              "    }\n",
              "\n",
              "    .dataframe thead th {\n",
              "        text-align: right;\n",
              "    }\n",
              "</style>\n",
              "<table border=\"1\" class=\"dataframe\">\n",
              "  <thead>\n",
              "    <tr style=\"text-align: right;\">\n",
              "      <th></th>\n",
              "      <th>GD loss</th>\n",
              "      <th>BCGD permutation loss</th>\n",
              "      <th>BCGD cyclic loss</th>\n",
              "      <th>BCGD sampling loss</th>\n",
              "      <th>GD cpu</th>\n",
              "      <th>BCGD permutation cpu</th>\n",
              "      <th>BCGD cyclic cpu</th>\n",
              "      <th>BCGD sampling cpu</th>\n",
              "    </tr>\n",
              "  </thead>\n",
              "  <tbody>\n",
              "    <tr>\n",
              "      <th>0</th>\n",
              "      <td>248.284141</td>\n",
              "      <td>248.284141</td>\n",
              "      <td>248.284141</td>\n",
              "      <td>248.284141</td>\n",
              "      <td>0.039564</td>\n",
              "      <td>0.043708</td>\n",
              "      <td>0.049105</td>\n",
              "      <td>0.033337</td>\n",
              "    </tr>\n",
              "    <tr>\n",
              "      <th>1</th>\n",
              "      <td>243.649918</td>\n",
              "      <td>243.330523</td>\n",
              "      <td>243.329697</td>\n",
              "      <td>248.280993</td>\n",
              "      <td>0.120616</td>\n",
              "      <td>0.136348</td>\n",
              "      <td>0.152948</td>\n",
              "      <td>0.069268</td>\n",
              "    </tr>\n",
              "    <tr>\n",
              "      <th>2</th>\n",
              "      <td>239.813213</td>\n",
              "      <td>239.254699</td>\n",
              "      <td>239.249467</td>\n",
              "      <td>248.207205</td>\n",
              "      <td>0.206712</td>\n",
              "      <td>0.225136</td>\n",
              "      <td>0.251288</td>\n",
              "      <td>0.106156</td>\n",
              "    </tr>\n",
              "    <tr>\n",
              "      <th>3</th>\n",
              "      <td>236.565686</td>\n",
              "      <td>235.829150</td>\n",
              "      <td>235.818098</td>\n",
              "      <td>248.183096</td>\n",
              "      <td>0.287600</td>\n",
              "      <td>0.311174</td>\n",
              "      <td>0.334143</td>\n",
              "      <td>0.144290</td>\n",
              "    </tr>\n",
              "    <tr>\n",
              "      <th>4</th>\n",
              "      <td>233.769526</td>\n",
              "      <td>232.900626</td>\n",
              "      <td>232.885302</td>\n",
              "      <td>248.178019</td>\n",
              "      <td>0.370319</td>\n",
              "      <td>0.398507</td>\n",
              "      <td>0.419348</td>\n",
              "      <td>0.185055</td>\n",
              "    </tr>\n",
              "  </tbody>\n",
              "</table>\n",
              "</div>"
            ],
            "text/plain": [
              "      GD loss  BCGD permutation loss  BCGD cyclic loss  BCGD sampling loss  \\\n",
              "0  248.284141             248.284141        248.284141          248.284141   \n",
              "1  243.649918             243.330523        243.329697          248.280993   \n",
              "2  239.813213             239.254699        239.249467          248.207205   \n",
              "3  236.565686             235.829150        235.818098          248.183096   \n",
              "4  233.769526             232.900626        232.885302          248.178019   \n",
              "\n",
              "     GD cpu  BCGD permutation cpu  BCGD cyclic cpu  BCGD sampling cpu  \n",
              "0  0.039564              0.043708         0.049105           0.033337  \n",
              "1  0.120616              0.136348         0.152948           0.069268  \n",
              "2  0.206712              0.225136         0.251288           0.106156  \n",
              "3  0.287600              0.311174         0.334143           0.144290  \n",
              "4  0.370319              0.398507         0.419348           0.185055  "
            ]
          },
          "execution_count": 159,
          "metadata": {},
          "output_type": "execute_result"
        }
      ],
      "source": [
        "results = pd.DataFrame()\n",
        "\n",
        "# fill losses\n",
        "for model_name, loss in losses.items():\n",
        "    results[f'{model_name} loss'] = loss\n",
        "\n",
        "for model_name, cpu_time in cpu_times.items():\n",
        "    results[f'{model_name} cpu'] = cpu_time\n",
        "\n",
        "\n",
        "results.to_csv(save_dir + 'res.csv')\n",
        "results.head()"
      ]
    },
    {
      "cell_type": "code",
      "execution_count": 160,
      "metadata": {},
      "outputs": [
        {
          "data": {
            "text/html": [
              "<div>\n",
              "<style scoped>\n",
              "    .dataframe tbody tr th:only-of-type {\n",
              "        vertical-align: middle;\n",
              "    }\n",
              "\n",
              "    .dataframe tbody tr th {\n",
              "        vertical-align: top;\n",
              "    }\n",
              "\n",
              "    .dataframe thead th {\n",
              "        text-align: right;\n",
              "    }\n",
              "</style>\n",
              "<table border=\"1\" class=\"dataframe\">\n",
              "  <thead>\n",
              "    <tr style=\"text-align: right;\">\n",
              "      <th></th>\n",
              "      <th>CPU total time</th>\n",
              "      <th>N iterations</th>\n",
              "      <th>Accuracies</th>\n",
              "      <th>CPU total time_norm</th>\n",
              "      <th>N iterations_norm</th>\n",
              "      <th>Accuracies_norm</th>\n",
              "    </tr>\n",
              "  </thead>\n",
              "  <tbody>\n",
              "    <tr>\n",
              "      <th>GD</th>\n",
              "      <td>1.299257</td>\n",
              "      <td>15</td>\n",
              "      <td>1.00</td>\n",
              "      <td>0.988622</td>\n",
              "      <td>1.0</td>\n",
              "      <td>1.00</td>\n",
              "    </tr>\n",
              "    <tr>\n",
              "      <th>BCGD permutation</th>\n",
              "      <td>1.314211</td>\n",
              "      <td>15</td>\n",
              "      <td>1.00</td>\n",
              "      <td>1.000000</td>\n",
              "      <td>1.0</td>\n",
              "      <td>1.00</td>\n",
              "    </tr>\n",
              "    <tr>\n",
              "      <th>BCGD cyclic</th>\n",
              "      <td>1.303171</td>\n",
              "      <td>15</td>\n",
              "      <td>1.00</td>\n",
              "      <td>0.991600</td>\n",
              "      <td>1.0</td>\n",
              "      <td>1.00</td>\n",
              "    </tr>\n",
              "    <tr>\n",
              "      <th>BCGD sampling</th>\n",
              "      <td>0.553322</td>\n",
              "      <td>15</td>\n",
              "      <td>0.56</td>\n",
              "      <td>0.421030</td>\n",
              "      <td>1.0</td>\n",
              "      <td>0.56</td>\n",
              "    </tr>\n",
              "  </tbody>\n",
              "</table>\n",
              "</div>"
            ],
            "text/plain": [
              "                  CPU total time  N iterations  Accuracies  \\\n",
              "GD                      1.299257            15        1.00   \n",
              "BCGD permutation        1.314211            15        1.00   \n",
              "BCGD cyclic             1.303171            15        1.00   \n",
              "BCGD sampling           0.553322            15        0.56   \n",
              "\n",
              "                  CPU total time_norm  N iterations_norm  Accuracies_norm  \n",
              "GD                           0.988622                1.0             1.00  \n",
              "BCGD permutation             1.000000                1.0             1.00  \n",
              "BCGD cyclic                  0.991600                1.0             1.00  \n",
              "BCGD sampling                0.421030                1.0             0.56  "
            ]
          },
          "execution_count": 160,
          "metadata": {},
          "output_type": "execute_result"
        },
        {
          "data": {
            "image/png": "[encoded data removed]",
            "text/plain": [
              "<Figure size 576x576 with 1 Axes>"
            ]
          },
          "metadata": {
            "needs_background": "light"
          },
          "output_type": "display_data"
        }
      ],
      "source": [
        "bar_metrics = pd.DataFrame.from_dict(cpu_times_total, orient='index', columns = ['CPU total time'])\n",
        "bar_metrics['N iterations'] = n_iters.values()\n",
        "bar_metrics['Accuracies'] = accuracies.values()\n",
        "\n",
        "normalize_cols(bar_metrics)\n",
        "plot_bar_metrics(bar_metrics)\n",
        "bar_metrics.to_csv(save_dir + 'metrics res.csv')\n",
        "\n",
        "bar_metrics.head()"
      ]
    },
    {
      "cell_type": "markdown",
      "metadata": {},
      "source": [
        "## Graphics"
      ]
    },
    {
      "cell_type": "code",
      "execution_count": 161,
      "metadata": {
        "colab": {
          "base_uri": "https://localhost:8080/",
          "height": 851
        },
        "id": "07EmcJuSji8r",
        "outputId": "41053abb-8473-4440-f554-67c51b404087"
      },
      "outputs": [
        {
          "data": {
            "image/png": "[encoded data removed]",
            "text/plain": [
              "<Figure size 648x432 with 1 Axes>"
            ]
          },
          "metadata": {
            "needs_background": "light"
          },
          "output_type": "display_data"
        }
      ],
      "source": [
        "def plot_curves(curves_dict, title, y_label, figsize):\n",
        "    _, ax = plt.subplots(figsize = figsize)\n",
        "\n",
        "    for _, curve_res in curves_dict.items():\n",
        "        ax.plot(\n",
        "            curve_res,\n",
        "            marker = 'o',\n",
        "            linestyle = '--',\n",
        "            linewidth = 1.3,\n",
        "            markerfacecolor = 'white',\n",
        "            markersize = 2\n",
        "        )\n",
        "    plt.legend(list(curves_dict.keys()))\n",
        "    plt.title(title)\n",
        "    plt.xlabel('Iteration')\n",
        "    plt.ylabel(y_label)\n",
        "    plt.grid()\n",
        "\n",
        "\n",
        "# plot_curves({'Cyclic':losses['BCGD cyclic']}, 'Losses cyclic', y_label = 'Loss')\n",
        "# plot_curves({'GD':losses['GD']}, 'Losses GD', y_label = 'Loss')\n",
        "plot_curves(\n",
        "    losses,\n",
        "    'Losses VS N iterations', \n",
        "    y_label = 'Loss',\n",
        "    figsize = (9, 6)\n",
        ")"
      ]
    },
    {
      "cell_type": "code",
      "execution_count": 162,
      "metadata": {},
      "outputs": [
        {
          "data": {
            "image/png": "[encoded data removed]",
            "text/plain": [
              "<Figure size 432x288 with 1 Axes>"
            ]
          },
          "metadata": {
            "needs_background": "light"
          },
          "output_type": "display_data"
        }
      ],
      "source": [
        "def plot_losses_vs_cpu(losses_, cpu_times_):\n",
        "    assert(list(losses_.keys()) == list(cpu_times_.keys()))\n",
        "\n",
        "    _, ax = plt.subplots()\n",
        "\n",
        "    for model_name, loss in losses_.items():\n",
        "        cpu_time = cpu_times_[model_name]\n",
        "\n",
        "        ax.plot(\n",
        "            cpu_time,\n",
        "            loss,\n",
        "            marker = 'o',\n",
        "            markerfacecolor = 'white'\n",
        "        )\n",
        "    plt.xlabel('CPU time')\n",
        "    plt.ylabel('Loss')\n",
        "    plt.title('Loss VS CPU time')\n",
        "    plt.legend(list(losses_.keys()))\n",
        "    plt.grid()\n",
        "\n",
        "\n",
        "plot_losses_vs_cpu(losses, cpu_times)\n"
      ]
    },
    {
      "cell_type": "markdown",
      "metadata": {
        "id": "U2In6I0eji8s"
      },
      "source": [
        "# Real dataset"
      ]
    },
    {
      "cell_type": "code",
      "execution_count": 244,
      "metadata": {},
      "outputs": [],
      "source": [
        "df = pd.read_csv('Pokemon.csv')"
      ]
    },
    {
      "cell_type": "code",
      "execution_count": 245,
      "metadata": {},
      "outputs": [
        {
          "data": {
            "text/html": [
              "<div>\n",
              "<style scoped>\n",
              "    .dataframe tbody tr th:only-of-type {\n",
              "        vertical-align: middle;\n",
              "    }\n",
              "\n",
              "    .dataframe tbody tr th {\n",
              "        vertical-align: top;\n",
              "    }\n",
              "\n",
              "    .dataframe thead th {\n",
              "        text-align: right;\n",
              "    }\n",
              "</style>\n",
              "<table border=\"1\" class=\"dataframe\">\n",
              "  <thead>\n",
              "    <tr style=\"text-align: right;\">\n",
              "      <th></th>\n",
              "      <th>number</th>\n",
              "      <th>name</th>\n",
              "      <th>type1</th>\n",
              "      <th>type2</th>\n",
              "      <th>total</th>\n",
              "      <th>hp</th>\n",
              "      <th>attack</th>\n",
              "      <th>defense</th>\n",
              "      <th>sp_attack</th>\n",
              "      <th>sp_defense</th>\n",
              "      <th>speed</th>\n",
              "      <th>generation</th>\n",
              "      <th>legendary</th>\n",
              "    </tr>\n",
              "  </thead>\n",
              "  <tbody>\n",
              "    <tr>\n",
              "      <th>0</th>\n",
              "      <td>1</td>\n",
              "      <td>Bulbasaur</td>\n",
              "      <td>Grass</td>\n",
              "      <td>Poison</td>\n",
              "      <td>318</td>\n",
              "      <td>45</td>\n",
              "      <td>49</td>\n",
              "      <td>49</td>\n",
              "      <td>65</td>\n",
              "      <td>65</td>\n",
              "      <td>45</td>\n",
              "      <td>1</td>\n",
              "      <td>False</td>\n",
              "    </tr>\n",
              "    <tr>\n",
              "      <th>1</th>\n",
              "      <td>2</td>\n",
              "      <td>Ivysaur</td>\n",
              "      <td>Grass</td>\n",
              "      <td>Poison</td>\n",
              "      <td>405</td>\n",
              "      <td>60</td>\n",
              "      <td>62</td>\n",
              "      <td>63</td>\n",
              "      <td>80</td>\n",
              "      <td>80</td>\n",
              "      <td>60</td>\n",
              "      <td>1</td>\n",
              "      <td>False</td>\n",
              "    </tr>\n",
              "    <tr>\n",
              "      <th>2</th>\n",
              "      <td>3</td>\n",
              "      <td>Venusaur</td>\n",
              "      <td>Grass</td>\n",
              "      <td>Poison</td>\n",
              "      <td>525</td>\n",
              "      <td>80</td>\n",
              "      <td>82</td>\n",
              "      <td>83</td>\n",
              "      <td>100</td>\n",
              "      <td>100</td>\n",
              "      <td>80</td>\n",
              "      <td>1</td>\n",
              "      <td>False</td>\n",
              "    </tr>\n",
              "    <tr>\n",
              "      <th>3</th>\n",
              "      <td>3</td>\n",
              "      <td>Mega Venusaur</td>\n",
              "      <td>Grass</td>\n",
              "      <td>Poison</td>\n",
              "      <td>625</td>\n",
              "      <td>80</td>\n",
              "      <td>100</td>\n",
              "      <td>123</td>\n",
              "      <td>122</td>\n",
              "      <td>120</td>\n",
              "      <td>80</td>\n",
              "      <td>1</td>\n",
              "      <td>False</td>\n",
              "    </tr>\n",
              "    <tr>\n",
              "      <th>4</th>\n",
              "      <td>3</td>\n",
              "      <td>Gigantamax Venusaur</td>\n",
              "      <td>Grass</td>\n",
              "      <td>Poison</td>\n",
              "      <td>525</td>\n",
              "      <td>80</td>\n",
              "      <td>82</td>\n",
              "      <td>83</td>\n",
              "      <td>100</td>\n",
              "      <td>100</td>\n",
              "      <td>80</td>\n",
              "      <td>1</td>\n",
              "      <td>False</td>\n",
              "    </tr>\n",
              "  </tbody>\n",
              "</table>\n",
              "</div>"
            ],
            "text/plain": [
              "   number                 name  type1   type2  total  hp  attack  defense  \\\n",
              "0       1            Bulbasaur  Grass  Poison    318  45      49       49   \n",
              "1       2              Ivysaur  Grass  Poison    405  60      62       63   \n",
              "2       3             Venusaur  Grass  Poison    525  80      82       83   \n",
              "3       3        Mega Venusaur  Grass  Poison    625  80     100      123   \n",
              "4       3  Gigantamax Venusaur  Grass  Poison    525  80      82       83   \n",
              "\n",
              "   sp_attack  sp_defense  speed  generation  legendary  \n",
              "0         65          65     45           1      False  \n",
              "1         80          80     60           1      False  \n",
              "2        100         100     80           1      False  \n",
              "3        122         120     80           1      False  \n",
              "4        100         100     80           1      False  "
            ]
          },
          "execution_count": 245,
          "metadata": {},
          "output_type": "execute_result"
        }
      ],
      "source": [
        "df.head()"
      ]
    },
    {
      "cell_type": "code",
      "execution_count": 246,
      "metadata": {},
      "outputs": [],
      "source": [
        "df.head()\n",
        "X_real = df.loc[:, ['total', 'sp_attack']].values\n",
        "Y_real = df['legendary'].astype('int').values\n"
      ]
    },
    {
      "cell_type": "code",
      "execution_count": 247,
      "metadata": {},
      "outputs": [
        {
          "data": {
            "image/png": "[encoded data removed]",
            "text/plain": [
              "<Figure size 432x288 with 1 Axes>"
            ]
          },
          "metadata": {
            "needs_background": "light"
          },
          "output_type": "display_data"
        }
      ],
      "source": [
        "plot_clusters(\n",
        "    X_real,\n",
        "    Y_real\n",
        ")"
      ]
    },
    {
      "cell_type": "code",
      "execution_count": 239,
      "metadata": {},
      "outputs": [],
      "source": [
        "# df = pd.read_csv('./uber-small.csv')\n",
        "# df.columns = ['Longitude', 'Latitude']"
      ]
    },
    {
      "cell_type": "code",
      "execution_count": 240,
      "metadata": {},
      "outputs": [],
      "source": [
        "# df['Y'] = df['Longitude']  > 40.75\n",
        "\n",
        "# X_real = df.loc[:, ['Longitude', 'Latitude']].values\n",
        "# Y_real = df['Y'].astype('int').values\n"
      ]
    },
    {
      "cell_type": "code",
      "execution_count": 248,
      "metadata": {},
      "outputs": [
        {
          "data": {
            "image/png": "[encoded data removed]",
            "text/plain": [
              "<Figure size 432x288 with 1 Axes>"
            ]
          },
          "metadata": {
            "needs_background": "light"
          },
          "output_type": "display_data"
        }
      ],
      "source": [
        "plot_clusters(\n",
        "    X_real,\n",
        "    Y_real\n",
        ")"
      ]
    },
    {
      "cell_type": "code",
      "execution_count": 249,
      "metadata": {},
      "outputs": [
        {
          "name": "stdout",
          "output_type": "stream",
          "text": [
            "Found 954 instances of object 0\n",
            "We have to delabel 801 instances\n",
            "Found 118 instances of object 1\n",
            "We have to delabel 99 instances\n"
          ]
        }
      ],
      "source": [
        "Y_real_delabeled = delabel_data(\n",
        "    Y_real,\n",
        "    labeled_percent = 0.16, # DataProperties.labeled_percentage,\n",
        "    delabel_value = DataProperties.unlabeled\n",
        ")"
      ]
    },
    {
      "cell_type": "code",
      "execution_count": 251,
      "metadata": {},
      "outputs": [
        {
          "data": {
            "image/png": "[encoded data removed]",
            "text/plain": [
              "<Figure size 432x288 with 1 Axes>"
            ]
          },
          "metadata": {
            "needs_background": "light"
          },
          "output_type": "display_data"
        }
      ],
      "source": [
        "plot_clusters(\n",
        "    X_real, \n",
        "    Y_real_delabeled\n",
        ")"
      ]
    },
    {
      "cell_type": "code",
      "execution_count": 211,
      "metadata": {
        "id": "G_9uTw_Fji8s"
      },
      "outputs": [],
      "source": [
        "wine=datasets.load_wine()\n",
        "\n",
        "#Conver to pandas dataframe\n",
        "data=pd.DataFrame(data=np.c_[wine['data'],wine['target']],columns=wine['feature_names']+['target'])\n",
        "\n",
        "data = data.loc[\n",
        "    (data['target'] == 1) | (data['target'] == 0),\n",
        "    ['od280/od315_of_diluted_wines', 'alcohol', 'target']\n",
        "]"
      ]
    },
    {
      "cell_type": "code",
      "execution_count": 212,
      "metadata": {
        "colab": {
          "base_uri": "https://localhost:8080/",
          "height": 268
        },
        "id": "D-DhernSji8s",
        "outputId": "0bb868a7-fc14-46a5-e0c8-b06c6e190587"
      },
      "outputs": [
        {
          "data": {
            "image/png": "[encoded data removed]",
            "text/plain": [
              "<Figure size 432x288 with 1 Axes>"
            ]
          },
          "metadata": {
            "needs_background": "light"
          },
          "output_type": "display_data"
        }
      ],
      "source": [
        "X_real = data.loc[\n",
        "    :,\n",
        "    ['od280/od315_of_diluted_wines', 'alcohol']\n",
        "].values\n",
        "Y_real = data['target'].values\n",
        "\n",
        "plot_clusters(\n",
        "    X_real,\n",
        "    Y_real\n",
        ")"
      ]
    },
    {
      "cell_type": "code",
      "execution_count": 254,
      "metadata": {
        "colab": {
          "base_uri": "https://localhost:8080/"
        },
        "id": "PLp4UwVRji8t",
        "outputId": "734982c6-2c10-4b39-8aaa-eaa4c8c820d9"
      },
      "outputs": [
        {
          "name": "stdout",
          "output_type": "stream",
          "text": [
            "Iteration: 0, Loss: 24173.807351957803, delta loss: 24173.807351957803\n",
            "Iteration: 1, Loss: 24173.807351957803, delta loss: 0.0\n",
            "Iteration: 2, Loss: 24173.807351957803, delta loss: 0.0\n",
            "Iteration: 3, Loss: 24173.807351957803, delta loss: 0.0\n",
            "Iteration: 4, Loss: 24173.807351957803, delta loss: 0.0\n",
            "\n",
            "\n"
          ]
        }
      ],
      "source": [
        "solver = GradientDescentSolver(\n",
        "    lr_strategy = 'lr_constant',\n",
        "    learning_rate = 0.0001,\n",
        "    similarity_func = None\n",
        ")\n",
        "\n",
        "Y_real_preds = solver.solve(\n",
        "    X_real,\n",
        "    Y_real_delabeled,\n",
        "    iter_limit=5,\n",
        "    delta_loss_limit = 0.003,\n",
        "    stop_loss = 20\n",
        ")"
      ]
    },
    {
      "cell_type": "code",
      "execution_count": 233,
      "metadata": {
        "colab": {
          "base_uri": "https://localhost:8080/",
          "height": 519
        },
        "id": "iAZAkvBqji8t",
        "outputId": "b10d18dd-1d22-4a31-b324-60e46fe82cdb"
      },
      "outputs": [
        {
          "data": {
            "image/png": "[encoded data removed]",
            "text/plain": [
              "<Figure size 432x288 with 1 Axes>"
            ]
          },
          "metadata": {
            "needs_background": "light"
          },
          "output_type": "display_data"
        },
        {
          "data": {
            "image/png": "[encoded data removed]",
            "text/plain": [
              "<Figure size 432x288 with 1 Axes>"
            ]
          },
          "metadata": {
            "needs_background": "light"
          },
          "output_type": "display_data"
        }
      ],
      "source": [
        "plot_clusters(\n",
        "    X_real,\n",
        "    Y_real\n",
        ")\n",
        "plot_clusters(\n",
        "    X_real,\n",
        "    Y_real_preds\n",
        ")"
      ]
    }
  ],
  "metadata": {
    "colab": {
      "collapsed_sections": [],
      "name": "HW1.ipynb",
      "provenance": []
    },
    "kernelspec": {
      "display_name": "Python 3",
      "name": "python3"
    },
    "language_info": {
      "codemirror_mode": {
        "name": "ipython",
        "version": 3
      },
      "file_extension": ".py",
      "mimetype": "text/x-python",
      "name": "python",
      "nbconvert_exporter": "python",
      "pygments_lexer": "ipython3",
      "version": "3.9.7"
    }
  },
  "nbformat": 4,
  "nbformat_minor": 0
}
