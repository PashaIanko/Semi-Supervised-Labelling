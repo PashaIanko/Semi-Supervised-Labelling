{
  "cells": [
    {
      "cell_type": "markdown",
      "metadata": {
        "id": "SY5WztYNneGg"
      },
      "source": [
        "### MSc Computer Science, Data Science @UniPD\n",
        "### Optimization Methods for Data Science\n",
        "---"
      ]
    },
    {
      "cell_type": "markdown",
      "source": [
        "# Packages"
      ],
      "metadata": {
        "id": "dDnBuyzNnFxk"
      }
    },
    {
      "cell_type": "code",
      "source": [
        "env = 'colab'  # 'pc'"
      ],
      "metadata": {
        "id": "VlSWeYY3nI05"
      },
      "execution_count": 1,
      "outputs": []
    },
    {
      "cell_type": "code",
      "source": [
        "# %%capture\n",
        "git_download_path = 'https://raw.githubusercontent.com/PashaIanko/Semi-Supervised-Labelling/master/'\n",
        "\n",
        "def download_files(url_dict):\n",
        "    for file, url in url_dict.items():\n",
        "        !wget -O {file} {url} {file}\n",
        "\n",
        "if env == 'colab':\n",
        "    from google.colab import drive\n",
        "    drive.mount('/content/drive')\n",
        "\n",
        "    files = [\n",
        "           'BCGDSolver.py',\n",
        "           'DataProperties.py',\n",
        "           'GradientDescentSolver.py',\n",
        "           'GradientSolver.py',\n",
        "           'Utils.py'  \n",
        "    ]\n",
        "\n",
        "    url_dict = {file: git_download_path + file for file in files}\n",
        "    download_files(url_dict)"
      ],
      "metadata": {
        "id": "7uuSxlZRjyxM",
        "colab": {
          "base_uri": "https://localhost:8080/"
        },
        "outputId": "641294f3-bf6b-4d82-8e59-47a6da881dee"
      },
      "execution_count": 2,
      "outputs": [
        {
          "output_type": "stream",
          "name": "stdout",
          "text": [
            "Drive already mounted at /content/drive; to attempt to forcibly remount, call drive.mount(\"/content/drive\", force_remount=True).\n",
            "--2022-04-24 08:19:34--  https://raw.githubusercontent.com/PashaIanko/Semi-Supervised-Labelling/master/BCGDSolver.py\n",
            "Resolving raw.githubusercontent.com (raw.githubusercontent.com)... 185.199.110.133, 185.199.109.133, 185.199.108.133, ...\n",
            "Connecting to raw.githubusercontent.com (raw.githubusercontent.com)|185.199.110.133|:443... connected.\n",
            "HTTP request sent, awaiting response... 200 OK\n",
            "Length: 3337 (3.3K) [text/plain]\n",
            "Saving to: ‘BCGDSolver.py’\n",
            "\n",
            "\rBCGDSolver.py         0%[                    ]       0  --.-KB/s               \rBCGDSolver.py       100%[===================>]   3.26K  --.-KB/s    in 0s      \n",
            "\n",
            "2022-04-24 08:19:34 (27.2 MB/s) - ‘BCGDSolver.py’ saved [3337/3337]\n",
            "\n",
            "--2022-04-24 08:19:34--  http://bcgdsolver.py/\n",
            "Resolving bcgdsolver.py (bcgdsolver.py)... failed: Name or service not known.\n",
            "wget: unable to resolve host address ‘bcgdsolver.py’\n",
            "FINISHED --2022-04-24 08:19:34--\n",
            "Total wall clock time: 0.06s\n",
            "Downloaded: 1 files, 3.3K in 0s (27.2 MB/s)\n",
            "--2022-04-24 08:19:34--  https://raw.githubusercontent.com/PashaIanko/Semi-Supervised-Labelling/master/DataProperties.py\n",
            "Resolving raw.githubusercontent.com (raw.githubusercontent.com)... 185.199.111.133, 185.199.108.133, 185.199.110.133, ...\n",
            "Connecting to raw.githubusercontent.com (raw.githubusercontent.com)|185.199.111.133|:443... connected.\n",
            "HTTP request sent, awaiting response... 200 OK\n",
            "Length: 176 [text/plain]\n",
            "Saving to: ‘DataProperties.py’\n",
            "\n",
            "DataProperties.py   100%[===================>]     176  --.-KB/s    in 0s      \n",
            "\n",
            "2022-04-24 08:19:34 (8.75 MB/s) - ‘DataProperties.py’ saved [176/176]\n",
            "\n",
            "--2022-04-24 08:19:34--  http://dataproperties.py/\n",
            "Resolving dataproperties.py (dataproperties.py)... failed: Name or service not known.\n",
            "wget: unable to resolve host address ‘dataproperties.py’\n",
            "FINISHED --2022-04-24 08:19:35--\n",
            "Total wall clock time: 0.3s\n",
            "Downloaded: 1 files, 176 in 0s (8.75 MB/s)\n",
            "--2022-04-24 08:19:35--  https://raw.githubusercontent.com/PashaIanko/Semi-Supervised-Labelling/master/GradientDescentSolver.py\n",
            "Resolving raw.githubusercontent.com (raw.githubusercontent.com)... 185.199.108.133, 185.199.109.133, 185.199.111.133, ...\n",
            "Connecting to raw.githubusercontent.com (raw.githubusercontent.com)|185.199.108.133|:443... connected.\n",
            "HTTP request sent, awaiting response... 200 OK\n",
            "Length: 1534 (1.5K) [text/plain]\n",
            "Saving to: ‘GradientDescentSolver.py’\n",
            "\n",
            "GradientDescentSolv 100%[===================>]   1.50K  --.-KB/s    in 0s      \n",
            "\n",
            "2022-04-24 08:19:35 (20.8 MB/s) - ‘GradientDescentSolver.py’ saved [1534/1534]\n",
            "\n",
            "--2022-04-24 08:19:35--  http://gradientdescentsolver.py/\n",
            "Resolving gradientdescentsolver.py (gradientdescentsolver.py)... failed: Name or service not known.\n",
            "wget: unable to resolve host address ‘gradientdescentsolver.py’\n",
            "FINISHED --2022-04-24 08:19:35--\n",
            "Total wall clock time: 0.07s\n",
            "Downloaded: 1 files, 1.5K in 0s (20.8 MB/s)\n",
            "--2022-04-24 08:19:35--  https://raw.githubusercontent.com/PashaIanko/Semi-Supervised-Labelling/master/GradientSolver.py\n",
            "Resolving raw.githubusercontent.com (raw.githubusercontent.com)... 185.199.111.133, 185.199.109.133, 185.199.110.133, ...\n",
            "Connecting to raw.githubusercontent.com (raw.githubusercontent.com)|185.199.111.133|:443... connected.\n",
            "HTTP request sent, awaiting response... 200 OK\n",
            "Length: 2790 (2.7K) [text/plain]\n",
            "Saving to: ‘GradientSolver.py’\n",
            "\n",
            "GradientSolver.py   100%[===================>]   2.72K  --.-KB/s    in 0s      \n",
            "\n",
            "2022-04-24 08:19:35 (26.0 MB/s) - ‘GradientSolver.py’ saved [2790/2790]\n",
            "\n",
            "--2022-04-24 08:19:35--  http://gradientsolver.py/\n",
            "Resolving gradientsolver.py (gradientsolver.py)... failed: Name or service not known.\n",
            "wget: unable to resolve host address ‘gradientsolver.py’\n",
            "FINISHED --2022-04-24 08:19:35--\n",
            "Total wall clock time: 0.07s\n",
            "Downloaded: 1 files, 2.7K in 0s (26.0 MB/s)\n",
            "--2022-04-24 08:19:35--  https://raw.githubusercontent.com/PashaIanko/Semi-Supervised-Labelling/master/Utils.py\n",
            "Resolving raw.githubusercontent.com (raw.githubusercontent.com)... 185.199.108.133, 185.199.109.133, 185.199.110.133, ...\n",
            "Connecting to raw.githubusercontent.com (raw.githubusercontent.com)|185.199.108.133|:443... connected.\n",
            "HTTP request sent, awaiting response... 200 OK\n",
            "Length: 1402 (1.4K) [text/plain]\n",
            "Saving to: ‘Utils.py’\n",
            "\n",
            "Utils.py            100%[===================>]   1.37K  --.-KB/s    in 0s      \n",
            "\n",
            "2022-04-24 08:19:35 (16.8 MB/s) - ‘Utils.py’ saved [1402/1402]\n",
            "\n",
            "--2022-04-24 08:19:35--  http://utils.py/\n",
            "Resolving utils.py (utils.py)... failed: Name or service not known.\n",
            "wget: unable to resolve host address ‘utils.py’\n",
            "FINISHED --2022-04-24 08:19:35--\n",
            "Total wall clock time: 0.05s\n",
            "Downloaded: 1 files, 1.4K in 0s (16.8 MB/s)\n"
          ]
        }
      ]
    },
    {
      "cell_type": "code",
      "execution_count": 3,
      "metadata": {
        "id": "2N9xcpuXji8g"
      },
      "outputs": [],
      "source": [
        "from sklearn.datasets import make_blobs\n",
        "import numpy as np\n",
        "\n",
        "from sklearn import datasets\n",
        "from sklearn.metrics import accuracy_score\n",
        "import pandas as pd\n",
        "import timeit\n",
        "\n",
        "# Plotting\n",
        "import matplotlib.pyplot as plt\n",
        "\n",
        "\n"
      ]
    },
    {
      "cell_type": "code",
      "execution_count": 4,
      "metadata": {
        "id": "_t8si-IGji8g"
      },
      "outputs": [],
      "source": [
        "import Utils\n",
        "import GradientSolver\n",
        "import GradientDescentSolver\n",
        "import DataProperties\n",
        "import BCGDSolver\n",
        "import importlib\n",
        "\n",
        "def reload_all(modules_list):\n",
        "    for module in modules_list:\n",
        "        importlib.reload(module)\n",
        "\n",
        "reload_all(\n",
        "    [\n",
        "        Utils,\n",
        "        GradientSolver,\n",
        "        GradientDescentSolver,\n",
        "        DataProperties,\n",
        "        BCGDSolver\n",
        "    ]\n",
        ")\n",
        "\n",
        "from Utils import *\n",
        "from GradientSolver import GradientSolver\n",
        "from GradientDescentSolver import GradientDescentSolver\n",
        "from DataProperties import DataProperties\n",
        "from BCGDSolver import BCGDSolver"
      ]
    },
    {
      "cell_type": "markdown",
      "metadata": {
        "id": "d_yGB-zWji8e"
      },
      "source": [
        "# Data preparation"
      ]
    },
    {
      "cell_type": "code",
      "execution_count": 5,
      "metadata": {
        "id": "fjGFGUL5ji8f"
      },
      "outputs": [],
      "source": [
        "# Fix states\n",
        "sklearn_random_state = 42\n",
        "numpy_seed = 42\n",
        "\n",
        "np.random.seed(numpy_seed)"
      ]
    },
    {
      "cell_type": "code",
      "execution_count": 6,
      "metadata": {
        "id": "ba7q6jrYji8h",
        "outputId": "446a43a6-4f9e-4e59-bc0c-361ede81cdd4",
        "colab": {
          "base_uri": "https://localhost:8080/",
          "height": 0
        }
      },
      "outputs": [
        {
          "output_type": "stream",
          "name": "stdout",
          "text": [
            "Data shape: X: (50, 2), Y: (50,)\n"
          ]
        },
        {
          "output_type": "display_data",
          "data": {
            "text/plain": [
              "<Figure size 432x288 with 1 Axes>"
            ],
            "image/png": "[encoded data removed]"
          },
          "metadata": {
            "needs_background": "light"
          }
        }
      ],
      "source": [
        "X, Y = make_blobs(\n",
        "    n_samples = DataProperties.n_samples,\n",
        "    centers = DataProperties.n_clusters,\n",
        "    n_features = DataProperties.n_dims,\n",
        "    random_state = sklearn_random_state\n",
        ")\n",
        "Y = Y.astype('float64')\n",
        "clusters = np.unique(Y)\n",
        "\n",
        "print(f'Data shape: X: {X.shape}, Y: {Y.shape}')\n",
        "plot_clusters(X, Y)"
      ]
    },
    {
      "cell_type": "markdown",
      "metadata": {
        "id": "3euoJu6uji8i"
      },
      "source": [
        "## Unlabel subset and visualize"
      ]
    },
    {
      "cell_type": "code",
      "execution_count": 7,
      "metadata": {
        "id": "Q_Gd7FQhji8j",
        "outputId": "c7f236d6-14cf-470f-b819-9a3de9a4a13a",
        "colab": {
          "base_uri": "https://localhost:8080/",
          "height": 0
        }
      },
      "outputs": [
        {
          "output_type": "stream",
          "name": "stdout",
          "text": [
            "Found 25 instances of object 0.0\n",
            "We have to delabel 23 instances\n",
            "Found 25 instances of object 1.0\n",
            "We have to delabel 23 instances\n",
            "\n",
            "    We have 46 unlabeled data\n",
            "    Out of 50\n",
            "    \n"
          ]
        },
        {
          "output_type": "display_data",
          "data": {
            "text/plain": [
              "<Figure size 432x288 with 1 Axes>"
            ],
            "image/png": "[encoded data removed]"
          },
          "metadata": {
            "needs_background": "light"
          }
        }
      ],
      "source": [
        "Y_delabeled = delabel_data(\n",
        "    Y,\n",
        "    labeled_percent = DataProperties.labeled_percentage,\n",
        "    delabel_value = DataProperties.unlabeled\n",
        ")\n",
        "\n",
        "print(\n",
        "    f'''\n",
        "    We have {len(Y_delabeled[Y_delabeled == DataProperties.unlabeled])} unlabeled data\n",
        "    Out of {len(Y_delabeled)}\n",
        "    '''\n",
        ")\n",
        "\n",
        "plot_clusters(X, Y_delabeled)"
      ]
    },
    {
      "cell_type": "markdown",
      "metadata": {
        "id": "kXobOU1Oji8j"
      },
      "source": [
        "- Up to now, we have the clustered data, saved correct labelling (Y) and delabelled data (Y_delabelled)\n",
        "- For the unlabelled y variables, the loss function depends on the (y_1, ..., y_U) unlabeled parameters. Each of the\n",
        "parameters is independent on others, and can be 0 or 1 (for **binary clustering problem**). This is why we will be searching\n",
        "for **optimal solution in the R^(U)** space, which yields minimum to the **loss function**"
      ]
    },
    {
      "cell_type": "code",
      "execution_count": 8,
      "metadata": {
        "id": "8bywWUfPji8k"
      },
      "outputs": [],
      "source": [
        "import collections\n",
        "class_stats = collections.Counter(Y_delabeled)\n",
        "assert(len(class_stats.keys()) == 3)  # 2 labeled classes and 1 unlabeled"
      ]
    },
    {
      "cell_type": "markdown",
      "source": [
        "# Gradient descent"
      ],
      "metadata": {
        "id": "a8p9YRMLnWHy"
      }
    },
    {
      "cell_type": "code",
      "execution_count": null,
      "metadata": {
        "id": "hYtCWDXkji8k"
      },
      "outputs": [],
      "source": [
        "solver = GradientDescentSolver(\n",
        "    similarity_func = None, # euclidian_similarity,\n",
        "    lr_strategy = 'lr_constant',  # search for alpha_k\n",
        "    learning_rate = 0.001\n",
        ")"
      ]
    },
    {
      "cell_type": "code",
      "execution_count": null,
      "metadata": {
        "id": "ovZHhdxkji8l",
        "outputId": "8e017268-b22b-49ef-9eac-5252106762d3",
        "colab": {
          "base_uri": "https://localhost:8080/"
        }
      },
      "outputs": [
        {
          "output_type": "stream",
          "name": "stdout",
          "text": [
            "Loss: 25.133279635517184, delta loss: 25.133279635517184\n",
            "Loss: 24.692046825881985, delta loss: 0.4412328096351992\n",
            "Loss: 24.298667083853772, delta loss: 0.3933797420282126\n",
            "Loss: 23.94673438446902, delta loss: 0.3519326993847507\n",
            "Loss: 23.63077100177023, delta loss: 0.31596338269879\n",
            "Loss: 23.346088146351793, delta loss: 0.2846828554184384\n",
            "Loss: 23.08866792244849, delta loss: 0.25742022390330277\n",
            "Loss: 22.855063307403576, delta loss: 0.23360461504491425\n",
            "Loss: 22.642313369598728, delta loss: 0.21274993780484763\n",
            "Loss: 22.447871373983205, delta loss: 0.19444199561552367\n",
            "Loss: 22.269543789721443, delta loss: 0.17832758426176198\n",
            "Loss: 22.105438522836014, delta loss: 0.1641052668854286\n",
            "Loss: 21.953920956937267, delta loss: 0.15151756589874665\n",
            "Loss: 21.8135766047739, delta loss: 0.1403443521633676\n",
            "Loss: 21.683179358736666, delta loss: 0.13039724603723357\n",
            "Loss: 21.561664484968123, delta loss: 0.1215148737685432\n",
            "Loss: 21.448105637880257, delta loss: 0.1135588470878659\n",
            "Loss: 21.34169528348301, delta loss: 0.10641035439724789\n",
            "Loss: 21.241728014166522, delta loss: 0.0999672693164868\n",
            "Loss: 21.147586317201903, delta loss: 0.09414169696461983\n",
            "Loss: 21.058728426467432, delta loss: 0.08885789073447015\n",
            "Loss: 20.97467794374997, delta loss: 0.08405048271746196\n",
            "Loss: 20.895014963995308, delta loss: 0.07966297975466219\n",
            "Loss: 20.819368479473873, delta loss: 0.0756464845214353\n",
            "Loss: 20.747409872164365, delta loss: 0.07195860730950798\n",
            "Loss: 20.678847332673815, delta loss: 0.06856253949055002\n",
            "Loss: 20.61342106857415, delta loss: 0.06542626409966346\n",
            "Loss: 20.550899185804088, delta loss: 0.06252188277006354\n",
            "Loss: 20.491074144368792, delta loss: 0.0598250414352961\n",
            "Loss: 20.433759704453585, delta loss: 0.05731443991520635\n",
            "Loss: 20.37878829167126, delta loss: 0.05497141278232576\n",
            "Loss: 20.32600872083984, delta loss: 0.05277957083141871\n",
            "Loss: 20.275284226733735, delta loss: 0.05072449410610602\n",
            "Loss: 20.226490757923436, delta loss: 0.04879346881029889\n",
            "Loss: 20.179515496323074, delta loss: 0.04697526160036247\n",
            "Loss: 20.13425557057946, delta loss: 0.045259925743614815\n",
            "Loss: 20.090616936127425, delta loss: 0.04363863445203364\n",
            "Loss: 20.048513398706724, delta loss: 0.04210353742070083\n",
            "Loss: 20.00786576152116, delta loss: 0.04064763718556463\n",
            "Loss: 19.968601079090252, delta loss: 0.03926468243090753\n",
            "Loss: 19.930652003286887, delta loss: 0.03794907580336471\n",
            "Loss: 19.89395620913876, delta loss: 0.03669579414812674\n",
            "Loss: 19.858455889734323, delta loss: 0.035500319404437874\n",
            "Loss: 19.8240973110938, delta loss: 0.03435857864052139\n",
            "Loss: 19.790830419142846, delta loss: 0.03326689195095511\n",
            "Loss: 19.758608492031698, delta loss: 0.032221927111148574\n",
            "Loss: 19.727387831978277, delta loss: 0.031220660053421057\n",
            "Loss: 19.697127491615085, delta loss: 0.03026034036319203\n",
            "Loss: 19.66778903050768, delta loss: 0.0293384611074039\n",
            "Loss: 19.639336298099895, delta loss: 0.028452732407785675\n",
            "Loss: 19.611735239840964, delta loss: 0.027601058258930777\n",
            "Loss: 19.58495372368745, delta loss: 0.026781516153516094\n",
            "Loss: 19.55896138453914, delta loss: 0.025992339148309895\n",
            "Loss: 19.533729484490888, delta loss: 0.02523190004825082\n",
            "Loss: 19.509230787052346, delta loss: 0.02449869743854194\n",
            "Loss: 19.485439443730176, delta loss: 0.023791343322169922\n",
            "Loss: 19.462330891564193, delta loss: 0.023108552165982843\n",
            "Loss: 19.43988176039355, delta loss: 0.02244913117064229\n",
            "Loss: 19.418069788774435, delta loss: 0.02181197161911541\n",
            "Loss: 19.396873747606037, delta loss: 0.02119604116839824\n"
          ]
        }
      ],
      "source": [
        "Y_preds_GD = solver.solve(\n",
        "    X,\n",
        "    Y_delabeled,\n",
        "    iter_limit = 60,\n",
        "    delta_loss_limit = 0.001\n",
        ")"
      ]
    },
    {
      "cell_type": "code",
      "execution_count": null,
      "metadata": {
        "id": "RNwF4Xw1ji8l",
        "outputId": "3bdf152d-fe6f-4fff-cc1e-381c4335f03a",
        "colab": {
          "base_uri": "https://localhost:8080/",
          "height": 530
        }
      },
      "outputs": [
        {
          "output_type": "stream",
          "name": "stdout",
          "text": [
            "Accuracy: 1.0\n"
          ]
        },
        {
          "output_type": "display_data",
          "data": {
            "text/plain": [
              "<Figure size 432x288 with 1 Axes>"
            ],
            "image/png": "[encoded data removed]"
          },
          "metadata": {
            "needs_background": "light"
          }
        },
        {
          "output_type": "display_data",
          "data": {
            "text/plain": [
              "<Figure size 432x288 with 1 Axes>"
            ],
            "image/png": "[encoded data removed]"
          },
          "metadata": {
            "needs_background": "light"
          }
        }
      ],
      "source": [
        "plot_clusters(X, Y)\n",
        "plot_clusters(X, Y_preds_GD)\n",
        "print(f'Accuracy: {accuracy_score(Y, Y_preds_GD)}')"
      ]
    },
    {
      "cell_type": "code",
      "execution_count": null,
      "metadata": {
        "id": "kkBkvHBUji8m",
        "outputId": "c6602995-3fea-47d0-e74d-44e924c3fa44",
        "colab": {
          "base_uri": "https://localhost:8080/",
          "height": 265
        }
      },
      "outputs": [
        {
          "output_type": "display_data",
          "data": {
            "text/plain": [
              "<Figure size 432x288 with 1 Axes>"
            ],
            "image/png": "[encoded data removed]"
          },
          "metadata": {
            "needs_background": "light"
          }
        }
      ],
      "source": [
        "plt.plot(solver.losses, marker = 'o')\n",
        "plt.grid()"
      ]
    },
    {
      "cell_type": "markdown",
      "metadata": {
        "id": "GP5tfHQAji8m"
      },
      "source": [
        "# Block coordinates gradient descent (randomized)"
      ]
    },
    {
      "cell_type": "markdown",
      "metadata": {
        "id": "cCyQ8hkUji8m"
      },
      "source": [
        "## BCGD random permutations"
      ]
    },
    {
      "cell_type": "code",
      "execution_count": null,
      "metadata": {
        "id": "4-b49qQUji8n"
      },
      "outputs": [],
      "source": [
        "random_solver = BCGDSolver(\n",
        "    lr_strategy = 'lr_constant',\n",
        "    learning_rate = 0.001,\n",
        "    similarity_func = None,\n",
        "\n",
        "    bcgd_strategy = 'random permutation',\n",
        ")"
      ]
    },
    {
      "cell_type": "code",
      "execution_count": null,
      "metadata": {
        "id": "DcYrVUNwji8n",
        "outputId": "f4a72f94-4000-4b93-e90a-c4430c0780e2",
        "colab": {
          "base_uri": "https://localhost:8080/"
        }
      },
      "outputs": [
        {
          "output_type": "stream",
          "name": "stdout",
          "text": [
            "LOSS: 25.133279635517184, Delta: 25.133279635517184\n",
            "LOSS: 24.688928750090955, Delta: 0.44435088542622836\n",
            "LOSS: 24.292725580060836, Delta: 0.3962031700301196\n",
            "LOSS: 23.93822644247524, Delta: 0.35449913758559504\n",
            "LOSS: 23.619920152143496, Delta: 0.3183062903317442\n",
            "LOSS: 23.333126971203544, Delta: 0.2867931809399522\n",
            "LOSS: 23.07386347502288, Delta: 0.25926349618066524\n",
            "LOSS: 22.83861299299209, Delta: 0.23525048203078924\n",
            "LOSS: 22.624349392595477, Delta: 0.21426360039661319\n",
            "LOSS: 22.42852676341245, Delta: 0.19582262918302717\n",
            "LOSS: 22.248947605654802, Delta: 0.17957915775764732\n",
            "LOSS: 22.083713921282524, Delta: 0.1652336843722786\n",
            "LOSS: 21.931181217513227, Delta: 0.15253270376929606\n",
            "LOSS: 21.789917954998117, Delta: 0.14126326251511045\n",
            "LOSS: 21.65871223556772, Delta: 0.1312057194303975\n",
            "LOSS: 21.536506140712113, Delta: 0.1222060948556063\n",
            "LOSS: 21.422344619116146, Delta: 0.11416152159596749\n",
            "LOSS: 21.315401594228238, Delta: 0.10694302488790797\n",
            "LOSS: 21.21497428270711, Delta: 0.10042731152112694\n",
            "LOSS: 21.12043697262195, Delta: 0.09453731008516186\n",
            "LOSS: 21.031242213052856, Delta: 0.08919475956909295\n",
            "LOSS: 20.946908830955064, Delta: 0.08433338209779251\n",
            "LOSS: 20.867012581810513, Delta: 0.07989624914455007\n",
            "LOSS: 20.79117879712559, Delta: 0.07583378468492441\n",
            "LOSS: 20.71907083249581, Delta: 0.07210796462977953\n",
            "LOSS: 20.650390010805502, Delta: 0.06868082169030743\n",
            "LOSS: 20.58487869546624, Delta: 0.06551131533926124\n",
            "LOSS: 20.522302622407192, Delta: 0.06257607305904855\n",
            "LOSS: 20.46245086536246, Delta: 0.05985175704473278\n",
            "LOSS: 20.405131571514072, Delta: 0.057319293848387076\n",
            "LOSS: 20.350174682752606, Delta: 0.05495688876146687\n",
            "LOSS: 20.29742752486282, Delta: 0.05274715788978668\n",
            "LOSS: 20.246755681560963, Delta: 0.050671843301856256\n",
            "LOSS: 20.198032461957858, Delta: 0.04872321960310444\n",
            "LOSS: 20.151142547209282, Delta: 0.046889914748575734\n",
            "LOSS: 20.105982332337778, Delta: 0.04516021487150468\n",
            "LOSS: 20.062458212152013, Delta: 0.043524120185765014\n",
            "LOSS: 20.02048132397766, Delta: 0.04197688817435363\n",
            "LOSS: 19.97997119328431, Delta: 0.040510130693348856\n",
            "LOSS: 19.940853348743037, Delta: 0.03911784454127343\n",
            "LOSS: 19.903061107743007, Delta: 0.0377922410000302\n",
            "LOSS: 19.866532165512346, Delta: 0.03652894223066028\n",
            "LOSS: 19.831207788640288, Delta: 0.03532437687205814\n",
            "LOSS: 19.797032701971375, Delta: 0.034175086668913224\n",
            "LOSS: 19.763956568143954, Delta: 0.03307613382742147\n",
            "LOSS: 19.731933351229927, Delta: 0.032023216914026875\n",
            "LOSS: 19.70091942672138, Delta: 0.031013924508545898\n",
            "LOSS: 19.670873020111863, Delta: 0.030046406609518073\n",
            "LOSS: 19.641755289521992, Delta: 0.02911773058987066\n",
            "LOSS: 19.61352923873774, Delta: 0.028226050784251555\n"
          ]
        }
      ],
      "source": [
        "Y_preds_BCGD_permutation = random_solver.solve(\n",
        "    X,\n",
        "    Y_delabeled,\n",
        "    iter_limit = 50,\n",
        "    delta_loss_limit = 0.008\n",
        ")"
      ]
    },
    {
      "cell_type": "code",
      "execution_count": null,
      "metadata": {
        "id": "6KwW3-WNji8n",
        "outputId": "164ff5d2-f3e2-43aa-bcbc-ede435e40654",
        "colab": {
          "base_uri": "https://localhost:8080/",
          "height": 530
        }
      },
      "outputs": [
        {
          "output_type": "stream",
          "name": "stdout",
          "text": [
            "Accuracy: 1.0\n"
          ]
        },
        {
          "output_type": "display_data",
          "data": {
            "text/plain": [
              "<Figure size 432x288 with 1 Axes>"
            ],
            "image/png": "[encoded data removed]"
          },
          "metadata": {
            "needs_background": "light"
          }
        },
        {
          "output_type": "display_data",
          "data": {
            "text/plain": [
              "<Figure size 432x288 with 1 Axes>"
            ],
            "image/png": "[encoded data removed]"
          },
          "metadata": {
            "needs_background": "light"
          }
        }
      ],
      "source": [
        "plot_clusters(X, Y)\n",
        "plot_clusters(X, Y_preds_BCGD_permutation)\n",
        "print(f'Accuracy: {accuracy_score(Y, Y_preds_BCGD_permutation)}')"
      ]
    },
    {
      "cell_type": "code",
      "execution_count": null,
      "metadata": {
        "id": "RJVEaOaBji8n",
        "outputId": "e9d4f317-c864-4358-bcec-df1f594d4eb8",
        "colab": {
          "base_uri": "https://localhost:8080/",
          "height": 265
        }
      },
      "outputs": [
        {
          "output_type": "display_data",
          "data": {
            "text/plain": [
              "<Figure size 432x288 with 1 Axes>"
            ],
            "image/png": "[encoded data removed]"
          },
          "metadata": {
            "needs_background": "light"
          }
        }
      ],
      "source": [
        "plt.plot(random_solver.losses, marker = 'o')\n",
        "plt.grid()"
      ]
    },
    {
      "cell_type": "markdown",
      "metadata": {
        "id": "H3EP1xPTji8o"
      },
      "source": [
        "## BCGD random sampling"
      ]
    },
    {
      "cell_type": "code",
      "execution_count": 15,
      "metadata": {
        "id": "Np9yEf8Qji8o"
      },
      "outputs": [],
      "source": [
        "BCGD_RS_solver = BCGDSolver(\n",
        "    lr_strategy = 'lr_constant',\n",
        "    learning_rate = 0.0001,\n",
        "    similarity_func = None,\n",
        "\n",
        "    bcgd_strategy = 'random sampling'\n",
        ")"
      ]
    },
    {
      "cell_type": "code",
      "execution_count": 16,
      "metadata": {
        "id": "d7DWIY39ji8o",
        "outputId": "e43c49d8-d939-4997-c622-ee10f3e11a1f",
        "colab": {
          "base_uri": "https://localhost:8080/"
        }
      },
      "outputs": [
        {
          "output_type": "stream",
          "name": "stdout",
          "text": [
            "LOSS: 25.133279635517184, Delta: 25.133279635517184\n",
            "LOSS: 25.133215109090905, Delta: 6.45264262786327e-05\n",
            "LOSS: 25.13256666219017, Delta: 0.0006484469007332905\n",
            "LOSS: 25.099869719395276, Delta: 0.03269694279489599\n",
            "LOSS: 25.099805750890532, Delta: 6.396850474388316e-05\n",
            "LOSS: 25.099771772874846, Delta: 3.39780156863867e-05\n",
            "LOSS: 25.099675138870648, Delta: 9.663400419768209e-05\n",
            "LOSS: 25.09896068912124, Delta: 0.0007144497494095958\n",
            "LOSS: 25.098922576640916, Delta: 3.811248032192793e-05\n",
            "LOSS: 25.098352798218713, Delta: 0.0005697784222036262\n",
            "LOSS: 25.09550412269759, Delta: 0.0028486755211218906\n",
            "LOSS: 25.095335737952663, Delta: 0.00016838474492786304\n",
            "LOSS: 25.09530554641377, Delta: 3.0191538893831193e-05\n",
            "LOSS: 25.09518866551404, Delta: 0.0001168808997284998\n",
            "LOSS: 25.094481324232788, Delta: 0.0007073412812523827\n",
            "LOSS: 25.094370656073647, Delta: 0.00011066815914162476\n",
            "LOSS: 25.094261503096664, Delta: 0.00010915297698232962\n",
            "LOSS: 25.094128779599085, Delta: 0.00013272349757897928\n",
            "LOSS: 25.093805898863135, Delta: 0.0003228807359505481\n",
            "LOSS: 25.061592069940506, Delta: 0.03221382892262881\n",
            "LOSS: 25.06149583725893, Delta: 9.623268157454845e-05\n",
            "LOSS: 25.05865637947239, Delta: 0.0028394577865427095\n",
            "LOSS: 25.05814021843224, Delta: 0.0005161610401493988\n",
            "LOSS: 25.05775916257389, Delta: 0.0003810558583481338\n",
            "LOSS: 25.05772005933047, Delta: 3.9103243420157696e-05\n",
            "LOSS: 25.057686087192497, Delta: 3.3972137973847794e-05\n",
            "LOSS: 25.05748434973875, Delta: 0.000201737453746631\n",
            "LOSS: 25.057222915992735, Delta: 0.00026143374601517166\n",
            "LOSS: 25.057011842866086, Delta: 0.00021107312664980782\n",
            "LOSS: 25.056974769856087, Delta: 3.707300999877816e-05\n",
            "LOSS: 25.055927815090488, Delta: 0.0010469547655986844\n",
            "LOSS: 25.05572872748374, Delta: 0.00019908760674880455\n",
            "LOSS: 25.055610718555556, Delta: 0.00011800892818314423\n",
            "LOSS: 25.055567032855418, Delta: 4.368570013824069e-05\n",
            "LOSS: 25.055450471249483, Delta: 0.00011656160593531695\n",
            "LOSS: 25.055362353871093, Delta: 8.811737838954059e-05\n",
            "LOSS: 25.055324116989205, Delta: 3.8236881888309426e-05\n",
            "LOSS: 25.055127866312755, Delta: 0.00019625067644923888\n",
            "LOSS: 25.055079861801484, Delta: 4.800451127096039e-05\n",
            "LOSS: 25.054569132988117, Delta: 0.0005107288133672228\n",
            "LOSS: 25.054382523124797, Delta: 0.00018660986332008633\n",
            "LOSS: 25.053913688630907, Delta: 0.00046883449389056864\n",
            "LOSS: 25.053774202961705, Delta: 0.0001394856692016333\n",
            "LOSS: 25.053710124442805, Delta: 6.407851889989047e-05\n",
            "LOSS: 25.05351639800884, Delta: 0.00019372643396664557\n",
            "LOSS: 25.053099317178507, Delta: 0.00041708083033142884\n",
            "LOSS: 25.052720489693954, Delta: 0.0003788274845533124\n",
            "LOSS: 25.052551144831618, Delta: 0.00016934486233566304\n",
            "LOSS: 25.052499251729415, Delta: 5.1893102202882346e-05\n",
            "LOSS: 25.05246437729334, Delta: 3.487443607497198e-05\n",
            "LOSS: 25.05227252544465, Delta: 0.00019185184869030536\n",
            "LOSS: 25.05225790172903, Delta: 1.4623715621553401e-05\n",
            "LOSS: 25.052214252332735, Delta: 4.364939629297737e-05\n",
            "LOSS: 25.052095465697676, Delta: 0.0001187866350598199\n",
            "LOSS: 25.05105658328534, Delta: 0.0010388824123346296\n",
            "LOSS: 25.050871000399464, Delta: 0.00018558288587655625\n",
            "LOSS: 25.019131564147763, Delta: 0.03173943625170139\n",
            "LOSS: 25.019021957255628, Delta: 0.00010960689213490582\n",
            "LOSS: 25.018982835490252, Delta: 3.912176537568257e-05\n",
            "LOSS: 25.018865191789818, Delta: 0.00011764370043465533\n",
            "LOSS: 24.98761554701234, Delta: 0.03124964477747838\n",
            "LOSS: 24.987602742276785, Delta: 1.2804735554539093e-05\n",
            "LOSS: 24.987558763849766, Delta: 4.397842701919785e-05\n",
            "LOSS: 24.986723478367487, Delta: 0.0008352854822781808\n",
            "LOSS: 24.986671431996808, Delta: 5.2046370679903475e-05\n",
            "LOSS: 24.986627888713535, Delta: 4.354328327238477e-05\n",
            "LOSS: 24.98559992697745, Delta: 0.0010279617360851034\n",
            "LOSS: 24.985388864178663, Delta: 0.00021106279878679857\n",
            "LOSS: 24.985354089197955, Delta: 3.4774980708363046e-05\n",
            "LOSS: 24.985245250033742, Delta: 0.00010883916421278172\n",
            "LOSS: 24.984844463439217, Delta: 0.0004007865945254707\n",
            "LOSS: 24.98401699289119, Delta: 0.0008274705480282307\n",
            "LOSS: 24.98398266101986, Delta: 3.433187132984017e-05\n",
            "LOSS: 24.98333678081278, Delta: 0.0006458802070774539\n",
            "LOSS: 24.983273084110614, Delta: 6.369670216699319e-05\n",
            "LOSS: 24.983178786867622, Delta: 9.42972429918143e-05\n",
            "LOSS: 24.98313964756876, Delta: 3.913929886323331e-05\n",
            "LOSS: 24.98257120420372, Delta: 0.0005684433650401388\n",
            "LOSS: 24.98253256561613, Delta: 3.863858758990091e-05\n",
            "LOSS: 24.98246954009829, Delta: 6.302551783932131e-05\n",
            "LOSS: 24.982208472501394, Delta: 0.00026106759689525916\n",
            "LOSS: 24.982170913107403, Delta: 3.755939399141539e-05\n",
            "LOSS: 24.982127521116755, Delta: 4.3391990647734247e-05\n",
            "LOSS: 24.98203126203574, Delta: 9.625908101540404e-05\n",
            "LOSS: 24.981895979077745, Delta: 0.00013528295799503098\n",
            "LOSS: 24.98186131401553, Delta: 3.4665062216276965e-05\n",
            "LOSS: 24.98183094360774, Delta: 3.0370407788637976e-05\n",
            "LOSS: 24.981268463415354, Delta: 0.0005624801923858058\n",
            "LOSS: 24.98080239898453, Delta: 0.000466064430824531\n",
            "LOSS: 24.98068507841548, Delta: 0.00011732056904989463\n",
            "LOSS: 24.980266858540084, Delta: 0.00041821987539591987\n",
            "LOSS: 24.97980623076192, Delta: 0.00046062777816402445\n",
            "LOSS: 24.978786602381167, Delta: 0.0010196283807530904\n",
            "LOSS: 24.978771807401994, Delta: 1.4794979172449985e-05\n",
            "LOSS: 24.9777625138586, Delta: 0.0010092935433938521\n",
            "LOSS: 24.977725265827907, Delta: 3.724803069360405e-05\n",
            "LOSS: 24.977607326958875, Delta: 0.00011793886903177508\n",
            "LOSS: 24.977421950744024, Delta: 0.0001853762148513738\n",
            "LOSS: 24.977373701416226, Delta: 4.824932779712299e-05\n",
            "LOSS: 24.9773306706543, Delta: 4.3030761926132755e-05\n"
          ]
        }
      ],
      "source": [
        "Y_preds_BCGD_sampling = BCGD_RS_solver.solve(\n",
        "    X = X, \n",
        "    Y = Y_delabeled, \n",
        "    iter_limit = 100,\n",
        "    delta_loss_limit = 0.0\n",
        ")"
      ]
    },
    {
      "cell_type": "code",
      "execution_count": 18,
      "metadata": {
        "id": "Hkiavnn4ji8p",
        "outputId": "48b8c06e-5ff7-46dd-c16d-5d73ae6be108",
        "colab": {
          "base_uri": "https://localhost:8080/",
          "height": 282
        }
      },
      "outputs": [
        {
          "output_type": "stream",
          "name": "stdout",
          "text": [
            "Accuracy: 0.96\n"
          ]
        },
        {
          "output_type": "display_data",
          "data": {
            "text/plain": [
              "<Figure size 432x288 with 1 Axes>"
            ],
            "image/png": "[encoded data removed]"
          },
          "metadata": {
            "needs_background": "light"
          }
        }
      ],
      "source": [
        "plot_clusters(\n",
        "    X, Y_preds_BCGD_sampling\n",
        ")\n",
        "print(f'Accuracy: {accuracy_score(Y, Y_preds_BCGD_sampling)}')"
      ]
    },
    {
      "cell_type": "code",
      "execution_count": 19,
      "metadata": {
        "id": "QYc5egcOji8p",
        "outputId": "a8e9bc58-48af-48d8-fedf-d3499c8b60f1",
        "colab": {
          "base_uri": "https://localhost:8080/",
          "height": 268
        }
      },
      "outputs": [
        {
          "output_type": "display_data",
          "data": {
            "text/plain": [
              "<Figure size 432x288 with 1 Axes>"
            ],
            "image/png": "[encoded data removed]"
          },
          "metadata": {
            "needs_background": "light"
          }
        }
      ],
      "source": [
        "plt.plot(BCGD_RS_solver.losses)\n",
        "plt.grid()"
      ]
    },
    {
      "cell_type": "markdown",
      "metadata": {
        "id": "AKCfR4boji8p"
      },
      "source": [
        "## BCGD cyclic"
      ]
    },
    {
      "cell_type": "code",
      "execution_count": null,
      "metadata": {
        "id": "9t1zhz2nji8p"
      },
      "outputs": [],
      "source": [
        "BCGD_cyclic_solver = BCGDSolver(\n",
        "    lr_strategy = 'lr_constant',\n",
        "    learning_rate = 0.001,\n",
        "    similarity_func = None,\n",
        "\n",
        "    bcgd_strategy = 'cyclic'\n",
        ")"
      ]
    },
    {
      "cell_type": "code",
      "execution_count": null,
      "metadata": {
        "id": "MTLrf9Hgji8p",
        "outputId": "8d886a1a-78df-4e40-b7ef-eaef7b39d192",
        "colab": {
          "base_uri": "https://localhost:8080/"
        }
      },
      "outputs": [
        {
          "output_type": "stream",
          "name": "stdout",
          "text": [
            "LOSS: 25.133279635517184, Delta: 25.133279635517184\n",
            "LOSS: 24.688868015546948, Delta: 0.4444116199702357\n",
            "LOSS: 24.292568602572377, Delta: 0.39629941297457094\n",
            "LOSS: 23.93796895469215, Delta: 0.354599647880228\n",
            "LOSS: 23.619581106339318, Delta: 0.31838784835283107\n",
            "LOSS: 23.332703530945338, Delta: 0.28687757539398007\n",
            "LOSS: 23.073304105379844, Delta: 0.2593994255654941\n",
            "LOSS: 22.83792084542067, Delta: 0.23538325995917475\n",
            "LOSS: 22.623577681859683, Delta: 0.21434316356098648\n",
            "LOSS: 22.427712969374213, Delta: 0.19586471248547\n",
            "LOSS: 22.248118777142274, Delta: 0.17959419223193862\n",
            "LOSS: 22.082889311591394, Delta: 0.1652294655508797\n",
            "LOSS: 21.930377076276837, Delta: 0.15251223531455693\n",
            "LOSS: 21.78915558898645, Delta: 0.14122148729038742\n",
            "LOSS: 21.657987657902584, Delta: 0.1311679310838656\n",
            "LOSS: 21.53579837222916, Delta: 0.12218928567342502\n",
            "LOSS: 21.42165209247579, Delta: 0.11414627975337055\n",
            "LOSS: 21.314732835299225, Delta: 0.10691925717656403\n",
            "LOSS: 21.21432754053694, Delta: 0.10040529476228599\n",
            "LOSS: 21.119811786483844, Delta: 0.09451575405309498\n",
            "LOSS: 21.03063758576808, Delta: 0.08917420071576387\n",
            "LOSS: 20.94632295027074, Delta: 0.0843146354973392\n",
            "LOSS: 20.86644296097117, Delta: 0.0798799892995703\n",
            "LOSS: 20.79062211875423, Delta: 0.07582084221694174\n",
            "LOSS: 20.718527786177948, Delta: 0.07209433257628106\n",
            "LOSS: 20.64986455897096, Delta: 0.06866322720698648\n",
            "LOSS: 20.58436943037331, Delta: 0.06549512859765017\n",
            "LOSS: 20.521807632058092, Delta: 0.06256179831521891\n",
            "LOSS: 20.46196905284869, Delta: 0.05983857920940139\n",
            "LOSS: 20.40466515124335, Delta: 0.05730390160534071\n",
            "LOSS: 20.34972629031846, Delta: 0.054938860924888644\n",
            "LOSS: 20.296999434213777, Delta: 0.05272685610468386\n",
            "LOSS: 20.246346154442087, Delta: 0.05065327977169076\n",
            "LOSS: 20.197640901914145, Delta: 0.04870525252794167\n",
            "LOSS: 20.15076950708154, Delta: 0.046871394832603386\n",
            "LOSS: 20.105627876116333, Delta: 0.04514163096520818\n",
            "LOSS: 20.06212085574345, Delta: 0.04350702037288201\n",
            "LOSS: 20.020161243326967, Delta: 0.04195961241648405\n",
            "LOSS: 19.97966892220314, Delta: 0.04049232112382839\n",
            "LOSS: 19.940570105143223, Delta: 0.0390988170599158\n",
            "LOSS: 19.9027966712804, Delta: 0.03777343386282439\n",
            "LOSS: 19.8662855839347, Delta: 0.036511087345697746\n",
            "LOSS: 19.830978378549027, Delta: 0.03530720538567422\n",
            "LOSS: 19.79682071147381, Delta: 0.034157667075216835\n",
            "LOSS: 19.76376196163536, Delta: 0.033058749838449586\n",
            "LOSS: 19.731754878236778, Delta: 0.03200708339858238\n",
            "LOSS: 19.70075526857927, Delta: 0.030999609657506255\n",
            "LOSS: 19.67072172091627, Delta: 0.03003354766300248\n",
            "LOSS: 19.64161535793494, Delta: 0.029106362981330847\n",
            "LOSS: 19.613399617060654, Delta: 0.028215740874284023\n"
          ]
        }
      ],
      "source": [
        "Y_preds_BCGD_cyclic = BCGD_cyclic_solver.solve(\n",
        "    X,\n",
        "    Y_delabeled, \n",
        "    iter_limit = 50, \n",
        "    delta_loss_limit = 0.0001\n",
        ")"
      ]
    },
    {
      "cell_type": "code",
      "execution_count": null,
      "metadata": {
        "id": "95Q50O22ji8q",
        "outputId": "641c3a44-c0ee-4b9b-c7a2-60c650bf6e59",
        "colab": {
          "base_uri": "https://localhost:8080/",
          "height": 282
        }
      },
      "outputs": [
        {
          "output_type": "stream",
          "name": "stdout",
          "text": [
            "Accuracy: 1.0\n"
          ]
        },
        {
          "output_type": "display_data",
          "data": {
            "text/plain": [
              "<Figure size 432x288 with 1 Axes>"
            ],
            "image/png": "[encoded data removed]"
          },
          "metadata": {
            "needs_background": "light"
          }
        }
      ],
      "source": [
        "print(f'Accuracy: {accuracy_score(Y_preds_BCGD_cyclic, Y)}')\n",
        "plot_clusters(\n",
        "    X, Y_preds_BCGD_cyclic\n",
        ")"
      ]
    },
    {
      "cell_type": "code",
      "execution_count": null,
      "metadata": {
        "id": "lpl60PJgji8q",
        "outputId": "6a739c84-48b4-423d-a867-42688fb18ba5",
        "colab": {
          "base_uri": "https://localhost:8080/"
        }
      },
      "outputs": [
        {
          "output_type": "execute_result",
          "data": {
            "text/plain": [
              "1.0"
            ]
          },
          "metadata": {},
          "execution_count": 50
        }
      ],
      "source": [
        "accuracy_score(Y, Y_preds_BCGD_cyclic)"
      ]
    },
    {
      "cell_type": "code",
      "execution_count": null,
      "metadata": {
        "id": "9w-wKchjji8q",
        "outputId": "bb03f390-a1f6-4ba6-e2d7-3e6a26e781d2",
        "colab": {
          "base_uri": "https://localhost:8080/",
          "height": 265
        }
      },
      "outputs": [
        {
          "output_type": "display_data",
          "data": {
            "text/plain": [
              "<Figure size 432x288 with 1 Axes>"
            ],
            "image/png": "[encoded data removed]"
          },
          "metadata": {
            "needs_background": "light"
          }
        }
      ],
      "source": [
        "plt.plot(BCGD_cyclic_solver.losses, marker = 'o')\n",
        "plt.grid()"
      ]
    },
    {
      "cell_type": "markdown",
      "metadata": {
        "id": "JE0wByBMji8q"
      },
      "source": [
        "# Model comparison"
      ]
    },
    {
      "cell_type": "markdown",
      "metadata": {
        "id": "swRV0Q4jji8q"
      },
      "source": [
        "We will compare models based on:\n",
        "- Clustering metrics\n",
        "- CPU time\n",
        "- Number of iterations\n",
        "- Loss curves\n",
        "- Distance metrics"
      ]
    },
    {
      "cell_type": "code",
      "execution_count": 9,
      "metadata": {
        "id": "1VaNQmYvji8q"
      },
      "outputs": [],
      "source": [
        "learning_rate_strategy = 'lr_constant'\n",
        "simil_func = None  # No feature yet\n",
        "lr = 0.001\n",
        "\n",
        "gd_solver = GradientDescentSolver(\n",
        "    similarity_func = simil_func,\n",
        "    lr_strategy = learning_rate_strategy,\n",
        "    learning_rate = lr\n",
        ")\n",
        "\n",
        "bcgd_permut_solver = BCGDSolver(\n",
        "    lr_strategy = learning_rate_strategy,\n",
        "    learning_rate = lr,\n",
        "    similarity_func = simil_func,\n",
        "    bcgd_strategy = 'random permutation',\n",
        ")\n",
        "\n",
        "bcgd_sampling_solver = BCGDSolver(\n",
        "    lr_strategy = learning_rate_strategy,\n",
        "    learning_rate = lr,\n",
        "    similarity_func = simil_func,\n",
        "    bcgd_strategy = 'random sampling',\n",
        ")\n",
        "\n",
        "bcgd_cyclic_solver = BCGDSolver(\n",
        "    lr_strategy = learning_rate_strategy,\n",
        "    learning_rate = lr,\n",
        "    similarity_func = simil_func,\n",
        "    bcgd_strategy = 'cyclic',\n",
        ")"
      ]
    },
    {
      "cell_type": "code",
      "execution_count": 28,
      "metadata": {
        "id": "qEjgEjiKji8r"
      },
      "outputs": [],
      "source": [
        "solvers = {\n",
        "    'GD': gd_solver,\n",
        "    'BCGD permutation': bcgd_permut_solver,\n",
        "    'BCGD cyclic': bcgd_cyclic_solver,\n",
        "    'BCGD sampling': bcgd_sampling_solver,\n",
        "}"
      ]
    },
    {
      "cell_type": "code",
      "execution_count": 29,
      "metadata": {
        "id": "hcChCMybji8r"
      },
      "outputs": [],
      "source": [
        "def compare_models(solvers_dict, X, Y_delabeled, iters_limit, delta_loss_limit):\n",
        "    predictions = {k:None for k in solvers_dict.keys()}\n",
        "    losses = {k:None for k in solvers_dict.keys()}\n",
        "    n_iterations = {k:None for k in solvers_dict.keys()}\n",
        "    cpu_times = {k:None for k in solvers_dict.keys()}\n",
        "\n",
        "    for model_name, model in solvers_dict.items():\n",
        "        start = timeit.default_timer()\n",
        "        Y_preds = model.solve(\n",
        "            X,\n",
        "            Y_delabeled,\n",
        "            iter_limit = iters_limit,\n",
        "            delta_loss_limit = delta_loss_limit\n",
        "        )\n",
        "        end = timeit.default_timer()\n",
        "        predictions[model_name] = Y_preds\n",
        "        losses[model_name] = model.losses\n",
        "        n_iterations[model_name] = model.n_iterations\n",
        "        cpu_times[model_name] = end - start\n",
        "    \n",
        "    # plot_accuracies(predictions)\n",
        "    # plot_losses(losses)\n",
        "    # plot_iterations(n_iterations)\n",
        "    # plot_cpu_times(cpu_times)\n",
        "\n",
        "    return predictions, losses, n_iterations, cpu_times"
      ]
    },
    {
      "cell_type": "code",
      "execution_count": 30,
      "metadata": {
        "id": "dLm9tU_sji8r",
        "outputId": "4360ef3e-25eb-4537-af63-32979bd354ba",
        "colab": {
          "base_uri": "https://localhost:8080/"
        }
      },
      "outputs": [
        {
          "output_type": "stream",
          "name": "stdout",
          "text": [
            "Loss: 25.133279635517184, delta loss: 25.133279635517184\n",
            "Loss: 24.692046825881985, delta loss: 0.4412328096351992\n",
            "Loss: 24.298667083853772, delta loss: 0.3933797420282126\n",
            "Loss: 23.94673438446902, delta loss: 0.3519326993847507\n",
            "Loss: 23.63077100177023, delta loss: 0.31596338269879\n",
            "Loss: 23.346088146351793, delta loss: 0.2846828554184384\n",
            "Loss: 23.08866792244849, delta loss: 0.25742022390330277\n",
            "Loss: 22.855063307403576, delta loss: 0.23360461504491425\n",
            "Loss: 22.642313369598728, delta loss: 0.21274993780484763\n",
            "Loss: 22.447871373983205, delta loss: 0.19444199561552367\n",
            "Loss: 22.269543789721443, delta loss: 0.17832758426176198\n",
            "Loss: 22.105438522836014, delta loss: 0.1641052668854286\n",
            "Loss: 21.953920956937267, delta loss: 0.15151756589874665\n",
            "Loss: 21.8135766047739, delta loss: 0.1403443521633676\n",
            "Loss: 21.683179358736666, delta loss: 0.13039724603723357\n",
            "Loss: 21.561664484968123, delta loss: 0.1215148737685432\n",
            "Loss: 21.448105637880257, delta loss: 0.1135588470878659\n",
            "Loss: 21.34169528348301, delta loss: 0.10641035439724789\n",
            "Loss: 21.241728014166522, delta loss: 0.0999672693164868\n",
            "Loss: 21.147586317201903, delta loss: 0.09414169696461983\n",
            "Loss: 21.058728426467432, delta loss: 0.08885789073447015\n",
            "Loss: 20.97467794374997, delta loss: 0.08405048271746196\n",
            "Loss: 20.895014963995308, delta loss: 0.07966297975466219\n",
            "Loss: 20.819368479473873, delta loss: 0.0756464845214353\n",
            "Loss: 20.747409872164365, delta loss: 0.07195860730950798\n",
            "Loss: 20.678847332673815, delta loss: 0.06856253949055002\n",
            "Loss: 20.61342106857415, delta loss: 0.06542626409966346\n",
            "Loss: 20.550899185804088, delta loss: 0.06252188277006354\n",
            "Loss: 20.491074144368792, delta loss: 0.0598250414352961\n",
            "Loss: 20.433759704453585, delta loss: 0.05731443991520635\n",
            "Loss: 20.37878829167126, delta loss: 0.05497141278232576\n",
            "Loss: 20.32600872083984, delta loss: 0.05277957083141871\n",
            "Loss: 20.275284226733735, delta loss: 0.05072449410610602\n",
            "Loss: 20.226490757923436, delta loss: 0.04879346881029889\n",
            "Loss: 20.179515496323074, delta loss: 0.04697526160036247\n",
            "Loss: 20.13425557057946, delta loss: 0.045259925743614815\n",
            "Loss: 20.090616936127425, delta loss: 0.04363863445203364\n",
            "Loss: 20.048513398706724, delta loss: 0.04210353742070083\n",
            "Loss: 20.00786576152116, delta loss: 0.04064763718556463\n",
            "Loss: 19.968601079090252, delta loss: 0.03926468243090753\n",
            "Loss: 19.930652003286887, delta loss: 0.03794907580336471\n",
            "Loss: 19.89395620913876, delta loss: 0.03669579414812674\n",
            "Loss: 19.858455889734323, delta loss: 0.035500319404437874\n",
            "Loss: 19.8240973110938, delta loss: 0.03435857864052139\n",
            "Loss: 19.790830419142846, delta loss: 0.03326689195095511\n",
            "Loss: 19.758608492031698, delta loss: 0.032221927111148574\n",
            "Loss: 19.727387831978277, delta loss: 0.031220660053421057\n",
            "Loss: 19.697127491615085, delta loss: 0.03026034036319203\n",
            "Loss: 19.66778903050768, delta loss: 0.0293384611074039\n",
            "Loss: 19.639336298099895, delta loss: 0.028452732407785675\n",
            "Loss: 19.611735239840964, delta loss: 0.027601058258930777\n",
            "Loss: 19.58495372368745, delta loss: 0.026781516153516094\n",
            "Loss: 19.55896138453914, delta loss: 0.025992339148309895\n",
            "Loss: 19.533729484490888, delta loss: 0.02523190004825082\n",
            "Loss: 19.509230787052346, delta loss: 0.02449869743854194\n",
            "Loss: 19.485439443730176, delta loss: 0.023791343322169922\n",
            "Loss: 19.462330891564193, delta loss: 0.023108552165982843\n",
            "Loss: 19.43988176039355, delta loss: 0.02244913117064229\n",
            "Loss: 19.418069788774435, delta loss: 0.02181197161911541\n",
            "Loss: 19.396873747606037, delta loss: 0.02119604116839824\n",
            "Loss: 19.376273370636426, delta loss: 0.020600376969611034\n",
            "Loss: 19.356249291118495, delta loss: 0.02002407951793117\n",
            "Loss: 19.33678298397357, delta loss: 0.019466307144924144\n",
            "Loss: 19.31785671289258, delta loss: 0.01892627108098921\n",
            "Loss: 19.299453481876935, delta loss: 0.01840323101564678\n",
            "Loss: 19.281556990769392, delta loss: 0.017896491107542545\n",
            "Loss: 19.264151594385485, delta loss: 0.017405396383907146\n",
            "Loss: 19.247222264892255, delta loss: 0.016929329493230227\n",
            "Loss: 19.230754557121962, delta loss: 0.016467707770292606\n",
            "Loss: 19.21473457654447, delta loss: 0.016019980577492987\n",
            "Loss: 19.19914894965204, delta loss: 0.015585626892427484\n",
            "Loss: 19.183984796527742, delta loss: 0.015164153124299418\n",
            "Loss: 19.169229705408675, delta loss: 0.014755091119067032\n",
            "Loss: 19.154871709057865, delta loss: 0.014357996350810254\n",
            "Loss: 19.14089926278884, delta loss: 0.013972446269026051\n",
            "Loss: 19.12730122399982, delta loss: 0.013598038789019995\n",
            "Loss: 19.114066833085598, delta loss: 0.01323439091422074\n",
            "Loss: 19.10118569561204, delta loss: 0.01288113747355979\n",
            "Loss: 19.088647765648027, delta loss: 0.012537929964011596\n",
            "Loss: 19.07644333016101, delta loss: 0.012204435487017662\n",
            "Loss: 19.064562994384072, delta loss: 0.01188033577693659\n",
            "Loss: 19.05299766808645, delta loss: 0.01156532629762097\n",
            "Loss: 19.041738552666803, delta loss: 0.01125911541964797\n",
            "Loss: 19.03077712901164, delta loss: 0.010961423655164282\n",
            "Loss: 19.020105146057745, delta loss: 0.010671982953894599\n",
            "Loss: 19.009714610005336, delta loss: 0.010390536052408805\n",
            "Loss: 18.99959777413373, delta loss: 0.010116835871606611\n",
            "Loss: 18.98974712917734, delta loss: 0.009850644956390653\n",
            "Loss: 18.980155394217675, delta loss: 0.009591734959663256\n",
            "Loss: 18.97081550805729, delta loss: 0.009339886160386612\n",
            "Loss: 18.961720621041298, delta loss: 0.009094887015990594\n",
            "Loss: 18.952864087295197, delta loss: 0.008856533746101292\n",
            "Loss: 18.944239457351657, delta loss: 0.008624629943540185\n",
            "Loss: 18.935840471136796, delta loss: 0.008398986214860571\n",
            "Loss: 18.927661051297708, delta loss: 0.008179419839088098\n",
            "Loss: 18.919695296844118, delta loss: 0.007965754453589824\n",
            "Loss: 18.911937477085623, delta loss: 0.007757819758495543\n",
            "Loss: 18.904382025848385, delta loss: 0.007555451237237776\n",
            "Loss: 18.89702353594856, delta loss: 0.007358489899825571\n",
            "Loss: 18.889856753912355, delta loss: 0.0071667820362044665\n",
            "LOSS: 25.133279635517184, Delta: 25.133279635517184\n",
            "LOSS: 24.688847979086315, Delta: 0.44443165643086857\n",
            "LOSS: 24.292489506272037, Delta: 0.3963584728142777\n",
            "LOSS: 23.937818685809265, Delta: 0.354670820462772\n",
            "LOSS: 23.619415511253624, Delta: 0.31840317455564104\n",
            "LOSS: 23.332609768569768, Delta: 0.28680574268385683\n",
            "LOSS: 23.07328097972261, Delta: 0.2593287888471565\n",
            "LOSS: 22.83796922364618, Delta: 0.23531175607643107\n",
            "LOSS: 22.623731141942685, Delta: 0.21423808170349545\n",
            "LOSS: 22.427990530731044, Delta: 0.19574061121164021\n",
            "LOSS: 22.24852490915833, Delta: 0.17946562157271373\n",
            "LOSS: 22.083406353526616, Delta: 0.16511855563171451\n",
            "LOSS: 21.930969429317305, Delta: 0.15243692420931154\n",
            "LOSS: 21.78978841497525, Delta: 0.141181014342056\n",
            "LOSS: 21.658632233705156, Delta: 0.131156181270093\n",
            "LOSS: 21.53644829188568, Delta: 0.12218394181947545\n",
            "LOSS: 21.422307133795652, Delta: 0.11414115809002823\n",
            "LOSS: 21.315386563344664, Delta: 0.10692057045098835\n",
            "LOSS: 21.214981866029223, Delta: 0.10040469731544022\n",
            "LOSS: 21.120468646305543, Delta: 0.09451321972368021\n",
            "LOSS: 21.03128591124098, Delta: 0.08918273506456487\n",
            "LOSS: 20.946955006019635, Delta: 0.08433090522134279\n",
            "LOSS: 20.867054642668172, Delta: 0.079900363351463\n",
            "LOSS: 20.791214161610814, Delta: 0.07584048105735874\n",
            "LOSS: 20.719099072357785, Delta: 0.07211508925302823\n",
            "LOSS: 20.65040955088299, Delta: 0.0686895214747949\n",
            "LOSS: 20.584882791398726, Delta: 0.06552675948426412\n",
            "LOSS: 20.522287677738365, Delta: 0.06259511366036108\n",
            "LOSS: 20.462417850941694, Delta: 0.05986982679667108\n",
            "LOSS: 20.405084676195784, Delta: 0.05733317474591004\n",
            "LOSS: 20.350121634345676, Delta: 0.05496304185010814\n",
            "LOSS: 20.29737097365543, Delta: 0.05275066069024703\n",
            "LOSS: 20.246693690969106, Delta: 0.050677282686322656\n",
            "LOSS: 20.197964974809956, Delta: 0.04872871615915031\n",
            "LOSS: 20.151070266461147, Delta: 0.04689470834880893\n",
            "LOSS: 20.105906752008668, Delta: 0.04516351445247935\n",
            "LOSS: 20.06237840591456, Delta: 0.043528346094106496\n",
            "LOSS: 20.020398845483967, Delta: 0.04197956043059392\n",
            "LOSS: 19.979889825412318, Delta: 0.04050902007164936\n",
            "LOSS: 19.940777281025962, Delta: 0.03911254438635581\n",
            "LOSS: 19.902990894773673, Delta: 0.03778638625228936\n",
            "LOSS: 19.866467585455503, Delta: 0.03652330931817005\n",
            "LOSS: 19.831148509030275, Delta: 0.035319076425228246\n",
            "LOSS: 19.796980746842298, Delta: 0.03416776218797679\n",
            "LOSS: 19.76391188882096, Delta: 0.03306885802133763\n",
            "LOSS: 19.731893919633645, Delta: 0.03201796918731503\n",
            "LOSS: 19.700883639465452, Delta: 0.03101028016819285\n",
            "LOSS: 19.670840070637052, Delta: 0.030043568828400424\n",
            "LOSS: 19.641725326152574, Delta: 0.029114744484477484\n",
            "LOSS: 19.613502202953295, Delta: 0.028223123199278888\n",
            "LOSS: 19.586136199020142, Delta: 0.027366003933153138\n",
            "LOSS: 19.55959440121298, Delta: 0.02654179780716248\n",
            "LOSS: 19.533845431594152, Delta: 0.025748969618828\n",
            "LOSS: 19.508861302079232, Delta: 0.024984129514919573\n",
            "LOSS: 19.484613654345388, Delta: 0.024247647733844246\n",
            "LOSS: 19.46107675692849, Delta: 0.023536897416896352\n",
            "LOSS: 19.438225185535718, Delta: 0.02285157139277416\n",
            "LOSS: 19.416035439151926, Delta: 0.02218974638379123\n",
            "LOSS: 19.394485237683476, Delta: 0.021550201468450325\n",
            "LOSS: 19.373552958107165, Delta: 0.02093227957631072\n",
            "LOSS: 19.35321806600139, Delta: 0.020334892105775992\n",
            "LOSS: 19.33346092700052, Delta: 0.019757139000869728\n",
            "LOSS: 19.314263020341528, Delta: 0.01919790665899157\n",
            "LOSS: 19.29560631420802, Delta: 0.018656706133509005\n",
            "LOSS: 19.277473512789584, Delta: 0.018132801418435207\n",
            "LOSS: 19.25984798395514, Delta: 0.01762552883444357\n",
            "LOSS: 19.242714070000613, Delta: 0.017133913954527458\n",
            "LOSS: 19.226056519461917, Delta: 0.016657550538695887\n",
            "LOSS: 19.20986073645701, Delta: 0.016195783004906872\n",
            "LOSS: 19.19411231424353, Delta: 0.015748422213480495\n",
            "LOSS: 19.178798299479446, Delta: 0.015314014764083339\n",
            "LOSS: 19.16390512404006, Delta: 0.014893175439386397\n",
            "LOSS: 19.149420935171857, Delta: 0.014484188868202352\n",
            "LOSS: 19.13533293577457, Delta: 0.014087999397286666\n",
            "LOSS: 19.121629688487086, Delta: 0.013703247287484288\n",
            "LOSS: 19.108299855812966, Delta: 0.013329832674120468\n",
            "LOSS: 19.0953328515125, Delta: 0.012967004300467266\n",
            "LOSS: 19.082717514064885, Delta: 0.012615337447613229\n",
            "LOSS: 19.07044411406635, Delta: 0.012273399998534273\n",
            "LOSS: 19.058502855253764, Delta: 0.011941258812587563\n",
            "LOSS: 19.046884134021752, Delta: 0.011618721232011353\n",
            "LOSS: 19.03557892199058, Delta: 0.011305212031171408\n",
            "LOSS: 19.024578202756533, Delta: 0.011000719234047551\n",
            "LOSS: 19.01387326050181, Delta: 0.010704942254722738\n",
            "LOSS: 19.003456066746942, Delta: 0.010417193754868492\n",
            "LOSS: 18.993318250065524, Delta: 0.010137816681417888\n",
            "LOSS: 18.983452426382307, Delta: 0.0098658236832172\n",
            "LOSS: 18.973850570792326, Delta: 0.009601855589981056\n",
            "LOSS: 18.964505481360675, Delta: 0.009345089431651132\n",
            "LOSS: 18.955410155198685, Delta: 0.009095326161990158\n",
            "LOSS: 18.9465576628461, Delta: 0.008852492352584562\n",
            "LOSS: 18.9379411930321, Delta: 0.008616469814000993\n",
            "LOSS: 18.92955441397841, Delta: 0.008386779053690674\n",
            "LOSS: 18.92139084138075, Delta: 0.008163572597659652\n",
            "LOSS: 18.91344457064448, Delta: 0.007946270736269412\n",
            "LOSS: 18.905709480821777, Delta: 0.0077350898227024345\n",
            "LOSS: 18.898180107933346, Delta: 0.007529372888431141\n",
            "LOSS: 18.89085045785271, Delta: 0.0073296500806350195\n",
            "LOSS: 18.883715188040856, Delta: 0.007135269811854528\n",
            "LOSS: 18.87676931688888, Delta: 0.006945871151977201\n",
            "LOSS: 25.133279635517184, Delta: 25.133279635517184\n",
            "LOSS: 24.688868015546948, Delta: 0.4444116199702357\n",
            "LOSS: 24.292568602572377, Delta: 0.39629941297457094\n",
            "LOSS: 23.93796895469215, Delta: 0.354599647880228\n",
            "LOSS: 23.619581106339318, Delta: 0.31838784835283107\n",
            "LOSS: 23.332703530945338, Delta: 0.28687757539398007\n",
            "LOSS: 23.073304105379844, Delta: 0.2593994255654941\n",
            "LOSS: 22.83792084542067, Delta: 0.23538325995917475\n",
            "LOSS: 22.623577681859683, Delta: 0.21434316356098648\n",
            "LOSS: 22.427712969374213, Delta: 0.19586471248547\n",
            "LOSS: 22.248118777142274, Delta: 0.17959419223193862\n",
            "LOSS: 22.082889311591394, Delta: 0.1652294655508797\n",
            "LOSS: 21.930377076276837, Delta: 0.15251223531455693\n",
            "LOSS: 21.78915558898645, Delta: 0.14122148729038742\n",
            "LOSS: 21.657987657902584, Delta: 0.1311679310838656\n",
            "LOSS: 21.53579837222916, Delta: 0.12218928567342502\n",
            "LOSS: 21.42165209247579, Delta: 0.11414627975337055\n",
            "LOSS: 21.314732835299225, Delta: 0.10691925717656403\n",
            "LOSS: 21.21432754053694, Delta: 0.10040529476228599\n",
            "LOSS: 21.119811786483844, Delta: 0.09451575405309498\n",
            "LOSS: 21.03063758576808, Delta: 0.08917420071576387\n",
            "LOSS: 20.94632295027074, Delta: 0.0843146354973392\n",
            "LOSS: 20.86644296097117, Delta: 0.0798799892995703\n",
            "LOSS: 20.79062211875423, Delta: 0.07582084221694174\n",
            "LOSS: 20.718527786177948, Delta: 0.07209433257628106\n",
            "LOSS: 20.64986455897096, Delta: 0.06866322720698648\n",
            "LOSS: 20.58436943037331, Delta: 0.06549512859765017\n",
            "LOSS: 20.521807632058092, Delta: 0.06256179831521891\n",
            "LOSS: 20.46196905284869, Delta: 0.05983857920940139\n",
            "LOSS: 20.40466515124335, Delta: 0.05730390160534071\n",
            "LOSS: 20.34972629031846, Delta: 0.054938860924888644\n",
            "LOSS: 20.296999434213777, Delta: 0.05272685610468386\n",
            "LOSS: 20.246346154442087, Delta: 0.05065327977169076\n",
            "LOSS: 20.197640901914145, Delta: 0.04870525252794167\n",
            "LOSS: 20.15076950708154, Delta: 0.046871394832603386\n",
            "LOSS: 20.105627876116333, Delta: 0.04514163096520818\n",
            "LOSS: 20.06212085574345, Delta: 0.04350702037288201\n",
            "LOSS: 20.020161243326967, Delta: 0.04195961241648405\n",
            "LOSS: 19.97966892220314, Delta: 0.04049232112382839\n",
            "LOSS: 19.940570105143223, Delta: 0.0390988170599158\n",
            "LOSS: 19.9027966712804, Delta: 0.03777343386282439\n",
            "LOSS: 19.8662855839347, Delta: 0.036511087345697746\n",
            "LOSS: 19.830978378549027, Delta: 0.03530720538567422\n",
            "LOSS: 19.79682071147381, Delta: 0.034157667075216835\n",
            "LOSS: 19.76376196163536, Delta: 0.033058749838449586\n",
            "LOSS: 19.731754878236778, Delta: 0.03200708339858238\n",
            "LOSS: 19.70075526857927, Delta: 0.030999609657506255\n",
            "LOSS: 19.67072172091627, Delta: 0.03003354766300248\n",
            "LOSS: 19.64161535793494, Delta: 0.029106362981330847\n",
            "LOSS: 19.613399617060654, Delta: 0.028215740874284023\n",
            "LOSS: 19.586040054294568, Delta: 0.027359562766086754\n",
            "LOSS: 19.559504168723, Delta: 0.02653588557156894\n",
            "LOSS: 19.533761245221665, Delta: 0.025742923501333337\n",
            "LOSS: 19.50878221320129, Delta: 0.02497903202037577\n",
            "LOSS: 19.484539519513287, Delta: 0.024242693688002248\n",
            "LOSS: 19.46100701388715, Delta: 0.023532505626135958\n",
            "LOSS: 19.43815984546443, Delta: 0.02284716842272161\n",
            "LOSS: 19.41597436918491, Delta: 0.022185476279521055\n",
            "LOSS: 19.39442806093179, Delta: 0.021546308253117985\n",
            "LOSS: 19.373499440474617, Delta: 0.020928620457173253\n",
            "LOSS: 19.35316800136999, Delta: 0.02033143910462698\n",
            "LOSS: 19.33341414707666, Delta: 0.019753854293330875\n",
            "LOSS: 19.314219132637337, Delta: 0.019195014439322478\n",
            "LOSS: 19.295565011343214, Delta: 0.018654121294122916\n",
            "LOSS: 19.27743458587995, Delta: 0.01813042546326571\n",
            "LOSS: 19.259811363500198, Delta: 0.01762322237975056\n",
            "LOSS: 19.242679514822996, Delta: 0.0171318486772023\n",
            "LOSS: 19.226023835906446, Delta: 0.016655678916549732\n",
            "LOSS: 19.209829713278868, Delta: 0.01619412262757791\n",
            "LOSS: 19.194083091644842, Delta: 0.01574662163402607\n",
            "LOSS: 19.17877044401719, Delta: 0.015312647627652609\n",
            "LOSS: 19.163878744051342, Delta: 0.014891699965847494\n",
            "LOSS: 19.14939544038059, Delta: 0.014483303670751013\n",
            "LOSS: 19.135308432771815, Delta: 0.014087007608775792\n",
            "LOSS: 19.121606049943946, Delta: 0.013702382827869286\n",
            "LOSS: 19.108277028900694, Delta: 0.013329021043251288\n",
            "LOSS: 19.09531049564894, Delta: 0.012966533251756118\n",
            "LOSS: 19.082695947186796, Delta: 0.012614548462142494\n",
            "LOSS: 19.070423234652186, Delta: 0.012272712534610264\n",
            "LOSS: 19.05848254753941, Delta: 0.011940687112776516\n",
            "LOSS: 19.046864398896087, Delta: 0.011618148643322002\n",
            "LOSS: 19.03555961142191, Delta: 0.011304787474177402\n",
            "LOSS: 19.02455930439723, Delta: 0.011000307024680467\n",
            "LOSS: 19.01385488138066, Delta: 0.01070442301656982\n",
            "LOSS: 19.003438018611863, Delta: 0.010416862768796165\n",
            "LOSS: 18.993300654070822, Delta: 0.010137364541041194\n",
            "LOSS: 18.983434977143478, Delta: 0.00986567692734397\n",
            "LOSS: 18.973833418845743, Delta: 0.009601558297735124\n",
            "LOSS: 18.964488642574313, Delta: 0.009344776271429822\n",
            "LOSS: 18.955393535335944, Delta: 0.009095107238369593\n",
            "LOSS: 18.94654119943274, Delta: 0.008852335903203112\n",
            "LOSS: 18.93792494456211, Delta: 0.008616254870631224\n",
            "LOSS: 18.929538280311917, Delta: 0.00838666425019241\n",
            "LOSS: 18.92137490901761, Delta: 0.008163371294305222\n",
            "LOSS: 18.9134287189632, Delta: 0.007946190054411773\n",
            "LOSS: 18.905693777898975, Delta: 0.007734941064224898\n",
            "LOSS: 18.89816432685947, Delta: 0.007529451039506085\n",
            "LOSS: 18.890834774261634, Delta: 0.007329552597834521\n",
            "LOSS: 18.883699690265573, Delta: 0.007135083996061553\n",
            "LOSS: 18.8767538013818, Delta: 0.0069458888837736765\n",
            "LOSS: 25.133279635517184, Delta: 25.133279635517184\n",
            "LOSS: 25.132950438219236, Delta: 0.0003291972979475588\n",
            "LOSS: 25.13256693808034, Delta: 0.0003835001388949877\n",
            "LOSS: 25.132223857903107, Delta: 0.0003430801772346115\n",
            "LOSS: 25.131914247021783, Delta: 0.00030961088132386294\n",
            "LOSS: 25.130638228655684, Delta: 0.0012760183660986968\n",
            "LOSS: 25.12956310212015, Delta: 0.0010751265355324335\n",
            "LOSS: 25.124434509083823, Delta: 0.00512859303632851\n",
            "LOSS: 25.12357509763232, Delta: 0.000859411451504144\n",
            "LOSS: 25.118001060098504, Delta: 0.005574037533815357\n",
            "LOSS: 25.116677566599005, Delta: 0.0013234934994983405\n",
            "LOSS: 25.11156682432573, Delta: 0.005110742273274127\n",
            "LOSS: 25.11020100674451, Delta: 0.001365817581220341\n",
            "LOSS: 25.110055138687333, Delta: 0.00014586805717797802\n",
            "LOSS: 25.10531056727736, Delta: 0.004744571409972309\n",
            "LOSS: 25.104154146782665, Delta: 0.0011564204946949985\n",
            "LOSS: 25.099080231027763, Delta: 0.005073915754902458\n",
            "LOSS: 25.096432511061895, Delta: 0.0026477199658678785\n",
            "LOSS: 25.089890530969306, Delta: 0.006541980092588773\n",
            "LOSS: 25.089758203480336, Delta: 0.00013232748896996327\n",
            "LOSS: 25.084951316909397, Delta: 0.004806886570939639\n",
            "LOSS: 25.084824085806495, Delta: 0.0001272311029012485\n",
            "LOSS: 25.08087836543527, Delta: 0.003945720371223871\n",
            "LOSS: 25.080594429259648, Delta: 0.0002839361756237224\n",
            "LOSS: 25.08033819256804, Delta: 0.00025623669160879103\n",
            "LOSS: 25.079952521171055, Delta: 0.00038567139698386654\n",
            "LOSS: 25.079516283035293, Delta: 0.0004362381357623235\n",
            "LOSS: 25.051867368458712, Delta: 0.027648914576580808\n",
            "LOSS: 25.050152944824102, Delta: 0.0017144236346098296\n",
            "LOSS: 25.041996163564292, Delta: 0.00815678125981023\n",
            "LOSS: 25.041682931472263, Delta: 0.00031323209202938074\n",
            "LOSS: 25.041186858600245, Delta: 0.0004960728720178054\n",
            "LOSS: 25.036420675332405, Delta: 0.004766183267840063\n",
            "LOSS: 25.03627908985608, Delta: 0.0001415854763244795\n",
            "LOSS: 25.035339419405723, Delta: 0.000939670450357255\n",
            "LOSS: 24.71721092620526, Delta: 0.31812849320046155\n",
            "LOSS: 24.713039401608043, Delta: 0.004171524597218479\n",
            "LOSS: 24.71274260087263, Delta: 0.0002968007354127167\n",
            "LOSS: 24.685860167631816, Delta: 0.026882433240814407\n",
            "LOSS: 24.68248619720357, Delta: 0.0033739704282460536\n",
            "LOSS: 24.677695584388918, Delta: 0.0047906128146522065\n",
            "LOSS: 24.67730191531469, Delta: 0.000393669074227887\n",
            "LOSS: 24.67288992870674, Delta: 0.004411986607948393\n",
            "LOSS: 24.670778127909802, Delta: 0.0021118007969391783\n",
            "LOSS: 24.66953621429771, Delta: 0.001241913612091139\n",
            "LOSS: 24.39686797918439, Delta: 0.27266823511332205\n",
            "LOSS: 24.39675078962382, Delta: 0.00011718956056938623\n",
            "LOSS: 24.39636863928808, Delta: 0.0003821503357386291\n",
            "LOSS: 24.392229582374352, Delta: 0.004139056913729178\n",
            "LOSS: 24.39090543971638, Delta: 0.0013241426579710946\n",
            "LOSS: 24.389793020239626, Delta: 0.001112419476754667\n",
            "LOSS: 24.387457779939666, Delta: 0.0023352402999599065\n",
            "LOSS: 24.383509463282472, Delta: 0.003948316657194084\n",
            "LOSS: 24.383165243999127, Delta: 0.00034421928334538165\n",
            "LOSS: 24.378668748226044, Delta: 0.004496495773082643\n",
            "LOSS: 24.375028358648482, Delta: 0.0036403895775620754\n",
            "LOSS: 24.374571386269782, Delta: 0.0004569723787000157\n",
            "LOSS: 24.142317333571672, Delta: 0.23225405269811006\n",
            "LOSS: 24.141295511582985, Delta: 0.001021821988686611\n",
            "LOSS: 24.14033354523657, Delta: 0.0009619663464164319\n",
            "LOSS: 24.139861929966532, Delta: 0.00047161527003680703\n",
            "LOSS: 24.13886855457994, Delta: 0.0009933753865922768\n",
            "LOSS: 24.111090970084692, Delta: 0.027777584495247254\n",
            "LOSS: 24.110764103048545, Delta: 0.0003268670361471493\n",
            "LOSS: 24.106797658376703, Delta: 0.003966444671842595\n",
            "LOSS: 24.10650625763642, Delta: 0.00029140074028433105\n",
            "LOSS: 24.10336776011333, Delta: 0.0031384975230892564\n",
            "LOSS: 24.101478988107317, Delta: 0.0018887720060121183\n",
            "LOSS: 24.076556196641953, Delta: 0.02492279146536447\n",
            "LOSS: 24.075285812283184, Delta: 0.0012703843587686947\n",
            "LOSS: 24.07172531109555, Delta: 0.003560501187635623\n",
            "LOSS: 24.07006591149107, Delta: 0.001659399604477585\n",
            "LOSS: 24.069706044427306, Delta: 0.00035986706376434086\n",
            "LOSS: 24.067155753994385, Delta: 0.0025502904329215426\n",
            "LOSS: 24.06634669826903, Delta: 0.0008090557253552788\n",
            "LOSS: 24.062704522710384, Delta: 0.003642175558645988\n",
            "LOSS: 24.061638634947464, Delta: 0.001065887762919715\n",
            "LOSS: 24.061187297960792, Delta: 0.0004513369866714356\n",
            "LOSS: 24.060476166922008, Delta: 0.000711131038784174\n",
            "LOSS: 24.059979593923856, Delta: 0.0004965729981520894\n",
            "LOSS: 24.056786530901796, Delta: 0.0031930630220600165\n",
            "LOSS: 24.04921670244368, Delta: 0.00756982845811649\n",
            "LOSS: 24.048796594553217, Delta: 0.000420107890462873\n",
            "LOSS: 24.047305480629532, Delta: 0.001491113923684395\n",
            "LOSS: 24.045589522551083, Delta: 0.0017159580784493755\n",
            "LOSS: 24.041715621005924, Delta: 0.0038739015451589864\n",
            "LOSS: 24.041447548568467, Delta: 0.00026807243745707865\n",
            "LOSS: 24.038051996879126, Delta: 0.0033955516893406923\n",
            "LOSS: 24.03654608054351, Delta: 0.0015059163356170302\n",
            "LOSS: 24.031789412646358, Delta: 0.004756667897151345\n",
            "LOSS: 24.029935130369612, Delta: 0.0018542822767457778\n",
            "LOSS: 24.026997074062553, Delta: 0.0029380563070589005\n",
            "LOSS: 24.026297075376174, Delta: 0.0006999986863789331\n",
            "LOSS: 24.01529521593776, Delta: 0.011001859438415806\n",
            "LOSS: 24.01517160895159, Delta: 0.000123606986168312\n",
            "LOSS: 24.0146754232063, Delta: 0.0004961857452912\n",
            "LOSS: 23.81365810343884, Delta: 0.20101731976745896\n",
            "LOSS: 23.81153046990843, Delta: 0.0021276335304101224\n",
            "LOSS: 23.811073118532295, Delta: 0.0004573513761343406\n",
            "LOSS: 23.808627874853677, Delta: 0.002445243678618425\n"
          ]
        }
      ],
      "source": [
        "preds, losses, n_iters, cpu_times = compare_models(\n",
        "    solvers,\n",
        "    X,\n",
        "    Y_delabeled,\n",
        "    iters_limit = 100,\n",
        "    delta_loss_limit = 0.0001\n",
        ")\n",
        "\n",
        "accuracies = {name: accuracy_score(preds[name], Y) for name in solvers.keys()}"
      ]
    },
    {
      "cell_type": "code",
      "execution_count": 54,
      "metadata": {
        "id": "07EmcJuSji8r",
        "outputId": "facfcdc0-8bab-4e13-ad22-d6baf3749868",
        "colab": {
          "base_uri": "https://localhost:8080/",
          "height": 851
        }
      },
      "outputs": [
        {
          "output_type": "display_data",
          "data": {
            "text/plain": [
              "<Figure size 432x288 with 1 Axes>"
            ],
            "image/png": "[encoded data removed]"
          },
          "metadata": {
            "needs_background": "light"
          }
        },
        {
          "output_type": "display_data",
          "data": {
            "text/plain": [
              "<Figure size 432x288 with 1 Axes>"
            ],
            "image/png": "[encoded data removed]"
          },
          "metadata": {
            "needs_background": "light"
          }
        },
        {
          "output_type": "display_data",
          "data": {
            "text/plain": [
              "<Figure size 432x288 with 1 Axes>"
            ],
            "image/png": "[encoded data removed]"
          },
          "metadata": {
            "needs_background": "light"
          }
        }
      ],
      "source": [
        "def plot_curves(curves_dict, title, y_label):\n",
        "    _, ax = plt.subplots(figsize = (6, 4))\n",
        "\n",
        "    for _, curve_res in curves_dict.items():\n",
        "        ax.plot(\n",
        "            curve_res,\n",
        "            marker = 'o',\n",
        "            linestyle = '--',\n",
        "            linewidth = 1.3,\n",
        "            markerfacecolor = 'white',\n",
        "            markersize = 2\n",
        "        )\n",
        "    plt.legend(list(curves_dict.keys()))\n",
        "    plt.title(title)\n",
        "    plt.xlabel('Iteration')\n",
        "    plt.ylabel(y_label)\n",
        "    plt.grid()\n",
        "\n",
        "\n",
        "plot_curves({'Cyclic':losses['BCGD cyclic']}, 'Losses cyclic', y_label = 'Loss')\n",
        "plot_curves({'GD':losses['GD']}, 'Losses GD', y_label = 'Loss')\n",
        "plot_curves(losses, 'Losses', y_label = 'Loss')"
      ]
    },
    {
      "cell_type": "code",
      "execution_count": 52,
      "metadata": {
        "id": "yt6Q6b9Fji8s",
        "outputId": "c37a9ee4-b36f-4851-98fb-0493e5860bec",
        "colab": {
          "base_uri": "https://localhost:8080/",
          "height": 506
        }
      },
      "outputs": [
        {
          "output_type": "display_data",
          "data": {
            "text/plain": [
              "<Figure size 576x576 with 1 Axes>"
            ],
            "image/png": "[encoded data removed]"
          },
          "metadata": {
            "needs_background": "light"
          }
        }
      ],
      "source": [
        "def plot_bar_metrics(metrics_df):\n",
        "    \n",
        "    ax = metrics_df.plot.bar(\n",
        "        rot = 0,\n",
        "        ylabel = 'Metrics results',\n",
        "        cmap = 'Paired',\n",
        "        figsize = (8, 8)\n",
        "    )\n",
        "\n",
        "    ax.set_title('Models cpu time, iterations & performance', fontsize = 18)\n",
        "    ax.set_ylabel('Metrics scores', fontsize = 18)\n",
        "    ax.tick_params(axis = 'y', labelsize = 15)\n",
        "    ax.tick_params(axis = 'x', labelsize = 12)\n",
        "    ax.legend(loc = 3, prop = {'size': 13})\n",
        "    plt.grid()\n",
        "\n",
        "def normalize_cols(dataframe):\n",
        "    cols = dataframe.columns\n",
        "    for c in cols:\n",
        "        dataframe[c] = dataframe[c] / dataframe[c].max()\n",
        "    \n",
        "\n",
        "bar_metrics = pd.DataFrame.from_dict(cpu_times, orient='index', columns = ['CPU time'])\n",
        "bar_metrics['N iterations'] = n_iters.values()\n",
        "bar_metrics['Accuracies'] = accuracies.values()\n",
        "\n",
        "normalize_cols(bar_metrics)\n",
        "plot_bar_metrics(bar_metrics)"
      ]
    },
    {
      "cell_type": "code",
      "source": [
        "print(accuracies)"
      ],
      "metadata": {
        "id": "VsG9seCFqxEC",
        "outputId": "64ef3622-9156-4c63-c5de-91e36a8483d6",
        "colab": {
          "base_uri": "https://localhost:8080/"
        }
      },
      "execution_count": 27,
      "outputs": [
        {
          "output_type": "stream",
          "name": "stdout",
          "text": [
            "{'BCGD sampling': 0.94}\n"
          ]
        }
      ]
    },
    {
      "cell_type": "markdown",
      "metadata": {
        "id": "U2In6I0eji8s"
      },
      "source": [
        "# Real dataset"
      ]
    },
    {
      "cell_type": "code",
      "execution_count": 55,
      "metadata": {
        "id": "G_9uTw_Fji8s"
      },
      "outputs": [],
      "source": [
        "wine=datasets.load_wine()\n",
        "\n",
        "#Conver to pandas dataframe\n",
        "data=pd.DataFrame(data=np.c_[wine['data'],wine['target']],columns=wine['feature_names']+['target'])\n",
        "\n",
        "data = data.loc[\n",
        "    (data['target'] == 1) | (data['target'] == 0),\n",
        "    ['od280/od315_of_diluted_wines', 'alcohol', 'target']\n",
        "]"
      ]
    },
    {
      "cell_type": "code",
      "execution_count": 56,
      "metadata": {
        "id": "D-DhernSji8s",
        "outputId": "6d528929-e226-4f13-fae8-1e736aa2ff23",
        "colab": {
          "base_uri": "https://localhost:8080/",
          "height": 268
        }
      },
      "outputs": [
        {
          "output_type": "display_data",
          "data": {
            "text/plain": [
              "<Figure size 432x288 with 1 Axes>"
            ],
            "image/png": "[encoded data removed]"
          },
          "metadata": {
            "needs_background": "light"
          }
        }
      ],
      "source": [
        "X_real = data.loc[\n",
        "    :,\n",
        "    ['od280/od315_of_diluted_wines', 'alcohol']\n",
        "].values\n",
        "Y_real = data['target'].values\n",
        "\n",
        "plot_clusters(\n",
        "    X_real,\n",
        "    Y_real\n",
        ")"
      ]
    },
    {
      "cell_type": "code",
      "execution_count": null,
      "metadata": {
        "id": "Hh29gCjXji8s",
        "outputId": "9250c8c8-6c20-4886-eea2-f65f0d5b6aac"
      },
      "outputs": [
        {
          "name": "stdout",
          "output_type": "stream",
          "text": [
            "Found 59 instances of object 0.0\n",
            "We have to delabel 56 instances\n",
            "Found 71 instances of object 1.0\n",
            "We have to delabel 67 instances\n"
          ]
        }
      ],
      "source": [
        "Y_real_delabeled = delabel_data(\n",
        "    Y_real,\n",
        "    labeled_percent = DataProperties.labeled_percentage,\n",
        "    delabel_value = DataProperties.unlabeled\n",
        ")"
      ]
    },
    {
      "cell_type": "code",
      "execution_count": null,
      "metadata": {
        "id": "N3fd88g7ji8t",
        "outputId": "41a8e95d-899d-46d2-897d-e85b00379ca2"
      },
      "outputs": [
        {
          "data": {
            "image/png": "[encoded data removed]",
            "text/plain": [
              "<Figure size 432x288 with 1 Axes>"
            ]
          },
          "metadata": {
            "needs_background": "light"
          },
          "output_type": "display_data"
        }
      ],
      "source": [
        "plot_clusters(\n",
        "    X_real,\n",
        "    Y_real_delabeled\n",
        ")"
      ]
    },
    {
      "cell_type": "code",
      "execution_count": null,
      "metadata": {
        "id": "PLp4UwVRji8t",
        "outputId": "d5190841-982b-4260-ea77-b7198643d1a6"
      },
      "outputs": [
        {
          "name": "stdout",
          "output_type": "stream",
          "text": [
            "Loss: 323.8942029624401, delta loss: 323.8942029624401\n",
            "Loss: 316.74220353972663, delta loss: 7.151999422713459\n",
            "Loss: 313.4757742177543, delta loss: 3.266429321972339\n",
            "Loss: 311.76596488709237, delta loss: 1.7098093306619262\n",
            "Loss: 310.74374644924103, delta loss: 1.0222184378513361\n",
            "Loss: 310.0575456186789, delta loss: 0.686200830562143\n",
            "Loss: 309.55204096465934, delta loss: 0.5055046540195463\n",
            "Loss: 309.15228445531534, delta loss: 0.39975650934400164\n",
            "Loss: 308.81904661689146, delta loss: 0.33323783842388366\n",
            "Loss: 308.5303063189672, delta loss: 0.2887402979242779\n",
            "Loss: 308.2729710189335, delta loss: 0.2573353000336738\n",
            "Loss: 308.0388864758443, delta loss: 0.2340845430891818\n",
            "Loss: 307.8227771659063, delta loss: 0.21610930993801958\n",
            "Loss: 307.6211177640279, delta loss: 0.20165940187843034\n",
            "Loss: 307.43148312311644, delta loss: 0.18963464091143578\n",
            "Loss: 307.25215834838053, delta loss: 0.17932477473590325\n",
            "Loss: 307.0818971554001, delta loss: 0.1702611929804334\n",
            "Loss: 306.9197681791677, delta loss: 0.16212897623239542\n",
            "Loss: 306.7650551646549, delta loss: 0.15471301451282216\n",
            "Loss: 306.6171910461444, delta loss: 0.14786411851048342\n",
            "Loss: 306.4757138001923, delta loss: 0.1414772459521032\n",
            "Loss: 306.34023653299687, delta loss: 0.13547726719542652\n",
            "Loss: 306.2104270062463, delta loss: 0.12980952675059143\n",
            "Loss: 306.0859934948685, delta loss: 0.12443351137778791\n",
            "Loss: 305.9666749341086, delta loss: 0.11931856075989344\n",
            "Loss: 305.85223399592707, delta loss: 0.11444093818153078\n",
            "Loss: 305.7424521801217, delta loss: 0.10978181580537694\n",
            "Loss: 305.63712629950555, delta loss: 0.10532588061613524\n",
            "Loss: 305.53606593520504, delta loss: 0.10106036430050835\n",
            "Loss: 305.4390915704208, delta loss: 0.0969743647842165\n",
            "Loss: 305.3460332010566, delta loss: 0.09305836936420064\n",
            "Loss: 305.2567292835649, delta loss: 0.0893039174917476\n",
            "Loss: 305.17102592216634, delta loss: 0.08570336139854362\n",
            "Loss: 305.08877622749526, delta loss: 0.08224969467107712\n",
            "Loss: 305.0098397985465, delta loss: 0.07893642894873665\n",
            "Loss: 304.93408229441553, delta loss: 0.07575750413099058\n",
            "Loss: 304.8613750718692, delta loss: 0.07270722254634165\n",
            "Loss: 304.79159487190225, delta loss: 0.06978019996694229\n",
            "Loss: 304.72462354331003, delta loss: 0.0669713285922171\n",
            "Loss: 304.66034779462757, delta loss: 0.06427574868246211\n",
            "Loss: 304.59865896834566, delta loss: 0.06168882628190886\n",
            "Loss: 304.5394528328935, delta loss: 0.05920613545214337\n",
            "Loss: 304.48262938922267, delta loss: 0.05682344367085079\n",
            "Loss: 304.42809268953056, delta loss: 0.054536699692107504\n",
            "Loss: 304.3757506664307, delta loss: 0.05234202309986813\n",
            "Loss: 304.325514971267, delta loss: 0.05023569516367843\n",
            "Loss: 304.27730082048674, delta loss: 0.04821415078026803\n",
            "Loss: 304.23102684933656, delta loss: 0.04627397115018539\n",
            "Loss: 304.1866149722866, delta loss: 0.044411877049981285\n",
            "Loss: 304.14399024957726, delta loss: 0.04262472270931994\n",
            "Loss: 304.10308075966765, delta loss: 0.040909489909608965\n",
            "Loss: 304.0638174769689, delta loss: 0.03926328269875512\n",
            "Loss: 304.02613415483245, delta loss: 0.037683322136444986\n",
            "Loss: 303.98996721331997, delta loss: 0.03616694151247657\n",
            "Loss: 303.9552556316382, delta loss: 0.03471158168179045\n",
            "Loss: 303.9219408449523, delta loss: 0.03331478668587806\n",
            "Loss: 303.8899666454295, delta loss: 0.03197419952277869\n",
            "Loss: 303.85927908729377, delta loss: 0.03068755813575308\n",
            "Loss: 303.82982639570554, delta loss: 0.029452691588232938\n",
            "Loss: 303.80155887939435, delta loss: 0.028267516311188956\n",
            "Loss: 303.77442884673474, delta loss: 0.027130032659613335\n",
            "Loss: 303.7483905253006, delta loss: 0.026038321434157297\n",
            "Loss: 303.7233999845757, delta loss: 0.024990540724900256\n",
            "Loss: 303.6994150618382, delta loss: 0.023984922737497527\n",
            "Loss: 303.67639529102485, delta loss: 0.023019770813334617\n",
            "Loss: 303.65430183444494, delta loss: 0.022093456579909798\n",
            "Loss: 303.6330974172331, delta loss: 0.02120441721183397\n",
            "Loss: 303.61274626447937, delta loss: 0.020351152753733004\n",
            "Loss: 303.5932140408585, delta loss: 0.019532223620842615\n",
            "Loss: 303.5744677927075, delta loss: 0.01874624815104653\n",
            "Loss: 303.5564758924098, delta loss: 0.017991900297658958\n",
            "Loss: 303.5392079850548, delta loss: 0.01726790735500572\n",
            "Loss: 303.5226349372034, delta loss: 0.01657304785140923\n",
            "Loss: 303.50672878774805, delta loss: 0.015906149455361174\n",
            "Loss: 303.49146270074505, delta loss: 0.01526608700299903\n",
            "Loss: 303.4768109201153, delta loss: 0.014651780629719724\n",
            "Loss: 303.4627487262065, delta loss: 0.014062193908841891\n",
            "Loss: 303.44925239409093, delta loss: 0.013496332115551013\n",
            "Loss: 303.43629915352034, delta loss: 0.01295324057059588\n",
            "Loss: 303.4238671505295, delta loss: 0.012432002990863111\n",
            "Loss: 303.41193541054747, delta loss: 0.011931739982003364\n",
            "Loss: 303.4004838030262, delta loss: 0.011451607521280494\n",
            "Loss: 303.3894930074668, delta loss: 0.010990795559393973\n",
            "Loss: 303.3789444808138, delta loss: 0.01054852665299677\n",
            "Loss: 303.3688204262061, delta loss: 0.010124054607672406\n",
            "Loss: 303.3591037629131, delta loss: 0.00971666329303389\n",
            "Loss: 303.34977809752866, delta loss: 0.009325665384437798\n",
            "Loss: 303.34082769633665, delta loss: 0.00895040119200985\n",
            "Loss: 303.33223745870856, delta loss: 0.008590237628084196\n",
            "Loss: 303.3239928917014, delta loss: 0.008244567007182013\n",
            "Loss: 303.31608008554946, delta loss: 0.007912806151921359\n",
            "Loss: 303.30848569020617, delta loss: 0.0075943953432897615\n",
            "Loss: 303.30119689285783, delta loss: 0.007288797348337539\n",
            "Loss: 303.2942013962408, delta loss: 0.0069954966170371335\n",
            "Loss: 303.28748739796475, delta loss: 0.006713998276040911\n",
            "Loss: 303.28104357055815, delta loss: 0.006443827406599212\n",
            "Loss: 303.2748590423487, delta loss: 0.006184528209473683\n",
            "Loss: 303.268923379169, delta loss: 0.005935663179684525\n",
            "Loss: 303.2632265666986, delta loss: 0.005696812470375789\n",
            "Loss: 303.25775899359473, delta loss: 0.00546757310388557\n",
            "Loss: 303.25251143528425, delta loss: 0.005247558310486511\n",
            "Loss: 303.24747503838324, delta loss: 0.005036396901004991\n",
            "Loss: 303.2426413057805, delta loss: 0.004833732602719465\n",
            "Loss: 303.2380020822675, delta loss: 0.00463922351303836\n",
            "Loss: 303.2335495408176, delta loss: 0.004452541449893488\n",
            "Loss: 303.22927616934624, delta loss: 0.004273371471356313\n",
            "Loss: 303.22517475806995, delta loss: 0.004101411276280942\n",
            "Loss: 303.2212383873342, delta loss: 0.003936370735743822\n",
            "Loss: 303.21746041589466, delta loss: 0.0037779714395469455\n",
            "Loss: 303.2138344697915, delta loss: 0.003625946103170463\n",
            "Loss: 303.21035443152493, delta loss: 0.0034800382665594043\n",
            "Loss: 303.2070144297828, delta loss: 0.003340001742117238\n",
            "Loss: 303.2038088294891, delta loss: 0.003205600293711086\n",
            "Loss: 303.2007322223524, delta loss: 0.003076607136677012\n",
            "Loss: 303.1977794176984, delta loss: 0.002952804654000829\n"
          ]
        }
      ],
      "source": [
        "solver = GradientDescentSolver(\n",
        "    lr_strategy = 'lr_constant',\n",
        "    learning_rate = 0.001,\n",
        "    similarity_func = None\n",
        ")\n",
        "\n",
        "Y_real_preds = solver.solve(\n",
        "    X_real,\n",
        "    Y_real_delabeled,\n",
        "    iter_limit=500,\n",
        "    delta_loss_limit = 0.003\n",
        ")"
      ]
    },
    {
      "cell_type": "code",
      "execution_count": null,
      "metadata": {
        "id": "iAZAkvBqji8t",
        "outputId": "4280d4b7-f136-4234-d69f-cb530397d86b"
      },
      "outputs": [
        {
          "data": {
            "image/png": "[encoded data removed]",
            "text/plain": [
              "<Figure size 432x288 with 1 Axes>"
            ]
          },
          "metadata": {
            "needs_background": "light"
          },
          "output_type": "display_data"
        },
        {
          "data": {
            "image/png": "[encoded data removed]",
            "text/plain": [
              "<Figure size 432x288 with 1 Axes>"
            ]
          },
          "metadata": {
            "needs_background": "light"
          },
          "output_type": "display_data"
        }
      ],
      "source": [
        "plot_clusters(\n",
        "    X_real,\n",
        "    Y_real\n",
        ")\n",
        "plot_clusters(\n",
        "    X_real,\n",
        "    Y_real_preds\n",
        ")"
      ]
    }
  ],
  "metadata": {
    "colab": {
      "collapsed_sections": [],
      "name": "HW1.ipynb",
      "provenance": [],
      "toc_visible": true
    },
    "kernelspec": {
      "display_name": "Python 3",
      "name": "python3"
    },
    "language_info": {
      "codemirror_mode": {
        "name": "ipython",
        "version": 3
      },
      "file_extension": ".py",
      "mimetype": "text/x-python",
      "name": "python",
      "nbconvert_exporter": "python",
      "pygments_lexer": "ipython3",
      "version": "3.9.7"
    }
  },
  "nbformat": 4,
  "nbformat_minor": 0
}