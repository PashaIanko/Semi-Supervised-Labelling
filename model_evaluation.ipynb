{
  "cells": [
    {
      "cell_type": "markdown",
      "metadata": {
        "id": "SY5WztYNneGg"
      },
      "source": [
        "### MSc Computer Science, Data Science @UniPD\n",
        "### Optimization Methods for Data Science\n",
        "---"
      ]
    },
    {
      "cell_type": "code",
      "execution_count": 14,
      "metadata": {
        "id": "VlSWeYY3nI05"
      },
      "outputs": [],
      "source": [
        "from os.path import isdir\n",
        "from os import mkdir\n",
        "\n",
        "env = 'pc'  # 'pc', 'colab'\n",
        "git_download_path = 'https://raw.githubusercontent.com/PashaIanko/Semi-Supervised-Labelling/full_testing/'\n",
        "experiment = 'Exp4/'\n",
        "\n",
        "exp_dir = ''\n",
        "if env == 'pc':\n",
        "    exp_dir = f'C:/Users/79137/Pasha/2. UNIPD/Semester 2/Optimization for Data Science/Homeworks/HW 1/Semi-Supervised-Labelling/{experiment}'\n",
        "elif env == 'colab':\n",
        "    exp_dir = f'/content/drive/MyDrive/UNIPD/ODS/HW1/{experiment}'\n",
        "\n",
        "assert(isdir(exp_dir))"
      ]
    },
    {
      "cell_type": "code",
      "execution_count": 16,
      "metadata": {
        "id": "2N9xcpuXji8g"
      },
      "outputs": [],
      "source": [
        "import pandas as pd\n",
        "import matplotlib.pyplot as plt"
      ]
    },
    {
      "cell_type": "code",
      "execution_count": 18,
      "metadata": {},
      "outputs": [
        {
          "data": {
            "text/html": [
              "<div>\n",
              "<style scoped>\n",
              "    .dataframe tbody tr th:only-of-type {\n",
              "        vertical-align: middle;\n",
              "    }\n",
              "\n",
              "    .dataframe tbody tr th {\n",
              "        vertical-align: top;\n",
              "    }\n",
              "\n",
              "    .dataframe thead th {\n",
              "        text-align: right;\n",
              "    }\n",
              "</style>\n",
              "<table border=\"1\" class=\"dataframe\">\n",
              "  <thead>\n",
              "    <tr style=\"text-align: right;\">\n",
              "      <th></th>\n",
              "      <th>Unnamed: 0</th>\n",
              "      <th>iters_limit</th>\n",
              "      <th>d_loss_limit</th>\n",
              "      <th>stop_loss</th>\n",
              "      <th>learning_rate</th>\n",
              "      <th>n points</th>\n",
              "    </tr>\n",
              "  </thead>\n",
              "  <tbody>\n",
              "    <tr>\n",
              "      <th>0</th>\n",
              "      <td>0</td>\n",
              "      <td>4</td>\n",
              "      <td>0.0001</td>\n",
              "      <td>200</td>\n",
              "      <td>0.001</td>\n",
              "      <td>1000</td>\n",
              "    </tr>\n",
              "  </tbody>\n",
              "</table>\n",
              "</div>"
            ],
            "text/plain": [
              "   Unnamed: 0  iters_limit  d_loss_limit  stop_loss  learning_rate  n points\n",
              "0           0            4        0.0001        200          0.001      1000"
            ]
          },
          "execution_count": 18,
          "metadata": {},
          "output_type": "execute_result"
        }
      ],
      "source": [
        "from os.path import isfile\n",
        "\n",
        "exp_params = pd.read_csv(f'{exp_dir}experiment_params.csv')\n",
        "exp_params.head()"
      ]
    },
    {
      "cell_type": "code",
      "execution_count": 19,
      "metadata": {},
      "outputs": [
        {
          "data": {
            "text/html": [
              "<div>\n",
              "<style scoped>\n",
              "    .dataframe tbody tr th:only-of-type {\n",
              "        vertical-align: middle;\n",
              "    }\n",
              "\n",
              "    .dataframe tbody tr th {\n",
              "        vertical-align: top;\n",
              "    }\n",
              "\n",
              "    .dataframe thead th {\n",
              "        text-align: right;\n",
              "    }\n",
              "</style>\n",
              "<table border=\"1\" class=\"dataframe\">\n",
              "  <thead>\n",
              "    <tr style=\"text-align: right;\">\n",
              "      <th></th>\n",
              "      <th>Unnamed: 0</th>\n",
              "      <th>CPU total time</th>\n",
              "      <th>N iterations</th>\n",
              "      <th>Final accuracy</th>\n",
              "      <th>CPU total time_norm</th>\n",
              "      <th>N iterations_norm</th>\n",
              "      <th>Final accuracy_norm</th>\n",
              "    </tr>\n",
              "  </thead>\n",
              "  <tbody>\n",
              "    <tr>\n",
              "      <th>0</th>\n",
              "      <td>GD</td>\n",
              "      <td>8.025136</td>\n",
              "      <td>4</td>\n",
              "      <td>1.0</td>\n",
              "      <td>0.969413</td>\n",
              "      <td>1.0</td>\n",
              "      <td>1.0</td>\n",
              "    </tr>\n",
              "    <tr>\n",
              "      <th>1</th>\n",
              "      <td>BCGD permutation</td>\n",
              "      <td>8.278344</td>\n",
              "      <td>4</td>\n",
              "      <td>1.0</td>\n",
              "      <td>1.000000</td>\n",
              "      <td>1.0</td>\n",
              "      <td>1.0</td>\n",
              "    </tr>\n",
              "    <tr>\n",
              "      <th>2</th>\n",
              "      <td>BCGD cyclic</td>\n",
              "      <td>8.145541</td>\n",
              "      <td>4</td>\n",
              "      <td>1.0</td>\n",
              "      <td>0.983958</td>\n",
              "      <td>1.0</td>\n",
              "      <td>1.0</td>\n",
              "    </tr>\n",
              "  </tbody>\n",
              "</table>\n",
              "</div>"
            ],
            "text/plain": [
              "         Unnamed: 0  CPU total time  N iterations  Final accuracy  \\\n",
              "0                GD        8.025136             4             1.0   \n",
              "1  BCGD permutation        8.278344             4             1.0   \n",
              "2       BCGD cyclic        8.145541             4             1.0   \n",
              "\n",
              "   CPU total time_norm  N iterations_norm  Final accuracy_norm  \n",
              "0             0.969413                1.0                  1.0  \n",
              "1             1.000000                1.0                  1.0  \n",
              "2             0.983958                1.0                  1.0  "
            ]
          },
          "execution_count": 19,
          "metadata": {},
          "output_type": "execute_result"
        }
      ],
      "source": [
        "metrics_res = pd.read_csv(f'{exp_dir}metrics res.csv')\n",
        "metrics_res.head()"
      ]
    },
    {
      "cell_type": "code",
      "execution_count": 20,
      "metadata": {},
      "outputs": [
        {
          "data": {
            "text/html": [
              "<div>\n",
              "<style scoped>\n",
              "    .dataframe tbody tr th:only-of-type {\n",
              "        vertical-align: middle;\n",
              "    }\n",
              "\n",
              "    .dataframe tbody tr th {\n",
              "        vertical-align: top;\n",
              "    }\n",
              "\n",
              "    .dataframe thead th {\n",
              "        text-align: right;\n",
              "    }\n",
              "</style>\n",
              "<table border=\"1\" class=\"dataframe\">\n",
              "  <thead>\n",
              "    <tr style=\"text-align: right;\">\n",
              "      <th></th>\n",
              "      <th>Unnamed: 0</th>\n",
              "      <th>GD loss</th>\n",
              "      <th>BCGD permutation loss</th>\n",
              "      <th>BCGD cyclic loss</th>\n",
              "      <th>GD cpu</th>\n",
              "      <th>BCGD permutation cpu</th>\n",
              "      <th>BCGD cyclic cpu</th>\n",
              "      <th>GD acc</th>\n",
              "      <th>BCGD permutation acc</th>\n",
              "      <th>BCGD cyclic acc</th>\n",
              "    </tr>\n",
              "  </thead>\n",
              "  <tbody>\n",
              "    <tr>\n",
              "      <th>0</th>\n",
              "      <td>0</td>\n",
              "      <td>5852.532638</td>\n",
              "      <td>5852.532638</td>\n",
              "      <td>5852.532638</td>\n",
              "      <td>1.054638</td>\n",
              "      <td>0.946651</td>\n",
              "      <td>0.967608</td>\n",
              "      <td>0.05</td>\n",
              "      <td>0.05</td>\n",
              "      <td>0.05</td>\n",
              "    </tr>\n",
              "    <tr>\n",
              "      <th>1</th>\n",
              "      <td>1</td>\n",
              "      <td>5485.665389</td>\n",
              "      <td>5375.263745</td>\n",
              "      <td>5383.381693</td>\n",
              "      <td>2.983312</td>\n",
              "      <td>2.878073</td>\n",
              "      <td>2.942193</td>\n",
              "      <td>1.00</td>\n",
              "      <td>1.00</td>\n",
              "      <td>1.00</td>\n",
              "    </tr>\n",
              "    <tr>\n",
              "      <th>2</th>\n",
              "      <td>2</td>\n",
              "      <td>5297.316115</td>\n",
              "      <td>5178.988733</td>\n",
              "      <td>5160.130642</td>\n",
              "      <td>5.004057</td>\n",
              "      <td>5.069253</td>\n",
              "      <td>5.037381</td>\n",
              "      <td>1.00</td>\n",
              "      <td>1.00</td>\n",
              "      <td>1.00</td>\n",
              "    </tr>\n",
              "    <tr>\n",
              "      <th>3</th>\n",
              "      <td>3</td>\n",
              "      <td>5190.351513</td>\n",
              "      <td>5100.195919</td>\n",
              "      <td>5085.495608</td>\n",
              "      <td>6.993728</td>\n",
              "      <td>7.254085</td>\n",
              "      <td>7.162381</td>\n",
              "      <td>1.00</td>\n",
              "      <td>1.00</td>\n",
              "      <td>1.00</td>\n",
              "    </tr>\n",
              "  </tbody>\n",
              "</table>\n",
              "</div>"
            ],
            "text/plain": [
              "   Unnamed: 0      GD loss  BCGD permutation loss  BCGD cyclic loss    GD cpu  \\\n",
              "0           0  5852.532638            5852.532638       5852.532638  1.054638   \n",
              "1           1  5485.665389            5375.263745       5383.381693  2.983312   \n",
              "2           2  5297.316115            5178.988733       5160.130642  5.004057   \n",
              "3           3  5190.351513            5100.195919       5085.495608  6.993728   \n",
              "\n",
              "   BCGD permutation cpu  BCGD cyclic cpu  GD acc  BCGD permutation acc  \\\n",
              "0              0.946651         0.967608    0.05                  0.05   \n",
              "1              2.878073         2.942193    1.00                  1.00   \n",
              "2              5.069253         5.037381    1.00                  1.00   \n",
              "3              7.254085         7.162381    1.00                  1.00   \n",
              "\n",
              "   BCGD cyclic acc  \n",
              "0             0.05  \n",
              "1             1.00  \n",
              "2             1.00  \n",
              "3             1.00  "
            ]
          },
          "execution_count": 20,
          "metadata": {},
          "output_type": "execute_result"
        }
      ],
      "source": [
        "train_res = pd.read_csv(f'{exp_dir}res.csv')\n",
        "train_res.head()"
      ]
    },
    {
      "cell_type": "markdown",
      "metadata": {},
      "source": [
        "# Losses VS iterations"
      ]
    },
    {
      "cell_type": "code",
      "execution_count": 33,
      "metadata": {},
      "outputs": [],
      "source": [
        "cols_with_loss = [c for c in train_res.columns if 'loss' in c]\n",
        "loss_dict = {}\n",
        "\n",
        "for c in cols_with_loss:\n",
        "    loss = train_res[c].values\n",
        "    model_name = ' '.join(c.split(' ')[:-1])\n",
        "    loss_dict[model_name] = loss"
      ]
    },
    {
      "cell_type": "code",
      "execution_count": 36,
      "metadata": {},
      "outputs": [
        {
          "data": {
            "image/png": "[encoded data removed]",
            "text/plain": [
              "<Figure size 504x360 with 1 Axes>"
            ]
          },
          "metadata": {
            "needs_background": "light"
          },
          "output_type": "display_data"
        }
      ],
      "source": [
        "def plot_curves(curves_dict, title, y_label, figsize):\n",
        "    _, ax = plt.subplots(figsize = figsize)\n",
        "\n",
        "    for _, curve_res in curves_dict.items():\n",
        "        ax.plot(\n",
        "            curve_res,\n",
        "            marker = 'o',\n",
        "            linestyle = '--',\n",
        "            linewidth = 1.3,\n",
        "            markerfacecolor = 'white',\n",
        "            markersize = 2\n",
        "        )\n",
        "    plt.legend(list(curves_dict.keys()))\n",
        "    plt.title(title)\n",
        "    plt.xlabel('Iteration')\n",
        "    plt.ylabel(y_label)\n",
        "    plt.grid()\n",
        "\n",
        "\n",
        "plot_curves(\n",
        "    loss_dict,\n",
        "    'Loss VS iterations',\n",
        "    y_label = 'Loss value',\n",
        "    figsize = (7, 5)\n",
        ")"
      ]
    },
    {
      "cell_type": "markdown",
      "metadata": {},
      "source": [
        "# Losses VS CPU"
      ]
    },
    {
      "cell_type": "code",
      "execution_count": 37,
      "metadata": {},
      "outputs": [
        {
          "data": {
            "text/html": [
              "<div>\n",
              "<style scoped>\n",
              "    .dataframe tbody tr th:only-of-type {\n",
              "        vertical-align: middle;\n",
              "    }\n",
              "\n",
              "    .dataframe tbody tr th {\n",
              "        vertical-align: top;\n",
              "    }\n",
              "\n",
              "    .dataframe thead th {\n",
              "        text-align: right;\n",
              "    }\n",
              "</style>\n",
              "<table border=\"1\" class=\"dataframe\">\n",
              "  <thead>\n",
              "    <tr style=\"text-align: right;\">\n",
              "      <th></th>\n",
              "      <th>Unnamed: 0</th>\n",
              "      <th>GD loss</th>\n",
              "      <th>BCGD permutation loss</th>\n",
              "      <th>BCGD cyclic loss</th>\n",
              "      <th>GD cpu</th>\n",
              "      <th>BCGD permutation cpu</th>\n",
              "      <th>BCGD cyclic cpu</th>\n",
              "      <th>GD acc</th>\n",
              "      <th>BCGD permutation acc</th>\n",
              "      <th>BCGD cyclic acc</th>\n",
              "    </tr>\n",
              "  </thead>\n",
              "  <tbody>\n",
              "    <tr>\n",
              "      <th>0</th>\n",
              "      <td>0</td>\n",
              "      <td>5852.532638</td>\n",
              "      <td>5852.532638</td>\n",
              "      <td>5852.532638</td>\n",
              "      <td>1.054638</td>\n",
              "      <td>0.946651</td>\n",
              "      <td>0.967608</td>\n",
              "      <td>0.05</td>\n",
              "      <td>0.05</td>\n",
              "      <td>0.05</td>\n",
              "    </tr>\n",
              "    <tr>\n",
              "      <th>1</th>\n",
              "      <td>1</td>\n",
              "      <td>5485.665389</td>\n",
              "      <td>5375.263745</td>\n",
              "      <td>5383.381693</td>\n",
              "      <td>2.983312</td>\n",
              "      <td>2.878073</td>\n",
              "      <td>2.942193</td>\n",
              "      <td>1.00</td>\n",
              "      <td>1.00</td>\n",
              "      <td>1.00</td>\n",
              "    </tr>\n",
              "    <tr>\n",
              "      <th>2</th>\n",
              "      <td>2</td>\n",
              "      <td>5297.316115</td>\n",
              "      <td>5178.988733</td>\n",
              "      <td>5160.130642</td>\n",
              "      <td>5.004057</td>\n",
              "      <td>5.069253</td>\n",
              "      <td>5.037381</td>\n",
              "      <td>1.00</td>\n",
              "      <td>1.00</td>\n",
              "      <td>1.00</td>\n",
              "    </tr>\n",
              "    <tr>\n",
              "      <th>3</th>\n",
              "      <td>3</td>\n",
              "      <td>5190.351513</td>\n",
              "      <td>5100.195919</td>\n",
              "      <td>5085.495608</td>\n",
              "      <td>6.993728</td>\n",
              "      <td>7.254085</td>\n",
              "      <td>7.162381</td>\n",
              "      <td>1.00</td>\n",
              "      <td>1.00</td>\n",
              "      <td>1.00</td>\n",
              "    </tr>\n",
              "  </tbody>\n",
              "</table>\n",
              "</div>"
            ],
            "text/plain": [
              "   Unnamed: 0      GD loss  BCGD permutation loss  BCGD cyclic loss    GD cpu  \\\n",
              "0           0  5852.532638            5852.532638       5852.532638  1.054638   \n",
              "1           1  5485.665389            5375.263745       5383.381693  2.983312   \n",
              "2           2  5297.316115            5178.988733       5160.130642  5.004057   \n",
              "3           3  5190.351513            5100.195919       5085.495608  6.993728   \n",
              "\n",
              "   BCGD permutation cpu  BCGD cyclic cpu  GD acc  BCGD permutation acc  \\\n",
              "0              0.946651         0.967608    0.05                  0.05   \n",
              "1              2.878073         2.942193    1.00                  1.00   \n",
              "2              5.069253         5.037381    1.00                  1.00   \n",
              "3              7.254085         7.162381    1.00                  1.00   \n",
              "\n",
              "   BCGD cyclic acc  \n",
              "0             0.05  \n",
              "1             1.00  \n",
              "2             1.00  \n",
              "3             1.00  "
            ]
          },
          "execution_count": 37,
          "metadata": {},
          "output_type": "execute_result"
        }
      ],
      "source": [
        "train_res.head()"
      ]
    },
    {
      "cell_type": "code",
      "execution_count": 38,
      "metadata": {},
      "outputs": [
        {
          "data": {
            "text/plain": [
              "{'GD': array([5852.53263824, 5485.66538932, 5297.31611542, 5190.35151332]),\n",
              " 'BCGD permutation': array([5852.53263824, 5375.26374521, 5178.98873264, 5100.1959195 ]),\n",
              " 'BCGD cyclic': array([5852.53263824, 5383.38169307, 5160.13064187, 5085.49560827])}"
            ]
          },
          "execution_count": 38,
          "metadata": {},
          "output_type": "execute_result"
        }
      ],
      "source": [
        "loss_dict"
      ]
    },
    {
      "cell_type": "code",
      "execution_count": 39,
      "metadata": {},
      "outputs": [],
      "source": [
        "cols_with_cpu = [c for c in train_res.columns if 'cpu' in c]\n",
        "cpu_dict = {}\n",
        "for c in cols_with_cpu:\n",
        "    cpu = train_res[c]\n",
        "    model_name = ' '.join(c.split(' ')[:-1])\n",
        "    cpu_dict[model_name] = cpu"
      ]
    },
    {
      "cell_type": "code",
      "execution_count": 45,
      "metadata": {},
      "outputs": [
        {
          "data": {
            "image/png": "[encoded data removed]",
            "text/plain": [
              "<Figure size 432x288 with 1 Axes>"
            ]
          },
          "metadata": {
            "needs_background": "light"
          },
          "output_type": "display_data"
        }
      ],
      "source": [
        "def plot_loss_vs_cpu(loss_dict_, cpu_dict_):\n",
        "    fig, ax = plt.subplots()\n",
        "\n",
        "    assert(loss_dict_.keys() == cpu_dict_.keys())\n",
        "    \n",
        "    for model_name, loss in loss_dict_.items(): \n",
        "        cpu = cpu_dict_[model_name]\n",
        "        ax.plot(\n",
        "            cpu, \n",
        "            loss,\n",
        "            marker = 'o',\n",
        "            markerfacecolor = 'white'\n",
        "        )\n",
        "    \n",
        "    plt.legend(loss_dict_.keys())\n",
        "    plt.xlabel('CPU time')\n",
        "    plt.ylabel('Loss value')\n",
        "    plt.title('Loss value VS CPU time')\n",
        "    plt.grid()\n",
        "\n",
        "\n",
        "plot_loss_vs_cpu(loss_dict, cpu_dict)"
      ]
    },
    {
      "cell_type": "markdown",
      "metadata": {
        "id": "d_yGB-zWji8e"
      },
      "source": [
        "# Data preparation"
      ]
    },
    {
      "cell_type": "markdown",
      "metadata": {
        "id": "qFdvc2CBmC56"
      },
      "source": [
        "## Saving data"
      ]
    },
    {
      "cell_type": "code",
      "execution_count": 46,
      "metadata": {
        "colab": {
          "base_uri": "https://localhost:8080/",
          "height": 633
        },
        "id": "VmisRJGYmC59",
        "outputId": "60c9d7fc-a9b8-45b3-d853-7b566509ae06"
      },
      "outputs": [
        {
          "data": {
            "text/html": [
              "<div>\n",
              "<style scoped>\n",
              "    .dataframe tbody tr th:only-of-type {\n",
              "        vertical-align: middle;\n",
              "    }\n",
              "\n",
              "    .dataframe tbody tr th {\n",
              "        vertical-align: top;\n",
              "    }\n",
              "\n",
              "    .dataframe thead th {\n",
              "        text-align: right;\n",
              "    }\n",
              "</style>\n",
              "<table border=\"1\" class=\"dataframe\">\n",
              "  <thead>\n",
              "    <tr style=\"text-align: right;\">\n",
              "      <th></th>\n",
              "      <th>CPU total time</th>\n",
              "      <th>N iterations</th>\n",
              "      <th>Final accuracy</th>\n",
              "      <th>CPU total time_norm</th>\n",
              "      <th>N iterations_norm</th>\n",
              "      <th>Final accuracy_norm</th>\n",
              "    </tr>\n",
              "  </thead>\n",
              "  <tbody>\n",
              "    <tr>\n",
              "      <th>GD</th>\n",
              "      <td>8.025136</td>\n",
              "      <td>4</td>\n",
              "      <td>1.0</td>\n",
              "      <td>0.969413</td>\n",
              "      <td>1.0</td>\n",
              "      <td>1.0</td>\n",
              "    </tr>\n",
              "    <tr>\n",
              "      <th>BCGD permutation</th>\n",
              "      <td>8.278344</td>\n",
              "      <td>4</td>\n",
              "      <td>1.0</td>\n",
              "      <td>1.000000</td>\n",
              "      <td>1.0</td>\n",
              "      <td>1.0</td>\n",
              "    </tr>\n",
              "    <tr>\n",
              "      <th>BCGD cyclic</th>\n",
              "      <td>8.145541</td>\n",
              "      <td>4</td>\n",
              "      <td>1.0</td>\n",
              "      <td>0.983958</td>\n",
              "      <td>1.0</td>\n",
              "      <td>1.0</td>\n",
              "    </tr>\n",
              "  </tbody>\n",
              "</table>\n",
              "</div>"
            ],
            "text/plain": [
              "                  CPU total time  N iterations  Final accuracy  \\\n",
              "GD                      8.025136             4             1.0   \n",
              "BCGD permutation        8.278344             4             1.0   \n",
              "BCGD cyclic             8.145541             4             1.0   \n",
              "\n",
              "                  CPU total time_norm  N iterations_norm  Final accuracy_norm  \n",
              "GD                           0.969413                1.0                  1.0  \n",
              "BCGD permutation             1.000000                1.0                  1.0  \n",
              "BCGD cyclic                  0.983958                1.0                  1.0  "
            ]
          },
          "execution_count": 46,
          "metadata": {},
          "output_type": "execute_result"
        },
        {
          "data": {
            "image/png": "[encoded data removed]",
            "text/plain": [
              "<Figure size 576x576 with 1 Axes>"
            ]
          },
          "metadata": {
            "needs_background": "light"
          },
          "output_type": "display_data"
        }
      ],
      "source": [
        "bar_metrics = pd.DataFrame.from_dict(cpu_times_total, orient='index', columns = ['CPU total time'])\n",
        "bar_metrics['N iterations'] = n_iters.values()\n",
        "\n",
        "final_accuracies = {name: acc[-1] for name, acc in accuracies.items()}\n",
        "bar_metrics['Final accuracy'] = final_accuracies.values()\n",
        "\n",
        "\n",
        "\n",
        "normalize_cols(bar_metrics)\n",
        "cols_to_plot = [c for c in bar_metrics.columns if 'norm' in c]\n",
        "\n",
        "plot_bar_metrics(bar_metrics.loc[:, cols_to_plot])\n",
        "bar_metrics.to_csv(full_dir + 'metrics res.csv')\n",
        "\n",
        "bar_metrics.head()"
      ]
    },
    {
      "cell_type": "markdown",
      "metadata": {
        "id": "AvivnwTfmC5-"
      },
      "source": [
        "## Graphics"
      ]
    },
    {
      "cell_type": "code",
      "execution_count": 47,
      "metadata": {
        "colab": {
          "base_uri": "https://localhost:8080/",
          "height": 404
        },
        "id": "07EmcJuSji8r",
        "outputId": "9a633c99-0b11-4415-9342-fdb0c9988be5"
      },
      "outputs": [
        {
          "data": {
            "image/png": "[encoded data removed]",
            "text/plain": [
              "<Figure size 648x432 with 1 Axes>"
            ]
          },
          "metadata": {
            "needs_background": "light"
          },
          "output_type": "display_data"
        }
      ],
      "source": [
        "def plot_curves(curves_dict, title, y_label, figsize):\n",
        "    _, ax = plt.subplots(figsize = figsize)\n",
        "\n",
        "    for _, curve_res in curves_dict.items():\n",
        "        ax.plot(\n",
        "            curve_res,\n",
        "            marker = 'o',\n",
        "            linestyle = '--',\n",
        "            linewidth = 1.3,\n",
        "            markerfacecolor = 'white',\n",
        "            markersize = 2\n",
        "        )\n",
        "    plt.legend(list(curves_dict.keys()))\n",
        "    plt.title(title)\n",
        "    plt.xlabel('Iteration')\n",
        "    plt.ylabel(y_label)\n",
        "    plt.grid()\n",
        "\n",
        "\n",
        "# plot_curves({'Cyclic':losses['BCGD cyclic']}, 'Losses cyclic', y_label = 'Loss')\n",
        "# plot_curves({'GD':losses['GD']}, 'Losses GD', y_label = 'Loss')\n",
        "plot_curves(\n",
        "    losses,\n",
        "    'Losses VS N iterations', \n",
        "    y_label = 'Loss',\n",
        "    figsize = (9, 6)\n",
        ")"
      ]
    },
    {
      "cell_type": "code",
      "execution_count": 48,
      "metadata": {
        "colab": {
          "base_uri": "https://localhost:8080/",
          "height": 295
        },
        "id": "x0Vuj0yXmC6A",
        "outputId": "1a0af537-c91d-4e1b-e79b-ee023e0a2102"
      },
      "outputs": [
        {
          "data": {
            "image/png": "[encoded data removed]",
            "text/plain": [
              "<Figure size 432x288 with 1 Axes>"
            ]
          },
          "metadata": {
            "needs_background": "light"
          },
          "output_type": "display_data"
        }
      ],
      "source": [
        "def plot_losses_vs_cpu(losses_, cpu_times_):\n",
        "    assert(list(losses_.keys()) == list(cpu_times_.keys()))\n",
        "\n",
        "    _, ax = plt.subplots()\n",
        "\n",
        "    for model_name, loss in losses_.items():\n",
        "        cpu_time = cpu_times_[model_name]\n",
        "\n",
        "        ax.plot(\n",
        "            cpu_time,\n",
        "            loss,\n",
        "            marker = 'o',\n",
        "            markerfacecolor = 'white'\n",
        "        )\n",
        "    plt.xlabel('CPU time')\n",
        "    plt.ylabel('Loss')\n",
        "    plt.title('Loss VS CPU time')\n",
        "    plt.legend(list(losses_.keys()))\n",
        "    plt.grid()\n",
        "\n",
        "\n",
        "plot_losses_vs_cpu(losses, cpu_times)"
      ]
    },
    {
      "cell_type": "markdown",
      "metadata": {
        "id": "U2In6I0eji8s"
      },
      "source": [
        "# Real dataset"
      ]
    },
    {
      "cell_type": "code",
      "execution_count": null,
      "metadata": {
        "id": "ayGlyYP8mC6C"
      },
      "outputs": [],
      "source": [
        "# df = pd.read_csv('Pokemon.csv')"
      ]
    },
    {
      "cell_type": "code",
      "execution_count": null,
      "metadata": {
        "id": "op0he64kmC6C",
        "outputId": "04cf5f59-6d1b-4647-f5dd-87c49e07ee0d"
      },
      "outputs": [
        {
          "data": {
            "text/html": [
              "<div>\n",
              "<style scoped>\n",
              "    .dataframe tbody tr th:only-of-type {\n",
              "        vertical-align: middle;\n",
              "    }\n",
              "\n",
              "    .dataframe tbody tr th {\n",
              "        vertical-align: top;\n",
              "    }\n",
              "\n",
              "    .dataframe thead th {\n",
              "        text-align: right;\n",
              "    }\n",
              "</style>\n",
              "<table border=\"1\" class=\"dataframe\">\n",
              "  <thead>\n",
              "    <tr style=\"text-align: right;\">\n",
              "      <th></th>\n",
              "      <th>number</th>\n",
              "      <th>name</th>\n",
              "      <th>type1</th>\n",
              "      <th>type2</th>\n",
              "      <th>total</th>\n",
              "      <th>hp</th>\n",
              "      <th>attack</th>\n",
              "      <th>defense</th>\n",
              "      <th>sp_attack</th>\n",
              "      <th>sp_defense</th>\n",
              "      <th>speed</th>\n",
              "      <th>generation</th>\n",
              "      <th>legendary</th>\n",
              "    </tr>\n",
              "  </thead>\n",
              "  <tbody>\n",
              "    <tr>\n",
              "      <th>0</th>\n",
              "      <td>1</td>\n",
              "      <td>Bulbasaur</td>\n",
              "      <td>Grass</td>\n",
              "      <td>Poison</td>\n",
              "      <td>318</td>\n",
              "      <td>45</td>\n",
              "      <td>49</td>\n",
              "      <td>49</td>\n",
              "      <td>65</td>\n",
              "      <td>65</td>\n",
              "      <td>45</td>\n",
              "      <td>1</td>\n",
              "      <td>False</td>\n",
              "    </tr>\n",
              "    <tr>\n",
              "      <th>1</th>\n",
              "      <td>2</td>\n",
              "      <td>Ivysaur</td>\n",
              "      <td>Grass</td>\n",
              "      <td>Poison</td>\n",
              "      <td>405</td>\n",
              "      <td>60</td>\n",
              "      <td>62</td>\n",
              "      <td>63</td>\n",
              "      <td>80</td>\n",
              "      <td>80</td>\n",
              "      <td>60</td>\n",
              "      <td>1</td>\n",
              "      <td>False</td>\n",
              "    </tr>\n",
              "    <tr>\n",
              "      <th>2</th>\n",
              "      <td>3</td>\n",
              "      <td>Venusaur</td>\n",
              "      <td>Grass</td>\n",
              "      <td>Poison</td>\n",
              "      <td>525</td>\n",
              "      <td>80</td>\n",
              "      <td>82</td>\n",
              "      <td>83</td>\n",
              "      <td>100</td>\n",
              "      <td>100</td>\n",
              "      <td>80</td>\n",
              "      <td>1</td>\n",
              "      <td>False</td>\n",
              "    </tr>\n",
              "    <tr>\n",
              "      <th>3</th>\n",
              "      <td>3</td>\n",
              "      <td>Mega Venusaur</td>\n",
              "      <td>Grass</td>\n",
              "      <td>Poison</td>\n",
              "      <td>625</td>\n",
              "      <td>80</td>\n",
              "      <td>100</td>\n",
              "      <td>123</td>\n",
              "      <td>122</td>\n",
              "      <td>120</td>\n",
              "      <td>80</td>\n",
              "      <td>1</td>\n",
              "      <td>False</td>\n",
              "    </tr>\n",
              "    <tr>\n",
              "      <th>4</th>\n",
              "      <td>3</td>\n",
              "      <td>Gigantamax Venusaur</td>\n",
              "      <td>Grass</td>\n",
              "      <td>Poison</td>\n",
              "      <td>525</td>\n",
              "      <td>80</td>\n",
              "      <td>82</td>\n",
              "      <td>83</td>\n",
              "      <td>100</td>\n",
              "      <td>100</td>\n",
              "      <td>80</td>\n",
              "      <td>1</td>\n",
              "      <td>False</td>\n",
              "    </tr>\n",
              "  </tbody>\n",
              "</table>\n",
              "</div>"
            ],
            "text/plain": [
              "   number                 name  type1   type2  total  hp  attack  defense  \\\n",
              "0       1            Bulbasaur  Grass  Poison    318  45      49       49   \n",
              "1       2              Ivysaur  Grass  Poison    405  60      62       63   \n",
              "2       3             Venusaur  Grass  Poison    525  80      82       83   \n",
              "3       3        Mega Venusaur  Grass  Poison    625  80     100      123   \n",
              "4       3  Gigantamax Venusaur  Grass  Poison    525  80      82       83   \n",
              "\n",
              "   sp_attack  sp_defense  speed  generation  legendary  \n",
              "0         65          65     45           1      False  \n",
              "1         80          80     60           1      False  \n",
              "2        100         100     80           1      False  \n",
              "3        122         120     80           1      False  \n",
              "4        100         100     80           1      False  "
            ]
          },
          "execution_count": 245,
          "metadata": {},
          "output_type": "execute_result"
        }
      ],
      "source": [
        "# df.head()"
      ]
    },
    {
      "cell_type": "code",
      "execution_count": null,
      "metadata": {
        "id": "XT973oB7mC6D"
      },
      "outputs": [],
      "source": [
        "# df.head()\n",
        "# X_real = df.loc[:, ['total', 'sp_attack']].values\n",
        "# Y_real = df['legendary'].astype('int').values\n"
      ]
    },
    {
      "cell_type": "code",
      "execution_count": null,
      "metadata": {
        "id": "cxgsNL_JmC6D",
        "outputId": "14660a4e-0c71-4d58-e177-297e3650fc62"
      },
      "outputs": [
        {
          "data": {
            "image/png": "[encoded data removed]",
            "text/plain": [
              "<Figure size 432x288 with 1 Axes>"
            ]
          },
          "metadata": {
            "needs_background": "light"
          },
          "output_type": "display_data"
        }
      ],
      "source": [
        "# plot_clusters(\n",
        "#     X_real,\n",
        "#     Y_real\n",
        "# )"
      ]
    },
    {
      "cell_type": "code",
      "execution_count": null,
      "metadata": {
        "id": "W1DOQTaymC6E",
        "outputId": "750d55d7-5776-4cd5-a2bb-b95fdd12fce4"
      },
      "outputs": [
        {
          "name": "stdout",
          "output_type": "stream",
          "text": [
            "Found 954 instances of object 0\n",
            "We have to delabel 801 instances\n",
            "Found 118 instances of object 1\n",
            "We have to delabel 99 instances\n"
          ]
        }
      ],
      "source": [
        "# Y_real_delabeled = delabel_data(\n",
        "#     Y_real,\n",
        "#     labeled_percent = 0.16, # DataProperties.labeled_percentage,\n",
        "#     delabel_value = DataProperties.unlabeled\n",
        "# )"
      ]
    },
    {
      "cell_type": "code",
      "execution_count": null,
      "metadata": {
        "id": "G_9uTw_Fji8s"
      },
      "outputs": [],
      "source": [
        "# wine=datasets.load_wine()\n",
        "\n",
        "# #Conver to pandas dataframe\n",
        "# data=pd.DataFrame(data=np.c_[wine['data'],wine['target']],columns=wine['feature_names']+['target'])\n",
        "\n",
        "# data = data.loc[\n",
        "#     (data['target'] == 1) | (data['target'] == 0),\n",
        "#     ['od280/od315_of_diluted_wines', 'alcohol', 'target']\n",
        "# ]"
      ]
    },
    {
      "cell_type": "code",
      "execution_count": null,
      "metadata": {
        "colab": {
          "base_uri": "https://localhost:8080/",
          "height": 268
        },
        "id": "D-DhernSji8s",
        "outputId": "0bb868a7-fc14-46a5-e0c8-b06c6e190587"
      },
      "outputs": [
        {
          "data": {
            "image/png": "[encoded data removed]",
            "text/plain": [
              "<Figure size 432x288 with 1 Axes>"
            ]
          },
          "metadata": {
            "needs_background": "light"
          },
          "output_type": "display_data"
        }
      ],
      "source": [
        "# X_real = data.loc[\n",
        "#     :,\n",
        "#     ['od280/od315_of_diluted_wines', 'alcohol']\n",
        "# ].values\n",
        "# Y_real = data['target'].values\n",
        "\n",
        "# plot_clusters(\n",
        "#     X_real,\n",
        "#     Y_real\n",
        "# )"
      ]
    },
    {
      "cell_type": "code",
      "execution_count": null,
      "metadata": {
        "colab": {
          "base_uri": "https://localhost:8080/"
        },
        "id": "PLp4UwVRji8t",
        "outputId": "734982c6-2c10-4b39-8aaa-eaa4c8c820d9"
      },
      "outputs": [
        {
          "name": "stdout",
          "output_type": "stream",
          "text": [
            "Iteration: 0, Loss: 24173.807351957803, delta loss: 24173.807351957803\n",
            "Iteration: 1, Loss: 24173.807351957803, delta loss: 0.0\n",
            "Iteration: 2, Loss: 24173.807351957803, delta loss: 0.0\n",
            "Iteration: 3, Loss: 24173.807351957803, delta loss: 0.0\n",
            "Iteration: 4, Loss: 24173.807351957803, delta loss: 0.0\n",
            "\n",
            "\n"
          ]
        }
      ],
      "source": [
        "# solver = GradientDescentSolver(\n",
        "#     lr_strategy = 'lr_constant',\n",
        "#     learning_rate = 0.0001,\n",
        "#     similarity_func = None\n",
        "# )\n",
        "\n",
        "# Y_real_preds = solver.solve(\n",
        "#     X_real,\n",
        "#     Y_real_delabeled,\n",
        "#     iter_limit=5,\n",
        "#     delta_loss_limit = 0.003,\n",
        "#     stop_loss = 20\n",
        "# )"
      ]
    }
  ],
  "metadata": {
    "colab": {
      "collapsed_sections": [],
      "name": "HW1.ipynb",
      "provenance": []
    },
    "kernelspec": {
      "display_name": "Python 3",
      "name": "python3"
    },
    "language_info": {
      "codemirror_mode": {
        "name": "ipython",
        "version": 3
      },
      "file_extension": ".py",
      "mimetype": "text/x-python",
      "name": "python",
      "nbconvert_exporter": "python",
      "pygments_lexer": "ipython3",
      "version": "3.9.7"
    }
  },
  "nbformat": 4,
  "nbformat_minor": 0
}
