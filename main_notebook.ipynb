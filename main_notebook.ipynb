{
  "cells": [
    {
      "cell_type": "markdown",
      "metadata": {
        "id": "SY5WztYNneGg"
      },
      "source": [
        "### MSc Computer Science, Data Science @UniPD\n",
        "### Optimization Methods for Data Science\n",
        "---"
      ]
    },
    {
      "cell_type": "markdown",
      "metadata": {
        "id": "dDnBuyzNnFxk"
      },
      "source": [
        "# Packages"
      ]
    },
    {
      "cell_type": "code",
      "execution_count": 1,
      "metadata": {
        "id": "VlSWeYY3nI05"
      },
      "outputs": [],
      "source": [
        "from os.path import isdir\n",
        "from os import mkdir\n",
        "\n",
        "env = 'colab'  # 'pc', 'colab'\n",
        "git_download_path = 'https://raw.githubusercontent.com/PashaIanko/Semi-Supervised-Labelling/master/'\n",
        "experiment = 'ExpRealData/'\n",
        "\n",
        "save_dir = ''\n",
        "if env == 'pc':\n",
        "    save_dir = f'C:/Users/79137/Pasha/2. UNIPD/Semester 2/Optimization for Data Science/Homeworks/HW 1/Semi-Supervised-Labelling/'\n",
        "elif env == 'colab':\n",
        "    save_dir = f'/content/drive/MyDrive/UNIPD/ODS/HW1/'"
      ]
    },
    {
      "cell_type": "code",
      "execution_count": 2,
      "metadata": {
        "id": "7uuSxlZRjyxM"
      },
      "outputs": [],
      "source": [
        "%%capture\n",
        "\n",
        "def download_files(url_dict):\n",
        "    for file, url in url_dict.items():\n",
        "        !wget -O {file} {url} {file}\n",
        "\n",
        "if env == 'colab':\n",
        "    from google.colab import drive\n",
        "    drive.mount('/content/drive')\n",
        "\n",
        "    files = [\n",
        "           'BCGDSolver.py',\n",
        "           'DataProperties.py',\n",
        "           'GradientDescentSolver.py',\n",
        "           'GradientSolver.py',\n",
        "           'Utils.py'  \n",
        "    ]\n",
        "\n",
        "    url_dict = {file: git_download_path + file for file in files}\n",
        "    download_files(url_dict)"
      ]
    },
    {
      "cell_type": "markdown",
      "metadata": {
        "id": "3JJ6f60GqIsy"
      },
      "source": [
        "# Saving directory"
      ]
    },
    {
      "cell_type": "code",
      "execution_count": 3,
      "metadata": {
        "id": "Oc1A42KRqKjS"
      },
      "outputs": [],
      "source": [
        "full_dir = f'{save_dir}{experiment}'\n",
        "assert(isdir(save_dir))\n",
        "\n",
        "if not isdir(full_dir):\n",
        "    mkdir(full_dir)\n",
        "\n",
        "assert(isdir(full_dir))"
      ]
    },
    {
      "cell_type": "code",
      "execution_count": 80,
      "metadata": {
        "id": "2N9xcpuXji8g"
      },
      "outputs": [],
      "source": [
        "from sklearn.datasets import make_blobs\n",
        "import numpy as np\n",
        "\n",
        "from sklearn import datasets\n",
        "from sklearn.metrics import accuracy_score\n",
        "import pandas as pd\n",
        "import timeit\n",
        "from sklearn.metrics import pairwise_distances\n",
        "from timeit import default_timer\n",
        "\n",
        "# Plotting\n",
        "import matplotlib.pyplot as plt"
      ]
    },
    {
      "cell_type": "code",
      "execution_count": 5,
      "metadata": {
        "id": "_t8si-IGji8g"
      },
      "outputs": [],
      "source": [
        "import Utils\n",
        "import GradientSolver\n",
        "import GradientDescentSolver\n",
        "import DataProperties\n",
        "import BCGDSolver\n",
        "import importlib\n",
        "\n",
        "def reload_all(modules_list):\n",
        "    for module in modules_list:\n",
        "        importlib.reload(module)\n",
        "\n",
        "reload_all(\n",
        "    [\n",
        "        Utils,\n",
        "        GradientSolver,\n",
        "        GradientDescentSolver,\n",
        "        DataProperties,\n",
        "        BCGDSolver\n",
        "    ]\n",
        ")\n",
        "\n",
        "from Utils import *\n",
        "from GradientSolver import GradientSolver\n",
        "from GradientDescentSolver import GradientDescentSolver\n",
        "from DataProperties import DataProperties\n",
        "from BCGDSolver import BCGDSolver"
      ]
    },
    {
      "cell_type": "markdown",
      "metadata": {
        "id": "d_yGB-zWji8e"
      },
      "source": [
        "# Data preparation"
      ]
    },
    {
      "cell_type": "code",
      "execution_count": null,
      "metadata": {
        "id": "fjGFGUL5ji8f"
      },
      "outputs": [],
      "source": [
        "# Fix states\n",
        "sklearn_random_state = 42\n",
        "numpy_seed = 42\n",
        "\n",
        "np.random.seed(numpy_seed)"
      ]
    },
    {
      "cell_type": "code",
      "execution_count": null,
      "metadata": {
        "id": "ba7q6jrYji8h"
      },
      "outputs": [],
      "source": [
        "# %%timeit\n",
        "X, Y = make_blobs(\n",
        "    n_samples = DataProperties.n_samples,\n",
        "    centers = DataProperties.n_clusters,\n",
        "    n_features = DataProperties.n_dims,\n",
        "    random_state = sklearn_random_state,\n",
        "    cluster_std = 1.5\n",
        ")\n",
        "\n",
        "\n",
        "def euclidian_similarity(Xi, Xj):\n",
        "    return 1 / (norm(Xi - Xj) + 0.001)"
      ]
    },
    {
      "cell_type": "code",
      "execution_count": null,
      "metadata": {
        "id": "A7_6tarABX1j"
      },
      "outputs": [],
      "source": [
        "# %%timeit\n",
        "\n",
        "# Old inefficient weights calculation\n",
        "# weights = calc_weight_matrix(X, weight_func = None)\n",
        "\n",
        "\n",
        "\n",
        "weights = pairwise_distances(X, metric = 'euclidean')\n",
        "weights = 1 / (weights + 0.001)\n",
        "assert(weights.shape == (DataProperties.n_samples, DataProperties.n_samples))"
      ]
    },
    {
      "cell_type": "code",
      "execution_count": null,
      "metadata": {
        "colab": {
          "base_uri": "https://localhost:8080/",
          "height": 282
        },
        "id": "thJDW2poBbiz",
        "outputId": "e91cb33c-cd78-4943-a26a-2bf1d3ee1711"
      },
      "outputs": [
        {
          "name": "stdout",
          "output_type": "stream",
          "text": [
            "Data shape: X: (500, 2), Y: (500,)\n"
          ]
        },
        {
          "data": {
            "image/png": "[encoded data removed]",
            "text/plain": [
              "<Figure size 432x288 with 1 Axes>"
            ]
          },
          "metadata": {
            "needs_background": "light"
          },
          "output_type": "display_data"
        }
      ],
      "source": [
        "Y = Y.astype('float64')\n",
        "clusters = np.unique(Y)\n",
        "\n",
        "print(f'Data shape: X: {X.shape}, Y: {Y.shape}')\n",
        "plot_clusters(X, Y)"
      ]
    },
    {
      "cell_type": "markdown",
      "metadata": {
        "id": "3euoJu6uji8i"
      },
      "source": [
        "## Unlabel subset and visualize"
      ]
    },
    {
      "cell_type": "code",
      "execution_count": null,
      "metadata": {
        "colab": {
          "base_uri": "https://localhost:8080/",
          "height": 404
        },
        "id": "Q_Gd7FQhji8j",
        "outputId": "e118fe23-4174-4c22-c587-5778446b9774"
      },
      "outputs": [
        {
          "name": "stdout",
          "output_type": "stream",
          "text": [
            "Found 250 instances of object 0.0\n",
            "We have to delabel 237 instances\n",
            "Found 250 instances of object 1.0\n",
            "We have to delabel 237 instances\n",
            "\n",
            "    We have 474 unlabeled data\n",
            "    Out of 500\n",
            "    \n"
          ]
        },
        {
          "data": {
            "image/png": "[encoded data removed]",
            "text/plain": [
              "<Figure size 432x288 with 1 Axes>"
            ]
          },
          "metadata": {
            "needs_background": "light"
          },
          "output_type": "display_data"
        }
      ],
      "source": [
        "Y_delabeled = delabel_data(\n",
        "    Y,\n",
        "    labeled_percent = DataProperties.labeled_percentage,\n",
        "    delabel_value = DataProperties.unlabeled\n",
        ")\n",
        "\n",
        "print(\n",
        "    f'''\n",
        "    We have {len(Y_delabeled[Y_delabeled == DataProperties.unlabeled])} unlabeled data\n",
        "    Out of {len(Y_delabeled)}\n",
        "    '''\n",
        ")\n",
        "\n",
        "plot_clusters(X, Y_delabeled)"
      ]
    },
    {
      "cell_type": "markdown",
      "metadata": {
        "id": "kXobOU1Oji8j"
      },
      "source": [
        "- Up to now, we have the clustered data, saved correct labelling (Y) and delabelled data (Y_delabelled)\n",
        "- For the unlabelled y variables, the loss function depends on the (y_1, ..., y_U) unlabeled parameters. Each of the\n",
        "parameters is independent on others, and can be 0 or 1 (for **binary clustering problem**). This is why we will be searching\n",
        "for **optimal solution in the R^(U)** space, which yields minimum to the **loss function**"
      ]
    },
    {
      "cell_type": "code",
      "execution_count": null,
      "metadata": {
        "colab": {
          "base_uri": "https://localhost:8080/"
        },
        "id": "8bywWUfPji8k",
        "outputId": "93596f8d-dd34-40b9-ba3b-49d1a1d73e68"
      },
      "outputs": [
        {
          "name": "stdout",
          "output_type": "stream",
          "text": [
            "Counter({-1000000.0: 474, 0.0: 13, 1.0: 13})\n"
          ]
        }
      ],
      "source": [
        "import collections\n",
        "class_stats = collections.Counter(Y_delabeled)\n",
        "assert(len(class_stats.keys()) == 3)  # 2 labeled classes and 1 unlabeled\n",
        "print(class_stats)"
      ]
    },
    {
      "cell_type": "markdown",
      "metadata": {
        "id": "a8p9YRMLnWHy"
      },
      "source": [
        "# Gradient descent"
      ]
    },
    {
      "cell_type": "code",
      "execution_count": null,
      "metadata": {
        "id": "hYtCWDXkji8k"
      },
      "outputs": [],
      "source": [
        "solver = GradientDescentSolver(\n",
        "    similarity_func = None, # euclidian_similarity,\n",
        "    lr_strategy = 'lr_constant',  # search for alpha_k\n",
        "    learning_rate = 0.0001\n",
        ")"
      ]
    },
    {
      "cell_type": "code",
      "execution_count": null,
      "metadata": {
        "colab": {
          "base_uri": "https://localhost:8080/",
          "height": 449
        },
        "id": "wVOCEkE4iHif",
        "outputId": "fead8a01-aa7d-4e4e-f37e-2b0ab10dfa36"
      },
      "outputs": [
        {
          "name": "stdout",
          "output_type": "stream",
          "text": [
            "Iteration: 0, Loss: 1107.5101523963954, delta loss: 1107.5101523963954\n",
            "Iteration: 1, Loss: 1104.935168939773, delta loss: -2.5749834566224763\n",
            "Iteration: 2, Loss: 1102.4422251070093, delta loss: -2.492943832763558\n",
            "Iteration: 3, Loss: 1100.0279769462734, delta loss: -2.4142481607359514\n",
            "0.08128544691447709\n",
            "Exit condition\n",
            "\n",
            "\n"
          ]
        }
      ],
      "source": [
        "Y_preds_GD = solver.solve(\n",
        "    X, \n",
        "    Y_delabeled,\n",
        "    Y_true = Y,\n",
        "    iter_limit = 30,\n",
        "    delta_percent_limit = 0.1,  # when dLoss / dLoss prev < 0.02\n",
        "    delta_loss_limit = 0.0, # dont use\n",
        "    stop_loss = 0.0,  # dont use\n",
        "    weight_matrix = weights\n",
        ")"
      ]
    },
    {
      "cell_type": "code",
      "execution_count": null,
      "metadata": {
        "colab": {
          "base_uri": "https://localhost:8080/",
          "height": 530
        },
        "id": "RNwF4Xw1ji8l",
        "outputId": "923231b9-aafb-499e-fd47-d66ee285e288"
      },
      "outputs": [
        {
          "name": "stdout",
          "output_type": "stream",
          "text": [
            "Accuracy: 1.0\n"
          ]
        },
        {
          "data": {
            "image/png": "[encoded data removed]",
            "text/plain": [
              "<Figure size 432x288 with 1 Axes>"
            ]
          },
          "metadata": {
            "needs_background": "light"
          },
          "output_type": "display_data"
        },
        {
          "data": {
            "image/png": "[encoded data removed]",
            "text/plain": [
              "<Figure size 432x288 with 1 Axes>"
            ]
          },
          "metadata": {
            "needs_background": "light"
          },
          "output_type": "display_data"
        }
      ],
      "source": [
        "plot_clusters(X, Y)\n",
        "plot_clusters(X, Y_preds_GD)\n",
        "print(f'Accuracy: {accuracy_score(Y, Y_preds_GD)}')"
      ]
    },
    {
      "cell_type": "code",
      "execution_count": null,
      "metadata": {
        "colab": {
          "base_uri": "https://localhost:8080/",
          "height": 266
        },
        "id": "kkBkvHBUji8m",
        "outputId": "bcf18ed1-c891-4fe5-924b-4963387f701e"
      },
      "outputs": [
        {
          "data": {
            "image/png": "[encoded data removed]",
            "text/plain": [
              "<Figure size 432x288 with 1 Axes>"
            ]
          },
          "metadata": {
            "needs_background": "light"
          },
          "output_type": "display_data"
        }
      ],
      "source": [
        "plt.plot(solver.losses, marker = 'o')\n",
        "plt.grid()"
      ]
    },
    {
      "cell_type": "code",
      "execution_count": null,
      "metadata": {
        "colab": {
          "base_uri": "https://localhost:8080/",
          "height": 269
        },
        "id": "YJIpRlPkD3DG",
        "outputId": "33982172-995c-4614-a2c8-154ffdd75172"
      },
      "outputs": [
        {
          "data": {
            "image/png": "[encoded data removed]",
            "text/plain": [
              "<Figure size 432x288 with 1 Axes>"
            ]
          },
          "metadata": {
            "needs_background": "light"
          },
          "output_type": "display_data"
        }
      ],
      "source": [
        "plt.plot(solver.accuracies, marker = 'o')\n",
        "plt.ylim([0, 1])\n",
        "plt.grid()"
      ]
    },
    {
      "cell_type": "markdown",
      "metadata": {
        "id": "GP5tfHQAji8m"
      },
      "source": [
        "# Block coordinates gradient descent (randomized)"
      ]
    },
    {
      "cell_type": "markdown",
      "metadata": {
        "id": "cCyQ8hkUji8m"
      },
      "source": [
        "## BCGD random permutations"
      ]
    },
    {
      "cell_type": "code",
      "execution_count": null,
      "metadata": {
        "id": "4-b49qQUji8n"
      },
      "outputs": [],
      "source": [
        "random_solver = BCGDSolver(\n",
        "    lr_strategy = 'lr_constant',\n",
        "    learning_rate = 0.0001,\n",
        "    similarity_func = None,\n",
        "\n",
        "    bcgd_strategy = 'random permutation',\n",
        ")"
      ]
    },
    {
      "cell_type": "code",
      "execution_count": null,
      "metadata": {
        "colab": {
          "base_uri": "https://localhost:8080/",
          "height": 554
        },
        "id": "DcYrVUNwji8n",
        "outputId": "a54613a1-a3a2-47ce-a74f-3175c3afc457"
      },
      "outputs": [
        {
          "name": "stdout",
          "output_type": "stream",
          "text": [
            "Iteration: 0, Loss: 102822.87984855211, Delta: 102822.87984855211\n",
            "Iteration: 1, Loss: 100677.53041786962, Delta: 2145.349430682487\n",
            "Iteration: 2, Loss: 99115.62048110875, Delta: 1561.9099367608724\n",
            "Iteration: 3, Loss: 97962.79580855397, Delta: 1152.8246725547797\n",
            "Iteration: 4, Loss: 97103.77145155089, Delta: 859.0243570030871\n",
            "Iteration: 5, Loss: 96459.35666391515, Delta: 644.414787635731\n",
            "Iteration: 6, Loss: 95973.50432485607, Delta: 485.85233905908535\n",
            "Iteration: 7, Loss: 95605.88972872205, Delta: 367.6145961340226\n"
          ]
        },
        {
          "ename": "KeyboardInterrupt",
          "evalue": "ignored",
          "output_type": "error",
          "traceback": [
            "\u001b[0;31m---------------------------------------------------------------------------\u001b[0m",
            "\u001b[0;31mKeyboardInterrupt\u001b[0m                         Traceback (most recent call last)",
            "\u001b[0;32m<ipython-input-16-d4525e0d9e79>\u001b[0m in \u001b[0;36m<module>\u001b[0;34m()\u001b[0m\n\u001b[1;32m      7\u001b[0m     \u001b[0mdelta_loss_limit\u001b[0m \u001b[0;34m=\u001b[0m \u001b[0;36m0.0\u001b[0m\u001b[0;34m,\u001b[0m\u001b[0;34m\u001b[0m\u001b[0;34m\u001b[0m\u001b[0m\n\u001b[1;32m      8\u001b[0m     \u001b[0mstop_loss\u001b[0m\u001b[0;34m=\u001b[0m \u001b[0;36m0.0\u001b[0m\u001b[0;34m,\u001b[0m\u001b[0;34m\u001b[0m\u001b[0;34m\u001b[0m\u001b[0m\n\u001b[0;32m----> 9\u001b[0;31m     \u001b[0mweight_matrix\u001b[0m \u001b[0;34m=\u001b[0m \u001b[0mweights\u001b[0m\u001b[0;34m\u001b[0m\u001b[0;34m\u001b[0m\u001b[0m\n\u001b[0m\u001b[1;32m     10\u001b[0m )\n",
            "\u001b[0;32m/content/BCGDSolver.py\u001b[0m in \u001b[0;36msolve\u001b[0;34m(self, X, Y, Y_true, iter_limit, delta_percent_limit, delta_loss_limit, stop_loss, weight_matrix)\u001b[0m\n\u001b[1;32m    120\u001b[0m             \u001b[0;32mfor\u001b[0m \u001b[0mi\u001b[0m \u001b[0;32min\u001b[0m \u001b[0mrange\u001b[0m\u001b[0;34m(\u001b[0m\u001b[0miter_limit\u001b[0m\u001b[0;34m)\u001b[0m\u001b[0;34m:\u001b[0m\u001b[0;34m\u001b[0m\u001b[0;34m\u001b[0m\u001b[0m\n\u001b[1;32m    121\u001b[0m                 \u001b[0mself\u001b[0m\u001b[0;34m.\u001b[0m\u001b[0mupdate_accuracy\u001b[0m\u001b[0;34m(\u001b[0m\u001b[0mY_true\u001b[0m\u001b[0;34m,\u001b[0m \u001b[0mY_res\u001b[0m\u001b[0;34m)\u001b[0m\u001b[0;34m\u001b[0m\u001b[0;34m\u001b[0m\u001b[0m\n\u001b[0;32m--> 122\u001b[0;31m                 \u001b[0mloss\u001b[0m \u001b[0;34m=\u001b[0m \u001b[0mself\u001b[0m\u001b[0;34m.\u001b[0m\u001b[0mcompute_loss\u001b[0m\u001b[0;34m(\u001b[0m\u001b[0mX\u001b[0m\u001b[0;34m,\u001b[0m \u001b[0mY_res\u001b[0m\u001b[0;34m,\u001b[0m \u001b[0mlabeled_indices\u001b[0m\u001b[0;34m,\u001b[0m \u001b[0munlabeled_indices\u001b[0m\u001b[0;34m)\u001b[0m\u001b[0;34m\u001b[0m\u001b[0;34m\u001b[0m\u001b[0m\n\u001b[0m\u001b[1;32m    123\u001b[0m                 \u001b[0mself\u001b[0m\u001b[0;34m.\u001b[0m\u001b[0mlosses\u001b[0m\u001b[0;34m.\u001b[0m\u001b[0mappend\u001b[0m\u001b[0;34m(\u001b[0m\u001b[0mloss\u001b[0m\u001b[0;34m)\u001b[0m\u001b[0;34m\u001b[0m\u001b[0;34m\u001b[0m\u001b[0m\n\u001b[1;32m    124\u001b[0m                 \u001b[0mself\u001b[0m\u001b[0;34m.\u001b[0m\u001b[0mcpu_times\u001b[0m\u001b[0;34m.\u001b[0m\u001b[0mappend\u001b[0m\u001b[0;34m(\u001b[0m\u001b[0mdefault_timer\u001b[0m\u001b[0;34m(\u001b[0m\u001b[0;34m)\u001b[0m \u001b[0;34m-\u001b[0m \u001b[0malgo_start\u001b[0m\u001b[0;34m)\u001b[0m\u001b[0;34m\u001b[0m\u001b[0;34m\u001b[0m\u001b[0m\n",
            "\u001b[0;32m/content/GradientSolver.py\u001b[0m in \u001b[0;36mcompute_loss\u001b[0;34m(self, X, Y, labeled_idxs, unlabeled_idxs)\u001b[0m\n\u001b[1;32m     73\u001b[0m     \u001b[0;32mdef\u001b[0m \u001b[0mcompute_loss\u001b[0m\u001b[0;34m(\u001b[0m\u001b[0mself\u001b[0m\u001b[0;34m,\u001b[0m \u001b[0mX\u001b[0m\u001b[0;34m,\u001b[0m \u001b[0mY\u001b[0m\u001b[0;34m,\u001b[0m \u001b[0mlabeled_idxs\u001b[0m\u001b[0;34m,\u001b[0m \u001b[0munlabeled_idxs\u001b[0m\u001b[0;34m)\u001b[0m\u001b[0;34m:\u001b[0m\u001b[0;34m\u001b[0m\u001b[0;34m\u001b[0m\u001b[0m\n\u001b[1;32m     74\u001b[0m         \u001b[0;31m# Optimized code:\u001b[0m\u001b[0;34m\u001b[0m\u001b[0;34m\u001b[0m\u001b[0;34m\u001b[0m\u001b[0m\n\u001b[0;32m---> 75\u001b[0;31m         \u001b[0;32mreturn\u001b[0m \u001b[0msum\u001b[0m\u001b[0;34m(\u001b[0m\u001b[0;34m[\u001b[0m\u001b[0mself\u001b[0m\u001b[0;34m.\u001b[0m\u001b[0mcalc_weight\u001b[0m\u001b[0;34m(\u001b[0m\u001b[0mlabeled_idx\u001b[0m\u001b[0;34m,\u001b[0m \u001b[0munlab_idx\u001b[0m\u001b[0;34m)\u001b[0m \u001b[0;34m*\u001b[0m \u001b[0;34m(\u001b[0m\u001b[0;34m(\u001b[0m\u001b[0mY\u001b[0m\u001b[0;34m[\u001b[0m\u001b[0mlabeled_idx\u001b[0m\u001b[0;34m]\u001b[0m \u001b[0;34m-\u001b[0m \u001b[0mY\u001b[0m\u001b[0;34m[\u001b[0m\u001b[0munlab_idx\u001b[0m\u001b[0;34m]\u001b[0m\u001b[0;34m)\u001b[0m \u001b[0;34m**\u001b[0m \u001b[0;36m2\u001b[0m\u001b[0;34m)\u001b[0m \u001b[0;32mfor\u001b[0m \u001b[0mlabeled_idx\u001b[0m \u001b[0;32min\u001b[0m \u001b[0mlabeled_idxs\u001b[0m \u001b[0;32mfor\u001b[0m \u001b[0munlab_idx\u001b[0m \u001b[0;32min\u001b[0m \u001b[0munlabeled_idxs\u001b[0m\u001b[0;34m]\u001b[0m\u001b[0;34m)\u001b[0m \u001b[0;34m+\u001b[0m \u001b[0;36m0.5\u001b[0m \u001b[0;34m*\u001b[0m \u001b[0msum\u001b[0m\u001b[0;34m(\u001b[0m\u001b[0;34m[\u001b[0m\u001b[0mself\u001b[0m\u001b[0;34m.\u001b[0m\u001b[0mcalc_weight\u001b[0m\u001b[0;34m(\u001b[0m\u001b[0munlab_idx\u001b[0m\u001b[0;34m,\u001b[0m \u001b[0manother_unlab_idx\u001b[0m\u001b[0;34m)\u001b[0m \u001b[0;34m*\u001b[0m \u001b[0;34m(\u001b[0m\u001b[0;34m(\u001b[0m\u001b[0mY\u001b[0m\u001b[0;34m[\u001b[0m\u001b[0munlab_idx\u001b[0m\u001b[0;34m]\u001b[0m \u001b[0;34m-\u001b[0m \u001b[0mY\u001b[0m\u001b[0;34m[\u001b[0m\u001b[0manother_unlab_idx\u001b[0m\u001b[0;34m]\u001b[0m\u001b[0;34m)\u001b[0m \u001b[0;34m**\u001b[0m \u001b[0;36m2\u001b[0m\u001b[0;34m)\u001b[0m \u001b[0;32mfor\u001b[0m \u001b[0munlab_idx\u001b[0m \u001b[0;32min\u001b[0m \u001b[0munlabeled_idxs\u001b[0m \u001b[0;32mfor\u001b[0m \u001b[0manother_unlab_idx\u001b[0m \u001b[0;32min\u001b[0m \u001b[0munlabeled_idxs\u001b[0m\u001b[0;34m]\u001b[0m\u001b[0;34m)\u001b[0m\u001b[0;34m\u001b[0m\u001b[0;34m\u001b[0m\u001b[0m\n\u001b[0m\u001b[1;32m     76\u001b[0m \u001b[0;34m\u001b[0m\u001b[0m\n\u001b[1;32m     77\u001b[0m         \u001b[0;31m# comp_1 = sum([self.calc_weight(X[labeled_idx], X[unlab_idx]) * ((Y[labeled_idx] - Y[unlab_idx]) ** 2) for labeled_idx in labeled_idxs for unlab_idx in unlabeled_idxs])\u001b[0m\u001b[0;34m\u001b[0m\u001b[0;34m\u001b[0m\u001b[0;34m\u001b[0m\u001b[0m\n",
            "\u001b[0;32m/content/GradientSolver.py\u001b[0m in \u001b[0;36m<listcomp>\u001b[0;34m(.0)\u001b[0m\n\u001b[1;32m     73\u001b[0m     \u001b[0;32mdef\u001b[0m \u001b[0mcompute_loss\u001b[0m\u001b[0;34m(\u001b[0m\u001b[0mself\u001b[0m\u001b[0;34m,\u001b[0m \u001b[0mX\u001b[0m\u001b[0;34m,\u001b[0m \u001b[0mY\u001b[0m\u001b[0;34m,\u001b[0m \u001b[0mlabeled_idxs\u001b[0m\u001b[0;34m,\u001b[0m \u001b[0munlabeled_idxs\u001b[0m\u001b[0;34m)\u001b[0m\u001b[0;34m:\u001b[0m\u001b[0;34m\u001b[0m\u001b[0;34m\u001b[0m\u001b[0m\n\u001b[1;32m     74\u001b[0m         \u001b[0;31m# Optimized code:\u001b[0m\u001b[0;34m\u001b[0m\u001b[0;34m\u001b[0m\u001b[0;34m\u001b[0m\u001b[0m\n\u001b[0;32m---> 75\u001b[0;31m         \u001b[0;32mreturn\u001b[0m \u001b[0msum\u001b[0m\u001b[0;34m(\u001b[0m\u001b[0;34m[\u001b[0m\u001b[0mself\u001b[0m\u001b[0;34m.\u001b[0m\u001b[0mcalc_weight\u001b[0m\u001b[0;34m(\u001b[0m\u001b[0mlabeled_idx\u001b[0m\u001b[0;34m,\u001b[0m \u001b[0munlab_idx\u001b[0m\u001b[0;34m)\u001b[0m \u001b[0;34m*\u001b[0m \u001b[0;34m(\u001b[0m\u001b[0;34m(\u001b[0m\u001b[0mY\u001b[0m\u001b[0;34m[\u001b[0m\u001b[0mlabeled_idx\u001b[0m\u001b[0;34m]\u001b[0m \u001b[0;34m-\u001b[0m \u001b[0mY\u001b[0m\u001b[0;34m[\u001b[0m\u001b[0munlab_idx\u001b[0m\u001b[0;34m]\u001b[0m\u001b[0;34m)\u001b[0m \u001b[0;34m**\u001b[0m \u001b[0;36m2\u001b[0m\u001b[0;34m)\u001b[0m \u001b[0;32mfor\u001b[0m \u001b[0mlabeled_idx\u001b[0m \u001b[0;32min\u001b[0m \u001b[0mlabeled_idxs\u001b[0m \u001b[0;32mfor\u001b[0m \u001b[0munlab_idx\u001b[0m \u001b[0;32min\u001b[0m \u001b[0munlabeled_idxs\u001b[0m\u001b[0;34m]\u001b[0m\u001b[0;34m)\u001b[0m \u001b[0;34m+\u001b[0m \u001b[0;36m0.5\u001b[0m \u001b[0;34m*\u001b[0m \u001b[0msum\u001b[0m\u001b[0;34m(\u001b[0m\u001b[0;34m[\u001b[0m\u001b[0mself\u001b[0m\u001b[0;34m.\u001b[0m\u001b[0mcalc_weight\u001b[0m\u001b[0;34m(\u001b[0m\u001b[0munlab_idx\u001b[0m\u001b[0;34m,\u001b[0m \u001b[0manother_unlab_idx\u001b[0m\u001b[0;34m)\u001b[0m \u001b[0;34m*\u001b[0m \u001b[0;34m(\u001b[0m\u001b[0;34m(\u001b[0m\u001b[0mY\u001b[0m\u001b[0;34m[\u001b[0m\u001b[0munlab_idx\u001b[0m\u001b[0;34m]\u001b[0m \u001b[0;34m-\u001b[0m \u001b[0mY\u001b[0m\u001b[0;34m[\u001b[0m\u001b[0manother_unlab_idx\u001b[0m\u001b[0;34m]\u001b[0m\u001b[0;34m)\u001b[0m \u001b[0;34m**\u001b[0m \u001b[0;36m2\u001b[0m\u001b[0;34m)\u001b[0m \u001b[0;32mfor\u001b[0m \u001b[0munlab_idx\u001b[0m \u001b[0;32min\u001b[0m \u001b[0munlabeled_idxs\u001b[0m \u001b[0;32mfor\u001b[0m \u001b[0manother_unlab_idx\u001b[0m \u001b[0;32min\u001b[0m \u001b[0munlabeled_idxs\u001b[0m\u001b[0;34m]\u001b[0m\u001b[0;34m)\u001b[0m\u001b[0;34m\u001b[0m\u001b[0;34m\u001b[0m\u001b[0m\n\u001b[0m\u001b[1;32m     76\u001b[0m \u001b[0;34m\u001b[0m\u001b[0m\n\u001b[1;32m     77\u001b[0m         \u001b[0;31m# comp_1 = sum([self.calc_weight(X[labeled_idx], X[unlab_idx]) * ((Y[labeled_idx] - Y[unlab_idx]) ** 2) for labeled_idx in labeled_idxs for unlab_idx in unlabeled_idxs])\u001b[0m\u001b[0;34m\u001b[0m\u001b[0;34m\u001b[0m\u001b[0;34m\u001b[0m\u001b[0m\n",
            "\u001b[0;31mKeyboardInterrupt\u001b[0m: "
          ]
        }
      ],
      "source": [
        "Y_preds_BCGD_permutation = random_solver.solve(\n",
        "    X, \n",
        "    Y_delabeled, \n",
        "    Y_true = Y,\n",
        "    iter_limit = 30,\n",
        "    delta_percent_limit = 0.1,  # when dLoss / dLoss prev\n",
        "    delta_loss_limit = 0.0,\n",
        "    stop_loss= 0.0,\n",
        "    weight_matrix = weights\n",
        ")"
      ]
    },
    {
      "cell_type": "code",
      "execution_count": null,
      "metadata": {
        "colab": {
          "base_uri": "https://localhost:8080/",
          "height": 530
        },
        "id": "6KwW3-WNji8n",
        "outputId": "043a072f-42d8-4398-9525-7a810e67be39"
      },
      "outputs": [
        {
          "name": "stdout",
          "output_type": "stream",
          "text": [
            "Accuracy: 1.0\n"
          ]
        },
        {
          "data": {
            "image/png": "[encoded data removed]",
            "text/plain": [
              "<Figure size 432x288 with 1 Axes>"
            ]
          },
          "metadata": {
            "needs_background": "light"
          },
          "output_type": "display_data"
        },
        {
          "data": {
            "image/png": "[encoded data removed]",
            "text/plain": [
              "<Figure size 432x288 with 1 Axes>"
            ]
          },
          "metadata": {
            "needs_background": "light"
          },
          "output_type": "display_data"
        }
      ],
      "source": [
        "plot_clusters(X, Y)\n",
        "plot_clusters(X, Y_preds_BCGD_permutation)\n",
        "print(f'Accuracy: {accuracy_score(Y, Y_preds_BCGD_permutation)}')"
      ]
    },
    {
      "cell_type": "code",
      "execution_count": null,
      "metadata": {
        "colab": {
          "base_uri": "https://localhost:8080/",
          "height": 265
        },
        "id": "RJVEaOaBji8n",
        "outputId": "0a0c49ce-7a3a-41dc-ec0b-0b52bed6284f"
      },
      "outputs": [
        {
          "data": {
            "image/png": "[encoded data removed]",
            "text/plain": [
              "<Figure size 432x288 with 1 Axes>"
            ]
          },
          "metadata": {
            "needs_background": "light"
          },
          "output_type": "display_data"
        }
      ],
      "source": [
        "plt.plot(random_solver.losses, marker = 'o')\n",
        "plt.grid()"
      ]
    },
    {
      "cell_type": "code",
      "execution_count": null,
      "metadata": {
        "id": "lao6YbWrD3DI",
        "outputId": "69ad0989-d55b-4be2-9782-7cf6ac4dd13a"
      },
      "outputs": [
        {
          "data": {
            "image/png": "[encoded data removed]",
            "text/plain": [
              "<Figure size 432x288 with 1 Axes>"
            ]
          },
          "metadata": {
            "needs_background": "light"
          },
          "output_type": "display_data"
        }
      ],
      "source": [
        "plt.plot(random_solver.accuracies, marker = 'o')\n",
        "plt.ylim([0, 1])\n",
        "plt.grid()"
      ]
    },
    {
      "cell_type": "markdown",
      "metadata": {
        "id": "H3EP1xPTji8o"
      },
      "source": [
        "## BCGD random sampling"
      ]
    },
    {
      "cell_type": "code",
      "execution_count": null,
      "metadata": {
        "id": "Np9yEf8Qji8o"
      },
      "outputs": [],
      "source": [
        "BCGD_RS_solver = BCGDSolver(\n",
        "    lr_strategy = 'lr_constant',\n",
        "    learning_rate = 0.0001,\n",
        "    similarity_func = None,\n",
        "    bcgd_strategy = 'random sampling'\n",
        ")"
      ]
    },
    {
      "cell_type": "code",
      "execution_count": null,
      "metadata": {
        "colab": {
          "base_uri": "https://localhost:8080/",
          "height": 502
        },
        "id": "d7DWIY39ji8o",
        "outputId": "79466ac3-c0f4-42e6-a3ac-b49be0f9496c"
      },
      "outputs": [
        {
          "name": "stdout",
          "output_type": "stream",
          "text": [
            "Iteration: 0, Loss: 102822.87984855211, Delta: 102822.87984855211\n",
            "Iteration: 1, Loss: 102822.60405919357, Delta: 0.2757893585367128\n",
            "Iteration: 2, Loss: 102822.32239734591, Delta: 0.28166184766450897\n",
            "Iteration: 3, Loss: 102821.49011027774, Delta: 0.8322870681731729\n",
            "Iteration: 4, Loss: 102820.68714709028, Delta: 0.8029631874524057\n"
          ]
        },
        {
          "ename": "KeyboardInterrupt",
          "evalue": "ignored",
          "output_type": "error",
          "traceback": [
            "\u001b[0;31m---------------------------------------------------------------------------\u001b[0m",
            "\u001b[0;31mKeyboardInterrupt\u001b[0m                         Traceback (most recent call last)",
            "\u001b[0;32m<ipython-input-15-6fc2bb221094>\u001b[0m in \u001b[0;36m<module>\u001b[0;34m()\u001b[0m\n\u001b[1;32m      7\u001b[0m     \u001b[0mdelta_percent_limit\u001b[0m \u001b[0;34m=\u001b[0m \u001b[0;36m0.0\u001b[0m\u001b[0;34m,\u001b[0m  \u001b[0;31m# when dLoss / dLoss prev\u001b[0m\u001b[0;34m\u001b[0m\u001b[0;34m\u001b[0m\u001b[0m\n\u001b[1;32m      8\u001b[0m     \u001b[0mstop_loss\u001b[0m\u001b[0;34m=\u001b[0m \u001b[0;36m0\u001b[0m\u001b[0;34m,\u001b[0m\u001b[0;34m\u001b[0m\u001b[0;34m\u001b[0m\u001b[0m\n\u001b[0;32m----> 9\u001b[0;31m     \u001b[0mweight_matrix\u001b[0m \u001b[0;34m=\u001b[0m \u001b[0mweights\u001b[0m\u001b[0;34m\u001b[0m\u001b[0;34m\u001b[0m\u001b[0m\n\u001b[0m\u001b[1;32m     10\u001b[0m )\n",
            "\u001b[0;32m/content/BCGDSolver.py\u001b[0m in \u001b[0;36msolve\u001b[0;34m(self, X, Y, Y_true, iter_limit, delta_percent_limit, delta_loss_limit, stop_loss, weight_matrix)\u001b[0m\n\u001b[1;32m    120\u001b[0m             \u001b[0;32mfor\u001b[0m \u001b[0mi\u001b[0m \u001b[0;32min\u001b[0m \u001b[0mrange\u001b[0m\u001b[0;34m(\u001b[0m\u001b[0miter_limit\u001b[0m\u001b[0;34m)\u001b[0m\u001b[0;34m:\u001b[0m\u001b[0;34m\u001b[0m\u001b[0;34m\u001b[0m\u001b[0m\n\u001b[1;32m    121\u001b[0m                 \u001b[0mself\u001b[0m\u001b[0;34m.\u001b[0m\u001b[0mupdate_accuracy\u001b[0m\u001b[0;34m(\u001b[0m\u001b[0mY_true\u001b[0m\u001b[0;34m,\u001b[0m \u001b[0mY_res\u001b[0m\u001b[0;34m)\u001b[0m\u001b[0;34m\u001b[0m\u001b[0;34m\u001b[0m\u001b[0m\n\u001b[0;32m--> 122\u001b[0;31m                 \u001b[0mloss\u001b[0m \u001b[0;34m=\u001b[0m \u001b[0mself\u001b[0m\u001b[0;34m.\u001b[0m\u001b[0mcompute_loss\u001b[0m\u001b[0;34m(\u001b[0m\u001b[0mX\u001b[0m\u001b[0;34m,\u001b[0m \u001b[0mY_res\u001b[0m\u001b[0;34m,\u001b[0m \u001b[0mlabeled_indices\u001b[0m\u001b[0;34m,\u001b[0m \u001b[0munlabeled_indices\u001b[0m\u001b[0;34m)\u001b[0m\u001b[0;34m\u001b[0m\u001b[0;34m\u001b[0m\u001b[0m\n\u001b[0m\u001b[1;32m    123\u001b[0m                 \u001b[0mself\u001b[0m\u001b[0;34m.\u001b[0m\u001b[0mlosses\u001b[0m\u001b[0;34m.\u001b[0m\u001b[0mappend\u001b[0m\u001b[0;34m(\u001b[0m\u001b[0mloss\u001b[0m\u001b[0;34m)\u001b[0m\u001b[0;34m\u001b[0m\u001b[0;34m\u001b[0m\u001b[0m\n\u001b[1;32m    124\u001b[0m                 \u001b[0mself\u001b[0m\u001b[0;34m.\u001b[0m\u001b[0mcpu_times\u001b[0m\u001b[0;34m.\u001b[0m\u001b[0mappend\u001b[0m\u001b[0;34m(\u001b[0m\u001b[0mdefault_timer\u001b[0m\u001b[0;34m(\u001b[0m\u001b[0;34m)\u001b[0m \u001b[0;34m-\u001b[0m \u001b[0malgo_start\u001b[0m\u001b[0;34m)\u001b[0m\u001b[0;34m\u001b[0m\u001b[0;34m\u001b[0m\u001b[0m\n",
            "\u001b[0;32m/content/GradientSolver.py\u001b[0m in \u001b[0;36mcompute_loss\u001b[0;34m(self, X, Y, labeled_idxs, unlabeled_idxs)\u001b[0m\n\u001b[1;32m     73\u001b[0m     \u001b[0;32mdef\u001b[0m \u001b[0mcompute_loss\u001b[0m\u001b[0;34m(\u001b[0m\u001b[0mself\u001b[0m\u001b[0;34m,\u001b[0m \u001b[0mX\u001b[0m\u001b[0;34m,\u001b[0m \u001b[0mY\u001b[0m\u001b[0;34m,\u001b[0m \u001b[0mlabeled_idxs\u001b[0m\u001b[0;34m,\u001b[0m \u001b[0munlabeled_idxs\u001b[0m\u001b[0;34m)\u001b[0m\u001b[0;34m:\u001b[0m\u001b[0;34m\u001b[0m\u001b[0;34m\u001b[0m\u001b[0m\n\u001b[1;32m     74\u001b[0m         \u001b[0;31m# Optimized code:\u001b[0m\u001b[0;34m\u001b[0m\u001b[0;34m\u001b[0m\u001b[0;34m\u001b[0m\u001b[0m\n\u001b[0;32m---> 75\u001b[0;31m         \u001b[0;32mreturn\u001b[0m \u001b[0msum\u001b[0m\u001b[0;34m(\u001b[0m\u001b[0;34m[\u001b[0m\u001b[0mself\u001b[0m\u001b[0;34m.\u001b[0m\u001b[0mcalc_weight\u001b[0m\u001b[0;34m(\u001b[0m\u001b[0mlabeled_idx\u001b[0m\u001b[0;34m,\u001b[0m \u001b[0munlab_idx\u001b[0m\u001b[0;34m)\u001b[0m \u001b[0;34m*\u001b[0m \u001b[0;34m(\u001b[0m\u001b[0;34m(\u001b[0m\u001b[0mY\u001b[0m\u001b[0;34m[\u001b[0m\u001b[0mlabeled_idx\u001b[0m\u001b[0;34m]\u001b[0m \u001b[0;34m-\u001b[0m \u001b[0mY\u001b[0m\u001b[0;34m[\u001b[0m\u001b[0munlab_idx\u001b[0m\u001b[0;34m]\u001b[0m\u001b[0;34m)\u001b[0m \u001b[0;34m**\u001b[0m \u001b[0;36m2\u001b[0m\u001b[0;34m)\u001b[0m \u001b[0;32mfor\u001b[0m \u001b[0mlabeled_idx\u001b[0m \u001b[0;32min\u001b[0m \u001b[0mlabeled_idxs\u001b[0m \u001b[0;32mfor\u001b[0m \u001b[0munlab_idx\u001b[0m \u001b[0;32min\u001b[0m \u001b[0munlabeled_idxs\u001b[0m\u001b[0;34m]\u001b[0m\u001b[0;34m)\u001b[0m \u001b[0;34m+\u001b[0m \u001b[0;36m0.5\u001b[0m \u001b[0;34m*\u001b[0m \u001b[0msum\u001b[0m\u001b[0;34m(\u001b[0m\u001b[0;34m[\u001b[0m\u001b[0mself\u001b[0m\u001b[0;34m.\u001b[0m\u001b[0mcalc_weight\u001b[0m\u001b[0;34m(\u001b[0m\u001b[0munlab_idx\u001b[0m\u001b[0;34m,\u001b[0m \u001b[0manother_unlab_idx\u001b[0m\u001b[0;34m)\u001b[0m \u001b[0;34m*\u001b[0m \u001b[0;34m(\u001b[0m\u001b[0;34m(\u001b[0m\u001b[0mY\u001b[0m\u001b[0;34m[\u001b[0m\u001b[0munlab_idx\u001b[0m\u001b[0;34m]\u001b[0m \u001b[0;34m-\u001b[0m \u001b[0mY\u001b[0m\u001b[0;34m[\u001b[0m\u001b[0manother_unlab_idx\u001b[0m\u001b[0;34m]\u001b[0m\u001b[0;34m)\u001b[0m \u001b[0;34m**\u001b[0m \u001b[0;36m2\u001b[0m\u001b[0;34m)\u001b[0m \u001b[0;32mfor\u001b[0m \u001b[0munlab_idx\u001b[0m \u001b[0;32min\u001b[0m \u001b[0munlabeled_idxs\u001b[0m \u001b[0;32mfor\u001b[0m \u001b[0manother_unlab_idx\u001b[0m \u001b[0;32min\u001b[0m \u001b[0munlabeled_idxs\u001b[0m\u001b[0;34m]\u001b[0m\u001b[0;34m)\u001b[0m\u001b[0;34m\u001b[0m\u001b[0;34m\u001b[0m\u001b[0m\n\u001b[0m\u001b[1;32m     76\u001b[0m \u001b[0;34m\u001b[0m\u001b[0m\n\u001b[1;32m     77\u001b[0m         \u001b[0;31m# comp_1 = sum([self.calc_weight(X[labeled_idx], X[unlab_idx]) * ((Y[labeled_idx] - Y[unlab_idx]) ** 2) for labeled_idx in labeled_idxs for unlab_idx in unlabeled_idxs])\u001b[0m\u001b[0;34m\u001b[0m\u001b[0;34m\u001b[0m\u001b[0;34m\u001b[0m\u001b[0m\n",
            "\u001b[0;32m/content/GradientSolver.py\u001b[0m in \u001b[0;36m<listcomp>\u001b[0;34m(.0)\u001b[0m\n\u001b[1;32m     73\u001b[0m     \u001b[0;32mdef\u001b[0m \u001b[0mcompute_loss\u001b[0m\u001b[0;34m(\u001b[0m\u001b[0mself\u001b[0m\u001b[0;34m,\u001b[0m \u001b[0mX\u001b[0m\u001b[0;34m,\u001b[0m \u001b[0mY\u001b[0m\u001b[0;34m,\u001b[0m \u001b[0mlabeled_idxs\u001b[0m\u001b[0;34m,\u001b[0m \u001b[0munlabeled_idxs\u001b[0m\u001b[0;34m)\u001b[0m\u001b[0;34m:\u001b[0m\u001b[0;34m\u001b[0m\u001b[0;34m\u001b[0m\u001b[0m\n\u001b[1;32m     74\u001b[0m         \u001b[0;31m# Optimized code:\u001b[0m\u001b[0;34m\u001b[0m\u001b[0;34m\u001b[0m\u001b[0;34m\u001b[0m\u001b[0m\n\u001b[0;32m---> 75\u001b[0;31m         \u001b[0;32mreturn\u001b[0m \u001b[0msum\u001b[0m\u001b[0;34m(\u001b[0m\u001b[0;34m[\u001b[0m\u001b[0mself\u001b[0m\u001b[0;34m.\u001b[0m\u001b[0mcalc_weight\u001b[0m\u001b[0;34m(\u001b[0m\u001b[0mlabeled_idx\u001b[0m\u001b[0;34m,\u001b[0m \u001b[0munlab_idx\u001b[0m\u001b[0;34m)\u001b[0m \u001b[0;34m*\u001b[0m \u001b[0;34m(\u001b[0m\u001b[0;34m(\u001b[0m\u001b[0mY\u001b[0m\u001b[0;34m[\u001b[0m\u001b[0mlabeled_idx\u001b[0m\u001b[0;34m]\u001b[0m \u001b[0;34m-\u001b[0m \u001b[0mY\u001b[0m\u001b[0;34m[\u001b[0m\u001b[0munlab_idx\u001b[0m\u001b[0;34m]\u001b[0m\u001b[0;34m)\u001b[0m \u001b[0;34m**\u001b[0m \u001b[0;36m2\u001b[0m\u001b[0;34m)\u001b[0m \u001b[0;32mfor\u001b[0m \u001b[0mlabeled_idx\u001b[0m \u001b[0;32min\u001b[0m \u001b[0mlabeled_idxs\u001b[0m \u001b[0;32mfor\u001b[0m \u001b[0munlab_idx\u001b[0m \u001b[0;32min\u001b[0m \u001b[0munlabeled_idxs\u001b[0m\u001b[0;34m]\u001b[0m\u001b[0;34m)\u001b[0m \u001b[0;34m+\u001b[0m \u001b[0;36m0.5\u001b[0m \u001b[0;34m*\u001b[0m \u001b[0msum\u001b[0m\u001b[0;34m(\u001b[0m\u001b[0;34m[\u001b[0m\u001b[0mself\u001b[0m\u001b[0;34m.\u001b[0m\u001b[0mcalc_weight\u001b[0m\u001b[0;34m(\u001b[0m\u001b[0munlab_idx\u001b[0m\u001b[0;34m,\u001b[0m \u001b[0manother_unlab_idx\u001b[0m\u001b[0;34m)\u001b[0m \u001b[0;34m*\u001b[0m \u001b[0;34m(\u001b[0m\u001b[0;34m(\u001b[0m\u001b[0mY\u001b[0m\u001b[0;34m[\u001b[0m\u001b[0munlab_idx\u001b[0m\u001b[0;34m]\u001b[0m \u001b[0;34m-\u001b[0m \u001b[0mY\u001b[0m\u001b[0;34m[\u001b[0m\u001b[0manother_unlab_idx\u001b[0m\u001b[0;34m]\u001b[0m\u001b[0;34m)\u001b[0m \u001b[0;34m**\u001b[0m \u001b[0;36m2\u001b[0m\u001b[0;34m)\u001b[0m \u001b[0;32mfor\u001b[0m \u001b[0munlab_idx\u001b[0m \u001b[0;32min\u001b[0m \u001b[0munlabeled_idxs\u001b[0m \u001b[0;32mfor\u001b[0m \u001b[0manother_unlab_idx\u001b[0m \u001b[0;32min\u001b[0m \u001b[0munlabeled_idxs\u001b[0m\u001b[0;34m]\u001b[0m\u001b[0;34m)\u001b[0m\u001b[0;34m\u001b[0m\u001b[0;34m\u001b[0m\u001b[0m\n\u001b[0m\u001b[1;32m     76\u001b[0m \u001b[0;34m\u001b[0m\u001b[0m\n\u001b[1;32m     77\u001b[0m         \u001b[0;31m# comp_1 = sum([self.calc_weight(X[labeled_idx], X[unlab_idx]) * ((Y[labeled_idx] - Y[unlab_idx]) ** 2) for labeled_idx in labeled_idxs for unlab_idx in unlabeled_idxs])\u001b[0m\u001b[0;34m\u001b[0m\u001b[0;34m\u001b[0m\u001b[0;34m\u001b[0m\u001b[0m\n",
            "\u001b[0;31mKeyboardInterrupt\u001b[0m: "
          ]
        }
      ],
      "source": [
        "Y_preds_BCGD_sampling = BCGD_RS_solver.solve(\n",
        "    X = X, \n",
        "    Y = Y_delabeled,\n",
        "    Y_true = Y,\n",
        "    iter_limit = 30, #  * len(Y_delabeled[Y_delabeled == DataProperties.unlabeled]),\n",
        "    delta_loss_limit = 0.0,\n",
        "    delta_percent_limit = 0.0,  # when dLoss / dLoss prev\n",
        "    stop_loss= 0,\n",
        "    weight_matrix = weights\n",
        ")"
      ]
    },
    {
      "cell_type": "code",
      "execution_count": null,
      "metadata": {
        "colab": {
          "base_uri": "https://localhost:8080/",
          "height": 282
        },
        "id": "Hkiavnn4ji8p",
        "outputId": "3ee5fb23-30cc-4d6d-ffeb-90b187b1ec20"
      },
      "outputs": [
        {
          "name": "stdout",
          "output_type": "stream",
          "text": [
            "Accuracy: 0.552\n"
          ]
        },
        {
          "data": {
            "image/png": "[encoded data removed]",
            "text/plain": [
              "<Figure size 432x288 with 1 Axes>"
            ]
          },
          "metadata": {
            "needs_background": "light"
          },
          "output_type": "display_data"
        }
      ],
      "source": [
        "plot_clusters(\n",
        "    X, Y_preds_BCGD_sampling\n",
        ")\n",
        "print(f'Accuracy: {accuracy_score(Y, Y_preds_BCGD_sampling)}')"
      ]
    },
    {
      "cell_type": "code",
      "execution_count": null,
      "metadata": {
        "colab": {
          "base_uri": "https://localhost:8080/",
          "height": 265
        },
        "id": "QYc5egcOji8p",
        "outputId": "dfca1f4e-3ba3-4752-ed0c-73c74dc26ec3"
      },
      "outputs": [
        {
          "data": {
            "image/png": "[encoded data removed]",
            "text/plain": [
              "<Figure size 432x288 with 1 Axes>"
            ]
          },
          "metadata": {
            "needs_background": "light"
          },
          "output_type": "display_data"
        }
      ],
      "source": [
        "plt.plot(BCGD_RS_solver.losses)\n",
        "plt.grid()"
      ]
    },
    {
      "cell_type": "code",
      "execution_count": null,
      "metadata": {
        "id": "1cXvq124D3DJ",
        "outputId": "162f7429-fa51-4fda-bffc-3ba0e56c27e6"
      },
      "outputs": [
        {
          "data": {
            "image/png": "[encoded data removed]",
            "text/plain": [
              "<Figure size 432x288 with 1 Axes>"
            ]
          },
          "metadata": {
            "needs_background": "light"
          },
          "output_type": "display_data"
        }
      ],
      "source": [
        "plt.plot(BCGD_RS_solver.accuracies, marker = 'o')\n",
        "plt.ylim([0, 1])\n",
        "plt.grid()"
      ]
    },
    {
      "cell_type": "markdown",
      "metadata": {
        "id": "AKCfR4boji8p"
      },
      "source": [
        "## BCGD cyclic"
      ]
    },
    {
      "cell_type": "code",
      "execution_count": null,
      "metadata": {
        "id": "9t1zhz2nji8p"
      },
      "outputs": [],
      "source": [
        "BCGD_cyclic_solver = BCGDSolver(\n",
        "    lr_strategy = 'lr_constant',\n",
        "    learning_rate = 0.0001,\n",
        "    similarity_func = None,\n",
        "    bcgd_strategy = 'cyclic'\n",
        ")"
      ]
    },
    {
      "cell_type": "code",
      "execution_count": null,
      "metadata": {
        "colab": {
          "base_uri": "https://localhost:8080/",
          "height": 398
        },
        "id": "MTLrf9Hgji8p",
        "outputId": "a00731bb-86ca-46f1-ff74-4fa677b5ab25"
      },
      "outputs": [
        {
          "name": "stdout",
          "output_type": "stream",
          "text": [
            "Iteration: 0, Loss: 102822.87984855211, Delta: 102822.87984855211\n",
            "Iteration: 1, Loss: 100677.4925230569, Delta: 2145.387325495205\n"
          ]
        },
        {
          "ename": "KeyboardInterrupt",
          "evalue": "ignored",
          "output_type": "error",
          "traceback": [
            "\u001b[0;31m---------------------------------------------------------------------------\u001b[0m",
            "\u001b[0;31mKeyboardInterrupt\u001b[0m                         Traceback (most recent call last)",
            "\u001b[0;32m<ipython-input-20-69bb3a2f4f2d>\u001b[0m in \u001b[0;36m<module>\u001b[0;34m()\u001b[0m\n\u001b[1;32m      7\u001b[0m     \u001b[0mdelta_loss_limit\u001b[0m \u001b[0;34m=\u001b[0m \u001b[0;36m0.0\u001b[0m\u001b[0;34m,\u001b[0m\u001b[0;34m\u001b[0m\u001b[0;34m\u001b[0m\u001b[0m\n\u001b[1;32m      8\u001b[0m     \u001b[0mstop_loss\u001b[0m \u001b[0;34m=\u001b[0m \u001b[0;36m0\u001b[0m\u001b[0;34m,\u001b[0m\u001b[0;34m\u001b[0m\u001b[0;34m\u001b[0m\u001b[0m\n\u001b[0;32m----> 9\u001b[0;31m     \u001b[0mweight_matrix\u001b[0m \u001b[0;34m=\u001b[0m \u001b[0mweights\u001b[0m\u001b[0;34m\u001b[0m\u001b[0;34m\u001b[0m\u001b[0m\n\u001b[0m\u001b[1;32m     10\u001b[0m )\n",
            "\u001b[0;32m/content/BCGDSolver.py\u001b[0m in \u001b[0;36msolve\u001b[0;34m(self, X, Y, Y_true, iter_limit, delta_percent_limit, delta_loss_limit, stop_loss, weight_matrix)\u001b[0m\n\u001b[1;32m    120\u001b[0m             \u001b[0;32mfor\u001b[0m \u001b[0mi\u001b[0m \u001b[0;32min\u001b[0m \u001b[0mrange\u001b[0m\u001b[0;34m(\u001b[0m\u001b[0miter_limit\u001b[0m\u001b[0;34m)\u001b[0m\u001b[0;34m:\u001b[0m\u001b[0;34m\u001b[0m\u001b[0;34m\u001b[0m\u001b[0m\n\u001b[1;32m    121\u001b[0m                 \u001b[0mself\u001b[0m\u001b[0;34m.\u001b[0m\u001b[0mupdate_accuracy\u001b[0m\u001b[0;34m(\u001b[0m\u001b[0mY_true\u001b[0m\u001b[0;34m,\u001b[0m \u001b[0mY_res\u001b[0m\u001b[0;34m)\u001b[0m\u001b[0;34m\u001b[0m\u001b[0;34m\u001b[0m\u001b[0m\n\u001b[0;32m--> 122\u001b[0;31m                 \u001b[0mloss\u001b[0m \u001b[0;34m=\u001b[0m \u001b[0mself\u001b[0m\u001b[0;34m.\u001b[0m\u001b[0mcompute_loss\u001b[0m\u001b[0;34m(\u001b[0m\u001b[0mX\u001b[0m\u001b[0;34m,\u001b[0m \u001b[0mY_res\u001b[0m\u001b[0;34m,\u001b[0m \u001b[0mlabeled_indices\u001b[0m\u001b[0;34m,\u001b[0m \u001b[0munlabeled_indices\u001b[0m\u001b[0;34m)\u001b[0m\u001b[0;34m\u001b[0m\u001b[0;34m\u001b[0m\u001b[0m\n\u001b[0m\u001b[1;32m    123\u001b[0m                 \u001b[0mself\u001b[0m\u001b[0;34m.\u001b[0m\u001b[0mlosses\u001b[0m\u001b[0;34m.\u001b[0m\u001b[0mappend\u001b[0m\u001b[0;34m(\u001b[0m\u001b[0mloss\u001b[0m\u001b[0;34m)\u001b[0m\u001b[0;34m\u001b[0m\u001b[0;34m\u001b[0m\u001b[0m\n\u001b[1;32m    124\u001b[0m                 \u001b[0mself\u001b[0m\u001b[0;34m.\u001b[0m\u001b[0mcpu_times\u001b[0m\u001b[0;34m.\u001b[0m\u001b[0mappend\u001b[0m\u001b[0;34m(\u001b[0m\u001b[0mdefault_timer\u001b[0m\u001b[0;34m(\u001b[0m\u001b[0;34m)\u001b[0m \u001b[0;34m-\u001b[0m \u001b[0malgo_start\u001b[0m\u001b[0;34m)\u001b[0m\u001b[0;34m\u001b[0m\u001b[0;34m\u001b[0m\u001b[0m\n",
            "\u001b[0;32m/content/GradientSolver.py\u001b[0m in \u001b[0;36mcompute_loss\u001b[0;34m(self, X, Y, labeled_idxs, unlabeled_idxs)\u001b[0m\n\u001b[1;32m     73\u001b[0m     \u001b[0;32mdef\u001b[0m \u001b[0mcompute_loss\u001b[0m\u001b[0;34m(\u001b[0m\u001b[0mself\u001b[0m\u001b[0;34m,\u001b[0m \u001b[0mX\u001b[0m\u001b[0;34m,\u001b[0m \u001b[0mY\u001b[0m\u001b[0;34m,\u001b[0m \u001b[0mlabeled_idxs\u001b[0m\u001b[0;34m,\u001b[0m \u001b[0munlabeled_idxs\u001b[0m\u001b[0;34m)\u001b[0m\u001b[0;34m:\u001b[0m\u001b[0;34m\u001b[0m\u001b[0;34m\u001b[0m\u001b[0m\n\u001b[1;32m     74\u001b[0m         \u001b[0;31m# Optimized code:\u001b[0m\u001b[0;34m\u001b[0m\u001b[0;34m\u001b[0m\u001b[0;34m\u001b[0m\u001b[0m\n\u001b[0;32m---> 75\u001b[0;31m         \u001b[0;32mreturn\u001b[0m \u001b[0msum\u001b[0m\u001b[0;34m(\u001b[0m\u001b[0;34m[\u001b[0m\u001b[0mself\u001b[0m\u001b[0;34m.\u001b[0m\u001b[0mcalc_weight\u001b[0m\u001b[0;34m(\u001b[0m\u001b[0mlabeled_idx\u001b[0m\u001b[0;34m,\u001b[0m \u001b[0munlab_idx\u001b[0m\u001b[0;34m)\u001b[0m \u001b[0;34m*\u001b[0m \u001b[0;34m(\u001b[0m\u001b[0;34m(\u001b[0m\u001b[0mY\u001b[0m\u001b[0;34m[\u001b[0m\u001b[0mlabeled_idx\u001b[0m\u001b[0;34m]\u001b[0m \u001b[0;34m-\u001b[0m \u001b[0mY\u001b[0m\u001b[0;34m[\u001b[0m\u001b[0munlab_idx\u001b[0m\u001b[0;34m]\u001b[0m\u001b[0;34m)\u001b[0m \u001b[0;34m**\u001b[0m \u001b[0;36m2\u001b[0m\u001b[0;34m)\u001b[0m \u001b[0;32mfor\u001b[0m \u001b[0mlabeled_idx\u001b[0m \u001b[0;32min\u001b[0m \u001b[0mlabeled_idxs\u001b[0m \u001b[0;32mfor\u001b[0m \u001b[0munlab_idx\u001b[0m \u001b[0;32min\u001b[0m \u001b[0munlabeled_idxs\u001b[0m\u001b[0;34m]\u001b[0m\u001b[0;34m)\u001b[0m \u001b[0;34m+\u001b[0m \u001b[0;36m0.5\u001b[0m \u001b[0;34m*\u001b[0m \u001b[0msum\u001b[0m\u001b[0;34m(\u001b[0m\u001b[0;34m[\u001b[0m\u001b[0mself\u001b[0m\u001b[0;34m.\u001b[0m\u001b[0mcalc_weight\u001b[0m\u001b[0;34m(\u001b[0m\u001b[0munlab_idx\u001b[0m\u001b[0;34m,\u001b[0m \u001b[0manother_unlab_idx\u001b[0m\u001b[0;34m)\u001b[0m \u001b[0;34m*\u001b[0m \u001b[0;34m(\u001b[0m\u001b[0;34m(\u001b[0m\u001b[0mY\u001b[0m\u001b[0;34m[\u001b[0m\u001b[0munlab_idx\u001b[0m\u001b[0;34m]\u001b[0m \u001b[0;34m-\u001b[0m \u001b[0mY\u001b[0m\u001b[0;34m[\u001b[0m\u001b[0manother_unlab_idx\u001b[0m\u001b[0;34m]\u001b[0m\u001b[0;34m)\u001b[0m \u001b[0;34m**\u001b[0m \u001b[0;36m2\u001b[0m\u001b[0;34m)\u001b[0m \u001b[0;32mfor\u001b[0m \u001b[0munlab_idx\u001b[0m \u001b[0;32min\u001b[0m \u001b[0munlabeled_idxs\u001b[0m \u001b[0;32mfor\u001b[0m \u001b[0manother_unlab_idx\u001b[0m \u001b[0;32min\u001b[0m \u001b[0munlabeled_idxs\u001b[0m\u001b[0;34m]\u001b[0m\u001b[0;34m)\u001b[0m\u001b[0;34m\u001b[0m\u001b[0;34m\u001b[0m\u001b[0m\n\u001b[0m\u001b[1;32m     76\u001b[0m \u001b[0;34m\u001b[0m\u001b[0m\n\u001b[1;32m     77\u001b[0m         \u001b[0;31m# comp_1 = sum([self.calc_weight(X[labeled_idx], X[unlab_idx]) * ((Y[labeled_idx] - Y[unlab_idx]) ** 2) for labeled_idx in labeled_idxs for unlab_idx in unlabeled_idxs])\u001b[0m\u001b[0;34m\u001b[0m\u001b[0;34m\u001b[0m\u001b[0;34m\u001b[0m\u001b[0m\n",
            "\u001b[0;32m/content/GradientSolver.py\u001b[0m in \u001b[0;36m<listcomp>\u001b[0;34m(.0)\u001b[0m\n\u001b[1;32m     73\u001b[0m     \u001b[0;32mdef\u001b[0m \u001b[0mcompute_loss\u001b[0m\u001b[0;34m(\u001b[0m\u001b[0mself\u001b[0m\u001b[0;34m,\u001b[0m \u001b[0mX\u001b[0m\u001b[0;34m,\u001b[0m \u001b[0mY\u001b[0m\u001b[0;34m,\u001b[0m \u001b[0mlabeled_idxs\u001b[0m\u001b[0;34m,\u001b[0m \u001b[0munlabeled_idxs\u001b[0m\u001b[0;34m)\u001b[0m\u001b[0;34m:\u001b[0m\u001b[0;34m\u001b[0m\u001b[0;34m\u001b[0m\u001b[0m\n\u001b[1;32m     74\u001b[0m         \u001b[0;31m# Optimized code:\u001b[0m\u001b[0;34m\u001b[0m\u001b[0;34m\u001b[0m\u001b[0;34m\u001b[0m\u001b[0m\n\u001b[0;32m---> 75\u001b[0;31m         \u001b[0;32mreturn\u001b[0m \u001b[0msum\u001b[0m\u001b[0;34m(\u001b[0m\u001b[0;34m[\u001b[0m\u001b[0mself\u001b[0m\u001b[0;34m.\u001b[0m\u001b[0mcalc_weight\u001b[0m\u001b[0;34m(\u001b[0m\u001b[0mlabeled_idx\u001b[0m\u001b[0;34m,\u001b[0m \u001b[0munlab_idx\u001b[0m\u001b[0;34m)\u001b[0m \u001b[0;34m*\u001b[0m \u001b[0;34m(\u001b[0m\u001b[0;34m(\u001b[0m\u001b[0mY\u001b[0m\u001b[0;34m[\u001b[0m\u001b[0mlabeled_idx\u001b[0m\u001b[0;34m]\u001b[0m \u001b[0;34m-\u001b[0m \u001b[0mY\u001b[0m\u001b[0;34m[\u001b[0m\u001b[0munlab_idx\u001b[0m\u001b[0;34m]\u001b[0m\u001b[0;34m)\u001b[0m \u001b[0;34m**\u001b[0m \u001b[0;36m2\u001b[0m\u001b[0;34m)\u001b[0m \u001b[0;32mfor\u001b[0m \u001b[0mlabeled_idx\u001b[0m \u001b[0;32min\u001b[0m \u001b[0mlabeled_idxs\u001b[0m \u001b[0;32mfor\u001b[0m \u001b[0munlab_idx\u001b[0m \u001b[0;32min\u001b[0m \u001b[0munlabeled_idxs\u001b[0m\u001b[0;34m]\u001b[0m\u001b[0;34m)\u001b[0m \u001b[0;34m+\u001b[0m \u001b[0;36m0.5\u001b[0m \u001b[0;34m*\u001b[0m \u001b[0msum\u001b[0m\u001b[0;34m(\u001b[0m\u001b[0;34m[\u001b[0m\u001b[0mself\u001b[0m\u001b[0;34m.\u001b[0m\u001b[0mcalc_weight\u001b[0m\u001b[0;34m(\u001b[0m\u001b[0munlab_idx\u001b[0m\u001b[0;34m,\u001b[0m \u001b[0manother_unlab_idx\u001b[0m\u001b[0;34m)\u001b[0m \u001b[0;34m*\u001b[0m \u001b[0;34m(\u001b[0m\u001b[0;34m(\u001b[0m\u001b[0mY\u001b[0m\u001b[0;34m[\u001b[0m\u001b[0munlab_idx\u001b[0m\u001b[0;34m]\u001b[0m \u001b[0;34m-\u001b[0m \u001b[0mY\u001b[0m\u001b[0;34m[\u001b[0m\u001b[0manother_unlab_idx\u001b[0m\u001b[0;34m]\u001b[0m\u001b[0;34m)\u001b[0m \u001b[0;34m**\u001b[0m \u001b[0;36m2\u001b[0m\u001b[0;34m)\u001b[0m \u001b[0;32mfor\u001b[0m \u001b[0munlab_idx\u001b[0m \u001b[0;32min\u001b[0m \u001b[0munlabeled_idxs\u001b[0m \u001b[0;32mfor\u001b[0m \u001b[0manother_unlab_idx\u001b[0m \u001b[0;32min\u001b[0m \u001b[0munlabeled_idxs\u001b[0m\u001b[0;34m]\u001b[0m\u001b[0;34m)\u001b[0m\u001b[0;34m\u001b[0m\u001b[0;34m\u001b[0m\u001b[0m\n\u001b[0m\u001b[1;32m     76\u001b[0m \u001b[0;34m\u001b[0m\u001b[0m\n\u001b[1;32m     77\u001b[0m         \u001b[0;31m# comp_1 = sum([self.calc_weight(X[labeled_idx], X[unlab_idx]) * ((Y[labeled_idx] - Y[unlab_idx]) ** 2) for labeled_idx in labeled_idxs for unlab_idx in unlabeled_idxs])\u001b[0m\u001b[0;34m\u001b[0m\u001b[0;34m\u001b[0m\u001b[0;34m\u001b[0m\u001b[0m\n",
            "\u001b[0;32m/content/GradientSolver.py\u001b[0m in \u001b[0;36mcalc_weight\u001b[0;34m(self, i, j)\u001b[0m\n\u001b[1;32m     56\u001b[0m \u001b[0;34m\u001b[0m\u001b[0m\n\u001b[1;32m     57\u001b[0m \u001b[0;34m\u001b[0m\u001b[0m\n\u001b[0;32m---> 58\u001b[0;31m     \u001b[0;32mdef\u001b[0m \u001b[0mcalc_weight\u001b[0m\u001b[0;34m(\u001b[0m\u001b[0mself\u001b[0m\u001b[0;34m,\u001b[0m \u001b[0mi\u001b[0m\u001b[0;34m,\u001b[0m \u001b[0mj\u001b[0m\u001b[0;34m)\u001b[0m\u001b[0;34m:\u001b[0m\u001b[0;34m\u001b[0m\u001b[0;34m\u001b[0m\u001b[0m\n\u001b[0m\u001b[1;32m     59\u001b[0m         \u001b[0;32mreturn\u001b[0m \u001b[0mself\u001b[0m\u001b[0;34m.\u001b[0m\u001b[0mweight_matrix\u001b[0m\u001b[0;34m[\u001b[0m\u001b[0mi\u001b[0m\u001b[0;34m]\u001b[0m\u001b[0;34m[\u001b[0m\u001b[0mj\u001b[0m\u001b[0;34m]\u001b[0m \u001b[0;31m# 1 / (norm(Xi - Xj) + 0.001)\u001b[0m\u001b[0;34m\u001b[0m\u001b[0;34m\u001b[0m\u001b[0m\n\u001b[1;32m     60\u001b[0m \u001b[0;34m\u001b[0m\u001b[0m\n",
            "\u001b[0;31mKeyboardInterrupt\u001b[0m: "
          ]
        }
      ],
      "source": [
        "Y_preds_BCGD_cyclic = BCGD_cyclic_solver.solve(\n",
        "    X,\n",
        "    Y_delabeled, \n",
        "    Y_true = Y,\n",
        "    iter_limit = 30, \n",
        "    delta_percent_limit = 0.10,  # when dLoss / dLoss prev\n",
        "    delta_loss_limit = 0.0,\n",
        "    stop_loss = 0,\n",
        "    weight_matrix = weights\n",
        ")"
      ]
    },
    {
      "cell_type": "code",
      "execution_count": null,
      "metadata": {
        "colab": {
          "base_uri": "https://localhost:8080/",
          "height": 282
        },
        "id": "95Q50O22ji8q",
        "outputId": "fdc7830d-d16a-48fe-d0f9-a2b2f0090d34"
      },
      "outputs": [
        {
          "name": "stdout",
          "output_type": "stream",
          "text": [
            "Accuracy: 1.0\n"
          ]
        },
        {
          "data": {
            "image/png": "[encoded data removed]",
            "text/plain": [
              "<Figure size 432x288 with 1 Axes>"
            ]
          },
          "metadata": {
            "needs_background": "light"
          },
          "output_type": "display_data"
        }
      ],
      "source": [
        "print(f'Accuracy: {accuracy_score(Y_preds_BCGD_cyclic, Y)}')\n",
        "plot_clusters(\n",
        "    X, Y_preds_BCGD_cyclic\n",
        ")"
      ]
    },
    {
      "cell_type": "code",
      "execution_count": null,
      "metadata": {
        "colab": {
          "base_uri": "https://localhost:8080/",
          "height": 265
        },
        "id": "9w-wKchjji8q",
        "outputId": "a4ef51e0-c318-464d-ef40-3b29cdfcecd1"
      },
      "outputs": [
        {
          "data": {
            "image/png": "[encoded data removed]",
            "text/plain": [
              "<Figure size 432x288 with 1 Axes>"
            ]
          },
          "metadata": {
            "needs_background": "light"
          },
          "output_type": "display_data"
        }
      ],
      "source": [
        "plt.plot(BCGD_cyclic_solver.losses, marker = 'o')\n",
        "plt.grid()"
      ]
    },
    {
      "cell_type": "code",
      "execution_count": null,
      "metadata": {
        "id": "0RdsiUjED3DJ",
        "outputId": "15db52f0-1763-4a7d-de31-2d139c8d485a"
      },
      "outputs": [
        {
          "data": {
            "image/png": "[encoded data removed]",
            "text/plain": [
              "<Figure size 432x288 with 1 Axes>"
            ]
          },
          "metadata": {
            "needs_background": "light"
          },
          "output_type": "display_data"
        }
      ],
      "source": [
        "plt.plot(BCGD_cyclic_solver.accuracies, marker = 'o')\n",
        "plt.ylim([0, 1])\n",
        "plt.grid()"
      ]
    },
    {
      "cell_type": "markdown",
      "metadata": {
        "id": "JE0wByBMji8q"
      },
      "source": [
        "# Model comparison"
      ]
    },
    {
      "cell_type": "markdown",
      "metadata": {
        "id": "swRV0Q4jji8q"
      },
      "source": [
        "We will compare models based on:\n",
        "- Clustering metrics\n",
        "- CPU time\n",
        "- Number of iterations\n",
        "- Loss curves\n",
        "- Distance metrics"
      ]
    },
    {
      "cell_type": "code",
      "execution_count": null,
      "metadata": {
        "id": "1VaNQmYvji8q"
      },
      "outputs": [],
      "source": [
        "learning_rate_strategy = 'lr_constant'\n",
        "simil_func = None  # No feature yet\n",
        "lr = 0.0001\n",
        "\n",
        "gd_solver = GradientDescentSolver(\n",
        "    similarity_func = simil_func,\n",
        "    lr_strategy = learning_rate_strategy,\n",
        "    learning_rate = lr\n",
        ")\n",
        "\n",
        "bcgd_permut_solver = BCGDSolver(\n",
        "    lr_strategy = learning_rate_strategy,\n",
        "    learning_rate = lr,\n",
        "    similarity_func = simil_func,\n",
        "    bcgd_strategy = 'random permutation',\n",
        ")\n",
        "\n",
        "bcgd_sampling_solver = BCGDSolver(\n",
        "    lr_strategy = learning_rate_strategy,\n",
        "    learning_rate = lr,\n",
        "    similarity_func = simil_func,\n",
        "    bcgd_strategy = 'random sampling',\n",
        ")\n",
        "\n",
        "bcgd_cyclic_solver = BCGDSolver(\n",
        "    lr_strategy = learning_rate_strategy,\n",
        "    learning_rate = lr,\n",
        "    similarity_func = simil_func,\n",
        "    bcgd_strategy = 'cyclic',\n",
        ")\n",
        "\n",
        "solvers = {\n",
        "    # 'GD': gd_solver,\n",
        "    # 'BCGD permutation': bcgd_permut_solver,\n",
        "    # 'BCGD cyclic': bcgd_cyclic_solver,\n",
        "    'BCGD sampling': bcgd_sampling_solver,\n",
        "}"
      ]
    },
    {
      "cell_type": "code",
      "execution_count": null,
      "metadata": {
        "id": "hcChCMybji8r"
      },
      "outputs": [],
      "source": [
        "def compare_models(solvers_dict, X, Y_true, Y_delabeled, iters_limit, delta_percent_limit, delta_loss_limit, stop_loss, weights_matrix):\n",
        "    predictions = {k:None for k in solvers_dict.keys()}\n",
        "    losses = {k:None for k in solvers_dict.keys()}\n",
        "    n_iterations = {k:None for k in solvers_dict.keys()}\n",
        "    cpu_times_total = {k:None for k in solvers_dict.keys()}\n",
        "\n",
        "    for model_name, model in solvers_dict.items():\n",
        "        print(f'Fitting {model_name}')\n",
        "        start = timeit.default_timer()\n",
        "        Y_preds = model.solve(\n",
        "            X,\n",
        "            Y_delabeled,\n",
        "            Y_true = Y_true,\n",
        "            iter_limit = iters_limit,\n",
        "            delta_percent_limit = delta_percent_limit,\n",
        "            delta_loss_limit = delta_loss_limit,\n",
        "            stop_loss= stop_loss,\n",
        "            weight_matrix = weights_matrix\n",
        "        )\n",
        "        end = timeit.default_timer()\n",
        "        predictions[model_name] = Y_preds\n",
        "        losses[model_name] = model.losses\n",
        "        n_iterations[model_name] = model.n_iterations\n",
        "        cpu_times_total[model_name] = end - start\n",
        "    \n",
        "\n",
        "    return predictions, losses, n_iterations, cpu_times_total"
      ]
    },
    {
      "cell_type": "code",
      "execution_count": null,
      "metadata": {
        "colab": {
          "base_uri": "https://localhost:8080/"
        },
        "id": "dLm9tU_sji8r",
        "outputId": "9ead8d86-41c4-434f-d457-8b7d255d7f3b"
      },
      "outputs": [
        {
          "name": "stdout",
          "output_type": "stream",
          "text": [
            "Fitting BCGD sampling\n",
            "Iteration: 0, Loss: 102822.87984855211, Delta: 102822.87984855211\n",
            "Iteration: 1, Loss: 102822.3430521119, Delta: 0.5367964402103098\n",
            "Iteration: 2, Loss: 102822.23290044357, Delta: 0.11015166832657997\n",
            "Iteration: 3, Loss: 102821.90601583854, Delta: 0.3268846050341381\n",
            "Iteration: 4, Loss: 102821.50578733964, Delta: 0.4002284988964675\n",
            "Iteration: 5, Loss: 102821.27908595961, Delta: 0.22670138003013562\n",
            "Iteration: 6, Loss: 102820.67135148788, Delta: 0.6077344717341475\n",
            "Iteration: 7, Loss: 102820.50406669514, Delta: 0.1672847927402472\n",
            "Iteration: 8, Loss: 102820.45604232131, Delta: 0.04802437382750213\n",
            "Iteration: 9, Loss: 102820.09908320515, Delta: 0.35695911616494413\n",
            "Iteration: 10, Loss: 102820.08427356482, Delta: 0.014809640328167006\n",
            "Iteration: 11, Loss: 102819.58108961578, Delta: 0.503183949040249\n",
            "Iteration: 12, Loss: 102818.99276383652, Delta: 0.5883257792593213\n",
            "Iteration: 13, Loss: 102818.61524862605, Delta: 0.37751521046448033\n",
            "Iteration: 14, Loss: 102818.3090851581, Delta: 0.3061634679615963\n",
            "Iteration: 15, Loss: 102817.80681955925, Delta: 0.5022655988432234\n",
            "Iteration: 16, Loss: 102817.77833632019, Delta: 0.028483239060733467\n",
            "Iteration: 17, Loss: 102817.69197245766, Delta: 0.08636386253056116\n",
            "Iteration: 18, Loss: 102817.35261526996, Delta: 0.33935718769498635\n",
            "Iteration: 19, Loss: 102817.12273301429, Delta: 0.22988225567678455\n",
            "Iteration: 20, Loss: 102817.10107550236, Delta: 0.021657511926605366\n",
            "Iteration: 21, Loss: 102816.64164882792, Delta: 0.4594266744388733\n",
            "Iteration: 22, Loss: 102816.248469747, Delta: 0.393179080914706\n",
            "Iteration: 23, Loss: 102815.92579595823, Delta: 0.32267378877440933\n",
            "Iteration: 24, Loss: 102815.7911655994, Delta: 0.13463035883614793\n",
            "Iteration: 25, Loss: 102815.13204182863, Delta: 0.6591237707616528\n",
            "Iteration: 26, Loss: 102814.88506213136, Delta: 0.2469796972727636\n",
            "Iteration: 27, Loss: 102814.8234972811, Delta: 0.061564850257127546\n",
            "Iteration: 28, Loss: 102814.66326951628, Delta: 0.16022776481986511\n",
            "Iteration: 29, Loss: 102813.94844952702, Delta: 0.7148199892690172\n",
            "Iteration: 30, Loss: 102813.88245264212, Delta: 0.06599688489222899\n",
            "Iteration: 31, Loss: 102813.26523731729, Delta: 0.6172153248335235\n",
            "Iteration: 32, Loss: 102812.27863106216, Delta: 0.9866062551300274\n",
            "Iteration: 33, Loss: 102811.73988020295, Delta: 0.5387508592102677\n",
            "Iteration: 34, Loss: 102811.64702110682, Delta: 0.0928590961266309\n",
            "Iteration: 35, Loss: 102811.56102783313, Delta: 0.08599327369302046\n",
            "Iteration: 36, Loss: 102811.20348096627, Delta: 0.35754686685686465\n",
            "Iteration: 37, Loss: 102810.70923280255, Delta: 0.4942481637262972\n",
            "Iteration: 38, Loss: 102810.2863503307, Delta: 0.4228824718447868\n",
            "Iteration: 39, Loss: 102810.22863608759, Delta: 0.05771424311387818\n",
            "Iteration: 40, Loss: 102810.20170513557, Delta: 0.026930952022667043\n",
            "Iteration: 41, Loss: 102809.82167484847, Delta: 0.3800302870949963\n",
            "Iteration: 42, Loss: 102809.20918320662, Delta: 0.6124916418484645\n",
            "Iteration: 43, Loss: 102808.8756211995, Delta: 0.3335620071156882\n",
            "Iteration: 44, Loss: 102808.43379590439, Delta: 0.4418252951145405\n",
            "Iteration: 45, Loss: 102808.38965653784, Delta: 0.044139366553281434\n",
            "Iteration: 46, Loss: 102808.15014729211, Delta: 0.2395092457300052\n",
            "Iteration: 47, Loss: 102807.59877007602, Delta: 0.551377216092078\n",
            "Iteration: 48, Loss: 102807.47306392345, Delta: 0.12570615256845485\n",
            "Iteration: 49, Loss: 102807.43811315447, Delta: 0.034950768982525915\n"
          ]
        }
      ],
      "source": [
        "iters_limit = 50\n",
        "delta_loss_limit = 0.0  # we dont use it anymore\n",
        "stop_loss= 0  # we dont use it anymore\n",
        "delta_percent_limit = 0,  # when dLoss / dLoss prev\n",
        "\n",
        "\n",
        "preds, losses, n_iters, cpu_times_total = compare_models(\n",
        "        solvers,\n",
        "        X,\n",
        "        Y_delabeled = Y_delabeled,\n",
        "        Y_true = Y,\n",
        "        iters_limit = iters_limit,\n",
        "        delta_percent_limit = delta_percent_limit,\n",
        "        delta_loss_limit = delta_loss_limit,\n",
        "        stop_loss = stop_loss,\n",
        "        weights_matrix =  weights\n",
        "    )"
      ]
    },
    {
      "cell_type": "code",
      "execution_count": null,
      "metadata": {
        "id": "bq3MKYO5D3DK"
      },
      "outputs": [],
      "source": [
        "accuracies = {name: solver.accuracies for name, solver in solvers.items()}\n",
        "cpu_times = {name: solver.cpu_times for name, solver in solvers.items()}"
      ]
    },
    {
      "cell_type": "markdown",
      "metadata": {
        "id": "qFdvc2CBmC56"
      },
      "source": [
        "## Saving data"
      ]
    },
    {
      "cell_type": "code",
      "execution_count": null,
      "metadata": {
        "colab": {
          "base_uri": "https://localhost:8080/",
          "height": 81
        },
        "id": "PTrC3C2F0TFG",
        "outputId": "c2fa75bb-c907-46d6-9adb-9756350441c9"
      },
      "outputs": [
        {
          "data": {
            "text/html": [
              "\n",
              "  <div id=\"df-a55f01fb-8e39-4bd8-9a98-ddac0f3f71c3\">\n",
              "    <div class=\"colab-df-container\">\n",
              "      <div>\n",
              "<style scoped>\n",
              "    .dataframe tbody tr th:only-of-type {\n",
              "        vertical-align: middle;\n",
              "    }\n",
              "\n",
              "    .dataframe tbody tr th {\n",
              "        vertical-align: top;\n",
              "    }\n",
              "\n",
              "    .dataframe thead th {\n",
              "        text-align: right;\n",
              "    }\n",
              "</style>\n",
              "<table border=\"1\" class=\"dataframe\">\n",
              "  <thead>\n",
              "    <tr style=\"text-align: right;\">\n",
              "      <th></th>\n",
              "      <th>iters_limit</th>\n",
              "      <th>d_loss_limit</th>\n",
              "      <th>delta_percent_limit</th>\n",
              "      <th>stop_loss</th>\n",
              "      <th>learning_rate</th>\n",
              "      <th>n points</th>\n",
              "    </tr>\n",
              "  </thead>\n",
              "  <tbody>\n",
              "    <tr>\n",
              "      <th>0</th>\n",
              "      <td>50</td>\n",
              "      <td>0.0</td>\n",
              "      <td>(0,)</td>\n",
              "      <td>0</td>\n",
              "      <td>0.0001</td>\n",
              "      <td>5000</td>\n",
              "    </tr>\n",
              "  </tbody>\n",
              "</table>\n",
              "</div>\n",
              "      <button class=\"colab-df-convert\" onclick=\"convertToInteractive('df-a55f01fb-8e39-4bd8-9a98-ddac0f3f71c3')\"\n",
              "              title=\"Convert this dataframe to an interactive table.\"\n",
              "              style=\"display:none;\">\n",
              "        \n",
              "  <svg xmlns=\"http://www.w3.org/2000/svg\" height=\"24px\"viewBox=\"0 0 24 24\"\n",
              "       width=\"24px\">\n",
              "    <path d=\"M0 0h24v24H0V0z\" fill=\"none\"/>\n",
              "    <path d=\"M18.56 5.44l.94 2.06.94-2.06 2.06-.94-2.06-.94-.94-2.06-.94 2.06-2.06.94zm-11 1L8.5 8.5l.94-2.06 2.06-.94-2.06-.94L8.5 2.5l-.94 2.06-2.06.94zm10 10l.94 2.06.94-2.06 2.06-.94-2.06-.94-.94-2.06-.94 2.06-2.06.94z\"/><path d=\"M17.41 7.96l-1.37-1.37c-.4-.4-.92-.59-1.43-.59-.52 0-1.04.2-1.43.59L10.3 9.45l-7.72 7.72c-.78.78-.78 2.05 0 2.83L4 21.41c.39.39.9.59 1.41.59.51 0 1.02-.2 1.41-.59l7.78-7.78 2.81-2.81c.8-.78.8-2.07 0-2.86zM5.41 20L4 18.59l7.72-7.72 1.47 1.35L5.41 20z\"/>\n",
              "  </svg>\n",
              "      </button>\n",
              "      \n",
              "  <style>\n",
              "    .colab-df-container {\n",
              "      display:flex;\n",
              "      flex-wrap:wrap;\n",
              "      gap: 12px;\n",
              "    }\n",
              "\n",
              "    .colab-df-convert {\n",
              "      background-color: #E8F0FE;\n",
              "      border: none;\n",
              "      border-radius: 50%;\n",
              "      cursor: pointer;\n",
              "      display: none;\n",
              "      fill: #1967D2;\n",
              "      height: 32px;\n",
              "      padding: 0 0 0 0;\n",
              "      width: 32px;\n",
              "    }\n",
              "\n",
              "    .colab-df-convert:hover {\n",
              "      background-color: #E2EBFA;\n",
              "      box-shadow: 0px 1px 2px rgba(60, 64, 67, 0.3), 0px 1px 3px 1px rgba(60, 64, 67, 0.15);\n",
              "      fill: #174EA6;\n",
              "    }\n",
              "\n",
              "    [theme=dark] .colab-df-convert {\n",
              "      background-color: #3B4455;\n",
              "      fill: #D2E3FC;\n",
              "    }\n",
              "\n",
              "    [theme=dark] .colab-df-convert:hover {\n",
              "      background-color: #434B5C;\n",
              "      box-shadow: 0px 1px 3px 1px rgba(0, 0, 0, 0.15);\n",
              "      filter: drop-shadow(0px 1px 2px rgba(0, 0, 0, 0.3));\n",
              "      fill: #FFFFFF;\n",
              "    }\n",
              "  </style>\n",
              "\n",
              "      <script>\n",
              "        const buttonEl =\n",
              "          document.querySelector('#df-a55f01fb-8e39-4bd8-9a98-ddac0f3f71c3 button.colab-df-convert');\n",
              "        buttonEl.style.display =\n",
              "          google.colab.kernel.accessAllowed ? 'block' : 'none';\n",
              "\n",
              "        async function convertToInteractive(key) {\n",
              "          const element = document.querySelector('#df-a55f01fb-8e39-4bd8-9a98-ddac0f3f71c3');\n",
              "          const dataTable =\n",
              "            await google.colab.kernel.invokeFunction('convertToInteractive',\n",
              "                                                     [key], {});\n",
              "          if (!dataTable) return;\n",
              "\n",
              "          const docLinkHtml = 'Like what you see? Visit the ' +\n",
              "            '<a target=\"_blank\" href=https://colab.research.google.com/notebooks/data_table.ipynb>data table notebook</a>'\n",
              "            + ' to learn more about interactive tables.';\n",
              "          element.innerHTML = '';\n",
              "          dataTable['output_type'] = 'display_data';\n",
              "          await google.colab.output.renderOutput(dataTable, element);\n",
              "          const docLink = document.createElement('div');\n",
              "          docLink.innerHTML = docLinkHtml;\n",
              "          element.appendChild(docLink);\n",
              "        }\n",
              "      </script>\n",
              "    </div>\n",
              "  </div>\n",
              "  "
            ],
            "text/plain": [
              "   iters_limit  d_loss_limit delta_percent_limit  stop_loss  learning_rate  \\\n",
              "0           50           0.0                (0,)          0         0.0001   \n",
              "\n",
              "   n points  \n",
              "0      5000  "
            ]
          },
          "execution_count": 21,
          "metadata": {},
          "output_type": "execute_result"
        }
      ],
      "source": [
        "# iters_limit = 17\n",
        "# delta_loss_limit = 0.0001\n",
        "# stop_loss= 21000  # 4000\n",
        "\n",
        "experiment_params = pd.DataFrame(\n",
        "    {\n",
        "        'iters_limit': [iters_limit],\n",
        "        'd_loss_limit': [delta_loss_limit],\n",
        "        'delta_percent_limit': [delta_percent_limit],\n",
        "        'stop_loss': [stop_loss],\n",
        "        'learning_rate': [lr],\n",
        "        'n points': [DataProperties.n_samples]\n",
        "    },\n",
        "    # index = False\n",
        ")\n",
        "\n",
        "experiment_params.to_csv(full_dir + 'experiment_params.csv')\n",
        "experiment_params.head()"
      ]
    },
    {
      "cell_type": "code",
      "execution_count": null,
      "metadata": {
        "colab": {
          "base_uri": "https://localhost:8080/",
          "height": 206
        },
        "id": "O8nVfq5KmC57",
        "outputId": "76ccbb59-b74c-4db3-fdfc-3aed3f611cec"
      },
      "outputs": [
        {
          "data": {
            "text/html": [
              "\n",
              "  <div id=\"df-d5cc46c8-2273-4b8d-8625-27f46b9adc82\">\n",
              "    <div class=\"colab-df-container\">\n",
              "      <div>\n",
              "<style scoped>\n",
              "    .dataframe tbody tr th:only-of-type {\n",
              "        vertical-align: middle;\n",
              "    }\n",
              "\n",
              "    .dataframe tbody tr th {\n",
              "        vertical-align: top;\n",
              "    }\n",
              "\n",
              "    .dataframe thead th {\n",
              "        text-align: right;\n",
              "    }\n",
              "</style>\n",
              "<table border=\"1\" class=\"dataframe\">\n",
              "  <thead>\n",
              "    <tr style=\"text-align: right;\">\n",
              "      <th></th>\n",
              "      <th>BCGD sampling loss</th>\n",
              "      <th>BCGD sampling cpu</th>\n",
              "      <th>BCGD sampling acc</th>\n",
              "    </tr>\n",
              "  </thead>\n",
              "  <tbody>\n",
              "    <tr>\n",
              "      <th>0</th>\n",
              "      <td>102822.879849</td>\n",
              "      <td>31.829252</td>\n",
              "      <td>0.0500</td>\n",
              "    </tr>\n",
              "    <tr>\n",
              "      <th>1</th>\n",
              "      <td>102822.343052</td>\n",
              "      <td>63.475447</td>\n",
              "      <td>0.0502</td>\n",
              "    </tr>\n",
              "    <tr>\n",
              "      <th>2</th>\n",
              "      <td>102822.232900</td>\n",
              "      <td>95.545339</td>\n",
              "      <td>0.0504</td>\n",
              "    </tr>\n",
              "    <tr>\n",
              "      <th>3</th>\n",
              "      <td>102821.906016</td>\n",
              "      <td>127.995053</td>\n",
              "      <td>0.0506</td>\n",
              "    </tr>\n",
              "    <tr>\n",
              "      <th>4</th>\n",
              "      <td>102821.505787</td>\n",
              "      <td>160.394915</td>\n",
              "      <td>0.0508</td>\n",
              "    </tr>\n",
              "  </tbody>\n",
              "</table>\n",
              "</div>\n",
              "      <button class=\"colab-df-convert\" onclick=\"convertToInteractive('df-d5cc46c8-2273-4b8d-8625-27f46b9adc82')\"\n",
              "              title=\"Convert this dataframe to an interactive table.\"\n",
              "              style=\"display:none;\">\n",
              "        \n",
              "  <svg xmlns=\"http://www.w3.org/2000/svg\" height=\"24px\"viewBox=\"0 0 24 24\"\n",
              "       width=\"24px\">\n",
              "    <path d=\"M0 0h24v24H0V0z\" fill=\"none\"/>\n",
              "    <path d=\"M18.56 5.44l.94 2.06.94-2.06 2.06-.94-2.06-.94-.94-2.06-.94 2.06-2.06.94zm-11 1L8.5 8.5l.94-2.06 2.06-.94-2.06-.94L8.5 2.5l-.94 2.06-2.06.94zm10 10l.94 2.06.94-2.06 2.06-.94-2.06-.94-.94-2.06-.94 2.06-2.06.94z\"/><path d=\"M17.41 7.96l-1.37-1.37c-.4-.4-.92-.59-1.43-.59-.52 0-1.04.2-1.43.59L10.3 9.45l-7.72 7.72c-.78.78-.78 2.05 0 2.83L4 21.41c.39.39.9.59 1.41.59.51 0 1.02-.2 1.41-.59l7.78-7.78 2.81-2.81c.8-.78.8-2.07 0-2.86zM5.41 20L4 18.59l7.72-7.72 1.47 1.35L5.41 20z\"/>\n",
              "  </svg>\n",
              "      </button>\n",
              "      \n",
              "  <style>\n",
              "    .colab-df-container {\n",
              "      display:flex;\n",
              "      flex-wrap:wrap;\n",
              "      gap: 12px;\n",
              "    }\n",
              "\n",
              "    .colab-df-convert {\n",
              "      background-color: #E8F0FE;\n",
              "      border: none;\n",
              "      border-radius: 50%;\n",
              "      cursor: pointer;\n",
              "      display: none;\n",
              "      fill: #1967D2;\n",
              "      height: 32px;\n",
              "      padding: 0 0 0 0;\n",
              "      width: 32px;\n",
              "    }\n",
              "\n",
              "    .colab-df-convert:hover {\n",
              "      background-color: #E2EBFA;\n",
              "      box-shadow: 0px 1px 2px rgba(60, 64, 67, 0.3), 0px 1px 3px 1px rgba(60, 64, 67, 0.15);\n",
              "      fill: #174EA6;\n",
              "    }\n",
              "\n",
              "    [theme=dark] .colab-df-convert {\n",
              "      background-color: #3B4455;\n",
              "      fill: #D2E3FC;\n",
              "    }\n",
              "\n",
              "    [theme=dark] .colab-df-convert:hover {\n",
              "      background-color: #434B5C;\n",
              "      box-shadow: 0px 1px 3px 1px rgba(0, 0, 0, 0.15);\n",
              "      filter: drop-shadow(0px 1px 2px rgba(0, 0, 0, 0.3));\n",
              "      fill: #FFFFFF;\n",
              "    }\n",
              "  </style>\n",
              "\n",
              "      <script>\n",
              "        const buttonEl =\n",
              "          document.querySelector('#df-d5cc46c8-2273-4b8d-8625-27f46b9adc82 button.colab-df-convert');\n",
              "        buttonEl.style.display =\n",
              "          google.colab.kernel.accessAllowed ? 'block' : 'none';\n",
              "\n",
              "        async function convertToInteractive(key) {\n",
              "          const element = document.querySelector('#df-d5cc46c8-2273-4b8d-8625-27f46b9adc82');\n",
              "          const dataTable =\n",
              "            await google.colab.kernel.invokeFunction('convertToInteractive',\n",
              "                                                     [key], {});\n",
              "          if (!dataTable) return;\n",
              "\n",
              "          const docLinkHtml = 'Like what you see? Visit the ' +\n",
              "            '<a target=\"_blank\" href=https://colab.research.google.com/notebooks/data_table.ipynb>data table notebook</a>'\n",
              "            + ' to learn more about interactive tables.';\n",
              "          element.innerHTML = '';\n",
              "          dataTable['output_type'] = 'display_data';\n",
              "          await google.colab.output.renderOutput(dataTable, element);\n",
              "          const docLink = document.createElement('div');\n",
              "          docLink.innerHTML = docLinkHtml;\n",
              "          element.appendChild(docLink);\n",
              "        }\n",
              "      </script>\n",
              "    </div>\n",
              "  </div>\n",
              "  "
            ],
            "text/plain": [
              "   BCGD sampling loss  BCGD sampling cpu  BCGD sampling acc\n",
              "0       102822.879849          31.829252             0.0500\n",
              "1       102822.343052          63.475447             0.0502\n",
              "2       102822.232900          95.545339             0.0504\n",
              "3       102821.906016         127.995053             0.0506\n",
              "4       102821.505787         160.394915             0.0508"
            ]
          },
          "execution_count": 22,
          "metadata": {},
          "output_type": "execute_result"
        }
      ],
      "source": [
        "results = pd.DataFrame()\n",
        "\n",
        "# fill losses\n",
        "for model_name, loss in losses.items():\n",
        "    new = pd.DataFrame({f'{model_name} loss': loss})\n",
        "    results = pd.concat([results, new], axis = 1)\n",
        "    # results[f'{model_name} loss'] = loss\n",
        "\n",
        "for model_name, cpu_time in cpu_times.items():\n",
        "    new = pd.DataFrame({f'{model_name} cpu': cpu_time})\n",
        "    results = pd.concat([results, new], axis = 1)\n",
        "    # results[f'{model_name} cpu'] = cpu_time\n",
        "\n",
        "for model_name, acc in accuracies.items():\n",
        "    new = pd.DataFrame({f'{model_name} acc': acc})\n",
        "    results = pd.concat([results, new], axis = 1)\n",
        "\n",
        "\n",
        "results.to_csv(full_dir + 'res.csv')\n",
        "results.head()"
      ]
    },
    {
      "cell_type": "code",
      "execution_count": null,
      "metadata": {
        "colab": {
          "base_uri": "https://localhost:8080/",
          "height": 569
        },
        "id": "VmisRJGYmC59",
        "outputId": "ac1048e7-1dc7-4cde-fd28-9600591d3b64"
      },
      "outputs": [
        {
          "data": {
            "text/html": [
              "\n",
              "  <div id=\"df-da310a79-b920-48fb-91f5-799c0abc587d\">\n",
              "    <div class=\"colab-df-container\">\n",
              "      <div>\n",
              "<style scoped>\n",
              "    .dataframe tbody tr th:only-of-type {\n",
              "        vertical-align: middle;\n",
              "    }\n",
              "\n",
              "    .dataframe tbody tr th {\n",
              "        vertical-align: top;\n",
              "    }\n",
              "\n",
              "    .dataframe thead th {\n",
              "        text-align: right;\n",
              "    }\n",
              "</style>\n",
              "<table border=\"1\" class=\"dataframe\">\n",
              "  <thead>\n",
              "    <tr style=\"text-align: right;\">\n",
              "      <th></th>\n",
              "      <th>CPU total time</th>\n",
              "      <th>N iterations</th>\n",
              "      <th>Final accuracy</th>\n",
              "      <th>CPU total time_norm</th>\n",
              "      <th>N iterations_norm</th>\n",
              "      <th>Final accuracy_norm</th>\n",
              "    </tr>\n",
              "  </thead>\n",
              "  <tbody>\n",
              "    <tr>\n",
              "      <th>BCGD sampling</th>\n",
              "      <td>1608.342744</td>\n",
              "      <td>50</td>\n",
              "      <td>0.0596</td>\n",
              "      <td>1.0</td>\n",
              "      <td>1.0</td>\n",
              "      <td>1.0</td>\n",
              "    </tr>\n",
              "  </tbody>\n",
              "</table>\n",
              "</div>\n",
              "      <button class=\"colab-df-convert\" onclick=\"convertToInteractive('df-da310a79-b920-48fb-91f5-799c0abc587d')\"\n",
              "              title=\"Convert this dataframe to an interactive table.\"\n",
              "              style=\"display:none;\">\n",
              "        \n",
              "  <svg xmlns=\"http://www.w3.org/2000/svg\" height=\"24px\"viewBox=\"0 0 24 24\"\n",
              "       width=\"24px\">\n",
              "    <path d=\"M0 0h24v24H0V0z\" fill=\"none\"/>\n",
              "    <path d=\"M18.56 5.44l.94 2.06.94-2.06 2.06-.94-2.06-.94-.94-2.06-.94 2.06-2.06.94zm-11 1L8.5 8.5l.94-2.06 2.06-.94-2.06-.94L8.5 2.5l-.94 2.06-2.06.94zm10 10l.94 2.06.94-2.06 2.06-.94-2.06-.94-.94-2.06-.94 2.06-2.06.94z\"/><path d=\"M17.41 7.96l-1.37-1.37c-.4-.4-.92-.59-1.43-.59-.52 0-1.04.2-1.43.59L10.3 9.45l-7.72 7.72c-.78.78-.78 2.05 0 2.83L4 21.41c.39.39.9.59 1.41.59.51 0 1.02-.2 1.41-.59l7.78-7.78 2.81-2.81c.8-.78.8-2.07 0-2.86zM5.41 20L4 18.59l7.72-7.72 1.47 1.35L5.41 20z\"/>\n",
              "  </svg>\n",
              "      </button>\n",
              "      \n",
              "  <style>\n",
              "    .colab-df-container {\n",
              "      display:flex;\n",
              "      flex-wrap:wrap;\n",
              "      gap: 12px;\n",
              "    }\n",
              "\n",
              "    .colab-df-convert {\n",
              "      background-color: #E8F0FE;\n",
              "      border: none;\n",
              "      border-radius: 50%;\n",
              "      cursor: pointer;\n",
              "      display: none;\n",
              "      fill: #1967D2;\n",
              "      height: 32px;\n",
              "      padding: 0 0 0 0;\n",
              "      width: 32px;\n",
              "    }\n",
              "\n",
              "    .colab-df-convert:hover {\n",
              "      background-color: #E2EBFA;\n",
              "      box-shadow: 0px 1px 2px rgba(60, 64, 67, 0.3), 0px 1px 3px 1px rgba(60, 64, 67, 0.15);\n",
              "      fill: #174EA6;\n",
              "    }\n",
              "\n",
              "    [theme=dark] .colab-df-convert {\n",
              "      background-color: #3B4455;\n",
              "      fill: #D2E3FC;\n",
              "    }\n",
              "\n",
              "    [theme=dark] .colab-df-convert:hover {\n",
              "      background-color: #434B5C;\n",
              "      box-shadow: 0px 1px 3px 1px rgba(0, 0, 0, 0.15);\n",
              "      filter: drop-shadow(0px 1px 2px rgba(0, 0, 0, 0.3));\n",
              "      fill: #FFFFFF;\n",
              "    }\n",
              "  </style>\n",
              "\n",
              "      <script>\n",
              "        const buttonEl =\n",
              "          document.querySelector('#df-da310a79-b920-48fb-91f5-799c0abc587d button.colab-df-convert');\n",
              "        buttonEl.style.display =\n",
              "          google.colab.kernel.accessAllowed ? 'block' : 'none';\n",
              "\n",
              "        async function convertToInteractive(key) {\n",
              "          const element = document.querySelector('#df-da310a79-b920-48fb-91f5-799c0abc587d');\n",
              "          const dataTable =\n",
              "            await google.colab.kernel.invokeFunction('convertToInteractive',\n",
              "                                                     [key], {});\n",
              "          if (!dataTable) return;\n",
              "\n",
              "          const docLinkHtml = 'Like what you see? Visit the ' +\n",
              "            '<a target=\"_blank\" href=https://colab.research.google.com/notebooks/data_table.ipynb>data table notebook</a>'\n",
              "            + ' to learn more about interactive tables.';\n",
              "          element.innerHTML = '';\n",
              "          dataTable['output_type'] = 'display_data';\n",
              "          await google.colab.output.renderOutput(dataTable, element);\n",
              "          const docLink = document.createElement('div');\n",
              "          docLink.innerHTML = docLinkHtml;\n",
              "          element.appendChild(docLink);\n",
              "        }\n",
              "      </script>\n",
              "    </div>\n",
              "  </div>\n",
              "  "
            ],
            "text/plain": [
              "               CPU total time  N iterations  Final accuracy  \\\n",
              "BCGD sampling     1608.342744            50          0.0596   \n",
              "\n",
              "               CPU total time_norm  N iterations_norm  Final accuracy_norm  \n",
              "BCGD sampling                  1.0                1.0                  1.0  "
            ]
          },
          "execution_count": 23,
          "metadata": {},
          "output_type": "execute_result"
        },
        {
          "data": {
            "image/png": "[encoded data removed]",
            "text/plain": [
              "<Figure size 576x576 with 1 Axes>"
            ]
          },
          "metadata": {
            "needs_background": "light"
          },
          "output_type": "display_data"
        }
      ],
      "source": [
        "bar_metrics = pd.DataFrame.from_dict(cpu_times_total, orient='index', columns = ['CPU total time'])\n",
        "bar_metrics['N iterations'] = n_iters.values()\n",
        "\n",
        "final_accuracies = {name: acc[-1] for name, acc in accuracies.items()}\n",
        "bar_metrics['Final accuracy'] = final_accuracies.values()\n",
        "\n",
        "\n",
        "\n",
        "normalize_cols(bar_metrics)\n",
        "cols_to_plot = [c for c in bar_metrics.columns if 'norm' in c]\n",
        "\n",
        "plot_bar_metrics(bar_metrics.loc[:, cols_to_plot])\n",
        "bar_metrics.to_csv(full_dir + 'metrics res.csv')\n",
        "\n",
        "bar_metrics.head()"
      ]
    },
    {
      "cell_type": "markdown",
      "metadata": {
        "id": "AvivnwTfmC5-"
      },
      "source": [
        "## Graphics"
      ]
    },
    {
      "cell_type": "code",
      "execution_count": null,
      "metadata": {
        "colab": {
          "base_uri": "https://localhost:8080/",
          "height": 404
        },
        "id": "07EmcJuSji8r",
        "outputId": "4b110b05-7865-434f-bfdf-8269760f8f91"
      },
      "outputs": [
        {
          "data": {
            "image/png": "[encoded data removed]",
            "text/plain": [
              "<Figure size 648x432 with 1 Axes>"
            ]
          },
          "metadata": {
            "needs_background": "light"
          },
          "output_type": "display_data"
        }
      ],
      "source": [
        "def plot_curves(curves_dict, title, y_label, figsize):\n",
        "    _, ax = plt.subplots(figsize = figsize)\n",
        "\n",
        "    for _, curve_res in curves_dict.items():\n",
        "        ax.plot(\n",
        "            curve_res,\n",
        "            marker = 'o',\n",
        "            linestyle = '--',\n",
        "            linewidth = 1.3,\n",
        "            markerfacecolor = 'white',\n",
        "            markersize = 2\n",
        "        )\n",
        "    plt.legend(list(curves_dict.keys()))\n",
        "    plt.title(title)\n",
        "    plt.xlabel('Iteration')\n",
        "    plt.ylabel(y_label)\n",
        "    plt.grid()\n",
        "\n",
        "\n",
        "# plot_curves({'Cyclic':losses['BCGD cyclic']}, 'Losses cyclic', y_label = 'Loss')\n",
        "# plot_curves({'GD':losses['GD']}, 'Losses GD', y_label = 'Loss')\n",
        "plot_curves(\n",
        "    losses,\n",
        "    'Losses VS N iterations', \n",
        "    y_label = 'Loss',\n",
        "    figsize = (9, 6)\n",
        ")"
      ]
    },
    {
      "cell_type": "code",
      "execution_count": null,
      "metadata": {
        "colab": {
          "base_uri": "https://localhost:8080/",
          "height": 295
        },
        "id": "x0Vuj0yXmC6A",
        "outputId": "ef49b1c3-9aa7-47a8-f763-6b2cd8fec6a4"
      },
      "outputs": [
        {
          "data": {
            "image/png": "[encoded data removed]",
            "text/plain": [
              "<Figure size 432x288 with 1 Axes>"
            ]
          },
          "metadata": {
            "needs_background": "light"
          },
          "output_type": "display_data"
        }
      ],
      "source": [
        "def plot_losses_vs_cpu(losses_, cpu_times_):\n",
        "    assert(list(losses_.keys()) == list(cpu_times_.keys()))\n",
        "\n",
        "    _, ax = plt.subplots()\n",
        "\n",
        "    for model_name, loss in losses_.items():\n",
        "        cpu_time = cpu_times_[model_name]\n",
        "\n",
        "        ax.plot(\n",
        "            cpu_time,\n",
        "            loss,\n",
        "            marker = 'o',\n",
        "            markerfacecolor = 'white'\n",
        "        )\n",
        "    plt.xlabel('CPU time')\n",
        "    plt.ylabel('Loss')\n",
        "    plt.title('Loss VS CPU time')\n",
        "    plt.legend(list(losses_.keys()))\n",
        "    plt.grid()\n",
        "\n",
        "\n",
        "plot_losses_vs_cpu(losses, cpu_times)"
      ]
    },
    {
      "cell_type": "markdown",
      "metadata": {
        "id": "U2In6I0eji8s"
      },
      "source": [
        "# Real dataset"
      ]
    },
    {
      "cell_type": "markdown",
      "source": [
        "## Pokemons"
      ],
      "metadata": {
        "id": "pTEXftm1zJok"
      }
    },
    {
      "cell_type": "code",
      "execution_count": 6,
      "metadata": {
        "id": "ayGlyYP8mC6C",
        "outputId": "9b6e1c3d-3c4c-4d47-ba9c-e1effbe74951",
        "colab": {
          "base_uri": "https://localhost:8080/",
          "height": 328
        }
      },
      "outputs": [
        {
          "output_type": "error",
          "ename": "FileNotFoundError",
          "evalue": "ignored",
          "traceback": [
            "\u001b[0;31m---------------------------------------------------------------------------\u001b[0m",
            "\u001b[0;31mFileNotFoundError\u001b[0m                         Traceback (most recent call last)",
            "\u001b[0;32m<ipython-input-6-0f4b4a75be62>\u001b[0m in \u001b[0;36m<module>\u001b[0;34m()\u001b[0m\n\u001b[0;32m----> 1\u001b[0;31m \u001b[0mdf\u001b[0m \u001b[0;34m=\u001b[0m \u001b[0mpd\u001b[0m\u001b[0;34m.\u001b[0m\u001b[0mread_csv\u001b[0m\u001b[0;34m(\u001b[0m\u001b[0;34m'Pokemon.csv'\u001b[0m\u001b[0;34m)\u001b[0m\u001b[0;34m\u001b[0m\u001b[0;34m\u001b[0m\u001b[0m\n\u001b[0m",
            "\u001b[0;32m/usr/local/lib/python3.7/dist-packages/pandas/util/_decorators.py\u001b[0m in \u001b[0;36mwrapper\u001b[0;34m(*args, **kwargs)\u001b[0m\n\u001b[1;32m    309\u001b[0m                     \u001b[0mstacklevel\u001b[0m\u001b[0;34m=\u001b[0m\u001b[0mstacklevel\u001b[0m\u001b[0;34m,\u001b[0m\u001b[0;34m\u001b[0m\u001b[0;34m\u001b[0m\u001b[0m\n\u001b[1;32m    310\u001b[0m                 )\n\u001b[0;32m--> 311\u001b[0;31m             \u001b[0;32mreturn\u001b[0m \u001b[0mfunc\u001b[0m\u001b[0;34m(\u001b[0m\u001b[0;34m*\u001b[0m\u001b[0margs\u001b[0m\u001b[0;34m,\u001b[0m \u001b[0;34m**\u001b[0m\u001b[0mkwargs\u001b[0m\u001b[0;34m)\u001b[0m\u001b[0;34m\u001b[0m\u001b[0;34m\u001b[0m\u001b[0m\n\u001b[0m\u001b[1;32m    312\u001b[0m \u001b[0;34m\u001b[0m\u001b[0m\n\u001b[1;32m    313\u001b[0m         \u001b[0;32mreturn\u001b[0m \u001b[0mwrapper\u001b[0m\u001b[0;34m\u001b[0m\u001b[0;34m\u001b[0m\u001b[0m\n",
            "\u001b[0;32m/usr/local/lib/python3.7/dist-packages/pandas/io/parsers/readers.py\u001b[0m in \u001b[0;36mread_csv\u001b[0;34m(filepath_or_buffer, sep, delimiter, header, names, index_col, usecols, squeeze, prefix, mangle_dupe_cols, dtype, engine, converters, true_values, false_values, skipinitialspace, skiprows, skipfooter, nrows, na_values, keep_default_na, na_filter, verbose, skip_blank_lines, parse_dates, infer_datetime_format, keep_date_col, date_parser, dayfirst, cache_dates, iterator, chunksize, compression, thousands, decimal, lineterminator, quotechar, quoting, doublequote, escapechar, comment, encoding, encoding_errors, dialect, error_bad_lines, warn_bad_lines, on_bad_lines, delim_whitespace, low_memory, memory_map, float_precision, storage_options)\u001b[0m\n\u001b[1;32m    584\u001b[0m     \u001b[0mkwds\u001b[0m\u001b[0;34m.\u001b[0m\u001b[0mupdate\u001b[0m\u001b[0;34m(\u001b[0m\u001b[0mkwds_defaults\u001b[0m\u001b[0;34m)\u001b[0m\u001b[0;34m\u001b[0m\u001b[0;34m\u001b[0m\u001b[0m\n\u001b[1;32m    585\u001b[0m \u001b[0;34m\u001b[0m\u001b[0m\n\u001b[0;32m--> 586\u001b[0;31m     \u001b[0;32mreturn\u001b[0m \u001b[0m_read\u001b[0m\u001b[0;34m(\u001b[0m\u001b[0mfilepath_or_buffer\u001b[0m\u001b[0;34m,\u001b[0m \u001b[0mkwds\u001b[0m\u001b[0;34m)\u001b[0m\u001b[0;34m\u001b[0m\u001b[0;34m\u001b[0m\u001b[0m\n\u001b[0m\u001b[1;32m    587\u001b[0m \u001b[0;34m\u001b[0m\u001b[0m\n\u001b[1;32m    588\u001b[0m \u001b[0;34m\u001b[0m\u001b[0m\n",
            "\u001b[0;32m/usr/local/lib/python3.7/dist-packages/pandas/io/parsers/readers.py\u001b[0m in \u001b[0;36m_read\u001b[0;34m(filepath_or_buffer, kwds)\u001b[0m\n\u001b[1;32m    480\u001b[0m \u001b[0;34m\u001b[0m\u001b[0m\n\u001b[1;32m    481\u001b[0m     \u001b[0;31m# Create the parser.\u001b[0m\u001b[0;34m\u001b[0m\u001b[0;34m\u001b[0m\u001b[0;34m\u001b[0m\u001b[0m\n\u001b[0;32m--> 482\u001b[0;31m     \u001b[0mparser\u001b[0m \u001b[0;34m=\u001b[0m \u001b[0mTextFileReader\u001b[0m\u001b[0;34m(\u001b[0m\u001b[0mfilepath_or_buffer\u001b[0m\u001b[0;34m,\u001b[0m \u001b[0;34m**\u001b[0m\u001b[0mkwds\u001b[0m\u001b[0;34m)\u001b[0m\u001b[0;34m\u001b[0m\u001b[0;34m\u001b[0m\u001b[0m\n\u001b[0m\u001b[1;32m    483\u001b[0m \u001b[0;34m\u001b[0m\u001b[0m\n\u001b[1;32m    484\u001b[0m     \u001b[0;32mif\u001b[0m \u001b[0mchunksize\u001b[0m \u001b[0;32mor\u001b[0m \u001b[0miterator\u001b[0m\u001b[0;34m:\u001b[0m\u001b[0;34m\u001b[0m\u001b[0;34m\u001b[0m\u001b[0m\n",
            "\u001b[0;32m/usr/local/lib/python3.7/dist-packages/pandas/io/parsers/readers.py\u001b[0m in \u001b[0;36m__init__\u001b[0;34m(self, f, engine, **kwds)\u001b[0m\n\u001b[1;32m    809\u001b[0m             \u001b[0mself\u001b[0m\u001b[0;34m.\u001b[0m\u001b[0moptions\u001b[0m\u001b[0;34m[\u001b[0m\u001b[0;34m\"has_index_names\"\u001b[0m\u001b[0;34m]\u001b[0m \u001b[0;34m=\u001b[0m \u001b[0mkwds\u001b[0m\u001b[0;34m[\u001b[0m\u001b[0;34m\"has_index_names\"\u001b[0m\u001b[0;34m]\u001b[0m\u001b[0;34m\u001b[0m\u001b[0;34m\u001b[0m\u001b[0m\n\u001b[1;32m    810\u001b[0m \u001b[0;34m\u001b[0m\u001b[0m\n\u001b[0;32m--> 811\u001b[0;31m         \u001b[0mself\u001b[0m\u001b[0;34m.\u001b[0m\u001b[0m_engine\u001b[0m \u001b[0;34m=\u001b[0m \u001b[0mself\u001b[0m\u001b[0;34m.\u001b[0m\u001b[0m_make_engine\u001b[0m\u001b[0;34m(\u001b[0m\u001b[0mself\u001b[0m\u001b[0;34m.\u001b[0m\u001b[0mengine\u001b[0m\u001b[0;34m)\u001b[0m\u001b[0;34m\u001b[0m\u001b[0;34m\u001b[0m\u001b[0m\n\u001b[0m\u001b[1;32m    812\u001b[0m \u001b[0;34m\u001b[0m\u001b[0m\n\u001b[1;32m    813\u001b[0m     \u001b[0;32mdef\u001b[0m \u001b[0mclose\u001b[0m\u001b[0;34m(\u001b[0m\u001b[0mself\u001b[0m\u001b[0;34m)\u001b[0m\u001b[0;34m:\u001b[0m\u001b[0;34m\u001b[0m\u001b[0;34m\u001b[0m\u001b[0m\n",
            "\u001b[0;32m/usr/local/lib/python3.7/dist-packages/pandas/io/parsers/readers.py\u001b[0m in \u001b[0;36m_make_engine\u001b[0;34m(self, engine)\u001b[0m\n\u001b[1;32m   1038\u001b[0m             )\n\u001b[1;32m   1039\u001b[0m         \u001b[0;31m# error: Too many arguments for \"ParserBase\"\u001b[0m\u001b[0;34m\u001b[0m\u001b[0;34m\u001b[0m\u001b[0;34m\u001b[0m\u001b[0m\n\u001b[0;32m-> 1040\u001b[0;31m         \u001b[0;32mreturn\u001b[0m \u001b[0mmapping\u001b[0m\u001b[0;34m[\u001b[0m\u001b[0mengine\u001b[0m\u001b[0;34m]\u001b[0m\u001b[0;34m(\u001b[0m\u001b[0mself\u001b[0m\u001b[0;34m.\u001b[0m\u001b[0mf\u001b[0m\u001b[0;34m,\u001b[0m \u001b[0;34m**\u001b[0m\u001b[0mself\u001b[0m\u001b[0;34m.\u001b[0m\u001b[0moptions\u001b[0m\u001b[0;34m)\u001b[0m  \u001b[0;31m# type: ignore[call-arg]\u001b[0m\u001b[0;34m\u001b[0m\u001b[0;34m\u001b[0m\u001b[0m\n\u001b[0m\u001b[1;32m   1041\u001b[0m \u001b[0;34m\u001b[0m\u001b[0m\n\u001b[1;32m   1042\u001b[0m     \u001b[0;32mdef\u001b[0m \u001b[0m_failover_to_python\u001b[0m\u001b[0;34m(\u001b[0m\u001b[0mself\u001b[0m\u001b[0;34m)\u001b[0m\u001b[0;34m:\u001b[0m\u001b[0;34m\u001b[0m\u001b[0;34m\u001b[0m\u001b[0m\n",
            "\u001b[0;32m/usr/local/lib/python3.7/dist-packages/pandas/io/parsers/c_parser_wrapper.py\u001b[0m in \u001b[0;36m__init__\u001b[0;34m(self, src, **kwds)\u001b[0m\n\u001b[1;32m     49\u001b[0m \u001b[0;34m\u001b[0m\u001b[0m\n\u001b[1;32m     50\u001b[0m         \u001b[0;31m# open handles\u001b[0m\u001b[0;34m\u001b[0m\u001b[0;34m\u001b[0m\u001b[0;34m\u001b[0m\u001b[0m\n\u001b[0;32m---> 51\u001b[0;31m         \u001b[0mself\u001b[0m\u001b[0;34m.\u001b[0m\u001b[0m_open_handles\u001b[0m\u001b[0;34m(\u001b[0m\u001b[0msrc\u001b[0m\u001b[0;34m,\u001b[0m \u001b[0mkwds\u001b[0m\u001b[0;34m)\u001b[0m\u001b[0;34m\u001b[0m\u001b[0;34m\u001b[0m\u001b[0m\n\u001b[0m\u001b[1;32m     52\u001b[0m         \u001b[0;32massert\u001b[0m \u001b[0mself\u001b[0m\u001b[0;34m.\u001b[0m\u001b[0mhandles\u001b[0m \u001b[0;32mis\u001b[0m \u001b[0;32mnot\u001b[0m \u001b[0;32mNone\u001b[0m\u001b[0;34m\u001b[0m\u001b[0;34m\u001b[0m\u001b[0m\n\u001b[1;32m     53\u001b[0m \u001b[0;34m\u001b[0m\u001b[0m\n",
            "\u001b[0;32m/usr/local/lib/python3.7/dist-packages/pandas/io/parsers/base_parser.py\u001b[0m in \u001b[0;36m_open_handles\u001b[0;34m(self, src, kwds)\u001b[0m\n\u001b[1;32m    227\u001b[0m             \u001b[0mmemory_map\u001b[0m\u001b[0;34m=\u001b[0m\u001b[0mkwds\u001b[0m\u001b[0;34m.\u001b[0m\u001b[0mget\u001b[0m\u001b[0;34m(\u001b[0m\u001b[0;34m\"memory_map\"\u001b[0m\u001b[0;34m,\u001b[0m \u001b[0;32mFalse\u001b[0m\u001b[0;34m)\u001b[0m\u001b[0;34m,\u001b[0m\u001b[0;34m\u001b[0m\u001b[0;34m\u001b[0m\u001b[0m\n\u001b[1;32m    228\u001b[0m             \u001b[0mstorage_options\u001b[0m\u001b[0;34m=\u001b[0m\u001b[0mkwds\u001b[0m\u001b[0;34m.\u001b[0m\u001b[0mget\u001b[0m\u001b[0;34m(\u001b[0m\u001b[0;34m\"storage_options\"\u001b[0m\u001b[0;34m,\u001b[0m \u001b[0;32mNone\u001b[0m\u001b[0;34m)\u001b[0m\u001b[0;34m,\u001b[0m\u001b[0;34m\u001b[0m\u001b[0;34m\u001b[0m\u001b[0m\n\u001b[0;32m--> 229\u001b[0;31m             \u001b[0merrors\u001b[0m\u001b[0;34m=\u001b[0m\u001b[0mkwds\u001b[0m\u001b[0;34m.\u001b[0m\u001b[0mget\u001b[0m\u001b[0;34m(\u001b[0m\u001b[0;34m\"encoding_errors\"\u001b[0m\u001b[0;34m,\u001b[0m \u001b[0;34m\"strict\"\u001b[0m\u001b[0;34m)\u001b[0m\u001b[0;34m,\u001b[0m\u001b[0;34m\u001b[0m\u001b[0;34m\u001b[0m\u001b[0m\n\u001b[0m\u001b[1;32m    230\u001b[0m         )\n\u001b[1;32m    231\u001b[0m \u001b[0;34m\u001b[0m\u001b[0m\n",
            "\u001b[0;32m/usr/local/lib/python3.7/dist-packages/pandas/io/common.py\u001b[0m in \u001b[0;36mget_handle\u001b[0;34m(path_or_buf, mode, encoding, compression, memory_map, is_text, errors, storage_options)\u001b[0m\n\u001b[1;32m    705\u001b[0m                 \u001b[0mencoding\u001b[0m\u001b[0;34m=\u001b[0m\u001b[0mioargs\u001b[0m\u001b[0;34m.\u001b[0m\u001b[0mencoding\u001b[0m\u001b[0;34m,\u001b[0m\u001b[0;34m\u001b[0m\u001b[0;34m\u001b[0m\u001b[0m\n\u001b[1;32m    706\u001b[0m                 \u001b[0merrors\u001b[0m\u001b[0;34m=\u001b[0m\u001b[0merrors\u001b[0m\u001b[0;34m,\u001b[0m\u001b[0;34m\u001b[0m\u001b[0;34m\u001b[0m\u001b[0m\n\u001b[0;32m--> 707\u001b[0;31m                 \u001b[0mnewline\u001b[0m\u001b[0;34m=\u001b[0m\u001b[0;34m\"\"\u001b[0m\u001b[0;34m,\u001b[0m\u001b[0;34m\u001b[0m\u001b[0;34m\u001b[0m\u001b[0m\n\u001b[0m\u001b[1;32m    708\u001b[0m             )\n\u001b[1;32m    709\u001b[0m         \u001b[0;32melse\u001b[0m\u001b[0;34m:\u001b[0m\u001b[0;34m\u001b[0m\u001b[0;34m\u001b[0m\u001b[0m\n",
            "\u001b[0;31mFileNotFoundError\u001b[0m: [Errno 2] No such file or directory: 'Pokemon.csv'"
          ]
        }
      ],
      "source": [
        "df = pd.read_csv('Pokemon.csv')"
      ]
    },
    {
      "cell_type": "code",
      "execution_count": null,
      "metadata": {
        "id": "op0he64kmC6C",
        "outputId": "6b40539c-ddb7-4ba9-ce12-13f6d6429720",
        "colab": {
          "base_uri": "https://localhost:8080/",
          "height": 250
        }
      },
      "outputs": [
        {
          "output_type": "execute_result",
          "data": {
            "text/plain": [
              "   number                 name  type1   type2  total  hp  attack  defense  \\\n",
              "0       1            Bulbasaur  Grass  Poison    318  45      49       49   \n",
              "1       2              Ivysaur  Grass  Poison    405  60      62       63   \n",
              "2       3             Venusaur  Grass  Poison    525  80      82       83   \n",
              "3       3        Mega Venusaur  Grass  Poison    625  80     100      123   \n",
              "4       3  Gigantamax Venusaur  Grass  Poison    525  80      82       83   \n",
              "\n",
              "   sp_attack  sp_defense  speed  generation  legendary  \n",
              "0         65          65     45           1      False  \n",
              "1         80          80     60           1      False  \n",
              "2        100         100     80           1      False  \n",
              "3        122         120     80           1      False  \n",
              "4        100         100     80           1      False  "
            ],
            "text/html": [
              "\n",
              "  <div id=\"df-05a87474-172e-4138-a0ff-257a1e1777af\">\n",
              "    <div class=\"colab-df-container\">\n",
              "      <div>\n",
              "<style scoped>\n",
              "    .dataframe tbody tr th:only-of-type {\n",
              "        vertical-align: middle;\n",
              "    }\n",
              "\n",
              "    .dataframe tbody tr th {\n",
              "        vertical-align: top;\n",
              "    }\n",
              "\n",
              "    .dataframe thead th {\n",
              "        text-align: right;\n",
              "    }\n",
              "</style>\n",
              "<table border=\"1\" class=\"dataframe\">\n",
              "  <thead>\n",
              "    <tr style=\"text-align: right;\">\n",
              "      <th></th>\n",
              "      <th>number</th>\n",
              "      <th>name</th>\n",
              "      <th>type1</th>\n",
              "      <th>type2</th>\n",
              "      <th>total</th>\n",
              "      <th>hp</th>\n",
              "      <th>attack</th>\n",
              "      <th>defense</th>\n",
              "      <th>sp_attack</th>\n",
              "      <th>sp_defense</th>\n",
              "      <th>speed</th>\n",
              "      <th>generation</th>\n",
              "      <th>legendary</th>\n",
              "    </tr>\n",
              "  </thead>\n",
              "  <tbody>\n",
              "    <tr>\n",
              "      <th>0</th>\n",
              "      <td>1</td>\n",
              "      <td>Bulbasaur</td>\n",
              "      <td>Grass</td>\n",
              "      <td>Poison</td>\n",
              "      <td>318</td>\n",
              "      <td>45</td>\n",
              "      <td>49</td>\n",
              "      <td>49</td>\n",
              "      <td>65</td>\n",
              "      <td>65</td>\n",
              "      <td>45</td>\n",
              "      <td>1</td>\n",
              "      <td>False</td>\n",
              "    </tr>\n",
              "    <tr>\n",
              "      <th>1</th>\n",
              "      <td>2</td>\n",
              "      <td>Ivysaur</td>\n",
              "      <td>Grass</td>\n",
              "      <td>Poison</td>\n",
              "      <td>405</td>\n",
              "      <td>60</td>\n",
              "      <td>62</td>\n",
              "      <td>63</td>\n",
              "      <td>80</td>\n",
              "      <td>80</td>\n",
              "      <td>60</td>\n",
              "      <td>1</td>\n",
              "      <td>False</td>\n",
              "    </tr>\n",
              "    <tr>\n",
              "      <th>2</th>\n",
              "      <td>3</td>\n",
              "      <td>Venusaur</td>\n",
              "      <td>Grass</td>\n",
              "      <td>Poison</td>\n",
              "      <td>525</td>\n",
              "      <td>80</td>\n",
              "      <td>82</td>\n",
              "      <td>83</td>\n",
              "      <td>100</td>\n",
              "      <td>100</td>\n",
              "      <td>80</td>\n",
              "      <td>1</td>\n",
              "      <td>False</td>\n",
              "    </tr>\n",
              "    <tr>\n",
              "      <th>3</th>\n",
              "      <td>3</td>\n",
              "      <td>Mega Venusaur</td>\n",
              "      <td>Grass</td>\n",
              "      <td>Poison</td>\n",
              "      <td>625</td>\n",
              "      <td>80</td>\n",
              "      <td>100</td>\n",
              "      <td>123</td>\n",
              "      <td>122</td>\n",
              "      <td>120</td>\n",
              "      <td>80</td>\n",
              "      <td>1</td>\n",
              "      <td>False</td>\n",
              "    </tr>\n",
              "    <tr>\n",
              "      <th>4</th>\n",
              "      <td>3</td>\n",
              "      <td>Gigantamax Venusaur</td>\n",
              "      <td>Grass</td>\n",
              "      <td>Poison</td>\n",
              "      <td>525</td>\n",
              "      <td>80</td>\n",
              "      <td>82</td>\n",
              "      <td>83</td>\n",
              "      <td>100</td>\n",
              "      <td>100</td>\n",
              "      <td>80</td>\n",
              "      <td>1</td>\n",
              "      <td>False</td>\n",
              "    </tr>\n",
              "  </tbody>\n",
              "</table>\n",
              "</div>\n",
              "      <button class=\"colab-df-convert\" onclick=\"convertToInteractive('df-05a87474-172e-4138-a0ff-257a1e1777af')\"\n",
              "              title=\"Convert this dataframe to an interactive table.\"\n",
              "              style=\"display:none;\">\n",
              "        \n",
              "  <svg xmlns=\"http://www.w3.org/2000/svg\" height=\"24px\"viewBox=\"0 0 24 24\"\n",
              "       width=\"24px\">\n",
              "    <path d=\"M0 0h24v24H0V0z\" fill=\"none\"/>\n",
              "    <path d=\"M18.56 5.44l.94 2.06.94-2.06 2.06-.94-2.06-.94-.94-2.06-.94 2.06-2.06.94zm-11 1L8.5 8.5l.94-2.06 2.06-.94-2.06-.94L8.5 2.5l-.94 2.06-2.06.94zm10 10l.94 2.06.94-2.06 2.06-.94-2.06-.94-.94-2.06-.94 2.06-2.06.94z\"/><path d=\"M17.41 7.96l-1.37-1.37c-.4-.4-.92-.59-1.43-.59-.52 0-1.04.2-1.43.59L10.3 9.45l-7.72 7.72c-.78.78-.78 2.05 0 2.83L4 21.41c.39.39.9.59 1.41.59.51 0 1.02-.2 1.41-.59l7.78-7.78 2.81-2.81c.8-.78.8-2.07 0-2.86zM5.41 20L4 18.59l7.72-7.72 1.47 1.35L5.41 20z\"/>\n",
              "  </svg>\n",
              "      </button>\n",
              "      \n",
              "  <style>\n",
              "    .colab-df-container {\n",
              "      display:flex;\n",
              "      flex-wrap:wrap;\n",
              "      gap: 12px;\n",
              "    }\n",
              "\n",
              "    .colab-df-convert {\n",
              "      background-color: #E8F0FE;\n",
              "      border: none;\n",
              "      border-radius: 50%;\n",
              "      cursor: pointer;\n",
              "      display: none;\n",
              "      fill: #1967D2;\n",
              "      height: 32px;\n",
              "      padding: 0 0 0 0;\n",
              "      width: 32px;\n",
              "    }\n",
              "\n",
              "    .colab-df-convert:hover {\n",
              "      background-color: #E2EBFA;\n",
              "      box-shadow: 0px 1px 2px rgba(60, 64, 67, 0.3), 0px 1px 3px 1px rgba(60, 64, 67, 0.15);\n",
              "      fill: #174EA6;\n",
              "    }\n",
              "\n",
              "    [theme=dark] .colab-df-convert {\n",
              "      background-color: #3B4455;\n",
              "      fill: #D2E3FC;\n",
              "    }\n",
              "\n",
              "    [theme=dark] .colab-df-convert:hover {\n",
              "      background-color: #434B5C;\n",
              "      box-shadow: 0px 1px 3px 1px rgba(0, 0, 0, 0.15);\n",
              "      filter: drop-shadow(0px 1px 2px rgba(0, 0, 0, 0.3));\n",
              "      fill: #FFFFFF;\n",
              "    }\n",
              "  </style>\n",
              "\n",
              "      <script>\n",
              "        const buttonEl =\n",
              "          document.querySelector('#df-05a87474-172e-4138-a0ff-257a1e1777af button.colab-df-convert');\n",
              "        buttonEl.style.display =\n",
              "          google.colab.kernel.accessAllowed ? 'block' : 'none';\n",
              "\n",
              "        async function convertToInteractive(key) {\n",
              "          const element = document.querySelector('#df-05a87474-172e-4138-a0ff-257a1e1777af');\n",
              "          const dataTable =\n",
              "            await google.colab.kernel.invokeFunction('convertToInteractive',\n",
              "                                                     [key], {});\n",
              "          if (!dataTable) return;\n",
              "\n",
              "          const docLinkHtml = 'Like what you see? Visit the ' +\n",
              "            '<a target=\"_blank\" href=https://colab.research.google.com/notebooks/data_table.ipynb>data table notebook</a>'\n",
              "            + ' to learn more about interactive tables.';\n",
              "          element.innerHTML = '';\n",
              "          dataTable['output_type'] = 'display_data';\n",
              "          await google.colab.output.renderOutput(dataTable, element);\n",
              "          const docLink = document.createElement('div');\n",
              "          docLink.innerHTML = docLinkHtml;\n",
              "          element.appendChild(docLink);\n",
              "        }\n",
              "      </script>\n",
              "    </div>\n",
              "  </div>\n",
              "  "
            ]
          },
          "metadata": {},
          "execution_count": 8
        }
      ],
      "source": [
        "df.head()"
      ]
    },
    {
      "cell_type": "code",
      "execution_count": null,
      "metadata": {
        "id": "XT973oB7mC6D"
      },
      "outputs": [],
      "source": [
        "df.head()\n",
        "X_real = df.loc[:, ['total', 'sp_attack']].values\n",
        "Y_real = df['legendary'].astype('int').values\n"
      ]
    },
    {
      "cell_type": "code",
      "source": [
        "X_real.shape"
      ],
      "metadata": {
        "id": "wW4QVfszyqbj",
        "outputId": "ffe7c25b-a53c-4892-f370-dc05fcfbe4b6",
        "colab": {
          "base_uri": "https://localhost:8080/"
        }
      },
      "execution_count": null,
      "outputs": [
        {
          "output_type": "execute_result",
          "data": {
            "text/plain": [
              "(1072, 2)"
            ]
          },
          "metadata": {},
          "execution_count": 10
        }
      ]
    },
    {
      "cell_type": "code",
      "source": [
        "from imblearn.over_sampling import SMOTE"
      ],
      "metadata": {
        "id": "F4ip_51hyx1a"
      },
      "execution_count": null,
      "outputs": []
    },
    {
      "cell_type": "code",
      "execution_count": null,
      "metadata": {
        "id": "cxgsNL_JmC6D",
        "outputId": "e1fa3332-6eb7-4c3b-c267-f45533e32b6b",
        "colab": {
          "base_uri": "https://localhost:8080/",
          "height": 266
        }
      },
      "outputs": [
        {
          "output_type": "display_data",
          "data": {
            "text/plain": [
              "<Figure size 432x288 with 1 Axes>"
            ],
            "image/png": "[encoded data removed]"
          },
          "metadata": {
            "needs_background": "light"
          }
        }
      ],
      "source": [
        "plot_clusters(\n",
        "    X_real,\n",
        "    Y_real\n",
        ")"
      ]
    },
    {
      "cell_type": "code",
      "source": [
        "oversample = SMOTE()\n",
        "X_real_res, Y_real_res = oversample.fit_resample(X_real, Y_real)"
      ],
      "metadata": {
        "id": "8JcVDiRoyzeK"
      },
      "execution_count": null,
      "outputs": []
    },
    {
      "cell_type": "code",
      "source": [
        "plot_clusters(\n",
        "    X_real_res,\n",
        "    Y_real_res\n",
        ")"
      ],
      "metadata": {
        "id": "gZT5D9Xry86-",
        "outputId": "fa0cdb95-b5fc-4b6f-b25a-459ae143a6c2",
        "colab": {
          "base_uri": "https://localhost:8080/",
          "height": 266
        }
      },
      "execution_count": null,
      "outputs": [
        {
          "output_type": "display_data",
          "data": {
            "text/plain": [
              "<Figure size 432x288 with 1 Axes>"
            ],
            "image/png": "[encoded data removed]"
          },
          "metadata": {
            "needs_background": "light"
          }
        }
      ]
    },
    {
      "cell_type": "code",
      "execution_count": null,
      "metadata": {
        "id": "W1DOQTaymC6E",
        "outputId": "e3650758-cd48-47fa-fab1-20c02b19b313",
        "colab": {
          "base_uri": "https://localhost:8080/"
        }
      },
      "outputs": [
        {
          "output_type": "stream",
          "name": "stdout",
          "text": [
            "Found 954 instances of object 0\n",
            "We have to delabel 896 instances\n",
            "Found 954 instances of object 1\n",
            "We have to delabel 896 instances\n"
          ]
        }
      ],
      "source": [
        "Y_real_delabeled = delabel_data(\n",
        "    Y_real_res,\n",
        "    labeled_percent = 0.06, # DataProperties.labeled_percentage,\n",
        "    delabel_value = DataProperties.unlabeled\n",
        ")"
      ]
    },
    {
      "cell_type": "code",
      "source": [
        "weights_real = pairwise_distances(X_real_res, metric = 'euclidean')\n",
        "weights_real = 1 / (weights_real + 0.001)\n",
        "weights_real.shape"
      ],
      "metadata": {
        "id": "t3NdpqzezMJ-",
        "outputId": "adaae446-4372-401c-9e2f-075a282e70d3",
        "colab": {
          "base_uri": "https://localhost:8080/"
        }
      },
      "execution_count": null,
      "outputs": [
        {
          "output_type": "execute_result",
          "data": {
            "text/plain": [
              "(1908, 1908)"
            ]
          },
          "metadata": {},
          "execution_count": 18
        }
      ]
    },
    {
      "cell_type": "code",
      "source": [
        "solver = GradientDescentSolver(\n",
        "    lr_strategy = 'lr_constant',\n",
        "    learning_rate = 0.0001,\n",
        "    similarity_func = None\n",
        ")\n",
        "\n",
        "\n",
        "Y_real_preds = solver.solve(\n",
        "    X_real_res,\n",
        "    Y_real_delabeled,\n",
        "    Y_true = Y_real_res,\n",
        "    delta_percent_limit=0.05,\n",
        "    iter_limit=30,\n",
        "    delta_loss_limit = 0.0,\n",
        "    stop_loss = 0.0,\n",
        "    weight_matrix=weights_real\n",
        ")"
      ],
      "metadata": {
        "id": "3ODikUpBzVYH",
        "outputId": "a01f4f9e-1d71-4f73-ec06-019e06d63334",
        "colab": {
          "base_uri": "https://localhost:8080/",
          "height": 450
        }
      },
      "execution_count": null,
      "outputs": [
        {
          "output_type": "stream",
          "name": "stdout",
          "text": [
            "Iteration: 0, Loss: 483103.63240255986, delta loss: 483103.63240255986\n",
            "Iteration: 1, Loss: 483103.63240255986, delta loss: 0.0\n"
          ]
        },
        {
          "output_type": "error",
          "ename": "KeyboardInterrupt",
          "evalue": "ignored",
          "traceback": [
            "\u001b[0;31m---------------------------------------------------------------------------\u001b[0m",
            "\u001b[0;31mKeyboardInterrupt\u001b[0m                         Traceback (most recent call last)",
            "\u001b[0;32m<ipython-input-19-e5edf4a486fd>\u001b[0m in \u001b[0;36m<module>\u001b[0;34m()\u001b[0m\n\u001b[1;32m     14\u001b[0m     \u001b[0mdelta_loss_limit\u001b[0m \u001b[0;34m=\u001b[0m \u001b[0;36m0.0\u001b[0m\u001b[0;34m,\u001b[0m\u001b[0;34m\u001b[0m\u001b[0;34m\u001b[0m\u001b[0m\n\u001b[1;32m     15\u001b[0m     \u001b[0mstop_loss\u001b[0m \u001b[0;34m=\u001b[0m \u001b[0;36m0.0\u001b[0m\u001b[0;34m,\u001b[0m\u001b[0;34m\u001b[0m\u001b[0;34m\u001b[0m\u001b[0m\n\u001b[0;32m---> 16\u001b[0;31m     \u001b[0mweight_matrix\u001b[0m\u001b[0;34m=\u001b[0m\u001b[0mweights_real\u001b[0m\u001b[0;34m\u001b[0m\u001b[0;34m\u001b[0m\u001b[0m\n\u001b[0m\u001b[1;32m     17\u001b[0m )\n",
            "\u001b[0;32m/content/GradientDescentSolver.py\u001b[0m in \u001b[0;36msolve\u001b[0;34m(self, X, Y, Y_true, iter_limit, delta_percent_limit, delta_loss_limit, stop_loss, weight_matrix)\u001b[0m\n\u001b[1;32m     57\u001b[0m \u001b[0;34m\u001b[0m\u001b[0m\n\u001b[1;32m     58\u001b[0m             \u001b[0;32mif\u001b[0m \u001b[0;32mnot\u001b[0m \u001b[0;34m(\u001b[0m\u001b[0mabs\u001b[0m\u001b[0;34m(\u001b[0m\u001b[0mdelta_loss\u001b[0m\u001b[0;34m)\u001b[0m \u001b[0;34m<\u001b[0m \u001b[0mdelta_loss_limit\u001b[0m\u001b[0;34m)\u001b[0m\u001b[0;34m:\u001b[0m\u001b[0;34m\u001b[0m\u001b[0;34m\u001b[0m\u001b[0m\n\u001b[0;32m---> 59\u001b[0;31m                 \u001b[0mupdates\u001b[0m \u001b[0;34m=\u001b[0m \u001b[0;34m-\u001b[0m\u001b[0mlearning_rate\u001b[0m \u001b[0;34m*\u001b[0m \u001b[0mself\u001b[0m\u001b[0;34m.\u001b[0m\u001b[0mcompute_grad\u001b[0m\u001b[0;34m(\u001b[0m\u001b[0mX\u001b[0m\u001b[0;34m,\u001b[0m \u001b[0mY_res\u001b[0m\u001b[0;34m,\u001b[0m \u001b[0mlabeled_idxs\u001b[0m\u001b[0;34m,\u001b[0m \u001b[0munlabeled_idxs\u001b[0m\u001b[0;34m)\u001b[0m\u001b[0;34m\u001b[0m\u001b[0;34m\u001b[0m\u001b[0m\n\u001b[0m\u001b[1;32m     60\u001b[0m                 \u001b[0;32mfor\u001b[0m \u001b[0mi\u001b[0m \u001b[0;32min\u001b[0m \u001b[0mrange\u001b[0m\u001b[0;34m(\u001b[0m\u001b[0mlen\u001b[0m\u001b[0;34m(\u001b[0m\u001b[0mupdates\u001b[0m\u001b[0;34m)\u001b[0m\u001b[0;34m)\u001b[0m\u001b[0;34m:\u001b[0m \u001b[0mY_res\u001b[0m\u001b[0;34m[\u001b[0m\u001b[0munlabeled_idxs\u001b[0m\u001b[0;34m[\u001b[0m\u001b[0mi\u001b[0m\u001b[0;34m]\u001b[0m\u001b[0;34m]\u001b[0m \u001b[0;34m+=\u001b[0m \u001b[0mupdates\u001b[0m\u001b[0;34m[\u001b[0m\u001b[0mi\u001b[0m\u001b[0;34m]\u001b[0m\u001b[0;34m\u001b[0m\u001b[0;34m\u001b[0m\u001b[0m\n\u001b[1;32m     61\u001b[0m \u001b[0;34m\u001b[0m\u001b[0m\n",
            "\u001b[0;32m/content/GradientSolver.py\u001b[0m in \u001b[0;36mcompute_grad\u001b[0;34m(self, X, Y, labeled_idxs, unlabeled_idxs)\u001b[0m\n\u001b[1;32m     60\u001b[0m \u001b[0;34m\u001b[0m\u001b[0m\n\u001b[1;32m     61\u001b[0m     \u001b[0;32mdef\u001b[0m \u001b[0mcompute_grad\u001b[0m\u001b[0;34m(\u001b[0m\u001b[0mself\u001b[0m\u001b[0;34m,\u001b[0m \u001b[0mX\u001b[0m\u001b[0;34m,\u001b[0m \u001b[0mY\u001b[0m\u001b[0;34m,\u001b[0m \u001b[0mlabeled_idxs\u001b[0m\u001b[0;34m,\u001b[0m \u001b[0munlabeled_idxs\u001b[0m\u001b[0;34m)\u001b[0m\u001b[0;34m:\u001b[0m\u001b[0;34m\u001b[0m\u001b[0;34m\u001b[0m\u001b[0m\n\u001b[0;32m---> 62\u001b[0;31m         \u001b[0;32mreturn\u001b[0m \u001b[0marray\u001b[0m\u001b[0;34m(\u001b[0m\u001b[0;34m[\u001b[0m\u001b[0mself\u001b[0m\u001b[0;34m.\u001b[0m\u001b[0mcompute_grad_component\u001b[0m\u001b[0;34m(\u001b[0m\u001b[0mX\u001b[0m\u001b[0;34m,\u001b[0m \u001b[0mY\u001b[0m\u001b[0;34m,\u001b[0m \u001b[0mlabeled_idxs\u001b[0m\u001b[0;34m,\u001b[0m \u001b[0munlabeled_idxs\u001b[0m\u001b[0;34m,\u001b[0m \u001b[0midx\u001b[0m\u001b[0;34m=\u001b[0m\u001b[0munlabeled_idx\u001b[0m\u001b[0;34m)\u001b[0m \u001b[0;32mfor\u001b[0m \u001b[0munlabeled_idx\u001b[0m \u001b[0;32min\u001b[0m \u001b[0munlabeled_idxs\u001b[0m\u001b[0;34m]\u001b[0m\u001b[0;34m)\u001b[0m\u001b[0;34m\u001b[0m\u001b[0;34m\u001b[0m\u001b[0m\n\u001b[0m\u001b[1;32m     63\u001b[0m \u001b[0;34m\u001b[0m\u001b[0m\n\u001b[1;32m     64\u001b[0m         \u001b[0;31m# grad = []\u001b[0m\u001b[0;34m\u001b[0m\u001b[0;34m\u001b[0m\u001b[0;34m\u001b[0m\u001b[0m\n",
            "\u001b[0;32m/content/GradientSolver.py\u001b[0m in \u001b[0;36m<listcomp>\u001b[0;34m(.0)\u001b[0m\n\u001b[1;32m     60\u001b[0m \u001b[0;34m\u001b[0m\u001b[0m\n\u001b[1;32m     61\u001b[0m     \u001b[0;32mdef\u001b[0m \u001b[0mcompute_grad\u001b[0m\u001b[0;34m(\u001b[0m\u001b[0mself\u001b[0m\u001b[0;34m,\u001b[0m \u001b[0mX\u001b[0m\u001b[0;34m,\u001b[0m \u001b[0mY\u001b[0m\u001b[0;34m,\u001b[0m \u001b[0mlabeled_idxs\u001b[0m\u001b[0;34m,\u001b[0m \u001b[0munlabeled_idxs\u001b[0m\u001b[0;34m)\u001b[0m\u001b[0;34m:\u001b[0m\u001b[0;34m\u001b[0m\u001b[0;34m\u001b[0m\u001b[0m\n\u001b[0;32m---> 62\u001b[0;31m         \u001b[0;32mreturn\u001b[0m \u001b[0marray\u001b[0m\u001b[0;34m(\u001b[0m\u001b[0;34m[\u001b[0m\u001b[0mself\u001b[0m\u001b[0;34m.\u001b[0m\u001b[0mcompute_grad_component\u001b[0m\u001b[0;34m(\u001b[0m\u001b[0mX\u001b[0m\u001b[0;34m,\u001b[0m \u001b[0mY\u001b[0m\u001b[0;34m,\u001b[0m \u001b[0mlabeled_idxs\u001b[0m\u001b[0;34m,\u001b[0m \u001b[0munlabeled_idxs\u001b[0m\u001b[0;34m,\u001b[0m \u001b[0midx\u001b[0m\u001b[0;34m=\u001b[0m\u001b[0munlabeled_idx\u001b[0m\u001b[0;34m)\u001b[0m \u001b[0;32mfor\u001b[0m \u001b[0munlabeled_idx\u001b[0m \u001b[0;32min\u001b[0m \u001b[0munlabeled_idxs\u001b[0m\u001b[0;34m]\u001b[0m\u001b[0;34m)\u001b[0m\u001b[0;34m\u001b[0m\u001b[0;34m\u001b[0m\u001b[0m\n\u001b[0m\u001b[1;32m     63\u001b[0m \u001b[0;34m\u001b[0m\u001b[0m\n\u001b[1;32m     64\u001b[0m         \u001b[0;31m# grad = []\u001b[0m\u001b[0;34m\u001b[0m\u001b[0;34m\u001b[0m\u001b[0;34m\u001b[0m\u001b[0m\n",
            "\u001b[0;32m/content/GradientSolver.py\u001b[0m in \u001b[0;36mcompute_grad_component\u001b[0;34m(self, X, Y, labeled_idxs, unlabeled_idxs, idx)\u001b[0m\n\u001b[1;32m     49\u001b[0m \u001b[0;34m\u001b[0m\u001b[0m\n\u001b[1;32m     50\u001b[0m     \u001b[0;32mdef\u001b[0m \u001b[0mcompute_grad_component\u001b[0m\u001b[0;34m(\u001b[0m\u001b[0mself\u001b[0m\u001b[0;34m,\u001b[0m \u001b[0mX\u001b[0m\u001b[0;34m,\u001b[0m \u001b[0mY\u001b[0m\u001b[0;34m,\u001b[0m \u001b[0mlabeled_idxs\u001b[0m\u001b[0;34m,\u001b[0m \u001b[0munlabeled_idxs\u001b[0m\u001b[0;34m,\u001b[0m \u001b[0midx\u001b[0m\u001b[0;34m)\u001b[0m\u001b[0;34m:\u001b[0m\u001b[0;34m\u001b[0m\u001b[0;34m\u001b[0m\u001b[0m\n\u001b[0;32m---> 51\u001b[0;31m         \u001b[0;32mreturn\u001b[0m \u001b[0msum\u001b[0m\u001b[0;34m(\u001b[0m\u001b[0;34m[\u001b[0m\u001b[0;36m2\u001b[0m \u001b[0;34m*\u001b[0m \u001b[0mself\u001b[0m\u001b[0;34m.\u001b[0m\u001b[0mcalc_weight\u001b[0m\u001b[0;34m(\u001b[0m\u001b[0midx\u001b[0m\u001b[0;34m,\u001b[0m \u001b[0mlabeled_idx\u001b[0m\u001b[0;34m)\u001b[0m \u001b[0;34m*\u001b[0m \u001b[0;34m(\u001b[0m\u001b[0mY\u001b[0m\u001b[0;34m[\u001b[0m\u001b[0midx\u001b[0m\u001b[0;34m]\u001b[0m \u001b[0;34m-\u001b[0m \u001b[0mY\u001b[0m\u001b[0;34m[\u001b[0m\u001b[0mlabeled_idx\u001b[0m\u001b[0;34m]\u001b[0m\u001b[0;34m)\u001b[0m \u001b[0;32mfor\u001b[0m \u001b[0mlabeled_idx\u001b[0m \u001b[0;32min\u001b[0m \u001b[0mlabeled_idxs\u001b[0m\u001b[0;34m]\u001b[0m\u001b[0;34m)\u001b[0m \u001b[0;34m+\u001b[0m \u001b[0msum\u001b[0m\u001b[0;34m(\u001b[0m\u001b[0;34m[\u001b[0m\u001b[0;36m2\u001b[0m \u001b[0;34m*\u001b[0m \u001b[0mself\u001b[0m\u001b[0;34m.\u001b[0m\u001b[0mcalc_weight\u001b[0m\u001b[0;34m(\u001b[0m\u001b[0midx\u001b[0m\u001b[0;34m,\u001b[0m \u001b[0manother_unlab_idx\u001b[0m\u001b[0;34m)\u001b[0m \u001b[0;34m*\u001b[0m \u001b[0;34m(\u001b[0m\u001b[0mY\u001b[0m\u001b[0;34m[\u001b[0m\u001b[0midx\u001b[0m\u001b[0;34m]\u001b[0m \u001b[0;34m-\u001b[0m \u001b[0mY\u001b[0m\u001b[0;34m[\u001b[0m\u001b[0manother_unlab_idx\u001b[0m\u001b[0;34m]\u001b[0m\u001b[0;34m)\u001b[0m \u001b[0;32mfor\u001b[0m \u001b[0manother_unlab_idx\u001b[0m \u001b[0;32min\u001b[0m \u001b[0munlabeled_idxs\u001b[0m\u001b[0;34m]\u001b[0m\u001b[0;34m)\u001b[0m\u001b[0;34m\u001b[0m\u001b[0;34m\u001b[0m\u001b[0m\n\u001b[0m\u001b[1;32m     52\u001b[0m         \u001b[0;31m# grad_component = 0.0\u001b[0m\u001b[0;34m\u001b[0m\u001b[0;34m\u001b[0m\u001b[0;34m\u001b[0m\u001b[0m\n\u001b[1;32m     53\u001b[0m         \u001b[0;31m# comp_1 = np.sum([2 * self.calc_weight(X[idx], X[labeled_idx]) * (Y[idx] - Y[labeled_idx]) for labeled_idx in labeled_idxs])\u001b[0m\u001b[0;34m\u001b[0m\u001b[0;34m\u001b[0m\u001b[0;34m\u001b[0m\u001b[0m\n",
            "\u001b[0;32m/content/GradientSolver.py\u001b[0m in \u001b[0;36m<listcomp>\u001b[0;34m(.0)\u001b[0m\n\u001b[1;32m     49\u001b[0m \u001b[0;34m\u001b[0m\u001b[0m\n\u001b[1;32m     50\u001b[0m     \u001b[0;32mdef\u001b[0m \u001b[0mcompute_grad_component\u001b[0m\u001b[0;34m(\u001b[0m\u001b[0mself\u001b[0m\u001b[0;34m,\u001b[0m \u001b[0mX\u001b[0m\u001b[0;34m,\u001b[0m \u001b[0mY\u001b[0m\u001b[0;34m,\u001b[0m \u001b[0mlabeled_idxs\u001b[0m\u001b[0;34m,\u001b[0m \u001b[0munlabeled_idxs\u001b[0m\u001b[0;34m,\u001b[0m \u001b[0midx\u001b[0m\u001b[0;34m)\u001b[0m\u001b[0;34m:\u001b[0m\u001b[0;34m\u001b[0m\u001b[0;34m\u001b[0m\u001b[0m\n\u001b[0;32m---> 51\u001b[0;31m         \u001b[0;32mreturn\u001b[0m \u001b[0msum\u001b[0m\u001b[0;34m(\u001b[0m\u001b[0;34m[\u001b[0m\u001b[0;36m2\u001b[0m \u001b[0;34m*\u001b[0m \u001b[0mself\u001b[0m\u001b[0;34m.\u001b[0m\u001b[0mcalc_weight\u001b[0m\u001b[0;34m(\u001b[0m\u001b[0midx\u001b[0m\u001b[0;34m,\u001b[0m \u001b[0mlabeled_idx\u001b[0m\u001b[0;34m)\u001b[0m \u001b[0;34m*\u001b[0m \u001b[0;34m(\u001b[0m\u001b[0mY\u001b[0m\u001b[0;34m[\u001b[0m\u001b[0midx\u001b[0m\u001b[0;34m]\u001b[0m \u001b[0;34m-\u001b[0m \u001b[0mY\u001b[0m\u001b[0;34m[\u001b[0m\u001b[0mlabeled_idx\u001b[0m\u001b[0;34m]\u001b[0m\u001b[0;34m)\u001b[0m \u001b[0;32mfor\u001b[0m \u001b[0mlabeled_idx\u001b[0m \u001b[0;32min\u001b[0m \u001b[0mlabeled_idxs\u001b[0m\u001b[0;34m]\u001b[0m\u001b[0;34m)\u001b[0m \u001b[0;34m+\u001b[0m \u001b[0msum\u001b[0m\u001b[0;34m(\u001b[0m\u001b[0;34m[\u001b[0m\u001b[0;36m2\u001b[0m \u001b[0;34m*\u001b[0m \u001b[0mself\u001b[0m\u001b[0;34m.\u001b[0m\u001b[0mcalc_weight\u001b[0m\u001b[0;34m(\u001b[0m\u001b[0midx\u001b[0m\u001b[0;34m,\u001b[0m \u001b[0manother_unlab_idx\u001b[0m\u001b[0;34m)\u001b[0m \u001b[0;34m*\u001b[0m \u001b[0;34m(\u001b[0m\u001b[0mY\u001b[0m\u001b[0;34m[\u001b[0m\u001b[0midx\u001b[0m\u001b[0;34m]\u001b[0m \u001b[0;34m-\u001b[0m \u001b[0mY\u001b[0m\u001b[0;34m[\u001b[0m\u001b[0manother_unlab_idx\u001b[0m\u001b[0;34m]\u001b[0m\u001b[0;34m)\u001b[0m \u001b[0;32mfor\u001b[0m \u001b[0manother_unlab_idx\u001b[0m \u001b[0;32min\u001b[0m \u001b[0munlabeled_idxs\u001b[0m\u001b[0;34m]\u001b[0m\u001b[0;34m)\u001b[0m\u001b[0;34m\u001b[0m\u001b[0;34m\u001b[0m\u001b[0m\n\u001b[0m\u001b[1;32m     52\u001b[0m         \u001b[0;31m# grad_component = 0.0\u001b[0m\u001b[0;34m\u001b[0m\u001b[0;34m\u001b[0m\u001b[0;34m\u001b[0m\u001b[0m\n\u001b[1;32m     53\u001b[0m         \u001b[0;31m# comp_1 = np.sum([2 * self.calc_weight(X[idx], X[labeled_idx]) * (Y[idx] - Y[labeled_idx]) for labeled_idx in labeled_idxs])\u001b[0m\u001b[0;34m\u001b[0m\u001b[0;34m\u001b[0m\u001b[0;34m\u001b[0m\u001b[0m\n",
            "\u001b[0;31mKeyboardInterrupt\u001b[0m: "
          ]
        }
      ]
    },
    {
      "cell_type": "markdown",
      "source": [
        "## Wine"
      ],
      "metadata": {
        "id": "Dzo19gwnzRdr"
      }
    },
    {
      "cell_type": "code",
      "execution_count": 7,
      "metadata": {
        "id": "G_9uTw_Fji8s"
      },
      "outputs": [],
      "source": [
        "wine=datasets.load_wine()\n",
        "\n",
        "#Conver to pandas dataframe\n",
        "data=pd.DataFrame(data=np.c_[wine['data'],wine['target']],columns=wine['feature_names']+['target'])\n",
        "\n",
        "data = data.loc[\n",
        "    (data['target'] == 1) | (data['target'] == 0),\n",
        "    ['od280/od315_of_diluted_wines', 'alcohol', 'target']\n",
        "]"
      ]
    },
    {
      "cell_type": "code",
      "execution_count": 53,
      "metadata": {
        "colab": {
          "base_uri": "https://localhost:8080/",
          "height": 312
        },
        "id": "D-DhernSji8s",
        "outputId": "40d5e5f0-db8c-4f55-9aa7-a2b63cca40b5"
      },
      "outputs": [
        {
          "output_type": "display_data",
          "data": {
            "text/plain": [
              "<Figure size 432x288 with 1 Axes>"
            ],
            "image/png": "[encoded data removed]"
          },
          "metadata": {
            "needs_background": "light"
          }
        }
      ],
      "source": [
        "X_real = data.loc[\n",
        "    :,\n",
        "    ['od280/od315_of_diluted_wines', 'alcohol']\n",
        "].values\n",
        "Y_real = data['target'].values\n",
        "\n",
        "\n",
        "def plot_real_clusters(X, Y, legend, title):\n",
        "    fig, ax = plt.subplots()\n",
        "    unique_clusters = np.unique(Y)\n",
        "    for c in unique_clusters:\n",
        "        mask = Y == c\n",
        "        subset = X[mask]\n",
        "        ax.scatter(\n",
        "            subset[:, 0],\n",
        "            subset[:, 1]\n",
        "        )\n",
        "    plt.grid()\n",
        "\n",
        "    fontsize = 18\n",
        "    labelsize = 15\n",
        "    plt.xlabel('od280/0d315 of diluted wines', fontsize = fontsize)\n",
        "    plt.ylabel('Alcohol', fontsize = fontsize)\n",
        "    plt.tick_params(axis = 'both', labelsize = labelsize)\n",
        "    plt.title(title, fontsize = fontsize)\n",
        "    plt.legend(legend)\n",
        "\n",
        "\n",
        "plot_real_clusters(\n",
        "    X_real, \n",
        "    Y_real,\n",
        "    legend = ['Wine type 1', 'Wine type 2'],\n",
        "    title = 'Wine dataset'\n",
        ")\n",
        "# plot_clusters(\n",
        "#     X_real,\n",
        "#     Y_real\n",
        "# )"
      ]
    },
    {
      "cell_type": "code",
      "execution_count": 54,
      "metadata": {
        "id": "keGBHwk5yMOB",
        "outputId": "f7e4881d-d5c8-4ee7-ddf1-08e8142c766d",
        "colab": {
          "base_uri": "https://localhost:8080/"
        }
      },
      "outputs": [
        {
          "output_type": "execute_result",
          "data": {
            "text/plain": [
              "(130, 130)"
            ]
          },
          "metadata": {},
          "execution_count": 54
        }
      ],
      "source": [
        "weights_real = pairwise_distances(X_real, metric = 'euclidean')\n",
        "weights_real = 1 / (weights_real + 0.001)\n",
        "weights_real.shape"
      ]
    },
    {
      "cell_type": "code",
      "execution_count": 55,
      "metadata": {
        "id": "xa-EI-5QyMOB",
        "outputId": "297b0d71-fb63-4c07-946f-ff7cb637fe2f",
        "colab": {
          "base_uri": "https://localhost:8080/"
        }
      },
      "outputs": [
        {
          "output_type": "stream",
          "name": "stdout",
          "text": [
            "Found 59 instances of object 0.0\n",
            "We have to delabel 56 instances\n",
            "Found 71 instances of object 1.0\n",
            "We have to delabel 67 instances\n"
          ]
        }
      ],
      "source": [
        "Y_real_delabeled = delabel_data(\n",
        "    Y_real,\n",
        "    labeled_percent = 0.05, # DataProperties.labeled_percentage,\n",
        "    delabel_value = DataProperties.unlabeled\n",
        ")"
      ]
    },
    {
      "cell_type": "code",
      "execution_count": 56,
      "metadata": {
        "id": "8QMTMOReyMOB",
        "outputId": "db5b55f6-2a5c-4c81-93bf-909c358992a0",
        "colab": {
          "base_uri": "https://localhost:8080/",
          "height": 312
        }
      },
      "outputs": [
        {
          "output_type": "display_data",
          "data": {
            "text/plain": [
              "<Figure size 432x288 with 1 Axes>"
            ],
            "image/png": "[encoded data removed]"
          },
          "metadata": {
            "needs_background": "light"
          }
        }
      ],
      "source": [
        "plot_real_clusters(\n",
        "    X_real,\n",
        "    Y_real_delabeled,\n",
        "    legend = ['Delabeled', 'Wine type 1', 'Wine type 2'],\n",
        "    title = 'Delabelled wine dataset'\n",
        ")\n",
        "\n",
        "# plot_clusters(\n",
        "#     X_real,\n",
        "#     Y_real_delabeled\n",
        "# )"
      ]
    },
    {
      "cell_type": "code",
      "execution_count": 81,
      "metadata": {
        "colab": {
          "base_uri": "https://localhost:8080/"
        },
        "id": "PLp4UwVRji8t",
        "outputId": "5588ebfc-5d86-4882-b9f5-5dee11521d11"
      },
      "outputs": [
        {
          "output_type": "stream",
          "name": "stdout",
          "text": [
            "Iteration: 0, Loss: 290.5595874890147, delta loss: 290.5595874890147\n",
            "Iteration: 1, Loss: 289.8058889383025, delta loss: -0.7536985507122154\n",
            "Iteration: 2, Loss: 289.09007897327507, delta loss: -0.7158099650274039\n",
            "Iteration: 3, Loss: 288.40992101854886, delta loss: -0.6801579547262122\n",
            "Iteration: 4, Loss: 287.7633218472139, delta loss: -0.6465991713349695\n",
            "Iteration: 5, Loss: 287.1483219137092, delta loss: -0.6149999335046914\n",
            "Iteration: 6, Loss: 286.563086359317, delta loss: -0.5852355543921703\n",
            "Iteration: 7, Loss: 286.00589664255983, delta loss: -0.5571897167571933\n",
            "Iteration: 8, Loss: 285.4751427502133, delta loss: -0.5307538923465245\n",
            "Iteration: 9, Loss: 284.96931594782285, delta loss: -0.5058268023904589\n",
            "Iteration: 10, Loss: 284.487002031568, delta loss: -0.48231391625483866\n",
            "Iteration: 11, Loss: 284.0268750460474, delta loss: -0.4601269855206169\n",
            "Iteration: 12, Loss: 283.5876914351, delta loss: -0.43918361094739566\n",
            "Iteration: 13, Loss: 283.16828459513073, delta loss: -0.41940683996926964\n",
            "Iteration: 14, Loss: 282.7675598025916, delta loss: -0.4007247925391084\n",
            "Iteration: 15, Loss: 282.3844894892973, delta loss: -0.3830703132942972\n",
            "Iteration: 16, Loss: 282.0181088411349, delta loss: -0.3663806481624192\n",
            "Iteration: 17, Loss: 281.6675116974679, delta loss: -0.35059714366701655\n",
            "Iteration: 18, Loss: 281.331846730159, delta loss: -0.33566496730890094\n",
            "Iteration: 19, Loss: 281.01031388263243, delta loss: -0.3215328475265551\n",
            "Iteration: 20, Loss: 280.70216105079453, delta loss: -0.30815283183790143\n",
            "Iteration: 21, Loss: 280.4066809889208, delta loss: -0.2954800618737181\n",
            "Iteration: 22, Loss: 280.12320842482296, delta loss: -0.28347256409784904\n",
            "Iteration: 23, Loss: 279.85111736971794, delta loss: -0.2720910551050224\n",
            "Iteration: 24, Loss: 279.58981860925854, delta loss: -0.2612987604593968\n",
            "Iteration: 25, Loss: 279.3387573631452, delta loss: -0.2510612461133519\n",
            "Iteration: 26, Loss: 279.0974111016256, delta loss: -0.24134626151959537\n",
            "Iteration: 27, Loss: 278.86528750802063, delta loss: -0.23212359360496748\n",
            "0.009593910775983205\n",
            "Exit condition\n",
            "\n",
            "\n",
            "CPU time:1.2137823170000956\n"
          ]
        }
      ],
      "source": [
        "solver = GradientDescentSolver(\n",
        "    lr_strategy = 'lr_constant',\n",
        "    learning_rate = 0.0001,\n",
        "    similarity_func = None\n",
        ")\n",
        "\n",
        "start = default_timer()\n",
        "Y_real_preds = solver.solve(\n",
        "    X_real,\n",
        "    Y_real_delabeled,\n",
        "    Y_true = Y_real,\n",
        "    delta_percent_limit=0.01,\n",
        "    iter_limit=30,\n",
        "    delta_loss_limit = 0.0,\n",
        "    stop_loss = 0.0,\n",
        "    weight_matrix=weights_real\n",
        ")\n",
        "end = default_timer()\n",
        "print(f'CPU time:{end - start}')"
      ]
    },
    {
      "cell_type": "code",
      "source": [
        "def plot_mistakes(X, Y, Y_preds, title = None):\n",
        "    mask = Y == Y_preds\n",
        "\n",
        "    subset_true = X[mask]\n",
        "    subset_false = X[np.where(mask == False)]\n",
        "    fig, ax = plt.subplots()\n",
        "\n",
        "    ax.scatter(subset_true[:, 0], subset_true[:, 1])\n",
        "    ax.scatter(subset_false[:, 0], subset_false[:, 1])\n",
        "    \n",
        "    legend_size = 14\n",
        "    plt.legend(['Correct labels', 'Mistaken labels'], prop = {'size': legend_size})\n",
        "    plt.grid()\n",
        "    fontsize = 18\n",
        "    labelsize = 15\n",
        "\n",
        "    plt.xlabel('od280/0d315 of diluted wines', fontsize = fontsize)\n",
        "    plt.ylabel('Alcohol', fontsize = fontsize)\n",
        "    plt.tick_params(axis = 'both', labelsize = labelsize)\n",
        "    plt.title(title, fontsize = fontsize)\n",
        "\n",
        "\n",
        "\n",
        "plot_mistakes(\n",
        "    X_real,\n",
        "    Y_real,\n",
        "    Y_real_preds,\n",
        "    title = 'Mistaken labels for Gradient Descend'\n",
        ")"
      ],
      "metadata": {
        "id": "RxynTVNLG6ad",
        "outputId": "3ce0c12b-3603-4f83-a9f3-c969781d9c22",
        "colab": {
          "base_uri": "https://localhost:8080/",
          "height": 312
        }
      },
      "execution_count": 82,
      "outputs": [
        {
          "output_type": "display_data",
          "data": {
            "text/plain": [
              "<Figure size 432x288 with 1 Axes>"
            ],
            "image/png": "[encoded data removed]"
          },
          "metadata": {
            "needs_background": "light"
          }
        }
      ]
    },
    {
      "cell_type": "code",
      "execution_count": 83,
      "metadata": {
        "id": "-AG-IlbuyMOC",
        "outputId": "067860b9-c239-444b-e760-631eec669cf8",
        "colab": {
          "base_uri": "https://localhost:8080/",
          "height": 312
        }
      },
      "outputs": [
        {
          "output_type": "display_data",
          "data": {
            "text/plain": [
              "<Figure size 432x288 with 1 Axes>"
            ],
            "image/png": "[encoded data removed]"
          },
          "metadata": {
            "needs_background": "light"
          }
        }
      ],
      "source": [
        "plot_real_clusters(\n",
        "    X_real, \n",
        "    Y_real_preds,\n",
        "    legend = ['Wine type 1', 'Wine type 2'],\n",
        "    title = 'Predicted labels'\n",
        ")\n",
        "\n",
        "# plot_clusters(\n",
        "#     X_real,\n",
        "#     Y_real_preds\n",
        "# )"
      ]
    },
    {
      "cell_type": "code",
      "execution_count": 84,
      "metadata": {
        "id": "ejB7NPmCyMOC",
        "outputId": "bcf2c102-3d8e-4dd4-ab51-d431103f9139",
        "colab": {
          "base_uri": "https://localhost:8080/"
        }
      },
      "outputs": [
        {
          "output_type": "execute_result",
          "data": {
            "text/plain": [
              "0.9"
            ]
          },
          "metadata": {},
          "execution_count": 84
        }
      ],
      "source": [
        "accuracy_score(Y_real, Y_real_preds)"
      ]
    },
    {
      "cell_type": "code",
      "source": [
        "random_solver = BCGDSolver(\n",
        "    lr_strategy = 'lr_constant',\n",
        "    learning_rate = 0.0001,\n",
        "    similarity_func = None,\n",
        "\n",
        "    bcgd_strategy = 'random permutation',\n",
        ")\n",
        "\n",
        "start = default_timer()\n",
        "Y_real_preds = random_solver.solve(\n",
        "    X_real,\n",
        "    Y_real_delabeled,\n",
        "    Y_true = Y_real,\n",
        "    delta_percent_limit=0.01,\n",
        "    iter_limit=30,\n",
        "    delta_loss_limit = 0.0,\n",
        "    stop_loss = 0.0,\n",
        "    weight_matrix=weights_real\n",
        ")\n",
        "end = default_timer()\n",
        "print(f'CPU time: {end - start}')"
      ],
      "metadata": {
        "id": "NETl_s7KDfpv",
        "outputId": "3e2fe6f3-db40-4dfa-a0f1-33aa656822a0",
        "colab": {
          "base_uri": "https://localhost:8080/"
        }
      },
      "execution_count": 85,
      "outputs": [
        {
          "output_type": "stream",
          "name": "stdout",
          "text": [
            "Iteration: 0, Loss: 290.5595874890147, Delta: 290.5595874890147\n",
            "Iteration: 1, Loss: 289.80178165871865, Delta: 0.7578058302960358\n",
            "Iteration: 2, Loss: 289.0821160672674, Delta: 0.7196655914512462\n",
            "Iteration: 3, Loss: 288.3983434976894, Delta: 0.683772569578025\n",
            "Iteration: 4, Loss: 287.7483593096795, Delta: 0.6499841880099098\n",
            "Iteration: 5, Loss: 287.13019755856266, Delta: 0.6181617511168156\n",
            "Iteration: 6, Loss: 286.54200184771, Delta: 0.5881957108526308\n",
            "Iteration: 7, Loss: 285.9820469882962, Delta: 0.5599548594138355\n",
            "Iteration: 8, Loss: 285.44871737912234, Delta: 0.5333296091738475\n",
            "Iteration: 9, Loss: 284.9404897888719, Delta: 0.5082275902504421\n",
            "Iteration: 10, Loss: 284.4559388258285, Delta: 0.4845509630433753\n",
            "Iteration: 11, Loss: 283.9937353765898, Delta: 0.46220344923870016\n",
            "Iteration: 12, Loss: 283.5526177389728, Delta: 0.44111763761702605\n",
            "Iteration: 13, Loss: 283.13141044203815, Delta: 0.42120729693465364\n",
            "Iteration: 14, Loss: 282.7290127606989, Delta: 0.40239768133926646\n",
            "Iteration: 15, Loss: 282.34438775189005, Delta: 0.38462500880882544\n",
            "Iteration: 16, Loss: 281.9765557706677, Delta: 0.36783198122236627\n",
            "Iteration: 17, Loss: 281.624611172432, Delta: 0.3519445982356615\n",
            "Iteration: 18, Loss: 281.2876911725246, Delta: 0.3369199999074226\n",
            "Iteration: 19, Loss: 280.9649900028832, Delta: 0.32270116964139106\n",
            "Iteration: 20, Loss: 280.65575346654646, Delta: 0.30923653633675485\n",
            "Iteration: 21, Loss: 280.35926539719287, Delta: 0.29648806935358607\n",
            "Iteration: 22, Loss: 280.07485840347056, Delta: 0.2844069937223139\n",
            "Iteration: 23, Loss: 279.80190710243807, Delta: 0.2729513010324922\n",
            "Iteration: 24, Loss: 279.53981358390325, Delta: 0.26209351853481166\n",
            "Iteration: 25, Loss: 279.2880183311224, Delta: 0.2517952527808802\n",
            "Iteration: 26, Loss: 279.0459948891316, Delta: 0.24202344199079562\n",
            "Iteration: 27, Loss: 278.8132481339598, Delta: 0.23274675517177457\n",
            "0.009651237431179493\n",
            "Exit condition\n",
            "CPU time: 2.4021275439999954\n"
          ]
        }
      ]
    },
    {
      "cell_type": "code",
      "source": [
        "accuracy_score(Y_real_preds, Y_real)"
      ],
      "metadata": {
        "id": "_ng7-lhDE4Rr",
        "outputId": "7f167b45-69ca-4081-ed2f-8aa8498c2821",
        "colab": {
          "base_uri": "https://localhost:8080/"
        }
      },
      "execution_count": 86,
      "outputs": [
        {
          "output_type": "execute_result",
          "data": {
            "text/plain": [
              "0.9"
            ]
          },
          "metadata": {},
          "execution_count": 86
        }
      ]
    },
    {
      "cell_type": "code",
      "source": [
        "random_solver = BCGDSolver(\n",
        "    lr_strategy = 'lr_constant',\n",
        "    learning_rate = 0.0001,\n",
        "    similarity_func = None,\n",
        "\n",
        "    bcgd_strategy = 'cyclic',\n",
        ")\n",
        "\n",
        "start = default_timer()\n",
        "Y_real_preds = random_solver.solve(\n",
        "    X_real,\n",
        "    Y_real_delabeled,\n",
        "    Y_true = Y_real,\n",
        "    delta_percent_limit=0.01,\n",
        "    iter_limit=30,\n",
        "    delta_loss_limit = 0.0,\n",
        "    stop_loss = 0.0,\n",
        "    weight_matrix=weights_real\n",
        ")\n",
        "end = default_timer()\n",
        "print(f'CPU_time: {end - start}')"
      ],
      "metadata": {
        "id": "CfVzCc4POL41",
        "outputId": "58283a33-97f6-4318-9abc-5952b139cb2f",
        "colab": {
          "base_uri": "https://localhost:8080/"
        }
      },
      "execution_count": 87,
      "outputs": [
        {
          "output_type": "stream",
          "name": "stdout",
          "text": [
            "Iteration: 0, Loss: 290.5595874890147, Delta: 290.5595874890147\n",
            "Iteration: 1, Loss: 289.8018070358659, Delta: 0.7577804531487686\n",
            "Iteration: 2, Loss: 289.08219382770875, Delta: 0.7196132081571704\n",
            "Iteration: 3, Loss: 288.3984943328034, Delta: 0.6836994949053405\n",
            "Iteration: 4, Loss: 287.74859936889175, Delta: 0.6498949639116631\n",
            "Iteration: 5, Loss: 287.13053437514554, Delta: 0.6180649937462022\n",
            "Iteration: 6, Loss: 286.5424503606918, Delta: 0.5880840144537274\n",
            "Iteration: 7, Loss: 285.9826154817177, Delta: 0.5598348789741294\n",
            "Iteration: 8, Loss: 285.4494072026071, Delta: 0.5332082791105677\n",
            "Iteration: 9, Loss: 284.9413049997646, Delta: 0.5081022028425082\n",
            "Iteration: 10, Loss: 284.4568835697439, Delta: 0.4844214300206886\n",
            "Iteration: 11, Loss: 283.99480650605756, Delta: 0.46207706368636536\n",
            "Iteration: 12, Loss: 283.5538204115905, Delta: 0.44098609446706405\n",
            "Iteration: 13, Loss: 283.13274941591453, Delta: 0.4210709956759615\n",
            "Iteration: 14, Loss: 282.7304900689948, Delta: 0.40225934691972043\n",
            "Iteration: 15, Loss: 282.3460065848154, Delta: 0.38448348417938405\n",
            "Iteration: 16, Loss: 281.9783264103481, Delta: 0.36768017446735257\n",
            "Iteration: 17, Loss: 281.626536097035, Delta: 0.3517903133130744\n",
            "Iteration: 18, Loss: 281.2897774535911, Delta: 0.3367586434438863\n",
            "Iteration: 19, Loss: 280.9672439604361, Delta: 0.32253349315499236\n",
            "Iteration: 20, Loss: 280.6581774274716, Delta: 0.3090665329644935\n",
            "Iteration: 21, Loss: 280.3618648782178, Delta: 0.2963125492538552\n",
            "Iteration: 22, Loss: 280.07763564453103, Delta: 0.28422923368674446\n",
            "Iteration: 23, Loss: 279.80485865724455, Delta: 0.2727769872864769\n",
            "Iteration: 24, Loss: 279.54293991911317, Delta: 0.261918738131385\n",
            "Iteration: 25, Loss: 279.29132014740884, Delta: 0.2516197717043269\n",
            "Iteration: 26, Loss: 279.0494725744086, Delta: 0.24184757300025694\n",
            "Iteration: 27, Loss: 278.8169008948494, Delta: 0.23257167955915747\n",
            "0.009650699244356825\n",
            "Exit condition\n",
            "CPU_time: 3.1322998119999284\n"
          ]
        }
      ]
    },
    {
      "cell_type": "code",
      "source": [
        "accuracy_score(Y_real_preds, Y_real)"
      ],
      "metadata": {
        "id": "FC8gXVdCORdV",
        "outputId": "4c288684-970a-45e4-94d4-0dcea03ddf2d",
        "colab": {
          "base_uri": "https://localhost:8080/"
        }
      },
      "execution_count": 88,
      "outputs": [
        {
          "output_type": "execute_result",
          "data": {
            "text/plain": [
              "0.9"
            ]
          },
          "metadata": {},
          "execution_count": 88
        }
      ]
    },
    {
      "cell_type": "code",
      "source": [
        "random_solver = BCGDSolver(\n",
        "    lr_strategy = 'lr_constant',\n",
        "    learning_rate = 0.0001,\n",
        "    similarity_func = None,\n",
        "\n",
        "    bcgd_strategy = 'random sampling',\n",
        ")\n",
        "\n",
        "start = default_timer()\n",
        "Y_real_preds = random_solver.solve(\n",
        "    X_real,\n",
        "    Y_real_delabeled,\n",
        "    Y_true = Y_real,\n",
        "    delta_percent_limit=0.0,\n",
        "    iter_limit=300,\n",
        "    delta_loss_limit = 0.0,\n",
        "    stop_loss = 0.0,\n",
        "    weight_matrix=weights_real\n",
        ")\n",
        "end = default_timer()\n",
        "print(f'CPU time: {end - start}')"
      ],
      "metadata": {
        "id": "XJf6qCRBOUut",
        "outputId": "cd160a16-c526-418b-d1dd-000eb3c00673",
        "colab": {
          "base_uri": "https://localhost:8080/"
        }
      },
      "execution_count": 89,
      "outputs": [
        {
          "output_type": "stream",
          "name": "stdout",
          "text": [
            "Iteration: 0, Loss: 290.5595874890147, Delta: 290.5595874890147\n",
            "Iteration: 1, Loss: 290.5595155912135, Delta: 7.189780120597788e-05\n",
            "Iteration: 2, Loss: 290.55951458142897, Delta: 1.0097845120071725e-06\n",
            "Iteration: 3, Loss: 290.5593905559676, Delta: 0.00012402546138901016\n",
            "Iteration: 4, Loss: 290.5564766898622, Delta: 0.002913866105359375\n",
            "Iteration: 5, Loss: 290.52587316399814, Delta: 0.03060352586408044\n",
            "Iteration: 6, Loss: 290.5205039437634, Delta: 0.005369220234740624\n",
            "Iteration: 7, Loss: 290.5205036192153, Delta: 3.2454812526339083e-07\n",
            "Iteration: 8, Loss: 290.50641048235514, Delta: 0.014093136860140021\n",
            "Iteration: 9, Loss: 290.4990983264769, Delta: 0.007312155878253179\n",
            "Iteration: 10, Loss: 290.49909723487207, Delta: 1.0916048154285818e-06\n",
            "Iteration: 11, Loss: 290.4990962333578, Delta: 1.0015142493102758e-06\n",
            "Iteration: 12, Loss: 290.4953017811733, Delta: 0.0037944521845361123\n",
            "Iteration: 13, Loss: 290.48670907726864, Delta: 0.00859270390463962\n",
            "Iteration: 14, Loss: 290.48347231196476, Delta: 0.003236765303881839\n",
            "Iteration: 15, Loss: 290.4716296142145, Delta: 0.011842697750239495\n",
            "Iteration: 16, Loss: 290.47151537454437, Delta: 0.0001142396701538928\n",
            "Iteration: 17, Loss: 290.46389170742236, Delta: 0.007623667122004463\n",
            "Iteration: 18, Loss: 290.4621033340217, Delta: 0.001788373400643195\n",
            "Iteration: 19, Loss: 290.46114536575107, Delta: 0.000957968270654419\n",
            "Iteration: 20, Loss: 290.4611438509026, Delta: 1.5148484635574277e-06\n",
            "Iteration: 21, Loss: 290.45432320387914, Delta: 0.006820647023459969\n",
            "Iteration: 22, Loss: 290.45432208116864, Delta: 1.1227105005673366e-06\n",
            "Iteration: 23, Loss: 290.4537504958333, Delta: 0.0005715853353649436\n",
            "Iteration: 24, Loss: 290.45205631551084, Delta: 0.0016941803224312935\n",
            "Iteration: 25, Loss: 290.45112573657, Delta: 0.0009305789408244891\n",
            "Iteration: 26, Loss: 290.450045812767, Delta: 0.0010799238030472225\n",
            "Iteration: 27, Loss: 290.44930940701613, Delta: 0.0007364057508425503\n",
            "Iteration: 28, Loss: 290.4482020850206, Delta: 0.0011073219955051172\n",
            "Iteration: 29, Loss: 290.44493632583124, Delta: 0.0032657591893894278\n",
            "Iteration: 30, Loss: 290.4442157663546, Delta: 0.0007205594766332979\n",
            "Iteration: 31, Loss: 290.4430269585549, Delta: 0.0011888077996786706\n",
            "Iteration: 32, Loss: 290.44009704918074, Delta: 0.0029299093741883553\n",
            "Iteration: 33, Loss: 290.43244766713764, Delta: 0.007649382043098285\n",
            "Iteration: 34, Loss: 290.43145664347526, Delta: 0.0009910236623795754\n",
            "Iteration: 35, Loss: 290.4302310630014, Delta: 0.0012255804738856568\n",
            "Iteration: 36, Loss: 290.4241147377742, Delta: 0.006116325227196739\n",
            "Iteration: 37, Loss: 290.4241136995137, Delta: 1.0382604500591697e-06\n",
            "Iteration: 38, Loss: 290.4239768646504, Delta: 0.00013683486332638495\n",
            "Iteration: 39, Loss: 290.4238498682684, Delta: 0.00012699638199364927\n",
            "Iteration: 40, Loss: 290.41814956238323, Delta: 0.005700305885170565\n",
            "Iteration: 41, Loss: 290.41557432778546, Delta: 0.002575234597770759\n",
            "Iteration: 42, Loss: 290.41447959233835, Delta: 0.0010947354471113613\n",
            "Iteration: 43, Loss: 290.4143908879313, Delta: 8.87044070623233e-05\n",
            "Iteration: 44, Loss: 290.3935655229775, Delta: 0.020825364953793724\n",
            "Iteration: 45, Loss: 290.39256259626114, Delta: 0.0010029267163531586\n",
            "Iteration: 46, Loss: 290.39239032048766, Delta: 0.00017227577347966871\n",
            "Iteration: 47, Loss: 290.3923901823996, Delta: 1.3808806897941395e-07\n",
            "Iteration: 48, Loss: 290.3909119465255, Delta: 0.0014782358741172175\n",
            "Iteration: 49, Loss: 290.39087405795726, Delta: 3.788856821529407e-05\n",
            "Iteration: 50, Loss: 290.39080674152103, Delta: 6.731643622970296e-05\n",
            "Iteration: 51, Loss: 290.3854085669864, Delta: 0.005398174534605005\n",
            "Iteration: 52, Loss: 290.3853363823609, Delta: 7.218462553737481e-05\n",
            "Iteration: 53, Loss: 290.3738846043458, Delta: 0.011451778015100444\n",
            "Iteration: 54, Loss: 290.3734876624968, Delta: 0.0003969418489759846\n",
            "Iteration: 55, Loss: 290.37256414144747, Delta: 0.0009235210493443446\n",
            "Iteration: 56, Loss: 290.37220811400726, Delta: 0.00035602744020479804\n",
            "Iteration: 57, Loss: 290.3611598443628, Delta: 0.011048269644447828\n",
            "Iteration: 58, Loss: 290.35290767778594, Delta: 0.008252166576880882\n",
            "Iteration: 59, Loss: 290.35289436116994, Delta: 1.3316615991243452e-05\n",
            "Iteration: 60, Loss: 290.3527807174207, Delta: 0.00011364374921640774\n",
            "Iteration: 61, Loss: 290.352224564972, Delta: 0.0005561524487234237\n",
            "Iteration: 62, Loss: 290.3494463460376, Delta: 0.002778218934395227\n",
            "Iteration: 63, Loss: 290.3458786014819, Delta: 0.003567744555709851\n",
            "Iteration: 64, Loss: 290.3458437245659, Delta: 3.4876916004122904e-05\n",
            "Iteration: 65, Loss: 290.34282139319726, Delta: 0.0030223313686406073\n",
            "Iteration: 66, Loss: 290.34282116599564, Delta: 2.272016104143404e-07\n",
            "Iteration: 67, Loss: 290.34079698172326, Delta: 0.0020241842723862646\n",
            "Iteration: 68, Loss: 290.34001811785555, Delta: 0.0007788638677084236\n",
            "Iteration: 69, Loss: 290.3388270116985, Delta: 0.001191106157023114\n",
            "Iteration: 70, Loss: 290.3360155539668, Delta: 0.002811457731752398\n",
            "Iteration: 71, Loss: 290.33590862518815, Delta: 0.0001069287786208406\n",
            "Iteration: 72, Loss: 290.3315424302103, Delta: 0.004366194977876603\n",
            "Iteration: 73, Loss: 290.32871622940297, Delta: 0.0028262008073056677\n",
            "Iteration: 74, Loss: 290.32835409019475, Delta: 0.00036213920822092405\n",
            "Iteration: 75, Loss: 290.32798356665444, Delta: 0.0003705235403117513\n",
            "Iteration: 76, Loss: 290.32690817924754, Delta: 0.0010753874068996083\n",
            "Iteration: 77, Loss: 290.326217187445, Delta: 0.0006909918025144179\n",
            "Iteration: 78, Loss: 290.325300335326, Delta: 0.0009168521190190404\n",
            "Iteration: 79, Loss: 290.3251744222828, Delta: 0.00012591304317766117\n",
            "Iteration: 80, Loss: 290.3250576506101, Delta: 0.00011677167270818245\n",
            "Iteration: 81, Loss: 290.3250402018476, Delta: 1.744876249176741e-05\n",
            "Iteration: 82, Loss: 290.32503907300713, Delta: 1.128840494857286e-06\n",
            "Iteration: 83, Loss: 290.32243796820427, Delta: 0.002601104802863574\n",
            "Iteration: 84, Loss: 290.3212952782221, Delta: 0.0011426899821458392\n",
            "Iteration: 85, Loss: 290.320151739257, Delta: 0.0011435389650955585\n",
            "Iteration: 86, Loss: 290.3197980153468, Delta: 0.00035372391022292504\n",
            "Iteration: 87, Loss: 290.3197621386461, Delta: 3.58767006787275e-05\n",
            "Iteration: 88, Loss: 290.3191435084009, Delta: 0.0006186302452420023\n",
            "Iteration: 89, Loss: 290.31841559560246, Delta: 0.000727912798424768\n",
            "Iteration: 90, Loss: 290.3111991475048, Delta: 0.007216448097665307\n",
            "Iteration: 91, Loss: 290.31078711333544, Delta: 0.00041203416935786663\n",
            "Iteration: 92, Loss: 290.3104589113364, Delta: 0.00032820199902516833\n",
            "Iteration: 93, Loss: 290.30939286494646, Delta: 0.0010660463899512251\n",
            "Iteration: 94, Loss: 290.3033827847081, Delta: 0.006010080238354476\n",
            "Iteration: 95, Loss: 290.30181266633696, Delta: 0.00157011837114851\n",
            "Iteration: 96, Loss: 290.30126206326554, Delta: 0.0005506030714172994\n",
            "Iteration: 97, Loss: 290.30088309801096, Delta: 0.0003789652545833633\n",
            "Iteration: 98, Loss: 290.30077682688676, Delta: 0.0001062711241957004\n",
            "Iteration: 99, Loss: 290.30074490635286, Delta: 3.1920533899665315e-05\n",
            "Iteration: 100, Loss: 290.2969866578819, Delta: 0.003758248470944636\n",
            "Iteration: 101, Loss: 290.29694111709125, Delta: 4.554079066565464e-05\n",
            "Iteration: 102, Loss: 290.2969077714373, Delta: 3.3345653946526e-05\n",
            "Iteration: 103, Loss: 290.29604944540154, Delta: 0.0008583260357681866\n",
            "Iteration: 104, Loss: 290.29281391777647, Delta: 0.003235527625065515\n",
            "Iteration: 105, Loss: 290.2918855017429, Delta: 0.0009284160335596425\n",
            "Iteration: 106, Loss: 290.2918435887903, Delta: 4.191295261080086e-05\n",
            "Iteration: 107, Loss: 290.29172481881864, Delta: 0.00011876997166382353\n",
            "Iteration: 108, Loss: 290.2908131806504, Delta: 0.0009116381682474639\n",
            "Iteration: 109, Loss: 290.28891458862967, Delta: 0.0018985920207228446\n",
            "Iteration: 110, Loss: 290.28837460110776, Delta: 0.000539987521904095\n",
            "Iteration: 111, Loss: 290.2880231962988, Delta: 0.00035140480895279325\n",
            "Iteration: 112, Loss: 290.2879526534966, Delta: 7.054280223428577e-05\n",
            "Iteration: 113, Loss: 290.28554251142646, Delta: 0.0024101420701185816\n",
            "Iteration: 114, Loss: 290.28452406284174, Delta: 0.001018448584716225\n",
            "Iteration: 115, Loss: 290.2830573657208, Delta: 0.0014666971209180701\n",
            "Iteration: 116, Loss: 290.2765376248014, Delta: 0.006519740919429751\n",
            "Iteration: 117, Loss: 290.2749930223925, Delta: 0.0015446024088987542\n",
            "Iteration: 118, Loss: 290.2725976239175, Delta: 0.0023953984750164636\n",
            "Iteration: 119, Loss: 290.26184275957894, Delta: 0.010754864338537118\n",
            "Iteration: 120, Loss: 290.24788017101787, Delta: 0.013962588561071243\n",
            "Iteration: 121, Loss: 290.2469594687159, Delta: 0.0009207023019826011\n",
            "Iteration: 122, Loss: 290.2460286815751, Delta: 0.0009307871407600032\n",
            "Iteration: 123, Loss: 290.2459256642365, Delta: 0.00010301733863116169\n",
            "Iteration: 124, Loss: 290.23292515193947, Delta: 0.013000512297026035\n",
            "Iteration: 125, Loss: 290.23155750375855, Delta: 0.0013676481809170582\n",
            "Iteration: 126, Loss: 290.2304045147858, Delta: 0.0011529889727626141\n",
            "Iteration: 127, Loss: 290.2304034913501, Delta: 1.023435686420271e-06\n",
            "Iteration: 128, Loss: 290.2242054627054, Delta: 0.006198028644689657\n",
            "Iteration: 129, Loss: 290.2241764790083, Delta: 2.898369712056592e-05\n",
            "Iteration: 130, Loss: 290.22139726804687, Delta: 0.002779210961421086\n",
            "Iteration: 131, Loss: 290.2159756271834, Delta: 0.005421640863460198\n",
            "Iteration: 132, Loss: 290.2156371036335, Delta: 0.00033852354988539446\n",
            "Iteration: 133, Loss: 290.2138110691815, Delta: 0.0018260344520513172\n",
            "Iteration: 134, Loss: 290.21144507650195, Delta: 0.002365992679528972\n",
            "Iteration: 135, Loss: 290.2097647367218, Delta: 0.0016803397801368192\n",
            "Iteration: 136, Loss: 290.20896515972777, Delta: 0.0007995769940407627\n",
            "Iteration: 137, Loss: 290.20842045291107, Delta: 0.0005447068166972713\n",
            "Iteration: 138, Loss: 290.20809749957533, Delta: 0.00032295333573983953\n",
            "Iteration: 139, Loss: 290.2059902051346, Delta: 0.0021072944407478644\n",
            "Iteration: 140, Loss: 290.20582863942104, Delta: 0.00016156571354031257\n",
            "Iteration: 141, Loss: 290.2058202526476, Delta: 8.386773458823882e-06\n",
            "Iteration: 142, Loss: 290.2053181004117, Delta: 0.0005021522358674702\n",
            "Iteration: 143, Loss: 290.2001518897358, Delta: 0.0051662106758954\n",
            "Iteration: 144, Loss: 290.1997976633444, Delta: 0.00035422639143689594\n",
            "Iteration: 145, Loss: 290.19885473256727, Delta: 0.0009429307771142703\n",
            "Iteration: 146, Loss: 290.19379022863626, Delta: 0.005064503931009767\n",
            "Iteration: 147, Loss: 290.193051706735, Delta: 0.0007385219012689959\n",
            "Iteration: 148, Loss: 290.0710651442893, Delta: 0.12198656244567019\n",
            "Iteration: 149, Loss: 290.07075611831556, Delta: 0.000309025973763255\n",
            "Iteration: 150, Loss: 290.0634350566756, Delta: 0.007321061639970594\n",
            "Iteration: 151, Loss: 290.0629725063173, Delta: 0.00046255035829290136\n",
            "Iteration: 152, Loss: 290.06263631769986, Delta: 0.00033618861743889283\n",
            "Iteration: 153, Loss: 290.0621033822271, Delta: 0.0005329354727336977\n",
            "Iteration: 154, Loss: 290.0612045160206, Delta: 0.0008988662065121389\n",
            "Iteration: 155, Loss: 290.05924416501256, Delta: 0.0019603510080514752\n",
            "Iteration: 156, Loss: 290.0562747148853, Delta: 0.002969450127238815\n",
            "Iteration: 157, Loss: 290.0561902693599, Delta: 8.444552543096506e-05\n",
            "Iteration: 158, Loss: 290.0273641743693, Delta: 0.028826094990563433\n",
            "Iteration: 159, Loss: 290.0273477307736, Delta: 1.6443595711734815e-05\n",
            "Iteration: 160, Loss: 290.0273131420244, Delta: 3.458874920170274e-05\n",
            "Iteration: 161, Loss: 290.0244332529727, Delta: 0.0028798890517123255\n",
            "Iteration: 162, Loss: 290.02299234999873, Delta: 0.00144090297396815\n",
            "Iteration: 163, Loss: 290.0229521400333, Delta: 4.0209965447957075e-05\n",
            "Iteration: 164, Loss: 290.0229202177846, Delta: 3.192224869508209e-05\n",
            "Iteration: 165, Loss: 290.019478878198, Delta: 0.003441339586572667\n",
            "Iteration: 166, Loss: 290.01864987720694, Delta: 0.0008290009910751905\n",
            "Iteration: 167, Loss: 289.9507019246725, Delta: 0.06794795253443908\n",
            "Iteration: 168, Loss: 289.9501869037059, Delta: 0.0005150209665885086\n",
            "Iteration: 169, Loss: 289.949089231588, Delta: 0.0010976721179076776\n",
            "Iteration: 170, Loss: 289.9486204117637, Delta: 0.0004688198242774888\n",
            "Iteration: 171, Loss: 289.9471152628379, Delta: 0.0015051489258439688\n",
            "Iteration: 172, Loss: 289.94551676877006, Delta: 0.001598494067820866\n",
            "Iteration: 173, Loss: 289.94508912114304, Delta: 0.0004276476270206331\n",
            "Iteration: 174, Loss: 289.9448187304665, Delta: 0.00027039067651912774\n",
            "Iteration: 175, Loss: 289.9425105773325, Delta: 0.0023081531340380934\n",
            "Iteration: 176, Loss: 289.9425040614114, Delta: 6.515921086247545e-06\n",
            "Iteration: 177, Loss: 289.94236614336563, Delta: 0.00013791804576612776\n",
            "Iteration: 178, Loss: 289.8289975603579, Delta: 0.11336858300774111\n",
            "Iteration: 179, Loss: 289.8190404897285, Delta: 0.009957070629411646\n",
            "Iteration: 180, Loss: 289.8151552819936, Delta: 0.0038852077348678904\n",
            "Iteration: 181, Loss: 289.8137044333942, Delta: 0.001450848599404253\n",
            "Iteration: 182, Loss: 289.8127907421078, Delta: 0.0009136912864278202\n",
            "Iteration: 183, Loss: 289.81189244823076, Delta: 0.0008982938770145665\n",
            "Iteration: 184, Loss: 289.80991535130823, Delta: 0.0019770969225305635\n",
            "Iteration: 185, Loss: 289.80298186470964, Delta: 0.006933486598597938\n",
            "Iteration: 186, Loss: 289.8018497222424, Delta: 0.0011321424672132707\n",
            "Iteration: 187, Loss: 289.7960670579005, Delta: 0.005782664341950294\n",
            "Iteration: 188, Loss: 289.7956719236164, Delta: 0.00039513428407644824\n",
            "Iteration: 189, Loss: 289.7913562202474, Delta: 0.004315703369002222\n",
            "Iteration: 190, Loss: 289.78966583474, Delta: 0.0016903855074019702\n",
            "Iteration: 191, Loss: 289.78656181972184, Delta: 0.003104015018152495\n",
            "Iteration: 192, Loss: 289.78626210371414, Delta: 0.0002997160077029548\n",
            "Iteration: 193, Loss: 289.77964696401887, Delta: 0.0066151396952705\n",
            "Iteration: 194, Loss: 289.77960960830575, Delta: 3.7355713118358835e-05\n",
            "Iteration: 195, Loss: 289.7716226661701, Delta: 0.00798694213563067\n",
            "Iteration: 196, Loss: 289.77161097329486, Delta: 1.1692875261815061e-05\n",
            "Iteration: 197, Loss: 289.76102819122644, Delta: 0.010582782068411234\n",
            "Iteration: 198, Loss: 289.75756874213926, Delta: 0.0034594490871882044\n",
            "Iteration: 199, Loss: 289.75669513584984, Delta: 0.0008736062894172392\n",
            "Iteration: 200, Loss: 289.7556745363744, Delta: 0.0010205994754528547\n",
            "Iteration: 201, Loss: 289.7535196545575, Delta: 0.0021548818168639627\n",
            "Iteration: 202, Loss: 289.75187852911733, Delta: 0.001641125440187352\n",
            "Iteration: 203, Loss: 289.75114366632954, Delta: 0.0007348627877945546\n",
            "Iteration: 204, Loss: 289.72740789130194, Delta: 0.023735775027603268\n",
            "Iteration: 205, Loss: 289.72074371449037, Delta: 0.006664176811568723\n",
            "Iteration: 206, Loss: 289.7183437917509, Delta: 0.0023999227394710942\n",
            "Iteration: 207, Loss: 289.71725530898954, Delta: 0.001088482761360865\n",
            "Iteration: 208, Loss: 289.71662207917296, Delta: 0.0006332298165716566\n",
            "Iteration: 209, Loss: 289.71658843808194, Delta: 3.364109102221846e-05\n",
            "Iteration: 210, Loss: 289.7147753108959, Delta: 0.0018131271860397646\n",
            "Iteration: 211, Loss: 289.70623828520274, Delta: 0.008537025693158284\n",
            "Iteration: 212, Loss: 289.69972552234594, Delta: 0.006512762856800691\n",
            "Iteration: 213, Loss: 289.69694626079456, Delta: 0.002779261551381751\n",
            "Iteration: 214, Loss: 289.6908211331176, Delta: 0.006125127676966713\n",
            "Iteration: 215, Loss: 289.6846285844955, Delta: 0.006192548622095728\n",
            "Iteration: 216, Loss: 289.6842986706876, Delta: 0.0003299138078887154\n",
            "Iteration: 217, Loss: 289.6819538236004, Delta: 0.002344847087215385\n",
            "Iteration: 218, Loss: 289.68192147209015, Delta: 3.235151024227889e-05\n",
            "Iteration: 219, Loss: 289.6600760674977, Delta: 0.021845404592454543\n",
            "Iteration: 220, Loss: 289.6590565744752, Delta: 0.001019493022511142\n",
            "Iteration: 221, Loss: 289.6583730617576, Delta: 0.0006835127176145761\n",
            "Iteration: 222, Loss: 289.656883061961, Delta: 0.0014899997965471812\n",
            "Iteration: 223, Loss: 289.6545680631778, Delta: 0.002314998783219835\n",
            "Iteration: 224, Loss: 289.6545676322201, Delta: 4.3095769797218964e-07\n",
            "Iteration: 225, Loss: 289.65384377096916, Delta: 0.0007238612509468112\n",
            "Iteration: 226, Loss: 289.54801866132607, Delta: 0.10582510964309222\n",
            "Iteration: 227, Loss: 289.54647040498196, Delta: 0.0015482563441082675\n",
            "Iteration: 228, Loss: 289.5464598784167, Delta: 1.0526565233703877e-05\n",
            "Iteration: 229, Loss: 289.54286309751325, Delta: 0.0035967809034787024\n",
            "Iteration: 230, Loss: 289.5425993401308, Delta: 0.0002637573824699757\n",
            "Iteration: 231, Loss: 289.54198525060195, Delta: 0.0006140895288240245\n",
            "Iteration: 232, Loss: 289.5358840146053, Delta: 0.006101235996652576\n",
            "Iteration: 233, Loss: 289.5347232167084, Delta: 0.0011607978968868338\n",
            "Iteration: 234, Loss: 289.5346970414832, Delta: 2.6175225229962962e-05\n",
            "Iteration: 235, Loss: 289.53466744772885, Delta: 2.959375433420064e-05\n",
            "Iteration: 236, Loss: 289.5326511443503, Delta: 0.0020163033785252082\n",
            "Iteration: 237, Loss: 289.52767618212897, Delta: 0.004974962221353962\n",
            "Iteration: 238, Loss: 289.525772029461, Delta: 0.0019041526679757226\n",
            "Iteration: 239, Loss: 289.5163976934977, Delta: 0.00937433596328674\n",
            "Iteration: 240, Loss: 289.51638800471943, Delta: 9.688778277450183e-06\n",
            "Iteration: 241, Loss: 289.51544083684274, Delta: 0.0009471678766885816\n",
            "Iteration: 242, Loss: 289.51476255446005, Delta: 0.0006782823826938511\n",
            "Iteration: 243, Loss: 289.51262207348134, Delta: 0.002140480978710002\n",
            "Iteration: 244, Loss: 289.5116201519832, Delta: 0.0010019214981298319\n",
            "Iteration: 245, Loss: 289.51159113228715, Delta: 2.901969605773047e-05\n",
            "Iteration: 246, Loss: 289.508756953241, Delta: 0.002834179046146801\n",
            "Iteration: 247, Loss: 289.5031918807982, Delta: 0.005565072442777819\n",
            "Iteration: 248, Loss: 289.50228064639714, Delta: 0.000911234401087313\n",
            "Iteration: 249, Loss: 289.50199568432583, Delta: 0.00028496207130501716\n",
            "Iteration: 250, Loss: 289.5010453267325, Delta: 0.0009503575933536013\n",
            "Iteration: 251, Loss: 289.49817505870806, Delta: 0.0028702680244236944\n",
            "Iteration: 252, Loss: 289.4972915164588, Delta: 0.0008835422492552425\n",
            "Iteration: 253, Loss: 289.497070403438, Delta: 0.00022111302081384565\n",
            "Iteration: 254, Loss: 289.4963518134799, Delta: 0.0007185899580690602\n",
            "Iteration: 255, Loss: 289.4944432225992, Delta: 0.0019085908807028318\n",
            "Iteration: 256, Loss: 289.4937614274056, Delta: 0.00068179519360001\n",
            "Iteration: 257, Loss: 289.4936844153721, Delta: 7.70120335005231e-05\n",
            "Iteration: 258, Loss: 289.4905575678271, Delta: 0.0031268475449905964\n",
            "Iteration: 259, Loss: 289.4842028692414, Delta: 0.006354698585710139\n",
            "Iteration: 260, Loss: 289.48392933984184, Delta: 0.000273529399578365\n",
            "Iteration: 261, Loss: 289.4838015273764, Delta: 0.00012781246545046088\n",
            "Iteration: 262, Loss: 289.4831721279268, Delta: 0.0006293994495649713\n",
            "Iteration: 263, Loss: 289.4831632811812, Delta: 8.846745629398356e-06\n",
            "Iteration: 264, Loss: 289.482262931186, Delta: 0.0009003499951631966\n",
            "Iteration: 265, Loss: 289.4807511952015, Delta: 0.0015117359845362444\n",
            "Iteration: 266, Loss: 289.480677571233, Delta: 7.36239684897555e-05\n",
            "Iteration: 267, Loss: 289.4749122362359, Delta: 0.005765334997079208\n",
            "Iteration: 268, Loss: 289.2793845269874, Delta: 0.19552770924849483\n",
            "Iteration: 269, Loss: 289.27171950088166, Delta: 0.007665026105769357\n",
            "Iteration: 270, Loss: 289.27035240821505, Delta: 0.0013670926666122796\n",
            "Iteration: 271, Loss: 289.26949899665965, Delta: 0.0008534115553970878\n",
            "Iteration: 272, Loss: 289.2688422012344, Delta: 0.0006567954252432173\n",
            "Iteration: 273, Loss: 289.26826430721593, Delta: 0.0005778940184768544\n",
            "Iteration: 274, Loss: 289.26757073350325, Delta: 0.0006935737126809727\n",
            "Iteration: 275, Loss: 289.2661106098767, Delta: 0.0014601236265434636\n",
            "Iteration: 276, Loss: 289.2660819803625, Delta: 2.8629514190470218e-05\n",
            "Iteration: 277, Loss: 289.26523303262366, Delta: 0.0008489477388593514\n",
            "Iteration: 278, Loss: 289.26176931539834, Delta: 0.003463717225315577\n",
            "Iteration: 279, Loss: 289.260358588748, Delta: 0.0014107266503629035\n",
            "Iteration: 280, Loss: 289.25179678294126, Delta: 0.008561805806721168\n",
            "Iteration: 281, Loss: 289.25170121753945, Delta: 9.556540180710726e-05\n",
            "Iteration: 282, Loss: 289.2513662822275, Delta: 0.0003349353119688203\n",
            "Iteration: 283, Loss: 289.25075794052276, Delta: 0.0006083417047193507\n",
            "Iteration: 284, Loss: 289.069408971258, Delta: 0.18134896926477495\n",
            "Iteration: 285, Loss: 289.0692578657474, Delta: 0.0001511055106107051\n",
            "Iteration: 286, Loss: 289.06924664111267, Delta: 1.1224634704376513e-05\n",
            "Iteration: 287, Loss: 289.0685892863239, Delta: 0.0006573547887569475\n",
            "Iteration: 288, Loss: 289.0680003097534, Delta: 0.0005889765704978345\n",
            "Iteration: 289, Loss: 289.059926598125, Delta: 0.008073711628412639\n",
            "Iteration: 290, Loss: 289.0598134119729, Delta: 0.00011318615207756011\n",
            "Iteration: 291, Loss: 289.05676708418576, Delta: 0.0030463277871604078\n",
            "Iteration: 292, Loss: 289.05158187688596, Delta: 0.005185207299803096\n",
            "Iteration: 293, Loss: 289.0482687496521, Delta: 0.003313127233866453\n",
            "Iteration: 294, Loss: 289.0472074043957, Delta: 0.0010613452564030013\n",
            "Iteration: 295, Loss: 289.0466349471994, Delta: 0.0005724571963128255\n",
            "Iteration: 296, Loss: 289.04635522840107, Delta: 0.00027971879831056867\n",
            "Iteration: 297, Loss: 289.0456952078758, Delta: 0.0006600205252880187\n",
            "Iteration: 298, Loss: 289.04530676484796, Delta: 0.0003884430278162654\n",
            "Iteration: 299, Loss: 289.01792072733696, Delta: 0.027386037511007544\n",
            "CPU time: 9.46870914300007\n"
          ]
        }
      ]
    },
    {
      "cell_type": "code",
      "source": [
        "accuracy_score(Y_real_preds, Y_real)"
      ],
      "metadata": {
        "id": "4q4ZdpqeOo9s",
        "outputId": "7000cd21-0a03-4165-a193-7bd136a186c1",
        "colab": {
          "base_uri": "https://localhost:8080/"
        }
      },
      "execution_count": 90,
      "outputs": [
        {
          "output_type": "execute_result",
          "data": {
            "text/plain": [
              "0.8846153846153846"
            ]
          },
          "metadata": {},
          "execution_count": 90
        }
      ]
    },
    {
      "cell_type": "code",
      "source": [
        "plot_mistakes(\n",
        "    X_real,\n",
        "    Y_real,\n",
        "    Y_real_preds,\n",
        "    title = 'Mistaken labels for BCGD sampling'\n",
        ")"
      ],
      "metadata": {
        "id": "g4O7vBzcTzZl",
        "outputId": "f2161bf0-34bd-477e-b476-0124088386f3",
        "colab": {
          "base_uri": "https://localhost:8080/",
          "height": 312
        }
      },
      "execution_count": 115,
      "outputs": [
        {
          "output_type": "display_data",
          "data": {
            "text/plain": [
              "<Figure size 432x288 with 1 Axes>"
            ],
            "image/png": "[encoded data removed]"
          },
          "metadata": {
            "needs_background": "light"
          }
        }
      ]
    },
    {
      "cell_type": "code",
      "source": [
        "real_metrics = pd.DataFrame(\n",
        "    {\n",
        "        'N iter': [27, 27, 27, 300],\n",
        "        'Accuracy': [0.9, 0.9, 0.9, 0.88],\n",
        "        'CPU time': [1.21, 3.13, 2.4, 9.46]\n",
        "    },\n",
        "    index = ['GD', 'BCGD cyclic', 'BCGD permut.', 'BCGD random. sampl.']\n",
        ")"
      ],
      "metadata": {
        "id": "xQv2lvvmQKYg"
      },
      "execution_count": 109,
      "outputs": []
    },
    {
      "cell_type": "code",
      "source": [
        "normalize_cols(real_metrics)\n",
        "\n",
        "real_metrics.head()"
      ],
      "metadata": {
        "id": "XTSSxidMQnG-",
        "outputId": "54991145-7f23-4f01-e6fc-7352a0014cca",
        "colab": {
          "base_uri": "https://localhost:8080/",
          "height": 175
        }
      },
      "execution_count": 110,
      "outputs": [
        {
          "output_type": "execute_result",
          "data": {
            "text/plain": [
              "                     N iter  Accuracy  CPU time  N iter_norm  Accuracy_norm  \\\n",
              "GD                       27      0.90      1.21         0.09       1.000000   \n",
              "BCGD cyclic              27      0.90      3.13         0.09       1.000000   \n",
              "BCGD permut.             27      0.90      2.40         0.09       1.000000   \n",
              "BCGD random. sampl.     300      0.88      9.46         1.00       0.977778   \n",
              "\n",
              "                     CPU time_norm  \n",
              "GD                        0.127907  \n",
              "BCGD cyclic               0.330867  \n",
              "BCGD permut.              0.253700  \n",
              "BCGD random. sampl.       1.000000  "
            ],
            "text/html": [
              "\n",
              "  <div id=\"df-f39562bd-28eb-4b94-9e64-4a69b51819b6\">\n",
              "    <div class=\"colab-df-container\">\n",
              "      <div>\n",
              "<style scoped>\n",
              "    .dataframe tbody tr th:only-of-type {\n",
              "        vertical-align: middle;\n",
              "    }\n",
              "\n",
              "    .dataframe tbody tr th {\n",
              "        vertical-align: top;\n",
              "    }\n",
              "\n",
              "    .dataframe thead th {\n",
              "        text-align: right;\n",
              "    }\n",
              "</style>\n",
              "<table border=\"1\" class=\"dataframe\">\n",
              "  <thead>\n",
              "    <tr style=\"text-align: right;\">\n",
              "      <th></th>\n",
              "      <th>N iter</th>\n",
              "      <th>Accuracy</th>\n",
              "      <th>CPU time</th>\n",
              "      <th>N iter_norm</th>\n",
              "      <th>Accuracy_norm</th>\n",
              "      <th>CPU time_norm</th>\n",
              "    </tr>\n",
              "  </thead>\n",
              "  <tbody>\n",
              "    <tr>\n",
              "      <th>GD</th>\n",
              "      <td>27</td>\n",
              "      <td>0.90</td>\n",
              "      <td>1.21</td>\n",
              "      <td>0.09</td>\n",
              "      <td>1.000000</td>\n",
              "      <td>0.127907</td>\n",
              "    </tr>\n",
              "    <tr>\n",
              "      <th>BCGD cyclic</th>\n",
              "      <td>27</td>\n",
              "      <td>0.90</td>\n",
              "      <td>3.13</td>\n",
              "      <td>0.09</td>\n",
              "      <td>1.000000</td>\n",
              "      <td>0.330867</td>\n",
              "    </tr>\n",
              "    <tr>\n",
              "      <th>BCGD permut.</th>\n",
              "      <td>27</td>\n",
              "      <td>0.90</td>\n",
              "      <td>2.40</td>\n",
              "      <td>0.09</td>\n",
              "      <td>1.000000</td>\n",
              "      <td>0.253700</td>\n",
              "    </tr>\n",
              "    <tr>\n",
              "      <th>BCGD random. sampl.</th>\n",
              "      <td>300</td>\n",
              "      <td>0.88</td>\n",
              "      <td>9.46</td>\n",
              "      <td>1.00</td>\n",
              "      <td>0.977778</td>\n",
              "      <td>1.000000</td>\n",
              "    </tr>\n",
              "  </tbody>\n",
              "</table>\n",
              "</div>\n",
              "      <button class=\"colab-df-convert\" onclick=\"convertToInteractive('df-f39562bd-28eb-4b94-9e64-4a69b51819b6')\"\n",
              "              title=\"Convert this dataframe to an interactive table.\"\n",
              "              style=\"display:none;\">\n",
              "        \n",
              "  <svg xmlns=\"http://www.w3.org/2000/svg\" height=\"24px\"viewBox=\"0 0 24 24\"\n",
              "       width=\"24px\">\n",
              "    <path d=\"M0 0h24v24H0V0z\" fill=\"none\"/>\n",
              "    <path d=\"M18.56 5.44l.94 2.06.94-2.06 2.06-.94-2.06-.94-.94-2.06-.94 2.06-2.06.94zm-11 1L8.5 8.5l.94-2.06 2.06-.94-2.06-.94L8.5 2.5l-.94 2.06-2.06.94zm10 10l.94 2.06.94-2.06 2.06-.94-2.06-.94-.94-2.06-.94 2.06-2.06.94z\"/><path d=\"M17.41 7.96l-1.37-1.37c-.4-.4-.92-.59-1.43-.59-.52 0-1.04.2-1.43.59L10.3 9.45l-7.72 7.72c-.78.78-.78 2.05 0 2.83L4 21.41c.39.39.9.59 1.41.59.51 0 1.02-.2 1.41-.59l7.78-7.78 2.81-2.81c.8-.78.8-2.07 0-2.86zM5.41 20L4 18.59l7.72-7.72 1.47 1.35L5.41 20z\"/>\n",
              "  </svg>\n",
              "      </button>\n",
              "      \n",
              "  <style>\n",
              "    .colab-df-container {\n",
              "      display:flex;\n",
              "      flex-wrap:wrap;\n",
              "      gap: 12px;\n",
              "    }\n",
              "\n",
              "    .colab-df-convert {\n",
              "      background-color: #E8F0FE;\n",
              "      border: none;\n",
              "      border-radius: 50%;\n",
              "      cursor: pointer;\n",
              "      display: none;\n",
              "      fill: #1967D2;\n",
              "      height: 32px;\n",
              "      padding: 0 0 0 0;\n",
              "      width: 32px;\n",
              "    }\n",
              "\n",
              "    .colab-df-convert:hover {\n",
              "      background-color: #E2EBFA;\n",
              "      box-shadow: 0px 1px 2px rgba(60, 64, 67, 0.3), 0px 1px 3px 1px rgba(60, 64, 67, 0.15);\n",
              "      fill: #174EA6;\n",
              "    }\n",
              "\n",
              "    [theme=dark] .colab-df-convert {\n",
              "      background-color: #3B4455;\n",
              "      fill: #D2E3FC;\n",
              "    }\n",
              "\n",
              "    [theme=dark] .colab-df-convert:hover {\n",
              "      background-color: #434B5C;\n",
              "      box-shadow: 0px 1px 3px 1px rgba(0, 0, 0, 0.15);\n",
              "      filter: drop-shadow(0px 1px 2px rgba(0, 0, 0, 0.3));\n",
              "      fill: #FFFFFF;\n",
              "    }\n",
              "  </style>\n",
              "\n",
              "      <script>\n",
              "        const buttonEl =\n",
              "          document.querySelector('#df-f39562bd-28eb-4b94-9e64-4a69b51819b6 button.colab-df-convert');\n",
              "        buttonEl.style.display =\n",
              "          google.colab.kernel.accessAllowed ? 'block' : 'none';\n",
              "\n",
              "        async function convertToInteractive(key) {\n",
              "          const element = document.querySelector('#df-f39562bd-28eb-4b94-9e64-4a69b51819b6');\n",
              "          const dataTable =\n",
              "            await google.colab.kernel.invokeFunction('convertToInteractive',\n",
              "                                                     [key], {});\n",
              "          if (!dataTable) return;\n",
              "\n",
              "          const docLinkHtml = 'Like what you see? Visit the ' +\n",
              "            '<a target=\"_blank\" href=https://colab.research.google.com/notebooks/data_table.ipynb>data table notebook</a>'\n",
              "            + ' to learn more about interactive tables.';\n",
              "          element.innerHTML = '';\n",
              "          dataTable['output_type'] = 'display_data';\n",
              "          await google.colab.output.renderOutput(dataTable, element);\n",
              "          const docLink = document.createElement('div');\n",
              "          docLink.innerHTML = docLinkHtml;\n",
              "          element.appendChild(docLink);\n",
              "        }\n",
              "      </script>\n",
              "    </div>\n",
              "  </div>\n",
              "  "
            ]
          },
          "metadata": {},
          "execution_count": 110
        }
      ]
    },
    {
      "cell_type": "code",
      "source": [
        "def plot_bar_metrics(metrics_df):\n",
        "    \n",
        "    ax = metrics_df.plot.bar(\n",
        "        rot = 0,\n",
        "        ylabel = 'Metrics results',\n",
        "        cmap = 'Paired',\n",
        "        figsize = (8, 7)\n",
        "    )\n",
        "\n",
        "    ax.set_title('Models cpu time, iterations & performance', fontsize = 18)\n",
        "    ax.set_ylabel('Metrics scores', fontsize = 18)\n",
        "    ax.tick_params(axis = 'y', labelsize = 15)\n",
        "    ax.tick_params(axis = 'x', labelsize = 12)\n",
        "    ax.legend(loc = 5, prop = {'size': 13})\n",
        "    plt.grid()\n",
        "\n",
        "plot_bar_metrics(real_metrics.loc[:, ['N iter_norm', 'Accuracy_norm', 'CPU time_norm']])"
      ],
      "metadata": {
        "id": "nFtXveVFQzAi",
        "outputId": "18582281-2b9a-415e-ce08-6a902c03b1db",
        "colab": {
          "base_uri": "https://localhost:8080/",
          "height": 451
        }
      },
      "execution_count": 113,
      "outputs": [
        {
          "output_type": "display_data",
          "data": {
            "text/plain": [
              "<Figure size 576x504 with 1 Axes>"
            ],
            "image/png": "[encoded data removed]"
          },
          "metadata": {
            "needs_background": "light"
          }
        }
      ]
    },
    {
      "cell_type": "code",
      "source": [
        ""
      ],
      "metadata": {
        "id": "rWF6x3SiRo13"
      },
      "execution_count": null,
      "outputs": []
    }
  ],
  "metadata": {
    "colab": {
      "collapsed_sections": [],
      "name": "HW1.ipynb",
      "provenance": [],
      "toc_visible": true
    },
    "kernelspec": {
      "display_name": "Python 3",
      "name": "python3"
    },
    "language_info": {
      "codemirror_mode": {
        "name": "ipython",
        "version": 3
      },
      "file_extension": ".py",
      "mimetype": "text/x-python",
      "name": "python",
      "nbconvert_exporter": "python",
      "pygments_lexer": "ipython3",
      "version": "3.9.7"
    }
  },
  "nbformat": 4,
  "nbformat_minor": 0
}