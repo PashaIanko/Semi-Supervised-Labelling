{
  "cells": [
    {
      "cell_type": "markdown",
      "metadata": {
        "id": "SY5WztYNneGg"
      },
      "source": [
        "### MSc Computer Science, Data Science @UniPD\n",
        "### Optimization Methods for Data Science\n",
        "---"
      ]
    },
    {
      "cell_type": "markdown",
      "source": [
        "# Packages"
      ],
      "metadata": {
        "id": "dDnBuyzNnFxk"
      }
    },
    {
      "cell_type": "code",
      "source": [
        "env = 'colab'  # 'pc'\n",
        "using_gpu = True"
      ],
      "metadata": {
        "id": "VlSWeYY3nI05"
      },
      "execution_count": 1,
      "outputs": []
    },
    {
      "cell_type": "code",
      "source": [
        "%%capture\n",
        "git_download_path = 'https://raw.githubusercontent.com/PashaIanko/Semi-Supervised-Labelling/master/'\n",
        "\n",
        "def download_files(url_dict):\n",
        "    for file, url in url_dict.items():\n",
        "        !wget -O {file} {url} {file}\n",
        "\n",
        "if env == 'colab':\n",
        "    from google.colab import drive\n",
        "    drive.mount('/content/drive')\n",
        "\n",
        "    files = [\n",
        "           'BCGDSolver.py',\n",
        "           'DataProperties.py',\n",
        "           'GradientDescentSolver.py',\n",
        "           'GradientSolver.py',\n",
        "           'Utils.py'  \n",
        "    ]\n",
        "\n",
        "    url_dict = {file: git_download_path + file for file in files}\n",
        "    download_files(url_dict)"
      ],
      "metadata": {
        "id": "7uuSxlZRjyxM",
        "colab": {
          "base_uri": "https://localhost:8080/"
        },
        "outputId": "65963723-5407-498c-e659-6a355a1b14e4"
      },
      "execution_count": 2,
      "outputs": [
        {
          "output_type": "stream",
          "name": "stdout",
          "text": [
            "Mounted at /content/drive\n",
            "--2022-04-24 08:43:48--  https://raw.githubusercontent.com/PashaIanko/Semi-Supervised-Labelling/master/BCGDSolver.py\n",
            "Resolving raw.githubusercontent.com (raw.githubusercontent.com)... 185.199.108.133, 185.199.109.133, 185.199.110.133, ...\n",
            "Connecting to raw.githubusercontent.com (raw.githubusercontent.com)|185.199.108.133|:443... connected.\n",
            "HTTP request sent, awaiting response... 200 OK\n",
            "Length: 3337 (3.3K) [text/plain]\n",
            "Saving to: ‘BCGDSolver.py’\n",
            "\n",
            "BCGDSolver.py       100%[===================>]   3.26K  --.-KB/s    in 0s      \n",
            "\n",
            "2022-04-24 08:43:48 (31.5 MB/s) - ‘BCGDSolver.py’ saved [3337/3337]\n",
            "\n",
            "--2022-04-24 08:43:48--  http://bcgdsolver.py/\n",
            "Resolving bcgdsolver.py (bcgdsolver.py)... failed: Name or service not known.\n",
            "wget: unable to resolve host address ‘bcgdsolver.py’\n",
            "FINISHED --2022-04-24 08:43:48--\n",
            "Total wall clock time: 0.6s\n",
            "Downloaded: 1 files, 3.3K in 0s (31.5 MB/s)\n",
            "--2022-04-24 08:43:48--  https://raw.githubusercontent.com/PashaIanko/Semi-Supervised-Labelling/master/DataProperties.py\n",
            "Resolving raw.githubusercontent.com (raw.githubusercontent.com)... 185.199.108.133, 185.199.109.133, 185.199.110.133, ...\n",
            "Connecting to raw.githubusercontent.com (raw.githubusercontent.com)|185.199.108.133|:443... connected.\n",
            "HTTP request sent, awaiting response... 200 OK\n",
            "Length: 176 [text/plain]\n",
            "Saving to: ‘DataProperties.py’\n",
            "\n",
            "DataProperties.py   100%[===================>]     176  --.-KB/s    in 0s      \n",
            "\n",
            "2022-04-24 08:43:49 (8.61 MB/s) - ‘DataProperties.py’ saved [176/176]\n",
            "\n",
            "--2022-04-24 08:43:49--  http://dataproperties.py/\n",
            "Resolving dataproperties.py (dataproperties.py)... failed: Name or service not known.\n",
            "wget: unable to resolve host address ‘dataproperties.py’\n",
            "FINISHED --2022-04-24 08:43:49--\n",
            "Total wall clock time: 0.4s\n",
            "Downloaded: 1 files, 176 in 0s (8.61 MB/s)\n",
            "--2022-04-24 08:43:49--  https://raw.githubusercontent.com/PashaIanko/Semi-Supervised-Labelling/master/GradientDescentSolver.py\n",
            "Resolving raw.githubusercontent.com (raw.githubusercontent.com)... 185.199.108.133, 185.199.109.133, 185.199.110.133, ...\n",
            "Connecting to raw.githubusercontent.com (raw.githubusercontent.com)|185.199.108.133|:443... connected.\n",
            "HTTP request sent, awaiting response... 200 OK\n",
            "Length: 1534 (1.5K) [text/plain]\n",
            "Saving to: ‘GradientDescentSolver.py’\n",
            "\n",
            "GradientDescentSolv 100%[===================>]   1.50K  --.-KB/s    in 0s      \n",
            "\n",
            "2022-04-24 08:43:49 (13.0 MB/s) - ‘GradientDescentSolver.py’ saved [1534/1534]\n",
            "\n",
            "--2022-04-24 08:43:49--  http://gradientdescentsolver.py/\n",
            "Resolving gradientdescentsolver.py (gradientdescentsolver.py)... failed: Name or service not known.\n",
            "wget: unable to resolve host address ‘gradientdescentsolver.py’\n",
            "FINISHED --2022-04-24 08:43:50--\n",
            "Total wall clock time: 0.7s\n",
            "Downloaded: 1 files, 1.5K in 0s (13.0 MB/s)\n",
            "--2022-04-24 08:43:50--  https://raw.githubusercontent.com/PashaIanko/Semi-Supervised-Labelling/master/GradientSolver.py\n",
            "Resolving raw.githubusercontent.com (raw.githubusercontent.com)... 185.199.110.133, 185.199.108.133, 185.199.109.133, ...\n",
            "Connecting to raw.githubusercontent.com (raw.githubusercontent.com)|185.199.110.133|:443... connected.\n",
            "HTTP request sent, awaiting response... 200 OK\n",
            "Length: 2790 (2.7K) [text/plain]\n",
            "Saving to: ‘GradientSolver.py’\n",
            "\n",
            "GradientSolver.py   100%[===================>]   2.72K  --.-KB/s    in 0s      \n",
            "\n",
            "2022-04-24 08:43:50 (17.7 MB/s) - ‘GradientSolver.py’ saved [2790/2790]\n",
            "\n",
            "--2022-04-24 08:43:50--  http://gradientsolver.py/\n",
            "Resolving gradientsolver.py (gradientsolver.py)... failed: Name or service not known.\n",
            "wget: unable to resolve host address ‘gradientsolver.py’\n",
            "FINISHED --2022-04-24 08:43:50--\n",
            "Total wall clock time: 0.4s\n",
            "Downloaded: 1 files, 2.7K in 0s (17.7 MB/s)\n",
            "--2022-04-24 08:43:50--  https://raw.githubusercontent.com/PashaIanko/Semi-Supervised-Labelling/master/Utils.py\n",
            "Resolving raw.githubusercontent.com (raw.githubusercontent.com)... 185.199.108.133, 185.199.109.133, 185.199.110.133, ...\n",
            "Connecting to raw.githubusercontent.com (raw.githubusercontent.com)|185.199.108.133|:443... connected.\n",
            "HTTP request sent, awaiting response... 200 OK\n",
            "Length: 1402 (1.4K) [text/plain]\n",
            "Saving to: ‘Utils.py’\n",
            "\n",
            "Utils.py            100%[===================>]   1.37K  --.-KB/s    in 0s      \n",
            "\n",
            "2022-04-24 08:43:51 (12.2 MB/s) - ‘Utils.py’ saved [1402/1402]\n",
            "\n",
            "--2022-04-24 08:43:51--  http://utils.py/\n",
            "Resolving utils.py (utils.py)... failed: Name or service not known.\n",
            "wget: unable to resolve host address ‘utils.py’\n",
            "FINISHED --2022-04-24 08:43:51--\n",
            "Total wall clock time: 0.4s\n",
            "Downloaded: 1 files, 1.4K in 0s (12.2 MB/s)\n"
          ]
        }
      ]
    },
    {
      "cell_type": "code",
      "execution_count": 3,
      "metadata": {
        "id": "2N9xcpuXji8g"
      },
      "outputs": [],
      "source": [
        "from sklearn.datasets import make_blobs\n",
        "import numpy as np\n",
        "\n",
        "from sklearn import datasets\n",
        "from sklearn.metrics import accuracy_score\n",
        "import pandas as pd\n",
        "import timeit\n",
        "\n",
        "# Plotting\n",
        "import matplotlib.pyplot as plt\n",
        "\n",
        "\n"
      ]
    },
    {
      "cell_type": "code",
      "execution_count": 4,
      "metadata": {
        "id": "_t8si-IGji8g"
      },
      "outputs": [],
      "source": [
        "import Utils\n",
        "import GradientSolver\n",
        "import GradientDescentSolver\n",
        "import DataProperties\n",
        "import BCGDSolver\n",
        "import importlib\n",
        "\n",
        "def reload_all(modules_list):\n",
        "    for module in modules_list:\n",
        "        importlib.reload(module)\n",
        "\n",
        "reload_all(\n",
        "    [\n",
        "        Utils,\n",
        "        GradientSolver,\n",
        "        GradientDescentSolver,\n",
        "        DataProperties,\n",
        "        BCGDSolver\n",
        "    ]\n",
        ")\n",
        "\n",
        "from Utils import *\n",
        "from GradientSolver import GradientSolver\n",
        "from GradientDescentSolver import GradientDescentSolver\n",
        "from DataProperties import DataProperties\n",
        "from BCGDSolver import BCGDSolver"
      ]
    },
    {
      "cell_type": "markdown",
      "metadata": {
        "id": "d_yGB-zWji8e"
      },
      "source": [
        "# Data preparation"
      ]
    },
    {
      "cell_type": "code",
      "execution_count": 9,
      "metadata": {
        "id": "fjGFGUL5ji8f"
      },
      "outputs": [],
      "source": [
        "# Fix states\n",
        "sklearn_random_state = 42\n",
        "numpy_seed = 42\n",
        "\n",
        "np.random.seed(numpy_seed)"
      ]
    },
    {
      "cell_type": "code",
      "execution_count": 10,
      "metadata": {
        "id": "ba7q6jrYji8h",
        "outputId": "ae5bdf95-f6ba-411b-cb05-b24664176e83",
        "colab": {
          "base_uri": "https://localhost:8080/",
          "height": 0
        }
      },
      "outputs": [
        {
          "output_type": "stream",
          "name": "stdout",
          "text": [
            "Data shape: X: (50, 2), Y: (50,)\n"
          ]
        },
        {
          "output_type": "display_data",
          "data": {
            "text/plain": [
              "<Figure size 432x288 with 1 Axes>"
            ],
            "image/png": "[encoded data removed]"
          },
          "metadata": {
            "needs_background": "light"
          }
        }
      ],
      "source": [
        "X, Y = make_blobs(\n",
        "    n_samples = DataProperties.n_samples,\n",
        "    centers = DataProperties.n_clusters,\n",
        "    n_features = DataProperties.n_dims,\n",
        "    random_state = sklearn_random_state\n",
        ")\n",
        "Y = Y.astype('float64')\n",
        "clusters = np.unique(Y)\n",
        "\n",
        "print(f'Data shape: X: {X.shape}, Y: {Y.shape}')\n",
        "plot_clusters(X, Y)"
      ]
    },
    {
      "cell_type": "markdown",
      "metadata": {
        "id": "3euoJu6uji8i"
      },
      "source": [
        "## Unlabel subset and visualize"
      ]
    },
    {
      "cell_type": "code",
      "execution_count": 11,
      "metadata": {
        "id": "Q_Gd7FQhji8j",
        "outputId": "e0638922-7c24-4124-ab0f-622c3299cfc4",
        "colab": {
          "base_uri": "https://localhost:8080/",
          "height": 0
        }
      },
      "outputs": [
        {
          "output_type": "stream",
          "name": "stdout",
          "text": [
            "Found 25 instances of object 0.0\n",
            "We have to delabel 23 instances\n",
            "Found 25 instances of object 1.0\n",
            "We have to delabel 23 instances\n",
            "\n",
            "    We have 46 unlabeled data\n",
            "    Out of 50\n",
            "    \n"
          ]
        },
        {
          "output_type": "display_data",
          "data": {
            "text/plain": [
              "<Figure size 432x288 with 1 Axes>"
            ],
            "image/png": "[encoded data removed]"
          },
          "metadata": {
            "needs_background": "light"
          }
        }
      ],
      "source": [
        "Y_delabeled = delabel_data(\n",
        "    Y,\n",
        "    labeled_percent = DataProperties.labeled_percentage,\n",
        "    delabel_value = DataProperties.unlabeled\n",
        ")\n",
        "\n",
        "print(\n",
        "    f'''\n",
        "    We have {len(Y_delabeled[Y_delabeled == DataProperties.unlabeled])} unlabeled data\n",
        "    Out of {len(Y_delabeled)}\n",
        "    '''\n",
        ")\n",
        "\n",
        "plot_clusters(X, Y_delabeled)"
      ]
    },
    {
      "cell_type": "markdown",
      "metadata": {
        "id": "kXobOU1Oji8j"
      },
      "source": [
        "- Up to now, we have the clustered data, saved correct labelling (Y) and delabelled data (Y_delabelled)\n",
        "- For the unlabelled y variables, the loss function depends on the (y_1, ..., y_U) unlabeled parameters. Each of the\n",
        "parameters is independent on others, and can be 0 or 1 (for **binary clustering problem**). This is why we will be searching\n",
        "for **optimal solution in the R^(U)** space, which yields minimum to the **loss function**"
      ]
    },
    {
      "cell_type": "code",
      "execution_count": 12,
      "metadata": {
        "id": "8bywWUfPji8k"
      },
      "outputs": [],
      "source": [
        "import collections\n",
        "class_stats = collections.Counter(Y_delabeled)\n",
        "assert(len(class_stats.keys()) == 3)  # 2 labeled classes and 1 unlabeled"
      ]
    },
    {
      "cell_type": "markdown",
      "source": [
        "# Gradient descent"
      ],
      "metadata": {
        "id": "a8p9YRMLnWHy"
      }
    },
    {
      "cell_type": "code",
      "execution_count": null,
      "metadata": {
        "id": "hYtCWDXkji8k"
      },
      "outputs": [],
      "source": [
        "solver = GradientDescentSolver(\n",
        "    similarity_func = None, # euclidian_similarity,\n",
        "    lr_strategy = 'lr_constant',  # search for alpha_k\n",
        "    learning_rate = 0.001\n",
        ")"
      ]
    },
    {
      "cell_type": "code",
      "execution_count": null,
      "metadata": {
        "id": "ovZHhdxkji8l",
        "outputId": "8e017268-b22b-49ef-9eac-5252106762d3",
        "colab": {
          "base_uri": "https://localhost:8080/"
        }
      },
      "outputs": [
        {
          "output_type": "stream",
          "name": "stdout",
          "text": [
            "Loss: 25.133279635517184, delta loss: 25.133279635517184\n",
            "Loss: 24.692046825881985, delta loss: 0.4412328096351992\n",
            "Loss: 24.298667083853772, delta loss: 0.3933797420282126\n",
            "Loss: 23.94673438446902, delta loss: 0.3519326993847507\n",
            "Loss: 23.63077100177023, delta loss: 0.31596338269879\n",
            "Loss: 23.346088146351793, delta loss: 0.2846828554184384\n",
            "Loss: 23.08866792244849, delta loss: 0.25742022390330277\n",
            "Loss: 22.855063307403576, delta loss: 0.23360461504491425\n",
            "Loss: 22.642313369598728, delta loss: 0.21274993780484763\n",
            "Loss: 22.447871373983205, delta loss: 0.19444199561552367\n",
            "Loss: 22.269543789721443, delta loss: 0.17832758426176198\n",
            "Loss: 22.105438522836014, delta loss: 0.1641052668854286\n",
            "Loss: 21.953920956937267, delta loss: 0.15151756589874665\n",
            "Loss: 21.8135766047739, delta loss: 0.1403443521633676\n",
            "Loss: 21.683179358736666, delta loss: 0.13039724603723357\n",
            "Loss: 21.561664484968123, delta loss: 0.1215148737685432\n",
            "Loss: 21.448105637880257, delta loss: 0.1135588470878659\n",
            "Loss: 21.34169528348301, delta loss: 0.10641035439724789\n",
            "Loss: 21.241728014166522, delta loss: 0.0999672693164868\n",
            "Loss: 21.147586317201903, delta loss: 0.09414169696461983\n",
            "Loss: 21.058728426467432, delta loss: 0.08885789073447015\n",
            "Loss: 20.97467794374997, delta loss: 0.08405048271746196\n",
            "Loss: 20.895014963995308, delta loss: 0.07966297975466219\n",
            "Loss: 20.819368479473873, delta loss: 0.0756464845214353\n",
            "Loss: 20.747409872164365, delta loss: 0.07195860730950798\n",
            "Loss: 20.678847332673815, delta loss: 0.06856253949055002\n",
            "Loss: 20.61342106857415, delta loss: 0.06542626409966346\n",
            "Loss: 20.550899185804088, delta loss: 0.06252188277006354\n",
            "Loss: 20.491074144368792, delta loss: 0.0598250414352961\n",
            "Loss: 20.433759704453585, delta loss: 0.05731443991520635\n",
            "Loss: 20.37878829167126, delta loss: 0.05497141278232576\n",
            "Loss: 20.32600872083984, delta loss: 0.05277957083141871\n",
            "Loss: 20.275284226733735, delta loss: 0.05072449410610602\n",
            "Loss: 20.226490757923436, delta loss: 0.04879346881029889\n",
            "Loss: 20.179515496323074, delta loss: 0.04697526160036247\n",
            "Loss: 20.13425557057946, delta loss: 0.045259925743614815\n",
            "Loss: 20.090616936127425, delta loss: 0.04363863445203364\n",
            "Loss: 20.048513398706724, delta loss: 0.04210353742070083\n",
            "Loss: 20.00786576152116, delta loss: 0.04064763718556463\n",
            "Loss: 19.968601079090252, delta loss: 0.03926468243090753\n",
            "Loss: 19.930652003286887, delta loss: 0.03794907580336471\n",
            "Loss: 19.89395620913876, delta loss: 0.03669579414812674\n",
            "Loss: 19.858455889734323, delta loss: 0.035500319404437874\n",
            "Loss: 19.8240973110938, delta loss: 0.03435857864052139\n",
            "Loss: 19.790830419142846, delta loss: 0.03326689195095511\n",
            "Loss: 19.758608492031698, delta loss: 0.032221927111148574\n",
            "Loss: 19.727387831978277, delta loss: 0.031220660053421057\n",
            "Loss: 19.697127491615085, delta loss: 0.03026034036319203\n",
            "Loss: 19.66778903050768, delta loss: 0.0293384611074039\n",
            "Loss: 19.639336298099895, delta loss: 0.028452732407785675\n",
            "Loss: 19.611735239840964, delta loss: 0.027601058258930777\n",
            "Loss: 19.58495372368745, delta loss: 0.026781516153516094\n",
            "Loss: 19.55896138453914, delta loss: 0.025992339148309895\n",
            "Loss: 19.533729484490888, delta loss: 0.02523190004825082\n",
            "Loss: 19.509230787052346, delta loss: 0.02449869743854194\n",
            "Loss: 19.485439443730176, delta loss: 0.023791343322169922\n",
            "Loss: 19.462330891564193, delta loss: 0.023108552165982843\n",
            "Loss: 19.43988176039355, delta loss: 0.02244913117064229\n",
            "Loss: 19.418069788774435, delta loss: 0.02181197161911541\n",
            "Loss: 19.396873747606037, delta loss: 0.02119604116839824\n"
          ]
        }
      ],
      "source": [
        "Y_preds_GD = solver.solve(\n",
        "    X,\n",
        "    Y_delabeled,\n",
        "    iter_limit = 60,\n",
        "    delta_loss_limit = 0.001\n",
        ")"
      ]
    },
    {
      "cell_type": "code",
      "execution_count": null,
      "metadata": {
        "id": "RNwF4Xw1ji8l",
        "outputId": "3bdf152d-fe6f-4fff-cc1e-381c4335f03a",
        "colab": {
          "base_uri": "https://localhost:8080/",
          "height": 530
        }
      },
      "outputs": [
        {
          "output_type": "stream",
          "name": "stdout",
          "text": [
            "Accuracy: 1.0\n"
          ]
        },
        {
          "output_type": "display_data",
          "data": {
            "text/plain": [
              "<Figure size 432x288 with 1 Axes>"
            ],
            "image/png": "[encoded data removed]"
          },
          "metadata": {
            "needs_background": "light"
          }
        },
        {
          "output_type": "display_data",
          "data": {
            "text/plain": [
              "<Figure size 432x288 with 1 Axes>"
            ],
            "image/png": "[encoded data removed]"
          },
          "metadata": {
            "needs_background": "light"
          }
        }
      ],
      "source": [
        "plot_clusters(X, Y)\n",
        "plot_clusters(X, Y_preds_GD)\n",
        "print(f'Accuracy: {accuracy_score(Y, Y_preds_GD)}')"
      ]
    },
    {
      "cell_type": "code",
      "execution_count": null,
      "metadata": {
        "id": "kkBkvHBUji8m",
        "outputId": "c6602995-3fea-47d0-e74d-44e924c3fa44",
        "colab": {
          "base_uri": "https://localhost:8080/",
          "height": 265
        }
      },
      "outputs": [
        {
          "output_type": "display_data",
          "data": {
            "text/plain": [
              "<Figure size 432x288 with 1 Axes>"
            ],
            "image/png": "[encoded data removed]"
          },
          "metadata": {
            "needs_background": "light"
          }
        }
      ],
      "source": [
        "plt.plot(solver.losses, marker = 'o')\n",
        "plt.grid()"
      ]
    },
    {
      "cell_type": "markdown",
      "metadata": {
        "id": "GP5tfHQAji8m"
      },
      "source": [
        "# Block coordinates gradient descent (randomized)"
      ]
    },
    {
      "cell_type": "markdown",
      "metadata": {
        "id": "cCyQ8hkUji8m"
      },
      "source": [
        "## BCGD random permutations"
      ]
    },
    {
      "cell_type": "code",
      "execution_count": null,
      "metadata": {
        "id": "4-b49qQUji8n"
      },
      "outputs": [],
      "source": [
        "random_solver = BCGDSolver(\n",
        "    lr_strategy = 'lr_constant',\n",
        "    learning_rate = 0.001,\n",
        "    similarity_func = None,\n",
        "\n",
        "    bcgd_strategy = 'random permutation',\n",
        ")"
      ]
    },
    {
      "cell_type": "code",
      "execution_count": null,
      "metadata": {
        "id": "DcYrVUNwji8n",
        "outputId": "f4a72f94-4000-4b93-e90a-c4430c0780e2",
        "colab": {
          "base_uri": "https://localhost:8080/"
        }
      },
      "outputs": [
        {
          "output_type": "stream",
          "name": "stdout",
          "text": [
            "LOSS: 25.133279635517184, Delta: 25.133279635517184\n",
            "LOSS: 24.688928750090955, Delta: 0.44435088542622836\n",
            "LOSS: 24.292725580060836, Delta: 0.3962031700301196\n",
            "LOSS: 23.93822644247524, Delta: 0.35449913758559504\n",
            "LOSS: 23.619920152143496, Delta: 0.3183062903317442\n",
            "LOSS: 23.333126971203544, Delta: 0.2867931809399522\n",
            "LOSS: 23.07386347502288, Delta: 0.25926349618066524\n",
            "LOSS: 22.83861299299209, Delta: 0.23525048203078924\n",
            "LOSS: 22.624349392595477, Delta: 0.21426360039661319\n",
            "LOSS: 22.42852676341245, Delta: 0.19582262918302717\n",
            "LOSS: 22.248947605654802, Delta: 0.17957915775764732\n",
            "LOSS: 22.083713921282524, Delta: 0.1652336843722786\n",
            "LOSS: 21.931181217513227, Delta: 0.15253270376929606\n",
            "LOSS: 21.789917954998117, Delta: 0.14126326251511045\n",
            "LOSS: 21.65871223556772, Delta: 0.1312057194303975\n",
            "LOSS: 21.536506140712113, Delta: 0.1222060948556063\n",
            "LOSS: 21.422344619116146, Delta: 0.11416152159596749\n",
            "LOSS: 21.315401594228238, Delta: 0.10694302488790797\n",
            "LOSS: 21.21497428270711, Delta: 0.10042731152112694\n",
            "LOSS: 21.12043697262195, Delta: 0.09453731008516186\n",
            "LOSS: 21.031242213052856, Delta: 0.08919475956909295\n",
            "LOSS: 20.946908830955064, Delta: 0.08433338209779251\n",
            "LOSS: 20.867012581810513, Delta: 0.07989624914455007\n",
            "LOSS: 20.79117879712559, Delta: 0.07583378468492441\n",
            "LOSS: 20.71907083249581, Delta: 0.07210796462977953\n",
            "LOSS: 20.650390010805502, Delta: 0.06868082169030743\n",
            "LOSS: 20.58487869546624, Delta: 0.06551131533926124\n",
            "LOSS: 20.522302622407192, Delta: 0.06257607305904855\n",
            "LOSS: 20.46245086536246, Delta: 0.05985175704473278\n",
            "LOSS: 20.405131571514072, Delta: 0.057319293848387076\n",
            "LOSS: 20.350174682752606, Delta: 0.05495688876146687\n",
            "LOSS: 20.29742752486282, Delta: 0.05274715788978668\n",
            "LOSS: 20.246755681560963, Delta: 0.050671843301856256\n",
            "LOSS: 20.198032461957858, Delta: 0.04872321960310444\n",
            "LOSS: 20.151142547209282, Delta: 0.046889914748575734\n",
            "LOSS: 20.105982332337778, Delta: 0.04516021487150468\n",
            "LOSS: 20.062458212152013, Delta: 0.043524120185765014\n",
            "LOSS: 20.02048132397766, Delta: 0.04197688817435363\n",
            "LOSS: 19.97997119328431, Delta: 0.040510130693348856\n",
            "LOSS: 19.940853348743037, Delta: 0.03911784454127343\n",
            "LOSS: 19.903061107743007, Delta: 0.0377922410000302\n",
            "LOSS: 19.866532165512346, Delta: 0.03652894223066028\n",
            "LOSS: 19.831207788640288, Delta: 0.03532437687205814\n",
            "LOSS: 19.797032701971375, Delta: 0.034175086668913224\n",
            "LOSS: 19.763956568143954, Delta: 0.03307613382742147\n",
            "LOSS: 19.731933351229927, Delta: 0.032023216914026875\n",
            "LOSS: 19.70091942672138, Delta: 0.031013924508545898\n",
            "LOSS: 19.670873020111863, Delta: 0.030046406609518073\n",
            "LOSS: 19.641755289521992, Delta: 0.02911773058987066\n",
            "LOSS: 19.61352923873774, Delta: 0.028226050784251555\n"
          ]
        }
      ],
      "source": [
        "Y_preds_BCGD_permutation = random_solver.solve(\n",
        "    X,\n",
        "    Y_delabeled,\n",
        "    iter_limit = 50,\n",
        "    delta_loss_limit = 0.008\n",
        ")"
      ]
    },
    {
      "cell_type": "code",
      "execution_count": null,
      "metadata": {
        "id": "6KwW3-WNji8n",
        "outputId": "164ff5d2-f3e2-43aa-bcbc-ede435e40654",
        "colab": {
          "base_uri": "https://localhost:8080/",
          "height": 530
        }
      },
      "outputs": [
        {
          "output_type": "stream",
          "name": "stdout",
          "text": [
            "Accuracy: 1.0\n"
          ]
        },
        {
          "output_type": "display_data",
          "data": {
            "text/plain": [
              "<Figure size 432x288 with 1 Axes>"
            ],
            "image/png": "[encoded data removed]"
          },
          "metadata": {
            "needs_background": "light"
          }
        },
        {
          "output_type": "display_data",
          "data": {
            "text/plain": [
              "<Figure size 432x288 with 1 Axes>"
            ],
            "image/png": "[encoded data removed]"
          },
          "metadata": {
            "needs_background": "light"
          }
        }
      ],
      "source": [
        "plot_clusters(X, Y)\n",
        "plot_clusters(X, Y_preds_BCGD_permutation)\n",
        "print(f'Accuracy: {accuracy_score(Y, Y_preds_BCGD_permutation)}')"
      ]
    },
    {
      "cell_type": "code",
      "execution_count": null,
      "metadata": {
        "id": "RJVEaOaBji8n",
        "outputId": "e9d4f317-c864-4358-bcec-df1f594d4eb8",
        "colab": {
          "base_uri": "https://localhost:8080/",
          "height": 265
        }
      },
      "outputs": [
        {
          "output_type": "display_data",
          "data": {
            "text/plain": [
              "<Figure size 432x288 with 1 Axes>"
            ],
            "image/png": "[encoded data removed]"
          },
          "metadata": {
            "needs_background": "light"
          }
        }
      ],
      "source": [
        "plt.plot(random_solver.losses, marker = 'o')\n",
        "plt.grid()"
      ]
    },
    {
      "cell_type": "markdown",
      "metadata": {
        "id": "H3EP1xPTji8o"
      },
      "source": [
        "## BCGD random sampling"
      ]
    },
    {
      "cell_type": "code",
      "execution_count": null,
      "metadata": {
        "id": "Np9yEf8Qji8o"
      },
      "outputs": [],
      "source": [
        "BCGD_RS_solver = BCGDSolver(\n",
        "    lr_strategy = 'lr_constant',\n",
        "    learning_rate = 0.0001,\n",
        "    similarity_func = None,\n",
        "\n",
        "    bcgd_strategy = 'random sampling'\n",
        ")"
      ]
    },
    {
      "cell_type": "code",
      "execution_count": null,
      "metadata": {
        "id": "d7DWIY39ji8o",
        "outputId": "e43c49d8-d939-4997-c622-ee10f3e11a1f",
        "colab": {
          "base_uri": "https://localhost:8080/"
        }
      },
      "outputs": [
        {
          "output_type": "stream",
          "name": "stdout",
          "text": [
            "LOSS: 25.133279635517184, Delta: 25.133279635517184\n",
            "LOSS: 25.133215109090905, Delta: 6.45264262786327e-05\n",
            "LOSS: 25.13256666219017, Delta: 0.0006484469007332905\n",
            "LOSS: 25.099869719395276, Delta: 0.03269694279489599\n",
            "LOSS: 25.099805750890532, Delta: 6.396850474388316e-05\n",
            "LOSS: 25.099771772874846, Delta: 3.39780156863867e-05\n",
            "LOSS: 25.099675138870648, Delta: 9.663400419768209e-05\n",
            "LOSS: 25.09896068912124, Delta: 0.0007144497494095958\n",
            "LOSS: 25.098922576640916, Delta: 3.811248032192793e-05\n",
            "LOSS: 25.098352798218713, Delta: 0.0005697784222036262\n",
            "LOSS: 25.09550412269759, Delta: 0.0028486755211218906\n",
            "LOSS: 25.095335737952663, Delta: 0.00016838474492786304\n",
            "LOSS: 25.09530554641377, Delta: 3.0191538893831193e-05\n",
            "LOSS: 25.09518866551404, Delta: 0.0001168808997284998\n",
            "LOSS: 25.094481324232788, Delta: 0.0007073412812523827\n",
            "LOSS: 25.094370656073647, Delta: 0.00011066815914162476\n",
            "LOSS: 25.094261503096664, Delta: 0.00010915297698232962\n",
            "LOSS: 25.094128779599085, Delta: 0.00013272349757897928\n",
            "LOSS: 25.093805898863135, Delta: 0.0003228807359505481\n",
            "LOSS: 25.061592069940506, Delta: 0.03221382892262881\n",
            "LOSS: 25.06149583725893, Delta: 9.623268157454845e-05\n",
            "LOSS: 25.05865637947239, Delta: 0.0028394577865427095\n",
            "LOSS: 25.05814021843224, Delta: 0.0005161610401493988\n",
            "LOSS: 25.05775916257389, Delta: 0.0003810558583481338\n",
            "LOSS: 25.05772005933047, Delta: 3.9103243420157696e-05\n",
            "LOSS: 25.057686087192497, Delta: 3.3972137973847794e-05\n",
            "LOSS: 25.05748434973875, Delta: 0.000201737453746631\n",
            "LOSS: 25.057222915992735, Delta: 0.00026143374601517166\n",
            "LOSS: 25.057011842866086, Delta: 0.00021107312664980782\n",
            "LOSS: 25.056974769856087, Delta: 3.707300999877816e-05\n",
            "LOSS: 25.055927815090488, Delta: 0.0010469547655986844\n",
            "LOSS: 25.05572872748374, Delta: 0.00019908760674880455\n",
            "LOSS: 25.055610718555556, Delta: 0.00011800892818314423\n",
            "LOSS: 25.055567032855418, Delta: 4.368570013824069e-05\n",
            "LOSS: 25.055450471249483, Delta: 0.00011656160593531695\n",
            "LOSS: 25.055362353871093, Delta: 8.811737838954059e-05\n",
            "LOSS: 25.055324116989205, Delta: 3.8236881888309426e-05\n",
            "LOSS: 25.055127866312755, Delta: 0.00019625067644923888\n",
            "LOSS: 25.055079861801484, Delta: 4.800451127096039e-05\n",
            "LOSS: 25.054569132988117, Delta: 0.0005107288133672228\n",
            "LOSS: 25.054382523124797, Delta: 0.00018660986332008633\n",
            "LOSS: 25.053913688630907, Delta: 0.00046883449389056864\n",
            "LOSS: 25.053774202961705, Delta: 0.0001394856692016333\n",
            "LOSS: 25.053710124442805, Delta: 6.407851889989047e-05\n",
            "LOSS: 25.05351639800884, Delta: 0.00019372643396664557\n",
            "LOSS: 25.053099317178507, Delta: 0.00041708083033142884\n",
            "LOSS: 25.052720489693954, Delta: 0.0003788274845533124\n",
            "LOSS: 25.052551144831618, Delta: 0.00016934486233566304\n",
            "LOSS: 25.052499251729415, Delta: 5.1893102202882346e-05\n",
            "LOSS: 25.05246437729334, Delta: 3.487443607497198e-05\n",
            "LOSS: 25.05227252544465, Delta: 0.00019185184869030536\n",
            "LOSS: 25.05225790172903, Delta: 1.4623715621553401e-05\n",
            "LOSS: 25.052214252332735, Delta: 4.364939629297737e-05\n",
            "LOSS: 25.052095465697676, Delta: 0.0001187866350598199\n",
            "LOSS: 25.05105658328534, Delta: 0.0010388824123346296\n",
            "LOSS: 25.050871000399464, Delta: 0.00018558288587655625\n",
            "LOSS: 25.019131564147763, Delta: 0.03173943625170139\n",
            "LOSS: 25.019021957255628, Delta: 0.00010960689213490582\n",
            "LOSS: 25.018982835490252, Delta: 3.912176537568257e-05\n",
            "LOSS: 25.018865191789818, Delta: 0.00011764370043465533\n",
            "LOSS: 24.98761554701234, Delta: 0.03124964477747838\n",
            "LOSS: 24.987602742276785, Delta: 1.2804735554539093e-05\n",
            "LOSS: 24.987558763849766, Delta: 4.397842701919785e-05\n",
            "LOSS: 24.986723478367487, Delta: 0.0008352854822781808\n",
            "LOSS: 24.986671431996808, Delta: 5.2046370679903475e-05\n",
            "LOSS: 24.986627888713535, Delta: 4.354328327238477e-05\n",
            "LOSS: 24.98559992697745, Delta: 0.0010279617360851034\n",
            "LOSS: 24.985388864178663, Delta: 0.00021106279878679857\n",
            "LOSS: 24.985354089197955, Delta: 3.4774980708363046e-05\n",
            "LOSS: 24.985245250033742, Delta: 0.00010883916421278172\n",
            "LOSS: 24.984844463439217, Delta: 0.0004007865945254707\n",
            "LOSS: 24.98401699289119, Delta: 0.0008274705480282307\n",
            "LOSS: 24.98398266101986, Delta: 3.433187132984017e-05\n",
            "LOSS: 24.98333678081278, Delta: 0.0006458802070774539\n",
            "LOSS: 24.983273084110614, Delta: 6.369670216699319e-05\n",
            "LOSS: 24.983178786867622, Delta: 9.42972429918143e-05\n",
            "LOSS: 24.98313964756876, Delta: 3.913929886323331e-05\n",
            "LOSS: 24.98257120420372, Delta: 0.0005684433650401388\n",
            "LOSS: 24.98253256561613, Delta: 3.863858758990091e-05\n",
            "LOSS: 24.98246954009829, Delta: 6.302551783932131e-05\n",
            "LOSS: 24.982208472501394, Delta: 0.00026106759689525916\n",
            "LOSS: 24.982170913107403, Delta: 3.755939399141539e-05\n",
            "LOSS: 24.982127521116755, Delta: 4.3391990647734247e-05\n",
            "LOSS: 24.98203126203574, Delta: 9.625908101540404e-05\n",
            "LOSS: 24.981895979077745, Delta: 0.00013528295799503098\n",
            "LOSS: 24.98186131401553, Delta: 3.4665062216276965e-05\n",
            "LOSS: 24.98183094360774, Delta: 3.0370407788637976e-05\n",
            "LOSS: 24.981268463415354, Delta: 0.0005624801923858058\n",
            "LOSS: 24.98080239898453, Delta: 0.000466064430824531\n",
            "LOSS: 24.98068507841548, Delta: 0.00011732056904989463\n",
            "LOSS: 24.980266858540084, Delta: 0.00041821987539591987\n",
            "LOSS: 24.97980623076192, Delta: 0.00046062777816402445\n",
            "LOSS: 24.978786602381167, Delta: 0.0010196283807530904\n",
            "LOSS: 24.978771807401994, Delta: 1.4794979172449985e-05\n",
            "LOSS: 24.9777625138586, Delta: 0.0010092935433938521\n",
            "LOSS: 24.977725265827907, Delta: 3.724803069360405e-05\n",
            "LOSS: 24.977607326958875, Delta: 0.00011793886903177508\n",
            "LOSS: 24.977421950744024, Delta: 0.0001853762148513738\n",
            "LOSS: 24.977373701416226, Delta: 4.824932779712299e-05\n",
            "LOSS: 24.9773306706543, Delta: 4.3030761926132755e-05\n"
          ]
        }
      ],
      "source": [
        "Y_preds_BCGD_sampling = BCGD_RS_solver.solve(\n",
        "    X = X, \n",
        "    Y = Y_delabeled, \n",
        "    iter_limit = 100,\n",
        "    delta_loss_limit = 0.0\n",
        ")"
      ]
    },
    {
      "cell_type": "code",
      "execution_count": null,
      "metadata": {
        "id": "Hkiavnn4ji8p",
        "outputId": "48b8c06e-5ff7-46dd-c16d-5d73ae6be108",
        "colab": {
          "base_uri": "https://localhost:8080/",
          "height": 282
        }
      },
      "outputs": [
        {
          "output_type": "stream",
          "name": "stdout",
          "text": [
            "Accuracy: 0.96\n"
          ]
        },
        {
          "output_type": "display_data",
          "data": {
            "text/plain": [
              "<Figure size 432x288 with 1 Axes>"
            ],
            "image/png": "[encoded data removed]"
          },
          "metadata": {
            "needs_background": "light"
          }
        }
      ],
      "source": [
        "plot_clusters(\n",
        "    X, Y_preds_BCGD_sampling\n",
        ")\n",
        "print(f'Accuracy: {accuracy_score(Y, Y_preds_BCGD_sampling)}')"
      ]
    },
    {
      "cell_type": "code",
      "execution_count": null,
      "metadata": {
        "id": "QYc5egcOji8p",
        "outputId": "a8e9bc58-48af-48d8-fedf-d3499c8b60f1",
        "colab": {
          "base_uri": "https://localhost:8080/",
          "height": 268
        }
      },
      "outputs": [
        {
          "output_type": "display_data",
          "data": {
            "text/plain": [
              "<Figure size 432x288 with 1 Axes>"
            ],
            "image/png": "[encoded data removed]"
          },
          "metadata": {
            "needs_background": "light"
          }
        }
      ],
      "source": [
        "plt.plot(BCGD_RS_solver.losses)\n",
        "plt.grid()"
      ]
    },
    {
      "cell_type": "markdown",
      "metadata": {
        "id": "AKCfR4boji8p"
      },
      "source": [
        "## BCGD cyclic"
      ]
    },
    {
      "cell_type": "code",
      "execution_count": null,
      "metadata": {
        "id": "9t1zhz2nji8p"
      },
      "outputs": [],
      "source": [
        "BCGD_cyclic_solver = BCGDSolver(\n",
        "    lr_strategy = 'lr_constant',\n",
        "    learning_rate = 0.001,\n",
        "    similarity_func = None,\n",
        "\n",
        "    bcgd_strategy = 'cyclic'\n",
        ")"
      ]
    },
    {
      "cell_type": "code",
      "execution_count": null,
      "metadata": {
        "id": "MTLrf9Hgji8p",
        "outputId": "8d886a1a-78df-4e40-b7ef-eaef7b39d192",
        "colab": {
          "base_uri": "https://localhost:8080/"
        }
      },
      "outputs": [
        {
          "output_type": "stream",
          "name": "stdout",
          "text": [
            "LOSS: 25.133279635517184, Delta: 25.133279635517184\n",
            "LOSS: 24.688868015546948, Delta: 0.4444116199702357\n",
            "LOSS: 24.292568602572377, Delta: 0.39629941297457094\n",
            "LOSS: 23.93796895469215, Delta: 0.354599647880228\n",
            "LOSS: 23.619581106339318, Delta: 0.31838784835283107\n",
            "LOSS: 23.332703530945338, Delta: 0.28687757539398007\n",
            "LOSS: 23.073304105379844, Delta: 0.2593994255654941\n",
            "LOSS: 22.83792084542067, Delta: 0.23538325995917475\n",
            "LOSS: 22.623577681859683, Delta: 0.21434316356098648\n",
            "LOSS: 22.427712969374213, Delta: 0.19586471248547\n",
            "LOSS: 22.248118777142274, Delta: 0.17959419223193862\n",
            "LOSS: 22.082889311591394, Delta: 0.1652294655508797\n",
            "LOSS: 21.930377076276837, Delta: 0.15251223531455693\n",
            "LOSS: 21.78915558898645, Delta: 0.14122148729038742\n",
            "LOSS: 21.657987657902584, Delta: 0.1311679310838656\n",
            "LOSS: 21.53579837222916, Delta: 0.12218928567342502\n",
            "LOSS: 21.42165209247579, Delta: 0.11414627975337055\n",
            "LOSS: 21.314732835299225, Delta: 0.10691925717656403\n",
            "LOSS: 21.21432754053694, Delta: 0.10040529476228599\n",
            "LOSS: 21.119811786483844, Delta: 0.09451575405309498\n",
            "LOSS: 21.03063758576808, Delta: 0.08917420071576387\n",
            "LOSS: 20.94632295027074, Delta: 0.0843146354973392\n",
            "LOSS: 20.86644296097117, Delta: 0.0798799892995703\n",
            "LOSS: 20.79062211875423, Delta: 0.07582084221694174\n",
            "LOSS: 20.718527786177948, Delta: 0.07209433257628106\n",
            "LOSS: 20.64986455897096, Delta: 0.06866322720698648\n",
            "LOSS: 20.58436943037331, Delta: 0.06549512859765017\n",
            "LOSS: 20.521807632058092, Delta: 0.06256179831521891\n",
            "LOSS: 20.46196905284869, Delta: 0.05983857920940139\n",
            "LOSS: 20.40466515124335, Delta: 0.05730390160534071\n",
            "LOSS: 20.34972629031846, Delta: 0.054938860924888644\n",
            "LOSS: 20.296999434213777, Delta: 0.05272685610468386\n",
            "LOSS: 20.246346154442087, Delta: 0.05065327977169076\n",
            "LOSS: 20.197640901914145, Delta: 0.04870525252794167\n",
            "LOSS: 20.15076950708154, Delta: 0.046871394832603386\n",
            "LOSS: 20.105627876116333, Delta: 0.04514163096520818\n",
            "LOSS: 20.06212085574345, Delta: 0.04350702037288201\n",
            "LOSS: 20.020161243326967, Delta: 0.04195961241648405\n",
            "LOSS: 19.97966892220314, Delta: 0.04049232112382839\n",
            "LOSS: 19.940570105143223, Delta: 0.0390988170599158\n",
            "LOSS: 19.9027966712804, Delta: 0.03777343386282439\n",
            "LOSS: 19.8662855839347, Delta: 0.036511087345697746\n",
            "LOSS: 19.830978378549027, Delta: 0.03530720538567422\n",
            "LOSS: 19.79682071147381, Delta: 0.034157667075216835\n",
            "LOSS: 19.76376196163536, Delta: 0.033058749838449586\n",
            "LOSS: 19.731754878236778, Delta: 0.03200708339858238\n",
            "LOSS: 19.70075526857927, Delta: 0.030999609657506255\n",
            "LOSS: 19.67072172091627, Delta: 0.03003354766300248\n",
            "LOSS: 19.64161535793494, Delta: 0.029106362981330847\n",
            "LOSS: 19.613399617060654, Delta: 0.028215740874284023\n"
          ]
        }
      ],
      "source": [
        "Y_preds_BCGD_cyclic = BCGD_cyclic_solver.solve(\n",
        "    X,\n",
        "    Y_delabeled, \n",
        "    iter_limit = 50, \n",
        "    delta_loss_limit = 0.0001\n",
        ")"
      ]
    },
    {
      "cell_type": "code",
      "execution_count": null,
      "metadata": {
        "id": "95Q50O22ji8q",
        "outputId": "641c3a44-c0ee-4b9b-c7a2-60c650bf6e59",
        "colab": {
          "base_uri": "https://localhost:8080/",
          "height": 282
        }
      },
      "outputs": [
        {
          "output_type": "stream",
          "name": "stdout",
          "text": [
            "Accuracy: 1.0\n"
          ]
        },
        {
          "output_type": "display_data",
          "data": {
            "text/plain": [
              "<Figure size 432x288 with 1 Axes>"
            ],
            "image/png": "[encoded data removed]"
          },
          "metadata": {
            "needs_background": "light"
          }
        }
      ],
      "source": [
        "print(f'Accuracy: {accuracy_score(Y_preds_BCGD_cyclic, Y)}')\n",
        "plot_clusters(\n",
        "    X, Y_preds_BCGD_cyclic\n",
        ")"
      ]
    },
    {
      "cell_type": "code",
      "execution_count": null,
      "metadata": {
        "id": "lpl60PJgji8q",
        "outputId": "6a739c84-48b4-423d-a867-42688fb18ba5",
        "colab": {
          "base_uri": "https://localhost:8080/"
        }
      },
      "outputs": [
        {
          "output_type": "execute_result",
          "data": {
            "text/plain": [
              "1.0"
            ]
          },
          "metadata": {},
          "execution_count": 50
        }
      ],
      "source": [
        "accuracy_score(Y, Y_preds_BCGD_cyclic)"
      ]
    },
    {
      "cell_type": "code",
      "execution_count": null,
      "metadata": {
        "id": "9w-wKchjji8q",
        "outputId": "bb03f390-a1f6-4ba6-e2d7-3e6a26e781d2",
        "colab": {
          "base_uri": "https://localhost:8080/",
          "height": 265
        }
      },
      "outputs": [
        {
          "output_type": "display_data",
          "data": {
            "text/plain": [
              "<Figure size 432x288 with 1 Axes>"
            ],
            "image/png": "[encoded data removed]"
          },
          "metadata": {
            "needs_background": "light"
          }
        }
      ],
      "source": [
        "plt.plot(BCGD_cyclic_solver.losses, marker = 'o')\n",
        "plt.grid()"
      ]
    },
    {
      "cell_type": "markdown",
      "metadata": {
        "id": "JE0wByBMji8q"
      },
      "source": [
        "# Model comparison"
      ]
    },
    {
      "cell_type": "markdown",
      "metadata": {
        "id": "swRV0Q4jji8q"
      },
      "source": [
        "We will compare models based on:\n",
        "- Clustering metrics\n",
        "- CPU time\n",
        "- Number of iterations\n",
        "- Loss curves\n",
        "- Distance metrics"
      ]
    },
    {
      "cell_type": "code",
      "execution_count": 13,
      "metadata": {
        "id": "1VaNQmYvji8q"
      },
      "outputs": [],
      "source": [
        "learning_rate_strategy = 'lr_constant'\n",
        "simil_func = None  # No feature yet\n",
        "lr = 0.001\n",
        "\n",
        "gd_solver = GradientDescentSolver(\n",
        "    similarity_func = simil_func,\n",
        "    lr_strategy = learning_rate_strategy,\n",
        "    learning_rate = lr\n",
        ")\n",
        "\n",
        "bcgd_permut_solver = BCGDSolver(\n",
        "    lr_strategy = learning_rate_strategy,\n",
        "    learning_rate = lr,\n",
        "    similarity_func = simil_func,\n",
        "    bcgd_strategy = 'random permutation',\n",
        ")\n",
        "\n",
        "bcgd_sampling_solver = BCGDSolver(\n",
        "    lr_strategy = learning_rate_strategy,\n",
        "    learning_rate = lr,\n",
        "    similarity_func = simil_func,\n",
        "    bcgd_strategy = 'random sampling',\n",
        ")\n",
        "\n",
        "bcgd_cyclic_solver = BCGDSolver(\n",
        "    lr_strategy = learning_rate_strategy,\n",
        "    learning_rate = lr,\n",
        "    similarity_func = simil_func,\n",
        "    bcgd_strategy = 'cyclic',\n",
        ")"
      ]
    },
    {
      "cell_type": "code",
      "execution_count": 14,
      "metadata": {
        "id": "qEjgEjiKji8r"
      },
      "outputs": [],
      "source": [
        "solvers = {\n",
        "    'GD': gd_solver,\n",
        "    'BCGD permutation': bcgd_permut_solver,\n",
        "    'BCGD cyclic': bcgd_cyclic_solver,\n",
        "    'BCGD sampling': bcgd_sampling_solver,\n",
        "}"
      ]
    },
    {
      "cell_type": "code",
      "execution_count": 15,
      "metadata": {
        "id": "hcChCMybji8r"
      },
      "outputs": [],
      "source": [
        "def compare_models(solvers_dict, X, Y_delabeled, iters_limit, delta_loss_limit):\n",
        "    predictions = {k:None for k in solvers_dict.keys()}\n",
        "    losses = {k:None for k in solvers_dict.keys()}\n",
        "    n_iterations = {k:None for k in solvers_dict.keys()}\n",
        "    cpu_times = {k:None for k in solvers_dict.keys()}\n",
        "\n",
        "    for model_name, model in solvers_dict.items():\n",
        "        start = timeit.default_timer()\n",
        "        Y_preds = model.solve(\n",
        "            X,\n",
        "            Y_delabeled,\n",
        "            iter_limit = iters_limit,\n",
        "            delta_loss_limit = delta_loss_limit\n",
        "        )\n",
        "        end = timeit.default_timer()\n",
        "        predictions[model_name] = Y_preds\n",
        "        losses[model_name] = model.losses\n",
        "        n_iterations[model_name] = model.n_iterations\n",
        "        cpu_times[model_name] = end - start\n",
        "    \n",
        "    # plot_accuracies(predictions)\n",
        "    # plot_losses(losses)\n",
        "    # plot_iterations(n_iterations)\n",
        "    # plot_cpu_times(cpu_times)\n",
        "\n",
        "    return predictions, losses, n_iterations, cpu_times"
      ]
    },
    {
      "cell_type": "code",
      "execution_count": 16,
      "metadata": {
        "id": "dLm9tU_sji8r",
        "outputId": "2f6b6192-a2d1-49f2-ad4c-2dd83388f779",
        "colab": {
          "base_uri": "https://localhost:8080/"
        }
      },
      "outputs": [
        {
          "output_type": "stream",
          "name": "stdout",
          "text": [
            "with GPU\n",
            "Loss: 25.133279635517184, delta loss: 25.133279635517184\n",
            "Loss: 24.692046825881985, delta loss: 0.4412328096351992\n",
            "Loss: 24.298667083853772, delta loss: 0.3933797420282126\n",
            "Loss: 23.94673438446902, delta loss: 0.3519326993847507\n",
            "Loss: 23.63077100177023, delta loss: 0.31596338269879\n",
            "Loss: 23.346088146351793, delta loss: 0.2846828554184384\n",
            "Loss: 23.08866792244849, delta loss: 0.25742022390330277\n",
            "Loss: 22.855063307403576, delta loss: 0.23360461504491425\n",
            "Loss: 22.642313369598728, delta loss: 0.21274993780484763\n",
            "Loss: 22.447871373983205, delta loss: 0.19444199561552367\n",
            "Loss: 22.269543789721443, delta loss: 0.17832758426176198\n",
            "Loss: 22.105438522836014, delta loss: 0.1641052668854286\n",
            "Loss: 21.953920956937267, delta loss: 0.15151756589874665\n",
            "Loss: 21.8135766047739, delta loss: 0.1403443521633676\n",
            "Loss: 21.683179358736666, delta loss: 0.13039724603723357\n",
            "Loss: 21.561664484968123, delta loss: 0.1215148737685432\n",
            "Loss: 21.448105637880257, delta loss: 0.1135588470878659\n",
            "Loss: 21.34169528348301, delta loss: 0.10641035439724789\n",
            "Loss: 21.241728014166522, delta loss: 0.0999672693164868\n",
            "Loss: 21.147586317201903, delta loss: 0.09414169696461983\n",
            "Loss: 21.058728426467432, delta loss: 0.08885789073447015\n",
            "Loss: 20.97467794374997, delta loss: 0.08405048271746196\n",
            "Loss: 20.895014963995308, delta loss: 0.07966297975466219\n",
            "Loss: 20.819368479473873, delta loss: 0.0756464845214353\n",
            "Loss: 20.747409872164365, delta loss: 0.07195860730950798\n",
            "Loss: 20.678847332673815, delta loss: 0.06856253949055002\n",
            "Loss: 20.61342106857415, delta loss: 0.06542626409966346\n",
            "Loss: 20.550899185804088, delta loss: 0.06252188277006354\n",
            "Loss: 20.491074144368792, delta loss: 0.0598250414352961\n",
            "Loss: 20.433759704453585, delta loss: 0.05731443991520635\n",
            "Loss: 20.37878829167126, delta loss: 0.05497141278232576\n",
            "Loss: 20.32600872083984, delta loss: 0.05277957083141871\n",
            "Loss: 20.275284226733735, delta loss: 0.05072449410610602\n",
            "Loss: 20.226490757923436, delta loss: 0.04879346881029889\n",
            "Loss: 20.179515496323074, delta loss: 0.04697526160036247\n",
            "Loss: 20.13425557057946, delta loss: 0.045259925743614815\n",
            "Loss: 20.090616936127425, delta loss: 0.04363863445203364\n",
            "Loss: 20.048513398706724, delta loss: 0.04210353742070083\n",
            "Loss: 20.00786576152116, delta loss: 0.04064763718556463\n",
            "Loss: 19.968601079090252, delta loss: 0.03926468243090753\n",
            "Loss: 19.930652003286887, delta loss: 0.03794907580336471\n",
            "Loss: 19.89395620913876, delta loss: 0.03669579414812674\n",
            "Loss: 19.858455889734323, delta loss: 0.035500319404437874\n",
            "Loss: 19.8240973110938, delta loss: 0.03435857864052139\n",
            "Loss: 19.790830419142846, delta loss: 0.03326689195095511\n",
            "Loss: 19.758608492031698, delta loss: 0.032221927111148574\n",
            "Loss: 19.727387831978277, delta loss: 0.031220660053421057\n",
            "Loss: 19.697127491615085, delta loss: 0.03026034036319203\n",
            "Loss: 19.66778903050768, delta loss: 0.0293384611074039\n",
            "Loss: 19.639336298099895, delta loss: 0.028452732407785675\n",
            "Loss: 19.611735239840964, delta loss: 0.027601058258930777\n",
            "Loss: 19.58495372368745, delta loss: 0.026781516153516094\n",
            "Loss: 19.55896138453914, delta loss: 0.025992339148309895\n",
            "Loss: 19.533729484490888, delta loss: 0.02523190004825082\n",
            "Loss: 19.509230787052346, delta loss: 0.02449869743854194\n",
            "Loss: 19.485439443730176, delta loss: 0.023791343322169922\n",
            "Loss: 19.462330891564193, delta loss: 0.023108552165982843\n",
            "Loss: 19.43988176039355, delta loss: 0.02244913117064229\n",
            "Loss: 19.418069788774435, delta loss: 0.02181197161911541\n",
            "Loss: 19.396873747606037, delta loss: 0.02119604116839824\n",
            "Loss: 19.376273370636426, delta loss: 0.020600376969611034\n",
            "Loss: 19.356249291118495, delta loss: 0.02002407951793117\n",
            "Loss: 19.33678298397357, delta loss: 0.019466307144924144\n",
            "Loss: 19.31785671289258, delta loss: 0.01892627108098921\n",
            "Loss: 19.299453481876935, delta loss: 0.01840323101564678\n",
            "Loss: 19.281556990769392, delta loss: 0.017896491107542545\n",
            "Loss: 19.264151594385485, delta loss: 0.017405396383907146\n",
            "Loss: 19.247222264892255, delta loss: 0.016929329493230227\n",
            "Loss: 19.230754557121962, delta loss: 0.016467707770292606\n",
            "Loss: 19.21473457654447, delta loss: 0.016019980577492987\n",
            "Loss: 19.19914894965204, delta loss: 0.015585626892427484\n",
            "Loss: 19.183984796527742, delta loss: 0.015164153124299418\n",
            "Loss: 19.169229705408675, delta loss: 0.014755091119067032\n",
            "Loss: 19.154871709057865, delta loss: 0.014357996350810254\n",
            "Loss: 19.14089926278884, delta loss: 0.013972446269026051\n",
            "Loss: 19.12730122399982, delta loss: 0.013598038789019995\n",
            "Loss: 19.114066833085598, delta loss: 0.01323439091422074\n",
            "Loss: 19.10118569561204, delta loss: 0.01288113747355979\n",
            "Loss: 19.088647765648027, delta loss: 0.012537929964011596\n",
            "Loss: 19.07644333016101, delta loss: 0.012204435487017662\n",
            "Loss: 19.064562994384072, delta loss: 0.01188033577693659\n",
            "Loss: 19.05299766808645, delta loss: 0.01156532629762097\n",
            "Loss: 19.041738552666803, delta loss: 0.01125911541964797\n",
            "Loss: 19.03077712901164, delta loss: 0.010961423655164282\n",
            "Loss: 19.020105146057745, delta loss: 0.010671982953894599\n",
            "Loss: 19.009714610005336, delta loss: 0.010390536052408805\n",
            "Loss: 18.99959777413373, delta loss: 0.010116835871606611\n",
            "Loss: 18.98974712917734, delta loss: 0.009850644956390653\n",
            "Loss: 18.980155394217675, delta loss: 0.009591734959663256\n",
            "Loss: 18.97081550805729, delta loss: 0.009339886160386612\n",
            "Loss: 18.961720621041298, delta loss: 0.009094887015990594\n",
            "Loss: 18.952864087295197, delta loss: 0.008856533746101292\n",
            "Loss: 18.944239457351657, delta loss: 0.008624629943540185\n",
            "Loss: 18.935840471136796, delta loss: 0.008398986214860571\n",
            "Loss: 18.927661051297708, delta loss: 0.008179419839088098\n",
            "Loss: 18.919695296844118, delta loss: 0.007965754453589824\n",
            "Loss: 18.911937477085623, delta loss: 0.007757819758495543\n",
            "Loss: 18.904382025848385, delta loss: 0.007555451237237776\n",
            "Loss: 18.89702353594856, delta loss: 0.007358489899825571\n",
            "Loss: 18.889856753912355, delta loss: 0.0071667820362044665\n",
            "LOSS: 25.133279635517184, Delta: 25.133279635517184\n",
            "LOSS: 24.688928750090955, Delta: 0.44435088542622836\n",
            "LOSS: 24.292725580060836, Delta: 0.3962031700301196\n",
            "LOSS: 23.93822644247524, Delta: 0.35449913758559504\n",
            "LOSS: 23.619920152143496, Delta: 0.3183062903317442\n",
            "LOSS: 23.333126971203544, Delta: 0.2867931809399522\n",
            "LOSS: 23.07386347502288, Delta: 0.25926349618066524\n",
            "LOSS: 22.83861299299209, Delta: 0.23525048203078924\n",
            "LOSS: 22.624349392595477, Delta: 0.21426360039661319\n",
            "LOSS: 22.42852676341245, Delta: 0.19582262918302717\n",
            "LOSS: 22.248947605654802, Delta: 0.17957915775764732\n",
            "LOSS: 22.083713921282524, Delta: 0.1652336843722786\n",
            "LOSS: 21.931181217513227, Delta: 0.15253270376929606\n",
            "LOSS: 21.789917954998117, Delta: 0.14126326251511045\n",
            "LOSS: 21.65871223556772, Delta: 0.1312057194303975\n",
            "LOSS: 21.536506140712113, Delta: 0.1222060948556063\n",
            "LOSS: 21.422344619116146, Delta: 0.11416152159596749\n",
            "LOSS: 21.315401594228238, Delta: 0.10694302488790797\n",
            "LOSS: 21.21497428270711, Delta: 0.10042731152112694\n",
            "LOSS: 21.12043697262195, Delta: 0.09453731008516186\n",
            "LOSS: 21.031242213052856, Delta: 0.08919475956909295\n",
            "LOSS: 20.946908830955064, Delta: 0.08433338209779251\n",
            "LOSS: 20.867012581810513, Delta: 0.07989624914455007\n",
            "LOSS: 20.79117879712559, Delta: 0.07583378468492441\n",
            "LOSS: 20.71907083249581, Delta: 0.07210796462977953\n",
            "LOSS: 20.650390010805502, Delta: 0.06868082169030743\n",
            "LOSS: 20.58487869546624, Delta: 0.06551131533926124\n",
            "LOSS: 20.522302622407192, Delta: 0.06257607305904855\n",
            "LOSS: 20.46245086536246, Delta: 0.05985175704473278\n",
            "LOSS: 20.405131571514072, Delta: 0.057319293848387076\n",
            "LOSS: 20.350174682752606, Delta: 0.05495688876146687\n",
            "LOSS: 20.29742752486282, Delta: 0.05274715788978668\n",
            "LOSS: 20.246755681560963, Delta: 0.050671843301856256\n",
            "LOSS: 20.198032461957858, Delta: 0.04872321960310444\n",
            "LOSS: 20.151142547209282, Delta: 0.046889914748575734\n",
            "LOSS: 20.105982332337778, Delta: 0.04516021487150468\n",
            "LOSS: 20.062458212152013, Delta: 0.043524120185765014\n",
            "LOSS: 20.02048132397766, Delta: 0.04197688817435363\n",
            "LOSS: 19.97997119328431, Delta: 0.040510130693348856\n",
            "LOSS: 19.940853348743037, Delta: 0.03911784454127343\n",
            "LOSS: 19.903061107743007, Delta: 0.0377922410000302\n",
            "LOSS: 19.866532165512346, Delta: 0.03652894223066028\n",
            "LOSS: 19.831207788640288, Delta: 0.03532437687205814\n",
            "LOSS: 19.797032701971375, Delta: 0.034175086668913224\n",
            "LOSS: 19.763956568143954, Delta: 0.03307613382742147\n",
            "LOSS: 19.731933351229927, Delta: 0.032023216914026875\n",
            "LOSS: 19.70091942672138, Delta: 0.031013924508545898\n",
            "LOSS: 19.670873020111863, Delta: 0.030046406609518073\n",
            "LOSS: 19.641755289521992, Delta: 0.02911773058987066\n",
            "LOSS: 19.61352923873774, Delta: 0.028226050784251555\n",
            "LOSS: 19.586160726830734, Delta: 0.02736851190700662\n",
            "LOSS: 19.559616651281914, Delta: 0.02654407554881999\n",
            "LOSS: 19.533866594953885, Delta: 0.025750056328028847\n",
            "LOSS: 19.508880533756262, Delta: 0.024986061197623144\n",
            "LOSS: 19.48463153711475, Delta: 0.0242489966415107\n",
            "LOSS: 19.461092749242404, Delta: 0.0235387878723472\n",
            "LOSS: 19.43823980167878, Delta: 0.022852947563624326\n",
            "LOSS: 19.416049099068342, Delta: 0.02219070261043754\n",
            "LOSS: 19.394497343117457, Delta: 0.021551755950884655\n",
            "LOSS: 19.373563788913806, Delta: 0.020933554203651283\n",
            "LOSS: 19.353227633245393, Delta: 0.020336155668413625\n",
            "LOSS: 19.333469552225495, Delta: 0.019758081019897844\n",
            "LOSS: 19.314270641190834, Delta: 0.019198911034660426\n",
            "LOSS: 19.29561257962022, Delta: 0.01865806157061556\n",
            "LOSS: 19.277478470600666, Delta: 0.01813410901955237\n",
            "LOSS: 19.259852410069463, Delta: 0.01762606053120308\n",
            "LOSS: 19.242717345987504, Delta: 0.017135064081958973\n",
            "LOSS: 19.226058410865114, Delta: 0.016658935122389806\n",
            "LOSS: 19.209861413129065, Delta: 0.016196997736049212\n",
            "LOSS: 19.194112591738236, Delta: 0.01574882139082945\n",
            "LOSS: 19.178797700754167, Delta: 0.015314890984068796\n",
            "LOSS: 19.163903872916457, Delta: 0.014893827837710205\n",
            "LOSS: 19.14941898337272, Delta: 0.014484889543737722\n",
            "LOSS: 19.135330512705476, Delta: 0.014088470667243058\n",
            "LOSS: 19.12162713111133, Delta: 0.013703381594144304\n",
            "LOSS: 19.10829702526201, Delta: 0.013330105849320262\n",
            "LOSS: 19.095329748014965, Delta: 0.012967277247046383\n",
            "LOSS: 19.08271431234781, Delta: 0.012615435667154173\n",
            "LOSS: 19.07044100350236, Delta: 0.01227330884545097\n",
            "LOSS: 19.058499812245408, Delta: 0.01194119125695181\n",
            "LOSS: 19.046881221956856, Delta: 0.01161859028855261\n",
            "LOSS: 19.035576200538916, Delta: 0.011305021417939543\n",
            "LOSS: 19.024575580030206, Delta: 0.011000620508710313\n",
            "LOSS: 19.013871009469042, Delta: 0.010704570561163251\n",
            "LOSS: 19.00345400668834, Delta: 0.010417002780702234\n",
            "LOSS: 18.993316585611076, Delta: 0.010137421077264008\n",
            "LOSS: 18.983450919018505, Delta: 0.009865666592570932\n",
            "LOSS: 18.973849306712008, Delta: 0.009601612306497032\n",
            "LOSS: 18.964504505291004, Delta: 0.00934480142100469\n",
            "LOSS: 18.95540930581109, Delta: 0.009095199479911997\n",
            "LOSS: 18.946556917275444, Delta: 0.008852388535647293\n",
            "LOSS: 18.93794078259018, Delta: 0.008616134685265564\n",
            "LOSS: 18.92955419169076, Delta: 0.008386590899419843\n",
            "LOSS: 18.92139078707005, Delta: 0.008163404620709969\n",
            "LOSS: 18.913444727953774, Delta: 0.007946059116274995\n",
            "LOSS: 18.905709857941712, Delta: 0.007734870012061634\n",
            "LOSS: 18.898180329303408, Delta: 0.007529528638304583\n",
            "LOSS: 18.890850685901274, Delta: 0.007329643402133712\n",
            "LOSS: 18.88371557872291, Delta: 0.007135107178363853\n",
            "LOSS: 18.876769667727395, Delta: 0.0069459109955154474\n",
            "LOSS: 25.133279635517184, Delta: 25.133279635517184\n",
            "LOSS: 24.688868015546948, Delta: 0.4444116199702357\n",
            "LOSS: 24.292568602572377, Delta: 0.39629941297457094\n",
            "LOSS: 23.93796895469215, Delta: 0.354599647880228\n",
            "LOSS: 23.619581106339318, Delta: 0.31838784835283107\n",
            "LOSS: 23.332703530945338, Delta: 0.28687757539398007\n",
            "LOSS: 23.073304105379844, Delta: 0.2593994255654941\n",
            "LOSS: 22.83792084542067, Delta: 0.23538325995917475\n",
            "LOSS: 22.623577681859683, Delta: 0.21434316356098648\n",
            "LOSS: 22.427712969374213, Delta: 0.19586471248547\n",
            "LOSS: 22.248118777142274, Delta: 0.17959419223193862\n",
            "LOSS: 22.082889311591394, Delta: 0.1652294655508797\n",
            "LOSS: 21.930377076276837, Delta: 0.15251223531455693\n",
            "LOSS: 21.78915558898645, Delta: 0.14122148729038742\n",
            "LOSS: 21.657987657902584, Delta: 0.1311679310838656\n",
            "LOSS: 21.53579837222916, Delta: 0.12218928567342502\n",
            "LOSS: 21.42165209247579, Delta: 0.11414627975337055\n",
            "LOSS: 21.314732835299225, Delta: 0.10691925717656403\n",
            "LOSS: 21.21432754053694, Delta: 0.10040529476228599\n",
            "LOSS: 21.119811786483844, Delta: 0.09451575405309498\n",
            "LOSS: 21.03063758576808, Delta: 0.08917420071576387\n",
            "LOSS: 20.94632295027074, Delta: 0.0843146354973392\n",
            "LOSS: 20.86644296097117, Delta: 0.0798799892995703\n",
            "LOSS: 20.79062211875423, Delta: 0.07582084221694174\n",
            "LOSS: 20.718527786177948, Delta: 0.07209433257628106\n",
            "LOSS: 20.64986455897096, Delta: 0.06866322720698648\n",
            "LOSS: 20.58436943037331, Delta: 0.06549512859765017\n",
            "LOSS: 20.521807632058092, Delta: 0.06256179831521891\n",
            "LOSS: 20.46196905284869, Delta: 0.05983857920940139\n",
            "LOSS: 20.40466515124335, Delta: 0.05730390160534071\n",
            "LOSS: 20.34972629031846, Delta: 0.054938860924888644\n",
            "LOSS: 20.296999434213777, Delta: 0.05272685610468386\n",
            "LOSS: 20.246346154442087, Delta: 0.05065327977169076\n",
            "LOSS: 20.197640901914145, Delta: 0.04870525252794167\n",
            "LOSS: 20.15076950708154, Delta: 0.046871394832603386\n",
            "LOSS: 20.105627876116333, Delta: 0.04514163096520818\n",
            "LOSS: 20.06212085574345, Delta: 0.04350702037288201\n",
            "LOSS: 20.020161243326967, Delta: 0.04195961241648405\n",
            "LOSS: 19.97966892220314, Delta: 0.04049232112382839\n",
            "LOSS: 19.940570105143223, Delta: 0.0390988170599158\n",
            "LOSS: 19.9027966712804, Delta: 0.03777343386282439\n",
            "LOSS: 19.8662855839347, Delta: 0.036511087345697746\n",
            "LOSS: 19.830978378549027, Delta: 0.03530720538567422\n",
            "LOSS: 19.79682071147381, Delta: 0.034157667075216835\n",
            "LOSS: 19.76376196163536, Delta: 0.033058749838449586\n",
            "LOSS: 19.731754878236778, Delta: 0.03200708339858238\n",
            "LOSS: 19.70075526857927, Delta: 0.030999609657506255\n",
            "LOSS: 19.67072172091627, Delta: 0.03003354766300248\n",
            "LOSS: 19.64161535793494, Delta: 0.029106362981330847\n",
            "LOSS: 19.613399617060654, Delta: 0.028215740874284023\n",
            "LOSS: 19.586040054294568, Delta: 0.027359562766086754\n",
            "LOSS: 19.559504168723, Delta: 0.02653588557156894\n",
            "LOSS: 19.533761245221665, Delta: 0.025742923501333337\n",
            "LOSS: 19.50878221320129, Delta: 0.02497903202037577\n",
            "LOSS: 19.484539519513287, Delta: 0.024242693688002248\n",
            "LOSS: 19.46100701388715, Delta: 0.023532505626135958\n",
            "LOSS: 19.43815984546443, Delta: 0.02284716842272161\n",
            "LOSS: 19.41597436918491, Delta: 0.022185476279521055\n",
            "LOSS: 19.39442806093179, Delta: 0.021546308253117985\n",
            "LOSS: 19.373499440474617, Delta: 0.020928620457173253\n",
            "LOSS: 19.35316800136999, Delta: 0.02033143910462698\n",
            "LOSS: 19.33341414707666, Delta: 0.019753854293330875\n",
            "LOSS: 19.314219132637337, Delta: 0.019195014439322478\n",
            "LOSS: 19.295565011343214, Delta: 0.018654121294122916\n",
            "LOSS: 19.27743458587995, Delta: 0.01813042546326571\n",
            "LOSS: 19.259811363500198, Delta: 0.01762322237975056\n",
            "LOSS: 19.242679514822996, Delta: 0.0171318486772023\n",
            "LOSS: 19.226023835906446, Delta: 0.016655678916549732\n",
            "LOSS: 19.209829713278868, Delta: 0.01619412262757791\n",
            "LOSS: 19.194083091644842, Delta: 0.01574662163402607\n",
            "LOSS: 19.17877044401719, Delta: 0.015312647627652609\n",
            "LOSS: 19.163878744051342, Delta: 0.014891699965847494\n",
            "LOSS: 19.14939544038059, Delta: 0.014483303670751013\n",
            "LOSS: 19.135308432771815, Delta: 0.014087007608775792\n",
            "LOSS: 19.121606049943946, Delta: 0.013702382827869286\n",
            "LOSS: 19.108277028900694, Delta: 0.013329021043251288\n",
            "LOSS: 19.09531049564894, Delta: 0.012966533251756118\n",
            "LOSS: 19.082695947186796, Delta: 0.012614548462142494\n",
            "LOSS: 19.070423234652186, Delta: 0.012272712534610264\n",
            "LOSS: 19.05848254753941, Delta: 0.011940687112776516\n",
            "LOSS: 19.046864398896087, Delta: 0.011618148643322002\n",
            "LOSS: 19.03555961142191, Delta: 0.011304787474177402\n",
            "LOSS: 19.02455930439723, Delta: 0.011000307024680467\n",
            "LOSS: 19.01385488138066, Delta: 0.01070442301656982\n",
            "LOSS: 19.003438018611863, Delta: 0.010416862768796165\n",
            "LOSS: 18.993300654070822, Delta: 0.010137364541041194\n",
            "LOSS: 18.983434977143478, Delta: 0.00986567692734397\n",
            "LOSS: 18.973833418845743, Delta: 0.009601558297735124\n",
            "LOSS: 18.964488642574313, Delta: 0.009344776271429822\n",
            "LOSS: 18.955393535335944, Delta: 0.009095107238369593\n",
            "LOSS: 18.94654119943274, Delta: 0.008852335903203112\n",
            "LOSS: 18.93792494456211, Delta: 0.008616254870631224\n",
            "LOSS: 18.929538280311917, Delta: 0.00838666425019241\n",
            "LOSS: 18.92137490901761, Delta: 0.008163371294305222\n",
            "LOSS: 18.9134287189632, Delta: 0.007946190054411773\n",
            "LOSS: 18.905693777898975, Delta: 0.007734941064224898\n",
            "LOSS: 18.89816432685947, Delta: 0.007529451039506085\n",
            "LOSS: 18.890834774261634, Delta: 0.007329552597834521\n",
            "LOSS: 18.883699690265573, Delta: 0.007135083996061553\n",
            "LOSS: 18.8767538013818, Delta: 0.0069458888837736765\n",
            "LOSS: 25.133279635517184, Delta: 25.133279635517184\n",
            "LOSS: 25.133153631127723, Delta: 0.00012600438946108738\n",
            "LOSS: 25.132885345865542, Delta: 0.0002682852621802567\n",
            "LOSS: 25.12919092916876, Delta: 0.0036944166967813885\n",
            "LOSS: 25.128043596238992, Delta: 0.0011473329297686519\n",
            "LOSS: 25.12401064456203, Delta: 0.004032951676961716\n",
            "LOSS: 25.122647220869712, Delta: 0.001363423692318122\n",
            "LOSS: 25.116278644473336, Delta: 0.006368576396376113\n",
            "LOSS: 25.115196477276772, Delta: 0.0010821671965643986\n",
            "LOSS: 25.10713657801298, Delta: 0.008059899263791692\n",
            "LOSS: 25.10210295256293, Delta: 0.005033625450050039\n",
            "LOSS: 25.097677156200305, Delta: 0.0044257963626250785\n",
            "LOSS: 25.096368558351973, Delta: 0.0013085978483324823\n",
            "LOSS: 25.092462711780822, Delta: 0.003905846571150562\n",
            "LOSS: 25.092317148022023, Delta: 0.0001455637587994829\n",
            "LOSS: 25.091371914205446, Delta: 0.0009452338165765184\n",
            "LOSS: 25.089490811068018, Delta: 0.001881103137428397\n",
            "LOSS: 25.08883165751443, Delta: 0.0006591535535882542\n",
            "LOSS: 25.086166543632924, Delta: 0.0026651138815054765\n",
            "LOSS: 25.08499746517516, Delta: 0.001169078457763817\n",
            "LOSS: 25.083456452094087, Delta: 0.0015410130810735723\n",
            "LOSS: 25.082961323743437, Delta: 0.0004951283506500204\n",
            "LOSS: 25.07698443957623, Delta: 0.00597688416720743\n",
            "LOSS: 25.07673126614734, Delta: 0.0002531734288879761\n",
            "LOSS: 25.07145706218511, Delta: 0.005274203962230217\n",
            "LOSS: 25.070415456671043, Delta: 0.001041605514068067\n",
            "LOSS: 25.069785711549994, Delta: 0.0006297451210492966\n",
            "LOSS: 25.06489337594787, Delta: 0.004892335602121989\n",
            "LOSS: 25.063810885447285, Delta: 0.0010824905005861751\n",
            "LOSS: 25.05652676729702, Delta: 0.00728411815026675\n",
            "LOSS: 25.056057080024868, Delta: 0.00046968727215102035\n",
            "LOSS: 25.055711294499492, Delta: 0.00034578552537567475\n",
            "LOSS: 25.054461264113794, Delta: 0.0012500303856981532\n",
            "LOSS: 25.050343722968737, Delta: 0.004117541145056691\n",
            "LOSS: 25.02243041882665, Delta: 0.027913304142085593\n",
            "LOSS: 25.02205171247923, Delta: 0.00037870634742276366\n",
            "LOSS: 25.02157668903447, Delta: 0.00047502344475702785\n",
            "LOSS: 25.02133558279689, Delta: 0.00024110623758133443\n",
            "LOSS: 25.017835515327064, Delta: 0.003500067469826007\n",
            "LOSS: 25.017432900812913, Delta: 0.0004026145141509119\n",
            "LOSS: 25.01697781658255, Delta: 0.0004550842303636671\n",
            "LOSS: 25.010253621802324, Delta: 0.0067241947802259006\n",
            "LOSS: 25.009844161108127, Delta: 0.0004094606941968948\n",
            "LOSS: 25.005954495139537, Delta: 0.0038896659685896395\n",
            "LOSS: 25.00501103914066, Delta: 0.000943455998879017\n",
            "LOSS: 25.004636183684045, Delta: 0.0003748554566129769\n",
            "LOSS: 25.001144022748946, Delta: 0.0034921609350995197\n",
            "LOSS: 25.0006942873643, Delta: 0.00044973538464532226\n",
            "LOSS: 24.999671383799384, Delta: 0.0010229035649160778\n",
            "LOSS: 24.999003780778303, Delta: 0.0006676030210819306\n",
            "LOSS: 24.995360635359546, Delta: 0.0036431454187564327\n",
            "LOSS: 24.992157413367167, Delta: 0.0032032219923792127\n",
            "LOSS: 24.990665617181236, Delta: 0.0014917961859310935\n",
            "LOSS: 24.98440628600246, Delta: 0.006259331178775085\n",
            "LOSS: 24.97882641620434, Delta: 0.005579869798122417\n",
            "LOSS: 24.973818633325994, Delta: 0.005007782878344358\n",
            "LOSS: 24.972616906548037, Delta: 0.0012017267779569352\n",
            "LOSS: 24.96648815258028, Delta: 0.006128753967757916\n",
            "LOSS: 24.9652371231262, Delta: 0.0012510294540781786\n",
            "LOSS: 24.96153305343526, Delta: 0.0037040696909400594\n",
            "LOSS: 24.96138549873245, Delta: 0.00014755470281002658\n",
            "LOSS: 24.96097966609426, Delta: 0.00040583263819016224\n",
            "LOSS: 24.957696058472287, Delta: 0.003283607621973772\n",
            "LOSS: 24.957344861833803, Delta: 0.00035119663848348637\n",
            "LOSS: 24.952319042817322, Delta: 0.005025819016481137\n",
            "LOSS: 24.947838785272243, Delta: 0.0044802575450795246\n",
            "LOSS: 24.94769963523637, Delta: 0.00013915003587428032\n",
            "LOSS: 24.946744968344486, Delta: 0.0009546668918822832\n",
            "LOSS: 24.945624490987697, Delta: 0.0011204773567889958\n",
            "LOSS: 24.940954691406716, Delta: 0.0046697995809807935\n",
            "LOSS: 24.935118799130542, Delta: 0.005835892276174093\n",
            "LOSS: 24.92735433844411, Delta: 0.007764460686431107\n",
            "LOSS: 24.926447744892023, Delta: 0.0009065935520879975\n",
            "LOSS: 24.925661424999166, Delta: 0.0007863198928568238\n",
            "LOSS: 24.92501222589087, Delta: 0.0006491991082953064\n",
            "LOSS: 24.92433050529734, Delta: 0.0006817205935298887\n",
            "LOSS: 24.923949263369046, Delta: 0.0003812419282951396\n",
            "LOSS: 24.92237835077044, Delta: 0.001570912598605645\n",
            "LOSS: 24.91741573587332, Delta: 0.004962614897120687\n",
            "LOSS: 24.906369537946876, Delta: 0.011046197926443568\n",
            "LOSS: 24.90602373860196, Delta: 0.0003457993449167418\n",
            "LOSS: 24.90397595293891, Delta: 0.002047785663048529\n",
            "LOSS: 24.903617387835194, Delta: 0.00035856510371701233\n",
            "LOSS: 24.90256839835703, Delta: 0.0010489894781642306\n",
            "LOSS: 24.90241602373429, Delta: 0.00015237462273987035\n",
            "LOSS: 24.902018204958008, Delta: 0.00039781877628186635\n",
            "LOSS: 24.901398971054604, Delta: 0.000619233903403682\n",
            "LOSS: 24.900885677867866, Delta: 0.0005132931867386503\n",
            "LOSS: 24.893818210517246, Delta: 0.007067467350619694\n",
            "LOSS: 24.89263414725455, Delta: 0.0011840632626949343\n",
            "LOSS: 24.892153456552848, Delta: 0.00048069070170342343\n",
            "LOSS: 24.891797812132882, Delta: 0.0003556444199652731\n",
            "LOSS: 24.891215730043896, Delta: 0.0005820820889859135\n",
            "LOSS: 24.88985446267307, Delta: 0.0013612673708252032\n",
            "LOSS: 24.570382859937233, Delta: 0.3194716027358382\n",
            "LOSS: 24.566605828992614, Delta: 0.0037770309446187866\n",
            "LOSS: 24.55658352704137, Delta: 0.010022301951245538\n",
            "LOSS: 24.555640384094886, Delta: 0.0009431429464825669\n",
            "LOSS: 24.55259945982884, Delta: 0.0030409242660454083\n",
            "LOSS: 24.549754708782302, Delta: 0.002844751046538363\n"
          ]
        }
      ],
      "source": [
        "import tensorflow as tf\n",
        "if using_gpu:\n",
        "    device_name = tf.test.gpu_device_name()\n",
        "\n",
        "    with tf.device(device_name):\n",
        "        print(f'with GPU')\n",
        "        preds, losses, n_iters, cpu_times = compare_models(\n",
        "            solvers,\n",
        "            X,\n",
        "            Y_delabeled,\n",
        "            iters_limit = 100,\n",
        "            delta_loss_limit = 0.0001\n",
        "        )\n",
        "\n",
        "else:\n",
        "    print(f'without GPU')\n",
        "    preds, losses, n_iters, cpu_times = compare_models(\n",
        "            solvers,\n",
        "            X,\n",
        "            Y_delabeled,\n",
        "            iters_limit = 100,\n",
        "            delta_loss_limit = 0.0001\n",
        "        )\n",
        "\n",
        "accuracies = {name: accuracy_score(preds[name], Y) for name in solvers.keys()}"
      ]
    },
    {
      "cell_type": "code",
      "execution_count": 17,
      "metadata": {
        "id": "07EmcJuSji8r",
        "outputId": "094a0965-f68a-4270-dc2f-1b79bb7a99c0",
        "colab": {
          "base_uri": "https://localhost:8080/",
          "height": 851
        }
      },
      "outputs": [
        {
          "output_type": "display_data",
          "data": {
            "text/plain": [
              "<Figure size 432x288 with 1 Axes>"
            ],
            "image/png": "[encoded data removed]"
          },
          "metadata": {
            "needs_background": "light"
          }
        },
        {
          "output_type": "display_data",
          "data": {
            "text/plain": [
              "<Figure size 432x288 with 1 Axes>"
            ],
            "image/png": "[encoded data removed]"
          },
          "metadata": {
            "needs_background": "light"
          }
        },
        {
          "output_type": "display_data",
          "data": {
            "text/plain": [
              "<Figure size 432x288 with 1 Axes>"
            ],
            "image/png": "[encoded data removed]"
          },
          "metadata": {
            "needs_background": "light"
          }
        }
      ],
      "source": [
        "def plot_curves(curves_dict, title, y_label):\n",
        "    _, ax = plt.subplots(figsize = (6, 4))\n",
        "\n",
        "    for _, curve_res in curves_dict.items():\n",
        "        ax.plot(\n",
        "            curve_res,\n",
        "            marker = 'o',\n",
        "            linestyle = '--',\n",
        "            linewidth = 1.3,\n",
        "            markerfacecolor = 'white',\n",
        "            markersize = 2\n",
        "        )\n",
        "    plt.legend(list(curves_dict.keys()))\n",
        "    plt.title(title)\n",
        "    plt.xlabel('Iteration')\n",
        "    plt.ylabel(y_label)\n",
        "    plt.grid()\n",
        "\n",
        "\n",
        "plot_curves({'Cyclic':losses['BCGD cyclic']}, 'Losses cyclic', y_label = 'Loss')\n",
        "plot_curves({'GD':losses['GD']}, 'Losses GD', y_label = 'Loss')\n",
        "plot_curves(losses, 'Losses', y_label = 'Loss')"
      ]
    },
    {
      "cell_type": "code",
      "execution_count": 18,
      "metadata": {
        "id": "yt6Q6b9Fji8s",
        "outputId": "4e80715e-04fa-48b5-fa6f-32c987d57b39",
        "colab": {
          "base_uri": "https://localhost:8080/",
          "height": 506
        }
      },
      "outputs": [
        {
          "output_type": "display_data",
          "data": {
            "text/plain": [
              "<Figure size 576x576 with 1 Axes>"
            ],
            "image/png": "[encoded data removed]"
          },
          "metadata": {
            "needs_background": "light"
          }
        }
      ],
      "source": [
        "def plot_bar_metrics(metrics_df):\n",
        "    \n",
        "    ax = metrics_df.plot.bar(\n",
        "        rot = 0,\n",
        "        ylabel = 'Metrics results',\n",
        "        cmap = 'Paired',\n",
        "        figsize = (8, 8)\n",
        "    )\n",
        "\n",
        "    ax.set_title('Models cpu time, iterations & performance', fontsize = 18)\n",
        "    ax.set_ylabel('Metrics scores', fontsize = 18)\n",
        "    ax.tick_params(axis = 'y', labelsize = 15)\n",
        "    ax.tick_params(axis = 'x', labelsize = 12)\n",
        "    ax.legend(loc = 3, prop = {'size': 13})\n",
        "    plt.grid()\n",
        "\n",
        "def normalize_cols(dataframe):\n",
        "    cols = dataframe.columns\n",
        "    for c in cols:\n",
        "        dataframe[c] = dataframe[c] / dataframe[c].max()\n",
        "    \n",
        "\n",
        "bar_metrics = pd.DataFrame.from_dict(cpu_times, orient='index', columns = ['CPU time'])\n",
        "bar_metrics['N iterations'] = n_iters.values()\n",
        "bar_metrics['Accuracies'] = accuracies.values()\n",
        "\n",
        "normalize_cols(bar_metrics)\n",
        "plot_bar_metrics(bar_metrics)"
      ]
    },
    {
      "cell_type": "code",
      "source": [
        "print(accuracies)\n",
        "print(n_iters)\n",
        "print(cpu_times)"
      ],
      "metadata": {
        "id": "VsG9seCFqxEC",
        "outputId": "b670b048-c7d1-4882-95fd-f6b046f00f82",
        "colab": {
          "base_uri": "https://localhost:8080/"
        }
      },
      "execution_count": 22,
      "outputs": [
        {
          "output_type": "stream",
          "name": "stdout",
          "text": [
            "{'GD': 1.0, 'BCGD permutation': 1.0, 'BCGD cyclic': 1.0, 'BCGD sampling': 0.98}\n",
            "{'GD': 100, 'BCGD permutation': 100, 'BCGD cyclic': 100, 'BCGD sampling': 100}\n",
            "{'GD': 7.227359197999988, 'BCGD permutation': 10.386953243000022, 'BCGD cyclic': 7.905858671000004, 'BCGD sampling': 6.742964641000015}\n"
          ]
        }
      ]
    },
    {
      "cell_type": "markdown",
      "metadata": {
        "id": "U2In6I0eji8s"
      },
      "source": [
        "# Real dataset"
      ]
    },
    {
      "cell_type": "code",
      "execution_count": 23,
      "metadata": {
        "id": "G_9uTw_Fji8s"
      },
      "outputs": [],
      "source": [
        "wine=datasets.load_wine()\n",
        "\n",
        "#Conver to pandas dataframe\n",
        "data=pd.DataFrame(data=np.c_[wine['data'],wine['target']],columns=wine['feature_names']+['target'])\n",
        "\n",
        "data = data.loc[\n",
        "    (data['target'] == 1) | (data['target'] == 0),\n",
        "    ['od280/od315_of_diluted_wines', 'alcohol', 'target']\n",
        "]"
      ]
    },
    {
      "cell_type": "code",
      "execution_count": 24,
      "metadata": {
        "id": "D-DhernSji8s",
        "outputId": "0bb868a7-fc14-46a5-e0c8-b06c6e190587",
        "colab": {
          "base_uri": "https://localhost:8080/",
          "height": 268
        }
      },
      "outputs": [
        {
          "output_type": "display_data",
          "data": {
            "text/plain": [
              "<Figure size 432x288 with 1 Axes>"
            ],
            "image/png": "[encoded data removed]"
          },
          "metadata": {
            "needs_background": "light"
          }
        }
      ],
      "source": [
        "X_real = data.loc[\n",
        "    :,\n",
        "    ['od280/od315_of_diluted_wines', 'alcohol']\n",
        "].values\n",
        "Y_real = data['target'].values\n",
        "\n",
        "plot_clusters(\n",
        "    X_real,\n",
        "    Y_real\n",
        ")"
      ]
    },
    {
      "cell_type": "code",
      "execution_count": 25,
      "metadata": {
        "id": "Hh29gCjXji8s",
        "outputId": "10bcbb46-d32d-40fe-aed4-8d3fc24f8a06",
        "colab": {
          "base_uri": "https://localhost:8080/"
        }
      },
      "outputs": [
        {
          "output_type": "stream",
          "name": "stdout",
          "text": [
            "Found 59 instances of object 0.0\n",
            "We have to delabel 55 instances\n",
            "Found 71 instances of object 1.0\n",
            "We have to delabel 66 instances\n"
          ]
        }
      ],
      "source": [
        "Y_real_delabeled = delabel_data(\n",
        "    Y_real,\n",
        "    labeled_percent = 0.06, # DataProperties.labeled_percentage,\n",
        "    delabel_value = DataProperties.unlabeled\n",
        ")"
      ]
    },
    {
      "cell_type": "code",
      "execution_count": 26,
      "metadata": {
        "id": "N3fd88g7ji8t",
        "outputId": "9dc5dc99-b6c1-42d3-984e-0f6ba98b4692",
        "colab": {
          "base_uri": "https://localhost:8080/",
          "height": 268
        }
      },
      "outputs": [
        {
          "output_type": "display_data",
          "data": {
            "text/plain": [
              "<Figure size 432x288 with 1 Axes>"
            ],
            "image/png": "[encoded data removed]"
          },
          "metadata": {
            "needs_background": "light"
          }
        }
      ],
      "source": [
        "plot_clusters(\n",
        "    X_real,\n",
        "    Y_real_delabeled\n",
        ")"
      ]
    },
    {
      "cell_type": "code",
      "execution_count": 28,
      "metadata": {
        "id": "PLp4UwVRji8t",
        "outputId": "734982c6-2c10-4b39-8aaa-eaa4c8c820d9",
        "colab": {
          "base_uri": "https://localhost:8080/"
        }
      },
      "outputs": [
        {
          "output_type": "stream",
          "name": "stdout",
          "text": [
            "Loss: 418.6689762690717, delta loss: 418.6689762690717\n",
            "Loss: 406.88040148284796, delta loss: 11.788574786223762\n",
            "Loss: 402.26630403070095, delta loss: 4.614097452147007\n",
            "Loss: 399.8066165660734, delta loss: 2.4596874646275637\n",
            "Loss: 398.2807454379201, delta loss: 1.5258711281533124\n",
            "Loss: 397.25985793600603, delta loss: 1.0208875019140464\n",
            "Loss: 396.54180048024244, delta loss: 0.718057455763585\n",
            "Loss: 396.01526958942674, delta loss: 0.5265308908157067\n",
            "Loss: 395.61424139565827, delta loss: 0.4010281937684681\n",
            "Loss: 395.2978688551002, delta loss: 0.3163725405580635\n",
            "Loss: 395.04013091027366, delta loss: 0.25773794482654466\n",
            "Loss: 394.8240615821496, delta loss: 0.21606932812403556\n",
            "Loss: 394.6383777587026, delta loss: 0.18568382344705014\n",
            "Loss: 394.47544197208583, delta loss: 0.16293578661674246\n",
            "Loss: 394.3299987943163, delta loss: 0.1454431777695504\n",
            "Loss: 394.1983737196404, delta loss: 0.13162507467586693\n",
            "Loss: 394.077955770547, delta loss: 0.12041794909339387\n",
            "Loss: 393.9668580429273, delta loss: 0.11109772761972181\n",
            "Loss: 393.8636919852906, delta loss: 0.10316605763671305\n",
            "Loss: 393.7674155713651, delta loss: 0.09627641392546593\n",
            "Loss: 393.6772301596689, delta loss: 0.0901854116962113\n",
            "Loss: 393.5925098200498, delta loss: 0.0847203396190821\n",
            "Loss: 393.51275253460216, delta loss: 0.0797572854476698\n",
            "Loss: 393.4375462666546, delta loss: 0.07520626794757845\n",
            "Loss: 393.3665452121552, delta loss: 0.07100105449939065\n",
            "Loss: 393.2994530702963, delta loss: 0.06709214185889323\n",
            "Loss: 393.23601118060714, delta loss: 0.06344188968915887\n",
            "Loss: 393.1759900509888, delta loss: 0.06002112961834882\n",
            "Loss: 393.11918325977257, delta loss: 0.05680679121621779\n",
            "Loss: 393.0654030269551, delta loss: 0.05378023281747346\n",
            "Loss: 393.01447696392603, delta loss: 0.05092606302906688\n",
            "Loss: 392.96624565917807, delta loss: 0.04823130474795789\n",
            "Loss: 392.9205608593762, delta loss: 0.045684799801847475\n",
            "Loss: 392.87728407688604, delta loss: 0.04327678249018163\n",
            "Loss: 392.83628550440034, delta loss: 0.040998572485705154\n",
            "Loss: 392.79744315227674, delta loss: 0.03884235212359499\n",
            "Loss: 392.76064214866267, delta loss: 0.036801003614073124\n",
            "Loss: 392.7257741598362, delta loss: 0.0348679888264769\n",
            "Loss: 392.6927369002239, delta loss: 0.03303725961228565\n",
            "Loss: 392.661433710347, delta loss: 0.031303189876894066\n",
            "Loss: 392.63177318695546, delta loss: 0.02966052339155567\n",
            "Loss: 392.6036688539486, delta loss: 0.028104333006865545\n",
            "Loss: 392.57703886579213, delta loss: 0.026629988156457784\n",
            "Loss: 392.5518057374635, delta loss: 0.025233128328636667\n",
            "Loss: 392.52789609624494, delta loss: 0.02390964121855177\n",
            "Loss: 392.5052404521674, delta loss: 0.02265564407753118\n",
            "Loss: 392.48377298434934, delta loss: 0.021467467818069963\n",
            "Loss: 392.4634313415428, delta loss: 0.020341642806556592\n",
            "Loss: 392.44415645496866, delta loss: 0.019274886574123684\n",
            "Loss: 392.42589236263655, delta loss: 0.018264092332117343\n"
          ]
        }
      ],
      "source": [
        "solver = GradientDescentSolver(\n",
        "    lr_strategy = 'lr_constant',\n",
        "    learning_rate = 0.001,\n",
        "    similarity_func = None\n",
        ")\n",
        "\n",
        "Y_real_preds = solver.solve(\n",
        "    X_real,\n",
        "    Y_real_delabeled,\n",
        "    iter_limit=50,\n",
        "    delta_loss_limit = 0.003\n",
        ")"
      ]
    },
    {
      "cell_type": "code",
      "execution_count": 29,
      "metadata": {
        "id": "iAZAkvBqji8t",
        "outputId": "b10d18dd-1d22-4a31-b324-60e46fe82cdb",
        "colab": {
          "base_uri": "https://localhost:8080/",
          "height": 519
        }
      },
      "outputs": [
        {
          "output_type": "display_data",
          "data": {
            "text/plain": [
              "<Figure size 432x288 with 1 Axes>"
            ],
            "image/png": "[encoded data removed]"
          },
          "metadata": {
            "needs_background": "light"
          }
        },
        {
          "output_type": "display_data",
          "data": {
            "text/plain": [
              "<Figure size 432x288 with 1 Axes>"
            ],
            "image/png": "[encoded data removed]"
          },
          "metadata": {
            "needs_background": "light"
          }
        }
      ],
      "source": [
        "plot_clusters(\n",
        "    X_real,\n",
        "    Y_real\n",
        ")\n",
        "plot_clusters(\n",
        "    X_real,\n",
        "    Y_real_preds\n",
        ")"
      ]
    }
  ],
  "metadata": {
    "colab": {
      "collapsed_sections": [],
      "name": "HW1.ipynb",
      "provenance": []
    },
    "kernelspec": {
      "display_name": "Python 3",
      "name": "python3"
    },
    "language_info": {
      "codemirror_mode": {
        "name": "ipython",
        "version": 3
      },
      "file_extension": ".py",
      "mimetype": "text/x-python",
      "name": "python",
      "nbconvert_exporter": "python",
      "pygments_lexer": "ipython3",
      "version": "3.9.7"
    },
    "accelerator": "GPU"
  },
  "nbformat": 4,
  "nbformat_minor": 0
}