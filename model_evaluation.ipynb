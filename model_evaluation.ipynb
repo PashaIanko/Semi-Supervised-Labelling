{
  "cells": [
    {
      "cell_type": "markdown",
      "metadata": {
        "id": "SY5WztYNneGg"
      },
      "source": [
        "### MSc Computer Science, Data Science @UniPD\n",
        "### Optimization Methods for Data Science\n",
        "---"
      ]
    },
    {
      "cell_type": "code",
      "execution_count": 75,
      "metadata": {
        "id": "VlSWeYY3nI05"
      },
      "outputs": [],
      "source": [
        "from os.path import isdir\n",
        "from os import mkdir\n",
        "\n",
        "env = 'pc'  # 'pc', 'colab'\n",
        "git_download_path = 'https://raw.githubusercontent.com/PashaIanko/Semi-Supervised-Labelling/full_testing/'\n",
        "experiment = 'Exp5/'\n",
        "\n",
        "exp_dir = ''\n",
        "if env == 'pc':\n",
        "    exp_dir = f'C:/Users/79137/Pasha/2. UNIPD/Semester 2/Optimization for Data Science/Homeworks/HW 1/Semi-Supervised-Labelling/{experiment}'\n",
        "elif env == 'colab':\n",
        "    exp_dir = f'/content/drive/MyDrive/UNIPD/ODS/HW1/{experiment}'\n",
        "\n",
        "assert(isdir(exp_dir))"
      ]
    },
    {
      "cell_type": "code",
      "execution_count": 76,
      "metadata": {
        "id": "2N9xcpuXji8g"
      },
      "outputs": [],
      "source": [
        "import pandas as pd\n",
        "import matplotlib.pyplot as plt\n",
        "from numpy import log"
      ]
    },
    {
      "cell_type": "code",
      "execution_count": 77,
      "metadata": {},
      "outputs": [
        {
          "data": {
            "text/html": [
              "<div>\n",
              "<style scoped>\n",
              "    .dataframe tbody tr th:only-of-type {\n",
              "        vertical-align: middle;\n",
              "    }\n",
              "\n",
              "    .dataframe tbody tr th {\n",
              "        vertical-align: top;\n",
              "    }\n",
              "\n",
              "    .dataframe thead th {\n",
              "        text-align: right;\n",
              "    }\n",
              "</style>\n",
              "<table border=\"1\" class=\"dataframe\">\n",
              "  <thead>\n",
              "    <tr style=\"text-align: right;\">\n",
              "      <th></th>\n",
              "      <th>Unnamed: 0</th>\n",
              "      <th>iters_limit</th>\n",
              "      <th>d_loss_limit</th>\n",
              "      <th>stop_loss</th>\n",
              "      <th>learning_rate</th>\n",
              "      <th>n points</th>\n",
              "    </tr>\n",
              "  </thead>\n",
              "  <tbody>\n",
              "    <tr>\n",
              "      <th>0</th>\n",
              "      <td>0</td>\n",
              "      <td>20</td>\n",
              "      <td>0.0</td>\n",
              "      <td>0</td>\n",
              "      <td>0.001</td>\n",
              "      <td>500</td>\n",
              "    </tr>\n",
              "  </tbody>\n",
              "</table>\n",
              "</div>"
            ],
            "text/plain": [
              "   Unnamed: 0  iters_limit  d_loss_limit  stop_loss  learning_rate  n points\n",
              "0           0           20           0.0          0          0.001       500"
            ]
          },
          "execution_count": 77,
          "metadata": {},
          "output_type": "execute_result"
        }
      ],
      "source": [
        "from os.path import isfile\n",
        "\n",
        "exp_params = pd.read_csv(f'{exp_dir}experiment_params.csv')\n",
        "exp_params.head()"
      ]
    },
    {
      "cell_type": "code",
      "execution_count": 78,
      "metadata": {},
      "outputs": [
        {
          "data": {
            "text/html": [
              "<div>\n",
              "<style scoped>\n",
              "    .dataframe tbody tr th:only-of-type {\n",
              "        vertical-align: middle;\n",
              "    }\n",
              "\n",
              "    .dataframe tbody tr th {\n",
              "        vertical-align: top;\n",
              "    }\n",
              "\n",
              "    .dataframe thead th {\n",
              "        text-align: right;\n",
              "    }\n",
              "</style>\n",
              "<table border=\"1\" class=\"dataframe\">\n",
              "  <thead>\n",
              "    <tr style=\"text-align: right;\">\n",
              "      <th></th>\n",
              "      <th>Unnamed: 0</th>\n",
              "      <th>CPU total time</th>\n",
              "      <th>N iterations</th>\n",
              "      <th>Final accuracy</th>\n",
              "      <th>CPU total time_norm</th>\n",
              "      <th>N iterations_norm</th>\n",
              "      <th>Final accuracy_norm</th>\n",
              "    </tr>\n",
              "  </thead>\n",
              "  <tbody>\n",
              "    <tr>\n",
              "      <th>0</th>\n",
              "      <td>GD</td>\n",
              "      <td>10.573890</td>\n",
              "      <td>19</td>\n",
              "      <td>1.0</td>\n",
              "      <td>1.000000</td>\n",
              "      <td>1.000000</td>\n",
              "      <td>1.0</td>\n",
              "    </tr>\n",
              "    <tr>\n",
              "      <th>1</th>\n",
              "      <td>BCGD permutation</td>\n",
              "      <td>9.762517</td>\n",
              "      <td>18</td>\n",
              "      <td>1.0</td>\n",
              "      <td>0.923266</td>\n",
              "      <td>0.947368</td>\n",
              "      <td>1.0</td>\n",
              "    </tr>\n",
              "    <tr>\n",
              "      <th>2</th>\n",
              "      <td>BCGD cyclic</td>\n",
              "      <td>9.709042</td>\n",
              "      <td>18</td>\n",
              "      <td>1.0</td>\n",
              "      <td>0.918209</td>\n",
              "      <td>0.947368</td>\n",
              "      <td>1.0</td>\n",
              "    </tr>\n",
              "  </tbody>\n",
              "</table>\n",
              "</div>"
            ],
            "text/plain": [
              "         Unnamed: 0  CPU total time  N iterations  Final accuracy  \\\n",
              "0                GD       10.573890            19             1.0   \n",
              "1  BCGD permutation        9.762517            18             1.0   \n",
              "2       BCGD cyclic        9.709042            18             1.0   \n",
              "\n",
              "   CPU total time_norm  N iterations_norm  Final accuracy_norm  \n",
              "0             1.000000           1.000000                  1.0  \n",
              "1             0.923266           0.947368                  1.0  \n",
              "2             0.918209           0.947368                  1.0  "
            ]
          },
          "execution_count": 78,
          "metadata": {},
          "output_type": "execute_result"
        }
      ],
      "source": [
        "metrics_res = pd.read_csv(f'{exp_dir}metrics res.csv')\n",
        "metrics_res.head()"
      ]
    },
    {
      "cell_type": "code",
      "execution_count": 79,
      "metadata": {},
      "outputs": [
        {
          "data": {
            "text/html": [
              "<div>\n",
              "<style scoped>\n",
              "    .dataframe tbody tr th:only-of-type {\n",
              "        vertical-align: middle;\n",
              "    }\n",
              "\n",
              "    .dataframe tbody tr th {\n",
              "        vertical-align: top;\n",
              "    }\n",
              "\n",
              "    .dataframe thead th {\n",
              "        text-align: right;\n",
              "    }\n",
              "</style>\n",
              "<table border=\"1\" class=\"dataframe\">\n",
              "  <thead>\n",
              "    <tr style=\"text-align: right;\">\n",
              "      <th></th>\n",
              "      <th>Unnamed: 0</th>\n",
              "      <th>GD loss</th>\n",
              "      <th>BCGD permutation loss</th>\n",
              "      <th>BCGD cyclic loss</th>\n",
              "      <th>GD cpu</th>\n",
              "      <th>BCGD permutation cpu</th>\n",
              "      <th>BCGD cyclic cpu</th>\n",
              "      <th>GD acc</th>\n",
              "      <th>BCGD permutation acc</th>\n",
              "      <th>BCGD cyclic acc</th>\n",
              "    </tr>\n",
              "  </thead>\n",
              "  <tbody>\n",
              "    <tr>\n",
              "      <th>0</th>\n",
              "      <td>0</td>\n",
              "      <td>1107.510152</td>\n",
              "      <td>1107.510152</td>\n",
              "      <td>1107.510152</td>\n",
              "      <td>0.261332</td>\n",
              "      <td>0.230540</td>\n",
              "      <td>0.240228</td>\n",
              "      <td>0.052</td>\n",
              "      <td>0.052</td>\n",
              "      <td>0.052</td>\n",
              "    </tr>\n",
              "    <tr>\n",
              "      <th>1</th>\n",
              "      <td>1</td>\n",
              "      <td>1083.645098</td>\n",
              "      <td>1080.846428</td>\n",
              "      <td>1080.844116</td>\n",
              "      <td>0.835035</td>\n",
              "      <td>0.751159</td>\n",
              "      <td>0.757606</td>\n",
              "      <td>1.000</td>\n",
              "      <td>1.000</td>\n",
              "      <td>1.000</td>\n",
              "    </tr>\n",
              "    <tr>\n",
              "      <th>2</th>\n",
              "      <td>2</td>\n",
              "      <td>1066.531937</td>\n",
              "      <td>1062.414583</td>\n",
              "      <td>1062.387235</td>\n",
              "      <td>1.420240</td>\n",
              "      <td>1.293130</td>\n",
              "      <td>1.269916</td>\n",
              "      <td>1.000</td>\n",
              "      <td>1.000</td>\n",
              "      <td>1.000</td>\n",
              "    </tr>\n",
              "    <tr>\n",
              "      <th>3</th>\n",
              "      <td>3</td>\n",
              "      <td>1053.867079</td>\n",
              "      <td>1049.263410</td>\n",
              "      <td>1049.206765</td>\n",
              "      <td>1.945552</td>\n",
              "      <td>1.854749</td>\n",
              "      <td>1.796797</td>\n",
              "      <td>1.000</td>\n",
              "      <td>1.000</td>\n",
              "      <td>1.000</td>\n",
              "    </tr>\n",
              "    <tr>\n",
              "      <th>4</th>\n",
              "      <td>4</td>\n",
              "      <td>1044.298913</td>\n",
              "      <td>1039.677853</td>\n",
              "      <td>1039.597572</td>\n",
              "      <td>2.470946</td>\n",
              "      <td>2.376866</td>\n",
              "      <td>2.320974</td>\n",
              "      <td>1.000</td>\n",
              "      <td>1.000</td>\n",
              "      <td>1.000</td>\n",
              "    </tr>\n",
              "  </tbody>\n",
              "</table>\n",
              "</div>"
            ],
            "text/plain": [
              "   Unnamed: 0      GD loss  BCGD permutation loss  BCGD cyclic loss    GD cpu  \\\n",
              "0           0  1107.510152            1107.510152       1107.510152  0.261332   \n",
              "1           1  1083.645098            1080.846428       1080.844116  0.835035   \n",
              "2           2  1066.531937            1062.414583       1062.387235  1.420240   \n",
              "3           3  1053.867079            1049.263410       1049.206765  1.945552   \n",
              "4           4  1044.298913            1039.677853       1039.597572  2.470946   \n",
              "\n",
              "   BCGD permutation cpu  BCGD cyclic cpu  GD acc  BCGD permutation acc  \\\n",
              "0              0.230540         0.240228   0.052                 0.052   \n",
              "1              0.751159         0.757606   1.000                 1.000   \n",
              "2              1.293130         1.269916   1.000                 1.000   \n",
              "3              1.854749         1.796797   1.000                 1.000   \n",
              "4              2.376866         2.320974   1.000                 1.000   \n",
              "\n",
              "   BCGD cyclic acc  \n",
              "0            0.052  \n",
              "1            1.000  \n",
              "2            1.000  \n",
              "3            1.000  \n",
              "4            1.000  "
            ]
          },
          "execution_count": 79,
          "metadata": {},
          "output_type": "execute_result"
        }
      ],
      "source": [
        "train_res = pd.read_csv(f'{exp_dir}res.csv')\n",
        "train_res.head()"
      ]
    },
    {
      "cell_type": "markdown",
      "metadata": {},
      "source": [
        "# Losses VS iterations"
      ]
    },
    {
      "cell_type": "code",
      "execution_count": 80,
      "metadata": {},
      "outputs": [],
      "source": [
        "cols_with_loss = [c for c in train_res.columns if 'loss' in c]\n",
        "loss_dict = {}\n",
        "\n",
        "for c in cols_with_loss:\n",
        "    loss = train_res[c].values\n",
        "    model_name = ' '.join(c.split(' ')[:-1])\n",
        "    loss_dict[model_name] = loss"
      ]
    },
    {
      "cell_type": "code",
      "execution_count": 81,
      "metadata": {},
      "outputs": [
        {
          "data": {
            "image/png": "[encoded data removed]",
            "text/plain": [
              "<Figure size 504x360 with 1 Axes>"
            ]
          },
          "metadata": {
            "needs_background": "light"
          },
          "output_type": "display_data"
        },
        {
          "data": {
            "image/png": "[encoded data removed]",
            "text/plain": [
              "<Figure size 504x360 with 1 Axes>"
            ]
          },
          "metadata": {
            "needs_background": "light"
          },
          "output_type": "display_data"
        }
      ],
      "source": [
        "def plot_curves(curves_dict, title, y_label, figsize, log_axis_):\n",
        "    _, ax = plt.subplots(figsize = figsize)\n",
        "\n",
        "    for _, curve_res in curves_dict.items():\n",
        "\n",
        "        x_data = []\n",
        "        if log_axis_:\n",
        "            x_data = [log(i + 1) for i in range(len(curve_res))]\n",
        "        else:\n",
        "            x_data = [i+1 for i in range(len(curve_res))]\n",
        "\n",
        "        ax.plot(\n",
        "            x_data,\n",
        "            curve_res,\n",
        "            marker = 'o',\n",
        "            linestyle = '--',\n",
        "            linewidth = 1.3,\n",
        "            markerfacecolor = 'white',\n",
        "            # markersize = 2\n",
        "        )\n",
        "    plt.legend(list(curves_dict.keys()))\n",
        "    plt.title(title)\n",
        "    plt.xlabel('Iteration')\n",
        "    plt.ylabel(y_label)\n",
        "    plt.grid()\n",
        "\n",
        "\n",
        "plot_curves(\n",
        "    loss_dict,\n",
        "    'Loss VS iterations',\n",
        "    y_label = 'Loss value',\n",
        "    figsize = (7, 5),\n",
        "    log_axis_=False\n",
        ")\n",
        "\n",
        "plot_curves(\n",
        "    loss_dict,\n",
        "    'Loss VS iterations',\n",
        "    y_label = 'Loss value',\n",
        "    figsize = (7, 5),\n",
        "    log_axis_=True\n",
        ")"
      ]
    },
    {
      "cell_type": "markdown",
      "metadata": {},
      "source": [
        "# Losses VS CPU"
      ]
    },
    {
      "cell_type": "code",
      "execution_count": 82,
      "metadata": {},
      "outputs": [
        {
          "data": {
            "text/html": [
              "<div>\n",
              "<style scoped>\n",
              "    .dataframe tbody tr th:only-of-type {\n",
              "        vertical-align: middle;\n",
              "    }\n",
              "\n",
              "    .dataframe tbody tr th {\n",
              "        vertical-align: top;\n",
              "    }\n",
              "\n",
              "    .dataframe thead th {\n",
              "        text-align: right;\n",
              "    }\n",
              "</style>\n",
              "<table border=\"1\" class=\"dataframe\">\n",
              "  <thead>\n",
              "    <tr style=\"text-align: right;\">\n",
              "      <th></th>\n",
              "      <th>Unnamed: 0</th>\n",
              "      <th>GD loss</th>\n",
              "      <th>BCGD permutation loss</th>\n",
              "      <th>BCGD cyclic loss</th>\n",
              "      <th>GD cpu</th>\n",
              "      <th>BCGD permutation cpu</th>\n",
              "      <th>BCGD cyclic cpu</th>\n",
              "      <th>GD acc</th>\n",
              "      <th>BCGD permutation acc</th>\n",
              "      <th>BCGD cyclic acc</th>\n",
              "    </tr>\n",
              "  </thead>\n",
              "  <tbody>\n",
              "    <tr>\n",
              "      <th>0</th>\n",
              "      <td>0</td>\n",
              "      <td>1107.510152</td>\n",
              "      <td>1107.510152</td>\n",
              "      <td>1107.510152</td>\n",
              "      <td>0.261332</td>\n",
              "      <td>0.230540</td>\n",
              "      <td>0.240228</td>\n",
              "      <td>0.052</td>\n",
              "      <td>0.052</td>\n",
              "      <td>0.052</td>\n",
              "    </tr>\n",
              "    <tr>\n",
              "      <th>1</th>\n",
              "      <td>1</td>\n",
              "      <td>1083.645098</td>\n",
              "      <td>1080.846428</td>\n",
              "      <td>1080.844116</td>\n",
              "      <td>0.835035</td>\n",
              "      <td>0.751159</td>\n",
              "      <td>0.757606</td>\n",
              "      <td>1.000</td>\n",
              "      <td>1.000</td>\n",
              "      <td>1.000</td>\n",
              "    </tr>\n",
              "    <tr>\n",
              "      <th>2</th>\n",
              "      <td>2</td>\n",
              "      <td>1066.531937</td>\n",
              "      <td>1062.414583</td>\n",
              "      <td>1062.387235</td>\n",
              "      <td>1.420240</td>\n",
              "      <td>1.293130</td>\n",
              "      <td>1.269916</td>\n",
              "      <td>1.000</td>\n",
              "      <td>1.000</td>\n",
              "      <td>1.000</td>\n",
              "    </tr>\n",
              "    <tr>\n",
              "      <th>3</th>\n",
              "      <td>3</td>\n",
              "      <td>1053.867079</td>\n",
              "      <td>1049.263410</td>\n",
              "      <td>1049.206765</td>\n",
              "      <td>1.945552</td>\n",
              "      <td>1.854749</td>\n",
              "      <td>1.796797</td>\n",
              "      <td>1.000</td>\n",
              "      <td>1.000</td>\n",
              "      <td>1.000</td>\n",
              "    </tr>\n",
              "    <tr>\n",
              "      <th>4</th>\n",
              "      <td>4</td>\n",
              "      <td>1044.298913</td>\n",
              "      <td>1039.677853</td>\n",
              "      <td>1039.597572</td>\n",
              "      <td>2.470946</td>\n",
              "      <td>2.376866</td>\n",
              "      <td>2.320974</td>\n",
              "      <td>1.000</td>\n",
              "      <td>1.000</td>\n",
              "      <td>1.000</td>\n",
              "    </tr>\n",
              "  </tbody>\n",
              "</table>\n",
              "</div>"
            ],
            "text/plain": [
              "   Unnamed: 0      GD loss  BCGD permutation loss  BCGD cyclic loss    GD cpu  \\\n",
              "0           0  1107.510152            1107.510152       1107.510152  0.261332   \n",
              "1           1  1083.645098            1080.846428       1080.844116  0.835035   \n",
              "2           2  1066.531937            1062.414583       1062.387235  1.420240   \n",
              "3           3  1053.867079            1049.263410       1049.206765  1.945552   \n",
              "4           4  1044.298913            1039.677853       1039.597572  2.470946   \n",
              "\n",
              "   BCGD permutation cpu  BCGD cyclic cpu  GD acc  BCGD permutation acc  \\\n",
              "0              0.230540         0.240228   0.052                 0.052   \n",
              "1              0.751159         0.757606   1.000                 1.000   \n",
              "2              1.293130         1.269916   1.000                 1.000   \n",
              "3              1.854749         1.796797   1.000                 1.000   \n",
              "4              2.376866         2.320974   1.000                 1.000   \n",
              "\n",
              "   BCGD cyclic acc  \n",
              "0            0.052  \n",
              "1            1.000  \n",
              "2            1.000  \n",
              "3            1.000  \n",
              "4            1.000  "
            ]
          },
          "execution_count": 82,
          "metadata": {},
          "output_type": "execute_result"
        }
      ],
      "source": [
        "train_res.head()"
      ]
    },
    {
      "cell_type": "code",
      "execution_count": 83,
      "metadata": {},
      "outputs": [
        {
          "data": {
            "text/plain": [
              "{'GD': array([1107.5101524 , 1083.6450982 , 1066.53193672, 1053.86707928,\n",
              "        1044.29891255, 1036.97010312, 1031.30306262, 1026.89107741,\n",
              "        1023.43857234, 1020.72588969, 1018.58718413, 1016.89581349,\n",
              "        1015.55427653, 1014.48705604, 1013.63540123, 1012.95345209,\n",
              "        1012.40531943, 1011.96286131, 1011.60397607, 1011.31128373]),\n",
              " 'BCGD permutation': array([1107.5101524 , 1080.84642785, 1062.41458314, 1049.26341027,\n",
              "        1039.67785284, 1032.59300255, 1027.30052463, 1023.31477592,\n",
              "        1020.2930647 , 1017.99064018, 1016.22810241, 1014.8726211 ,\n",
              "        1013.82576099, 1013.01324703, 1012.37977249, 1011.88268417,\n",
              "        1011.49058741, 1011.17862496, 1010.92841761,           nan]),\n",
              " 'BCGD cyclic': array([1107.5101524 , 1080.84411633, 1062.38723488, 1049.20676494,\n",
              "        1039.59757243, 1032.49335532, 1027.18894625, 1023.1990425 ,\n",
              "        1020.18025165, 1017.8848266 , 1016.13153821, 1014.78648078,\n",
              "        1013.74997896, 1012.9474221 , 1012.32272148, 1011.83357082,\n",
              "        1011.44797398, 1011.14167941, 1010.89627168,           nan])}"
            ]
          },
          "execution_count": 83,
          "metadata": {},
          "output_type": "execute_result"
        }
      ],
      "source": [
        "loss_dict"
      ]
    },
    {
      "cell_type": "code",
      "execution_count": 84,
      "metadata": {},
      "outputs": [],
      "source": [
        "cols_with_cpu = [c for c in train_res.columns if 'cpu' in c]\n",
        "cpu_dict = {}\n",
        "for c in cols_with_cpu:\n",
        "    cpu = train_res[c]\n",
        "    model_name = ' '.join(c.split(' ')[:-1])\n",
        "    cpu_dict[model_name] = cpu"
      ]
    },
    {
      "cell_type": "code",
      "execution_count": 85,
      "metadata": {},
      "outputs": [
        {
          "data": {
            "image/png": "[encoded data removed]",
            "text/plain": [
              "<Figure size 432x288 with 1 Axes>"
            ]
          },
          "metadata": {
            "needs_background": "light"
          },
          "output_type": "display_data"
        },
        {
          "data": {
            "image/png": "[encoded data removed]",
            "text/plain": [
              "<Figure size 432x288 with 1 Axes>"
            ]
          },
          "metadata": {
            "needs_background": "light"
          },
          "output_type": "display_data"
        }
      ],
      "source": [
        "def plot_loss_vs_cpu(loss_dict_, cpu_dict_, log_axis_):\n",
        "    fig, ax = plt.subplots()\n",
        "\n",
        "    assert(loss_dict_.keys() == cpu_dict_.keys())\n",
        "    \n",
        "    for model_name, loss in loss_dict_.items(): \n",
        "        cpu = cpu_dict_[model_name]\n",
        "\n",
        "        if log_axis_:\n",
        "            cpu = log(cpu)\n",
        "\n",
        "\n",
        "        ax.plot(\n",
        "            cpu, \n",
        "            loss,\n",
        "            marker = 'o',\n",
        "            markerfacecolor = 'white'\n",
        "        )\n",
        "    \n",
        "    plt.legend(loss_dict_.keys())\n",
        "    plt.xlabel('CPU time')\n",
        "    plt.ylabel('Loss value')\n",
        "    plt.title('Loss value VS CPU time')\n",
        "    plt.grid()\n",
        "\n",
        "\n",
        "plot_loss_vs_cpu(\n",
        "    loss_dict, \n",
        "    cpu_dict,\n",
        "    log_axis_ = False\n",
        ")\n",
        "\n",
        "plot_loss_vs_cpu(\n",
        "    loss_dict, \n",
        "    cpu_dict,\n",
        "    log_axis_ = True\n",
        ")"
      ]
    },
    {
      "cell_type": "markdown",
      "metadata": {},
      "source": [
        "# Accuracies VS iterations"
      ]
    },
    {
      "cell_type": "code",
      "execution_count": 86,
      "metadata": {},
      "outputs": [
        {
          "data": {
            "text/html": [
              "<div>\n",
              "<style scoped>\n",
              "    .dataframe tbody tr th:only-of-type {\n",
              "        vertical-align: middle;\n",
              "    }\n",
              "\n",
              "    .dataframe tbody tr th {\n",
              "        vertical-align: top;\n",
              "    }\n",
              "\n",
              "    .dataframe thead th {\n",
              "        text-align: right;\n",
              "    }\n",
              "</style>\n",
              "<table border=\"1\" class=\"dataframe\">\n",
              "  <thead>\n",
              "    <tr style=\"text-align: right;\">\n",
              "      <th></th>\n",
              "      <th>Unnamed: 0</th>\n",
              "      <th>GD loss</th>\n",
              "      <th>BCGD permutation loss</th>\n",
              "      <th>BCGD cyclic loss</th>\n",
              "      <th>GD cpu</th>\n",
              "      <th>BCGD permutation cpu</th>\n",
              "      <th>BCGD cyclic cpu</th>\n",
              "      <th>GD acc</th>\n",
              "      <th>BCGD permutation acc</th>\n",
              "      <th>BCGD cyclic acc</th>\n",
              "    </tr>\n",
              "  </thead>\n",
              "  <tbody>\n",
              "    <tr>\n",
              "      <th>0</th>\n",
              "      <td>0</td>\n",
              "      <td>1107.510152</td>\n",
              "      <td>1107.510152</td>\n",
              "      <td>1107.510152</td>\n",
              "      <td>0.261332</td>\n",
              "      <td>0.230540</td>\n",
              "      <td>0.240228</td>\n",
              "      <td>0.052</td>\n",
              "      <td>0.052</td>\n",
              "      <td>0.052</td>\n",
              "    </tr>\n",
              "    <tr>\n",
              "      <th>1</th>\n",
              "      <td>1</td>\n",
              "      <td>1083.645098</td>\n",
              "      <td>1080.846428</td>\n",
              "      <td>1080.844116</td>\n",
              "      <td>0.835035</td>\n",
              "      <td>0.751159</td>\n",
              "      <td>0.757606</td>\n",
              "      <td>1.000</td>\n",
              "      <td>1.000</td>\n",
              "      <td>1.000</td>\n",
              "    </tr>\n",
              "    <tr>\n",
              "      <th>2</th>\n",
              "      <td>2</td>\n",
              "      <td>1066.531937</td>\n",
              "      <td>1062.414583</td>\n",
              "      <td>1062.387235</td>\n",
              "      <td>1.420240</td>\n",
              "      <td>1.293130</td>\n",
              "      <td>1.269916</td>\n",
              "      <td>1.000</td>\n",
              "      <td>1.000</td>\n",
              "      <td>1.000</td>\n",
              "    </tr>\n",
              "    <tr>\n",
              "      <th>3</th>\n",
              "      <td>3</td>\n",
              "      <td>1053.867079</td>\n",
              "      <td>1049.263410</td>\n",
              "      <td>1049.206765</td>\n",
              "      <td>1.945552</td>\n",
              "      <td>1.854749</td>\n",
              "      <td>1.796797</td>\n",
              "      <td>1.000</td>\n",
              "      <td>1.000</td>\n",
              "      <td>1.000</td>\n",
              "    </tr>\n",
              "    <tr>\n",
              "      <th>4</th>\n",
              "      <td>4</td>\n",
              "      <td>1044.298913</td>\n",
              "      <td>1039.677853</td>\n",
              "      <td>1039.597572</td>\n",
              "      <td>2.470946</td>\n",
              "      <td>2.376866</td>\n",
              "      <td>2.320974</td>\n",
              "      <td>1.000</td>\n",
              "      <td>1.000</td>\n",
              "      <td>1.000</td>\n",
              "    </tr>\n",
              "  </tbody>\n",
              "</table>\n",
              "</div>"
            ],
            "text/plain": [
              "   Unnamed: 0      GD loss  BCGD permutation loss  BCGD cyclic loss    GD cpu  \\\n",
              "0           0  1107.510152            1107.510152       1107.510152  0.261332   \n",
              "1           1  1083.645098            1080.846428       1080.844116  0.835035   \n",
              "2           2  1066.531937            1062.414583       1062.387235  1.420240   \n",
              "3           3  1053.867079            1049.263410       1049.206765  1.945552   \n",
              "4           4  1044.298913            1039.677853       1039.597572  2.470946   \n",
              "\n",
              "   BCGD permutation cpu  BCGD cyclic cpu  GD acc  BCGD permutation acc  \\\n",
              "0              0.230540         0.240228   0.052                 0.052   \n",
              "1              0.751159         0.757606   1.000                 1.000   \n",
              "2              1.293130         1.269916   1.000                 1.000   \n",
              "3              1.854749         1.796797   1.000                 1.000   \n",
              "4              2.376866         2.320974   1.000                 1.000   \n",
              "\n",
              "   BCGD cyclic acc  \n",
              "0            0.052  \n",
              "1            1.000  \n",
              "2            1.000  \n",
              "3            1.000  \n",
              "4            1.000  "
            ]
          },
          "execution_count": 86,
          "metadata": {},
          "output_type": "execute_result"
        }
      ],
      "source": [
        "train_res.head()"
      ]
    },
    {
      "cell_type": "code",
      "execution_count": 88,
      "metadata": {},
      "outputs": [
        {
          "data": {
            "text/plain": [
              "['GD acc', 'BCGD permutation acc', 'BCGD cyclic acc']"
            ]
          },
          "execution_count": 88,
          "metadata": {},
          "output_type": "execute_result"
        }
      ],
      "source": [
        "acc_cols = [c for c in train_res.columns if 'acc' in c]\n",
        "acc_cols"
      ]
    },
    {
      "cell_type": "code",
      "execution_count": 90,
      "metadata": {},
      "outputs": [],
      "source": [
        "acc_dict = {}\n",
        "for acc_col in acc_cols:\n",
        "    key = ' '.join(acc_col.split(' ')[: -1])\n",
        "    value = train_res[acc_col]\n",
        "    acc_dict[key] = value"
      ]
    },
    {
      "cell_type": "code",
      "execution_count": 95,
      "metadata": {},
      "outputs": [
        {
          "data": {
            "image/png": "[encoded data removed]",
            "text/plain": [
              "<Figure size 504x360 with 1 Axes>"
            ]
          },
          "metadata": {
            "needs_background": "light"
          },
          "output_type": "display_data"
        }
      ],
      "source": [
        "plot_curves(\n",
        "    acc_dict, \n",
        "    'Accuracy VS iterations', \n",
        "    'Accuracy', \n",
        "    figsize = (7, 5), \n",
        "    log_axis_=False\n",
        ")"
      ]
    },
    {
      "cell_type": "markdown",
      "metadata": {},
      "source": [
        "# Performance metrics"
      ]
    },
    {
      "cell_type": "code",
      "execution_count": 96,
      "metadata": {},
      "outputs": [
        {
          "data": {
            "text/html": [
              "<div>\n",
              "<style scoped>\n",
              "    .dataframe tbody tr th:only-of-type {\n",
              "        vertical-align: middle;\n",
              "    }\n",
              "\n",
              "    .dataframe tbody tr th {\n",
              "        vertical-align: top;\n",
              "    }\n",
              "\n",
              "    .dataframe thead th {\n",
              "        text-align: right;\n",
              "    }\n",
              "</style>\n",
              "<table border=\"1\" class=\"dataframe\">\n",
              "  <thead>\n",
              "    <tr style=\"text-align: right;\">\n",
              "      <th></th>\n",
              "      <th>Unnamed: 0</th>\n",
              "      <th>CPU total time</th>\n",
              "      <th>N iterations</th>\n",
              "      <th>Final accuracy</th>\n",
              "      <th>CPU total time_norm</th>\n",
              "      <th>N iterations_norm</th>\n",
              "      <th>Final accuracy_norm</th>\n",
              "    </tr>\n",
              "  </thead>\n",
              "  <tbody>\n",
              "    <tr>\n",
              "      <th>0</th>\n",
              "      <td>GD</td>\n",
              "      <td>10.573890</td>\n",
              "      <td>19</td>\n",
              "      <td>1.0</td>\n",
              "      <td>1.000000</td>\n",
              "      <td>1.000000</td>\n",
              "      <td>1.0</td>\n",
              "    </tr>\n",
              "    <tr>\n",
              "      <th>1</th>\n",
              "      <td>BCGD permutation</td>\n",
              "      <td>9.762517</td>\n",
              "      <td>18</td>\n",
              "      <td>1.0</td>\n",
              "      <td>0.923266</td>\n",
              "      <td>0.947368</td>\n",
              "      <td>1.0</td>\n",
              "    </tr>\n",
              "    <tr>\n",
              "      <th>2</th>\n",
              "      <td>BCGD cyclic</td>\n",
              "      <td>9.709042</td>\n",
              "      <td>18</td>\n",
              "      <td>1.0</td>\n",
              "      <td>0.918209</td>\n",
              "      <td>0.947368</td>\n",
              "      <td>1.0</td>\n",
              "    </tr>\n",
              "  </tbody>\n",
              "</table>\n",
              "</div>"
            ],
            "text/plain": [
              "         Unnamed: 0  CPU total time  N iterations  Final accuracy  \\\n",
              "0                GD       10.573890            19             1.0   \n",
              "1  BCGD permutation        9.762517            18             1.0   \n",
              "2       BCGD cyclic        9.709042            18             1.0   \n",
              "\n",
              "   CPU total time_norm  N iterations_norm  Final accuracy_norm  \n",
              "0             1.000000           1.000000                  1.0  \n",
              "1             0.923266           0.947368                  1.0  \n",
              "2             0.918209           0.947368                  1.0  "
            ]
          },
          "execution_count": 96,
          "metadata": {},
          "output_type": "execute_result"
        }
      ],
      "source": [
        "metrics_res.head()"
      ]
    },
    {
      "cell_type": "code",
      "execution_count": 99,
      "metadata": {},
      "outputs": [
        {
          "data": {
            "image/png": "[encoded data removed]",
            "text/plain": [
              "<Figure size 576x576 with 1 Axes>"
            ]
          },
          "metadata": {
            "needs_background": "light"
          },
          "output_type": "display_data"
        }
      ],
      "source": [
        "def plot_bar_metrics(metrics_df):\n",
        "    \n",
        "    ax = metrics_df.plot.bar(\n",
        "        rot = 0,\n",
        "        ylabel = 'Metrics results',\n",
        "        cmap = 'Paired',\n",
        "        figsize = (8, 8)\n",
        "    )\n",
        "\n",
        "    ax.set_title('Models cpu time, iterations & performance', fontsize = 18)\n",
        "    ax.set_ylabel('Metrics scores', fontsize = 18)\n",
        "    ax.tick_params(axis = 'y', labelsize = 15)\n",
        "    ax.tick_params(axis = 'x', labelsize = 12)\n",
        "    ax.legend(loc = 3, prop = {'size': 13})\n",
        "    plt.grid()\n",
        "\n",
        "metrics_cols = [c for c in metrics_res.columns if '_norm' in c]\n",
        "plot_bar_metrics(metrics_res.loc[:, metrics_cols])"
      ]
    }
  ],
  "metadata": {
    "colab": {
      "collapsed_sections": [],
      "name": "HW1.ipynb",
      "provenance": []
    },
    "kernelspec": {
      "display_name": "Python 3",
      "name": "python3"
    },
    "language_info": {
      "codemirror_mode": {
        "name": "ipython",
        "version": 3
      },
      "file_extension": ".py",
      "mimetype": "text/x-python",
      "name": "python",
      "nbconvert_exporter": "python",
      "pygments_lexer": "ipython3",
      "version": "3.9.7"
    }
  },
  "nbformat": 4,
  "nbformat_minor": 0
}
