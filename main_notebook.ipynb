{
  "cells": [
    {
      "cell_type": "markdown",
      "metadata": {
        "id": "SY5WztYNneGg"
      },
      "source": [
        "### MSc Computer Science, Data Science @UniPD\n",
        "### Optimization Methods for Data Science\n",
        "---"
      ]
    },
    {
      "cell_type": "markdown",
      "metadata": {
        "id": "dDnBuyzNnFxk"
      },
      "source": [
        "# Packages"
      ]
    },
    {
      "cell_type": "code",
      "execution_count": 46,
      "metadata": {
        "id": "VlSWeYY3nI05"
      },
      "outputs": [],
      "source": [
        "env = 'pc'  # 'pc', 'colab'\n",
        "\n",
        "save_dir = f'C:/Users/79137/Pasha/2. UNIPD/Semester 2/Optimization for Data Science/Homeworks/HW 1/Semi-Supervised-Labelling/'\n",
        "using_gpu = False"
      ]
    },
    {
      "cell_type": "code",
      "execution_count": 4,
      "metadata": {
        "id": "7uuSxlZRjyxM"
      },
      "outputs": [],
      "source": [
        "%%capture\n",
        "git_download_path = 'https://raw.githubusercontent.com/PashaIanko/Semi-Supervised-Labelling/master/'\n",
        "\n",
        "def download_files(url_dict):\n",
        "    for file, url in url_dict.items():\n",
        "        !wget -O {file} {url} {file}\n",
        "\n",
        "if env == 'colab':\n",
        "    from google.colab import drive\n",
        "    drive.mount('/content/drive')\n",
        "\n",
        "    files = [\n",
        "           'BCGDSolver.py',\n",
        "           'DataProperties.py',\n",
        "           'GradientDescentSolver.py',\n",
        "           'GradientSolver.py',\n",
        "           'Utils.py'  \n",
        "    ]\n",
        "\n",
        "    url_dict = {file: git_download_path + file for file in files}\n",
        "    download_files(url_dict)"
      ]
    },
    {
      "cell_type": "code",
      "execution_count": 5,
      "metadata": {
        "id": "2N9xcpuXji8g"
      },
      "outputs": [],
      "source": [
        "from sklearn.datasets import make_blobs\n",
        "import numpy as np\n",
        "\n",
        "from sklearn import datasets\n",
        "from sklearn.metrics import accuracy_score\n",
        "import pandas as pd\n",
        "import timeit\n",
        "\n",
        "# Plotting\n",
        "import matplotlib.pyplot as plt"
      ]
    },
    {
      "cell_type": "code",
      "execution_count": 6,
      "metadata": {
        "id": "_t8si-IGji8g"
      },
      "outputs": [],
      "source": [
        "import Utils\n",
        "import GradientSolver\n",
        "import GradientDescentSolver\n",
        "import DataProperties\n",
        "import BCGDSolver\n",
        "import importlib\n",
        "\n",
        "def reload_all(modules_list):\n",
        "    for module in modules_list:\n",
        "        importlib.reload(module)\n",
        "\n",
        "reload_all(\n",
        "    [\n",
        "        Utils,\n",
        "        GradientSolver,\n",
        "        GradientDescentSolver,\n",
        "        DataProperties,\n",
        "        BCGDSolver\n",
        "    ]\n",
        ")\n",
        "\n",
        "from Utils import *\n",
        "from GradientSolver import GradientSolver\n",
        "from GradientDescentSolver import GradientDescentSolver\n",
        "from DataProperties import DataProperties\n",
        "from BCGDSolver import BCGDSolver"
      ]
    },
    {
      "cell_type": "markdown",
      "metadata": {
        "id": "d_yGB-zWji8e"
      },
      "source": [
        "# Data preparation"
      ]
    },
    {
      "cell_type": "code",
      "execution_count": 7,
      "metadata": {
        "id": "fjGFGUL5ji8f"
      },
      "outputs": [],
      "source": [
        "# Fix states\n",
        "sklearn_random_state = 42\n",
        "numpy_seed = 42\n",
        "\n",
        "np.random.seed(numpy_seed)"
      ]
    },
    {
      "cell_type": "code",
      "execution_count": 8,
      "metadata": {
        "colab": {
          "base_uri": "https://localhost:8080/",
          "height": 282
        },
        "id": "ba7q6jrYji8h",
        "outputId": "6b6c6a58-14ed-40bc-ec15-e83552ce2b84"
      },
      "outputs": [
        {
          "name": "stdout",
          "output_type": "stream",
          "text": [
            "Data shape: X: (1000, 2), Y: (1000,)\n"
          ]
        },
        {
          "data": {
            "image/png": "[encoded data removed]",
            "text/plain": [
              "<Figure size 432x288 with 1 Axes>"
            ]
          },
          "metadata": {
            "needs_background": "light"
          },
          "output_type": "display_data"
        }
      ],
      "source": [
        "X, Y = make_blobs(\n",
        "    n_samples = DataProperties.n_samples,\n",
        "    centers = DataProperties.n_clusters,\n",
        "    n_features = DataProperties.n_dims,\n",
        "    random_state = sklearn_random_state\n",
        ")\n",
        "\n",
        "def euclidian_similarity(Xi, Xj):\n",
        "    return 1 / (norm(Xi - Xj) + 0.001)\n",
        "\n",
        "weights = calc_weight_matrix(X, weight_func = euclidian_similarity)\n",
        "\n",
        "\n",
        "Y = Y.astype('float64')\n",
        "clusters = np.unique(Y)\n",
        "\n",
        "print(f'Data shape: X: {X.shape}, Y: {Y.shape}')\n",
        "plot_clusters(X, Y)"
      ]
    },
    {
      "cell_type": "markdown",
      "metadata": {
        "id": "3euoJu6uji8i"
      },
      "source": [
        "## Unlabel subset and visualize"
      ]
    },
    {
      "cell_type": "code",
      "execution_count": 10,
      "metadata": {
        "colab": {
          "base_uri": "https://localhost:8080/",
          "height": 404
        },
        "id": "Q_Gd7FQhji8j",
        "outputId": "42891ec6-d8cd-4620-d3ca-c47b0e957340"
      },
      "outputs": [
        {
          "name": "stdout",
          "output_type": "stream",
          "text": [
            "Found 500 instances of object 0.0\n",
            "We have to delabel 475 instances\n",
            "Found 500 instances of object 1.0\n",
            "We have to delabel 475 instances\n",
            "\n",
            "    We have 950 unlabeled data\n",
            "    Out of 1000\n",
            "    \n"
          ]
        },
        {
          "data": {
            "image/png": "[encoded data removed]",
            "text/plain": [
              "<Figure size 432x288 with 1 Axes>"
            ]
          },
          "metadata": {
            "needs_background": "light"
          },
          "output_type": "display_data"
        }
      ],
      "source": [
        "Y_delabeled = delabel_data(\n",
        "    Y,\n",
        "    labeled_percent = DataProperties.labeled_percentage,\n",
        "    delabel_value = DataProperties.unlabeled\n",
        ")\n",
        "\n",
        "print(\n",
        "    f'''\n",
        "    We have {len(Y_delabeled[Y_delabeled == DataProperties.unlabeled])} unlabeled data\n",
        "    Out of {len(Y_delabeled)}\n",
        "    '''\n",
        ")\n",
        "\n",
        "plot_clusters(X, Y_delabeled)"
      ]
    },
    {
      "cell_type": "markdown",
      "metadata": {
        "id": "kXobOU1Oji8j"
      },
      "source": [
        "- Up to now, we have the clustered data, saved correct labelling (Y) and delabelled data (Y_delabelled)\n",
        "- For the unlabelled y variables, the loss function depends on the (y_1, ..., y_U) unlabeled parameters. Each of the\n",
        "parameters is independent on others, and can be 0 or 1 (for **binary clustering problem**). This is why we will be searching\n",
        "for **optimal solution in the R^(U)** space, which yields minimum to the **loss function**"
      ]
    },
    {
      "cell_type": "code",
      "execution_count": 11,
      "metadata": {
        "id": "8bywWUfPji8k"
      },
      "outputs": [],
      "source": [
        "import collections\n",
        "class_stats = collections.Counter(Y_delabeled)\n",
        "assert(len(class_stats.keys()) == 3)  # 2 labeled classes and 1 unlabeled"
      ]
    },
    {
      "cell_type": "markdown",
      "metadata": {
        "id": "a8p9YRMLnWHy"
      },
      "source": [
        "# Gradient descent"
      ]
    },
    {
      "cell_type": "code",
      "execution_count": 12,
      "metadata": {
        "id": "hYtCWDXkji8k"
      },
      "outputs": [],
      "source": [
        "# solver = GradientDescentSolver(\n",
        "#     similarity_func = None, # euclidian_similarity,\n",
        "#     lr_strategy = 'lr_constant',  # search for alpha_k\n",
        "#     learning_rate = 0.001\n",
        "# )"
      ]
    },
    {
      "cell_type": "code",
      "execution_count": 13,
      "metadata": {
        "colab": {
          "base_uri": "https://localhost:8080/"
        },
        "id": "KvbU0oqziHie",
        "outputId": "7f9a7487-3ff0-4943-aca8-a970c4c3e326"
      },
      "outputs": [],
      "source": [
        "# X.shape"
      ]
    },
    {
      "cell_type": "code",
      "execution_count": 14,
      "metadata": {
        "colab": {
          "base_uri": "https://localhost:8080/"
        },
        "id": "wVOCEkE4iHif",
        "outputId": "fa059598-cdc8-45e2-a304-3ccc4404ea58"
      },
      "outputs": [],
      "source": [
        "# Y_preds_GD = solver.solve(\n",
        "#     X, \n",
        "#     Y_delabeled, \n",
        "#     iter_limit = 10, \n",
        "#     delta_loss_limit = 0.008, \n",
        "#     stop_loss = 2198,\n",
        "#     weight_matrix = weights\n",
        "# )"
      ]
    },
    {
      "cell_type": "code",
      "execution_count": 15,
      "metadata": {
        "colab": {
          "base_uri": "https://localhost:8080/",
          "height": 530
        },
        "id": "RNwF4Xw1ji8l",
        "outputId": "2314a1c2-9cdc-41b2-8e13-ec2056f0ec1f"
      },
      "outputs": [],
      "source": [
        "# plot_clusters(X, Y)\n",
        "# plot_clusters(X, Y_preds_GD)\n",
        "# print(f'Accuracy: {accuracy_score(Y, Y_preds_GD)}')"
      ]
    },
    {
      "cell_type": "code",
      "execution_count": 16,
      "metadata": {
        "colab": {
          "base_uri": "https://localhost:8080/",
          "height": 265
        },
        "id": "kkBkvHBUji8m",
        "outputId": "c76d1ac9-b023-4e3a-a07e-088965b8265d"
      },
      "outputs": [],
      "source": [
        "# plt.plot(solver.losses, marker = 'o')\n",
        "# plt.grid()"
      ]
    },
    {
      "cell_type": "markdown",
      "metadata": {
        "id": "GP5tfHQAji8m"
      },
      "source": [
        "# Block coordinates gradient descent (randomized)"
      ]
    },
    {
      "cell_type": "markdown",
      "metadata": {
        "id": "cCyQ8hkUji8m"
      },
      "source": [
        "## BCGD random permutations"
      ]
    },
    {
      "cell_type": "code",
      "execution_count": 17,
      "metadata": {
        "id": "4-b49qQUji8n"
      },
      "outputs": [],
      "source": [
        "# random_solver = BCGDSolver(\n",
        "#     lr_strategy = 'lr_constant',\n",
        "#     learning_rate = 0.001,\n",
        "#     similarity_func = None,\n",
        "\n",
        "#     bcgd_strategy = 'random permutation',\n",
        "# )"
      ]
    },
    {
      "cell_type": "code",
      "execution_count": 18,
      "metadata": {
        "colab": {
          "base_uri": "https://localhost:8080/"
        },
        "id": "DcYrVUNwji8n",
        "outputId": "502ef351-0545-426e-eeb6-93a0d8e533d4"
      },
      "outputs": [],
      "source": [
        "# Y_preds_BCGD_permutation = random_solver.solve(\n",
        "#     X, \n",
        "#     Y_delabeled, \n",
        "#     iter_limit = 10, \n",
        "#     delta_loss_limit = 0.008, \n",
        "#     stop_loss= 2174,\n",
        "#     weight_matrix = weights\n",
        "# )"
      ]
    },
    {
      "cell_type": "code",
      "execution_count": 19,
      "metadata": {
        "colab": {
          "base_uri": "https://localhost:8080/",
          "height": 530
        },
        "id": "6KwW3-WNji8n",
        "outputId": "689e0976-95fa-466c-85ac-b88a0f9d2302"
      },
      "outputs": [],
      "source": [
        "# plot_clusters(X, Y)\n",
        "# plot_clusters(X, Y_preds_BCGD_permutation)\n",
        "# print(f'Accuracy: {accuracy_score(Y, Y_preds_BCGD_permutation)}')"
      ]
    },
    {
      "cell_type": "code",
      "execution_count": 20,
      "metadata": {
        "colab": {
          "base_uri": "https://localhost:8080/",
          "height": 265
        },
        "id": "RJVEaOaBji8n",
        "outputId": "2c2b3940-724f-4f3d-b243-b642508e3e2e"
      },
      "outputs": [],
      "source": [
        "# plt.plot(random_solver.losses, marker = 'o')\n",
        "# plt.grid()"
      ]
    },
    {
      "cell_type": "markdown",
      "metadata": {
        "id": "H3EP1xPTji8o"
      },
      "source": [
        "## BCGD random sampling"
      ]
    },
    {
      "cell_type": "code",
      "execution_count": null,
      "metadata": {
        "id": "Np9yEf8Qji8o"
      },
      "outputs": [],
      "source": [
        "# BCGD_RS_solver = BCGDSolver(\n",
        "#     lr_strategy = 'lr_constant',\n",
        "#     learning_rate = 0.00015,\n",
        "#     similarity_func = None,\n",
        "\n",
        "#     bcgd_strategy = 'random sampling'\n",
        "# )"
      ]
    },
    {
      "cell_type": "code",
      "execution_count": null,
      "metadata": {
        "colab": {
          "base_uri": "https://localhost:8080/"
        },
        "id": "d7DWIY39ji8o",
        "outputId": "ebfc0699-9636-498c-c407-29205efe3830"
      },
      "outputs": [
        {
          "name": "stdout",
          "output_type": "stream",
          "text": [
            "Iteration: 0, Loss: 5852.532638240798, Delta: 5852.532638240798\n",
            "Iteration: 1, Loss: 5852.486462445505, Delta: 0.04617579529349314\n",
            "Iteration: 2, Loss: 5852.382709959946, Delta: 0.10375248555919825\n",
            "Iteration: 3, Loss: 5852.376437273661, Delta: 0.006272686284319207\n",
            "Iteration: 4, Loss: 5852.341537981054, Delta: 0.034899292607406096\n",
            "Iteration: 5, Loss: 5852.328438924664, Delta: 0.0130990563902742\n",
            "Iteration: 6, Loss: 5852.316576880985, Delta: 0.01186204367877508\n",
            "Iteration: 7, Loss: 5852.30616089726, Delta: 0.010415983724669786\n",
            "Iteration: 8, Loss: 5852.286311036492, Delta: 0.019849860767862992\n",
            "Iteration: 9, Loss: 5852.24399751776, Delta: 0.04231351873204403\n",
            "Iteration: 10, Loss: 5852.220699238321, Delta: 0.023298279439586622\n",
            "Iteration: 11, Loss: 5852.19075331712, Delta: 0.029945921201033343\n",
            "Iteration: 12, Loss: 5852.127049051644, Delta: 0.0637042654761899\n",
            "Iteration: 13, Loss: 5852.090752881695, Delta: 0.03629616994840035\n",
            "Iteration: 14, Loss: 5852.066453961306, Delta: 0.024298920388901024\n",
            "Iteration: 15, Loss: 5851.960191606907, Delta: 0.10626235439940501\n",
            "Iteration: 16, Loss: 5851.824909044344, Delta: 0.13528256256267923\n",
            "Iteration: 17, Loss: 5851.732553882498, Delta: 0.09235516184617154\n",
            "Iteration: 18, Loss: 5851.671892266578, Delta: 0.0606616159202531\n",
            "Iteration: 19, Loss: 5851.641349207622, Delta: 0.03054305895602738\n",
            "Iteration: 20, Loss: 5851.6268178151, Delta: 0.014531392521348607\n",
            "Iteration: 21, Loss: 5851.562012034178, Delta: 0.06480578092214273\n",
            "Iteration: 22, Loss: 5851.5268956251075, Delta: 0.03511640907072433\n",
            "Iteration: 23, Loss: 5851.463111623389, Delta: 0.06378400171888643\n",
            "Iteration: 24, Loss: 5851.332896002849, Delta: 0.13021562053927482\n",
            "Iteration: 25, Loss: 5851.280501100161, Delta: 0.052394902688320144\n",
            "Iteration: 26, Loss: 5851.213580554335, Delta: 0.06692054582617857\n",
            "Iteration: 27, Loss: 5851.166913673797, Delta: 0.04666688053748658\n",
            "Iteration: 28, Loss: 5851.130989669103, Delta: 0.03592400469460699\n",
            "Iteration: 29, Loss: 5851.049302239446, Delta: 0.08168742965699494\n",
            "Iteration: 30, Loss: 5850.975098655324, Delta: 0.07420358412218775\n",
            "Iteration: 31, Loss: 5850.927699519981, Delta: 0.047399135342857335\n",
            "Iteration: 32, Loss: 5850.84008760801, Delta: 0.08761191197027074\n",
            "Iteration: 33, Loss: 5850.757272988959, Delta: 0.08281461905153265\n",
            "Iteration: 34, Loss: 5849.621977248553, Delta: 1.1352957404060362\n",
            "Iteration: 35, Loss: 5849.610420030927, Delta: 0.011557217625522753\n",
            "Iteration: 36, Loss: 5849.528318612208, Delta: 0.08210141871950327\n",
            "Iteration: 37, Loss: 5849.517769530217, Delta: 0.01054908199057536\n",
            "Iteration: 38, Loss: 5849.505316929139, Delta: 0.012452601078621228\n",
            "Iteration: 39, Loss: 5849.4146242666475, Delta: 0.09069266249116481\n",
            "Iteration: 40, Loss: 5849.40210837458, Delta: 0.012515892067312961\n",
            "Iteration: 41, Loss: 5849.393822692427, Delta: 0.008285682152745721\n",
            "Iteration: 42, Loss: 5849.376286209561, Delta: 0.017536482866489678\n",
            "Iteration: 43, Loss: 5844.255064544285, Delta: 5.121221665275698\n",
            "Iteration: 44, Loss: 5844.183430381485, Delta: 0.07163416280036472\n",
            "Iteration: 45, Loss: 5844.131953768135, Delta: 0.05147661335013254\n",
            "Iteration: 46, Loss: 5843.007323565971, Delta: 1.1246302021636438\n",
            "Iteration: 47, Loss: 5842.989101736148, Delta: 0.018221829823232838\n",
            "Iteration: 48, Loss: 5842.9660075357215, Delta: 0.023094200426385214\n",
            "Iteration: 49, Loss: 5842.892814708728, Delta: 0.07319282699336327\n",
            "Iteration: 50, Loss: 5842.841575818806, Delta: 0.0512388899223879\n",
            "Iteration: 51, Loss: 5842.812771019804, Delta: 0.028804799001591164\n",
            "Iteration: 52, Loss: 5842.807804379229, Delta: 0.004966640574821213\n",
            "Iteration: 53, Loss: 5842.750742720534, Delta: 0.05706165869560209\n",
            "Iteration: 54, Loss: 5842.7086626261935, Delta: 0.04208009434023552\n",
            "Iteration: 55, Loss: 5842.661641245061, Delta: 0.04702138113225374\n",
            "Iteration: 56, Loss: 5842.635881753754, Delta: 0.025759491307326243\n",
            "Iteration: 57, Loss: 5842.600601547245, Delta: 0.03528020650901453\n",
            "Iteration: 58, Loss: 5842.525833376165, Delta: 0.07476817107999523\n",
            "Iteration: 59, Loss: 5842.461403577713, Delta: 0.06442979845178343\n",
            "Iteration: 60, Loss: 5842.281744768327, Delta: 0.1796588093857281\n",
            "Iteration: 61, Loss: 5842.213318747701, Delta: 0.06842602062624792\n",
            "Iteration: 62, Loss: 5842.170203730055, Delta: 0.043115017646414344\n",
            "Iteration: 63, Loss: 5842.11053498624, Delta: 0.05966874381465459\n",
            "Iteration: 64, Loss: 5842.096672152525, Delta: 0.013862833715393208\n",
            "Iteration: 65, Loss: 5842.0337206028535, Delta: 0.06295154967119743\n",
            "Iteration: 66, Loss: 5841.957093148763, Delta: 0.0766274540901577\n",
            "Iteration: 67, Loss: 5841.942564920249, Delta: 0.014528228513881913\n",
            "Iteration: 68, Loss: 5841.900446174852, Delta: 0.04211874539760174\n",
            "Iteration: 69, Loss: 5841.817436990322, Delta: 0.08300918453005579\n",
            "Iteration: 70, Loss: 5841.78645017357, Delta: 0.030986816751465085\n",
            "Iteration: 71, Loss: 5841.7526694758635, Delta: 0.03378069770678849\n",
            "Iteration: 72, Loss: 5841.731231179537, Delta: 0.021438296326778072\n",
            "Iteration: 73, Loss: 5841.675042153883, Delta: 0.05618902565402095\n",
            "Iteration: 74, Loss: 5841.629731615707, Delta: 0.04531053817572683\n",
            "Iteration: 75, Loss: 5841.59750335241, Delta: 0.03222826329692907\n",
            "Iteration: 76, Loss: 5841.575113491461, Delta: 0.022389860949260765\n",
            "Iteration: 77, Loss: 5841.546613607942, Delta: 0.028499883518634306\n",
            "Iteration: 78, Loss: 5841.529761917479, Delta: 0.016851690463226987\n",
            "Iteration: 79, Loss: 5841.491316545711, Delta: 0.03844537176792073\n",
            "Iteration: 80, Loss: 5841.450237378285, Delta: 0.041079167425777996\n",
            "Iteration: 81, Loss: 5841.379803041378, Delta: 0.0704343369070557\n",
            "Iteration: 82, Loss: 5841.326738292673, Delta: 0.05306474870485545\n",
            "Iteration: 83, Loss: 5841.302168904223, Delta: 0.02456938844989054\n",
            "Iteration: 84, Loss: 5841.290590423954, Delta: 0.011578480269236024\n",
            "Iteration: 85, Loss: 5841.266495302207, Delta: 0.02409512174745032\n",
            "Iteration: 86, Loss: 5841.144858617496, Delta: 0.12163668471112032\n",
            "Iteration: 87, Loss: 5841.007089814049, Delta: 0.13776880344630626\n",
            "Iteration: 88, Loss: 5840.9112493883795, Delta: 0.09584042566984863\n",
            "Iteration: 89, Loss: 5840.843800087686, Delta: 0.06744930069362454\n",
            "Iteration: 90, Loss: 5840.674670698284, Delta: 0.16912938940185995\n",
            "Iteration: 91, Loss: 5840.537558001415, Delta: 0.13711269686882588\n",
            "Iteration: 92, Loss: 5840.507359437881, Delta: 0.030198563534213463\n",
            "Iteration: 93, Loss: 5840.489263216162, Delta: 0.01809622171913361\n",
            "Iteration: 94, Loss: 5840.439692857862, Delta: 0.04957035830011591\n",
            "Iteration: 95, Loss: 5840.375944793399, Delta: 0.06374806446274306\n",
            "Iteration: 96, Loss: 5840.338349345258, Delta: 0.03759544814056426\n",
            "Iteration: 97, Loss: 5840.255755035448, Delta: 0.08259430981070182\n",
            "Iteration: 98, Loss: 5840.226275176731, Delta: 0.029479858716513263\n",
            "Iteration: 99, Loss: 5840.189630276501, Delta: 0.03664490023038525\n"
          ]
        }
      ],
      "source": [
        "# Y_preds_BCGD_sampling = BCGD_RS_solver.solve(\n",
        "#     X = X, \n",
        "#     Y = Y_delabeled, \n",
        "#     iter_limit = 100,\n",
        "#     delta_loss_limit = 0.0,\n",
        "#     stop_loss= 2380,\n",
        "#     weight_matrix = weights\n",
        "# )"
      ]
    },
    {
      "cell_type": "code",
      "execution_count": null,
      "metadata": {
        "colab": {
          "base_uri": "https://localhost:8080/",
          "height": 282
        },
        "id": "Hkiavnn4ji8p",
        "outputId": "1b4c0c3b-0882-4df1-b5ad-86629625047b"
      },
      "outputs": [
        {
          "name": "stdout",
          "output_type": "stream",
          "text": [
            "Accuracy: 0.571\n"
          ]
        },
        {
          "data": {
            "image/png": "[encoded data removed]",
            "text/plain": [
              "<Figure size 432x288 with 1 Axes>"
            ]
          },
          "metadata": {
            "needs_background": "light"
          },
          "output_type": "display_data"
        }
      ],
      "source": [
        "# plot_clusters(\n",
        "#     X, Y_preds_BCGD_sampling\n",
        "# )\n",
        "# print(f'Accuracy: {accuracy_score(Y, Y_preds_BCGD_sampling)}')"
      ]
    },
    {
      "cell_type": "code",
      "execution_count": null,
      "metadata": {
        "colab": {
          "base_uri": "https://localhost:8080/",
          "height": 265
        },
        "id": "QYc5egcOji8p",
        "outputId": "d6e6ff11-117c-4b9a-e166-0230d0295b14"
      },
      "outputs": [
        {
          "data": {
            "image/png": "[encoded data removed]",
            "text/plain": [
              "<Figure size 432x288 with 1 Axes>"
            ]
          },
          "metadata": {
            "needs_background": "light"
          },
          "output_type": "display_data"
        }
      ],
      "source": [
        "# plt.plot(BCGD_RS_solver.losses)\n",
        "# plt.grid()"
      ]
    },
    {
      "cell_type": "markdown",
      "metadata": {
        "id": "AKCfR4boji8p"
      },
      "source": [
        "## BCGD cyclic"
      ]
    },
    {
      "cell_type": "code",
      "execution_count": null,
      "metadata": {
        "id": "9t1zhz2nji8p"
      },
      "outputs": [],
      "source": [
        "# BCGD_cyclic_solver = BCGDSolver(\n",
        "#     lr_strategy = 'lr_constant',\n",
        "#     learning_rate = 0.001,\n",
        "#     similarity_func = None,\n",
        "\n",
        "#     bcgd_strategy = 'cyclic'\n",
        "# )"
      ]
    },
    {
      "cell_type": "code",
      "execution_count": null,
      "metadata": {
        "colab": {
          "base_uri": "https://localhost:8080/"
        },
        "id": "MTLrf9Hgji8p",
        "outputId": "53556d8a-7768-4f06-e40a-8e6f9e83360d"
      },
      "outputs": [
        {
          "name": "stdout",
          "output_type": "stream",
          "text": [
            "Iteration: 0, Loss: 5852.532638240798, Delta: 5852.532638240798\n",
            "Iteration: 1, Loss: 5383.38169306933, Delta: 469.15094517146827\n",
            "Iteration: 2, Loss: 5160.130641867445, Delta: 223.25105120188528\n",
            "Iteration: 3, Loss: 5085.495608265532, Delta: 74.63503360191316\n",
            "Iteration: 4, Loss: 5057.8065144248185, Delta: 27.689093840713213\n",
            "Iteration: 5, Loss: 5046.753284600918, Delta: 11.053229823900438\n",
            "Iteration: 6, Loss: 5042.112902764877, Delta: 4.6403818360413425\n",
            "Iteration: 7, Loss: 5039.927860435394, Delta: 2.1850423294827124\n",
            "Iteration: 8, Loss: 5038.7765365994255, Delta: 1.1513238359684692\n",
            "Iteration: 9, Loss: 5038.065369794376, Delta: 0.7111668050492881\n"
          ]
        }
      ],
      "source": [
        "# Y_preds_BCGD_cyclic = BCGD_cyclic_solver.solve(\n",
        "#     X,\n",
        "#     Y_delabeled, \n",
        "#     iter_limit = 10, \n",
        "#     delta_loss_limit = 0.0001,\n",
        "#     stop_loss = 2300,\n",
        "#     weight_matrix = weights\n",
        "# )"
      ]
    },
    {
      "cell_type": "code",
      "execution_count": null,
      "metadata": {
        "colab": {
          "base_uri": "https://localhost:8080/",
          "height": 282
        },
        "id": "95Q50O22ji8q",
        "outputId": "bde02962-99a1-4a3f-8b82-0f31f240de73"
      },
      "outputs": [
        {
          "name": "stdout",
          "output_type": "stream",
          "text": [
            "Accuracy: 1.0\n"
          ]
        },
        {
          "data": {
            "image/png": "[encoded data removed]",
            "text/plain": [
              "<Figure size 432x288 with 1 Axes>"
            ]
          },
          "metadata": {
            "needs_background": "light"
          },
          "output_type": "display_data"
        }
      ],
      "source": [
        "# print(f'Accuracy: {accuracy_score(Y_preds_BCGD_cyclic, Y)}')\n",
        "# plot_clusters(\n",
        "#     X, Y_preds_BCGD_cyclic\n",
        "# )"
      ]
    },
    {
      "cell_type": "code",
      "execution_count": null,
      "metadata": {
        "colab": {
          "base_uri": "https://localhost:8080/",
          "height": 265
        },
        "id": "9w-wKchjji8q",
        "outputId": "bda9a6a2-e3db-44b2-f4e7-e1b9ab4a35d3"
      },
      "outputs": [
        {
          "data": {
            "image/png": "[encoded data removed]",
            "text/plain": [
              "<Figure size 432x288 with 1 Axes>"
            ]
          },
          "metadata": {
            "needs_background": "light"
          },
          "output_type": "display_data"
        }
      ],
      "source": [
        "# plt.plot(BCGD_cyclic_solver.losses, marker = 'o')\n",
        "# plt.grid()"
      ]
    },
    {
      "cell_type": "markdown",
      "metadata": {
        "id": "JE0wByBMji8q"
      },
      "source": [
        "# Model comparison"
      ]
    },
    {
      "cell_type": "markdown",
      "metadata": {
        "id": "swRV0Q4jji8q"
      },
      "source": [
        "We will compare models based on:\n",
        "- Clustering metrics\n",
        "- CPU time\n",
        "- Number of iterations\n",
        "- Loss curves\n",
        "- Distance metrics"
      ]
    },
    {
      "cell_type": "code",
      "execution_count": 21,
      "metadata": {
        "id": "1VaNQmYvji8q"
      },
      "outputs": [],
      "source": [
        "learning_rate_strategy = 'lr_constant'\n",
        "simil_func = None  # No feature yet\n",
        "lr = 0.001\n",
        "\n",
        "gd_solver = GradientDescentSolver(\n",
        "    similarity_func = simil_func,\n",
        "    lr_strategy = learning_rate_strategy,\n",
        "    learning_rate = lr\n",
        ")\n",
        "\n",
        "bcgd_permut_solver = BCGDSolver(\n",
        "    lr_strategy = learning_rate_strategy,\n",
        "    learning_rate = lr,\n",
        "    similarity_func = simil_func,\n",
        "    bcgd_strategy = 'random permutation',\n",
        ")\n",
        "\n",
        "bcgd_sampling_solver = BCGDSolver(\n",
        "    lr_strategy = learning_rate_strategy,\n",
        "    learning_rate = lr,\n",
        "    similarity_func = simil_func,\n",
        "    bcgd_strategy = 'random sampling',\n",
        ")\n",
        "\n",
        "bcgd_cyclic_solver = BCGDSolver(\n",
        "    lr_strategy = learning_rate_strategy,\n",
        "    learning_rate = lr,\n",
        "    similarity_func = simil_func,\n",
        "    bcgd_strategy = 'cyclic',\n",
        ")"
      ]
    },
    {
      "cell_type": "code",
      "execution_count": 22,
      "metadata": {
        "id": "qEjgEjiKji8r"
      },
      "outputs": [],
      "source": [
        "solvers = {\n",
        "    'GD': gd_solver,\n",
        "    'BCGD permutation': bcgd_permut_solver,\n",
        "    'BCGD cyclic': bcgd_cyclic_solver,\n",
        "    'BCGD sampling': bcgd_sampling_solver,\n",
        "}"
      ]
    },
    {
      "cell_type": "code",
      "execution_count": 23,
      "metadata": {
        "id": "hcChCMybji8r"
      },
      "outputs": [],
      "source": [
        "def compare_models(solvers_dict, X, Y_delabeled, iters_limit, delta_loss_limit, stop_loss, weights_matrix):\n",
        "    predictions = {k:None for k in solvers_dict.keys()}\n",
        "    losses = {k:None for k in solvers_dict.keys()}\n",
        "    n_iterations = {k:None for k in solvers_dict.keys()}\n",
        "    cpu_times = {k:None for k in solvers_dict.keys()}\n",
        "\n",
        "    for model_name, model in solvers_dict.items():\n",
        "        start = timeit.default_timer()\n",
        "        Y_preds = model.solve(\n",
        "            X,\n",
        "            Y_delabeled,\n",
        "            iter_limit = iters_limit,\n",
        "            delta_loss_limit = delta_loss_limit,\n",
        "            stop_loss= stop_loss,\n",
        "            weight_matrix = weights_matrix\n",
        "        )\n",
        "        end = timeit.default_timer()\n",
        "        predictions[model_name] = Y_preds\n",
        "        losses[model_name] = model.losses\n",
        "        n_iterations[model_name] = model.n_iterations\n",
        "        cpu_times[model_name] = end - start\n",
        "    \n",
        "\n",
        "    return predictions, losses, n_iterations, cpu_times"
      ]
    },
    {
      "cell_type": "code",
      "execution_count": 24,
      "metadata": {
        "colab": {
          "base_uri": "https://localhost:8080/"
        },
        "id": "dLm9tU_sji8r",
        "outputId": "90587085-3a7f-4ab4-f475-9277db580918"
      },
      "outputs": [
        {
          "name": "stdout",
          "output_type": "stream",
          "text": [
            "without GPU\n",
            "Iteration: 0, Loss: 5633.638554244613, delta loss: 5633.638554244613\n",
            "Iteration: 1, Loss: 5312.9848345235705, delta loss: 320.65371972104276\n",
            "Iteration: 2, Loss: 5145.148868004789, delta loss: 167.8359665187818\n",
            "Iteration: 3, Loss: 5048.987818429606, delta loss: 96.16104957518291\n",
            "Iteration: 4, Loss: 4993.196755455879, delta loss: 55.791062973727094\n",
            "Iteration: 5, Loss: 4960.718619094387, delta loss: 32.478136361492034\n",
            "Iteration: 6, Loss: 4941.788513316001, delta loss: 18.93010577838595\n",
            "Iteration: 7, Loss: 4930.748410885287, delta loss: 11.040102430713887\n",
            "Iteration: 8, Loss: 4924.307204435733, delta loss: 6.441206449553647\n",
            "Iteration: 9, Loss: 4920.547708933079, delta loss: 3.7594955026543175\n",
            "Iteration: 10, Loss: 4918.3523667699055, delta loss: 2.1953421631733363\n",
            "Iteration: 11, Loss: 4917.06952534447, delta loss: 1.2828414254354357\n",
            "Iteration: 12, Loss: 4916.319135530946, delta loss: 0.750389813523725\n",
            "Iteration: 13, Loss: 4915.8795254755005, delta loss: 0.4396100554458826\n",
            "Iteration: 14, Loss: 4915.621391689211, delta loss: 0.25813378628936334\n",
            "\n",
            "\n",
            "Iteration: 0, Loss: 5633.638554244613, Delta: 5633.638554244613\n",
            "Iteration: 1, Loss: 5218.704762616148, Delta: 414.93379162846486\n",
            "Iteration: 2, Loss: 5040.765934830307, Delta: 177.93882778584157\n",
            "Iteration: 3, Loss: 4969.040628496814, Delta: 71.72530633349288\n",
            "Iteration: 4, Loss: 4938.214835458763, Delta: 30.825793038050506\n",
            "Iteration: 5, Loss: 4925.123241162819, Delta: 13.09159429594456\n",
            "Iteration: 6, Loss: 4919.5005520934965, Delta: 5.622689069322405\n",
            "Iteration: 7, Loss: 4917.095937308509, Delta: 2.4046147849876434\n",
            "Iteration: 8, Loss: 4916.05702749965, Delta: 1.038909808858989\n",
            "Iteration: 9, Loss: 4915.602040698467, Delta: 0.45498680118271295\n",
            "Iteration: 10, Loss: 4915.396576643332, Delta: 0.20546405513505306\n",
            "Iteration: 11, Loss: 4915.310064407149, Delta: 0.08651223618289805\n",
            "Iteration: 12, Loss: 4915.269889705684, Delta: 0.04017470146482083\n",
            "Iteration: 13, Loss: 4915.24896472664, Delta: 0.020924979044139036\n",
            "Iteration: 14, Loss: 4915.2373224240455, Delta: 0.011642302594736975\n",
            "Iteration: 0, Loss: 5633.638554244613, Delta: 5633.638554244613\n",
            "Iteration: 1, Loss: 5218.709876791906, Delta: 414.92867745270723\n",
            "Iteration: 2, Loss: 5020.69634438197, Delta: 198.01353240993558\n",
            "Iteration: 3, Loss: 4954.325469373575, Delta: 66.37087500839516\n",
            "Iteration: 4, Loss: 4930.176193783704, Delta: 24.14927558987165\n",
            "Iteration: 5, Loss: 4920.95162388377, Delta: 9.224569899934068\n",
            "Iteration: 6, Loss: 4917.455383552796, Delta: 3.4962403309737056\n",
            "Iteration: 7, Loss: 4916.096839100493, Delta: 1.3585444523032493\n",
            "Iteration: 8, Loss: 4915.572580253637, Delta: 0.5242588468554459\n",
            "Iteration: 9, Loss: 4915.365864673926, Delta: 0.20671557971127186\n",
            "Iteration: 10, Loss: 4915.283484278836, Delta: 0.08238039508978545\n",
            "Iteration: 11, Loss: 4915.250231093085, Delta: 0.03325318575116398\n",
            "Iteration: 12, Loss: 4915.235823130402, Delta: 0.014407962682525977\n",
            "Iteration: 13, Loss: 4915.229397042488, Delta: 0.006426087914405798\n",
            "Iteration: 14, Loss: 4915.226002859996, Delta: 0.0033941824922294472\n",
            "Iteration: 0, Loss: 5633.638554244613, Delta: 5633.638554244613\n",
            "Iteration: 1, Loss: 5633.487779113478, Delta: 0.15077513113556051\n",
            "Iteration: 2, Loss: 5633.2567436743875, Delta: 0.23103543909019209\n",
            "Iteration: 3, Loss: 5633.039557677546, Delta: 0.2171859968411809\n",
            "Iteration: 4, Loss: 5632.955436108701, Delta: 0.08412156884514843\n",
            "Iteration: 5, Loss: 5632.838325251887, Delta: 0.11711085681417899\n",
            "Iteration: 6, Loss: 5632.685678831606, Delta: 0.1526464202806892\n",
            "Iteration: 7, Loss: 5632.346178280356, Delta: 0.33950055125023937\n",
            "Iteration: 8, Loss: 5632.2661170121, Delta: 0.08006126825603133\n",
            "Iteration: 9, Loss: 5632.114150926307, Delta: 0.1519660857929921\n",
            "Iteration: 10, Loss: 5631.960349490006, Delta: 0.15380143630136445\n",
            "Iteration: 11, Loss: 5631.858028653375, Delta: 0.10232083663049707\n",
            "Iteration: 12, Loss: 5631.731820037598, Delta: 0.1262086157776139\n",
            "Iteration: 13, Loss: 5631.604471878661, Delta: 0.1273481589369112\n",
            "Iteration: 14, Loss: 5631.179288816595, Delta: 0.42518306206602574\n"
          ]
        }
      ],
      "source": [
        "iters_limit = 15\n",
        "delta_loss_limit = 0.0001\n",
        "stop_loss= 4000\n",
        "\n",
        "if using_gpu:\n",
        "    import tensorflow as tf\n",
        "    device_name = tf.test.gpu_device_name()\n",
        "\n",
        "    with tf.device(device_name):\n",
        "        print(f'with GPU')\n",
        "        preds, losses, n_iters, cpu_times = compare_models(\n",
        "            solvers,\n",
        "            X,\n",
        "            Y_delabeled,\n",
        "            iters_limit = iters_limit,\n",
        "            delta_loss_limit = delta_loss_limit,\n",
        "            stop_loss= stop_loss,\n",
        "            weights_matrix = weights\n",
        "        )\n",
        "\n",
        "else:\n",
        "    print(f'without GPU')\n",
        "    preds, losses, n_iters, cpu_times = compare_models(\n",
        "            solvers,\n",
        "            X,\n",
        "            Y_delabeled,\n",
        "            iters_limit = iters_limit,\n",
        "            delta_loss_limit = delta_loss_limit,\n",
        "            stop_loss = stop_loss,\n",
        "            weights_matrix =  weights\n",
        "        )\n",
        "\n",
        "accuracies = {name: accuracy_score(preds[name], Y) for name in solvers.keys()}"
      ]
    },
    {
      "cell_type": "code",
      "execution_count": 48,
      "metadata": {
        "colab": {
          "base_uri": "https://localhost:8080/",
          "height": 851
        },
        "id": "07EmcJuSji8r",
        "outputId": "41053abb-8473-4440-f554-67c51b404087"
      },
      "outputs": [
        {
          "data": {
            "image/png": "[encoded data removed]",
            "text/plain": [
              "<Figure size 648x432 with 1 Axes>"
            ]
          },
          "metadata": {
            "needs_background": "light"
          },
          "output_type": "display_data"
        }
      ],
      "source": [
        "def plot_curves(curves_dict, title, y_label, figsize):\n",
        "    _, ax = plt.subplots(figsize = figsize)\n",
        "\n",
        "    for _, curve_res in curves_dict.items():\n",
        "        ax.plot(\n",
        "            curve_res,\n",
        "            marker = 'o',\n",
        "            linestyle = '--',\n",
        "            linewidth = 1.3,\n",
        "            markerfacecolor = 'white',\n",
        "            markersize = 2\n",
        "        )\n",
        "    plt.legend(list(curves_dict.keys()))\n",
        "    plt.title(title)\n",
        "    plt.xlabel('Iteration')\n",
        "    plt.ylabel(y_label)\n",
        "    plt.grid()\n",
        "\n",
        "\n",
        "# plot_curves({'Cyclic':losses['BCGD cyclic']}, 'Losses cyclic', y_label = 'Loss')\n",
        "# plot_curves({'GD':losses['GD']}, 'Losses GD', y_label = 'Loss')\n",
        "plot_curves(\n",
        "    losses,\n",
        "    'Losses', \n",
        "    y_label = 'Loss',\n",
        "    figsize = (9, 6)\n",
        ")"
      ]
    },
    {
      "cell_type": "code",
      "execution_count": 47,
      "metadata": {},
      "outputs": [
        {
          "data": {
            "text/html": [
              "<div>\n",
              "<style scoped>\n",
              "    .dataframe tbody tr th:only-of-type {\n",
              "        vertical-align: middle;\n",
              "    }\n",
              "\n",
              "    .dataframe tbody tr th {\n",
              "        vertical-align: top;\n",
              "    }\n",
              "\n",
              "    .dataframe thead th {\n",
              "        text-align: right;\n",
              "    }\n",
              "</style>\n",
              "<table border=\"1\" class=\"dataframe\">\n",
              "  <thead>\n",
              "    <tr style=\"text-align: right;\">\n",
              "      <th></th>\n",
              "      <th>GD loss</th>\n",
              "      <th>BCGD permutation loss</th>\n",
              "      <th>BCGD cyclic loss</th>\n",
              "      <th>BCGD sampling loss</th>\n",
              "    </tr>\n",
              "  </thead>\n",
              "  <tbody>\n",
              "    <tr>\n",
              "      <th>0</th>\n",
              "      <td>5633.638554</td>\n",
              "      <td>5633.638554</td>\n",
              "      <td>5633.638554</td>\n",
              "      <td>5633.638554</td>\n",
              "    </tr>\n",
              "    <tr>\n",
              "      <th>1</th>\n",
              "      <td>5312.984835</td>\n",
              "      <td>5218.704763</td>\n",
              "      <td>5218.709877</td>\n",
              "      <td>5633.487779</td>\n",
              "    </tr>\n",
              "    <tr>\n",
              "      <th>2</th>\n",
              "      <td>5145.148868</td>\n",
              "      <td>5040.765935</td>\n",
              "      <td>5020.696344</td>\n",
              "      <td>5633.256744</td>\n",
              "    </tr>\n",
              "    <tr>\n",
              "      <th>3</th>\n",
              "      <td>5048.987818</td>\n",
              "      <td>4969.040628</td>\n",
              "      <td>4954.325469</td>\n",
              "      <td>5633.039558</td>\n",
              "    </tr>\n",
              "    <tr>\n",
              "      <th>4</th>\n",
              "      <td>4993.196755</td>\n",
              "      <td>4938.214835</td>\n",
              "      <td>4930.176194</td>\n",
              "      <td>5632.955436</td>\n",
              "    </tr>\n",
              "  </tbody>\n",
              "</table>\n",
              "</div>"
            ],
            "text/plain": [
              "       GD loss  BCGD permutation loss  BCGD cyclic loss  BCGD sampling loss\n",
              "0  5633.638554            5633.638554       5633.638554         5633.638554\n",
              "1  5312.984835            5218.704763       5218.709877         5633.487779\n",
              "2  5145.148868            5040.765935       5020.696344         5633.256744\n",
              "3  5048.987818            4969.040628       4954.325469         5633.039558\n",
              "4  4993.196755            4938.214835       4930.176194         5632.955436"
            ]
          },
          "execution_count": 47,
          "metadata": {},
          "output_type": "execute_result"
        }
      ],
      "source": [
        "results = pd.DataFrame()\n",
        "\n",
        "# fill losses\n",
        "for model_name, loss in losses.items():\n",
        "    results[f'{model_name} loss'] = loss\n",
        "\n",
        "results.to_csv(save_dir + 'res.csv')\n",
        "results.head()"
      ]
    },
    {
      "cell_type": "code",
      "execution_count": 37,
      "metadata": {
        "colab": {
          "base_uri": "https://localhost:8080/",
          "height": 506
        },
        "id": "yt6Q6b9Fji8s",
        "outputId": "59c74133-aa4d-48cc-d05c-4280d54de94b"
      },
      "outputs": [
        {
          "data": {
            "image/png": "[encoded data removed]",
            "text/plain": [
              "<Figure size 576x576 with 1 Axes>"
            ]
          },
          "metadata": {
            "needs_background": "light"
          },
          "output_type": "display_data"
        }
      ],
      "source": [
        "def plot_bar_metrics(metrics_df):\n",
        "    \n",
        "    ax = metrics_df.plot.bar(\n",
        "        rot = 0,\n",
        "        ylabel = 'Metrics results',\n",
        "        cmap = 'Paired',\n",
        "        figsize = (8, 8)\n",
        "    )\n",
        "\n",
        "    ax.set_title('Models cpu time, iterations & performance', fontsize = 18)\n",
        "    ax.set_ylabel('Metrics scores', fontsize = 18)\n",
        "    ax.tick_params(axis = 'y', labelsize = 15)\n",
        "    ax.tick_params(axis = 'x', labelsize = 12)\n",
        "    ax.legend(loc = 3, prop = {'size': 13})\n",
        "    plt.grid()\n",
        "\n",
        "def normalize_cols(dataframe):\n",
        "    cols = dataframe.columns\n",
        "    for c in cols:\n",
        "        dataframe[c] = dataframe[c] / dataframe[c].max()\n",
        "    \n",
        "\n",
        "bar_metrics = pd.DataFrame.from_dict(cpu_times, orient='index', columns = ['CPU total time'])\n",
        "bar_metrics['N iterations'] = n_iters.values()\n",
        "bar_metrics['Accuracies'] = accuracies.values()\n",
        "\n",
        "normalize_cols(bar_metrics)\n",
        "plot_bar_metrics(bar_metrics)"
      ]
    },
    {
      "cell_type": "code",
      "execution_count": 30,
      "metadata": {
        "colab": {
          "base_uri": "https://localhost:8080/"
        },
        "id": "VsG9seCFqxEC",
        "outputId": "38c0d0c4-db2d-44ac-a678-ea16359f6231"
      },
      "outputs": [
        {
          "name": "stdout",
          "output_type": "stream",
          "text": [
            "{'GD': 1.0, 'BCGD permutation': 1.0, 'BCGD cyclic': 1.0, 'BCGD sampling': 0.53}\n",
            "{'GD': 15, 'BCGD permutation': 15, 'BCGD cyclic': 15, 'BCGD sampling': 15}\n",
            "{'GD': 30.158328100000062, 'BCGD permutation': 30.713438699999983, 'BCGD cyclic': 30.69817779999994, 'BCGD sampling': 14.51829710000004}\n"
          ]
        }
      ],
      "source": [
        "print(accuracies)\n",
        "print(n_iters)\n",
        "print(cpu_times)"
      ]
    },
    {
      "cell_type": "markdown",
      "metadata": {
        "id": "U2In6I0eji8s"
      },
      "source": [
        "# Real dataset"
      ]
    },
    {
      "cell_type": "code",
      "execution_count": null,
      "metadata": {
        "id": "G_9uTw_Fji8s"
      },
      "outputs": [],
      "source": [
        "wine=datasets.load_wine()\n",
        "\n",
        "#Conver to pandas dataframe\n",
        "data=pd.DataFrame(data=np.c_[wine['data'],wine['target']],columns=wine['feature_names']+['target'])\n",
        "\n",
        "data = data.loc[\n",
        "    (data['target'] == 1) | (data['target'] == 0),\n",
        "    ['od280/od315_of_diluted_wines', 'alcohol', 'target']\n",
        "]"
      ]
    },
    {
      "cell_type": "code",
      "execution_count": null,
      "metadata": {
        "colab": {
          "base_uri": "https://localhost:8080/",
          "height": 268
        },
        "id": "D-DhernSji8s",
        "outputId": "0bb868a7-fc14-46a5-e0c8-b06c6e190587"
      },
      "outputs": [
        {
          "data": {
            "image/png": "[encoded data removed]",
            "text/plain": [
              "<Figure size 432x288 with 1 Axes>"
            ]
          },
          "metadata": {
            "needs_background": "light"
          },
          "output_type": "display_data"
        }
      ],
      "source": [
        "X_real = data.loc[\n",
        "    :,\n",
        "    ['od280/od315_of_diluted_wines', 'alcohol']\n",
        "].values\n",
        "Y_real = data['target'].values\n",
        "\n",
        "plot_clusters(\n",
        "    X_real,\n",
        "    Y_real\n",
        ")"
      ]
    },
    {
      "cell_type": "code",
      "execution_count": null,
      "metadata": {
        "colab": {
          "base_uri": "https://localhost:8080/"
        },
        "id": "Hh29gCjXji8s",
        "outputId": "10bcbb46-d32d-40fe-aed4-8d3fc24f8a06"
      },
      "outputs": [
        {
          "name": "stdout",
          "output_type": "stream",
          "text": [
            "Found 59 instances of object 0.0\n",
            "We have to delabel 55 instances\n",
            "Found 71 instances of object 1.0\n",
            "We have to delabel 66 instances\n"
          ]
        }
      ],
      "source": [
        "Y_real_delabeled = delabel_data(\n",
        "    Y_real,\n",
        "    labeled_percent = 0.06, # DataProperties.labeled_percentage,\n",
        "    delabel_value = DataProperties.unlabeled\n",
        ")"
      ]
    },
    {
      "cell_type": "code",
      "execution_count": null,
      "metadata": {
        "colab": {
          "base_uri": "https://localhost:8080/",
          "height": 268
        },
        "id": "N3fd88g7ji8t",
        "outputId": "9dc5dc99-b6c1-42d3-984e-0f6ba98b4692"
      },
      "outputs": [
        {
          "ename": "NameError",
          "evalue": "name 'plot_clusters' is not defined",
          "output_type": "error",
          "traceback": [
            "\u001b[1;31m---------------------------------------------------------------------------\u001b[0m",
            "\u001b[1;31mNameError\u001b[0m                                 Traceback (most recent call last)",
            "\u001b[1;32m~\\AppData\\Local\\Temp/ipykernel_13056/363245016.py\u001b[0m in \u001b[0;36m<module>\u001b[1;34m\u001b[0m\n\u001b[1;32m----> 1\u001b[1;33m plot_clusters(\n\u001b[0m\u001b[0;32m      2\u001b[0m     \u001b[0mX_real\u001b[0m\u001b[1;33m,\u001b[0m\u001b[1;33m\u001b[0m\u001b[1;33m\u001b[0m\u001b[0m\n\u001b[0;32m      3\u001b[0m     \u001b[0mY_real_delabeled\u001b[0m\u001b[1;33m\u001b[0m\u001b[1;33m\u001b[0m\u001b[0m\n\u001b[0;32m      4\u001b[0m )\n",
            "\u001b[1;31mNameError\u001b[0m: name 'plot_clusters' is not defined"
          ]
        }
      ],
      "source": [
        "plot_clusters(\n",
        "    X_real,\n",
        "    Y_real_delabeled\n",
        ")"
      ]
    },
    {
      "cell_type": "code",
      "execution_count": null,
      "metadata": {
        "colab": {
          "base_uri": "https://localhost:8080/"
        },
        "id": "PLp4UwVRji8t",
        "outputId": "734982c6-2c10-4b39-8aaa-eaa4c8c820d9"
      },
      "outputs": [
        {
          "ename": "NameError",
          "evalue": "name 'GradientDescentSolver' is not defined",
          "output_type": "error",
          "traceback": [
            "\u001b[1;31m---------------------------------------------------------------------------\u001b[0m",
            "\u001b[1;31mNameError\u001b[0m                                 Traceback (most recent call last)",
            "\u001b[1;32m~\\AppData\\Local\\Temp/ipykernel_13056/2377437314.py\u001b[0m in \u001b[0;36m<module>\u001b[1;34m\u001b[0m\n\u001b[1;32m----> 1\u001b[1;33m solver = GradientDescentSolver(\n\u001b[0m\u001b[0;32m      2\u001b[0m     \u001b[0mlr_strategy\u001b[0m \u001b[1;33m=\u001b[0m \u001b[1;34m'lr_constant'\u001b[0m\u001b[1;33m,\u001b[0m\u001b[1;33m\u001b[0m\u001b[1;33m\u001b[0m\u001b[0m\n\u001b[0;32m      3\u001b[0m     \u001b[0mlearning_rate\u001b[0m \u001b[1;33m=\u001b[0m \u001b[1;36m0.001\u001b[0m\u001b[1;33m,\u001b[0m\u001b[1;33m\u001b[0m\u001b[1;33m\u001b[0m\u001b[0m\n\u001b[0;32m      4\u001b[0m     \u001b[0msimilarity_func\u001b[0m \u001b[1;33m=\u001b[0m \u001b[1;32mNone\u001b[0m\u001b[1;33m\u001b[0m\u001b[1;33m\u001b[0m\u001b[0m\n\u001b[0;32m      5\u001b[0m )\n",
            "\u001b[1;31mNameError\u001b[0m: name 'GradientDescentSolver' is not defined"
          ]
        }
      ],
      "source": [
        "solver = GradientDescentSolver(\n",
        "    lr_strategy = 'lr_constant',\n",
        "    learning_rate = 0.001,\n",
        "    similarity_func = None\n",
        ")\n",
        "\n",
        "Y_real_preds = solver.solve(\n",
        "    X_real,\n",
        "    Y_real_delabeled,\n",
        "    iter_limit=50,\n",
        "    delta_loss_limit = 0.003\n",
        ")"
      ]
    },
    {
      "cell_type": "code",
      "execution_count": null,
      "metadata": {
        "colab": {
          "base_uri": "https://localhost:8080/",
          "height": 519
        },
        "id": "iAZAkvBqji8t",
        "outputId": "b10d18dd-1d22-4a31-b324-60e46fe82cdb"
      },
      "outputs": [
        {
          "data": {
            "image/png": "[encoded data removed]",
            "text/plain": [
              "<Figure size 432x288 with 1 Axes>"
            ]
          },
          "metadata": {
            "needs_background": "light"
          },
          "output_type": "display_data"
        },
        {
          "data": {
            "image/png": "[encoded data removed]",
            "text/plain": [
              "<Figure size 432x288 with 1 Axes>"
            ]
          },
          "metadata": {
            "needs_background": "light"
          },
          "output_type": "display_data"
        }
      ],
      "source": [
        "plot_clusters(\n",
        "    X_real,\n",
        "    Y_real\n",
        ")\n",
        "plot_clusters(\n",
        "    X_real,\n",
        "    Y_real_preds\n",
        ")"
      ]
    }
  ],
  "metadata": {
    "colab": {
      "collapsed_sections": [],
      "name": "HW1.ipynb",
      "provenance": []
    },
    "kernelspec": {
      "display_name": "Python 3",
      "name": "python3"
    },
    "language_info": {
      "codemirror_mode": {
        "name": "ipython",
        "version": 3
      },
      "file_extension": ".py",
      "mimetype": "text/x-python",
      "name": "python",
      "nbconvert_exporter": "python",
      "pygments_lexer": "ipython3",
      "version": "3.9.7"
    }
  },
  "nbformat": 4,
  "nbformat_minor": 0
}
