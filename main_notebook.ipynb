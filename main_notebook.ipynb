{
  "cells": [
    {
      "cell_type": "markdown",
      "metadata": {
        "id": "SY5WztYNneGg"
      },
      "source": [
        "### MSc Computer Science, Data Science @UniPD\n",
        "### Optimization Methods for Data Science\n",
        "---"
      ]
    },
    {
      "cell_type": "markdown",
      "metadata": {
        "id": "dDnBuyzNnFxk"
      },
      "source": [
        "# Packages"
      ]
    },
    {
      "cell_type": "code",
      "execution_count": 327,
      "metadata": {
        "id": "VlSWeYY3nI05"
      },
      "outputs": [],
      "source": [
        "env = 'pc'  # 'pc', 'colab'\n",
        "using_gpu = False"
      ]
    },
    {
      "cell_type": "code",
      "execution_count": 343,
      "metadata": {
        "colab": {
          "base_uri": "https://localhost:8080/"
        },
        "id": "7uuSxlZRjyxM",
        "outputId": "65963723-5407-498c-e659-6a355a1b14e4"
      },
      "outputs": [],
      "source": [
        "%%capture\n",
        "git_download_path = 'https://raw.githubusercontent.com/PashaIanko/Semi-Supervised-Labelling/master/'\n",
        "\n",
        "def download_files(url_dict):\n",
        "    for file, url in url_dict.items():\n",
        "        !wget -O {file} {url} {file}\n",
        "\n",
        "if env == 'colab':\n",
        "    from google.colab import drive\n",
        "    drive.mount('/content/drive')\n",
        "\n",
        "    files = [\n",
        "           'BCGDSolver.py',\n",
        "           'DataProperties.py',\n",
        "           'GradientDescentSolver.py',\n",
        "           'GradientSolver.py',\n",
        "           'Utils.py'  \n",
        "    ]\n",
        "\n",
        "    url_dict = {file: git_download_path + file for file in files}\n",
        "    download_files(url_dict)"
      ]
    },
    {
      "cell_type": "code",
      "execution_count": 344,
      "metadata": {
        "id": "2N9xcpuXji8g"
      },
      "outputs": [],
      "source": [
        "from sklearn.datasets import make_blobs\n",
        "import numpy as np\n",
        "\n",
        "from sklearn import datasets\n",
        "from sklearn.metrics import accuracy_score\n",
        "import pandas as pd\n",
        "import timeit\n",
        "\n",
        "# Plotting\n",
        "import matplotlib.pyplot as plt\n",
        "\n",
        "\n"
      ]
    },
    {
      "cell_type": "code",
      "execution_count": 345,
      "metadata": {
        "id": "_t8si-IGji8g"
      },
      "outputs": [],
      "source": [
        "import Utils\n",
        "import GradientSolver\n",
        "import GradientDescentSolver\n",
        "import DataProperties\n",
        "import BCGDSolver\n",
        "import importlib\n",
        "\n",
        "def reload_all(modules_list):\n",
        "    for module in modules_list:\n",
        "        importlib.reload(module)\n",
        "\n",
        "reload_all(\n",
        "    [\n",
        "        Utils,\n",
        "        GradientSolver,\n",
        "        GradientDescentSolver,\n",
        "        DataProperties,\n",
        "        BCGDSolver\n",
        "    ]\n",
        ")\n",
        "\n",
        "from Utils import *\n",
        "from GradientSolver import GradientSolver\n",
        "from GradientDescentSolver import GradientDescentSolver\n",
        "from DataProperties import DataProperties\n",
        "from BCGDSolver import BCGDSolver"
      ]
    },
    {
      "cell_type": "markdown",
      "metadata": {
        "id": "d_yGB-zWji8e"
      },
      "source": [
        "# Data preparation"
      ]
    },
    {
      "cell_type": "code",
      "execution_count": 346,
      "metadata": {
        "id": "fjGFGUL5ji8f"
      },
      "outputs": [],
      "source": [
        "# Fix states\n",
        "sklearn_random_state = 42\n",
        "numpy_seed = 42\n",
        "\n",
        "np.random.seed(numpy_seed)"
      ]
    },
    {
      "cell_type": "code",
      "execution_count": 347,
      "metadata": {
        "colab": {
          "base_uri": "https://localhost:8080/",
          "height": 0
        },
        "id": "ba7q6jrYji8h",
        "outputId": "ae5bdf95-f6ba-411b-cb05-b24664176e83"
      },
      "outputs": [
        {
          "name": "stdout",
          "output_type": "stream",
          "text": [
            "Data shape: X: (1000, 2), Y: (1000,)\n"
          ]
        },
        {
          "data": {
            "image/png": "[encoded data removed]",
            "text/plain": [
              "<Figure size 432x288 with 1 Axes>"
            ]
          },
          "metadata": {
            "needs_background": "light"
          },
          "output_type": "display_data"
        }
      ],
      "source": [
        "X, Y = make_blobs(\n",
        "    n_samples = DataProperties.n_samples,\n",
        "    centers = DataProperties.n_clusters,\n",
        "    n_features = DataProperties.n_dims,\n",
        "    random_state = sklearn_random_state\n",
        ")\n",
        "Y = Y.astype('float64')\n",
        "clusters = np.unique(Y)\n",
        "\n",
        "print(f'Data shape: X: {X.shape}, Y: {Y.shape}')\n",
        "plot_clusters(X, Y)"
      ]
    },
    {
      "cell_type": "markdown",
      "metadata": {
        "id": "3euoJu6uji8i"
      },
      "source": [
        "## Unlabel subset and visualize"
      ]
    },
    {
      "cell_type": "code",
      "execution_count": 348,
      "metadata": {
        "colab": {
          "base_uri": "https://localhost:8080/",
          "height": 0
        },
        "id": "Q_Gd7FQhji8j",
        "outputId": "e0638922-7c24-4124-ab0f-622c3299cfc4"
      },
      "outputs": [
        {
          "name": "stdout",
          "output_type": "stream",
          "text": [
            "Found 500 instances of object 0.0\n",
            "We have to delabel 485 instances\n",
            "Found 500 instances of object 1.0\n",
            "We have to delabel 485 instances\n",
            "\n",
            "    We have 970 unlabeled data\n",
            "    Out of 1000\n",
            "    \n"
          ]
        },
        {
          "data": {
            "image/png": "[encoded data removed]",
            "text/plain": [
              "<Figure size 432x288 with 1 Axes>"
            ]
          },
          "metadata": {
            "needs_background": "light"
          },
          "output_type": "display_data"
        }
      ],
      "source": [
        "Y_delabeled = delabel_data(\n",
        "    Y,\n",
        "    labeled_percent = DataProperties.labeled_percentage,\n",
        "    delabel_value = DataProperties.unlabeled\n",
        ")\n",
        "\n",
        "print(\n",
        "    f'''\n",
        "    We have {len(Y_delabeled[Y_delabeled == DataProperties.unlabeled])} unlabeled data\n",
        "    Out of {len(Y_delabeled)}\n",
        "    '''\n",
        ")\n",
        "\n",
        "plot_clusters(X, Y_delabeled)"
      ]
    },
    {
      "cell_type": "markdown",
      "metadata": {
        "id": "kXobOU1Oji8j"
      },
      "source": [
        "- Up to now, we have the clustered data, saved correct labelling (Y) and delabelled data (Y_delabelled)\n",
        "- For the unlabelled y variables, the loss function depends on the (y_1, ..., y_U) unlabeled parameters. Each of the\n",
        "parameters is independent on others, and can be 0 or 1 (for **binary clustering problem**). This is why we will be searching\n",
        "for **optimal solution in the R^(U)** space, which yields minimum to the **loss function**"
      ]
    },
    {
      "cell_type": "code",
      "execution_count": 349,
      "metadata": {
        "id": "8bywWUfPji8k"
      },
      "outputs": [],
      "source": [
        "import collections\n",
        "class_stats = collections.Counter(Y_delabeled)\n",
        "assert(len(class_stats.keys()) == 3)  # 2 labeled classes and 1 unlabeled"
      ]
    },
    {
      "cell_type": "markdown",
      "metadata": {
        "id": "a8p9YRMLnWHy"
      },
      "source": [
        "# Gradient descent"
      ]
    },
    {
      "cell_type": "code",
      "execution_count": 320,
      "metadata": {
        "id": "hYtCWDXkji8k"
      },
      "outputs": [],
      "source": [
        "solver = GradientDescentSolver(\n",
        "    similarity_func = None, # euclidian_similarity,\n",
        "    lr_strategy = 'lr_constant',  # search for alpha_k\n",
        "    learning_rate = 0.001\n",
        ")"
      ]
    },
    {
      "cell_type": "code",
      "execution_count": 321,
      "metadata": {},
      "outputs": [
        {
          "name": "stdout",
          "output_type": "stream",
          "text": [
            "Loss: 154.56245717183577, delta loss: 154.56245717183577\n",
            "Loss: 152.6864716380263, delta loss: 1.8759855338094837\n",
            "Loss: 151.11879093982526, delta loss: 1.5676806982010305\n",
            "Loss: 149.7812038628925, delta loss: 1.3375870769327491\n",
            "Loss: 148.6212761728861, delta loss: 1.1599276900064126\n",
            "\n",
            "\n"
          ]
        }
      ],
      "source": [
        "Y_preds_GD = solver.solve(X,Y_delabeled,iter_limit = 5, delta_loss_limit = 0.008,stop_loss = 19.6)"
      ]
    },
    {
      "cell_type": "code",
      "execution_count": 322,
      "metadata": {
        "colab": {
          "base_uri": "https://localhost:8080/",
          "height": 530
        },
        "id": "RNwF4Xw1ji8l",
        "outputId": "3bdf152d-fe6f-4fff-cc1e-381c4335f03a"
      },
      "outputs": [
        {
          "name": "stdout",
          "output_type": "stream",
          "text": [
            "Accuracy: 1.0\n"
          ]
        },
        {
          "data": {
            "image/png": "[encoded data removed]",
            "text/plain": [
              "<Figure size 432x288 with 1 Axes>"
            ]
          },
          "metadata": {
            "needs_background": "light"
          },
          "output_type": "display_data"
        },
        {
          "data": {
            "image/png": "[encoded data removed]",
            "text/plain": [
              "<Figure size 432x288 with 1 Axes>"
            ]
          },
          "metadata": {
            "needs_background": "light"
          },
          "output_type": "display_data"
        }
      ],
      "source": [
        "plot_clusters(X, Y)\n",
        "plot_clusters(X, Y_preds_GD)\n",
        "print(f'Accuracy: {accuracy_score(Y, Y_preds_GD)}')"
      ]
    },
    {
      "cell_type": "code",
      "execution_count": 323,
      "metadata": {
        "colab": {
          "base_uri": "https://localhost:8080/",
          "height": 265
        },
        "id": "kkBkvHBUji8m",
        "outputId": "c6602995-3fea-47d0-e74d-44e924c3fa44"
      },
      "outputs": [
        {
          "data": {
            "image/png": "[encoded data removed]",
            "text/plain": [
              "<Figure size 432x288 with 1 Axes>"
            ]
          },
          "metadata": {
            "needs_background": "light"
          },
          "output_type": "display_data"
        }
      ],
      "source": [
        "plt.plot(solver.losses, marker = 'o')\n",
        "plt.grid()"
      ]
    },
    {
      "cell_type": "markdown",
      "metadata": {
        "id": "GP5tfHQAji8m"
      },
      "source": [
        "# Block coordinates gradient descent (randomized)"
      ]
    },
    {
      "cell_type": "markdown",
      "metadata": {
        "id": "cCyQ8hkUji8m"
      },
      "source": [
        "## BCGD random permutations"
      ]
    },
    {
      "cell_type": "code",
      "execution_count": 350,
      "metadata": {
        "id": "4-b49qQUji8n"
      },
      "outputs": [],
      "source": [
        "random_solver = BCGDSolver(\n",
        "    lr_strategy = 'lr_constant',\n",
        "    learning_rate = 0.001,\n",
        "    similarity_func = None,\n",
        "\n",
        "    bcgd_strategy = 'random permutation',\n",
        ")"
      ]
    },
    {
      "cell_type": "code",
      "execution_count": 351,
      "metadata": {},
      "outputs": [
        {
          "data": {
            "text/plain": [
              "(1000, 2)"
            ]
          },
          "execution_count": 351,
          "metadata": {},
          "output_type": "execute_result"
        }
      ],
      "source": [
        "X.shape"
      ]
    },
    {
      "cell_type": "code",
      "execution_count": 352,
      "metadata": {
        "colab": {
          "base_uri": "https://localhost:8080/"
        },
        "id": "DcYrVUNwji8n",
        "outputId": "f4a72f94-4000-4b93-e90a-c4430c0780e2"
      },
      "outputs": [
        {
          "name": "stdout",
          "output_type": "stream",
          "text": [
            "Loss: 3556.567205494026, Delta: 3556.567205494026\n",
            "Loss: 3371.8339342157556, Delta: 184.73327127827042\n",
            "Loss: 3293.676110845374, Delta: 78.15782337038172\n",
            "Loss: 3260.867384865326, Delta: 32.80872598004771\n",
            "Loss: 3245.6385636354107, Delta: 15.228821229915411\n",
            " "
          ]
        },
        {
          "name": "stdout",
          "output_type": "stream",
          "text": [
            "         126207046 function calls (116507046 primitive calls) in 85.900 seconds\n",
            "\n",
            "   Ordered by: internal time\n",
            "\n",
            "   ncalls  tottime  percall  cumtime  percall filename:lineno(function)\n",
            "  9700000   27.574    0.000   52.549    0.000 linalg.py:2349(norm)\n",
            "19409717/9709717   16.619    0.000   58.370    0.000 {built-in method numpy.core._multiarray_umath.implement_array_function}\n",
            "  9700000   13.667    0.000   77.663    0.000 GradientSolver.py:40(calc_weight)\n",
            "        5    7.302    1.460   45.058    9.012 GradientSolver.py:57(<listcomp>)\n",
            "  9700000    5.031    0.000   63.996    0.000 <__array_function__ internals>:177(norm)\n",
            "  9700000    4.735    0.000   17.214    0.000 <__array_function__ internals>:177(dot)\n",
            "  9700000    2.530    0.000    2.530    0.000 {method 'ravel' of 'numpy.ndarray' objects}\n",
            "  9700000    2.124    0.000    3.039    0.000 linalg.py:116(isComplexType)\n",
            " 19400000    2.086    0.000    2.086    0.000 {built-in method builtins.issubclass}\n",
            "  9700000    1.158    0.000    1.158    0.000 linalg.py:2345(_norm_dispatcher)\n",
            "  9700000    1.126    0.000    1.126    0.000 multiarray.py:736(dot)\n",
            "  9700000    1.021    0.000    1.021    0.000 {built-in method numpy.asarray}\n",
            "     9710    0.456    0.000    0.456    0.000 {method 'reduce' of 'numpy.ufunc' objects}\n",
            "     4850    0.236    0.000    1.433    0.000 GradientSolver.py:33(<listcomp>)\n",
            "        5    0.051    0.010   46.664    9.333 GradientSolver.py:55(compute_loss)\n",
            "     4850    0.049    0.000   46.431    0.010 GradientSolver.py:32(compute_grad_component)\n",
            "     9710    0.045    0.000    0.520    0.000 fromnumeric.py:69(_wrapreduction)\n",
            "     9710    0.029    0.000    0.555    0.000 fromnumeric.py:2160(sum)\n",
            "        1    0.021    0.021   93.117   93.117 BCGDSolver.py:35(solve)\n",
            "     9710    0.011    0.000    0.576    0.000 <__array_function__ internals>:177(sum)\n",
            "     9710    0.008    0.000    0.008    0.000 fromnumeric.py:70(<dictcomp>)\n",
            "     9710    0.008    0.000    0.008    0.000 {built-in method builtins.getattr}\n",
            "     9720    0.005    0.000    0.005    0.000 {built-in method builtins.isinstance}\n",
            "     9710    0.003    0.000    0.003    0.000 {method 'items' of 'dict' objects}\n",
            "     9710    0.002    0.000    0.002    0.000 fromnumeric.py:2155(_sum_dispatcher)\n",
            "        5    0.000    0.000    0.000    0.000 {method 'permutation' of 'numpy.random.mtrand.RandomState' objects}\n",
            "       15    0.000    0.000    0.000    0.000 socket.py:474(send)\n",
            "       10    0.000    0.000    0.000    0.000 iostream.py:500(write)\n",
            "       15    0.000    0.000    0.000    0.000 iostream.py:206(schedule)\n",
            "        1    0.000    0.000   93.117   93.117 {built-in method builtins.exec}\n",
            "        5    0.000    0.000    0.001    0.000 {built-in method builtins.print}\n",
            "       15    0.000    0.000    0.000    0.000 threading.py:1113(is_alive)\n",
            "        1    0.000    0.000    0.000    0.000 GradientSolver.py:75(threshold_proc)\n",
            "       10    0.000    0.000    0.000    0.000 iostream.py:418(_is_master_process)\n",
            "        5    0.000    0.000    0.000    0.000 BCGDSolver.py:24(pick_block_indices)\n",
            "       15    0.000    0.000    0.000    0.000 iostream.py:96(_event_pipe)\n",
            "       15    0.000    0.000    0.000    0.000 {method 'acquire' of '_thread.lock' objects}\n",
            "       15    0.000    0.000    0.000    0.000 threading.py:1059(_wait_for_tstate_lock)\n",
            "        5    0.000    0.000    0.000    0.000 <__array_function__ internals>:177(may_share_memory)\n",
            "        1    0.000    0.000    0.000    0.000 {method 'copy' of 'numpy.ndarray' objects}\n",
            "       10    0.000    0.000    0.000    0.000 iostream.py:437(_schedule_flush)\n",
            "       10    0.000    0.000    0.000    0.000 {built-in method nt.getpid}\n",
            "        1    0.000    0.000   93.117   93.117 <string>:1(<module>)\n",
            "        2    0.000    0.000    0.000    0.000 <__array_function__ internals>:177(where)\n",
            "       13    0.000    0.000    0.000    0.000 {built-in method builtins.len}\n",
            "       15    0.000    0.000    0.000    0.000 threading.py:529(is_set)\n",
            "        5    0.000    0.000    0.000    0.000 {method 'append' of 'list' objects}\n",
            "       15    0.000    0.000    0.000    0.000 {method 'append' of 'collections.deque' objects}\n",
            "        5    0.000    0.000    0.000    0.000 {built-in method builtins.abs}\n",
            "        5    0.000    0.000    0.000    0.000 multiarray.py:1368(may_share_memory)\n",
            "        1    0.000    0.000    0.000    0.000 {method 'disable' of '_lsprof.Profiler' objects}\n",
            "        1    0.000    0.000    0.000    0.000 GradientSolver.py:28(get_learning_rate)\n",
            "        2    0.000    0.000    0.000    0.000 multiarray.py:341(where)"
          ]
        }
      ],
      "source": [
        "%prun Y_preds_BCGD_permutation = random_solver.solve(X, Y_delabeled, iter_limit = 5, delta_loss_limit = 0.008, stop_loss = 19.6)"
      ]
    },
    {
      "cell_type": "code",
      "execution_count": 355,
      "metadata": {
        "colab": {
          "base_uri": "https://localhost:8080/",
          "height": 530
        },
        "id": "6KwW3-WNji8n",
        "outputId": "164ff5d2-f3e2-43aa-bcbc-ede435e40654"
      },
      "outputs": [
        {
          "name": "stdout",
          "output_type": "stream",
          "text": [
            "Accuracy: 1.0\n"
          ]
        },
        {
          "data": {
            "image/png": "[encoded data removed]",
            "text/plain": [
              "<Figure size 432x288 with 1 Axes>"
            ]
          },
          "metadata": {
            "needs_background": "light"
          },
          "output_type": "display_data"
        },
        {
          "data": {
            "image/png": "[encoded data removed]",
            "text/plain": [
              "<Figure size 432x288 with 1 Axes>"
            ]
          },
          "metadata": {
            "needs_background": "light"
          },
          "output_type": "display_data"
        }
      ],
      "source": [
        "plot_clusters(X, Y)\n",
        "plot_clusters(X, Y_preds_BCGD_permutation)\n",
        "print(f'Accuracy: {accuracy_score(Y, Y_preds_BCGD_permutation)}')"
      ]
    },
    {
      "cell_type": "code",
      "execution_count": 354,
      "metadata": {
        "colab": {
          "base_uri": "https://localhost:8080/",
          "height": 265
        },
        "id": "RJVEaOaBji8n",
        "outputId": "e9d4f317-c864-4358-bcec-df1f594d4eb8"
      },
      "outputs": [
        {
          "data": {
            "image/png": "[encoded data removed]",
            "text/plain": [
              "<Figure size 432x288 with 1 Axes>"
            ]
          },
          "metadata": {
            "needs_background": "light"
          },
          "output_type": "display_data"
        }
      ],
      "source": [
        "plt.plot(random_solver.losses, marker = 'o')\n",
        "plt.grid()"
      ]
    },
    {
      "cell_type": "markdown",
      "metadata": {
        "id": "H3EP1xPTji8o"
      },
      "source": [
        "## BCGD random sampling"
      ]
    },
    {
      "cell_type": "code",
      "execution_count": 54,
      "metadata": {
        "id": "Np9yEf8Qji8o"
      },
      "outputs": [],
      "source": [
        "BCGD_RS_solver = BCGDSolver(\n",
        "    lr_strategy = 'lr_constant',\n",
        "    learning_rate = 0.0001,\n",
        "    similarity_func = None,\n",
        "\n",
        "    bcgd_strategy = 'random sampling'\n",
        ")"
      ]
    },
    {
      "cell_type": "code",
      "execution_count": 56,
      "metadata": {
        "colab": {
          "base_uri": "https://localhost:8080/"
        },
        "id": "d7DWIY39ji8o",
        "outputId": "e43c49d8-d939-4997-c622-ee10f3e11a1f"
      },
      "outputs": [
        {
          "name": "stdout",
          "output_type": "stream",
          "text": [
            "LOSS: 25.133279635517184, Delta: 25.133279635517184\n",
            "LOSS: 25.133070718616207, Delta: 0.00020891690097712967\n",
            "LOSS: 25.13302797013207, Delta: 4.2748484137433707e-05\n",
            "LOSS: 25.132963450995135, Delta: 6.451913693439337e-05\n",
            "LOSS: 25.132448941582517, Delta: 0.0005145094126177696\n",
            "LOSS: 25.131940824897555, Delta: 0.00050811668496209\n",
            "LOSS: 25.13190229268831, Delta: 3.8532209245545346e-05\n",
            "LOSS: 25.13185458326693, Delta: 4.770942138065948e-05\n",
            "LOSS: 25.131738238544692, Delta: 0.00011634472223676084\n",
            "LOSS: 25.131627868639892, Delta: 0.00011036990479951214\n",
            "LOSS: 25.131541091442454, Delta: 8.677719743843681e-05\n",
            "LOSS: 25.1314987113759, Delta: 4.238006655299387e-05\n",
            "LOSS: 25.13133035780234, Delta: 0.0001683535735601538\n",
            "LOSS: 25.131164302456646, Delta: 0.0001660553456943603\n",
            "LOSS: 25.131120763414724, Delta: 4.353904192200275e-05\n",
            "LOSS: 25.130934984134043, Delta: 0.0001857792806809755\n",
            "LOSS: 25.130522591605185, Delta: 0.00041239252885816313\n",
            "LOSS: 25.130358744174348, Delta: 0.000163847430837194\n",
            "LOSS: 25.13015143839724, Delta: 0.00020730577710637021\n",
            "LOSS: 25.13012118820713, Delta: 3.025019011104746e-05\n",
            "LOSS: 25.13005686044948, Delta: 6.43277576521939e-05\n",
            "LOSS: 25.129341396204666, Delta: 0.0007154642448128357\n",
            "LOSS: 25.129311283431612, Delta: 3.01127730537587e-05\n",
            "LOSS: 25.12919352644637, Delta: 0.00011775698524019163\n",
            "LOSS: 25.129101114794718, Delta: 9.241165165363441e-05\n",
            "LOSS: 25.129009414387593, Delta: 9.170040712547234e-05\n",
            "LOSS: 25.128918419750857, Delta: 9.099463673578612e-05\n",
            "LOSS: 25.128821492778084, Delta: 9.692697277330353e-05\n",
            "LOSS: 25.128759554475316, Delta: 6.19383027675724e-05\n",
            "LOSS: 25.128575172807633, Delta: 0.00018438166768319775\n",
            "LOSS: 25.128392353953387, Delta: 0.00018281885424542565\n",
            "LOSS: 25.0956909006016, Delta: 0.032701453351787535\n",
            "LOSS: 25.095656399035185, Delta: 3.450156641449098e-05\n",
            "LOSS: 25.095523346303708, Delta: 0.00013305273147778962\n",
            "LOSS: 25.095486282462016, Delta: 3.706384169177568e-05\n",
            "LOSS: 25.0953955876977, Delta: 9.069476431733392e-05\n",
            "LOSS: 25.095344149959807, Delta: 5.1437737891291135e-05\n",
            "LOSS: 25.0953097402482, Delta: 3.440971160628692e-05\n",
            "LOSS: 25.094660062852462, Delta: 0.0006496773957387347\n",
            "LOSS: 25.094136119916268, Delta: 0.0005239429361942882\n",
            "LOSS: 25.093491591053365, Delta: 0.0006445288629031154\n",
            "LOSS: 25.09340160062195, Delta: 8.999043141599827e-05\n",
            "LOSS: 25.093367270072445, Delta: 3.433054950363612e-05\n",
            "LOSS: 25.093324859891073, Delta: 4.241018137207675e-05\n",
            "LOSS: 25.09328646295468, Delta: 3.839693639307029e-05\n",
            "LOSS: 25.093224733021582, Delta: 6.172993309760955e-05\n",
            "LOSS: 25.093135362023006, Delta: 8.937099857675435e-05\n",
            "LOSS: 25.09309334352016, Delta: 4.20185028460196e-05\n",
            "LOSS: 25.093058980398347, Delta: 3.436312181293033e-05\n",
            "LOSS: 25.09304618048216, Delta: 1.2799916188299676e-05\n",
            "LOSS: 25.092664335796382, Delta: 0.0003818446857764002\n",
            "LOSS: 25.092547864161972, Delta: 0.00011647163440997588\n",
            "LOSS: 25.091908626972454, Delta: 0.0006392371895174165\n",
            "LOSS: 25.09127467683526, Delta: 0.0006339501371961376\n",
            "LOSS: 25.091011519254003, Delta: 0.00026315758125505795\n",
            "LOSS: 25.090977363968054, Delta: 3.415528594885586e-05\n",
            "LOSS: 25.090962765835986, Delta: 1.459813206849958e-05\n",
            "LOSS: 25.0908987102044, Delta: 6.405563158651262e-05\n",
            "LOSS: 25.090864629277217, Delta: 3.408092718260036e-05\n",
            "LOSS: 25.090466721669134, Delta: 0.0003979076080824484\n",
            "LOSS: 25.09045393133201, Delta: 1.2790337123647078e-05\n",
            "LOSS: 25.089632775131157, Delta: 0.0008211562008533235\n",
            "LOSS: 25.089450652609315, Delta: 0.00018212252184213185\n",
            "LOSS: 25.089058239892786, Delta: 0.00039241271652912246\n",
            "LOSS: 25.056855784543856, Delta: 0.03220245534892996\n",
            "LOSS: 25.05682143663889, Delta: 3.434790496470441e-05\n",
            "LOSS: 25.05673232813809, Delta: 8.91085008021264e-05\n",
            "LOSS: 25.056524574839514, Delta: 0.0002077532985751418\n",
            "LOSS: 25.02481845130627, Delta: 0.03170612353324387\n",
            "LOSS: 25.02434946871901, Delta: 0.00046898258726102426\n",
            "LOSS: 25.02433478200596, Delta: 1.4686713051048628e-05\n",
            "LOSS: 25.02428303002377, Delta: 5.175198218765331e-05\n",
            "LOSS: 25.02381949690919, Delta: 0.0004635331145799171\n",
            "LOSS: 25.02355821092681, Delta: 0.000261285982379178\n",
            "LOSS: 25.02341785952587, Delta: 0.00014035140094037502\n",
            "LOSS: 25.022788132595164, Delta: 0.0006297269307076192\n",
            "LOSS: 25.022267073495577, Delta: 0.0005210590995865516\n",
            "LOSS: 25.021555784455046, Delta: 0.0007112890405309713\n",
            "LOSS: 25.021416512796755, Delta: 0.00013927165829130672\n",
            "LOSS: 25.02130021085192, Delta: 0.00011630194483558398\n",
            "LOSS: 25.021252351092812, Delta: 4.785975910692741e-05\n",
            "LOSS: 25.02107102446063, Delta: 0.0001813266321839535\n",
            "LOSS: 25.021058309222834, Delta: 1.2715237794225231e-05\n",
            "LOSS: 25.021019605166003, Delta: 3.87040568305963e-05\n",
            "LOSS: 25.02090219787098, Delta: 0.00011740729502207614\n",
            "LOSS: 25.020783887726683, Delta: 0.00011831014429830589\n",
            "LOSS: 25.020368669424844, Delta: 0.00041521830183910424\n",
            "LOSS: 25.020329168843933, Delta: 3.950058091106712e-05\n",
            "LOSS: 25.0202776550198, Delta: 5.151382413259853e-05\n",
            "LOSS: 25.020243259600306, Delta: 3.4395419493904456e-05\n",
            "LOSS: 25.02022861632127, Delta: 1.4643279037329648e-05\n",
            "LOSS: 25.020075704456627, Delta: 0.00015291186464239104\n",
            "LOSS: 25.020013657476095, Delta: 6.204698053124957e-05\n",
            "LOSS: 25.01989598434346, Delta: 0.00011767313263533197\n",
            "LOSS: 25.019865818887016, Delta: 3.01654564438536e-05\n",
            "LOSS: 25.019777470206904, Delta: 8.834868011220465e-05\n",
            "LOSS: 25.01973987637902, Delta: 3.759382788359744e-05\n",
            "LOSS: 25.019711554260965, Delta: 2.8322118055257306e-05\n",
            "LOSS: 25.01962243702984, Delta: 8.911723112348113e-05\n",
            "LOSS: 25.019362663719516, Delta: 0.00025977331032578377\n"
          ]
        }
      ],
      "source": [
        "Y_preds_BCGD_sampling = BCGD_RS_solver.solve(\n",
        "    X = X, \n",
        "    Y = Y_delabeled, \n",
        "    iter_limit = 100,\n",
        "    delta_loss_limit = 0.0,\n",
        "    stop_loss = 19.7\n",
        ")"
      ]
    },
    {
      "cell_type": "code",
      "execution_count": 57,
      "metadata": {
        "colab": {
          "base_uri": "https://localhost:8080/",
          "height": 282
        },
        "id": "Hkiavnn4ji8p",
        "outputId": "48b8c06e-5ff7-46dd-c16d-5d73ae6be108"
      },
      "outputs": [
        {
          "name": "stdout",
          "output_type": "stream",
          "text": [
            "Accuracy: 0.9\n"
          ]
        },
        {
          "data": {
            "image/png": "[encoded data removed]",
            "text/plain": [
              "<Figure size 432x288 with 1 Axes>"
            ]
          },
          "metadata": {
            "needs_background": "light"
          },
          "output_type": "display_data"
        }
      ],
      "source": [
        "plot_clusters(\n",
        "    X, Y_preds_BCGD_sampling\n",
        ")\n",
        "print(f'Accuracy: {accuracy_score(Y, Y_preds_BCGD_sampling)}')"
      ]
    },
    {
      "cell_type": "code",
      "execution_count": 58,
      "metadata": {
        "colab": {
          "base_uri": "https://localhost:8080/",
          "height": 268
        },
        "id": "QYc5egcOji8p",
        "outputId": "a8e9bc58-48af-48d8-fedf-d3499c8b60f1"
      },
      "outputs": [
        {
          "data": {
            "image/png": "[encoded data removed]",
            "text/plain": [
              "<Figure size 432x288 with 1 Axes>"
            ]
          },
          "metadata": {
            "needs_background": "light"
          },
          "output_type": "display_data"
        }
      ],
      "source": [
        "plt.plot(BCGD_RS_solver.losses)\n",
        "plt.grid()"
      ]
    },
    {
      "cell_type": "markdown",
      "metadata": {
        "id": "AKCfR4boji8p"
      },
      "source": [
        "## BCGD cyclic"
      ]
    },
    {
      "cell_type": "code",
      "execution_count": 59,
      "metadata": {
        "id": "9t1zhz2nji8p"
      },
      "outputs": [],
      "source": [
        "BCGD_cyclic_solver = BCGDSolver(\n",
        "    lr_strategy = 'lr_constant',\n",
        "    learning_rate = 0.001,\n",
        "    similarity_func = None,\n",
        "\n",
        "    bcgd_strategy = 'cyclic'\n",
        ")"
      ]
    },
    {
      "cell_type": "code",
      "execution_count": 60,
      "metadata": {
        "colab": {
          "base_uri": "https://localhost:8080/"
        },
        "id": "MTLrf9Hgji8p",
        "outputId": "8d886a1a-78df-4e40-b7ef-eaef7b39d192"
      },
      "outputs": [
        {
          "name": "stdout",
          "output_type": "stream",
          "text": [
            "LOSS: 25.133279635517184, Delta: 25.133279635517184\n",
            "LOSS: 24.688868015546948, Delta: 0.4444116199702357\n",
            "LOSS: 24.292568602572377, Delta: 0.39629941297457094\n",
            "LOSS: 23.93796895469215, Delta: 0.354599647880228\n",
            "LOSS: 23.619581106339318, Delta: 0.31838784835283107\n",
            "LOSS: 23.332703530945338, Delta: 0.28687757539398007\n",
            "LOSS: 23.073304105379844, Delta: 0.2593994255654941\n",
            "LOSS: 22.837920845420673, Delta: 0.2353832599591712\n",
            "LOSS: 22.623577681859683, Delta: 0.21434316356099004\n",
            "LOSS: 22.427712969374213, Delta: 0.19586471248547\n",
            "LOSS: 22.248118777142274, Delta: 0.17959419223193862\n",
            "LOSS: 22.082889311591394, Delta: 0.1652294655508797\n",
            "LOSS: 21.930377076276837, Delta: 0.15251223531455693\n",
            "LOSS: 21.789155588986446, Delta: 0.14122148729039097\n",
            "LOSS: 21.657987657902584, Delta: 0.13116793108386204\n",
            "LOSS: 21.53579837222916, Delta: 0.12218928567342502\n",
            "LOSS: 21.42165209247579, Delta: 0.11414627975337055\n",
            "LOSS: 21.314732835299225, Delta: 0.10691925717656403\n",
            "LOSS: 21.21432754053694, Delta: 0.10040529476228599\n",
            "LOSS: 21.119811786483844, Delta: 0.09451575405309498\n",
            "LOSS: 21.03063758576808, Delta: 0.08917420071576387\n",
            "LOSS: 20.94632295027074, Delta: 0.0843146354973392\n",
            "LOSS: 20.86644296097117, Delta: 0.0798799892995703\n",
            "LOSS: 20.79062211875423, Delta: 0.07582084221694174\n",
            "LOSS: 20.718527786177948, Delta: 0.07209433257628106\n",
            "LOSS: 20.64986455897096, Delta: 0.06866322720698648\n",
            "LOSS: 20.58436943037331, Delta: 0.06549512859765017\n",
            "LOSS: 20.521807632058092, Delta: 0.06256179831521891\n",
            "LOSS: 20.46196905284869, Delta: 0.05983857920940139\n",
            "LOSS: 20.40466515124335, Delta: 0.05730390160534071\n",
            "LOSS: 20.34972629031846, Delta: 0.054938860924888644\n",
            "LOSS: 20.296999434213777, Delta: 0.05272685610468386\n",
            "LOSS: 20.246346154442087, Delta: 0.05065327977169076\n",
            "LOSS: 20.197640901914145, Delta: 0.04870525252794167\n",
            "LOSS: 20.15076950708154, Delta: 0.046871394832603386\n",
            "LOSS: 20.105627876116333, Delta: 0.04514163096520818\n",
            "LOSS: 20.06212085574345, Delta: 0.04350702037288201\n",
            "LOSS: 20.020161243326967, Delta: 0.04195961241648405\n",
            "LOSS: 19.97966892220314, Delta: 0.04049232112382839\n",
            "LOSS: 19.940570105143223, Delta: 0.0390988170599158\n",
            "LOSS: 19.902796671280395, Delta: 0.03777343386282794\n",
            "LOSS: 19.8662855839347, Delta: 0.03651108734569419\n",
            "LOSS: 19.830978378549027, Delta: 0.03530720538567422\n",
            "LOSS: 19.79682071147381, Delta: 0.034157667075216835\n"
          ]
        }
      ],
      "source": [
        "Y_preds_BCGD_cyclic = BCGD_cyclic_solver.solve(\n",
        "    X,\n",
        "    Y_delabeled, \n",
        "    iter_limit = 50, \n",
        "    delta_loss_limit = 0.0001,\n",
        "    stop_loss = 19.8\n",
        ")"
      ]
    },
    {
      "cell_type": "code",
      "execution_count": 61,
      "metadata": {
        "colab": {
          "base_uri": "https://localhost:8080/",
          "height": 282
        },
        "id": "95Q50O22ji8q",
        "outputId": "641c3a44-c0ee-4b9b-c7a2-60c650bf6e59"
      },
      "outputs": [
        {
          "name": "stdout",
          "output_type": "stream",
          "text": [
            "Accuracy: 1.0\n"
          ]
        },
        {
          "data": {
            "image/png": "[encoded data removed]",
            "text/plain": [
              "<Figure size 432x288 with 1 Axes>"
            ]
          },
          "metadata": {
            "needs_background": "light"
          },
          "output_type": "display_data"
        }
      ],
      "source": [
        "print(f'Accuracy: {accuracy_score(Y_preds_BCGD_cyclic, Y)}')\n",
        "plot_clusters(\n",
        "    X, Y_preds_BCGD_cyclic\n",
        ")"
      ]
    },
    {
      "cell_type": "code",
      "execution_count": 62,
      "metadata": {
        "colab": {
          "base_uri": "https://localhost:8080/"
        },
        "id": "lpl60PJgji8q",
        "outputId": "6a739c84-48b4-423d-a867-42688fb18ba5"
      },
      "outputs": [
        {
          "data": {
            "text/plain": [
              "1.0"
            ]
          },
          "execution_count": 62,
          "metadata": {},
          "output_type": "execute_result"
        }
      ],
      "source": [
        "accuracy_score(Y, Y_preds_BCGD_cyclic)"
      ]
    },
    {
      "cell_type": "code",
      "execution_count": 63,
      "metadata": {
        "colab": {
          "base_uri": "https://localhost:8080/",
          "height": 265
        },
        "id": "9w-wKchjji8q",
        "outputId": "bb03f390-a1f6-4ba6-e2d7-3e6a26e781d2"
      },
      "outputs": [
        {
          "data": {
            "image/png": "[encoded data removed]",
            "text/plain": [
              "<Figure size 432x288 with 1 Axes>"
            ]
          },
          "metadata": {
            "needs_background": "light"
          },
          "output_type": "display_data"
        }
      ],
      "source": [
        "plt.plot(BCGD_cyclic_solver.losses, marker = 'o')\n",
        "plt.grid()"
      ]
    },
    {
      "cell_type": "markdown",
      "metadata": {
        "id": "JE0wByBMji8q"
      },
      "source": [
        "# Model comparison"
      ]
    },
    {
      "cell_type": "markdown",
      "metadata": {
        "id": "swRV0Q4jji8q"
      },
      "source": [
        "We will compare models based on:\n",
        "- Clustering metrics\n",
        "- CPU time\n",
        "- Number of iterations\n",
        "- Loss curves\n",
        "- Distance metrics"
      ]
    },
    {
      "cell_type": "code",
      "execution_count": 64,
      "metadata": {
        "id": "1VaNQmYvji8q"
      },
      "outputs": [],
      "source": [
        "learning_rate_strategy = 'lr_constant'\n",
        "simil_func = None  # No feature yet\n",
        "lr = 0.001\n",
        "\n",
        "gd_solver = GradientDescentSolver(\n",
        "    similarity_func = simil_func,\n",
        "    lr_strategy = learning_rate_strategy,\n",
        "    learning_rate = lr\n",
        ")\n",
        "\n",
        "bcgd_permut_solver = BCGDSolver(\n",
        "    lr_strategy = learning_rate_strategy,\n",
        "    learning_rate = lr,\n",
        "    similarity_func = simil_func,\n",
        "    bcgd_strategy = 'random permutation',\n",
        ")\n",
        "\n",
        "bcgd_sampling_solver = BCGDSolver(\n",
        "    lr_strategy = learning_rate_strategy,\n",
        "    learning_rate = lr,\n",
        "    similarity_func = simil_func,\n",
        "    bcgd_strategy = 'random sampling',\n",
        ")\n",
        "\n",
        "bcgd_cyclic_solver = BCGDSolver(\n",
        "    lr_strategy = learning_rate_strategy,\n",
        "    learning_rate = lr,\n",
        "    similarity_func = simil_func,\n",
        "    bcgd_strategy = 'cyclic',\n",
        ")"
      ]
    },
    {
      "cell_type": "code",
      "execution_count": 65,
      "metadata": {
        "id": "qEjgEjiKji8r"
      },
      "outputs": [],
      "source": [
        "solvers = {\n",
        "    'GD': gd_solver,\n",
        "    'BCGD permutation': bcgd_permut_solver,\n",
        "    'BCGD cyclic': bcgd_cyclic_solver,\n",
        "    'BCGD sampling': bcgd_sampling_solver,\n",
        "}"
      ]
    },
    {
      "cell_type": "code",
      "execution_count": 67,
      "metadata": {
        "id": "hcChCMybji8r"
      },
      "outputs": [],
      "source": [
        "def compare_models(solvers_dict, X, Y_delabeled, iters_limit, delta_loss_limit, stop_loss):\n",
        "    predictions = {k:None for k in solvers_dict.keys()}\n",
        "    losses = {k:None for k in solvers_dict.keys()}\n",
        "    n_iterations = {k:None for k in solvers_dict.keys()}\n",
        "    cpu_times = {k:None for k in solvers_dict.keys()}\n",
        "\n",
        "    for model_name, model in solvers_dict.items():\n",
        "        start = timeit.default_timer()\n",
        "        Y_preds = model.solve(\n",
        "            X,\n",
        "            Y_delabeled,\n",
        "            iter_limit = iters_limit,\n",
        "            delta_loss_limit = delta_loss_limit,\n",
        "            stop_loss = stop_loss\n",
        "        )\n",
        "        end = timeit.default_timer()\n",
        "        predictions[model_name] = Y_preds\n",
        "        losses[model_name] = model.losses\n",
        "        n_iterations[model_name] = model.n_iterations\n",
        "        cpu_times[model_name] = end - start\n",
        "    \n",
        "    # plot_accuracies(predictions)\n",
        "    # plot_losses(losses)\n",
        "    # plot_iterations(n_iterations)\n",
        "    # plot_cpu_times(cpu_times)\n",
        "\n",
        "    return predictions, losses, n_iterations, cpu_times"
      ]
    },
    {
      "cell_type": "code",
      "execution_count": 71,
      "metadata": {
        "colab": {
          "base_uri": "https://localhost:8080/"
        },
        "id": "dLm9tU_sji8r",
        "outputId": "2f6b6192-a2d1-49f2-ad4c-2dd83388f779"
      },
      "outputs": [
        {
          "name": "stdout",
          "output_type": "stream",
          "text": [
            "without GPU\n",
            "Loss: 25.133279635517184, delta loss: 25.133279635517184\n",
            "Loss: 24.692046825881985, delta loss: 0.4412328096351992\n",
            "Loss: 24.298667083853772, delta loss: 0.3933797420282126\n",
            "Loss: 23.94673438446902, delta loss: 0.3519326993847507\n",
            "Loss: 23.63077100177023, delta loss: 0.31596338269879\n",
            "Loss: 23.346088146351793, delta loss: 0.2846828554184384\n",
            "Loss: 23.08866792244849, delta loss: 0.25742022390330277\n",
            "Loss: 22.855063307403576, delta loss: 0.23360461504491425\n",
            "Loss: 22.642313369598728, delta loss: 0.21274993780484763\n",
            "Loss: 22.447871373983205, delta loss: 0.19444199561552367\n",
            "Loss: 22.269543789721443, delta loss: 0.17832758426176198\n",
            "Loss: 22.105438522836014, delta loss: 0.1641052668854286\n",
            "Loss: 21.953920956937267, delta loss: 0.15151756589874665\n",
            "Loss: 21.8135766047739, delta loss: 0.1403443521633676\n",
            "Loss: 21.683179358736666, delta loss: 0.13039724603723357\n",
            "Loss: 21.561664484968123, delta loss: 0.1215148737685432\n",
            "Loss: 21.448105637880257, delta loss: 0.1135588470878659\n",
            "Loss: 21.34169528348301, delta loss: 0.10641035439724789\n",
            "Loss: 21.241728014166522, delta loss: 0.0999672693164868\n",
            "Loss: 21.147586317201903, delta loss: 0.09414169696461983\n",
            "Loss: 21.058728426467432, delta loss: 0.08885789073447015\n",
            "Loss: 20.97467794374997, delta loss: 0.08405048271746196\n",
            "Loss: 20.895014963995308, delta loss: 0.07966297975466219\n",
            "Loss: 20.819368479473873, delta loss: 0.0756464845214353\n",
            "Loss: 20.747409872164365, delta loss: 0.07195860730950798\n",
            "Loss: 20.678847332673815, delta loss: 0.06856253949055002\n",
            "Loss: 20.61342106857415, delta loss: 0.06542626409966346\n",
            "Loss: 20.550899185804088, delta loss: 0.06252188277006354\n",
            "Loss: 20.491074144368792, delta loss: 0.0598250414352961\n",
            "Loss: 20.433759704453585, delta loss: 0.05731443991520635\n",
            "Loss: 20.37878829167126, delta loss: 0.05497141278232576\n",
            "Loss: 20.32600872083984, delta loss: 0.05277957083141871\n",
            "Loss: 20.275284226733735, delta loss: 0.05072449410610602\n",
            "Loss: 20.226490757923436, delta loss: 0.04879346881029889\n",
            "Loss: 20.17951549632307, delta loss: 0.046975261600366025\n",
            "Loss: 20.13425557057946, delta loss: 0.04525992574361126\n",
            "Loss: 20.090616936127425, delta loss: 0.04363863445203364\n",
            "Loss: 20.048513398706724, delta loss: 0.04210353742070083\n",
            "Loss: 20.00786576152116, delta loss: 0.04064763718556463\n",
            "Loss: 19.968601079090252, delta loss: 0.03926468243090753\n",
            "Loss: 19.930652003286887, delta loss: 0.03794907580336471\n",
            "Loss: 19.89395620913876, delta loss: 0.03669579414812674\n",
            "Loss: 19.858455889734323, delta loss: 0.035500319404437874\n",
            "Loss: 19.824097311093805, delta loss: 0.034358578640517834\n",
            "Loss: 19.790830419142846, delta loss: 0.033266891950958666\n",
            "Loss: 19.758608492031698, delta loss: 0.032221927111148574\n",
            "Loss: 19.727387831978277, delta loss: 0.031220660053421057\n",
            "Loss: 19.697127491615085, delta loss: 0.03026034036319203\n",
            "\n",
            "\n",
            "LOSS: 25.133279635517184, Delta: 25.133279635517184\n",
            "LOSS: 24.68892299650754, Delta: 0.4443566390096443\n",
            "LOSS: 24.292776414344463, Delta: 0.39614658216307674\n",
            "LOSS: 23.938328024348174, Delta: 0.35444838999628914\n",
            "LOSS: 23.620070025215167, Delta: 0.31825799913300656\n",
            "LOSS: 23.333360623514725, Delta: 0.2867094017004419\n",
            "LOSS: 23.07411673199622, Delta: 0.2592438915185049\n",
            "LOSS: 22.8388694163692, Delta: 0.23524731562702073\n",
            "LOSS: 22.624666836612462, Delta: 0.21420257975673707\n",
            "LOSS: 22.42892035210865, Delta: 0.19574648450381105\n",
            "LOSS: 22.249429275064593, Delta: 0.17949107704405876\n",
            "LOSS: 22.084273713534024, Delta: 0.1651555615305682\n",
            "LOSS: 21.93178637318842, Delta: 0.15248734034560485\n",
            "LOSS: 21.7905508622075, Delta: 0.1412355109809198\n",
            "LOSS: 21.65935365624971, Delta: 0.13119720595778972\n",
            "LOSS: 21.53713040103151, Delta: 0.12222325521819855\n",
            "LOSS: 21.42293454168947, Delta: 0.1141958593420398\n",
            "LOSS: 21.315962707723763, Delta: 0.10697183396570864\n",
            "LOSS: 21.215504427600223, Delta: 0.10045828012354008\n",
            "LOSS: 21.120924522536363, Delta: 0.09457990506385983\n",
            "LOSS: 21.031677863758453, Delta: 0.08924665877790972\n",
            "LOSS: 20.947291278947112, Delta: 0.08438658481134098\n",
            "LOSS: 20.867344314795265, Delta: 0.07994696415184777\n",
            "LOSS: 20.79146015496322, Delta: 0.075884159832043\n",
            "LOSS: 20.719300329946506, Delta: 0.07215982501671547\n",
            "LOSS: 20.65057170338111, Delta: 0.06872862656539525\n",
            "LOSS: 20.585016179194003, Delta: 0.06555552418710775\n",
            "LOSS: 20.52240291112454, Delta: 0.06261326806946244\n",
            "LOSS: 20.462520492451947, Delta: 0.059882418672593474\n",
            "LOSS: 20.405174307276113, Delta: 0.05734618517583456\n",
            "LOSS: 20.350192277004403, Delta: 0.05498203027170945\n",
            "LOSS: 20.297423383042393, Delta: 0.052768893962010566\n",
            "LOSS: 20.246730162932156, Delta: 0.05069322011023658\n",
            "LOSS: 20.19798751589057, Delta: 0.048742647041585485\n",
            "LOSS: 20.15107844317031, Delta: 0.046909072720261236\n",
            "LOSS: 20.105900748610107, Delta: 0.04517769456020204\n",
            "LOSS: 20.06235687100572, Delta: 0.043543877604388825\n",
            "LOSS: 20.020363149246233, Delta: 0.04199372175948568\n",
            "LOSS: 19.979840530979665, Delta: 0.04052261826656789\n",
            "LOSS: 19.940715322504772, Delta: 0.03912520847489276\n",
            "LOSS: 19.9029181832537, Delta: 0.03779713925107231\n",
            "LOSS: 19.866384869100226, Delta: 0.036533314153473384\n",
            "LOSS: 19.83105740979995, Delta: 0.03532745930027659\n",
            "LOSS: 19.796882030037875, Delta: 0.03417537976207541\n",
            "LOSS: 19.763807425608633, Delta: 0.033074604429241816\n",
            "LOSS: 19.731785852960677, Delta: 0.03202157264795602\n",
            "LOSS: 19.700773194440067, Delta: 0.031012658520609193\n",
            "LOSS: 19.670727446803877, Delta: 0.03004574763619061\n",
            "LOSS: 25.133279635517184, Delta: 25.133279635517184\n",
            "LOSS: 24.688868015546948, Delta: 0.4444116199702357\n",
            "LOSS: 24.292568602572377, Delta: 0.39629941297457094\n",
            "LOSS: 23.93796895469215, Delta: 0.354599647880228\n",
            "LOSS: 23.619581106339318, Delta: 0.31838784835283107\n",
            "LOSS: 23.332703530945338, Delta: 0.28687757539398007\n",
            "LOSS: 23.073304105379844, Delta: 0.2593994255654941\n",
            "LOSS: 22.837920845420673, Delta: 0.2353832599591712\n",
            "LOSS: 22.623577681859683, Delta: 0.21434316356099004\n",
            "LOSS: 22.427712969374213, Delta: 0.19586471248547\n",
            "LOSS: 22.248118777142274, Delta: 0.17959419223193862\n",
            "LOSS: 22.082889311591394, Delta: 0.1652294655508797\n",
            "LOSS: 21.930377076276837, Delta: 0.15251223531455693\n",
            "LOSS: 21.789155588986446, Delta: 0.14122148729039097\n",
            "LOSS: 21.657987657902584, Delta: 0.13116793108386204\n",
            "LOSS: 21.53579837222916, Delta: 0.12218928567342502\n",
            "LOSS: 21.42165209247579, Delta: 0.11414627975337055\n",
            "LOSS: 21.314732835299225, Delta: 0.10691925717656403\n",
            "LOSS: 21.21432754053694, Delta: 0.10040529476228599\n",
            "LOSS: 21.119811786483844, Delta: 0.09451575405309498\n",
            "LOSS: 21.03063758576808, Delta: 0.08917420071576387\n",
            "LOSS: 20.94632295027074, Delta: 0.0843146354973392\n",
            "LOSS: 20.86644296097117, Delta: 0.0798799892995703\n",
            "LOSS: 20.79062211875423, Delta: 0.07582084221694174\n",
            "LOSS: 20.718527786177948, Delta: 0.07209433257628106\n",
            "LOSS: 20.64986455897096, Delta: 0.06866322720698648\n",
            "LOSS: 20.58436943037331, Delta: 0.06549512859765017\n",
            "LOSS: 20.521807632058092, Delta: 0.06256179831521891\n",
            "LOSS: 20.46196905284869, Delta: 0.05983857920940139\n",
            "LOSS: 20.40466515124335, Delta: 0.05730390160534071\n",
            "LOSS: 20.34972629031846, Delta: 0.054938860924888644\n",
            "LOSS: 20.296999434213777, Delta: 0.05272685610468386\n",
            "LOSS: 20.246346154442087, Delta: 0.05065327977169076\n",
            "LOSS: 20.197640901914145, Delta: 0.04870525252794167\n",
            "LOSS: 20.15076950708154, Delta: 0.046871394832603386\n",
            "LOSS: 20.105627876116333, Delta: 0.04514163096520818\n",
            "LOSS: 20.06212085574345, Delta: 0.04350702037288201\n",
            "LOSS: 20.020161243326967, Delta: 0.04195961241648405\n",
            "LOSS: 19.97966892220314, Delta: 0.04049232112382839\n",
            "LOSS: 19.940570105143223, Delta: 0.0390988170599158\n",
            "LOSS: 19.902796671280395, Delta: 0.03777343386282794\n",
            "LOSS: 19.8662855839347, Delta: 0.03651108734569419\n",
            "LOSS: 19.830978378549027, Delta: 0.03530720538567422\n",
            "LOSS: 19.79682071147381, Delta: 0.034157667075216835\n",
            "LOSS: 19.76376196163536, Delta: 0.033058749838449586\n",
            "LOSS: 19.731754878236778, Delta: 0.03200708339858238\n",
            "LOSS: 19.70075526857927, Delta: 0.030999609657506255\n",
            "LOSS: 19.67072172091627, Delta: 0.03003354766300248\n",
            "LOSS: 25.133279635517184, Delta: 25.133279635517184\n",
            "LOSS: 25.131799546125507, Delta: 0.0014800893916770974\n",
            "LOSS: 25.129979083239135, Delta: 0.0018204628863713879\n",
            "LOSS: 25.1220085459869, Delta: 0.007970537252234067\n",
            "LOSS: 25.12173835802228, Delta: 0.00027018796462030537\n",
            "LOSS: 25.120890077363075, Delta: 0.0008482806592056136\n",
            "LOSS: 25.113897146240994, Delta: 0.006992931122081103\n",
            "LOSS: 25.106676932879953, Delta: 0.007220213361041061\n",
            "LOSS: 25.106249220889797, Delta: 0.000427711990155899\n",
            "LOSS: 25.10416869332308, Delta: 0.002080527566718615\n",
            "LOSS: 25.102808069873376, Delta: 0.0013606234497025582\n",
            "LOSS: 25.09720260768162, Delta: 0.005605462191756061\n",
            "LOSS: 25.097055869243377, Delta: 0.00014673843824297705\n",
            "LOSS: 25.096083105506434, Delta: 0.0009727637369429942\n",
            "LOSS: 25.095602122868534, Delta: 0.00048098263789952966\n",
            "LOSS: 25.0903824605962, Delta: 0.005219662272335057\n",
            "LOSS: 25.08391118506144, Delta: 0.006471275534760679\n",
            "LOSS: 25.082980547311834, Delta: 0.000930637749604557\n",
            "LOSS: 25.077911787511315, Delta: 0.005068759800519018\n",
            "LOSS: 25.077529370457942, Delta: 0.00038241705337327403\n",
            "LOSS: 25.075849228798134, Delta: 0.0016801416598077878\n",
            "LOSS: 25.074966675252952, Delta: 0.0008825535451819633\n",
            "LOSS: 25.073860228319607, Delta: 0.0011064469333454952\n",
            "LOSS: 25.072475320012035, Delta: 0.0013849083075712088\n",
            "LOSS: 25.072091476724218, Delta: 0.0003838432878175979\n",
            "LOSS: 25.068272033441982, Delta: 0.0038194432822358237\n",
            "LOSS: 25.067497534366716, Delta: 0.0007744990752662773\n",
            "LOSS: 25.06715357029049, Delta: 0.0003439640762259444\n",
            "LOSS: 25.0650605206403, Delta: 0.0020930496501883056\n",
            "LOSS: 25.064710597125742, Delta: 0.00034992351455898074\n",
            "LOSS: 25.064033762683003, Delta: 0.0006768344427392492\n",
            "LOSS: 25.062622755188833, Delta: 0.0014110074941697803\n",
            "LOSS: 25.06197475483742, Delta: 0.0006480003514148791\n",
            "LOSS: 25.061450728090318, Delta: 0.0005240267471009474\n",
            "LOSS: 25.060986049306987, Delta: 0.0004646787833308963\n",
            "LOSS: 25.060046054768023, Delta: 0.0009399945389638731\n",
            "LOSS: 25.058290779540688, Delta: 0.0017552752273353178\n",
            "LOSS: 24.741826715200776, Delta: 0.31646406433991103\n",
            "LOSS: 24.74052623479935, Delta: 0.0013004804014258298\n",
            "LOSS: 24.735187397149506, Delta: 0.005338837649844663\n",
            "LOSS: 24.734756486201636, Delta: 0.0004309109478697337\n",
            "LOSS: 24.73348153930216, Delta: 0.001274946899474827\n",
            "LOSS: 24.72859941679564, Delta: 0.004882122506522535\n",
            "LOSS: 24.72769900079859, Delta: 0.000900415997048043\n",
            "LOSS: 24.723611326064304, Delta: 0.004087674734286395\n",
            "LOSS: 24.723268014445157, Delta: 0.0003433116191473573\n",
            "LOSS: 24.721995790563625, Delta: 0.0012722238815321418\n",
            "LOSS: 24.721578017821447, Delta: 0.00041777274217835725\n",
            "LOSS: 24.715498379245794, Delta: 0.006079638575652524\n",
            "LOSS: 24.71350642678689, Delta: 0.001991952458904933\n",
            "LOSS: 24.712354152978794, Delta: 0.001152273808095572\n",
            "LOSS: 24.711221063718316, Delta: 0.0011330892604775045\n",
            "LOSS: 24.70941051051991, Delta: 0.00181055319840695\n",
            "LOSS: 24.708405502172926, Delta: 0.0010050083469828053\n",
            "LOSS: 24.707022949603925, Delta: 0.0013825525690016605\n",
            "LOSS: 24.706630685590408, Delta: 0.00039226401351655227\n",
            "LOSS: 24.704978972795523, Delta: 0.001651712794885185\n",
            "LOSS: 24.70464659909303, Delta: 0.0003323737024913953\n",
            "LOSS: 24.703151078384384, Delta: 0.0014955207086480016\n",
            "LOSS: 24.698784025770795, Delta: 0.004367052613588385\n",
            "LOSS: 24.698628383641335, Delta: 0.0001556421294601762\n",
            "LOSS: 24.69700589993568, Delta: 0.001622483705656208\n",
            "LOSS: 24.666838795802633, Delta: 0.030167104133045797\n",
            "LOSS: 24.666500131635868, Delta: 0.0003386641667653123\n",
            "LOSS: 24.664822574749838, Delta: 0.001677556886029663\n",
            "LOSS: 24.664164716637753, Delta: 0.0006578581120848526\n",
            "LOSS: 24.392545284623804, Delta: 0.27161943201394934\n",
            "LOSS: 24.39059655309011, Delta: 0.0019487315336945699\n",
            "LOSS: 24.379908726028415, Delta: 0.010687827061694577\n",
            "LOSS: 24.37491441116633, Delta: 0.004994314862084792\n",
            "LOSS: 24.374069246224746, Delta: 0.0008451649415839313\n",
            "LOSS: 24.372774361320577, Delta: 0.0012948849041691801\n",
            "LOSS: 24.368194404223765, Delta: 0.004579957096812137\n",
            "LOSS: 24.367873112836826, Delta: 0.0003212913869390377\n",
            "LOSS: 24.362830331374855, Delta: 0.005042781461970236\n",
            "LOSS: 24.36191781044499, Delta: 0.0009125209298659342\n",
            "LOSS: 24.36064401947421, Delta: 0.001273790970778066\n",
            "LOSS: 24.36033262162202, Delta: 0.00031139785219025384\n",
            "LOSS: 24.352815200402176, Delta: 0.007517421219844778\n",
            "LOSS: 24.3511829422536, Delta: 0.0016322581485752607\n",
            "LOSS: 24.32209146229827, Delta: 0.029091479955329902\n",
            "LOSS: 24.32195244520432, Delta: 0.0001390170939501445\n",
            "LOSS: 24.32164772344366, Delta: 0.00030472176065998724\n",
            "LOSS: 24.319927356364076, Delta: 0.0017203670795851167\n",
            "LOSS: 24.31548849817897, Delta: 0.004438858185107364\n",
            "LOSS: 24.315105056595996, Delta: 0.0003834415829722104\n",
            "LOSS: 24.313696472593044, Delta: 0.0014085840029522956\n",
            "LOSS: 24.313399805626283, Delta: 0.00029666696676144966\n",
            "LOSS: 24.311953470054966, Delta: 0.0014463355713161263\n",
            "LOSS: 24.31166336719022, Delta: 0.00029010286474573377\n",
            "LOSS: 24.31122142816246, Delta: 0.0004419390277590196\n",
            "LOSS: 24.31105632599073, Delta: 0.00016510217173149044\n",
            "LOSS: 24.309568684609996, Delta: 0.001487641380734317\n",
            "LOSS: 24.30916490267705, Delta: 0.0004037819329454351\n",
            "LOSS: 24.308725041049474, Delta: 0.0004398616275764766\n",
            "LOSS: 24.301877954926752, Delta: 0.00684708612272189\n",
            "LOSS: 24.297943887566475, Delta: 0.003934067360276572\n",
            "LOSS: 24.294484873544373, Delta: 0.003459014022102025\n",
            "LOSS: 24.29357582952946, Delta: 0.0009090440149144285\n",
            "LOSS: 24.283703304234706, Delta: 0.009872525294753132\n"
          ]
        }
      ],
      "source": [
        "iters_limit = 100\n",
        "delta_loss_limit = 0.0001\n",
        "stop_loss = 19.7\n",
        "\n",
        "if using_gpu:\n",
        "    import tensorflow as tf\n",
        "    device_name = tf.test.gpu_device_name()\n",
        "\n",
        "    with tf.device(device_name):\n",
        "        print(f'with GPU')\n",
        "        preds, losses, n_iters, cpu_times = compare_models(\n",
        "            solvers,\n",
        "            X,\n",
        "            Y_delabeled,\n",
        "            iters_limit = iters_limit,\n",
        "            delta_loss_limit = delta_loss_limit,\n",
        "            stop_loss = stop_loss\n",
        "        )\n",
        "\n",
        "else:\n",
        "    print(f'without GPU')\n",
        "    preds, losses, n_iters, cpu_times = compare_models(\n",
        "            solvers,\n",
        "            X,\n",
        "            Y_delabeled,\n",
        "            iters_limit = iters_limit,\n",
        "            delta_loss_limit = delta_loss_limit,\n",
        "            stop_loss = stop_loss\n",
        "        )\n",
        "\n",
        "accuracies = {name: accuracy_score(preds[name], Y) for name in solvers.keys()}"
      ]
    },
    {
      "cell_type": "code",
      "execution_count": 72,
      "metadata": {
        "colab": {
          "base_uri": "https://localhost:8080/",
          "height": 851
        },
        "id": "07EmcJuSji8r",
        "outputId": "094a0965-f68a-4270-dc2f-1b79bb7a99c0"
      },
      "outputs": [
        {
          "data": {
            "image/png": "[encoded data removed]",
            "text/plain": [
              "<Figure size 432x288 with 1 Axes>"
            ]
          },
          "metadata": {
            "needs_background": "light"
          },
          "output_type": "display_data"
        },
        {
          "data": {
            "image/png": "[encoded data removed]",
            "text/plain": [
              "<Figure size 432x288 with 1 Axes>"
            ]
          },
          "metadata": {
            "needs_background": "light"
          },
          "output_type": "display_data"
        },
        {
          "data": {
            "image/png": "[encoded data removed]",
            "text/plain": [
              "<Figure size 432x288 with 1 Axes>"
            ]
          },
          "metadata": {
            "needs_background": "light"
          },
          "output_type": "display_data"
        }
      ],
      "source": [
        "def plot_curves(curves_dict, title, y_label):\n",
        "    _, ax = plt.subplots(figsize = (6, 4))\n",
        "\n",
        "    for _, curve_res in curves_dict.items():\n",
        "        ax.plot(\n",
        "            curve_res,\n",
        "            marker = 'o',\n",
        "            linestyle = '--',\n",
        "            linewidth = 1.3,\n",
        "            markerfacecolor = 'white',\n",
        "            markersize = 2\n",
        "        )\n",
        "    plt.legend(list(curves_dict.keys()))\n",
        "    plt.title(title)\n",
        "    plt.xlabel('Iteration')\n",
        "    plt.ylabel(y_label)\n",
        "    plt.grid()\n",
        "\n",
        "\n",
        "plot_curves({'Cyclic':losses['BCGD cyclic']}, 'Losses cyclic', y_label = 'Loss')\n",
        "plot_curves({'GD':losses['GD']}, 'Losses GD', y_label = 'Loss')\n",
        "plot_curves(losses, 'Losses', y_label = 'Loss')"
      ]
    },
    {
      "cell_type": "code",
      "execution_count": 73,
      "metadata": {
        "colab": {
          "base_uri": "https://localhost:8080/",
          "height": 506
        },
        "id": "yt6Q6b9Fji8s",
        "outputId": "4e80715e-04fa-48b5-fa6f-32c987d57b39"
      },
      "outputs": [
        {
          "data": {
            "image/png": "[encoded data removed]",
            "text/plain": [
              "<Figure size 576x576 with 1 Axes>"
            ]
          },
          "metadata": {
            "needs_background": "light"
          },
          "output_type": "display_data"
        }
      ],
      "source": [
        "def plot_bar_metrics(metrics_df):\n",
        "    \n",
        "    ax = metrics_df.plot.bar(\n",
        "        rot = 0,\n",
        "        ylabel = 'Metrics results',\n",
        "        cmap = 'Paired',\n",
        "        figsize = (8, 8)\n",
        "    )\n",
        "\n",
        "    ax.set_title('Models cpu time, iterations & performance', fontsize = 18)\n",
        "    ax.set_ylabel('Metrics scores', fontsize = 18)\n",
        "    ax.tick_params(axis = 'y', labelsize = 15)\n",
        "    ax.tick_params(axis = 'x', labelsize = 12)\n",
        "    ax.legend(loc = 3, prop = {'size': 13})\n",
        "    plt.grid()\n",
        "\n",
        "def normalize_cols(dataframe):\n",
        "    cols = dataframe.columns\n",
        "    for c in cols:\n",
        "        dataframe[c] = dataframe[c] / dataframe[c].max()\n",
        "    \n",
        "\n",
        "bar_metrics = pd.DataFrame.from_dict(cpu_times, orient='index', columns = ['CPU time'])\n",
        "bar_metrics['N iterations'] = n_iters.values()\n",
        "bar_metrics['Accuracies'] = accuracies.values()\n",
        "\n",
        "normalize_cols(bar_metrics)\n",
        "plot_bar_metrics(bar_metrics)"
      ]
    },
    {
      "cell_type": "code",
      "execution_count": 74,
      "metadata": {
        "colab": {
          "base_uri": "https://localhost:8080/"
        },
        "id": "VsG9seCFqxEC",
        "outputId": "b670b048-c7d1-4882-95fd-f6b046f00f82"
      },
      "outputs": [
        {
          "name": "stdout",
          "output_type": "stream",
          "text": [
            "{'GD': 1.0, 'BCGD permutation': 1.0, 'BCGD cyclic': 1.0, 'BCGD sampling': 0.96}\n",
            "{'GD': 47, 'BCGD permutation': 47, 'BCGD cyclic': 47, 'BCGD sampling': 100}\n",
            "{'GD': 1.6719717999999375, 'BCGD permutation': 1.6277214000000413, 'BCGD cyclic': 1.6390458000000763, 'BCGD sampling': 1.8320298000001003}\n"
          ]
        }
      ],
      "source": [
        "print(accuracies)\n",
        "print(n_iters)\n",
        "print(cpu_times)"
      ]
    },
    {
      "cell_type": "markdown",
      "metadata": {
        "id": "U2In6I0eji8s"
      },
      "source": [
        "# Real dataset"
      ]
    },
    {
      "cell_type": "code",
      "execution_count": 23,
      "metadata": {
        "id": "G_9uTw_Fji8s"
      },
      "outputs": [],
      "source": [
        "wine=datasets.load_wine()\n",
        "\n",
        "#Conver to pandas dataframe\n",
        "data=pd.DataFrame(data=np.c_[wine['data'],wine['target']],columns=wine['feature_names']+['target'])\n",
        "\n",
        "data = data.loc[\n",
        "    (data['target'] == 1) | (data['target'] == 0),\n",
        "    ['od280/od315_of_diluted_wines', 'alcohol', 'target']\n",
        "]"
      ]
    },
    {
      "cell_type": "code",
      "execution_count": 24,
      "metadata": {
        "colab": {
          "base_uri": "https://localhost:8080/",
          "height": 268
        },
        "id": "D-DhernSji8s",
        "outputId": "0bb868a7-fc14-46a5-e0c8-b06c6e190587"
      },
      "outputs": [
        {
          "data": {
            "image/png": "[encoded data removed]",
            "text/plain": [
              "<Figure size 432x288 with 1 Axes>"
            ]
          },
          "metadata": {
            "needs_background": "light"
          },
          "output_type": "display_data"
        }
      ],
      "source": [
        "X_real = data.loc[\n",
        "    :,\n",
        "    ['od280/od315_of_diluted_wines', 'alcohol']\n",
        "].values\n",
        "Y_real = data['target'].values\n",
        "\n",
        "plot_clusters(\n",
        "    X_real,\n",
        "    Y_real\n",
        ")"
      ]
    },
    {
      "cell_type": "code",
      "execution_count": 25,
      "metadata": {
        "colab": {
          "base_uri": "https://localhost:8080/"
        },
        "id": "Hh29gCjXji8s",
        "outputId": "10bcbb46-d32d-40fe-aed4-8d3fc24f8a06"
      },
      "outputs": [
        {
          "name": "stdout",
          "output_type": "stream",
          "text": [
            "Found 59 instances of object 0.0\n",
            "We have to delabel 55 instances\n",
            "Found 71 instances of object 1.0\n",
            "We have to delabel 66 instances\n"
          ]
        }
      ],
      "source": [
        "Y_real_delabeled = delabel_data(\n",
        "    Y_real,\n",
        "    labeled_percent = 0.06, # DataProperties.labeled_percentage,\n",
        "    delabel_value = DataProperties.unlabeled\n",
        ")"
      ]
    },
    {
      "cell_type": "code",
      "execution_count": 1,
      "metadata": {
        "colab": {
          "base_uri": "https://localhost:8080/",
          "height": 268
        },
        "id": "N3fd88g7ji8t",
        "outputId": "9dc5dc99-b6c1-42d3-984e-0f6ba98b4692"
      },
      "outputs": [
        {
          "ename": "NameError",
          "evalue": "name 'plot_clusters' is not defined",
          "output_type": "error",
          "traceback": [
            "\u001b[1;31m---------------------------------------------------------------------------\u001b[0m",
            "\u001b[1;31mNameError\u001b[0m                                 Traceback (most recent call last)",
            "\u001b[1;32m~\\AppData\\Local\\Temp/ipykernel_13056/363245016.py\u001b[0m in \u001b[0;36m<module>\u001b[1;34m\u001b[0m\n\u001b[1;32m----> 1\u001b[1;33m plot_clusters(\n\u001b[0m\u001b[0;32m      2\u001b[0m     \u001b[0mX_real\u001b[0m\u001b[1;33m,\u001b[0m\u001b[1;33m\u001b[0m\u001b[1;33m\u001b[0m\u001b[0m\n\u001b[0;32m      3\u001b[0m     \u001b[0mY_real_delabeled\u001b[0m\u001b[1;33m\u001b[0m\u001b[1;33m\u001b[0m\u001b[0m\n\u001b[0;32m      4\u001b[0m )\n",
            "\u001b[1;31mNameError\u001b[0m: name 'plot_clusters' is not defined"
          ]
        }
      ],
      "source": [
        "plot_clusters(\n",
        "    X_real,\n",
        "    Y_real_delabeled\n",
        ")"
      ]
    },
    {
      "cell_type": "code",
      "execution_count": 2,
      "metadata": {
        "colab": {
          "base_uri": "https://localhost:8080/"
        },
        "id": "PLp4UwVRji8t",
        "outputId": "734982c6-2c10-4b39-8aaa-eaa4c8c820d9"
      },
      "outputs": [
        {
          "ename": "NameError",
          "evalue": "name 'GradientDescentSolver' is not defined",
          "output_type": "error",
          "traceback": [
            "\u001b[1;31m---------------------------------------------------------------------------\u001b[0m",
            "\u001b[1;31mNameError\u001b[0m                                 Traceback (most recent call last)",
            "\u001b[1;32m~\\AppData\\Local\\Temp/ipykernel_13056/2377437314.py\u001b[0m in \u001b[0;36m<module>\u001b[1;34m\u001b[0m\n\u001b[1;32m----> 1\u001b[1;33m solver = GradientDescentSolver(\n\u001b[0m\u001b[0;32m      2\u001b[0m     \u001b[0mlr_strategy\u001b[0m \u001b[1;33m=\u001b[0m \u001b[1;34m'lr_constant'\u001b[0m\u001b[1;33m,\u001b[0m\u001b[1;33m\u001b[0m\u001b[1;33m\u001b[0m\u001b[0m\n\u001b[0;32m      3\u001b[0m     \u001b[0mlearning_rate\u001b[0m \u001b[1;33m=\u001b[0m \u001b[1;36m0.001\u001b[0m\u001b[1;33m,\u001b[0m\u001b[1;33m\u001b[0m\u001b[1;33m\u001b[0m\u001b[0m\n\u001b[0;32m      4\u001b[0m     \u001b[0msimilarity_func\u001b[0m \u001b[1;33m=\u001b[0m \u001b[1;32mNone\u001b[0m\u001b[1;33m\u001b[0m\u001b[1;33m\u001b[0m\u001b[0m\n\u001b[0;32m      5\u001b[0m )\n",
            "\u001b[1;31mNameError\u001b[0m: name 'GradientDescentSolver' is not defined"
          ]
        }
      ],
      "source": [
        "solver = GradientDescentSolver(\n",
        "    lr_strategy = 'lr_constant',\n",
        "    learning_rate = 0.001,\n",
        "    similarity_func = None\n",
        ")\n",
        "\n",
        "Y_real_preds = solver.solve(\n",
        "    X_real,\n",
        "    Y_real_delabeled,\n",
        "    iter_limit=50,\n",
        "    delta_loss_limit = 0.003\n",
        ")"
      ]
    },
    {
      "cell_type": "code",
      "execution_count": 29,
      "metadata": {
        "colab": {
          "base_uri": "https://localhost:8080/",
          "height": 519
        },
        "id": "iAZAkvBqji8t",
        "outputId": "b10d18dd-1d22-4a31-b324-60e46fe82cdb"
      },
      "outputs": [
        {
          "data": {
            "image/png": "[encoded data removed]",
            "text/plain": [
              "<Figure size 432x288 with 1 Axes>"
            ]
          },
          "metadata": {
            "needs_background": "light"
          },
          "output_type": "display_data"
        },
        {
          "data": {
            "image/png": "[encoded data removed]",
            "text/plain": [
              "<Figure size 432x288 with 1 Axes>"
            ]
          },
          "metadata": {
            "needs_background": "light"
          },
          "output_type": "display_data"
        }
      ],
      "source": [
        "plot_clusters(\n",
        "    X_real,\n",
        "    Y_real\n",
        ")\n",
        "plot_clusters(\n",
        "    X_real,\n",
        "    Y_real_preds\n",
        ")"
      ]
    }
  ],
  "metadata": {
    "accelerator": "GPU",
    "colab": {
      "collapsed_sections": [],
      "name": "HW1.ipynb",
      "provenance": []
    },
    "kernelspec": {
      "display_name": "Python 3",
      "name": "python3"
    },
    "language_info": {
      "codemirror_mode": {
        "name": "ipython",
        "version": 3
      },
      "file_extension": ".py",
      "mimetype": "text/x-python",
      "name": "python",
      "nbconvert_exporter": "python",
      "pygments_lexer": "ipython3",
      "version": "3.9.7"
    }
  },
  "nbformat": 4,
  "nbformat_minor": 0
}
