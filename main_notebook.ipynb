{
  "cells": [
    {
      "cell_type": "markdown",
      "metadata": {
        "id": "SY5WztYNneGg"
      },
      "source": [
        "### MSc Computer Science, Data Science @UniPD\n",
        "### Optimization Methods for Data Science\n",
        "---"
      ]
    },
    {
      "cell_type": "code",
      "source": [
        "env = 'colab'  # 'pc'"
      ],
      "metadata": {
        "id": "VlSWeYY3nI05"
      },
      "execution_count": 25,
      "outputs": []
    },
    {
      "cell_type": "markdown",
      "source": [
        "# Packages"
      ],
      "metadata": {
        "id": "dDnBuyzNnFxk"
      }
    },
    {
      "cell_type": "code",
      "source": [
        "%%capture\n",
        "git_download_path = 'https://raw.githubusercontent.com/PashaIanko/Semi-Supervised-Labelling/OOP/'\n",
        "\n",
        "def download_files(url_dict):\n",
        "    for file, url in url_dict.items():\n",
        "        !wget -O {file} {url} {file}\n",
        "\n",
        "if env == 'colab':\n",
        "    from google.colab import drive\n",
        "    drive.mount('/content/drive')\n",
        "\n",
        "    files = [\n",
        "           'BCGDSolver.py',\n",
        "           'DataProperties.py',\n",
        "           'GradientDescentSolver.py',\n",
        "           'GradientSolver.py',\n",
        "           'Utils.py'  \n",
        "    ]\n",
        "\n",
        "    url_dict = {file: git_download_path + file for file in files}\n",
        "    download_files(url_dict)"
      ],
      "metadata": {
        "id": "7uuSxlZRjyxM"
      },
      "execution_count": 26,
      "outputs": []
    },
    {
      "cell_type": "code",
      "execution_count": 27,
      "metadata": {
        "id": "2N9xcpuXji8g"
      },
      "outputs": [],
      "source": [
        "from sklearn.datasets import make_blobs\n",
        "import numpy as np\n",
        "\n",
        "from sklearn import datasets\n",
        "from sklearn.metrics import accuracy_score\n",
        "import pandas as pd\n",
        "import timeit\n",
        "\n",
        "# Plotting\n",
        "import matplotlib.pyplot as plt\n",
        "\n",
        "\n"
      ]
    },
    {
      "cell_type": "code",
      "execution_count": 28,
      "metadata": {
        "id": "_t8si-IGji8g"
      },
      "outputs": [],
      "source": [
        "import Utils\n",
        "import GradientSolver\n",
        "import GradientDescentSolver\n",
        "import DataProperties\n",
        "import BCGDSolver\n",
        "import importlib\n",
        "\n",
        "def reload_all(modules_list):\n",
        "    for module in modules_list:\n",
        "        importlib.reload(module)\n",
        "\n",
        "reload_all(\n",
        "    [\n",
        "        Utils,\n",
        "        GradientSolver,\n",
        "        GradientDescentSolver,\n",
        "        DataProperties,\n",
        "        BCGDSolver\n",
        "    ]\n",
        ")\n",
        "\n",
        "from Utils import *\n",
        "from GradientSolver import GradientSolver\n",
        "from GradientDescentSolver import GradientDescentSolver\n",
        "from DataProperties import DataProperties\n",
        "from BCGDSolver import BCGDSolver"
      ]
    },
    {
      "cell_type": "markdown",
      "metadata": {
        "id": "d_yGB-zWji8e"
      },
      "source": [
        "# Data preparation"
      ]
    },
    {
      "cell_type": "code",
      "execution_count": 29,
      "metadata": {
        "id": "fjGFGUL5ji8f"
      },
      "outputs": [],
      "source": [
        "# Fix states\n",
        "sklearn_random_state = 42\n",
        "numpy_seed = 42\n",
        "\n",
        "np.random.seed(numpy_seed)"
      ]
    },
    {
      "cell_type": "code",
      "execution_count": 30,
      "metadata": {
        "id": "ba7q6jrYji8h",
        "outputId": "31523abe-20ae-4584-eb65-07c8c51269d2",
        "colab": {
          "base_uri": "https://localhost:8080/",
          "height": 0
        }
      },
      "outputs": [
        {
          "output_type": "stream",
          "name": "stdout",
          "text": [
            "Data shape: X: (50, 2), Y: (50,)\n"
          ]
        },
        {
          "output_type": "display_data",
          "data": {
            "text/plain": [
              "<Figure size 432x288 with 1 Axes>"
            ],
            "image/png": "[encoded data removed]"
          },
          "metadata": {
            "needs_background": "light"
          }
        }
      ],
      "source": [
        "X, Y = make_blobs(\n",
        "    n_samples = DataProperties.n_samples,\n",
        "    centers = DataProperties.n_clusters,\n",
        "    n_features = DataProperties.n_dims,\n",
        "    random_state = sklearn_random_state\n",
        ")\n",
        "Y = Y.astype('float64')\n",
        "clusters = np.unique(Y)\n",
        "\n",
        "print(f'Data shape: X: {X.shape}, Y: {Y.shape}')\n",
        "plot_clusters(X, Y)"
      ]
    },
    {
      "cell_type": "markdown",
      "metadata": {
        "id": "3euoJu6uji8i"
      },
      "source": [
        "## Unlabel subset and visualize"
      ]
    },
    {
      "cell_type": "code",
      "execution_count": 31,
      "metadata": {
        "id": "Q_Gd7FQhji8j",
        "outputId": "b6e58369-f5bf-4251-8d12-4d3eb4e3e2bf",
        "colab": {
          "base_uri": "https://localhost:8080/",
          "height": 0
        }
      },
      "outputs": [
        {
          "output_type": "stream",
          "name": "stdout",
          "text": [
            "Found 25 instances of object 0.0\n",
            "We have to delabel 23 instances\n",
            "Found 25 instances of object 1.0\n",
            "We have to delabel 23 instances\n",
            "\n",
            "    We have 46 unlabeled data\n",
            "    Out of 50\n",
            "    \n"
          ]
        },
        {
          "output_type": "display_data",
          "data": {
            "text/plain": [
              "<Figure size 432x288 with 1 Axes>"
            ],
            "image/png": "[encoded data removed]"
          },
          "metadata": {
            "needs_background": "light"
          }
        }
      ],
      "source": [
        "Y_delabeled = delabel_data(\n",
        "    Y,\n",
        "    labeled_percent = DataProperties.labeled_percentage,\n",
        "    delabel_value = DataProperties.unlabeled\n",
        ")\n",
        "\n",
        "print(\n",
        "    f'''\n",
        "    We have {len(Y_delabeled[Y_delabeled == DataProperties.unlabeled])} unlabeled data\n",
        "    Out of {len(Y_delabeled)}\n",
        "    '''\n",
        ")\n",
        "\n",
        "plot_clusters(X, Y_delabeled)"
      ]
    },
    {
      "cell_type": "markdown",
      "metadata": {
        "id": "kXobOU1Oji8j"
      },
      "source": [
        "- Up to now, we have the clustered data, saved correct labelling (Y) and delabelled data (Y_delabelled)\n",
        "- For the unlabelled y variables, the loss function depends on the (y_1, ..., y_U) unlabeled parameters. Each of the\n",
        "parameters is independent on others, and can be 0 or 1 (for **binary clustering problem**). This is why we will be searching\n",
        "for **optimal solution in the R^(U)** space, which yields minimum to the **loss function**"
      ]
    },
    {
      "cell_type": "code",
      "execution_count": 32,
      "metadata": {
        "id": "8bywWUfPji8k"
      },
      "outputs": [],
      "source": [
        "import collections\n",
        "class_stats = collections.Counter(Y_delabeled)\n",
        "assert(len(class_stats.keys()) == 3)  # 2 labeled classes and 1 unlabeled"
      ]
    },
    {
      "cell_type": "markdown",
      "source": [
        "# Gradient descent"
      ],
      "metadata": {
        "id": "a8p9YRMLnWHy"
      }
    },
    {
      "cell_type": "code",
      "execution_count": 33,
      "metadata": {
        "id": "hYtCWDXkji8k"
      },
      "outputs": [],
      "source": [
        "solver = GradientDescentSolver(\n",
        "    similarity_func = None, # euclidian_similarity,\n",
        "    lr_strategy = 'lr_constant',  # search for alpha_k\n",
        "    learning_rate = 0.001\n",
        ")"
      ]
    },
    {
      "cell_type": "code",
      "execution_count": 34,
      "metadata": {
        "id": "ovZHhdxkji8l",
        "outputId": "8e017268-b22b-49ef-9eac-5252106762d3",
        "colab": {
          "base_uri": "https://localhost:8080/"
        }
      },
      "outputs": [
        {
          "output_type": "stream",
          "name": "stdout",
          "text": [
            "Loss: 25.133279635517184, delta loss: 25.133279635517184\n",
            "Loss: 24.692046825881985, delta loss: 0.4412328096351992\n",
            "Loss: 24.298667083853772, delta loss: 0.3933797420282126\n",
            "Loss: 23.94673438446902, delta loss: 0.3519326993847507\n",
            "Loss: 23.63077100177023, delta loss: 0.31596338269879\n",
            "Loss: 23.346088146351793, delta loss: 0.2846828554184384\n",
            "Loss: 23.08866792244849, delta loss: 0.25742022390330277\n",
            "Loss: 22.855063307403576, delta loss: 0.23360461504491425\n",
            "Loss: 22.642313369598728, delta loss: 0.21274993780484763\n",
            "Loss: 22.447871373983205, delta loss: 0.19444199561552367\n",
            "Loss: 22.269543789721443, delta loss: 0.17832758426176198\n",
            "Loss: 22.105438522836014, delta loss: 0.1641052668854286\n",
            "Loss: 21.953920956937267, delta loss: 0.15151756589874665\n",
            "Loss: 21.8135766047739, delta loss: 0.1403443521633676\n",
            "Loss: 21.683179358736666, delta loss: 0.13039724603723357\n",
            "Loss: 21.561664484968123, delta loss: 0.1215148737685432\n",
            "Loss: 21.448105637880257, delta loss: 0.1135588470878659\n",
            "Loss: 21.34169528348301, delta loss: 0.10641035439724789\n",
            "Loss: 21.241728014166522, delta loss: 0.0999672693164868\n",
            "Loss: 21.147586317201903, delta loss: 0.09414169696461983\n",
            "Loss: 21.058728426467432, delta loss: 0.08885789073447015\n",
            "Loss: 20.97467794374997, delta loss: 0.08405048271746196\n",
            "Loss: 20.895014963995308, delta loss: 0.07966297975466219\n",
            "Loss: 20.819368479473873, delta loss: 0.0756464845214353\n",
            "Loss: 20.747409872164365, delta loss: 0.07195860730950798\n",
            "Loss: 20.678847332673815, delta loss: 0.06856253949055002\n",
            "Loss: 20.61342106857415, delta loss: 0.06542626409966346\n",
            "Loss: 20.550899185804088, delta loss: 0.06252188277006354\n",
            "Loss: 20.491074144368792, delta loss: 0.0598250414352961\n",
            "Loss: 20.433759704453585, delta loss: 0.05731443991520635\n",
            "Loss: 20.37878829167126, delta loss: 0.05497141278232576\n",
            "Loss: 20.32600872083984, delta loss: 0.05277957083141871\n",
            "Loss: 20.275284226733735, delta loss: 0.05072449410610602\n",
            "Loss: 20.226490757923436, delta loss: 0.04879346881029889\n",
            "Loss: 20.179515496323074, delta loss: 0.04697526160036247\n",
            "Loss: 20.13425557057946, delta loss: 0.045259925743614815\n",
            "Loss: 20.090616936127425, delta loss: 0.04363863445203364\n",
            "Loss: 20.048513398706724, delta loss: 0.04210353742070083\n",
            "Loss: 20.00786576152116, delta loss: 0.04064763718556463\n",
            "Loss: 19.968601079090252, delta loss: 0.03926468243090753\n",
            "Loss: 19.930652003286887, delta loss: 0.03794907580336471\n",
            "Loss: 19.89395620913876, delta loss: 0.03669579414812674\n",
            "Loss: 19.858455889734323, delta loss: 0.035500319404437874\n",
            "Loss: 19.8240973110938, delta loss: 0.03435857864052139\n",
            "Loss: 19.790830419142846, delta loss: 0.03326689195095511\n",
            "Loss: 19.758608492031698, delta loss: 0.032221927111148574\n",
            "Loss: 19.727387831978277, delta loss: 0.031220660053421057\n",
            "Loss: 19.697127491615085, delta loss: 0.03026034036319203\n",
            "Loss: 19.66778903050768, delta loss: 0.0293384611074039\n",
            "Loss: 19.639336298099895, delta loss: 0.028452732407785675\n",
            "Loss: 19.611735239840964, delta loss: 0.027601058258930777\n",
            "Loss: 19.58495372368745, delta loss: 0.026781516153516094\n",
            "Loss: 19.55896138453914, delta loss: 0.025992339148309895\n",
            "Loss: 19.533729484490888, delta loss: 0.02523190004825082\n",
            "Loss: 19.509230787052346, delta loss: 0.02449869743854194\n",
            "Loss: 19.485439443730176, delta loss: 0.023791343322169922\n",
            "Loss: 19.462330891564193, delta loss: 0.023108552165982843\n",
            "Loss: 19.43988176039355, delta loss: 0.02244913117064229\n",
            "Loss: 19.418069788774435, delta loss: 0.02181197161911541\n",
            "Loss: 19.396873747606037, delta loss: 0.02119604116839824\n"
          ]
        }
      ],
      "source": [
        "Y_preds_GD = solver.solve(\n",
        "    X,\n",
        "    Y_delabeled,\n",
        "    iter_limit = 60,\n",
        "    delta_loss_limit = 0.001\n",
        ")"
      ]
    },
    {
      "cell_type": "code",
      "execution_count": 35,
      "metadata": {
        "id": "RNwF4Xw1ji8l",
        "outputId": "3bdf152d-fe6f-4fff-cc1e-381c4335f03a",
        "colab": {
          "base_uri": "https://localhost:8080/",
          "height": 530
        }
      },
      "outputs": [
        {
          "output_type": "stream",
          "name": "stdout",
          "text": [
            "Accuracy: 1.0\n"
          ]
        },
        {
          "output_type": "display_data",
          "data": {
            "text/plain": [
              "<Figure size 432x288 with 1 Axes>"
            ],
            "image/png": "[encoded data removed]"
          },
          "metadata": {
            "needs_background": "light"
          }
        },
        {
          "output_type": "display_data",
          "data": {
            "text/plain": [
              "<Figure size 432x288 with 1 Axes>"
            ],
            "image/png": "[encoded data removed]"
          },
          "metadata": {
            "needs_background": "light"
          }
        }
      ],
      "source": [
        "plot_clusters(X, Y)\n",
        "plot_clusters(X, Y_preds_GD)\n",
        "print(f'Accuracy: {accuracy_score(Y, Y_preds_GD)}')"
      ]
    },
    {
      "cell_type": "code",
      "execution_count": 36,
      "metadata": {
        "id": "kkBkvHBUji8m",
        "outputId": "c6602995-3fea-47d0-e74d-44e924c3fa44",
        "colab": {
          "base_uri": "https://localhost:8080/",
          "height": 265
        }
      },
      "outputs": [
        {
          "output_type": "display_data",
          "data": {
            "text/plain": [
              "<Figure size 432x288 with 1 Axes>"
            ],
            "image/png": "[encoded data removed]"
          },
          "metadata": {
            "needs_background": "light"
          }
        }
      ],
      "source": [
        "plt.plot(solver.losses, marker = 'o')\n",
        "plt.grid()"
      ]
    },
    {
      "cell_type": "markdown",
      "metadata": {
        "id": "GP5tfHQAji8m"
      },
      "source": [
        "# Block coordinates gradient descent (randomized)"
      ]
    },
    {
      "cell_type": "markdown",
      "metadata": {
        "id": "cCyQ8hkUji8m"
      },
      "source": [
        "## BCGD random permutations"
      ]
    },
    {
      "cell_type": "code",
      "execution_count": 39,
      "metadata": {
        "id": "4-b49qQUji8n"
      },
      "outputs": [],
      "source": [
        "random_solver = BCGDSolver(\n",
        "    lr_strategy = 'lr_constant',\n",
        "    learning_rate = 0.001,\n",
        "    similarity_func = None,\n",
        "\n",
        "    bcgd_strategy = 'random permutation',\n",
        ")"
      ]
    },
    {
      "cell_type": "code",
      "execution_count": 40,
      "metadata": {
        "id": "DcYrVUNwji8n",
        "outputId": "f4a72f94-4000-4b93-e90a-c4430c0780e2",
        "colab": {
          "base_uri": "https://localhost:8080/"
        }
      },
      "outputs": [
        {
          "output_type": "stream",
          "name": "stdout",
          "text": [
            "LOSS: 25.133279635517184, Delta: 25.133279635517184\n",
            "LOSS: 24.688928750090955, Delta: 0.44435088542622836\n",
            "LOSS: 24.292725580060836, Delta: 0.3962031700301196\n",
            "LOSS: 23.93822644247524, Delta: 0.35449913758559504\n",
            "LOSS: 23.619920152143496, Delta: 0.3183062903317442\n",
            "LOSS: 23.333126971203544, Delta: 0.2867931809399522\n",
            "LOSS: 23.07386347502288, Delta: 0.25926349618066524\n",
            "LOSS: 22.83861299299209, Delta: 0.23525048203078924\n",
            "LOSS: 22.624349392595477, Delta: 0.21426360039661319\n",
            "LOSS: 22.42852676341245, Delta: 0.19582262918302717\n",
            "LOSS: 22.248947605654802, Delta: 0.17957915775764732\n",
            "LOSS: 22.083713921282524, Delta: 0.1652336843722786\n",
            "LOSS: 21.931181217513227, Delta: 0.15253270376929606\n",
            "LOSS: 21.789917954998117, Delta: 0.14126326251511045\n",
            "LOSS: 21.65871223556772, Delta: 0.1312057194303975\n",
            "LOSS: 21.536506140712113, Delta: 0.1222060948556063\n",
            "LOSS: 21.422344619116146, Delta: 0.11416152159596749\n",
            "LOSS: 21.315401594228238, Delta: 0.10694302488790797\n",
            "LOSS: 21.21497428270711, Delta: 0.10042731152112694\n",
            "LOSS: 21.12043697262195, Delta: 0.09453731008516186\n",
            "LOSS: 21.031242213052856, Delta: 0.08919475956909295\n",
            "LOSS: 20.946908830955064, Delta: 0.08433338209779251\n",
            "LOSS: 20.867012581810513, Delta: 0.07989624914455007\n",
            "LOSS: 20.79117879712559, Delta: 0.07583378468492441\n",
            "LOSS: 20.71907083249581, Delta: 0.07210796462977953\n",
            "LOSS: 20.650390010805502, Delta: 0.06868082169030743\n",
            "LOSS: 20.58487869546624, Delta: 0.06551131533926124\n",
            "LOSS: 20.522302622407192, Delta: 0.06257607305904855\n",
            "LOSS: 20.46245086536246, Delta: 0.05985175704473278\n",
            "LOSS: 20.405131571514072, Delta: 0.057319293848387076\n",
            "LOSS: 20.350174682752606, Delta: 0.05495688876146687\n",
            "LOSS: 20.29742752486282, Delta: 0.05274715788978668\n",
            "LOSS: 20.246755681560963, Delta: 0.050671843301856256\n",
            "LOSS: 20.198032461957858, Delta: 0.04872321960310444\n",
            "LOSS: 20.151142547209282, Delta: 0.046889914748575734\n",
            "LOSS: 20.105982332337778, Delta: 0.04516021487150468\n",
            "LOSS: 20.062458212152013, Delta: 0.043524120185765014\n",
            "LOSS: 20.02048132397766, Delta: 0.04197688817435363\n",
            "LOSS: 19.97997119328431, Delta: 0.040510130693348856\n",
            "LOSS: 19.940853348743037, Delta: 0.03911784454127343\n",
            "LOSS: 19.903061107743007, Delta: 0.0377922410000302\n",
            "LOSS: 19.866532165512346, Delta: 0.03652894223066028\n",
            "LOSS: 19.831207788640288, Delta: 0.03532437687205814\n",
            "LOSS: 19.797032701971375, Delta: 0.034175086668913224\n",
            "LOSS: 19.763956568143954, Delta: 0.03307613382742147\n",
            "LOSS: 19.731933351229927, Delta: 0.032023216914026875\n",
            "LOSS: 19.70091942672138, Delta: 0.031013924508545898\n",
            "LOSS: 19.670873020111863, Delta: 0.030046406609518073\n",
            "LOSS: 19.641755289521992, Delta: 0.02911773058987066\n",
            "LOSS: 19.61352923873774, Delta: 0.028226050784251555\n"
          ]
        }
      ],
      "source": [
        "Y_preds_BCGD_permutation = random_solver.solve(\n",
        "    X,\n",
        "    Y_delabeled,\n",
        "    iter_limit = 50,\n",
        "    delta_loss_limit = 0.008\n",
        ")"
      ]
    },
    {
      "cell_type": "code",
      "execution_count": 41,
      "metadata": {
        "id": "6KwW3-WNji8n",
        "outputId": "164ff5d2-f3e2-43aa-bcbc-ede435e40654",
        "colab": {
          "base_uri": "https://localhost:8080/",
          "height": 530
        }
      },
      "outputs": [
        {
          "output_type": "stream",
          "name": "stdout",
          "text": [
            "Accuracy: 1.0\n"
          ]
        },
        {
          "output_type": "display_data",
          "data": {
            "text/plain": [
              "<Figure size 432x288 with 1 Axes>"
            ],
            "image/png": "[encoded data removed]"
          },
          "metadata": {
            "needs_background": "light"
          }
        },
        {
          "output_type": "display_data",
          "data": {
            "text/plain": [
              "<Figure size 432x288 with 1 Axes>"
            ],
            "image/png": "[encoded data removed]"
          },
          "metadata": {
            "needs_background": "light"
          }
        }
      ],
      "source": [
        "plot_clusters(X, Y)\n",
        "plot_clusters(X, Y_preds_BCGD_permutation)\n",
        "print(f'Accuracy: {accuracy_score(Y, Y_preds_BCGD_permutation)}')"
      ]
    },
    {
      "cell_type": "code",
      "execution_count": 42,
      "metadata": {
        "id": "RJVEaOaBji8n",
        "outputId": "e9d4f317-c864-4358-bcec-df1f594d4eb8",
        "colab": {
          "base_uri": "https://localhost:8080/",
          "height": 265
        }
      },
      "outputs": [
        {
          "output_type": "display_data",
          "data": {
            "text/plain": [
              "<Figure size 432x288 with 1 Axes>"
            ],
            "image/png": "[encoded data removed]"
          },
          "metadata": {
            "needs_background": "light"
          }
        }
      ],
      "source": [
        "plt.plot(random_solver.losses, marker = 'o')\n",
        "plt.grid()"
      ]
    },
    {
      "cell_type": "markdown",
      "metadata": {
        "id": "H3EP1xPTji8o"
      },
      "source": [
        "## BCGD random sampling"
      ]
    },
    {
      "cell_type": "code",
      "execution_count": 43,
      "metadata": {
        "id": "Np9yEf8Qji8o"
      },
      "outputs": [],
      "source": [
        "BCGD_RS_solver = BCGDSolver(\n",
        "    lr_strategy = 'lr_constant',\n",
        "    learning_rate = 0.0001,\n",
        "    similarity_func = None,\n",
        "\n",
        "    bcgd_strategy = 'random sampling'\n",
        ")"
      ]
    },
    {
      "cell_type": "code",
      "execution_count": 44,
      "metadata": {
        "id": "d7DWIY39ji8o",
        "outputId": "ffdbc4e8-7fef-4266-d0d4-5865d7faaa3c",
        "colab": {
          "base_uri": "https://localhost:8080/"
        }
      },
      "outputs": [
        {
          "output_type": "stream",
          "name": "stdout",
          "text": [
            "LOSS: 25.133279635517184, Delta: 25.133279635517184\n",
            "LOSS: 25.132757098121914, Delta: 0.000522537395269751\n",
            "LOSS: 25.132042420403273, Delta: 0.0007146777186406439\n",
            "LOSS: 25.131874108074822, Delta: 0.00016831232845149202\n",
            "LOSS: 25.131225183399224, Delta: 0.0006489246755982947\n",
            "LOSS: 25.130654983914397, Delta: 0.0005701994848266168\n",
            "LOSS: 25.130604082810503, Delta: 5.0901103893608024e-05\n",
            "LOSS: 25.13048770145465, Delta: 0.00011638135585201326\n",
            "LOSS: 25.13022639332561, Delta: 0.00026130812904057166\n",
            "LOSS: 25.1301990680641, Delta: 2.7325261509503207e-05\n",
            "LOSS: 25.129679913308056, Delta: 0.000519154756045026\n",
            "LOSS: 25.129646078792142, Delta: 3.383451591432163e-05\n",
            "LOSS: 25.129530437927727, Delta: 0.00011564086441495647\n",
            "LOSS: 25.12949183294994, Delta: 3.860497778518379e-05\n",
            "LOSS: 25.129290527837114, Delta: 0.00020130511282800967\n",
            "LOSS: 25.129092109093623, Delta: 0.00019841874349069144\n",
            "LOSS: 25.12869506343699, Delta: 0.0003970456566335656\n",
            "LOSS: 25.1285087824718, Delta: 0.00018628096518824577\n",
            "LOSS: 25.128299803754086, Delta: 0.00020897871771552445\n",
            "LOSS: 25.127784658630542, Delta: 0.0005151451235434479\n",
            "LOSS: 25.12774665495546, Delta: 3.8003675083331245e-05\n",
            "LOSS: 25.127703840370373, Delta: 4.281458508614833e-05\n",
            "LOSS: 25.127669796563406, Delta: 3.404380696636622e-05\n",
            "LOSS: 25.124841860574723, Delta: 0.002827935988683805\n",
            "LOSS: 25.123794629877388, Delta: 0.0010472306973348111\n",
            "LOSS: 25.12376073447565, Delta: 3.389540173870387e-05\n",
            "LOSS: 25.12319544932129, Delta: 0.000565285154358719\n",
            "LOSS: 25.123043222537817, Delta: 0.00015222678347370788\n",
            "LOSS: 25.090324708759987, Delta: 0.03271851377783008\n",
            "LOSS: 25.090290936676848, Delta: 3.3772083138927655e-05\n",
            "LOSS: 25.090083020347898, Delta: 0.00020791632895011958\n",
            "LOSS: 25.089757875078487, Delta: 0.00032514526941085364\n",
            "LOSS: 25.08937501044622, Delta: 0.0003828646322681095\n",
            "LOSS: 25.088554060006558, Delta: 0.0008209504396603506\n",
            "LOSS: 25.088461189668244, Delta: 9.287033831384406e-05\n",
            "LOSS: 25.08842776456351, Delta: 3.342510473558491e-05\n",
            "LOSS: 25.08803402916976, Delta: 0.0003937353937502053\n",
            "LOSS: 25.087997042370294, Delta: 3.698679946495531e-05\n",
            "LOSS: 25.08695954140848, Delta: 0.0010375009618144304\n",
            "LOSS: 25.086791276542566, Delta: 0.00016826486591270395\n",
            "LOSS: 25.086754707594448, Delta: 3.656894811854272e-05\n",
            "LOSS: 25.086637404277745, Delta: 0.00011730331670278815\n",
            "LOSS: 25.086440013503985, Delta: 0.00019739077376002\n",
            "LOSS: 25.086060572268327, Delta: 0.0003794412356583621\n",
            "LOSS: 25.08541449765525, Delta: 0.0006460746130763084\n",
            "LOSS: 25.08494601169309, Delta: 0.0004684859621590931\n",
            "LOSS: 25.084931475210976, Delta: 1.4536482115801164e-05\n",
            "LOSS: 25.082111345361938, Delta: 0.002820129849038011\n",
            "LOSS: 25.082060249612503, Delta: 5.109574943418238e-05\n",
            "LOSS: 25.08201625867602, Delta: 4.399093648288499e-05\n",
            "LOSS: 25.049777528465448, Delta: 0.03223873021057244\n",
            "LOSS: 25.04968491820888, Delta: 9.261025656925881e-05\n",
            "LOSS: 25.04959302072537, Delta: 9.189748350735272e-05\n",
            "LOSS: 25.049554661317682, Delta: 3.835940768937007e-05\n",
            "LOSS: 25.04929405201651, Delta: 0.00026060930117211\n",
            "LOSS: 25.049206068730147, Delta: 8.79832863631691e-05\n",
            "LOSS: 25.048645411367442, Delta: 0.0005606573627048306\n",
            "LOSS: 25.04782677358381, Delta: 0.0008186377836310044\n",
            "LOSS: 25.047787714072236, Delta: 3.9059511575345596e-05\n",
            "LOSS: 25.04774448333976, Delta: 4.323073247647358e-05\n",
            "LOSS: 25.047710310889176, Delta: 3.4172450583014324e-05\n",
            "LOSS: 25.047679819647286, Delta: 3.0491241890473475e-05\n",
            "LOSS: 25.04764120816486, Delta: 3.8611482427342025e-05\n",
            "LOSS: 25.047506821616192, Delta: 0.00013438654866604338\n",
            "LOSS: 25.047492215421443, Delta: 1.4606194749688939e-05\n",
            "LOSS: 25.047458622099985, Delta: 3.359332145791427e-05\n",
            "LOSS: 25.044645931138067, Delta: 0.0028126909619174967\n",
            "LOSS: 25.04460305960488, Delta: 4.287153318571768e-05\n",
            "LOSS: 25.04421366632811, Delta: 0.0003893932767731201\n",
            "LOSS: 25.04401816275994, Delta: 0.00019550356816822045\n",
            "LOSS: 25.043987803739917, Delta: 3.0359020023240646e-05\n",
            "LOSS: 25.04327490230174, Delta: 0.0007129014381774823\n",
            "LOSS: 25.04322646541635, Delta: 4.843688538969104e-05\n",
            "LOSS: 25.04304032598481, Delta: 0.00018613943154122126\n",
            "LOSS: 25.04265571059356, Delta: 0.00038461539124767796\n",
            "LOSS: 25.04261894871146, Delta: 3.6761882100222465e-05\n",
            "LOSS: 25.042359864237543, Delta: 0.00025908447391742584\n",
            "LOSS: 25.042226486587058, Delta: 0.0001333776504850448\n",
            "LOSS: 25.04176190974094, Delta: 0.00046457684611667105\n",
            "LOSS: 25.041645495500845, Delta: 0.0001164142400966739\n",
            "LOSS: 25.04158244322073, Delta: 6.30522801152722e-05\n",
            "LOSS: 25.04112327398579, Delta: 0.0004591692349400489\n",
            "LOSS: 25.04093800540739, Delta: 0.000185268578398734\n",
            "LOSS: 25.0407855082883, Delta: 0.0001524971190889346\n",
            "LOSS: 25.040747296407922, Delta: 3.821188037989032e-05\n",
            "LOSS: 25.008980913836158, Delta: 0.031766382571763785\n",
            "LOSS: 25.008812426054032, Delta: 0.0001684877821261921\n",
            "LOSS: 25.008618360878703, Delta: 0.00019406517532871703\n",
            "LOSS: 25.00858491731848, Delta: 3.344356022338957e-05\n",
            "LOSS: 25.007877995533313, Delta: 0.0007069217851665144\n",
            "LOSS: 25.005075031058787, Delta: 0.002802964474525993\n",
            "LOSS: 25.004961972337966, Delta: 0.00011305872082090218\n",
            "LOSS: 25.004913680999756, Delta: 4.829133821004916e-05\n",
            "LOSS: 25.00214064874162, Delta: 0.002773032258136965\n",
            "LOSS: 25.002052641072968, Delta: 8.800766865135756e-05\n",
            "LOSS: 25.00167483505481, Delta: 0.00037780601815740056\n",
            "LOSS: 25.001630776734423, Delta: 4.40583203875633e-05\n",
            "LOSS: 25.00130307860637, Delta: 0.00032769812805355514\n",
            "LOSS: 25.001290139182558, Delta: 1.2939423811531015e-05\n",
            "LOSS: 25.00123846215833, Delta: 5.167702422781417e-05\n"
          ]
        }
      ],
      "source": [
        "Y_preds_BCGD_sampling = BCGD_RS_solver.solve(\n",
        "    X = X, \n",
        "    Y = Y_delabeled, \n",
        "    iter_limit = 100,\n",
        "    delta_loss_limit = 0.0\n",
        ")"
      ]
    },
    {
      "cell_type": "code",
      "execution_count": 45,
      "metadata": {
        "id": "Hkiavnn4ji8p",
        "outputId": "287d8654-db87-4b23-f51c-41319e9cf377",
        "colab": {
          "base_uri": "https://localhost:8080/",
          "height": 282
        }
      },
      "outputs": [
        {
          "output_type": "stream",
          "name": "stdout",
          "text": [
            "Accuracy: 0.94\n"
          ]
        },
        {
          "output_type": "display_data",
          "data": {
            "text/plain": [
              "<Figure size 432x288 with 1 Axes>"
            ],
            "image/png": "[encoded data removed]"
          },
          "metadata": {
            "needs_background": "light"
          }
        }
      ],
      "source": [
        "plot_clusters(\n",
        "    X, Y_preds_BCGD_sampling\n",
        ")\n",
        "print(f'Accuracy: {accuracy_score(Y, Y_preds_BCGD_sampling)}')"
      ]
    },
    {
      "cell_type": "code",
      "execution_count": 46,
      "metadata": {
        "id": "QYc5egcOji8p",
        "outputId": "4196b9c8-0086-467b-da76-1fe3dc558b34",
        "colab": {
          "base_uri": "https://localhost:8080/",
          "height": 265
        }
      },
      "outputs": [
        {
          "output_type": "display_data",
          "data": {
            "text/plain": [
              "<Figure size 432x288 with 1 Axes>"
            ],
            "image/png": "[encoded data removed]"
          },
          "metadata": {
            "needs_background": "light"
          }
        }
      ],
      "source": [
        "plt.plot(BCGD_RS_solver.losses)\n",
        "plt.grid()"
      ]
    },
    {
      "cell_type": "markdown",
      "metadata": {
        "id": "AKCfR4boji8p"
      },
      "source": [
        "## BCGD cyclic"
      ]
    },
    {
      "cell_type": "code",
      "execution_count": 47,
      "metadata": {
        "id": "9t1zhz2nji8p"
      },
      "outputs": [],
      "source": [
        "BCGD_cyclic_solver = BCGDSolver(\n",
        "    lr_strategy = 'lr_constant',\n",
        "    learning_rate = 0.001,\n",
        "    similarity_func = None,\n",
        "\n",
        "    bcgd_strategy = 'cyclic'\n",
        ")"
      ]
    },
    {
      "cell_type": "code",
      "execution_count": 48,
      "metadata": {
        "id": "MTLrf9Hgji8p",
        "outputId": "8d886a1a-78df-4e40-b7ef-eaef7b39d192",
        "colab": {
          "base_uri": "https://localhost:8080/"
        }
      },
      "outputs": [
        {
          "output_type": "stream",
          "name": "stdout",
          "text": [
            "LOSS: 25.133279635517184, Delta: 25.133279635517184\n",
            "LOSS: 24.688868015546948, Delta: 0.4444116199702357\n",
            "LOSS: 24.292568602572377, Delta: 0.39629941297457094\n",
            "LOSS: 23.93796895469215, Delta: 0.354599647880228\n",
            "LOSS: 23.619581106339318, Delta: 0.31838784835283107\n",
            "LOSS: 23.332703530945338, Delta: 0.28687757539398007\n",
            "LOSS: 23.073304105379844, Delta: 0.2593994255654941\n",
            "LOSS: 22.83792084542067, Delta: 0.23538325995917475\n",
            "LOSS: 22.623577681859683, Delta: 0.21434316356098648\n",
            "LOSS: 22.427712969374213, Delta: 0.19586471248547\n",
            "LOSS: 22.248118777142274, Delta: 0.17959419223193862\n",
            "LOSS: 22.082889311591394, Delta: 0.1652294655508797\n",
            "LOSS: 21.930377076276837, Delta: 0.15251223531455693\n",
            "LOSS: 21.78915558898645, Delta: 0.14122148729038742\n",
            "LOSS: 21.657987657902584, Delta: 0.1311679310838656\n",
            "LOSS: 21.53579837222916, Delta: 0.12218928567342502\n",
            "LOSS: 21.42165209247579, Delta: 0.11414627975337055\n",
            "LOSS: 21.314732835299225, Delta: 0.10691925717656403\n",
            "LOSS: 21.21432754053694, Delta: 0.10040529476228599\n",
            "LOSS: 21.119811786483844, Delta: 0.09451575405309498\n",
            "LOSS: 21.03063758576808, Delta: 0.08917420071576387\n",
            "LOSS: 20.94632295027074, Delta: 0.0843146354973392\n",
            "LOSS: 20.86644296097117, Delta: 0.0798799892995703\n",
            "LOSS: 20.79062211875423, Delta: 0.07582084221694174\n",
            "LOSS: 20.718527786177948, Delta: 0.07209433257628106\n",
            "LOSS: 20.64986455897096, Delta: 0.06866322720698648\n",
            "LOSS: 20.58436943037331, Delta: 0.06549512859765017\n",
            "LOSS: 20.521807632058092, Delta: 0.06256179831521891\n",
            "LOSS: 20.46196905284869, Delta: 0.05983857920940139\n",
            "LOSS: 20.40466515124335, Delta: 0.05730390160534071\n",
            "LOSS: 20.34972629031846, Delta: 0.054938860924888644\n",
            "LOSS: 20.296999434213777, Delta: 0.05272685610468386\n",
            "LOSS: 20.246346154442087, Delta: 0.05065327977169076\n",
            "LOSS: 20.197640901914145, Delta: 0.04870525252794167\n",
            "LOSS: 20.15076950708154, Delta: 0.046871394832603386\n",
            "LOSS: 20.105627876116333, Delta: 0.04514163096520818\n",
            "LOSS: 20.06212085574345, Delta: 0.04350702037288201\n",
            "LOSS: 20.020161243326967, Delta: 0.04195961241648405\n",
            "LOSS: 19.97966892220314, Delta: 0.04049232112382839\n",
            "LOSS: 19.940570105143223, Delta: 0.0390988170599158\n",
            "LOSS: 19.9027966712804, Delta: 0.03777343386282439\n",
            "LOSS: 19.8662855839347, Delta: 0.036511087345697746\n",
            "LOSS: 19.830978378549027, Delta: 0.03530720538567422\n",
            "LOSS: 19.79682071147381, Delta: 0.034157667075216835\n",
            "LOSS: 19.76376196163536, Delta: 0.033058749838449586\n",
            "LOSS: 19.731754878236778, Delta: 0.03200708339858238\n",
            "LOSS: 19.70075526857927, Delta: 0.030999609657506255\n",
            "LOSS: 19.67072172091627, Delta: 0.03003354766300248\n",
            "LOSS: 19.64161535793494, Delta: 0.029106362981330847\n",
            "LOSS: 19.613399617060654, Delta: 0.028215740874284023\n"
          ]
        }
      ],
      "source": [
        "Y_preds_BCGD_cyclic = BCGD_cyclic_solver.solve(\n",
        "    X,\n",
        "    Y_delabeled, \n",
        "    iter_limit = 50, \n",
        "    delta_loss_limit = 0.0001\n",
        ")"
      ]
    },
    {
      "cell_type": "code",
      "execution_count": 49,
      "metadata": {
        "id": "95Q50O22ji8q",
        "outputId": "641c3a44-c0ee-4b9b-c7a2-60c650bf6e59",
        "colab": {
          "base_uri": "https://localhost:8080/",
          "height": 282
        }
      },
      "outputs": [
        {
          "output_type": "stream",
          "name": "stdout",
          "text": [
            "Accuracy: 1.0\n"
          ]
        },
        {
          "output_type": "display_data",
          "data": {
            "text/plain": [
              "<Figure size 432x288 with 1 Axes>"
            ],
            "image/png": "[encoded data removed]"
          },
          "metadata": {
            "needs_background": "light"
          }
        }
      ],
      "source": [
        "print(f'Accuracy: {accuracy_score(Y_preds_BCGD_cyclic, Y)}')\n",
        "plot_clusters(\n",
        "    X, Y_preds_BCGD_cyclic\n",
        ")"
      ]
    },
    {
      "cell_type": "code",
      "execution_count": 50,
      "metadata": {
        "id": "lpl60PJgji8q",
        "outputId": "6a739c84-48b4-423d-a867-42688fb18ba5",
        "colab": {
          "base_uri": "https://localhost:8080/"
        }
      },
      "outputs": [
        {
          "output_type": "execute_result",
          "data": {
            "text/plain": [
              "1.0"
            ]
          },
          "metadata": {},
          "execution_count": 50
        }
      ],
      "source": [
        "accuracy_score(Y, Y_preds_BCGD_cyclic)"
      ]
    },
    {
      "cell_type": "code",
      "execution_count": 51,
      "metadata": {
        "id": "9w-wKchjji8q",
        "outputId": "bb03f390-a1f6-4ba6-e2d7-3e6a26e781d2",
        "colab": {
          "base_uri": "https://localhost:8080/",
          "height": 265
        }
      },
      "outputs": [
        {
          "output_type": "display_data",
          "data": {
            "text/plain": [
              "<Figure size 432x288 with 1 Axes>"
            ],
            "image/png": "[encoded data removed]"
          },
          "metadata": {
            "needs_background": "light"
          }
        }
      ],
      "source": [
        "plt.plot(BCGD_cyclic_solver.losses, marker = 'o')\n",
        "plt.grid()"
      ]
    },
    {
      "cell_type": "markdown",
      "metadata": {
        "id": "JE0wByBMji8q"
      },
      "source": [
        "# Model comparison"
      ]
    },
    {
      "cell_type": "markdown",
      "metadata": {
        "id": "swRV0Q4jji8q"
      },
      "source": [
        "We will compare models based on:\n",
        "- Clustering metrics\n",
        "- CPU time\n",
        "- Number of iterations\n",
        "- Loss curves\n",
        "- Distance metrics"
      ]
    },
    {
      "cell_type": "code",
      "execution_count": null,
      "metadata": {
        "id": "1VaNQmYvji8q"
      },
      "outputs": [],
      "source": [
        "learning_rate_strategy = 'lr_constant'\n",
        "simil_func = None  # No feature yet\n",
        "lr = 0.001\n",
        "\n",
        "gd_solver = GradientDescentSolver(\n",
        "    similarity_func = simil_func,\n",
        "    lr_strategy = learning_rate_strategy,\n",
        "    learning_rate = lr\n",
        ")\n",
        "\n",
        "bcgd_permut_solver = BCGDSolver(\n",
        "    lr_strategy = learning_rate_strategy,\n",
        "    learning_rate = lr,\n",
        "    similarity_func = simil_func,\n",
        "    bcgd_strategy = 'random permutation',\n",
        ")\n",
        "\n",
        "bcgd_sampling_solver = BCGDSolver(\n",
        "    lr_strategy = learning_rate_strategy,\n",
        "    learning_rate = lr,\n",
        "    similarity_func = simil_func,\n",
        "    bcgd_strategy = 'random sampling',\n",
        ")\n",
        "\n",
        "bcgd_cyclic_solver = BCGDSolver(\n",
        "    lr_strategy = learning_rate_strategy,\n",
        "    learning_rate = lr,\n",
        "    similarity_func = simil_func,\n",
        "    bcgd_strategy = 'cyclic',\n",
        ")"
      ]
    },
    {
      "cell_type": "code",
      "execution_count": null,
      "metadata": {
        "id": "qEjgEjiKji8r"
      },
      "outputs": [],
      "source": [
        "solvers = {\n",
        "    'GD': gd_solver,\n",
        "    'BCGD permutation': bcgd_permut_solver,\n",
        "    'BCGD cyclic': bcgd_cyclic_solver,\n",
        "    'BCGD sampling': bcgd_sampling_solver,\n",
        "}"
      ]
    },
    {
      "cell_type": "code",
      "execution_count": null,
      "metadata": {
        "id": "hcChCMybji8r"
      },
      "outputs": [],
      "source": [
        "def compare_models(solvers_dict, X, Y_delabeled, iters_limit, delta_loss_limit):\n",
        "    predictions = {k:None for k in solvers_dict.keys()}\n",
        "    losses = {k:None for k in solvers_dict.keys()}\n",
        "    n_iterations = {k:None for k in solvers_dict.keys()}\n",
        "    cpu_times = {k:None for k in solvers_dict.keys()}\n",
        "\n",
        "    for model_name, model in solvers_dict.items():\n",
        "        start = timeit.default_timer()\n",
        "        Y_preds = model.solve(\n",
        "            X,\n",
        "            Y_delabeled,\n",
        "            iter_limit = iters_limit,\n",
        "            delta_loss_limit = delta_loss_limit\n",
        "        )\n",
        "        end = timeit.default_timer()\n",
        "        predictions[model_name] = Y_preds\n",
        "        losses[model_name] = model.losses\n",
        "        n_iterations[model_name] = model.n_iterations\n",
        "        cpu_times[model_name] = end - start\n",
        "    \n",
        "    # plot_accuracies(predictions)\n",
        "    # plot_losses(losses)\n",
        "    # plot_iterations(n_iterations)\n",
        "    # plot_cpu_times(cpu_times)\n",
        "\n",
        "    return predictions, losses, n_iterations, cpu_times"
      ]
    },
    {
      "cell_type": "code",
      "execution_count": null,
      "metadata": {
        "id": "dLm9tU_sji8r",
        "outputId": "af2a84b4-d346-4211-ef7c-5972e8739228"
      },
      "outputs": [
        {
          "name": "stdout",
          "output_type": "stream",
          "text": [
            "Loss: 25.133279635517184, delta loss: 25.133279635517184\n",
            "Loss: 24.692046825881985, delta loss: 0.4412328096351992\n",
            "Loss: 24.298667083853772, delta loss: 0.3933797420282126\n",
            "Loss: 23.94673438446902, delta loss: 0.3519326993847507\n",
            "Loss: 23.63077100177023, delta loss: 0.31596338269879\n",
            "Loss: 23.346088146351793, delta loss: 0.2846828554184384\n",
            "Loss: 23.08866792244849, delta loss: 0.25742022390330277\n",
            "Loss: 22.855063307403576, delta loss: 0.23360461504491425\n",
            "Loss: 22.642313369598728, delta loss: 0.21274993780484763\n",
            "Loss: 22.447871373983205, delta loss: 0.19444199561552367\n",
            "Loss: 22.269543789721443, delta loss: 0.17832758426176198\n",
            "Loss: 22.105438522836014, delta loss: 0.1641052668854286\n",
            "Loss: 21.953920956937267, delta loss: 0.15151756589874665\n",
            "Loss: 21.8135766047739, delta loss: 0.1403443521633676\n",
            "Loss: 21.683179358736666, delta loss: 0.13039724603723357\n",
            "Loss: 21.561664484968123, delta loss: 0.1215148737685432\n",
            "Loss: 21.448105637880257, delta loss: 0.1135588470878659\n",
            "Loss: 21.34169528348301, delta loss: 0.10641035439724789\n",
            "Loss: 21.241728014166522, delta loss: 0.0999672693164868\n",
            "Loss: 21.147586317201903, delta loss: 0.09414169696461983\n",
            "Loss: 21.058728426467432, delta loss: 0.08885789073447015\n",
            "Loss: 20.97467794374997, delta loss: 0.08405048271746196\n",
            "Loss: 20.895014963995308, delta loss: 0.07966297975466219\n",
            "Loss: 20.819368479473873, delta loss: 0.0756464845214353\n",
            "Loss: 20.747409872164365, delta loss: 0.07195860730950798\n",
            "Loss: 20.678847332673815, delta loss: 0.06856253949055002\n",
            "Loss: 20.61342106857415, delta loss: 0.06542626409966346\n",
            "Loss: 20.550899185804088, delta loss: 0.06252188277006354\n",
            "Loss: 20.491074144368792, delta loss: 0.0598250414352961\n",
            "Loss: 20.433759704453585, delta loss: 0.05731443991520635\n",
            "Loss: 20.37878829167126, delta loss: 0.05497141278232576\n",
            "Loss: 20.32600872083984, delta loss: 0.05277957083141871\n",
            "Loss: 20.275284226733735, delta loss: 0.05072449410610602\n",
            "Loss: 20.226490757923436, delta loss: 0.04879346881029889\n",
            "Loss: 20.17951549632307, delta loss: 0.046975261600366025\n",
            "Loss: 20.13425557057946, delta loss: 0.04525992574361126\n",
            "Loss: 20.090616936127425, delta loss: 0.04363863445203364\n",
            "Loss: 20.048513398706724, delta loss: 0.04210353742070083\n",
            "Loss: 20.00786576152116, delta loss: 0.04064763718556463\n",
            "Loss: 19.968601079090252, delta loss: 0.03926468243090753\n",
            "Loss: 19.930652003286887, delta loss: 0.03794907580336471\n",
            "Loss: 19.89395620913876, delta loss: 0.03669579414812674\n",
            "Loss: 19.858455889734323, delta loss: 0.035500319404437874\n",
            "Loss: 19.824097311093805, delta loss: 0.034358578640517834\n",
            "Loss: 19.790830419142846, delta loss: 0.033266891950958666\n",
            "Loss: 19.758608492031698, delta loss: 0.032221927111148574\n",
            "Loss: 19.727387831978277, delta loss: 0.031220660053421057\n",
            "Loss: 19.697127491615085, delta loss: 0.03026034036319203\n",
            "Loss: 19.66778903050768, delta loss: 0.0293384611074039\n",
            "Loss: 19.639336298099895, delta loss: 0.028452732407785675\n",
            "Loss: 19.611735239840964, delta loss: 0.027601058258930777\n",
            "Loss: 19.58495372368745, delta loss: 0.026781516153516094\n",
            "Loss: 19.55896138453914, delta loss: 0.025992339148309895\n",
            "Loss: 19.533729484490888, delta loss: 0.02523190004825082\n",
            "Loss: 19.509230787052346, delta loss: 0.02449869743854194\n",
            "Loss: 19.485439443730176, delta loss: 0.023791343322169922\n",
            "Loss: 19.462330891564193, delta loss: 0.023108552165982843\n",
            "Loss: 19.43988176039355, delta loss: 0.02244913117064229\n",
            "Loss: 19.418069788774435, delta loss: 0.02181197161911541\n",
            "Loss: 19.396873747606037, delta loss: 0.02119604116839824\n",
            "Loss: 19.376273370636426, delta loss: 0.020600376969611034\n",
            "Loss: 19.356249291118495, delta loss: 0.02002407951793117\n",
            "Loss: 19.336782983973567, delta loss: 0.019466307144927697\n",
            "Loss: 19.31785671289258, delta loss: 0.018926271080985657\n",
            "Loss: 19.299453481876935, delta loss: 0.01840323101564678\n",
            "Loss: 19.281556990769392, delta loss: 0.017896491107542545\n",
            "Loss: 19.264151594385485, delta loss: 0.017405396383907146\n",
            "Loss: 19.247222264892255, delta loss: 0.016929329493230227\n",
            "Loss: 19.230754557121962, delta loss: 0.016467707770292606\n",
            "Loss: 19.21473457654447, delta loss: 0.016019980577492987\n",
            "Loss: 19.19914894965204, delta loss: 0.015585626892427484\n",
            "Loss: 19.183984796527742, delta loss: 0.015164153124299418\n",
            "Loss: 19.169229705408675, delta loss: 0.014755091119067032\n",
            "Loss: 19.154871709057865, delta loss: 0.014357996350810254\n",
            "Loss: 19.14089926278884, delta loss: 0.013972446269026051\n",
            "Loss: 19.127301223999815, delta loss: 0.013598038789023548\n",
            "Loss: 19.114066833085598, delta loss: 0.013234390914217187\n",
            "Loss: 19.10118569561204, delta loss: 0.01288113747355979\n",
            "Loss: 19.088647765648027, delta loss: 0.012537929964011596\n",
            "Loss: 19.07644333016101, delta loss: 0.012204435487017662\n",
            "Loss: 19.064562994384072, delta loss: 0.01188033577693659\n",
            "Loss: 19.05299766808645, delta loss: 0.01156532629762097\n",
            "Loss: 19.041738552666803, delta loss: 0.01125911541964797\n",
            "Loss: 19.03077712901164, delta loss: 0.010961423655164282\n",
            "Loss: 19.020105146057745, delta loss: 0.010671982953894599\n",
            "Loss: 19.009714610005336, delta loss: 0.010390536052408805\n",
            "Loss: 18.99959777413373, delta loss: 0.010116835871606611\n",
            "Loss: 18.98974712917734, delta loss: 0.009850644956390653\n",
            "Loss: 18.980155394217675, delta loss: 0.009591734959663256\n",
            "Loss: 18.97081550805729, delta loss: 0.009339886160386612\n",
            "Loss: 18.961720621041298, delta loss: 0.009094887015990594\n",
            "Loss: 18.952864087295197, delta loss: 0.008856533746101292\n",
            "Loss: 18.944239457351657, delta loss: 0.008624629943540185\n",
            "Loss: 18.935840471136796, delta loss: 0.008398986214860571\n",
            "Loss: 18.927661051297708, delta loss: 0.008179419839088098\n",
            "Loss: 18.919695296844115, delta loss: 0.007965754453593377\n",
            "Loss: 18.911937477085623, delta loss: 0.007757819758491991\n",
            "Loss: 18.90438202584838, delta loss: 0.0075554512372413285\n",
            "Loss: 18.89702353594856, delta loss: 0.007358489899822018\n",
            "Loss: 18.889856753912355, delta loss: 0.0071667820362044665\n",
            "Loss: 18.88287657492393, delta loss: 0.0069801789884245125\n",
            "Loss: 18.87607803799041, delta loss: 0.006798536933519728\n",
            "Loss: 18.869456321308675, delta loss: 0.006621716681735279\n",
            "Loss: 18.8630067378252, delta loss: 0.006449583483476573\n",
            "Loss: 18.856724730974772, delta loss: 0.006282006850426569\n",
            "Loss: 18.85060587059255, delta loss: 0.00611886038222309\n",
            "Loss: 18.844645848985223, delta loss: 0.005960021607325672\n",
            "Loss: 18.838840477156506, delta loss: 0.005805371828717654\n",
            "Loss: 18.833185681176012, delta loss: 0.0056547959804937875\n",
            "Loss: 18.827677498687375, delta loss: 0.005508182488636493\n",
            "Loss: 18.822312075543913, delta loss: 0.0053654231434627775\n",
            "Loss: 18.817085662571152, delta loss: 0.005226412972760386\n",
            "Loss: 18.811994612443687, delta loss: 0.005091050127465024\n",
            "Loss: 18.80703537667615, delta loss: 0.004959235767536541\n",
            "Loss: 18.80220450272022, delta loss: 0.004830873955931736\n",
            "Loss: 18.797498631163204, delta loss: 0.004705871557014518\n",
            "Loss: 18.7929144930221, delta loss: 0.004584138141105143\n",
            "Loss: 18.78844890713288, delta loss: 0.004465585889217749\n",
            "Loss: 18.784098777625495, delta loss: 0.004350129507386669\n",
            "Loss: 18.779861091484378, delta loss: 0.004237686141117081\n",
            "Loss: 18.775732916189785, delta loss: 0.004128175294592751\n",
            "Loss: 18.771711397436132, delta loss: 0.004021518753653197\n",
            "Loss: 18.767793756924796, delta loss: 0.003917640511335918\n",
            "Loss: 18.76397729022724, delta loss: 0.00381646669755753\n",
            "Loss: 18.760259364716912, delta loss: 0.0037179255103261255\n",
            "Loss: 18.756637417565834, delta loss: 0.0036219471510783308\n",
            "Loss: 18.753108953805082, delta loss: 0.0035284637607517766\n",
            "Loss: 18.749671544443746, delta loss: 0.0034374093613358525\n",
            "Loss: 18.74632282464747, delta loss: 0.003348719796274935\n",
            "Loss: 18.743060491972805, delta loss: 0.003262332674665913\n",
            "Loss: 18.73988230465364, delta loss: 0.003178187319164749\n",
            "Loss: 18.73678607994069, delta loss: 0.0030962247129515674\n",
            "Loss: 18.73376969249103, delta loss: 0.0030163874496587084\n",
            "Loss: 18.73083107280427, delta loss: 0.002938619686759125\n",
            "LOSS: 25.133279635517184, Delta: 25.133279635517184\n",
            "LOSS: 24.68893206902079, Delta: 0.4443475664963934\n",
            "LOSS: 24.29279517487404, Delta: 0.3961368941467498\n",
            "LOSS: 23.93841839556635, Delta: 0.35437677930768885\n",
            "LOSS: 23.620292693118834, Delta: 0.31812570244751726\n",
            "LOSS: 23.333651662095264, Delta: 0.28664103102357075\n",
            "LOSS: 23.074415252751518, Delta: 0.25923640934374603\n",
            "LOSS: 22.839138611363257, Delta: 0.23527664138826054\n",
            "LOSS: 22.62488196121931, Delta: 0.21425665014394824\n",
            "LOSS: 22.42911424542666, Delta: 0.1957677157926483\n",
            "LOSS: 22.249624848336286, Delta: 0.17948939709037504\n",
            "LOSS: 22.08449582234234, Delta: 0.16512902599394508\n",
            "LOSS: 21.93205190713457, Delta: 0.152443915207769\n",
            "LOSS: 21.7908584227583, Delta: 0.1411934843762701\n",
            "LOSS: 21.65970002699413, Delta: 0.13115839576417088\n",
            "LOSS: 21.537499502468865, Delta: 0.12220052452526531\n",
            "LOSS: 21.42333112160576, Delta: 0.11416838086310577\n",
            "LOSS: 21.316384710301698, Delta: 0.10694641130406168\n",
            "LOSS: 21.215930502685026, Delta: 0.10045420761667145\n",
            "LOSS: 21.121350007651767, Delta: 0.09458049503325938\n",
            "LOSS: 21.032097504886032, Delta: 0.08925250276573493\n",
            "LOSS: 20.947700460355897, Delta: 0.08439704453013519\n",
            "LOSS: 20.867743452036486, Delta: 0.07995700831941122\n",
            "LOSS: 20.791855604838815, Delta: 0.07588784719767006\n",
            "LOSS: 20.71969538946364, Delta: 0.07216021537517392\n",
            "LOSS: 20.65096712044877, Delta: 0.06872826901487272\n",
            "LOSS: 20.585412231753633, Delta: 0.06555488869513582\n",
            "LOSS: 20.522796135029633, Delta: 0.0626160967239997\n",
            "LOSS: 20.462906876364126, Delta: 0.05988925866550687\n",
            "LOSS: 20.405553855589183, Delta: 0.05735302077494353\n",
            "LOSS: 20.350566101491637, Delta: 0.05498775409754586\n",
            "LOSS: 20.297789714542677, Delta: 0.0527763869489597\n",
            "LOSS: 20.247086701500102, Delta: 0.05070301304257541\n",
            "LOSS: 20.198334519202177, Delta: 0.04875218229792466\n",
            "LOSS: 20.15141974879025, Delta: 0.046914770411927265\n",
            "LOSS: 20.106238306641007, Delta: 0.04518144214924291\n",
            "LOSS: 20.06269548295472, Delta: 0.04354282368628759\n",
            "LOSS: 20.02070362735952, Delta: 0.04199185559519947\n",
            "LOSS: 19.98018022660753, Delta: 0.040523400751990124\n",
            "LOSS: 19.94105212908881, Delta: 0.03912809751872004\n",
            "LOSS: 19.903250604577373, Delta: 0.037801524511436924\n",
            "LOSS: 19.86671286934843, Delta: 0.036537735228943546\n",
            "LOSS: 19.831381093704557, Delta: 0.03533177564387202\n",
            "LOSS: 19.797200078910112, Delta: 0.03418101479444502\n",
            "LOSS: 19.764118361449572, Delta: 0.033081717460540006\n",
            "LOSS: 19.73208946541458, Delta: 0.032028896034990595\n",
            "LOSS: 19.701070453826254, Delta: 0.031019011588327317\n",
            "LOSS: 19.671019139195014, Delta: 0.030051314631240444\n",
            "LOSS: 19.641897087687365, Delta: 0.029122051507648905\n",
            "LOSS: 19.61366656377627, Delta: 0.028230523911094707\n",
            "LOSS: 19.586292717795168, Delta: 0.027373845981102818\n",
            "LOSS: 19.559743529873508, Delta: 0.026549187921659723\n",
            "LOSS: 19.533987852479605, Delta: 0.025755677393902943\n",
            "LOSS: 19.508996972096952, Delta: 0.024990880382652847\n",
            "LOSS: 19.48474314362995, Delta: 0.024253828467003302\n",
            "LOSS: 19.461200288373856, Delta: 0.023542855256092565\n",
            "LOSS: 19.438344088740156, Delta: 0.02285619963370067\n",
            "LOSS: 19.416150942768628, Delta: 0.022193145971527883\n",
            "LOSS: 19.39459765532909, Delta: 0.021553287439537883\n",
            "LOSS: 19.373662441026344, Delta: 0.02093521430274592\n",
            "LOSS: 19.353324314292202, Delta: 0.020338126734142037\n",
            "LOSS: 19.333564615625654, Delta: 0.019759698666547365\n",
            "LOSS: 19.314363961822202, Delta: 0.019200653803451928\n",
            "LOSS: 19.29570411563829, Delta: 0.01865984618391181\n",
            "LOSS: 19.277568187510525, Delta: 0.018135928127765766\n",
            "LOSS: 19.25993974381431, Delta: 0.01762844369621419\n",
            "LOSS: 19.24280346559047, Delta: 0.017136278223841117\n",
            "LOSS: 19.226143683738364, Delta: 0.016659781852105482\n",
            "LOSS: 19.20994581471332, Delta: 0.01619786902504572\n",
            "LOSS: 19.194195767635616, Delta: 0.015750047077702334\n",
            "LOSS: 19.17887960821975, Delta: 0.015316159415867503\n",
            "LOSS: 19.163984876363767, Delta: 0.014894731855982002\n",
            "LOSS: 19.14949852888975, Delta: 0.01448634747401556\n",
            "LOSS: 19.13540870235232, Delta: 0.014089826537432515\n",
            "LOSS: 19.121703536384, Delta: 0.013705165968318056\n",
            "LOSS: 19.108371774005285, Delta: 0.013331762378715695\n",
            "LOSS: 19.095402643072653, Delta: 0.012969130932631856\n",
            "LOSS: 19.08278553012848, Delta: 0.01261711294417367\n",
            "LOSS: 19.070510365685845, Delta: 0.012275164442634434\n",
            "LOSS: 19.058567338071093, Delta: 0.011943027614751855\n",
            "LOSS: 19.046947006272216, Delta: 0.011620331798877004\n",
            "LOSS: 19.035640101522585, Delta: 0.01130690474963103\n",
            "LOSS: 19.02463778051907, Delta: 0.011002321003516613\n",
            "LOSS: 19.013931332896757, Delta: 0.010706447622311543\n",
            "LOSS: 19.00351257571013, Delta: 0.010418757186627658\n",
            "LOSS: 18.9933734571329, Delta: 0.0101391185772286\n",
            "LOSS: 18.983506175562663, Delta: 0.009867281570237196\n",
            "LOSS: 18.97390290407172, Delta: 0.009603271490941978\n",
            "LOSS: 18.964556649972824, Delta: 0.009346254098897333\n",
            "LOSS: 18.955459934079514, Delta: 0.009096715893310403\n",
            "LOSS: 18.94660631039764, Delta: 0.008853623681872591\n",
            "LOSS: 18.937988688349588, Delta: 0.008617622048053164\n",
            "LOSS: 18.929600730738873, Delta: 0.008387957610715091\n",
            "LOSS: 18.921436090998167, Delta: 0.008164639740705582\n",
            "LOSS: 18.913488836855297, Delta: 0.007947254142870008\n",
            "LOSS: 18.90575262792877, Delta: 0.007736208926527155\n",
            "LOSS: 18.8982219715026, Delta: 0.0075306564261694575\n",
            "LOSS: 18.890891302843492, Delta: 0.007330668659108142\n",
            "LOSS: 18.883755123844235, Delta: 0.0071361789992572255\n",
            "LOSS: 18.87680822797235, Delta: 0.006946895871884351\n",
            "LOSS: 18.870045411665423, Delta: 0.006762816306927988\n",
            "LOSS: 18.8634616171875, Delta: 0.0065837944779225666\n",
            "LOSS: 18.857052186262834, Delta: 0.006409430924666282\n",
            "LOSS: 18.850812241430557, Delta: 0.006239944832277189\n",
            "LOSS: 18.84473749754816, Delta: 0.006074743882397371\n",
            "LOSS: 18.83882324926785, Delta: 0.0059142482803089536\n",
            "LOSS: 18.833065249378308, Delta: 0.005757999889542731\n",
            "LOSS: 18.827459376404935, Delta: 0.005605872973372783\n",
            "LOSS: 18.822001528437998, Delta: 0.005457847966937379\n",
            "LOSS: 18.816687666450523, Delta: 0.005313861987474411\n",
            "LOSS: 18.81151404623495, Delta: 0.005173620215572328\n",
            "LOSS: 18.806476802693915, Delta: 0.005037243541035963\n",
            "LOSS: 18.801572426136925, Delta: 0.004904376556989831\n",
            "LOSS: 18.796797255727686, Delta: 0.004775170409239138\n",
            "LOSS: 18.79214803318639, Delta: 0.004649222541296183\n",
            "LOSS: 18.78762116054701, Delta: 0.004526872639381452\n",
            "LOSS: 18.78321343082443, Delta: 0.004407729722579745\n",
            "LOSS: 18.7789218577136, Delta: 0.004291573110830171\n",
            "LOSS: 18.7747431998433, Delta: 0.004178657870298252\n",
            "LOSS: 18.770674474685666, Delta: 0.004068725157633679\n",
            "LOSS: 18.766712804645273, Delta: 0.0039616700403932725\n",
            "LOSS: 18.762855315229615, Delta: 0.003857489415658222\n",
            "LOSS: 18.759099312086132, Delta: 0.0037560031434829\n",
            "LOSS: 18.755441992614717, Delta: 0.0036573194714151214\n",
            "LOSS: 18.75188086365398, Delta: 0.0035611289607366814\n",
            "LOSS: 18.748413275534563, Delta: 0.003467588119416831\n",
            "LOSS: 18.745036827267796, Delta: 0.0033764482667670848\n",
            "LOSS: 18.74174906531814, Delta: 0.0032877619496574084\n",
            "LOSS: 18.738547603395133, Delta: 0.003201461923005411\n",
            "LOSS: 18.73543023405699, Delta: 0.0031173693381418843\n",
            "LOSS: 18.732394707373768, Delta: 0.0030355266832238215\n",
            "LOSS: 18.729438885380375, Delta: 0.0029558219933925045\n",
            "LOSS: 25.133279635517184, Delta: 25.133279635517184\n",
            "LOSS: 24.688868015546948, Delta: 0.4444116199702357\n",
            "LOSS: 24.292568602572377, Delta: 0.39629941297457094\n",
            "LOSS: 23.93796895469215, Delta: 0.354599647880228\n",
            "LOSS: 23.619581106339318, Delta: 0.31838784835283107\n",
            "LOSS: 23.332703530945338, Delta: 0.28687757539398007\n",
            "LOSS: 23.073304105379844, Delta: 0.2593994255654941\n",
            "LOSS: 22.837920845420673, Delta: 0.2353832599591712\n",
            "LOSS: 22.623577681859683, Delta: 0.21434316356099004\n",
            "LOSS: 22.427712969374213, Delta: 0.19586471248547\n",
            "LOSS: 22.248118777142274, Delta: 0.17959419223193862\n",
            "LOSS: 22.082889311591394, Delta: 0.1652294655508797\n",
            "LOSS: 21.930377076276837, Delta: 0.15251223531455693\n",
            "LOSS: 21.789155588986446, Delta: 0.14122148729039097\n",
            "LOSS: 21.657987657902584, Delta: 0.13116793108386204\n",
            "LOSS: 21.53579837222916, Delta: 0.12218928567342502\n",
            "LOSS: 21.42165209247579, Delta: 0.11414627975337055\n",
            "LOSS: 21.314732835299225, Delta: 0.10691925717656403\n",
            "LOSS: 21.21432754053694, Delta: 0.10040529476228599\n",
            "LOSS: 21.119811786483844, Delta: 0.09451575405309498\n",
            "LOSS: 21.03063758576808, Delta: 0.08917420071576387\n",
            "LOSS: 20.94632295027074, Delta: 0.0843146354973392\n",
            "LOSS: 20.86644296097117, Delta: 0.0798799892995703\n",
            "LOSS: 20.79062211875423, Delta: 0.07582084221694174\n",
            "LOSS: 20.718527786177948, Delta: 0.07209433257628106\n",
            "LOSS: 20.64986455897096, Delta: 0.06866322720698648\n",
            "LOSS: 20.58436943037331, Delta: 0.06549512859765017\n",
            "LOSS: 20.521807632058092, Delta: 0.06256179831521891\n",
            "LOSS: 20.46196905284869, Delta: 0.05983857920940139\n",
            "LOSS: 20.40466515124335, Delta: 0.05730390160534071\n",
            "LOSS: 20.34972629031846, Delta: 0.054938860924888644\n",
            "LOSS: 20.296999434213777, Delta: 0.05272685610468386\n",
            "LOSS: 20.246346154442087, Delta: 0.05065327977169076\n",
            "LOSS: 20.197640901914145, Delta: 0.04870525252794167\n",
            "LOSS: 20.15076950708154, Delta: 0.046871394832603386\n",
            "LOSS: 20.105627876116333, Delta: 0.04514163096520818\n",
            "LOSS: 20.06212085574345, Delta: 0.04350702037288201\n",
            "LOSS: 20.020161243326967, Delta: 0.04195961241648405\n",
            "LOSS: 19.97966892220314, Delta: 0.04049232112382839\n",
            "LOSS: 19.940570105143223, Delta: 0.0390988170599158\n",
            "LOSS: 19.902796671280395, Delta: 0.03777343386282794\n",
            "LOSS: 19.8662855839347, Delta: 0.03651108734569419\n",
            "LOSS: 19.830978378549027, Delta: 0.03530720538567422\n",
            "LOSS: 19.79682071147381, Delta: 0.034157667075216835\n",
            "LOSS: 19.76376196163536, Delta: 0.033058749838449586\n",
            "LOSS: 19.731754878236778, Delta: 0.03200708339858238\n",
            "LOSS: 19.70075526857927, Delta: 0.030999609657506255\n",
            "LOSS: 19.67072172091627, Delta: 0.03003354766300248\n",
            "LOSS: 19.64161535793494, Delta: 0.029106362981330847\n",
            "LOSS: 19.613399617060654, Delta: 0.028215740874284023\n",
            "LOSS: 19.586040054294568, Delta: 0.027359562766086754\n",
            "LOSS: 19.559504168723, Delta: 0.02653588557156894\n",
            "LOSS: 19.533761245221665, Delta: 0.025742923501333337\n",
            "LOSS: 19.50878221320129, Delta: 0.02497903202037577\n",
            "LOSS: 19.484539519513287, Delta: 0.024242693688002248\n",
            "LOSS: 19.46100701388715, Delta: 0.023532505626135958\n",
            "LOSS: 19.43815984546443, Delta: 0.02284716842272161\n",
            "LOSS: 19.41597436918491, Delta: 0.022185476279521055\n",
            "LOSS: 19.39442806093179, Delta: 0.021546308253117985\n",
            "LOSS: 19.373499440474617, Delta: 0.020928620457173253\n",
            "LOSS: 19.35316800136999, Delta: 0.02033143910462698\n",
            "LOSS: 19.33341414707666, Delta: 0.019753854293330875\n",
            "LOSS: 19.314219132637337, Delta: 0.019195014439322478\n",
            "LOSS: 19.295565011343214, Delta: 0.018654121294122916\n",
            "LOSS: 19.27743458587995, Delta: 0.01813042546326571\n",
            "LOSS: 19.259811363500198, Delta: 0.01762322237975056\n",
            "LOSS: 19.242679514822996, Delta: 0.0171318486772023\n",
            "LOSS: 19.226023835906446, Delta: 0.016655678916549732\n",
            "LOSS: 19.209829713278868, Delta: 0.01619412262757791\n",
            "LOSS: 19.194083091644842, Delta: 0.01574662163402607\n",
            "LOSS: 19.17877044401719, Delta: 0.015312647627652609\n",
            "LOSS: 19.163878744051342, Delta: 0.014891699965847494\n",
            "LOSS: 19.14939544038059, Delta: 0.014483303670751013\n",
            "LOSS: 19.135308432771815, Delta: 0.014087007608775792\n",
            "LOSS: 19.121606049943946, Delta: 0.013702382827869286\n",
            "LOSS: 19.108277028900694, Delta: 0.013329021043251288\n",
            "LOSS: 19.095310495648935, Delta: 0.012966533251759671\n",
            "LOSS: 19.082695947186796, Delta: 0.012614548462138941\n",
            "LOSS: 19.070423234652186, Delta: 0.012272712534610264\n",
            "LOSS: 19.05848254753941, Delta: 0.011940687112776516\n",
            "LOSS: 19.046864398896087, Delta: 0.011618148643322002\n",
            "LOSS: 19.03555961142191, Delta: 0.011304787474177402\n",
            "LOSS: 19.02455930439723, Delta: 0.011000307024680467\n",
            "LOSS: 19.01385488138066, Delta: 0.01070442301656982\n",
            "LOSS: 19.003438018611863, Delta: 0.010416862768796165\n",
            "LOSS: 18.993300654070822, Delta: 0.010137364541041194\n",
            "LOSS: 18.983434977143478, Delta: 0.00986567692734397\n",
            "LOSS: 18.973833418845743, Delta: 0.009601558297735124\n",
            "LOSS: 18.96448864257431, Delta: 0.009344776271433375\n",
            "LOSS: 18.955393535335944, Delta: 0.00909510723836604\n",
            "LOSS: 18.94654119943274, Delta: 0.008852335903203112\n",
            "LOSS: 18.93792494456211, Delta: 0.008616254870631224\n",
            "LOSS: 18.929538280311917, Delta: 0.00838666425019241\n",
            "LOSS: 18.92137490901761, Delta: 0.008163371294305222\n",
            "LOSS: 18.9134287189632, Delta: 0.007946190054411773\n",
            "LOSS: 18.905693777898975, Delta: 0.007734941064224898\n",
            "LOSS: 18.89816432685947, Delta: 0.007529451039506085\n",
            "LOSS: 18.890834774261634, Delta: 0.007329552597834521\n",
            "LOSS: 18.883699690265573, Delta: 0.007135083996061553\n",
            "LOSS: 18.876753801381803, Delta: 0.006945888883770124\n",
            "LOSS: 18.869991985312232, Delta: 0.006761816069570159\n",
            "LOSS: 18.863409266008695, Delta: 0.006582719303537488\n",
            "LOSS: 18.857000808937862, Delta: 0.006408457070833151\n",
            "LOSS: 18.850761916541753, Delta: 0.006238892396108753\n",
            "LOSS: 18.844688023879332, Delta: 0.006073892662421088\n",
            "LOSS: 18.838774694445213, Delta: 0.005913329434118708\n",
            "LOSS: 18.833017616149103, Delta: 0.005757078296110052\n",
            "LOSS: 18.827412597453407, Delta: 0.005605018695696629\n",
            "LOSS: 18.821955563656974, Delta: 0.0054570337964321425\n",
            "LOSS: 18.816642553319404, Delta: 0.005313010337570034\n",
            "LOSS: 18.811469714816507, Delta: 0.005172838502897292\n",
            "LOSS: 18.80643330302543, Delta: 0.005036411791078166\n",
            "LOSS: 18.801529676126073, Delta: 0.004903626899356084\n",
            "LOSS: 18.796755292519954, Delta: 0.004774383606118704\n",
            "LOSS: 18.792106707855257, Delta: 0.004648584664696642\n",
            "LOSS: 18.787580572158937, Delta: 0.00452613569632021\n",
            "LOSS: 18.783173627064674, Delta: 0.004406945094263648\n",
            "LOSS: 18.778882703138645, Delta: 0.004290923926028256\n",
            "LOSS: 18.774704717293037, Delta: 0.004177985845608134\n",
            "LOSS: 18.77063667028847, Delta: 0.004068047004565756\n",
            "LOSS: 18.766675644317452, Delta: 0.003961025971019438\n",
            "LOSS: 18.76281880066867, Delta: 0.003856843648783581\n",
            "LOSS: 18.75906337746553, Delta: 0.003755423203138264\n",
            "LOSS: 18.755406687480892, Delta: 0.003656689984637751\n",
            "LOSS: 18.75184611601698, Delta: 0.0035605714639110886\n",
            "LOSS: 18.748379118857674, Delta: 0.003466997159307539\n",
            "LOSS: 18.745003220280964, Delta: 0.003375898576710057\n",
            "LOSS: 18.7417160111367, Delta: 0.0032872091442648355\n",
            "LOSS: 18.738515146981452, Delta: 0.0032008641552465633\n",
            "LOSS: 18.735398346273673, Delta: 0.0031168007077795323\n",
            "LOSS: 18.732363388621017, Delta: 0.003034957652655379\n",
            "LOSS: 18.729408113082734, Delta: 0.002955275538283786\n",
            "LOSS: 25.133279635517184, Delta: 25.133279635517184\n",
            "LOSS: 25.13192762784242, Delta: 0.0013520076747646215\n"
          ]
        }
      ],
      "source": [
        "preds, losses, n_iters, cpu_times = compare_models(\n",
        "    solvers,\n",
        "    X,\n",
        "    Y_delabeled,\n",
        "    iters_limit = 500,\n",
        "    delta_loss_limit = 0.003\n",
        ")\n",
        "\n",
        "accuracies = {name: accuracy_score(preds[name], Y) for name in solvers.keys()}"
      ]
    },
    {
      "cell_type": "code",
      "execution_count": null,
      "metadata": {
        "id": "07EmcJuSji8r",
        "outputId": "ab619fe8-de0a-43c4-ebb3-fc3c2283ea56"
      },
      "outputs": [
        {
          "data": {
            "image/png": "[encoded data removed]",
            "text/plain": [
              "<Figure size 432x288 with 1 Axes>"
            ]
          },
          "metadata": {
            "needs_background": "light"
          },
          "output_type": "display_data"
        }
      ],
      "source": [
        "def plot_curves(curves_dict, title, y_label):\n",
        "    _, ax = plt.subplots()\n",
        "\n",
        "    for _, curve_res in curves_dict.items():\n",
        "        ax.plot(\n",
        "            curve_res,\n",
        "            marker = 'o',\n",
        "            markerfacecolor = 'white'   \n",
        "        )\n",
        "    plt.legend(list(curves_dict.keys()))\n",
        "    plt.title(title)\n",
        "    plt.xlabel('Iteration')\n",
        "    plt.ylabel(y_label)\n",
        "    plt.grid()\n",
        "\n",
        "\n",
        "plot_curves(losses, 'Losses', y_label = 'Loss')"
      ]
    },
    {
      "cell_type": "code",
      "execution_count": null,
      "metadata": {
        "id": "yt6Q6b9Fji8s",
        "outputId": "3ace7412-bb14-47e2-86d5-278037ca574f"
      },
      "outputs": [
        {
          "data": {
            "image/png": "[encoded data removed]",
            "text/plain": [
              "<Figure size 432x288 with 1 Axes>"
            ]
          },
          "metadata": {
            "needs_background": "light"
          },
          "output_type": "display_data"
        }
      ],
      "source": [
        "def plot_bar_metrics(metrics_df):\n",
        "    ax = metrics_df.plot.bar(\n",
        "        rot = 0,\n",
        "        ylabel = 'Metrics results',\n",
        "        cmap = 'Paired'\n",
        "    )\n",
        "\n",
        "    ax.set_title('Models cpu time, iterations & performance', fontsize = 18)\n",
        "    ax.set_ylabel('Metrics scores', fontsize = 18)\n",
        "    ax.tick_params(axis = 'y', labelsize = 15)\n",
        "    ax.tick_params(axis = 'x', labelsize = 12)\n",
        "    ax.legend(loc = 3, prop = {'size': 13})\n",
        "    plt.grid()\n",
        "\n",
        "def normalize_cols(dataframe):\n",
        "    cols = dataframe.columns\n",
        "    for c in cols:\n",
        "        dataframe[c] = dataframe[c] / dataframe[c].max()\n",
        "    \n",
        "\n",
        "bar_metrics = pd.DataFrame.from_dict(cpu_times, orient='index', columns = ['CPU time'])\n",
        "bar_metrics['N iterations'] = n_iters.values()\n",
        "bar_metrics['Accuracies'] = accuracies.values()\n",
        "\n",
        "normalize_cols(bar_metrics)\n",
        "plot_bar_metrics(bar_metrics)"
      ]
    },
    {
      "cell_type": "markdown",
      "metadata": {
        "id": "U2In6I0eji8s"
      },
      "source": [
        "# Real dataset"
      ]
    },
    {
      "cell_type": "code",
      "execution_count": null,
      "metadata": {
        "id": "G_9uTw_Fji8s"
      },
      "outputs": [],
      "source": [
        "wine=datasets.load_wine()\n",
        "\n",
        "#Conver to pandas dataframe\n",
        "data=pd.DataFrame(data=np.c_[wine['data'],wine['target']],columns=wine['feature_names']+['target'])\n",
        "\n",
        "data = data.loc[\n",
        "    (data['target'] == 1) | (data['target'] == 0),\n",
        "    ['od280/od315_of_diluted_wines', 'alcohol', 'target']\n",
        "]"
      ]
    },
    {
      "cell_type": "code",
      "execution_count": null,
      "metadata": {
        "id": "D-DhernSji8s",
        "outputId": "8fbbe1b0-8df2-49b5-f551-757083347444"
      },
      "outputs": [
        {
          "data": {
            "image/png": "[encoded data removed]",
            "text/plain": [
              "<Figure size 432x288 with 1 Axes>"
            ]
          },
          "metadata": {
            "needs_background": "light"
          },
          "output_type": "display_data"
        }
      ],
      "source": [
        "X_real = data.loc[\n",
        "    :,\n",
        "    ['od280/od315_of_diluted_wines', 'alcohol']\n",
        "].values\n",
        "Y_real = data['target'].values\n",
        "\n",
        "plot_clusters(\n",
        "    X_real,\n",
        "    Y_real\n",
        ")"
      ]
    },
    {
      "cell_type": "code",
      "execution_count": null,
      "metadata": {
        "id": "Hh29gCjXji8s",
        "outputId": "9250c8c8-6c20-4886-eea2-f65f0d5b6aac"
      },
      "outputs": [
        {
          "name": "stdout",
          "output_type": "stream",
          "text": [
            "Found 59 instances of object 0.0\n",
            "We have to delabel 56 instances\n",
            "Found 71 instances of object 1.0\n",
            "We have to delabel 67 instances\n"
          ]
        }
      ],
      "source": [
        "Y_real_delabeled = delabel_data(\n",
        "    Y_real,\n",
        "    labeled_percent = DataProperties.labeled_percentage,\n",
        "    delabel_value = DataProperties.unlabeled\n",
        ")"
      ]
    },
    {
      "cell_type": "code",
      "execution_count": null,
      "metadata": {
        "id": "N3fd88g7ji8t",
        "outputId": "41a8e95d-899d-46d2-897d-e85b00379ca2"
      },
      "outputs": [
        {
          "data": {
            "image/png": "[encoded data removed]",
            "text/plain": [
              "<Figure size 432x288 with 1 Axes>"
            ]
          },
          "metadata": {
            "needs_background": "light"
          },
          "output_type": "display_data"
        }
      ],
      "source": [
        "plot_clusters(\n",
        "    X_real,\n",
        "    Y_real_delabeled\n",
        ")"
      ]
    },
    {
      "cell_type": "code",
      "execution_count": null,
      "metadata": {
        "id": "PLp4UwVRji8t",
        "outputId": "d5190841-982b-4260-ea77-b7198643d1a6"
      },
      "outputs": [
        {
          "name": "stdout",
          "output_type": "stream",
          "text": [
            "Loss: 323.8942029624401, delta loss: 323.8942029624401\n",
            "Loss: 316.74220353972663, delta loss: 7.151999422713459\n",
            "Loss: 313.4757742177543, delta loss: 3.266429321972339\n",
            "Loss: 311.76596488709237, delta loss: 1.7098093306619262\n",
            "Loss: 310.74374644924103, delta loss: 1.0222184378513361\n",
            "Loss: 310.0575456186789, delta loss: 0.686200830562143\n",
            "Loss: 309.55204096465934, delta loss: 0.5055046540195463\n",
            "Loss: 309.15228445531534, delta loss: 0.39975650934400164\n",
            "Loss: 308.81904661689146, delta loss: 0.33323783842388366\n",
            "Loss: 308.5303063189672, delta loss: 0.2887402979242779\n",
            "Loss: 308.2729710189335, delta loss: 0.2573353000336738\n",
            "Loss: 308.0388864758443, delta loss: 0.2340845430891818\n",
            "Loss: 307.8227771659063, delta loss: 0.21610930993801958\n",
            "Loss: 307.6211177640279, delta loss: 0.20165940187843034\n",
            "Loss: 307.43148312311644, delta loss: 0.18963464091143578\n",
            "Loss: 307.25215834838053, delta loss: 0.17932477473590325\n",
            "Loss: 307.0818971554001, delta loss: 0.1702611929804334\n",
            "Loss: 306.9197681791677, delta loss: 0.16212897623239542\n",
            "Loss: 306.7650551646549, delta loss: 0.15471301451282216\n",
            "Loss: 306.6171910461444, delta loss: 0.14786411851048342\n",
            "Loss: 306.4757138001923, delta loss: 0.1414772459521032\n",
            "Loss: 306.34023653299687, delta loss: 0.13547726719542652\n",
            "Loss: 306.2104270062463, delta loss: 0.12980952675059143\n",
            "Loss: 306.0859934948685, delta loss: 0.12443351137778791\n",
            "Loss: 305.9666749341086, delta loss: 0.11931856075989344\n",
            "Loss: 305.85223399592707, delta loss: 0.11444093818153078\n",
            "Loss: 305.7424521801217, delta loss: 0.10978181580537694\n",
            "Loss: 305.63712629950555, delta loss: 0.10532588061613524\n",
            "Loss: 305.53606593520504, delta loss: 0.10106036430050835\n",
            "Loss: 305.4390915704208, delta loss: 0.0969743647842165\n",
            "Loss: 305.3460332010566, delta loss: 0.09305836936420064\n",
            "Loss: 305.2567292835649, delta loss: 0.0893039174917476\n",
            "Loss: 305.17102592216634, delta loss: 0.08570336139854362\n",
            "Loss: 305.08877622749526, delta loss: 0.08224969467107712\n",
            "Loss: 305.0098397985465, delta loss: 0.07893642894873665\n",
            "Loss: 304.93408229441553, delta loss: 0.07575750413099058\n",
            "Loss: 304.8613750718692, delta loss: 0.07270722254634165\n",
            "Loss: 304.79159487190225, delta loss: 0.06978019996694229\n",
            "Loss: 304.72462354331003, delta loss: 0.0669713285922171\n",
            "Loss: 304.66034779462757, delta loss: 0.06427574868246211\n",
            "Loss: 304.59865896834566, delta loss: 0.06168882628190886\n",
            "Loss: 304.5394528328935, delta loss: 0.05920613545214337\n",
            "Loss: 304.48262938922267, delta loss: 0.05682344367085079\n",
            "Loss: 304.42809268953056, delta loss: 0.054536699692107504\n",
            "Loss: 304.3757506664307, delta loss: 0.05234202309986813\n",
            "Loss: 304.325514971267, delta loss: 0.05023569516367843\n",
            "Loss: 304.27730082048674, delta loss: 0.04821415078026803\n",
            "Loss: 304.23102684933656, delta loss: 0.04627397115018539\n",
            "Loss: 304.1866149722866, delta loss: 0.044411877049981285\n",
            "Loss: 304.14399024957726, delta loss: 0.04262472270931994\n",
            "Loss: 304.10308075966765, delta loss: 0.040909489909608965\n",
            "Loss: 304.0638174769689, delta loss: 0.03926328269875512\n",
            "Loss: 304.02613415483245, delta loss: 0.037683322136444986\n",
            "Loss: 303.98996721331997, delta loss: 0.03616694151247657\n",
            "Loss: 303.9552556316382, delta loss: 0.03471158168179045\n",
            "Loss: 303.9219408449523, delta loss: 0.03331478668587806\n",
            "Loss: 303.8899666454295, delta loss: 0.03197419952277869\n",
            "Loss: 303.85927908729377, delta loss: 0.03068755813575308\n",
            "Loss: 303.82982639570554, delta loss: 0.029452691588232938\n",
            "Loss: 303.80155887939435, delta loss: 0.028267516311188956\n",
            "Loss: 303.77442884673474, delta loss: 0.027130032659613335\n",
            "Loss: 303.7483905253006, delta loss: 0.026038321434157297\n",
            "Loss: 303.7233999845757, delta loss: 0.024990540724900256\n",
            "Loss: 303.6994150618382, delta loss: 0.023984922737497527\n",
            "Loss: 303.67639529102485, delta loss: 0.023019770813334617\n",
            "Loss: 303.65430183444494, delta loss: 0.022093456579909798\n",
            "Loss: 303.6330974172331, delta loss: 0.02120441721183397\n",
            "Loss: 303.61274626447937, delta loss: 0.020351152753733004\n",
            "Loss: 303.5932140408585, delta loss: 0.019532223620842615\n",
            "Loss: 303.5744677927075, delta loss: 0.01874624815104653\n",
            "Loss: 303.5564758924098, delta loss: 0.017991900297658958\n",
            "Loss: 303.5392079850548, delta loss: 0.01726790735500572\n",
            "Loss: 303.5226349372034, delta loss: 0.01657304785140923\n",
            "Loss: 303.50672878774805, delta loss: 0.015906149455361174\n",
            "Loss: 303.49146270074505, delta loss: 0.01526608700299903\n",
            "Loss: 303.4768109201153, delta loss: 0.014651780629719724\n",
            "Loss: 303.4627487262065, delta loss: 0.014062193908841891\n",
            "Loss: 303.44925239409093, delta loss: 0.013496332115551013\n",
            "Loss: 303.43629915352034, delta loss: 0.01295324057059588\n",
            "Loss: 303.4238671505295, delta loss: 0.012432002990863111\n",
            "Loss: 303.41193541054747, delta loss: 0.011931739982003364\n",
            "Loss: 303.4004838030262, delta loss: 0.011451607521280494\n",
            "Loss: 303.3894930074668, delta loss: 0.010990795559393973\n",
            "Loss: 303.3789444808138, delta loss: 0.01054852665299677\n",
            "Loss: 303.3688204262061, delta loss: 0.010124054607672406\n",
            "Loss: 303.3591037629131, delta loss: 0.00971666329303389\n",
            "Loss: 303.34977809752866, delta loss: 0.009325665384437798\n",
            "Loss: 303.34082769633665, delta loss: 0.00895040119200985\n",
            "Loss: 303.33223745870856, delta loss: 0.008590237628084196\n",
            "Loss: 303.3239928917014, delta loss: 0.008244567007182013\n",
            "Loss: 303.31608008554946, delta loss: 0.007912806151921359\n",
            "Loss: 303.30848569020617, delta loss: 0.0075943953432897615\n",
            "Loss: 303.30119689285783, delta loss: 0.007288797348337539\n",
            "Loss: 303.2942013962408, delta loss: 0.0069954966170371335\n",
            "Loss: 303.28748739796475, delta loss: 0.006713998276040911\n",
            "Loss: 303.28104357055815, delta loss: 0.006443827406599212\n",
            "Loss: 303.2748590423487, delta loss: 0.006184528209473683\n",
            "Loss: 303.268923379169, delta loss: 0.005935663179684525\n",
            "Loss: 303.2632265666986, delta loss: 0.005696812470375789\n",
            "Loss: 303.25775899359473, delta loss: 0.00546757310388557\n",
            "Loss: 303.25251143528425, delta loss: 0.005247558310486511\n",
            "Loss: 303.24747503838324, delta loss: 0.005036396901004991\n",
            "Loss: 303.2426413057805, delta loss: 0.004833732602719465\n",
            "Loss: 303.2380020822675, delta loss: 0.00463922351303836\n",
            "Loss: 303.2335495408176, delta loss: 0.004452541449893488\n",
            "Loss: 303.22927616934624, delta loss: 0.004273371471356313\n",
            "Loss: 303.22517475806995, delta loss: 0.004101411276280942\n",
            "Loss: 303.2212383873342, delta loss: 0.003936370735743822\n",
            "Loss: 303.21746041589466, delta loss: 0.0037779714395469455\n",
            "Loss: 303.2138344697915, delta loss: 0.003625946103170463\n",
            "Loss: 303.21035443152493, delta loss: 0.0034800382665594043\n",
            "Loss: 303.2070144297828, delta loss: 0.003340001742117238\n",
            "Loss: 303.2038088294891, delta loss: 0.003205600293711086\n",
            "Loss: 303.2007322223524, delta loss: 0.003076607136677012\n",
            "Loss: 303.1977794176984, delta loss: 0.002952804654000829\n"
          ]
        }
      ],
      "source": [
        "solver = GradientDescentSolver(\n",
        "    lr_strategy = 'lr_constant',\n",
        "    learning_rate = 0.001,\n",
        "    similarity_func = None\n",
        ")\n",
        "\n",
        "Y_real_preds = solver.solve(\n",
        "    X_real,\n",
        "    Y_real_delabeled,\n",
        "    iter_limit=500,\n",
        "    delta_loss_limit = 0.003\n",
        ")"
      ]
    },
    {
      "cell_type": "code",
      "execution_count": null,
      "metadata": {
        "id": "iAZAkvBqji8t",
        "outputId": "4280d4b7-f136-4234-d69f-cb530397d86b"
      },
      "outputs": [
        {
          "data": {
            "image/png": "[encoded data removed]",
            "text/plain": [
              "<Figure size 432x288 with 1 Axes>"
            ]
          },
          "metadata": {
            "needs_background": "light"
          },
          "output_type": "display_data"
        },
        {
          "data": {
            "image/png": "[encoded data removed]",
            "text/plain": [
              "<Figure size 432x288 with 1 Axes>"
            ]
          },
          "metadata": {
            "needs_background": "light"
          },
          "output_type": "display_data"
        }
      ],
      "source": [
        "plot_clusters(\n",
        "    X_real,\n",
        "    Y_real\n",
        ")\n",
        "plot_clusters(\n",
        "    X_real,\n",
        "    Y_real_preds\n",
        ")"
      ]
    }
  ],
  "metadata": {
    "colab": {
      "collapsed_sections": [],
      "name": "HW1.ipynb",
      "provenance": [],
      "toc_visible": true
    },
    "kernelspec": {
      "display_name": "Python 3",
      "name": "python3"
    },
    "language_info": {
      "codemirror_mode": {
        "name": "ipython",
        "version": 3
      },
      "file_extension": ".py",
      "mimetype": "text/x-python",
      "name": "python",
      "nbconvert_exporter": "python",
      "pygments_lexer": "ipython3",
      "version": "3.9.7"
    }
  },
  "nbformat": 4,
  "nbformat_minor": 0
}