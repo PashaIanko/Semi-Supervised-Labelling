{
  "cells": [
    {
      "cell_type": "markdown",
      "metadata": {
        "id": "SY5WztYNneGg"
      },
      "source": [
        "### MSc Computer Science, Data Science @UniPD\n",
        "### Optimization Methods for Data Science\n",
        "---"
      ]
    },
    {
      "cell_type": "markdown",
      "metadata": {
        "id": "dDnBuyzNnFxk"
      },
      "source": [
        "# Packages"
      ]
    },
    {
      "cell_type": "code",
      "execution_count": 1,
      "metadata": {
        "id": "VlSWeYY3nI05"
      },
      "outputs": [],
      "source": [
        "from os.path import isdir\n",
        "from os import mkdir\n",
        "\n",
        "env = 'colab'  # 'pc', 'colab'\n",
        "git_download_path = 'https://raw.githubusercontent.com/PashaIanko/Semi-Supervised-Labelling/master/'\n",
        "experiment = 'Exp5000Randomized/'\n",
        "\n",
        "save_dir = ''\n",
        "if env == 'pc':\n",
        "    save_dir = f'C:/Users/79137/Pasha/2. UNIPD/Semester 2/Optimization for Data Science/Homeworks/HW 1/Semi-Supervised-Labelling/'\n",
        "elif env == 'colab':\n",
        "    save_dir = f'/content/drive/MyDrive/UNIPD/ODS/HW1/'"
      ]
    },
    {
      "cell_type": "code",
      "execution_count": 2,
      "metadata": {
        "id": "7uuSxlZRjyxM"
      },
      "outputs": [],
      "source": [
        "%%capture\n",
        "\n",
        "def download_files(url_dict):\n",
        "    for file, url in url_dict.items():\n",
        "        !wget -O {file} {url} {file}\n",
        "\n",
        "if env == 'colab':\n",
        "    from google.colab import drive\n",
        "    drive.mount('/content/drive')\n",
        "\n",
        "    files = [\n",
        "           'BCGDSolver.py',\n",
        "           'DataProperties.py',\n",
        "           'GradientDescentSolver.py',\n",
        "           'GradientSolver.py',\n",
        "           'Utils.py'  \n",
        "    ]\n",
        "\n",
        "    url_dict = {file: git_download_path + file for file in files}\n",
        "    download_files(url_dict)"
      ]
    },
    {
      "cell_type": "markdown",
      "metadata": {
        "id": "3JJ6f60GqIsy"
      },
      "source": [
        "# Saving directory"
      ]
    },
    {
      "cell_type": "code",
      "execution_count": 3,
      "metadata": {
        "id": "Oc1A42KRqKjS"
      },
      "outputs": [],
      "source": [
        "full_dir = f'{save_dir}{experiment}'\n",
        "assert(isdir(save_dir))\n",
        "\n",
        "if not isdir(full_dir):\n",
        "    mkdir(full_dir)\n",
        "\n",
        "assert(isdir(full_dir))"
      ]
    },
    {
      "cell_type": "code",
      "execution_count": 4,
      "metadata": {
        "id": "2N9xcpuXji8g"
      },
      "outputs": [],
      "source": [
        "from sklearn.datasets import make_blobs\n",
        "import numpy as np\n",
        "\n",
        "from sklearn import datasets\n",
        "from sklearn.metrics import accuracy_score\n",
        "import pandas as pd\n",
        "import timeit\n",
        "\n",
        "# Plotting\n",
        "import matplotlib.pyplot as plt"
      ]
    },
    {
      "cell_type": "code",
      "execution_count": 5,
      "metadata": {
        "id": "_t8si-IGji8g"
      },
      "outputs": [],
      "source": [
        "import Utils\n",
        "import GradientSolver\n",
        "import GradientDescentSolver\n",
        "import DataProperties\n",
        "import BCGDSolver\n",
        "import importlib\n",
        "\n",
        "def reload_all(modules_list):\n",
        "    for module in modules_list:\n",
        "        importlib.reload(module)\n",
        "\n",
        "reload_all(\n",
        "    [\n",
        "        Utils,\n",
        "        GradientSolver,\n",
        "        GradientDescentSolver,\n",
        "        DataProperties,\n",
        "        BCGDSolver\n",
        "    ]\n",
        ")\n",
        "\n",
        "from Utils import *\n",
        "from GradientSolver import GradientSolver\n",
        "from GradientDescentSolver import GradientDescentSolver\n",
        "from DataProperties import DataProperties\n",
        "from BCGDSolver import BCGDSolver"
      ]
    },
    {
      "cell_type": "markdown",
      "metadata": {
        "id": "d_yGB-zWji8e"
      },
      "source": [
        "# Data preparation"
      ]
    },
    {
      "cell_type": "code",
      "execution_count": 6,
      "metadata": {
        "id": "fjGFGUL5ji8f"
      },
      "outputs": [],
      "source": [
        "# Fix states\n",
        "sklearn_random_state = 42\n",
        "numpy_seed = 42\n",
        "\n",
        "np.random.seed(numpy_seed)"
      ]
    },
    {
      "cell_type": "code",
      "execution_count": 7,
      "metadata": {
        "id": "ba7q6jrYji8h"
      },
      "outputs": [],
      "source": [
        "# %%timeit\n",
        "X, Y = make_blobs(\n",
        "    n_samples = DataProperties.n_samples,\n",
        "    centers = DataProperties.n_clusters,\n",
        "    n_features = DataProperties.n_dims,\n",
        "    random_state = sklearn_random_state,\n",
        "    cluster_std = 1.5\n",
        ")\n",
        "\n",
        "\n",
        "def euclidian_similarity(Xi, Xj):\n",
        "    return 1 / (norm(Xi - Xj) + 0.001)"
      ]
    },
    {
      "cell_type": "code",
      "execution_count": 8,
      "metadata": {
        "id": "A7_6tarABX1j"
      },
      "outputs": [],
      "source": [
        "# %%timeit\n",
        "\n",
        "# Old inefficient weights calculation\n",
        "# weights = calc_weight_matrix(X, weight_func = None)\n",
        "\n",
        "from sklearn.metrics import pairwise_distances\n",
        "\n",
        "weights = pairwise_distances(X, metric = 'euclidean')\n",
        "weights = 1 / (weights + 0.001)\n",
        "assert(weights.shape == (DataProperties.n_samples, DataProperties.n_samples))"
      ]
    },
    {
      "cell_type": "code",
      "execution_count": 9,
      "metadata": {
        "colab": {
          "base_uri": "https://localhost:8080/",
          "height": 282
        },
        "id": "thJDW2poBbiz",
        "outputId": "e91cb33c-cd78-4943-a26a-2bf1d3ee1711"
      },
      "outputs": [
        {
          "output_type": "stream",
          "name": "stdout",
          "text": [
            "Data shape: X: (5000, 2), Y: (5000,)\n"
          ]
        },
        {
          "output_type": "display_data",
          "data": {
            "text/plain": [
              "<Figure size 432x288 with 1 Axes>"
            ],
            "image/png": "[encoded data removed]"
          },
          "metadata": {
            "needs_background": "light"
          }
        }
      ],
      "source": [
        "Y = Y.astype('float64')\n",
        "clusters = np.unique(Y)\n",
        "\n",
        "print(f'Data shape: X: {X.shape}, Y: {Y.shape}')\n",
        "plot_clusters(X, Y)"
      ]
    },
    {
      "cell_type": "markdown",
      "metadata": {
        "id": "3euoJu6uji8i"
      },
      "source": [
        "## Unlabel subset and visualize"
      ]
    },
    {
      "cell_type": "code",
      "execution_count": 10,
      "metadata": {
        "colab": {
          "base_uri": "https://localhost:8080/",
          "height": 404
        },
        "id": "Q_Gd7FQhji8j",
        "outputId": "e118fe23-4174-4c22-c587-5778446b9774"
      },
      "outputs": [
        {
          "output_type": "stream",
          "name": "stdout",
          "text": [
            "Found 2500 instances of object 0.0\n",
            "We have to delabel 2375 instances\n",
            "Found 2500 instances of object 1.0\n",
            "We have to delabel 2375 instances\n",
            "\n",
            "    We have 4750 unlabeled data\n",
            "    Out of 5000\n",
            "    \n"
          ]
        },
        {
          "output_type": "display_data",
          "data": {
            "text/plain": [
              "<Figure size 432x288 with 1 Axes>"
            ],
            "image/png": "[encoded data removed]"
          },
          "metadata": {
            "needs_background": "light"
          }
        }
      ],
      "source": [
        "Y_delabeled = delabel_data(\n",
        "    Y,\n",
        "    labeled_percent = DataProperties.labeled_percentage,\n",
        "    delabel_value = DataProperties.unlabeled\n",
        ")\n",
        "\n",
        "print(\n",
        "    f'''\n",
        "    We have {len(Y_delabeled[Y_delabeled == DataProperties.unlabeled])} unlabeled data\n",
        "    Out of {len(Y_delabeled)}\n",
        "    '''\n",
        ")\n",
        "\n",
        "plot_clusters(X, Y_delabeled)"
      ]
    },
    {
      "cell_type": "markdown",
      "metadata": {
        "id": "kXobOU1Oji8j"
      },
      "source": [
        "- Up to now, we have the clustered data, saved correct labelling (Y) and delabelled data (Y_delabelled)\n",
        "- For the unlabelled y variables, the loss function depends on the (y_1, ..., y_U) unlabeled parameters. Each of the\n",
        "parameters is independent on others, and can be 0 or 1 (for **binary clustering problem**). This is why we will be searching\n",
        "for **optimal solution in the R^(U)** space, which yields minimum to the **loss function**"
      ]
    },
    {
      "cell_type": "code",
      "execution_count": 11,
      "metadata": {
        "colab": {
          "base_uri": "https://localhost:8080/"
        },
        "id": "8bywWUfPji8k",
        "outputId": "93596f8d-dd34-40b9-ba3b-49d1a1d73e68"
      },
      "outputs": [
        {
          "output_type": "stream",
          "name": "stdout",
          "text": [
            "Counter({-1000000.0: 4750, 1.0: 125, 0.0: 125})\n"
          ]
        }
      ],
      "source": [
        "import collections\n",
        "class_stats = collections.Counter(Y_delabeled)\n",
        "assert(len(class_stats.keys()) == 3)  # 2 labeled classes and 1 unlabeled\n",
        "print(class_stats)"
      ]
    },
    {
      "cell_type": "markdown",
      "metadata": {
        "id": "a8p9YRMLnWHy"
      },
      "source": [
        "# Gradient descent"
      ]
    },
    {
      "cell_type": "code",
      "execution_count": null,
      "metadata": {
        "id": "hYtCWDXkji8k"
      },
      "outputs": [],
      "source": [
        "solver = GradientDescentSolver(\n",
        "    similarity_func = None, # euclidian_similarity,\n",
        "    lr_strategy = 'lr_constant',  # search for alpha_k\n",
        "    learning_rate = 0.0001\n",
        ")"
      ]
    },
    {
      "cell_type": "code",
      "execution_count": null,
      "metadata": {
        "colab": {
          "base_uri": "https://localhost:8080/",
          "height": 449
        },
        "id": "wVOCEkE4iHif",
        "outputId": "fead8a01-aa7d-4e4e-f37e-2b0ab10dfa36"
      },
      "outputs": [
        {
          "output_type": "stream",
          "name": "stdout",
          "text": [
            "Iteration: 0, Loss: 102822.87984855211, delta loss: 102822.87984855211\n",
            "Iteration: 1, Loss: 100919.57359918414, delta loss: -1903.3062493679754\n",
            "Iteration: 2, Loss: 99477.47817240715, delta loss: -1442.0954267769848\n",
            "Iteration: 3, Loss: 98371.39359619911, delta loss: -1106.0845762080426\n"
          ]
        },
        {
          "output_type": "error",
          "ename": "KeyboardInterrupt",
          "evalue": "ignored",
          "traceback": [
            "\u001b[0;31m---------------------------------------------------------------------------\u001b[0m",
            "\u001b[0;31mKeyboardInterrupt\u001b[0m                         Traceback (most recent call last)",
            "\u001b[0;32m<ipython-input-14-396afff0c172>\u001b[0m in \u001b[0;36m<module>\u001b[0;34m()\u001b[0m\n\u001b[1;32m      7\u001b[0m     \u001b[0mdelta_loss_limit\u001b[0m \u001b[0;34m=\u001b[0m \u001b[0;36m0.0\u001b[0m\u001b[0;34m,\u001b[0m \u001b[0;31m# dont use\u001b[0m\u001b[0;34m\u001b[0m\u001b[0;34m\u001b[0m\u001b[0m\n\u001b[1;32m      8\u001b[0m     \u001b[0mstop_loss\u001b[0m \u001b[0;34m=\u001b[0m \u001b[0;36m0.0\u001b[0m\u001b[0;34m,\u001b[0m  \u001b[0;31m# dont use\u001b[0m\u001b[0;34m\u001b[0m\u001b[0;34m\u001b[0m\u001b[0m\n\u001b[0;32m----> 9\u001b[0;31m     \u001b[0mweight_matrix\u001b[0m \u001b[0;34m=\u001b[0m \u001b[0mweights\u001b[0m\u001b[0;34m\u001b[0m\u001b[0;34m\u001b[0m\u001b[0m\n\u001b[0m\u001b[1;32m     10\u001b[0m )\n",
            "\u001b[0;32m/content/GradientDescentSolver.py\u001b[0m in \u001b[0;36msolve\u001b[0;34m(self, X, Y, Y_true, iter_limit, delta_percent_limit, delta_loss_limit, stop_loss, weight_matrix)\u001b[0m\n\u001b[1;32m     57\u001b[0m \u001b[0;34m\u001b[0m\u001b[0m\n\u001b[1;32m     58\u001b[0m             \u001b[0;32mif\u001b[0m \u001b[0;32mnot\u001b[0m \u001b[0;34m(\u001b[0m\u001b[0mabs\u001b[0m\u001b[0;34m(\u001b[0m\u001b[0mdelta_loss\u001b[0m\u001b[0;34m)\u001b[0m \u001b[0;34m<\u001b[0m \u001b[0mdelta_loss_limit\u001b[0m\u001b[0;34m)\u001b[0m\u001b[0;34m:\u001b[0m\u001b[0;34m\u001b[0m\u001b[0;34m\u001b[0m\u001b[0m\n\u001b[0;32m---> 59\u001b[0;31m                 \u001b[0mupdates\u001b[0m \u001b[0;34m=\u001b[0m \u001b[0;34m-\u001b[0m\u001b[0mlearning_rate\u001b[0m \u001b[0;34m*\u001b[0m \u001b[0mself\u001b[0m\u001b[0;34m.\u001b[0m\u001b[0mcompute_grad\u001b[0m\u001b[0;34m(\u001b[0m\u001b[0mX\u001b[0m\u001b[0;34m,\u001b[0m \u001b[0mY_res\u001b[0m\u001b[0;34m,\u001b[0m \u001b[0mlabeled_idxs\u001b[0m\u001b[0;34m,\u001b[0m \u001b[0munlabeled_idxs\u001b[0m\u001b[0;34m)\u001b[0m\u001b[0;34m\u001b[0m\u001b[0;34m\u001b[0m\u001b[0m\n\u001b[0m\u001b[1;32m     60\u001b[0m                 \u001b[0;32mfor\u001b[0m \u001b[0mi\u001b[0m \u001b[0;32min\u001b[0m \u001b[0mrange\u001b[0m\u001b[0;34m(\u001b[0m\u001b[0mlen\u001b[0m\u001b[0;34m(\u001b[0m\u001b[0mupdates\u001b[0m\u001b[0;34m)\u001b[0m\u001b[0;34m)\u001b[0m\u001b[0;34m:\u001b[0m \u001b[0mY_res\u001b[0m\u001b[0;34m[\u001b[0m\u001b[0munlabeled_idxs\u001b[0m\u001b[0;34m[\u001b[0m\u001b[0mi\u001b[0m\u001b[0;34m]\u001b[0m\u001b[0;34m]\u001b[0m \u001b[0;34m+=\u001b[0m \u001b[0mupdates\u001b[0m\u001b[0;34m[\u001b[0m\u001b[0mi\u001b[0m\u001b[0;34m]\u001b[0m\u001b[0;34m\u001b[0m\u001b[0;34m\u001b[0m\u001b[0m\n\u001b[1;32m     61\u001b[0m \u001b[0;34m\u001b[0m\u001b[0m\n",
            "\u001b[0;32m/content/GradientSolver.py\u001b[0m in \u001b[0;36mcompute_grad\u001b[0;34m(self, X, Y, labeled_idxs, unlabeled_idxs)\u001b[0m\n\u001b[1;32m     60\u001b[0m \u001b[0;34m\u001b[0m\u001b[0m\n\u001b[1;32m     61\u001b[0m     \u001b[0;32mdef\u001b[0m \u001b[0mcompute_grad\u001b[0m\u001b[0;34m(\u001b[0m\u001b[0mself\u001b[0m\u001b[0;34m,\u001b[0m \u001b[0mX\u001b[0m\u001b[0;34m,\u001b[0m \u001b[0mY\u001b[0m\u001b[0;34m,\u001b[0m \u001b[0mlabeled_idxs\u001b[0m\u001b[0;34m,\u001b[0m \u001b[0munlabeled_idxs\u001b[0m\u001b[0;34m)\u001b[0m\u001b[0;34m:\u001b[0m\u001b[0;34m\u001b[0m\u001b[0;34m\u001b[0m\u001b[0m\n\u001b[0;32m---> 62\u001b[0;31m         \u001b[0;32mreturn\u001b[0m \u001b[0marray\u001b[0m\u001b[0;34m(\u001b[0m\u001b[0;34m[\u001b[0m\u001b[0mself\u001b[0m\u001b[0;34m.\u001b[0m\u001b[0mcompute_grad_component\u001b[0m\u001b[0;34m(\u001b[0m\u001b[0mX\u001b[0m\u001b[0;34m,\u001b[0m \u001b[0mY\u001b[0m\u001b[0;34m,\u001b[0m \u001b[0mlabeled_idxs\u001b[0m\u001b[0;34m,\u001b[0m \u001b[0munlabeled_idxs\u001b[0m\u001b[0;34m,\u001b[0m \u001b[0midx\u001b[0m\u001b[0;34m=\u001b[0m\u001b[0munlabeled_idx\u001b[0m\u001b[0;34m)\u001b[0m \u001b[0;32mfor\u001b[0m \u001b[0munlabeled_idx\u001b[0m \u001b[0;32min\u001b[0m \u001b[0munlabeled_idxs\u001b[0m\u001b[0;34m]\u001b[0m\u001b[0;34m)\u001b[0m\u001b[0;34m\u001b[0m\u001b[0;34m\u001b[0m\u001b[0m\n\u001b[0m\u001b[1;32m     63\u001b[0m \u001b[0;34m\u001b[0m\u001b[0m\n\u001b[1;32m     64\u001b[0m         \u001b[0;31m# grad = []\u001b[0m\u001b[0;34m\u001b[0m\u001b[0;34m\u001b[0m\u001b[0;34m\u001b[0m\u001b[0m\n",
            "\u001b[0;32m/content/GradientSolver.py\u001b[0m in \u001b[0;36m<listcomp>\u001b[0;34m(.0)\u001b[0m\n\u001b[1;32m     60\u001b[0m \u001b[0;34m\u001b[0m\u001b[0m\n\u001b[1;32m     61\u001b[0m     \u001b[0;32mdef\u001b[0m \u001b[0mcompute_grad\u001b[0m\u001b[0;34m(\u001b[0m\u001b[0mself\u001b[0m\u001b[0;34m,\u001b[0m \u001b[0mX\u001b[0m\u001b[0;34m,\u001b[0m \u001b[0mY\u001b[0m\u001b[0;34m,\u001b[0m \u001b[0mlabeled_idxs\u001b[0m\u001b[0;34m,\u001b[0m \u001b[0munlabeled_idxs\u001b[0m\u001b[0;34m)\u001b[0m\u001b[0;34m:\u001b[0m\u001b[0;34m\u001b[0m\u001b[0;34m\u001b[0m\u001b[0m\n\u001b[0;32m---> 62\u001b[0;31m         \u001b[0;32mreturn\u001b[0m \u001b[0marray\u001b[0m\u001b[0;34m(\u001b[0m\u001b[0;34m[\u001b[0m\u001b[0mself\u001b[0m\u001b[0;34m.\u001b[0m\u001b[0mcompute_grad_component\u001b[0m\u001b[0;34m(\u001b[0m\u001b[0mX\u001b[0m\u001b[0;34m,\u001b[0m \u001b[0mY\u001b[0m\u001b[0;34m,\u001b[0m \u001b[0mlabeled_idxs\u001b[0m\u001b[0;34m,\u001b[0m \u001b[0munlabeled_idxs\u001b[0m\u001b[0;34m,\u001b[0m \u001b[0midx\u001b[0m\u001b[0;34m=\u001b[0m\u001b[0munlabeled_idx\u001b[0m\u001b[0;34m)\u001b[0m \u001b[0;32mfor\u001b[0m \u001b[0munlabeled_idx\u001b[0m \u001b[0;32min\u001b[0m \u001b[0munlabeled_idxs\u001b[0m\u001b[0;34m]\u001b[0m\u001b[0;34m)\u001b[0m\u001b[0;34m\u001b[0m\u001b[0;34m\u001b[0m\u001b[0m\n\u001b[0m\u001b[1;32m     63\u001b[0m \u001b[0;34m\u001b[0m\u001b[0m\n\u001b[1;32m     64\u001b[0m         \u001b[0;31m# grad = []\u001b[0m\u001b[0;34m\u001b[0m\u001b[0;34m\u001b[0m\u001b[0;34m\u001b[0m\u001b[0m\n",
            "\u001b[0;32m/content/GradientSolver.py\u001b[0m in \u001b[0;36mcompute_grad_component\u001b[0;34m(self, X, Y, labeled_idxs, unlabeled_idxs, idx)\u001b[0m\n\u001b[1;32m     49\u001b[0m \u001b[0;34m\u001b[0m\u001b[0m\n\u001b[1;32m     50\u001b[0m     \u001b[0;32mdef\u001b[0m \u001b[0mcompute_grad_component\u001b[0m\u001b[0;34m(\u001b[0m\u001b[0mself\u001b[0m\u001b[0;34m,\u001b[0m \u001b[0mX\u001b[0m\u001b[0;34m,\u001b[0m \u001b[0mY\u001b[0m\u001b[0;34m,\u001b[0m \u001b[0mlabeled_idxs\u001b[0m\u001b[0;34m,\u001b[0m \u001b[0munlabeled_idxs\u001b[0m\u001b[0;34m,\u001b[0m \u001b[0midx\u001b[0m\u001b[0;34m)\u001b[0m\u001b[0;34m:\u001b[0m\u001b[0;34m\u001b[0m\u001b[0;34m\u001b[0m\u001b[0m\n\u001b[0;32m---> 51\u001b[0;31m         \u001b[0;32mreturn\u001b[0m \u001b[0msum\u001b[0m\u001b[0;34m(\u001b[0m\u001b[0;34m[\u001b[0m\u001b[0;36m2\u001b[0m \u001b[0;34m*\u001b[0m \u001b[0mself\u001b[0m\u001b[0;34m.\u001b[0m\u001b[0mcalc_weight\u001b[0m\u001b[0;34m(\u001b[0m\u001b[0midx\u001b[0m\u001b[0;34m,\u001b[0m \u001b[0mlabeled_idx\u001b[0m\u001b[0;34m)\u001b[0m \u001b[0;34m*\u001b[0m \u001b[0;34m(\u001b[0m\u001b[0mY\u001b[0m\u001b[0;34m[\u001b[0m\u001b[0midx\u001b[0m\u001b[0;34m]\u001b[0m \u001b[0;34m-\u001b[0m \u001b[0mY\u001b[0m\u001b[0;34m[\u001b[0m\u001b[0mlabeled_idx\u001b[0m\u001b[0;34m]\u001b[0m\u001b[0;34m)\u001b[0m \u001b[0;32mfor\u001b[0m \u001b[0mlabeled_idx\u001b[0m \u001b[0;32min\u001b[0m \u001b[0mlabeled_idxs\u001b[0m\u001b[0;34m]\u001b[0m\u001b[0;34m)\u001b[0m \u001b[0;34m+\u001b[0m \u001b[0msum\u001b[0m\u001b[0;34m(\u001b[0m\u001b[0;34m[\u001b[0m\u001b[0;36m2\u001b[0m \u001b[0;34m*\u001b[0m \u001b[0mself\u001b[0m\u001b[0;34m.\u001b[0m\u001b[0mcalc_weight\u001b[0m\u001b[0;34m(\u001b[0m\u001b[0midx\u001b[0m\u001b[0;34m,\u001b[0m \u001b[0manother_unlab_idx\u001b[0m\u001b[0;34m)\u001b[0m \u001b[0;34m*\u001b[0m \u001b[0;34m(\u001b[0m\u001b[0mY\u001b[0m\u001b[0;34m[\u001b[0m\u001b[0midx\u001b[0m\u001b[0;34m]\u001b[0m \u001b[0;34m-\u001b[0m \u001b[0mY\u001b[0m\u001b[0;34m[\u001b[0m\u001b[0manother_unlab_idx\u001b[0m\u001b[0;34m]\u001b[0m\u001b[0;34m)\u001b[0m \u001b[0;32mfor\u001b[0m \u001b[0manother_unlab_idx\u001b[0m \u001b[0;32min\u001b[0m \u001b[0munlabeled_idxs\u001b[0m\u001b[0;34m]\u001b[0m\u001b[0;34m)\u001b[0m\u001b[0;34m\u001b[0m\u001b[0;34m\u001b[0m\u001b[0m\n\u001b[0m\u001b[1;32m     52\u001b[0m         \u001b[0;31m# grad_component = 0.0\u001b[0m\u001b[0;34m\u001b[0m\u001b[0;34m\u001b[0m\u001b[0;34m\u001b[0m\u001b[0m\n\u001b[1;32m     53\u001b[0m         \u001b[0;31m# comp_1 = np.sum([2 * self.calc_weight(X[idx], X[labeled_idx]) * (Y[idx] - Y[labeled_idx]) for labeled_idx in labeled_idxs])\u001b[0m\u001b[0;34m\u001b[0m\u001b[0;34m\u001b[0m\u001b[0;34m\u001b[0m\u001b[0m\n",
            "\u001b[0;32m/content/GradientSolver.py\u001b[0m in \u001b[0;36m<listcomp>\u001b[0;34m(.0)\u001b[0m\n\u001b[1;32m     49\u001b[0m \u001b[0;34m\u001b[0m\u001b[0m\n\u001b[1;32m     50\u001b[0m     \u001b[0;32mdef\u001b[0m \u001b[0mcompute_grad_component\u001b[0m\u001b[0;34m(\u001b[0m\u001b[0mself\u001b[0m\u001b[0;34m,\u001b[0m \u001b[0mX\u001b[0m\u001b[0;34m,\u001b[0m \u001b[0mY\u001b[0m\u001b[0;34m,\u001b[0m \u001b[0mlabeled_idxs\u001b[0m\u001b[0;34m,\u001b[0m \u001b[0munlabeled_idxs\u001b[0m\u001b[0;34m,\u001b[0m \u001b[0midx\u001b[0m\u001b[0;34m)\u001b[0m\u001b[0;34m:\u001b[0m\u001b[0;34m\u001b[0m\u001b[0;34m\u001b[0m\u001b[0m\n\u001b[0;32m---> 51\u001b[0;31m         \u001b[0;32mreturn\u001b[0m \u001b[0msum\u001b[0m\u001b[0;34m(\u001b[0m\u001b[0;34m[\u001b[0m\u001b[0;36m2\u001b[0m \u001b[0;34m*\u001b[0m \u001b[0mself\u001b[0m\u001b[0;34m.\u001b[0m\u001b[0mcalc_weight\u001b[0m\u001b[0;34m(\u001b[0m\u001b[0midx\u001b[0m\u001b[0;34m,\u001b[0m \u001b[0mlabeled_idx\u001b[0m\u001b[0;34m)\u001b[0m \u001b[0;34m*\u001b[0m \u001b[0;34m(\u001b[0m\u001b[0mY\u001b[0m\u001b[0;34m[\u001b[0m\u001b[0midx\u001b[0m\u001b[0;34m]\u001b[0m \u001b[0;34m-\u001b[0m \u001b[0mY\u001b[0m\u001b[0;34m[\u001b[0m\u001b[0mlabeled_idx\u001b[0m\u001b[0;34m]\u001b[0m\u001b[0;34m)\u001b[0m \u001b[0;32mfor\u001b[0m \u001b[0mlabeled_idx\u001b[0m \u001b[0;32min\u001b[0m \u001b[0mlabeled_idxs\u001b[0m\u001b[0;34m]\u001b[0m\u001b[0;34m)\u001b[0m \u001b[0;34m+\u001b[0m \u001b[0msum\u001b[0m\u001b[0;34m(\u001b[0m\u001b[0;34m[\u001b[0m\u001b[0;36m2\u001b[0m \u001b[0;34m*\u001b[0m \u001b[0mself\u001b[0m\u001b[0;34m.\u001b[0m\u001b[0mcalc_weight\u001b[0m\u001b[0;34m(\u001b[0m\u001b[0midx\u001b[0m\u001b[0;34m,\u001b[0m \u001b[0manother_unlab_idx\u001b[0m\u001b[0;34m)\u001b[0m \u001b[0;34m*\u001b[0m \u001b[0;34m(\u001b[0m\u001b[0mY\u001b[0m\u001b[0;34m[\u001b[0m\u001b[0midx\u001b[0m\u001b[0;34m]\u001b[0m \u001b[0;34m-\u001b[0m \u001b[0mY\u001b[0m\u001b[0;34m[\u001b[0m\u001b[0manother_unlab_idx\u001b[0m\u001b[0;34m]\u001b[0m\u001b[0;34m)\u001b[0m \u001b[0;32mfor\u001b[0m \u001b[0manother_unlab_idx\u001b[0m \u001b[0;32min\u001b[0m \u001b[0munlabeled_idxs\u001b[0m\u001b[0;34m]\u001b[0m\u001b[0;34m)\u001b[0m\u001b[0;34m\u001b[0m\u001b[0;34m\u001b[0m\u001b[0m\n\u001b[0m\u001b[1;32m     52\u001b[0m         \u001b[0;31m# grad_component = 0.0\u001b[0m\u001b[0;34m\u001b[0m\u001b[0;34m\u001b[0m\u001b[0;34m\u001b[0m\u001b[0m\n\u001b[1;32m     53\u001b[0m         \u001b[0;31m# comp_1 = np.sum([2 * self.calc_weight(X[idx], X[labeled_idx]) * (Y[idx] - Y[labeled_idx]) for labeled_idx in labeled_idxs])\u001b[0m\u001b[0;34m\u001b[0m\u001b[0;34m\u001b[0m\u001b[0;34m\u001b[0m\u001b[0m\n",
            "\u001b[0;31mKeyboardInterrupt\u001b[0m: "
          ]
        }
      ],
      "source": [
        "Y_preds_GD = solver.solve(\n",
        "    X, \n",
        "    Y_delabeled,\n",
        "    Y_true = Y,\n",
        "    iter_limit = 30,\n",
        "    delta_percent_limit = 0.1,  # when dLoss / dLoss prev < 0.02\n",
        "    delta_loss_limit = 0.0, # dont use\n",
        "    stop_loss = 0.0,  # dont use\n",
        "    weight_matrix = weights\n",
        ")"
      ]
    },
    {
      "cell_type": "code",
      "execution_count": null,
      "metadata": {
        "colab": {
          "base_uri": "https://localhost:8080/",
          "height": 530
        },
        "id": "RNwF4Xw1ji8l",
        "outputId": "923231b9-aafb-499e-fd47-d66ee285e288"
      },
      "outputs": [
        {
          "name": "stdout",
          "output_type": "stream",
          "text": [
            "Accuracy: 1.0\n"
          ]
        },
        {
          "data": {
            "image/png": "[encoded data removed]",
            "text/plain": [
              "<Figure size 432x288 with 1 Axes>"
            ]
          },
          "metadata": {
            "needs_background": "light"
          },
          "output_type": "display_data"
        },
        {
          "data": {
            "image/png": "[encoded data removed]",
            "text/plain": [
              "<Figure size 432x288 with 1 Axes>"
            ]
          },
          "metadata": {
            "needs_background": "light"
          },
          "output_type": "display_data"
        }
      ],
      "source": [
        "plot_clusters(X, Y)\n",
        "plot_clusters(X, Y_preds_GD)\n",
        "print(f'Accuracy: {accuracy_score(Y, Y_preds_GD)}')"
      ]
    },
    {
      "cell_type": "code",
      "execution_count": null,
      "metadata": {
        "colab": {
          "base_uri": "https://localhost:8080/",
          "height": 266
        },
        "id": "kkBkvHBUji8m",
        "outputId": "bcf18ed1-c891-4fe5-924b-4963387f701e"
      },
      "outputs": [
        {
          "data": {
            "image/png": "[encoded data removed]",
            "text/plain": [
              "<Figure size 432x288 with 1 Axes>"
            ]
          },
          "metadata": {
            "needs_background": "light"
          },
          "output_type": "display_data"
        }
      ],
      "source": [
        "plt.plot(solver.losses, marker = 'o')\n",
        "plt.grid()"
      ]
    },
    {
      "cell_type": "code",
      "execution_count": null,
      "metadata": {
        "colab": {
          "base_uri": "https://localhost:8080/",
          "height": 269
        },
        "id": "YJIpRlPkD3DG",
        "outputId": "33982172-995c-4614-a2c8-154ffdd75172"
      },
      "outputs": [
        {
          "data": {
            "image/png": "[encoded data removed]",
            "text/plain": [
              "<Figure size 432x288 with 1 Axes>"
            ]
          },
          "metadata": {
            "needs_background": "light"
          },
          "output_type": "display_data"
        }
      ],
      "source": [
        "plt.plot(solver.accuracies, marker = 'o')\n",
        "plt.ylim([0, 1])\n",
        "plt.grid()"
      ]
    },
    {
      "cell_type": "markdown",
      "metadata": {
        "id": "GP5tfHQAji8m"
      },
      "source": [
        "# Block coordinates gradient descent (randomized)"
      ]
    },
    {
      "cell_type": "markdown",
      "metadata": {
        "id": "cCyQ8hkUji8m"
      },
      "source": [
        "## BCGD random permutations"
      ]
    },
    {
      "cell_type": "code",
      "execution_count": null,
      "metadata": {
        "id": "4-b49qQUji8n"
      },
      "outputs": [],
      "source": [
        "random_solver = BCGDSolver(\n",
        "    lr_strategy = 'lr_constant',\n",
        "    learning_rate = 0.0001,\n",
        "    similarity_func = None,\n",
        "\n",
        "    bcgd_strategy = 'random permutation',\n",
        ")"
      ]
    },
    {
      "cell_type": "code",
      "execution_count": null,
      "metadata": {
        "colab": {
          "base_uri": "https://localhost:8080/",
          "height": 554
        },
        "id": "DcYrVUNwji8n",
        "outputId": "a54613a1-a3a2-47ce-a74f-3175c3afc457"
      },
      "outputs": [
        {
          "output_type": "stream",
          "name": "stdout",
          "text": [
            "Iteration: 0, Loss: 102822.87984855211, Delta: 102822.87984855211\n",
            "Iteration: 1, Loss: 100677.53041786962, Delta: 2145.349430682487\n",
            "Iteration: 2, Loss: 99115.62048110875, Delta: 1561.9099367608724\n",
            "Iteration: 3, Loss: 97962.79580855397, Delta: 1152.8246725547797\n",
            "Iteration: 4, Loss: 97103.77145155089, Delta: 859.0243570030871\n",
            "Iteration: 5, Loss: 96459.35666391515, Delta: 644.414787635731\n",
            "Iteration: 6, Loss: 95973.50432485607, Delta: 485.85233905908535\n",
            "Iteration: 7, Loss: 95605.88972872205, Delta: 367.6145961340226\n"
          ]
        },
        {
          "output_type": "error",
          "ename": "KeyboardInterrupt",
          "evalue": "ignored",
          "traceback": [
            "\u001b[0;31m---------------------------------------------------------------------------\u001b[0m",
            "\u001b[0;31mKeyboardInterrupt\u001b[0m                         Traceback (most recent call last)",
            "\u001b[0;32m<ipython-input-16-d4525e0d9e79>\u001b[0m in \u001b[0;36m<module>\u001b[0;34m()\u001b[0m\n\u001b[1;32m      7\u001b[0m     \u001b[0mdelta_loss_limit\u001b[0m \u001b[0;34m=\u001b[0m \u001b[0;36m0.0\u001b[0m\u001b[0;34m,\u001b[0m\u001b[0;34m\u001b[0m\u001b[0;34m\u001b[0m\u001b[0m\n\u001b[1;32m      8\u001b[0m     \u001b[0mstop_loss\u001b[0m\u001b[0;34m=\u001b[0m \u001b[0;36m0.0\u001b[0m\u001b[0;34m,\u001b[0m\u001b[0;34m\u001b[0m\u001b[0;34m\u001b[0m\u001b[0m\n\u001b[0;32m----> 9\u001b[0;31m     \u001b[0mweight_matrix\u001b[0m \u001b[0;34m=\u001b[0m \u001b[0mweights\u001b[0m\u001b[0;34m\u001b[0m\u001b[0;34m\u001b[0m\u001b[0m\n\u001b[0m\u001b[1;32m     10\u001b[0m )\n",
            "\u001b[0;32m/content/BCGDSolver.py\u001b[0m in \u001b[0;36msolve\u001b[0;34m(self, X, Y, Y_true, iter_limit, delta_percent_limit, delta_loss_limit, stop_loss, weight_matrix)\u001b[0m\n\u001b[1;32m    120\u001b[0m             \u001b[0;32mfor\u001b[0m \u001b[0mi\u001b[0m \u001b[0;32min\u001b[0m \u001b[0mrange\u001b[0m\u001b[0;34m(\u001b[0m\u001b[0miter_limit\u001b[0m\u001b[0;34m)\u001b[0m\u001b[0;34m:\u001b[0m\u001b[0;34m\u001b[0m\u001b[0;34m\u001b[0m\u001b[0m\n\u001b[1;32m    121\u001b[0m                 \u001b[0mself\u001b[0m\u001b[0;34m.\u001b[0m\u001b[0mupdate_accuracy\u001b[0m\u001b[0;34m(\u001b[0m\u001b[0mY_true\u001b[0m\u001b[0;34m,\u001b[0m \u001b[0mY_res\u001b[0m\u001b[0;34m)\u001b[0m\u001b[0;34m\u001b[0m\u001b[0;34m\u001b[0m\u001b[0m\n\u001b[0;32m--> 122\u001b[0;31m                 \u001b[0mloss\u001b[0m \u001b[0;34m=\u001b[0m \u001b[0mself\u001b[0m\u001b[0;34m.\u001b[0m\u001b[0mcompute_loss\u001b[0m\u001b[0;34m(\u001b[0m\u001b[0mX\u001b[0m\u001b[0;34m,\u001b[0m \u001b[0mY_res\u001b[0m\u001b[0;34m,\u001b[0m \u001b[0mlabeled_indices\u001b[0m\u001b[0;34m,\u001b[0m \u001b[0munlabeled_indices\u001b[0m\u001b[0;34m)\u001b[0m\u001b[0;34m\u001b[0m\u001b[0;34m\u001b[0m\u001b[0m\n\u001b[0m\u001b[1;32m    123\u001b[0m                 \u001b[0mself\u001b[0m\u001b[0;34m.\u001b[0m\u001b[0mlosses\u001b[0m\u001b[0;34m.\u001b[0m\u001b[0mappend\u001b[0m\u001b[0;34m(\u001b[0m\u001b[0mloss\u001b[0m\u001b[0;34m)\u001b[0m\u001b[0;34m\u001b[0m\u001b[0;34m\u001b[0m\u001b[0m\n\u001b[1;32m    124\u001b[0m                 \u001b[0mself\u001b[0m\u001b[0;34m.\u001b[0m\u001b[0mcpu_times\u001b[0m\u001b[0;34m.\u001b[0m\u001b[0mappend\u001b[0m\u001b[0;34m(\u001b[0m\u001b[0mdefault_timer\u001b[0m\u001b[0;34m(\u001b[0m\u001b[0;34m)\u001b[0m \u001b[0;34m-\u001b[0m \u001b[0malgo_start\u001b[0m\u001b[0;34m)\u001b[0m\u001b[0;34m\u001b[0m\u001b[0;34m\u001b[0m\u001b[0m\n",
            "\u001b[0;32m/content/GradientSolver.py\u001b[0m in \u001b[0;36mcompute_loss\u001b[0;34m(self, X, Y, labeled_idxs, unlabeled_idxs)\u001b[0m\n\u001b[1;32m     73\u001b[0m     \u001b[0;32mdef\u001b[0m \u001b[0mcompute_loss\u001b[0m\u001b[0;34m(\u001b[0m\u001b[0mself\u001b[0m\u001b[0;34m,\u001b[0m \u001b[0mX\u001b[0m\u001b[0;34m,\u001b[0m \u001b[0mY\u001b[0m\u001b[0;34m,\u001b[0m \u001b[0mlabeled_idxs\u001b[0m\u001b[0;34m,\u001b[0m \u001b[0munlabeled_idxs\u001b[0m\u001b[0;34m)\u001b[0m\u001b[0;34m:\u001b[0m\u001b[0;34m\u001b[0m\u001b[0;34m\u001b[0m\u001b[0m\n\u001b[1;32m     74\u001b[0m         \u001b[0;31m# Optimized code:\u001b[0m\u001b[0;34m\u001b[0m\u001b[0;34m\u001b[0m\u001b[0;34m\u001b[0m\u001b[0m\n\u001b[0;32m---> 75\u001b[0;31m         \u001b[0;32mreturn\u001b[0m \u001b[0msum\u001b[0m\u001b[0;34m(\u001b[0m\u001b[0;34m[\u001b[0m\u001b[0mself\u001b[0m\u001b[0;34m.\u001b[0m\u001b[0mcalc_weight\u001b[0m\u001b[0;34m(\u001b[0m\u001b[0mlabeled_idx\u001b[0m\u001b[0;34m,\u001b[0m \u001b[0munlab_idx\u001b[0m\u001b[0;34m)\u001b[0m \u001b[0;34m*\u001b[0m \u001b[0;34m(\u001b[0m\u001b[0;34m(\u001b[0m\u001b[0mY\u001b[0m\u001b[0;34m[\u001b[0m\u001b[0mlabeled_idx\u001b[0m\u001b[0;34m]\u001b[0m \u001b[0;34m-\u001b[0m \u001b[0mY\u001b[0m\u001b[0;34m[\u001b[0m\u001b[0munlab_idx\u001b[0m\u001b[0;34m]\u001b[0m\u001b[0;34m)\u001b[0m \u001b[0;34m**\u001b[0m \u001b[0;36m2\u001b[0m\u001b[0;34m)\u001b[0m \u001b[0;32mfor\u001b[0m \u001b[0mlabeled_idx\u001b[0m \u001b[0;32min\u001b[0m \u001b[0mlabeled_idxs\u001b[0m \u001b[0;32mfor\u001b[0m \u001b[0munlab_idx\u001b[0m \u001b[0;32min\u001b[0m \u001b[0munlabeled_idxs\u001b[0m\u001b[0;34m]\u001b[0m\u001b[0;34m)\u001b[0m \u001b[0;34m+\u001b[0m \u001b[0;36m0.5\u001b[0m \u001b[0;34m*\u001b[0m \u001b[0msum\u001b[0m\u001b[0;34m(\u001b[0m\u001b[0;34m[\u001b[0m\u001b[0mself\u001b[0m\u001b[0;34m.\u001b[0m\u001b[0mcalc_weight\u001b[0m\u001b[0;34m(\u001b[0m\u001b[0munlab_idx\u001b[0m\u001b[0;34m,\u001b[0m \u001b[0manother_unlab_idx\u001b[0m\u001b[0;34m)\u001b[0m \u001b[0;34m*\u001b[0m \u001b[0;34m(\u001b[0m\u001b[0;34m(\u001b[0m\u001b[0mY\u001b[0m\u001b[0;34m[\u001b[0m\u001b[0munlab_idx\u001b[0m\u001b[0;34m]\u001b[0m \u001b[0;34m-\u001b[0m \u001b[0mY\u001b[0m\u001b[0;34m[\u001b[0m\u001b[0manother_unlab_idx\u001b[0m\u001b[0;34m]\u001b[0m\u001b[0;34m)\u001b[0m \u001b[0;34m**\u001b[0m \u001b[0;36m2\u001b[0m\u001b[0;34m)\u001b[0m \u001b[0;32mfor\u001b[0m \u001b[0munlab_idx\u001b[0m \u001b[0;32min\u001b[0m \u001b[0munlabeled_idxs\u001b[0m \u001b[0;32mfor\u001b[0m \u001b[0manother_unlab_idx\u001b[0m \u001b[0;32min\u001b[0m \u001b[0munlabeled_idxs\u001b[0m\u001b[0;34m]\u001b[0m\u001b[0;34m)\u001b[0m\u001b[0;34m\u001b[0m\u001b[0;34m\u001b[0m\u001b[0m\n\u001b[0m\u001b[1;32m     76\u001b[0m \u001b[0;34m\u001b[0m\u001b[0m\n\u001b[1;32m     77\u001b[0m         \u001b[0;31m# comp_1 = sum([self.calc_weight(X[labeled_idx], X[unlab_idx]) * ((Y[labeled_idx] - Y[unlab_idx]) ** 2) for labeled_idx in labeled_idxs for unlab_idx in unlabeled_idxs])\u001b[0m\u001b[0;34m\u001b[0m\u001b[0;34m\u001b[0m\u001b[0;34m\u001b[0m\u001b[0m\n",
            "\u001b[0;32m/content/GradientSolver.py\u001b[0m in \u001b[0;36m<listcomp>\u001b[0;34m(.0)\u001b[0m\n\u001b[1;32m     73\u001b[0m     \u001b[0;32mdef\u001b[0m \u001b[0mcompute_loss\u001b[0m\u001b[0;34m(\u001b[0m\u001b[0mself\u001b[0m\u001b[0;34m,\u001b[0m \u001b[0mX\u001b[0m\u001b[0;34m,\u001b[0m \u001b[0mY\u001b[0m\u001b[0;34m,\u001b[0m \u001b[0mlabeled_idxs\u001b[0m\u001b[0;34m,\u001b[0m \u001b[0munlabeled_idxs\u001b[0m\u001b[0;34m)\u001b[0m\u001b[0;34m:\u001b[0m\u001b[0;34m\u001b[0m\u001b[0;34m\u001b[0m\u001b[0m\n\u001b[1;32m     74\u001b[0m         \u001b[0;31m# Optimized code:\u001b[0m\u001b[0;34m\u001b[0m\u001b[0;34m\u001b[0m\u001b[0;34m\u001b[0m\u001b[0m\n\u001b[0;32m---> 75\u001b[0;31m         \u001b[0;32mreturn\u001b[0m \u001b[0msum\u001b[0m\u001b[0;34m(\u001b[0m\u001b[0;34m[\u001b[0m\u001b[0mself\u001b[0m\u001b[0;34m.\u001b[0m\u001b[0mcalc_weight\u001b[0m\u001b[0;34m(\u001b[0m\u001b[0mlabeled_idx\u001b[0m\u001b[0;34m,\u001b[0m \u001b[0munlab_idx\u001b[0m\u001b[0;34m)\u001b[0m \u001b[0;34m*\u001b[0m \u001b[0;34m(\u001b[0m\u001b[0;34m(\u001b[0m\u001b[0mY\u001b[0m\u001b[0;34m[\u001b[0m\u001b[0mlabeled_idx\u001b[0m\u001b[0;34m]\u001b[0m \u001b[0;34m-\u001b[0m \u001b[0mY\u001b[0m\u001b[0;34m[\u001b[0m\u001b[0munlab_idx\u001b[0m\u001b[0;34m]\u001b[0m\u001b[0;34m)\u001b[0m \u001b[0;34m**\u001b[0m \u001b[0;36m2\u001b[0m\u001b[0;34m)\u001b[0m \u001b[0;32mfor\u001b[0m \u001b[0mlabeled_idx\u001b[0m \u001b[0;32min\u001b[0m \u001b[0mlabeled_idxs\u001b[0m \u001b[0;32mfor\u001b[0m \u001b[0munlab_idx\u001b[0m \u001b[0;32min\u001b[0m \u001b[0munlabeled_idxs\u001b[0m\u001b[0;34m]\u001b[0m\u001b[0;34m)\u001b[0m \u001b[0;34m+\u001b[0m \u001b[0;36m0.5\u001b[0m \u001b[0;34m*\u001b[0m \u001b[0msum\u001b[0m\u001b[0;34m(\u001b[0m\u001b[0;34m[\u001b[0m\u001b[0mself\u001b[0m\u001b[0;34m.\u001b[0m\u001b[0mcalc_weight\u001b[0m\u001b[0;34m(\u001b[0m\u001b[0munlab_idx\u001b[0m\u001b[0;34m,\u001b[0m \u001b[0manother_unlab_idx\u001b[0m\u001b[0;34m)\u001b[0m \u001b[0;34m*\u001b[0m \u001b[0;34m(\u001b[0m\u001b[0;34m(\u001b[0m\u001b[0mY\u001b[0m\u001b[0;34m[\u001b[0m\u001b[0munlab_idx\u001b[0m\u001b[0;34m]\u001b[0m \u001b[0;34m-\u001b[0m \u001b[0mY\u001b[0m\u001b[0;34m[\u001b[0m\u001b[0manother_unlab_idx\u001b[0m\u001b[0;34m]\u001b[0m\u001b[0;34m)\u001b[0m \u001b[0;34m**\u001b[0m \u001b[0;36m2\u001b[0m\u001b[0;34m)\u001b[0m \u001b[0;32mfor\u001b[0m \u001b[0munlab_idx\u001b[0m \u001b[0;32min\u001b[0m \u001b[0munlabeled_idxs\u001b[0m \u001b[0;32mfor\u001b[0m \u001b[0manother_unlab_idx\u001b[0m \u001b[0;32min\u001b[0m \u001b[0munlabeled_idxs\u001b[0m\u001b[0;34m]\u001b[0m\u001b[0;34m)\u001b[0m\u001b[0;34m\u001b[0m\u001b[0;34m\u001b[0m\u001b[0m\n\u001b[0m\u001b[1;32m     76\u001b[0m \u001b[0;34m\u001b[0m\u001b[0m\n\u001b[1;32m     77\u001b[0m         \u001b[0;31m# comp_1 = sum([self.calc_weight(X[labeled_idx], X[unlab_idx]) * ((Y[labeled_idx] - Y[unlab_idx]) ** 2) for labeled_idx in labeled_idxs for unlab_idx in unlabeled_idxs])\u001b[0m\u001b[0;34m\u001b[0m\u001b[0;34m\u001b[0m\u001b[0;34m\u001b[0m\u001b[0m\n",
            "\u001b[0;31mKeyboardInterrupt\u001b[0m: "
          ]
        }
      ],
      "source": [
        "Y_preds_BCGD_permutation = random_solver.solve(\n",
        "    X, \n",
        "    Y_delabeled, \n",
        "    Y_true = Y,\n",
        "    iter_limit = 30,\n",
        "    delta_percent_limit = 0.1,  # when dLoss / dLoss prev\n",
        "    delta_loss_limit = 0.0,\n",
        "    stop_loss= 0.0,\n",
        "    weight_matrix = weights\n",
        ")"
      ]
    },
    {
      "cell_type": "code",
      "execution_count": null,
      "metadata": {
        "colab": {
          "base_uri": "https://localhost:8080/",
          "height": 530
        },
        "id": "6KwW3-WNji8n",
        "outputId": "043a072f-42d8-4398-9525-7a810e67be39"
      },
      "outputs": [
        {
          "name": "stdout",
          "output_type": "stream",
          "text": [
            "Accuracy: 1.0\n"
          ]
        },
        {
          "data": {
            "image/png": "[encoded data removed]",
            "text/plain": [
              "<Figure size 432x288 with 1 Axes>"
            ]
          },
          "metadata": {
            "needs_background": "light"
          },
          "output_type": "display_data"
        },
        {
          "data": {
            "image/png": "[encoded data removed]",
            "text/plain": [
              "<Figure size 432x288 with 1 Axes>"
            ]
          },
          "metadata": {
            "needs_background": "light"
          },
          "output_type": "display_data"
        }
      ],
      "source": [
        "plot_clusters(X, Y)\n",
        "plot_clusters(X, Y_preds_BCGD_permutation)\n",
        "print(f'Accuracy: {accuracy_score(Y, Y_preds_BCGD_permutation)}')"
      ]
    },
    {
      "cell_type": "code",
      "execution_count": null,
      "metadata": {
        "colab": {
          "base_uri": "https://localhost:8080/",
          "height": 265
        },
        "id": "RJVEaOaBji8n",
        "outputId": "0a0c49ce-7a3a-41dc-ec0b-0b52bed6284f"
      },
      "outputs": [
        {
          "data": {
            "image/png": "[encoded data removed]",
            "text/plain": [
              "<Figure size 432x288 with 1 Axes>"
            ]
          },
          "metadata": {
            "needs_background": "light"
          },
          "output_type": "display_data"
        }
      ],
      "source": [
        "plt.plot(random_solver.losses, marker = 'o')\n",
        "plt.grid()"
      ]
    },
    {
      "cell_type": "code",
      "execution_count": null,
      "metadata": {
        "id": "lao6YbWrD3DI",
        "outputId": "69ad0989-d55b-4be2-9782-7cf6ac4dd13a"
      },
      "outputs": [
        {
          "data": {
            "image/png": "[encoded data removed]",
            "text/plain": [
              "<Figure size 432x288 with 1 Axes>"
            ]
          },
          "metadata": {
            "needs_background": "light"
          },
          "output_type": "display_data"
        }
      ],
      "source": [
        "plt.plot(random_solver.accuracies, marker = 'o')\n",
        "plt.ylim([0, 1])\n",
        "plt.grid()"
      ]
    },
    {
      "cell_type": "markdown",
      "metadata": {
        "id": "H3EP1xPTji8o"
      },
      "source": [
        "## BCGD random sampling"
      ]
    },
    {
      "cell_type": "code",
      "execution_count": 14,
      "metadata": {
        "id": "Np9yEf8Qji8o"
      },
      "outputs": [],
      "source": [
        "BCGD_RS_solver = BCGDSolver(\n",
        "    lr_strategy = 'lr_constant',\n",
        "    learning_rate = 0.0001,\n",
        "    similarity_func = None,\n",
        "    bcgd_strategy = 'random sampling'\n",
        ")"
      ]
    },
    {
      "cell_type": "code",
      "execution_count": 15,
      "metadata": {
        "colab": {
          "base_uri": "https://localhost:8080/",
          "height": 502
        },
        "id": "d7DWIY39ji8o",
        "outputId": "79466ac3-c0f4-42e6-a3ac-b49be0f9496c"
      },
      "outputs": [
        {
          "output_type": "stream",
          "name": "stdout",
          "text": [
            "Iteration: 0, Loss: 102822.87984855211, Delta: 102822.87984855211\n",
            "Iteration: 1, Loss: 102822.60405919357, Delta: 0.2757893585367128\n",
            "Iteration: 2, Loss: 102822.32239734591, Delta: 0.28166184766450897\n",
            "Iteration: 3, Loss: 102821.49011027774, Delta: 0.8322870681731729\n",
            "Iteration: 4, Loss: 102820.68714709028, Delta: 0.8029631874524057\n"
          ]
        },
        {
          "output_type": "error",
          "ename": "KeyboardInterrupt",
          "evalue": "ignored",
          "traceback": [
            "\u001b[0;31m---------------------------------------------------------------------------\u001b[0m",
            "\u001b[0;31mKeyboardInterrupt\u001b[0m                         Traceback (most recent call last)",
            "\u001b[0;32m<ipython-input-15-6fc2bb221094>\u001b[0m in \u001b[0;36m<module>\u001b[0;34m()\u001b[0m\n\u001b[1;32m      7\u001b[0m     \u001b[0mdelta_percent_limit\u001b[0m \u001b[0;34m=\u001b[0m \u001b[0;36m0.0\u001b[0m\u001b[0;34m,\u001b[0m  \u001b[0;31m# when dLoss / dLoss prev\u001b[0m\u001b[0;34m\u001b[0m\u001b[0;34m\u001b[0m\u001b[0m\n\u001b[1;32m      8\u001b[0m     \u001b[0mstop_loss\u001b[0m\u001b[0;34m=\u001b[0m \u001b[0;36m0\u001b[0m\u001b[0;34m,\u001b[0m\u001b[0;34m\u001b[0m\u001b[0;34m\u001b[0m\u001b[0m\n\u001b[0;32m----> 9\u001b[0;31m     \u001b[0mweight_matrix\u001b[0m \u001b[0;34m=\u001b[0m \u001b[0mweights\u001b[0m\u001b[0;34m\u001b[0m\u001b[0;34m\u001b[0m\u001b[0m\n\u001b[0m\u001b[1;32m     10\u001b[0m )\n",
            "\u001b[0;32m/content/BCGDSolver.py\u001b[0m in \u001b[0;36msolve\u001b[0;34m(self, X, Y, Y_true, iter_limit, delta_percent_limit, delta_loss_limit, stop_loss, weight_matrix)\u001b[0m\n\u001b[1;32m    120\u001b[0m             \u001b[0;32mfor\u001b[0m \u001b[0mi\u001b[0m \u001b[0;32min\u001b[0m \u001b[0mrange\u001b[0m\u001b[0;34m(\u001b[0m\u001b[0miter_limit\u001b[0m\u001b[0;34m)\u001b[0m\u001b[0;34m:\u001b[0m\u001b[0;34m\u001b[0m\u001b[0;34m\u001b[0m\u001b[0m\n\u001b[1;32m    121\u001b[0m                 \u001b[0mself\u001b[0m\u001b[0;34m.\u001b[0m\u001b[0mupdate_accuracy\u001b[0m\u001b[0;34m(\u001b[0m\u001b[0mY_true\u001b[0m\u001b[0;34m,\u001b[0m \u001b[0mY_res\u001b[0m\u001b[0;34m)\u001b[0m\u001b[0;34m\u001b[0m\u001b[0;34m\u001b[0m\u001b[0m\n\u001b[0;32m--> 122\u001b[0;31m                 \u001b[0mloss\u001b[0m \u001b[0;34m=\u001b[0m \u001b[0mself\u001b[0m\u001b[0;34m.\u001b[0m\u001b[0mcompute_loss\u001b[0m\u001b[0;34m(\u001b[0m\u001b[0mX\u001b[0m\u001b[0;34m,\u001b[0m \u001b[0mY_res\u001b[0m\u001b[0;34m,\u001b[0m \u001b[0mlabeled_indices\u001b[0m\u001b[0;34m,\u001b[0m \u001b[0munlabeled_indices\u001b[0m\u001b[0;34m)\u001b[0m\u001b[0;34m\u001b[0m\u001b[0;34m\u001b[0m\u001b[0m\n\u001b[0m\u001b[1;32m    123\u001b[0m                 \u001b[0mself\u001b[0m\u001b[0;34m.\u001b[0m\u001b[0mlosses\u001b[0m\u001b[0;34m.\u001b[0m\u001b[0mappend\u001b[0m\u001b[0;34m(\u001b[0m\u001b[0mloss\u001b[0m\u001b[0;34m)\u001b[0m\u001b[0;34m\u001b[0m\u001b[0;34m\u001b[0m\u001b[0m\n\u001b[1;32m    124\u001b[0m                 \u001b[0mself\u001b[0m\u001b[0;34m.\u001b[0m\u001b[0mcpu_times\u001b[0m\u001b[0;34m.\u001b[0m\u001b[0mappend\u001b[0m\u001b[0;34m(\u001b[0m\u001b[0mdefault_timer\u001b[0m\u001b[0;34m(\u001b[0m\u001b[0;34m)\u001b[0m \u001b[0;34m-\u001b[0m \u001b[0malgo_start\u001b[0m\u001b[0;34m)\u001b[0m\u001b[0;34m\u001b[0m\u001b[0;34m\u001b[0m\u001b[0m\n",
            "\u001b[0;32m/content/GradientSolver.py\u001b[0m in \u001b[0;36mcompute_loss\u001b[0;34m(self, X, Y, labeled_idxs, unlabeled_idxs)\u001b[0m\n\u001b[1;32m     73\u001b[0m     \u001b[0;32mdef\u001b[0m \u001b[0mcompute_loss\u001b[0m\u001b[0;34m(\u001b[0m\u001b[0mself\u001b[0m\u001b[0;34m,\u001b[0m \u001b[0mX\u001b[0m\u001b[0;34m,\u001b[0m \u001b[0mY\u001b[0m\u001b[0;34m,\u001b[0m \u001b[0mlabeled_idxs\u001b[0m\u001b[0;34m,\u001b[0m \u001b[0munlabeled_idxs\u001b[0m\u001b[0;34m)\u001b[0m\u001b[0;34m:\u001b[0m\u001b[0;34m\u001b[0m\u001b[0;34m\u001b[0m\u001b[0m\n\u001b[1;32m     74\u001b[0m         \u001b[0;31m# Optimized code:\u001b[0m\u001b[0;34m\u001b[0m\u001b[0;34m\u001b[0m\u001b[0;34m\u001b[0m\u001b[0m\n\u001b[0;32m---> 75\u001b[0;31m         \u001b[0;32mreturn\u001b[0m \u001b[0msum\u001b[0m\u001b[0;34m(\u001b[0m\u001b[0;34m[\u001b[0m\u001b[0mself\u001b[0m\u001b[0;34m.\u001b[0m\u001b[0mcalc_weight\u001b[0m\u001b[0;34m(\u001b[0m\u001b[0mlabeled_idx\u001b[0m\u001b[0;34m,\u001b[0m \u001b[0munlab_idx\u001b[0m\u001b[0;34m)\u001b[0m \u001b[0;34m*\u001b[0m \u001b[0;34m(\u001b[0m\u001b[0;34m(\u001b[0m\u001b[0mY\u001b[0m\u001b[0;34m[\u001b[0m\u001b[0mlabeled_idx\u001b[0m\u001b[0;34m]\u001b[0m \u001b[0;34m-\u001b[0m \u001b[0mY\u001b[0m\u001b[0;34m[\u001b[0m\u001b[0munlab_idx\u001b[0m\u001b[0;34m]\u001b[0m\u001b[0;34m)\u001b[0m \u001b[0;34m**\u001b[0m \u001b[0;36m2\u001b[0m\u001b[0;34m)\u001b[0m \u001b[0;32mfor\u001b[0m \u001b[0mlabeled_idx\u001b[0m \u001b[0;32min\u001b[0m \u001b[0mlabeled_idxs\u001b[0m \u001b[0;32mfor\u001b[0m \u001b[0munlab_idx\u001b[0m \u001b[0;32min\u001b[0m \u001b[0munlabeled_idxs\u001b[0m\u001b[0;34m]\u001b[0m\u001b[0;34m)\u001b[0m \u001b[0;34m+\u001b[0m \u001b[0;36m0.5\u001b[0m \u001b[0;34m*\u001b[0m \u001b[0msum\u001b[0m\u001b[0;34m(\u001b[0m\u001b[0;34m[\u001b[0m\u001b[0mself\u001b[0m\u001b[0;34m.\u001b[0m\u001b[0mcalc_weight\u001b[0m\u001b[0;34m(\u001b[0m\u001b[0munlab_idx\u001b[0m\u001b[0;34m,\u001b[0m \u001b[0manother_unlab_idx\u001b[0m\u001b[0;34m)\u001b[0m \u001b[0;34m*\u001b[0m \u001b[0;34m(\u001b[0m\u001b[0;34m(\u001b[0m\u001b[0mY\u001b[0m\u001b[0;34m[\u001b[0m\u001b[0munlab_idx\u001b[0m\u001b[0;34m]\u001b[0m \u001b[0;34m-\u001b[0m \u001b[0mY\u001b[0m\u001b[0;34m[\u001b[0m\u001b[0manother_unlab_idx\u001b[0m\u001b[0;34m]\u001b[0m\u001b[0;34m)\u001b[0m \u001b[0;34m**\u001b[0m \u001b[0;36m2\u001b[0m\u001b[0;34m)\u001b[0m \u001b[0;32mfor\u001b[0m \u001b[0munlab_idx\u001b[0m \u001b[0;32min\u001b[0m \u001b[0munlabeled_idxs\u001b[0m \u001b[0;32mfor\u001b[0m \u001b[0manother_unlab_idx\u001b[0m \u001b[0;32min\u001b[0m \u001b[0munlabeled_idxs\u001b[0m\u001b[0;34m]\u001b[0m\u001b[0;34m)\u001b[0m\u001b[0;34m\u001b[0m\u001b[0;34m\u001b[0m\u001b[0m\n\u001b[0m\u001b[1;32m     76\u001b[0m \u001b[0;34m\u001b[0m\u001b[0m\n\u001b[1;32m     77\u001b[0m         \u001b[0;31m# comp_1 = sum([self.calc_weight(X[labeled_idx], X[unlab_idx]) * ((Y[labeled_idx] - Y[unlab_idx]) ** 2) for labeled_idx in labeled_idxs for unlab_idx in unlabeled_idxs])\u001b[0m\u001b[0;34m\u001b[0m\u001b[0;34m\u001b[0m\u001b[0;34m\u001b[0m\u001b[0m\n",
            "\u001b[0;32m/content/GradientSolver.py\u001b[0m in \u001b[0;36m<listcomp>\u001b[0;34m(.0)\u001b[0m\n\u001b[1;32m     73\u001b[0m     \u001b[0;32mdef\u001b[0m \u001b[0mcompute_loss\u001b[0m\u001b[0;34m(\u001b[0m\u001b[0mself\u001b[0m\u001b[0;34m,\u001b[0m \u001b[0mX\u001b[0m\u001b[0;34m,\u001b[0m \u001b[0mY\u001b[0m\u001b[0;34m,\u001b[0m \u001b[0mlabeled_idxs\u001b[0m\u001b[0;34m,\u001b[0m \u001b[0munlabeled_idxs\u001b[0m\u001b[0;34m)\u001b[0m\u001b[0;34m:\u001b[0m\u001b[0;34m\u001b[0m\u001b[0;34m\u001b[0m\u001b[0m\n\u001b[1;32m     74\u001b[0m         \u001b[0;31m# Optimized code:\u001b[0m\u001b[0;34m\u001b[0m\u001b[0;34m\u001b[0m\u001b[0;34m\u001b[0m\u001b[0m\n\u001b[0;32m---> 75\u001b[0;31m         \u001b[0;32mreturn\u001b[0m \u001b[0msum\u001b[0m\u001b[0;34m(\u001b[0m\u001b[0;34m[\u001b[0m\u001b[0mself\u001b[0m\u001b[0;34m.\u001b[0m\u001b[0mcalc_weight\u001b[0m\u001b[0;34m(\u001b[0m\u001b[0mlabeled_idx\u001b[0m\u001b[0;34m,\u001b[0m \u001b[0munlab_idx\u001b[0m\u001b[0;34m)\u001b[0m \u001b[0;34m*\u001b[0m \u001b[0;34m(\u001b[0m\u001b[0;34m(\u001b[0m\u001b[0mY\u001b[0m\u001b[0;34m[\u001b[0m\u001b[0mlabeled_idx\u001b[0m\u001b[0;34m]\u001b[0m \u001b[0;34m-\u001b[0m \u001b[0mY\u001b[0m\u001b[0;34m[\u001b[0m\u001b[0munlab_idx\u001b[0m\u001b[0;34m]\u001b[0m\u001b[0;34m)\u001b[0m \u001b[0;34m**\u001b[0m \u001b[0;36m2\u001b[0m\u001b[0;34m)\u001b[0m \u001b[0;32mfor\u001b[0m \u001b[0mlabeled_idx\u001b[0m \u001b[0;32min\u001b[0m \u001b[0mlabeled_idxs\u001b[0m \u001b[0;32mfor\u001b[0m \u001b[0munlab_idx\u001b[0m \u001b[0;32min\u001b[0m \u001b[0munlabeled_idxs\u001b[0m\u001b[0;34m]\u001b[0m\u001b[0;34m)\u001b[0m \u001b[0;34m+\u001b[0m \u001b[0;36m0.5\u001b[0m \u001b[0;34m*\u001b[0m \u001b[0msum\u001b[0m\u001b[0;34m(\u001b[0m\u001b[0;34m[\u001b[0m\u001b[0mself\u001b[0m\u001b[0;34m.\u001b[0m\u001b[0mcalc_weight\u001b[0m\u001b[0;34m(\u001b[0m\u001b[0munlab_idx\u001b[0m\u001b[0;34m,\u001b[0m \u001b[0manother_unlab_idx\u001b[0m\u001b[0;34m)\u001b[0m \u001b[0;34m*\u001b[0m \u001b[0;34m(\u001b[0m\u001b[0;34m(\u001b[0m\u001b[0mY\u001b[0m\u001b[0;34m[\u001b[0m\u001b[0munlab_idx\u001b[0m\u001b[0;34m]\u001b[0m \u001b[0;34m-\u001b[0m \u001b[0mY\u001b[0m\u001b[0;34m[\u001b[0m\u001b[0manother_unlab_idx\u001b[0m\u001b[0;34m]\u001b[0m\u001b[0;34m)\u001b[0m \u001b[0;34m**\u001b[0m \u001b[0;36m2\u001b[0m\u001b[0;34m)\u001b[0m \u001b[0;32mfor\u001b[0m \u001b[0munlab_idx\u001b[0m \u001b[0;32min\u001b[0m \u001b[0munlabeled_idxs\u001b[0m \u001b[0;32mfor\u001b[0m \u001b[0manother_unlab_idx\u001b[0m \u001b[0;32min\u001b[0m \u001b[0munlabeled_idxs\u001b[0m\u001b[0;34m]\u001b[0m\u001b[0;34m)\u001b[0m\u001b[0;34m\u001b[0m\u001b[0;34m\u001b[0m\u001b[0m\n\u001b[0m\u001b[1;32m     76\u001b[0m \u001b[0;34m\u001b[0m\u001b[0m\n\u001b[1;32m     77\u001b[0m         \u001b[0;31m# comp_1 = sum([self.calc_weight(X[labeled_idx], X[unlab_idx]) * ((Y[labeled_idx] - Y[unlab_idx]) ** 2) for labeled_idx in labeled_idxs for unlab_idx in unlabeled_idxs])\u001b[0m\u001b[0;34m\u001b[0m\u001b[0;34m\u001b[0m\u001b[0;34m\u001b[0m\u001b[0m\n",
            "\u001b[0;31mKeyboardInterrupt\u001b[0m: "
          ]
        }
      ],
      "source": [
        "Y_preds_BCGD_sampling = BCGD_RS_solver.solve(\n",
        "    X = X, \n",
        "    Y = Y_delabeled,\n",
        "    Y_true = Y,\n",
        "    iter_limit = 30, #  * len(Y_delabeled[Y_delabeled == DataProperties.unlabeled]),\n",
        "    delta_loss_limit = 0.0,\n",
        "    delta_percent_limit = 0.0,  # when dLoss / dLoss prev\n",
        "    stop_loss= 0,\n",
        "    weight_matrix = weights\n",
        ")"
      ]
    },
    {
      "cell_type": "code",
      "execution_count": null,
      "metadata": {
        "colab": {
          "base_uri": "https://localhost:8080/",
          "height": 282
        },
        "id": "Hkiavnn4ji8p",
        "outputId": "3ee5fb23-30cc-4d6d-ffeb-90b187b1ec20"
      },
      "outputs": [
        {
          "name": "stdout",
          "output_type": "stream",
          "text": [
            "Accuracy: 0.552\n"
          ]
        },
        {
          "data": {
            "image/png": "[encoded data removed]",
            "text/plain": [
              "<Figure size 432x288 with 1 Axes>"
            ]
          },
          "metadata": {
            "needs_background": "light"
          },
          "output_type": "display_data"
        }
      ],
      "source": [
        "plot_clusters(\n",
        "    X, Y_preds_BCGD_sampling\n",
        ")\n",
        "print(f'Accuracy: {accuracy_score(Y, Y_preds_BCGD_sampling)}')"
      ]
    },
    {
      "cell_type": "code",
      "execution_count": null,
      "metadata": {
        "colab": {
          "base_uri": "https://localhost:8080/",
          "height": 265
        },
        "id": "QYc5egcOji8p",
        "outputId": "dfca1f4e-3ba3-4752-ed0c-73c74dc26ec3"
      },
      "outputs": [
        {
          "data": {
            "image/png": "[encoded data removed]",
            "text/plain": [
              "<Figure size 432x288 with 1 Axes>"
            ]
          },
          "metadata": {
            "needs_background": "light"
          },
          "output_type": "display_data"
        }
      ],
      "source": [
        "plt.plot(BCGD_RS_solver.losses)\n",
        "plt.grid()"
      ]
    },
    {
      "cell_type": "code",
      "execution_count": null,
      "metadata": {
        "id": "1cXvq124D3DJ",
        "outputId": "162f7429-fa51-4fda-bffc-3ba0e56c27e6"
      },
      "outputs": [
        {
          "data": {
            "image/png": "[encoded data removed]",
            "text/plain": [
              "<Figure size 432x288 with 1 Axes>"
            ]
          },
          "metadata": {
            "needs_background": "light"
          },
          "output_type": "display_data"
        }
      ],
      "source": [
        "plt.plot(BCGD_RS_solver.accuracies, marker = 'o')\n",
        "plt.ylim([0, 1])\n",
        "plt.grid()"
      ]
    },
    {
      "cell_type": "markdown",
      "metadata": {
        "id": "AKCfR4boji8p"
      },
      "source": [
        "## BCGD cyclic"
      ]
    },
    {
      "cell_type": "code",
      "execution_count": null,
      "metadata": {
        "id": "9t1zhz2nji8p"
      },
      "outputs": [],
      "source": [
        "BCGD_cyclic_solver = BCGDSolver(\n",
        "    lr_strategy = 'lr_constant',\n",
        "    learning_rate = 0.0001,\n",
        "    similarity_func = None,\n",
        "    bcgd_strategy = 'cyclic'\n",
        ")"
      ]
    },
    {
      "cell_type": "code",
      "execution_count": null,
      "metadata": {
        "colab": {
          "base_uri": "https://localhost:8080/",
          "height": 398
        },
        "id": "MTLrf9Hgji8p",
        "outputId": "a00731bb-86ca-46f1-ff74-4fa677b5ab25"
      },
      "outputs": [
        {
          "output_type": "stream",
          "name": "stdout",
          "text": [
            "Iteration: 0, Loss: 102822.87984855211, Delta: 102822.87984855211\n",
            "Iteration: 1, Loss: 100677.4925230569, Delta: 2145.387325495205\n"
          ]
        },
        {
          "output_type": "error",
          "ename": "KeyboardInterrupt",
          "evalue": "ignored",
          "traceback": [
            "\u001b[0;31m---------------------------------------------------------------------------\u001b[0m",
            "\u001b[0;31mKeyboardInterrupt\u001b[0m                         Traceback (most recent call last)",
            "\u001b[0;32m<ipython-input-20-69bb3a2f4f2d>\u001b[0m in \u001b[0;36m<module>\u001b[0;34m()\u001b[0m\n\u001b[1;32m      7\u001b[0m     \u001b[0mdelta_loss_limit\u001b[0m \u001b[0;34m=\u001b[0m \u001b[0;36m0.0\u001b[0m\u001b[0;34m,\u001b[0m\u001b[0;34m\u001b[0m\u001b[0;34m\u001b[0m\u001b[0m\n\u001b[1;32m      8\u001b[0m     \u001b[0mstop_loss\u001b[0m \u001b[0;34m=\u001b[0m \u001b[0;36m0\u001b[0m\u001b[0;34m,\u001b[0m\u001b[0;34m\u001b[0m\u001b[0;34m\u001b[0m\u001b[0m\n\u001b[0;32m----> 9\u001b[0;31m     \u001b[0mweight_matrix\u001b[0m \u001b[0;34m=\u001b[0m \u001b[0mweights\u001b[0m\u001b[0;34m\u001b[0m\u001b[0;34m\u001b[0m\u001b[0m\n\u001b[0m\u001b[1;32m     10\u001b[0m )\n",
            "\u001b[0;32m/content/BCGDSolver.py\u001b[0m in \u001b[0;36msolve\u001b[0;34m(self, X, Y, Y_true, iter_limit, delta_percent_limit, delta_loss_limit, stop_loss, weight_matrix)\u001b[0m\n\u001b[1;32m    120\u001b[0m             \u001b[0;32mfor\u001b[0m \u001b[0mi\u001b[0m \u001b[0;32min\u001b[0m \u001b[0mrange\u001b[0m\u001b[0;34m(\u001b[0m\u001b[0miter_limit\u001b[0m\u001b[0;34m)\u001b[0m\u001b[0;34m:\u001b[0m\u001b[0;34m\u001b[0m\u001b[0;34m\u001b[0m\u001b[0m\n\u001b[1;32m    121\u001b[0m                 \u001b[0mself\u001b[0m\u001b[0;34m.\u001b[0m\u001b[0mupdate_accuracy\u001b[0m\u001b[0;34m(\u001b[0m\u001b[0mY_true\u001b[0m\u001b[0;34m,\u001b[0m \u001b[0mY_res\u001b[0m\u001b[0;34m)\u001b[0m\u001b[0;34m\u001b[0m\u001b[0;34m\u001b[0m\u001b[0m\n\u001b[0;32m--> 122\u001b[0;31m                 \u001b[0mloss\u001b[0m \u001b[0;34m=\u001b[0m \u001b[0mself\u001b[0m\u001b[0;34m.\u001b[0m\u001b[0mcompute_loss\u001b[0m\u001b[0;34m(\u001b[0m\u001b[0mX\u001b[0m\u001b[0;34m,\u001b[0m \u001b[0mY_res\u001b[0m\u001b[0;34m,\u001b[0m \u001b[0mlabeled_indices\u001b[0m\u001b[0;34m,\u001b[0m \u001b[0munlabeled_indices\u001b[0m\u001b[0;34m)\u001b[0m\u001b[0;34m\u001b[0m\u001b[0;34m\u001b[0m\u001b[0m\n\u001b[0m\u001b[1;32m    123\u001b[0m                 \u001b[0mself\u001b[0m\u001b[0;34m.\u001b[0m\u001b[0mlosses\u001b[0m\u001b[0;34m.\u001b[0m\u001b[0mappend\u001b[0m\u001b[0;34m(\u001b[0m\u001b[0mloss\u001b[0m\u001b[0;34m)\u001b[0m\u001b[0;34m\u001b[0m\u001b[0;34m\u001b[0m\u001b[0m\n\u001b[1;32m    124\u001b[0m                 \u001b[0mself\u001b[0m\u001b[0;34m.\u001b[0m\u001b[0mcpu_times\u001b[0m\u001b[0;34m.\u001b[0m\u001b[0mappend\u001b[0m\u001b[0;34m(\u001b[0m\u001b[0mdefault_timer\u001b[0m\u001b[0;34m(\u001b[0m\u001b[0;34m)\u001b[0m \u001b[0;34m-\u001b[0m \u001b[0malgo_start\u001b[0m\u001b[0;34m)\u001b[0m\u001b[0;34m\u001b[0m\u001b[0;34m\u001b[0m\u001b[0m\n",
            "\u001b[0;32m/content/GradientSolver.py\u001b[0m in \u001b[0;36mcompute_loss\u001b[0;34m(self, X, Y, labeled_idxs, unlabeled_idxs)\u001b[0m\n\u001b[1;32m     73\u001b[0m     \u001b[0;32mdef\u001b[0m \u001b[0mcompute_loss\u001b[0m\u001b[0;34m(\u001b[0m\u001b[0mself\u001b[0m\u001b[0;34m,\u001b[0m \u001b[0mX\u001b[0m\u001b[0;34m,\u001b[0m \u001b[0mY\u001b[0m\u001b[0;34m,\u001b[0m \u001b[0mlabeled_idxs\u001b[0m\u001b[0;34m,\u001b[0m \u001b[0munlabeled_idxs\u001b[0m\u001b[0;34m)\u001b[0m\u001b[0;34m:\u001b[0m\u001b[0;34m\u001b[0m\u001b[0;34m\u001b[0m\u001b[0m\n\u001b[1;32m     74\u001b[0m         \u001b[0;31m# Optimized code:\u001b[0m\u001b[0;34m\u001b[0m\u001b[0;34m\u001b[0m\u001b[0;34m\u001b[0m\u001b[0m\n\u001b[0;32m---> 75\u001b[0;31m         \u001b[0;32mreturn\u001b[0m \u001b[0msum\u001b[0m\u001b[0;34m(\u001b[0m\u001b[0;34m[\u001b[0m\u001b[0mself\u001b[0m\u001b[0;34m.\u001b[0m\u001b[0mcalc_weight\u001b[0m\u001b[0;34m(\u001b[0m\u001b[0mlabeled_idx\u001b[0m\u001b[0;34m,\u001b[0m \u001b[0munlab_idx\u001b[0m\u001b[0;34m)\u001b[0m \u001b[0;34m*\u001b[0m \u001b[0;34m(\u001b[0m\u001b[0;34m(\u001b[0m\u001b[0mY\u001b[0m\u001b[0;34m[\u001b[0m\u001b[0mlabeled_idx\u001b[0m\u001b[0;34m]\u001b[0m \u001b[0;34m-\u001b[0m \u001b[0mY\u001b[0m\u001b[0;34m[\u001b[0m\u001b[0munlab_idx\u001b[0m\u001b[0;34m]\u001b[0m\u001b[0;34m)\u001b[0m \u001b[0;34m**\u001b[0m \u001b[0;36m2\u001b[0m\u001b[0;34m)\u001b[0m \u001b[0;32mfor\u001b[0m \u001b[0mlabeled_idx\u001b[0m \u001b[0;32min\u001b[0m \u001b[0mlabeled_idxs\u001b[0m \u001b[0;32mfor\u001b[0m \u001b[0munlab_idx\u001b[0m \u001b[0;32min\u001b[0m \u001b[0munlabeled_idxs\u001b[0m\u001b[0;34m]\u001b[0m\u001b[0;34m)\u001b[0m \u001b[0;34m+\u001b[0m \u001b[0;36m0.5\u001b[0m \u001b[0;34m*\u001b[0m \u001b[0msum\u001b[0m\u001b[0;34m(\u001b[0m\u001b[0;34m[\u001b[0m\u001b[0mself\u001b[0m\u001b[0;34m.\u001b[0m\u001b[0mcalc_weight\u001b[0m\u001b[0;34m(\u001b[0m\u001b[0munlab_idx\u001b[0m\u001b[0;34m,\u001b[0m \u001b[0manother_unlab_idx\u001b[0m\u001b[0;34m)\u001b[0m \u001b[0;34m*\u001b[0m \u001b[0;34m(\u001b[0m\u001b[0;34m(\u001b[0m\u001b[0mY\u001b[0m\u001b[0;34m[\u001b[0m\u001b[0munlab_idx\u001b[0m\u001b[0;34m]\u001b[0m \u001b[0;34m-\u001b[0m \u001b[0mY\u001b[0m\u001b[0;34m[\u001b[0m\u001b[0manother_unlab_idx\u001b[0m\u001b[0;34m]\u001b[0m\u001b[0;34m)\u001b[0m \u001b[0;34m**\u001b[0m \u001b[0;36m2\u001b[0m\u001b[0;34m)\u001b[0m \u001b[0;32mfor\u001b[0m \u001b[0munlab_idx\u001b[0m \u001b[0;32min\u001b[0m \u001b[0munlabeled_idxs\u001b[0m \u001b[0;32mfor\u001b[0m \u001b[0manother_unlab_idx\u001b[0m \u001b[0;32min\u001b[0m \u001b[0munlabeled_idxs\u001b[0m\u001b[0;34m]\u001b[0m\u001b[0;34m)\u001b[0m\u001b[0;34m\u001b[0m\u001b[0;34m\u001b[0m\u001b[0m\n\u001b[0m\u001b[1;32m     76\u001b[0m \u001b[0;34m\u001b[0m\u001b[0m\n\u001b[1;32m     77\u001b[0m         \u001b[0;31m# comp_1 = sum([self.calc_weight(X[labeled_idx], X[unlab_idx]) * ((Y[labeled_idx] - Y[unlab_idx]) ** 2) for labeled_idx in labeled_idxs for unlab_idx in unlabeled_idxs])\u001b[0m\u001b[0;34m\u001b[0m\u001b[0;34m\u001b[0m\u001b[0;34m\u001b[0m\u001b[0m\n",
            "\u001b[0;32m/content/GradientSolver.py\u001b[0m in \u001b[0;36m<listcomp>\u001b[0;34m(.0)\u001b[0m\n\u001b[1;32m     73\u001b[0m     \u001b[0;32mdef\u001b[0m \u001b[0mcompute_loss\u001b[0m\u001b[0;34m(\u001b[0m\u001b[0mself\u001b[0m\u001b[0;34m,\u001b[0m \u001b[0mX\u001b[0m\u001b[0;34m,\u001b[0m \u001b[0mY\u001b[0m\u001b[0;34m,\u001b[0m \u001b[0mlabeled_idxs\u001b[0m\u001b[0;34m,\u001b[0m \u001b[0munlabeled_idxs\u001b[0m\u001b[0;34m)\u001b[0m\u001b[0;34m:\u001b[0m\u001b[0;34m\u001b[0m\u001b[0;34m\u001b[0m\u001b[0m\n\u001b[1;32m     74\u001b[0m         \u001b[0;31m# Optimized code:\u001b[0m\u001b[0;34m\u001b[0m\u001b[0;34m\u001b[0m\u001b[0;34m\u001b[0m\u001b[0m\n\u001b[0;32m---> 75\u001b[0;31m         \u001b[0;32mreturn\u001b[0m \u001b[0msum\u001b[0m\u001b[0;34m(\u001b[0m\u001b[0;34m[\u001b[0m\u001b[0mself\u001b[0m\u001b[0;34m.\u001b[0m\u001b[0mcalc_weight\u001b[0m\u001b[0;34m(\u001b[0m\u001b[0mlabeled_idx\u001b[0m\u001b[0;34m,\u001b[0m \u001b[0munlab_idx\u001b[0m\u001b[0;34m)\u001b[0m \u001b[0;34m*\u001b[0m \u001b[0;34m(\u001b[0m\u001b[0;34m(\u001b[0m\u001b[0mY\u001b[0m\u001b[0;34m[\u001b[0m\u001b[0mlabeled_idx\u001b[0m\u001b[0;34m]\u001b[0m \u001b[0;34m-\u001b[0m \u001b[0mY\u001b[0m\u001b[0;34m[\u001b[0m\u001b[0munlab_idx\u001b[0m\u001b[0;34m]\u001b[0m\u001b[0;34m)\u001b[0m \u001b[0;34m**\u001b[0m \u001b[0;36m2\u001b[0m\u001b[0;34m)\u001b[0m \u001b[0;32mfor\u001b[0m \u001b[0mlabeled_idx\u001b[0m \u001b[0;32min\u001b[0m \u001b[0mlabeled_idxs\u001b[0m \u001b[0;32mfor\u001b[0m \u001b[0munlab_idx\u001b[0m \u001b[0;32min\u001b[0m \u001b[0munlabeled_idxs\u001b[0m\u001b[0;34m]\u001b[0m\u001b[0;34m)\u001b[0m \u001b[0;34m+\u001b[0m \u001b[0;36m0.5\u001b[0m \u001b[0;34m*\u001b[0m \u001b[0msum\u001b[0m\u001b[0;34m(\u001b[0m\u001b[0;34m[\u001b[0m\u001b[0mself\u001b[0m\u001b[0;34m.\u001b[0m\u001b[0mcalc_weight\u001b[0m\u001b[0;34m(\u001b[0m\u001b[0munlab_idx\u001b[0m\u001b[0;34m,\u001b[0m \u001b[0manother_unlab_idx\u001b[0m\u001b[0;34m)\u001b[0m \u001b[0;34m*\u001b[0m \u001b[0;34m(\u001b[0m\u001b[0;34m(\u001b[0m\u001b[0mY\u001b[0m\u001b[0;34m[\u001b[0m\u001b[0munlab_idx\u001b[0m\u001b[0;34m]\u001b[0m \u001b[0;34m-\u001b[0m \u001b[0mY\u001b[0m\u001b[0;34m[\u001b[0m\u001b[0manother_unlab_idx\u001b[0m\u001b[0;34m]\u001b[0m\u001b[0;34m)\u001b[0m \u001b[0;34m**\u001b[0m \u001b[0;36m2\u001b[0m\u001b[0;34m)\u001b[0m \u001b[0;32mfor\u001b[0m \u001b[0munlab_idx\u001b[0m \u001b[0;32min\u001b[0m \u001b[0munlabeled_idxs\u001b[0m \u001b[0;32mfor\u001b[0m \u001b[0manother_unlab_idx\u001b[0m \u001b[0;32min\u001b[0m \u001b[0munlabeled_idxs\u001b[0m\u001b[0;34m]\u001b[0m\u001b[0;34m)\u001b[0m\u001b[0;34m\u001b[0m\u001b[0;34m\u001b[0m\u001b[0m\n\u001b[0m\u001b[1;32m     76\u001b[0m \u001b[0;34m\u001b[0m\u001b[0m\n\u001b[1;32m     77\u001b[0m         \u001b[0;31m# comp_1 = sum([self.calc_weight(X[labeled_idx], X[unlab_idx]) * ((Y[labeled_idx] - Y[unlab_idx]) ** 2) for labeled_idx in labeled_idxs for unlab_idx in unlabeled_idxs])\u001b[0m\u001b[0;34m\u001b[0m\u001b[0;34m\u001b[0m\u001b[0;34m\u001b[0m\u001b[0m\n",
            "\u001b[0;32m/content/GradientSolver.py\u001b[0m in \u001b[0;36mcalc_weight\u001b[0;34m(self, i, j)\u001b[0m\n\u001b[1;32m     56\u001b[0m \u001b[0;34m\u001b[0m\u001b[0m\n\u001b[1;32m     57\u001b[0m \u001b[0;34m\u001b[0m\u001b[0m\n\u001b[0;32m---> 58\u001b[0;31m     \u001b[0;32mdef\u001b[0m \u001b[0mcalc_weight\u001b[0m\u001b[0;34m(\u001b[0m\u001b[0mself\u001b[0m\u001b[0;34m,\u001b[0m \u001b[0mi\u001b[0m\u001b[0;34m,\u001b[0m \u001b[0mj\u001b[0m\u001b[0;34m)\u001b[0m\u001b[0;34m:\u001b[0m\u001b[0;34m\u001b[0m\u001b[0;34m\u001b[0m\u001b[0m\n\u001b[0m\u001b[1;32m     59\u001b[0m         \u001b[0;32mreturn\u001b[0m \u001b[0mself\u001b[0m\u001b[0;34m.\u001b[0m\u001b[0mweight_matrix\u001b[0m\u001b[0;34m[\u001b[0m\u001b[0mi\u001b[0m\u001b[0;34m]\u001b[0m\u001b[0;34m[\u001b[0m\u001b[0mj\u001b[0m\u001b[0;34m]\u001b[0m \u001b[0;31m# 1 / (norm(Xi - Xj) + 0.001)\u001b[0m\u001b[0;34m\u001b[0m\u001b[0;34m\u001b[0m\u001b[0m\n\u001b[1;32m     60\u001b[0m \u001b[0;34m\u001b[0m\u001b[0m\n",
            "\u001b[0;31mKeyboardInterrupt\u001b[0m: "
          ]
        }
      ],
      "source": [
        "Y_preds_BCGD_cyclic = BCGD_cyclic_solver.solve(\n",
        "    X,\n",
        "    Y_delabeled, \n",
        "    Y_true = Y,\n",
        "    iter_limit = 30, \n",
        "    delta_percent_limit = 0.10,  # when dLoss / dLoss prev\n",
        "    delta_loss_limit = 0.0,\n",
        "    stop_loss = 0,\n",
        "    weight_matrix = weights\n",
        ")"
      ]
    },
    {
      "cell_type": "code",
      "execution_count": null,
      "metadata": {
        "colab": {
          "base_uri": "https://localhost:8080/",
          "height": 282
        },
        "id": "95Q50O22ji8q",
        "outputId": "fdc7830d-d16a-48fe-d0f9-a2b2f0090d34"
      },
      "outputs": [
        {
          "name": "stdout",
          "output_type": "stream",
          "text": [
            "Accuracy: 1.0\n"
          ]
        },
        {
          "data": {
            "image/png": "[encoded data removed]",
            "text/plain": [
              "<Figure size 432x288 with 1 Axes>"
            ]
          },
          "metadata": {
            "needs_background": "light"
          },
          "output_type": "display_data"
        }
      ],
      "source": [
        "print(f'Accuracy: {accuracy_score(Y_preds_BCGD_cyclic, Y)}')\n",
        "plot_clusters(\n",
        "    X, Y_preds_BCGD_cyclic\n",
        ")"
      ]
    },
    {
      "cell_type": "code",
      "execution_count": null,
      "metadata": {
        "colab": {
          "base_uri": "https://localhost:8080/",
          "height": 265
        },
        "id": "9w-wKchjji8q",
        "outputId": "a4ef51e0-c318-464d-ef40-3b29cdfcecd1"
      },
      "outputs": [
        {
          "data": {
            "image/png": "[encoded data removed]",
            "text/plain": [
              "<Figure size 432x288 with 1 Axes>"
            ]
          },
          "metadata": {
            "needs_background": "light"
          },
          "output_type": "display_data"
        }
      ],
      "source": [
        "plt.plot(BCGD_cyclic_solver.losses, marker = 'o')\n",
        "plt.grid()"
      ]
    },
    {
      "cell_type": "code",
      "execution_count": null,
      "metadata": {
        "id": "0RdsiUjED3DJ",
        "outputId": "15db52f0-1763-4a7d-de31-2d139c8d485a"
      },
      "outputs": [
        {
          "data": {
            "image/png": "[encoded data removed]",
            "text/plain": [
              "<Figure size 432x288 with 1 Axes>"
            ]
          },
          "metadata": {
            "needs_background": "light"
          },
          "output_type": "display_data"
        }
      ],
      "source": [
        "plt.plot(BCGD_cyclic_solver.accuracies, marker = 'o')\n",
        "plt.ylim([0, 1])\n",
        "plt.grid()"
      ]
    },
    {
      "cell_type": "markdown",
      "metadata": {
        "id": "JE0wByBMji8q"
      },
      "source": [
        "# Model comparison"
      ]
    },
    {
      "cell_type": "markdown",
      "metadata": {
        "id": "swRV0Q4jji8q"
      },
      "source": [
        "We will compare models based on:\n",
        "- Clustering metrics\n",
        "- CPU time\n",
        "- Number of iterations\n",
        "- Loss curves\n",
        "- Distance metrics"
      ]
    },
    {
      "cell_type": "code",
      "execution_count": 16,
      "metadata": {
        "id": "1VaNQmYvji8q"
      },
      "outputs": [],
      "source": [
        "learning_rate_strategy = 'lr_constant'\n",
        "simil_func = None  # No feature yet\n",
        "lr = 0.0001\n",
        "\n",
        "gd_solver = GradientDescentSolver(\n",
        "    similarity_func = simil_func,\n",
        "    lr_strategy = learning_rate_strategy,\n",
        "    learning_rate = lr\n",
        ")\n",
        "\n",
        "bcgd_permut_solver = BCGDSolver(\n",
        "    lr_strategy = learning_rate_strategy,\n",
        "    learning_rate = lr,\n",
        "    similarity_func = simil_func,\n",
        "    bcgd_strategy = 'random permutation',\n",
        ")\n",
        "\n",
        "bcgd_sampling_solver = BCGDSolver(\n",
        "    lr_strategy = learning_rate_strategy,\n",
        "    learning_rate = lr,\n",
        "    similarity_func = simil_func,\n",
        "    bcgd_strategy = 'random sampling',\n",
        ")\n",
        "\n",
        "bcgd_cyclic_solver = BCGDSolver(\n",
        "    lr_strategy = learning_rate_strategy,\n",
        "    learning_rate = lr,\n",
        "    similarity_func = simil_func,\n",
        "    bcgd_strategy = 'cyclic',\n",
        ")\n",
        "\n",
        "solvers = {\n",
        "    # 'GD': gd_solver,\n",
        "    # 'BCGD permutation': bcgd_permut_solver,\n",
        "    # 'BCGD cyclic': bcgd_cyclic_solver,\n",
        "    'BCGD sampling': bcgd_sampling_solver,\n",
        "}"
      ]
    },
    {
      "cell_type": "code",
      "execution_count": 17,
      "metadata": {
        "id": "hcChCMybji8r"
      },
      "outputs": [],
      "source": [
        "def compare_models(solvers_dict, X, Y_true, Y_delabeled, iters_limit, delta_percent_limit, delta_loss_limit, stop_loss, weights_matrix):\n",
        "    predictions = {k:None for k in solvers_dict.keys()}\n",
        "    losses = {k:None for k in solvers_dict.keys()}\n",
        "    n_iterations = {k:None for k in solvers_dict.keys()}\n",
        "    cpu_times_total = {k:None for k in solvers_dict.keys()}\n",
        "\n",
        "    for model_name, model in solvers_dict.items():\n",
        "        print(f'Fitting {model_name}')\n",
        "        start = timeit.default_timer()\n",
        "        Y_preds = model.solve(\n",
        "            X,\n",
        "            Y_delabeled,\n",
        "            Y_true = Y_true,\n",
        "            iter_limit = iters_limit,\n",
        "            delta_percent_limit = delta_percent_limit,\n",
        "            delta_loss_limit = delta_loss_limit,\n",
        "            stop_loss= stop_loss,\n",
        "            weight_matrix = weights_matrix\n",
        "        )\n",
        "        end = timeit.default_timer()\n",
        "        predictions[model_name] = Y_preds\n",
        "        losses[model_name] = model.losses\n",
        "        n_iterations[model_name] = model.n_iterations\n",
        "        cpu_times_total[model_name] = end - start\n",
        "    \n",
        "\n",
        "    return predictions, losses, n_iterations, cpu_times_total"
      ]
    },
    {
      "cell_type": "code",
      "execution_count": 19,
      "metadata": {
        "colab": {
          "base_uri": "https://localhost:8080/"
        },
        "id": "dLm9tU_sji8r",
        "outputId": "9ead8d86-41c4-434f-d457-8b7d255d7f3b"
      },
      "outputs": [
        {
          "output_type": "stream",
          "name": "stdout",
          "text": [
            "Fitting BCGD sampling\n",
            "Iteration: 0, Loss: 102822.87984855211, Delta: 102822.87984855211\n",
            "Iteration: 1, Loss: 102822.3430521119, Delta: 0.5367964402103098\n",
            "Iteration: 2, Loss: 102822.23290044357, Delta: 0.11015166832657997\n",
            "Iteration: 3, Loss: 102821.90601583854, Delta: 0.3268846050341381\n",
            "Iteration: 4, Loss: 102821.50578733964, Delta: 0.4002284988964675\n",
            "Iteration: 5, Loss: 102821.27908595961, Delta: 0.22670138003013562\n",
            "Iteration: 6, Loss: 102820.67135148788, Delta: 0.6077344717341475\n",
            "Iteration: 7, Loss: 102820.50406669514, Delta: 0.1672847927402472\n",
            "Iteration: 8, Loss: 102820.45604232131, Delta: 0.04802437382750213\n",
            "Iteration: 9, Loss: 102820.09908320515, Delta: 0.35695911616494413\n",
            "Iteration: 10, Loss: 102820.08427356482, Delta: 0.014809640328167006\n",
            "Iteration: 11, Loss: 102819.58108961578, Delta: 0.503183949040249\n",
            "Iteration: 12, Loss: 102818.99276383652, Delta: 0.5883257792593213\n",
            "Iteration: 13, Loss: 102818.61524862605, Delta: 0.37751521046448033\n",
            "Iteration: 14, Loss: 102818.3090851581, Delta: 0.3061634679615963\n",
            "Iteration: 15, Loss: 102817.80681955925, Delta: 0.5022655988432234\n",
            "Iteration: 16, Loss: 102817.77833632019, Delta: 0.028483239060733467\n",
            "Iteration: 17, Loss: 102817.69197245766, Delta: 0.08636386253056116\n",
            "Iteration: 18, Loss: 102817.35261526996, Delta: 0.33935718769498635\n",
            "Iteration: 19, Loss: 102817.12273301429, Delta: 0.22988225567678455\n",
            "Iteration: 20, Loss: 102817.10107550236, Delta: 0.021657511926605366\n",
            "Iteration: 21, Loss: 102816.64164882792, Delta: 0.4594266744388733\n",
            "Iteration: 22, Loss: 102816.248469747, Delta: 0.393179080914706\n",
            "Iteration: 23, Loss: 102815.92579595823, Delta: 0.32267378877440933\n",
            "Iteration: 24, Loss: 102815.7911655994, Delta: 0.13463035883614793\n",
            "Iteration: 25, Loss: 102815.13204182863, Delta: 0.6591237707616528\n",
            "Iteration: 26, Loss: 102814.88506213136, Delta: 0.2469796972727636\n",
            "Iteration: 27, Loss: 102814.8234972811, Delta: 0.061564850257127546\n",
            "Iteration: 28, Loss: 102814.66326951628, Delta: 0.16022776481986511\n",
            "Iteration: 29, Loss: 102813.94844952702, Delta: 0.7148199892690172\n",
            "Iteration: 30, Loss: 102813.88245264212, Delta: 0.06599688489222899\n",
            "Iteration: 31, Loss: 102813.26523731729, Delta: 0.6172153248335235\n",
            "Iteration: 32, Loss: 102812.27863106216, Delta: 0.9866062551300274\n",
            "Iteration: 33, Loss: 102811.73988020295, Delta: 0.5387508592102677\n",
            "Iteration: 34, Loss: 102811.64702110682, Delta: 0.0928590961266309\n",
            "Iteration: 35, Loss: 102811.56102783313, Delta: 0.08599327369302046\n",
            "Iteration: 36, Loss: 102811.20348096627, Delta: 0.35754686685686465\n",
            "Iteration: 37, Loss: 102810.70923280255, Delta: 0.4942481637262972\n",
            "Iteration: 38, Loss: 102810.2863503307, Delta: 0.4228824718447868\n",
            "Iteration: 39, Loss: 102810.22863608759, Delta: 0.05771424311387818\n",
            "Iteration: 40, Loss: 102810.20170513557, Delta: 0.026930952022667043\n",
            "Iteration: 41, Loss: 102809.82167484847, Delta: 0.3800302870949963\n",
            "Iteration: 42, Loss: 102809.20918320662, Delta: 0.6124916418484645\n",
            "Iteration: 43, Loss: 102808.8756211995, Delta: 0.3335620071156882\n",
            "Iteration: 44, Loss: 102808.43379590439, Delta: 0.4418252951145405\n",
            "Iteration: 45, Loss: 102808.38965653784, Delta: 0.044139366553281434\n",
            "Iteration: 46, Loss: 102808.15014729211, Delta: 0.2395092457300052\n",
            "Iteration: 47, Loss: 102807.59877007602, Delta: 0.551377216092078\n",
            "Iteration: 48, Loss: 102807.47306392345, Delta: 0.12570615256845485\n",
            "Iteration: 49, Loss: 102807.43811315447, Delta: 0.034950768982525915\n"
          ]
        }
      ],
      "source": [
        "iters_limit = 50\n",
        "delta_loss_limit = 0.0  # we dont use it anymore\n",
        "stop_loss= 0  # we dont use it anymore\n",
        "delta_percent_limit = 0,  # when dLoss / dLoss prev\n",
        "\n",
        "\n",
        "preds, losses, n_iters, cpu_times_total = compare_models(\n",
        "        solvers,\n",
        "        X,\n",
        "        Y_delabeled = Y_delabeled,\n",
        "        Y_true = Y,\n",
        "        iters_limit = iters_limit,\n",
        "        delta_percent_limit = delta_percent_limit,\n",
        "        delta_loss_limit = delta_loss_limit,\n",
        "        stop_loss = stop_loss,\n",
        "        weights_matrix =  weights\n",
        "    )"
      ]
    },
    {
      "cell_type": "code",
      "execution_count": 20,
      "metadata": {
        "id": "bq3MKYO5D3DK"
      },
      "outputs": [],
      "source": [
        "accuracies = {name: solver.accuracies for name, solver in solvers.items()}\n",
        "cpu_times = {name: solver.cpu_times for name, solver in solvers.items()}"
      ]
    },
    {
      "cell_type": "markdown",
      "metadata": {
        "id": "qFdvc2CBmC56"
      },
      "source": [
        "## Saving data"
      ]
    },
    {
      "cell_type": "code",
      "execution_count": 21,
      "metadata": {
        "colab": {
          "base_uri": "https://localhost:8080/",
          "height": 81
        },
        "id": "PTrC3C2F0TFG",
        "outputId": "c2fa75bb-c907-46d6-9adb-9756350441c9"
      },
      "outputs": [
        {
          "output_type": "execute_result",
          "data": {
            "text/plain": [
              "   iters_limit  d_loss_limit delta_percent_limit  stop_loss  learning_rate  \\\n",
              "0           50           0.0                (0,)          0         0.0001   \n",
              "\n",
              "   n points  \n",
              "0      5000  "
            ],
            "text/html": [
              "\n",
              "  <div id=\"df-a55f01fb-8e39-4bd8-9a98-ddac0f3f71c3\">\n",
              "    <div class=\"colab-df-container\">\n",
              "      <div>\n",
              "<style scoped>\n",
              "    .dataframe tbody tr th:only-of-type {\n",
              "        vertical-align: middle;\n",
              "    }\n",
              "\n",
              "    .dataframe tbody tr th {\n",
              "        vertical-align: top;\n",
              "    }\n",
              "\n",
              "    .dataframe thead th {\n",
              "        text-align: right;\n",
              "    }\n",
              "</style>\n",
              "<table border=\"1\" class=\"dataframe\">\n",
              "  <thead>\n",
              "    <tr style=\"text-align: right;\">\n",
              "      <th></th>\n",
              "      <th>iters_limit</th>\n",
              "      <th>d_loss_limit</th>\n",
              "      <th>delta_percent_limit</th>\n",
              "      <th>stop_loss</th>\n",
              "      <th>learning_rate</th>\n",
              "      <th>n points</th>\n",
              "    </tr>\n",
              "  </thead>\n",
              "  <tbody>\n",
              "    <tr>\n",
              "      <th>0</th>\n",
              "      <td>50</td>\n",
              "      <td>0.0</td>\n",
              "      <td>(0,)</td>\n",
              "      <td>0</td>\n",
              "      <td>0.0001</td>\n",
              "      <td>5000</td>\n",
              "    </tr>\n",
              "  </tbody>\n",
              "</table>\n",
              "</div>\n",
              "      <button class=\"colab-df-convert\" onclick=\"convertToInteractive('df-a55f01fb-8e39-4bd8-9a98-ddac0f3f71c3')\"\n",
              "              title=\"Convert this dataframe to an interactive table.\"\n",
              "              style=\"display:none;\">\n",
              "        \n",
              "  <svg xmlns=\"http://www.w3.org/2000/svg\" height=\"24px\"viewBox=\"0 0 24 24\"\n",
              "       width=\"24px\">\n",
              "    <path d=\"M0 0h24v24H0V0z\" fill=\"none\"/>\n",
              "    <path d=\"M18.56 5.44l.94 2.06.94-2.06 2.06-.94-2.06-.94-.94-2.06-.94 2.06-2.06.94zm-11 1L8.5 8.5l.94-2.06 2.06-.94-2.06-.94L8.5 2.5l-.94 2.06-2.06.94zm10 10l.94 2.06.94-2.06 2.06-.94-2.06-.94-.94-2.06-.94 2.06-2.06.94z\"/><path d=\"M17.41 7.96l-1.37-1.37c-.4-.4-.92-.59-1.43-.59-.52 0-1.04.2-1.43.59L10.3 9.45l-7.72 7.72c-.78.78-.78 2.05 0 2.83L4 21.41c.39.39.9.59 1.41.59.51 0 1.02-.2 1.41-.59l7.78-7.78 2.81-2.81c.8-.78.8-2.07 0-2.86zM5.41 20L4 18.59l7.72-7.72 1.47 1.35L5.41 20z\"/>\n",
              "  </svg>\n",
              "      </button>\n",
              "      \n",
              "  <style>\n",
              "    .colab-df-container {\n",
              "      display:flex;\n",
              "      flex-wrap:wrap;\n",
              "      gap: 12px;\n",
              "    }\n",
              "\n",
              "    .colab-df-convert {\n",
              "      background-color: #E8F0FE;\n",
              "      border: none;\n",
              "      border-radius: 50%;\n",
              "      cursor: pointer;\n",
              "      display: none;\n",
              "      fill: #1967D2;\n",
              "      height: 32px;\n",
              "      padding: 0 0 0 0;\n",
              "      width: 32px;\n",
              "    }\n",
              "\n",
              "    .colab-df-convert:hover {\n",
              "      background-color: #E2EBFA;\n",
              "      box-shadow: 0px 1px 2px rgba(60, 64, 67, 0.3), 0px 1px 3px 1px rgba(60, 64, 67, 0.15);\n",
              "      fill: #174EA6;\n",
              "    }\n",
              "\n",
              "    [theme=dark] .colab-df-convert {\n",
              "      background-color: #3B4455;\n",
              "      fill: #D2E3FC;\n",
              "    }\n",
              "\n",
              "    [theme=dark] .colab-df-convert:hover {\n",
              "      background-color: #434B5C;\n",
              "      box-shadow: 0px 1px 3px 1px rgba(0, 0, 0, 0.15);\n",
              "      filter: drop-shadow(0px 1px 2px rgba(0, 0, 0, 0.3));\n",
              "      fill: #FFFFFF;\n",
              "    }\n",
              "  </style>\n",
              "\n",
              "      <script>\n",
              "        const buttonEl =\n",
              "          document.querySelector('#df-a55f01fb-8e39-4bd8-9a98-ddac0f3f71c3 button.colab-df-convert');\n",
              "        buttonEl.style.display =\n",
              "          google.colab.kernel.accessAllowed ? 'block' : 'none';\n",
              "\n",
              "        async function convertToInteractive(key) {\n",
              "          const element = document.querySelector('#df-a55f01fb-8e39-4bd8-9a98-ddac0f3f71c3');\n",
              "          const dataTable =\n",
              "            await google.colab.kernel.invokeFunction('convertToInteractive',\n",
              "                                                     [key], {});\n",
              "          if (!dataTable) return;\n",
              "\n",
              "          const docLinkHtml = 'Like what you see? Visit the ' +\n",
              "            '<a target=\"_blank\" href=https://colab.research.google.com/notebooks/data_table.ipynb>data table notebook</a>'\n",
              "            + ' to learn more about interactive tables.';\n",
              "          element.innerHTML = '';\n",
              "          dataTable['output_type'] = 'display_data';\n",
              "          await google.colab.output.renderOutput(dataTable, element);\n",
              "          const docLink = document.createElement('div');\n",
              "          docLink.innerHTML = docLinkHtml;\n",
              "          element.appendChild(docLink);\n",
              "        }\n",
              "      </script>\n",
              "    </div>\n",
              "  </div>\n",
              "  "
            ]
          },
          "metadata": {},
          "execution_count": 21
        }
      ],
      "source": [
        "# iters_limit = 17\n",
        "# delta_loss_limit = 0.0001\n",
        "# stop_loss= 21000  # 4000\n",
        "\n",
        "experiment_params = pd.DataFrame(\n",
        "    {\n",
        "        'iters_limit': [iters_limit],\n",
        "        'd_loss_limit': [delta_loss_limit],\n",
        "        'delta_percent_limit': [delta_percent_limit],\n",
        "        'stop_loss': [stop_loss],\n",
        "        'learning_rate': [lr],\n",
        "        'n points': [DataProperties.n_samples]\n",
        "    },\n",
        "    # index = False\n",
        ")\n",
        "\n",
        "experiment_params.to_csv(full_dir + 'experiment_params.csv')\n",
        "experiment_params.head()"
      ]
    },
    {
      "cell_type": "code",
      "execution_count": 22,
      "metadata": {
        "colab": {
          "base_uri": "https://localhost:8080/",
          "height": 206
        },
        "id": "O8nVfq5KmC57",
        "outputId": "76ccbb59-b74c-4db3-fdfc-3aed3f611cec"
      },
      "outputs": [
        {
          "output_type": "execute_result",
          "data": {
            "text/plain": [
              "   BCGD sampling loss  BCGD sampling cpu  BCGD sampling acc\n",
              "0       102822.879849          31.829252             0.0500\n",
              "1       102822.343052          63.475447             0.0502\n",
              "2       102822.232900          95.545339             0.0504\n",
              "3       102821.906016         127.995053             0.0506\n",
              "4       102821.505787         160.394915             0.0508"
            ],
            "text/html": [
              "\n",
              "  <div id=\"df-d5cc46c8-2273-4b8d-8625-27f46b9adc82\">\n",
              "    <div class=\"colab-df-container\">\n",
              "      <div>\n",
              "<style scoped>\n",
              "    .dataframe tbody tr th:only-of-type {\n",
              "        vertical-align: middle;\n",
              "    }\n",
              "\n",
              "    .dataframe tbody tr th {\n",
              "        vertical-align: top;\n",
              "    }\n",
              "\n",
              "    .dataframe thead th {\n",
              "        text-align: right;\n",
              "    }\n",
              "</style>\n",
              "<table border=\"1\" class=\"dataframe\">\n",
              "  <thead>\n",
              "    <tr style=\"text-align: right;\">\n",
              "      <th></th>\n",
              "      <th>BCGD sampling loss</th>\n",
              "      <th>BCGD sampling cpu</th>\n",
              "      <th>BCGD sampling acc</th>\n",
              "    </tr>\n",
              "  </thead>\n",
              "  <tbody>\n",
              "    <tr>\n",
              "      <th>0</th>\n",
              "      <td>102822.879849</td>\n",
              "      <td>31.829252</td>\n",
              "      <td>0.0500</td>\n",
              "    </tr>\n",
              "    <tr>\n",
              "      <th>1</th>\n",
              "      <td>102822.343052</td>\n",
              "      <td>63.475447</td>\n",
              "      <td>0.0502</td>\n",
              "    </tr>\n",
              "    <tr>\n",
              "      <th>2</th>\n",
              "      <td>102822.232900</td>\n",
              "      <td>95.545339</td>\n",
              "      <td>0.0504</td>\n",
              "    </tr>\n",
              "    <tr>\n",
              "      <th>3</th>\n",
              "      <td>102821.906016</td>\n",
              "      <td>127.995053</td>\n",
              "      <td>0.0506</td>\n",
              "    </tr>\n",
              "    <tr>\n",
              "      <th>4</th>\n",
              "      <td>102821.505787</td>\n",
              "      <td>160.394915</td>\n",
              "      <td>0.0508</td>\n",
              "    </tr>\n",
              "  </tbody>\n",
              "</table>\n",
              "</div>\n",
              "      <button class=\"colab-df-convert\" onclick=\"convertToInteractive('df-d5cc46c8-2273-4b8d-8625-27f46b9adc82')\"\n",
              "              title=\"Convert this dataframe to an interactive table.\"\n",
              "              style=\"display:none;\">\n",
              "        \n",
              "  <svg xmlns=\"http://www.w3.org/2000/svg\" height=\"24px\"viewBox=\"0 0 24 24\"\n",
              "       width=\"24px\">\n",
              "    <path d=\"M0 0h24v24H0V0z\" fill=\"none\"/>\n",
              "    <path d=\"M18.56 5.44l.94 2.06.94-2.06 2.06-.94-2.06-.94-.94-2.06-.94 2.06-2.06.94zm-11 1L8.5 8.5l.94-2.06 2.06-.94-2.06-.94L8.5 2.5l-.94 2.06-2.06.94zm10 10l.94 2.06.94-2.06 2.06-.94-2.06-.94-.94-2.06-.94 2.06-2.06.94z\"/><path d=\"M17.41 7.96l-1.37-1.37c-.4-.4-.92-.59-1.43-.59-.52 0-1.04.2-1.43.59L10.3 9.45l-7.72 7.72c-.78.78-.78 2.05 0 2.83L4 21.41c.39.39.9.59 1.41.59.51 0 1.02-.2 1.41-.59l7.78-7.78 2.81-2.81c.8-.78.8-2.07 0-2.86zM5.41 20L4 18.59l7.72-7.72 1.47 1.35L5.41 20z\"/>\n",
              "  </svg>\n",
              "      </button>\n",
              "      \n",
              "  <style>\n",
              "    .colab-df-container {\n",
              "      display:flex;\n",
              "      flex-wrap:wrap;\n",
              "      gap: 12px;\n",
              "    }\n",
              "\n",
              "    .colab-df-convert {\n",
              "      background-color: #E8F0FE;\n",
              "      border: none;\n",
              "      border-radius: 50%;\n",
              "      cursor: pointer;\n",
              "      display: none;\n",
              "      fill: #1967D2;\n",
              "      height: 32px;\n",
              "      padding: 0 0 0 0;\n",
              "      width: 32px;\n",
              "    }\n",
              "\n",
              "    .colab-df-convert:hover {\n",
              "      background-color: #E2EBFA;\n",
              "      box-shadow: 0px 1px 2px rgba(60, 64, 67, 0.3), 0px 1px 3px 1px rgba(60, 64, 67, 0.15);\n",
              "      fill: #174EA6;\n",
              "    }\n",
              "\n",
              "    [theme=dark] .colab-df-convert {\n",
              "      background-color: #3B4455;\n",
              "      fill: #D2E3FC;\n",
              "    }\n",
              "\n",
              "    [theme=dark] .colab-df-convert:hover {\n",
              "      background-color: #434B5C;\n",
              "      box-shadow: 0px 1px 3px 1px rgba(0, 0, 0, 0.15);\n",
              "      filter: drop-shadow(0px 1px 2px rgba(0, 0, 0, 0.3));\n",
              "      fill: #FFFFFF;\n",
              "    }\n",
              "  </style>\n",
              "\n",
              "      <script>\n",
              "        const buttonEl =\n",
              "          document.querySelector('#df-d5cc46c8-2273-4b8d-8625-27f46b9adc82 button.colab-df-convert');\n",
              "        buttonEl.style.display =\n",
              "          google.colab.kernel.accessAllowed ? 'block' : 'none';\n",
              "\n",
              "        async function convertToInteractive(key) {\n",
              "          const element = document.querySelector('#df-d5cc46c8-2273-4b8d-8625-27f46b9adc82');\n",
              "          const dataTable =\n",
              "            await google.colab.kernel.invokeFunction('convertToInteractive',\n",
              "                                                     [key], {});\n",
              "          if (!dataTable) return;\n",
              "\n",
              "          const docLinkHtml = 'Like what you see? Visit the ' +\n",
              "            '<a target=\"_blank\" href=https://colab.research.google.com/notebooks/data_table.ipynb>data table notebook</a>'\n",
              "            + ' to learn more about interactive tables.';\n",
              "          element.innerHTML = '';\n",
              "          dataTable['output_type'] = 'display_data';\n",
              "          await google.colab.output.renderOutput(dataTable, element);\n",
              "          const docLink = document.createElement('div');\n",
              "          docLink.innerHTML = docLinkHtml;\n",
              "          element.appendChild(docLink);\n",
              "        }\n",
              "      </script>\n",
              "    </div>\n",
              "  </div>\n",
              "  "
            ]
          },
          "metadata": {},
          "execution_count": 22
        }
      ],
      "source": [
        "results = pd.DataFrame()\n",
        "\n",
        "# fill losses\n",
        "for model_name, loss in losses.items():\n",
        "    new = pd.DataFrame({f'{model_name} loss': loss})\n",
        "    results = pd.concat([results, new], axis = 1)\n",
        "    # results[f'{model_name} loss'] = loss\n",
        "\n",
        "for model_name, cpu_time in cpu_times.items():\n",
        "    new = pd.DataFrame({f'{model_name} cpu': cpu_time})\n",
        "    results = pd.concat([results, new], axis = 1)\n",
        "    # results[f'{model_name} cpu'] = cpu_time\n",
        "\n",
        "for model_name, acc in accuracies.items():\n",
        "    new = pd.DataFrame({f'{model_name} acc': acc})\n",
        "    results = pd.concat([results, new], axis = 1)\n",
        "\n",
        "\n",
        "results.to_csv(full_dir + 'res.csv')\n",
        "results.head()"
      ]
    },
    {
      "cell_type": "code",
      "execution_count": 23,
      "metadata": {
        "colab": {
          "base_uri": "https://localhost:8080/",
          "height": 569
        },
        "id": "VmisRJGYmC59",
        "outputId": "ac1048e7-1dc7-4cde-fd28-9600591d3b64"
      },
      "outputs": [
        {
          "output_type": "execute_result",
          "data": {
            "text/plain": [
              "               CPU total time  N iterations  Final accuracy  \\\n",
              "BCGD sampling     1608.342744            50          0.0596   \n",
              "\n",
              "               CPU total time_norm  N iterations_norm  Final accuracy_norm  \n",
              "BCGD sampling                  1.0                1.0                  1.0  "
            ],
            "text/html": [
              "\n",
              "  <div id=\"df-da310a79-b920-48fb-91f5-799c0abc587d\">\n",
              "    <div class=\"colab-df-container\">\n",
              "      <div>\n",
              "<style scoped>\n",
              "    .dataframe tbody tr th:only-of-type {\n",
              "        vertical-align: middle;\n",
              "    }\n",
              "\n",
              "    .dataframe tbody tr th {\n",
              "        vertical-align: top;\n",
              "    }\n",
              "\n",
              "    .dataframe thead th {\n",
              "        text-align: right;\n",
              "    }\n",
              "</style>\n",
              "<table border=\"1\" class=\"dataframe\">\n",
              "  <thead>\n",
              "    <tr style=\"text-align: right;\">\n",
              "      <th></th>\n",
              "      <th>CPU total time</th>\n",
              "      <th>N iterations</th>\n",
              "      <th>Final accuracy</th>\n",
              "      <th>CPU total time_norm</th>\n",
              "      <th>N iterations_norm</th>\n",
              "      <th>Final accuracy_norm</th>\n",
              "    </tr>\n",
              "  </thead>\n",
              "  <tbody>\n",
              "    <tr>\n",
              "      <th>BCGD sampling</th>\n",
              "      <td>1608.342744</td>\n",
              "      <td>50</td>\n",
              "      <td>0.0596</td>\n",
              "      <td>1.0</td>\n",
              "      <td>1.0</td>\n",
              "      <td>1.0</td>\n",
              "    </tr>\n",
              "  </tbody>\n",
              "</table>\n",
              "</div>\n",
              "      <button class=\"colab-df-convert\" onclick=\"convertToInteractive('df-da310a79-b920-48fb-91f5-799c0abc587d')\"\n",
              "              title=\"Convert this dataframe to an interactive table.\"\n",
              "              style=\"display:none;\">\n",
              "        \n",
              "  <svg xmlns=\"http://www.w3.org/2000/svg\" height=\"24px\"viewBox=\"0 0 24 24\"\n",
              "       width=\"24px\">\n",
              "    <path d=\"M0 0h24v24H0V0z\" fill=\"none\"/>\n",
              "    <path d=\"M18.56 5.44l.94 2.06.94-2.06 2.06-.94-2.06-.94-.94-2.06-.94 2.06-2.06.94zm-11 1L8.5 8.5l.94-2.06 2.06-.94-2.06-.94L8.5 2.5l-.94 2.06-2.06.94zm10 10l.94 2.06.94-2.06 2.06-.94-2.06-.94-.94-2.06-.94 2.06-2.06.94z\"/><path d=\"M17.41 7.96l-1.37-1.37c-.4-.4-.92-.59-1.43-.59-.52 0-1.04.2-1.43.59L10.3 9.45l-7.72 7.72c-.78.78-.78 2.05 0 2.83L4 21.41c.39.39.9.59 1.41.59.51 0 1.02-.2 1.41-.59l7.78-7.78 2.81-2.81c.8-.78.8-2.07 0-2.86zM5.41 20L4 18.59l7.72-7.72 1.47 1.35L5.41 20z\"/>\n",
              "  </svg>\n",
              "      </button>\n",
              "      \n",
              "  <style>\n",
              "    .colab-df-container {\n",
              "      display:flex;\n",
              "      flex-wrap:wrap;\n",
              "      gap: 12px;\n",
              "    }\n",
              "\n",
              "    .colab-df-convert {\n",
              "      background-color: #E8F0FE;\n",
              "      border: none;\n",
              "      border-radius: 50%;\n",
              "      cursor: pointer;\n",
              "      display: none;\n",
              "      fill: #1967D2;\n",
              "      height: 32px;\n",
              "      padding: 0 0 0 0;\n",
              "      width: 32px;\n",
              "    }\n",
              "\n",
              "    .colab-df-convert:hover {\n",
              "      background-color: #E2EBFA;\n",
              "      box-shadow: 0px 1px 2px rgba(60, 64, 67, 0.3), 0px 1px 3px 1px rgba(60, 64, 67, 0.15);\n",
              "      fill: #174EA6;\n",
              "    }\n",
              "\n",
              "    [theme=dark] .colab-df-convert {\n",
              "      background-color: #3B4455;\n",
              "      fill: #D2E3FC;\n",
              "    }\n",
              "\n",
              "    [theme=dark] .colab-df-convert:hover {\n",
              "      background-color: #434B5C;\n",
              "      box-shadow: 0px 1px 3px 1px rgba(0, 0, 0, 0.15);\n",
              "      filter: drop-shadow(0px 1px 2px rgba(0, 0, 0, 0.3));\n",
              "      fill: #FFFFFF;\n",
              "    }\n",
              "  </style>\n",
              "\n",
              "      <script>\n",
              "        const buttonEl =\n",
              "          document.querySelector('#df-da310a79-b920-48fb-91f5-799c0abc587d button.colab-df-convert');\n",
              "        buttonEl.style.display =\n",
              "          google.colab.kernel.accessAllowed ? 'block' : 'none';\n",
              "\n",
              "        async function convertToInteractive(key) {\n",
              "          const element = document.querySelector('#df-da310a79-b920-48fb-91f5-799c0abc587d');\n",
              "          const dataTable =\n",
              "            await google.colab.kernel.invokeFunction('convertToInteractive',\n",
              "                                                     [key], {});\n",
              "          if (!dataTable) return;\n",
              "\n",
              "          const docLinkHtml = 'Like what you see? Visit the ' +\n",
              "            '<a target=\"_blank\" href=https://colab.research.google.com/notebooks/data_table.ipynb>data table notebook</a>'\n",
              "            + ' to learn more about interactive tables.';\n",
              "          element.innerHTML = '';\n",
              "          dataTable['output_type'] = 'display_data';\n",
              "          await google.colab.output.renderOutput(dataTable, element);\n",
              "          const docLink = document.createElement('div');\n",
              "          docLink.innerHTML = docLinkHtml;\n",
              "          element.appendChild(docLink);\n",
              "        }\n",
              "      </script>\n",
              "    </div>\n",
              "  </div>\n",
              "  "
            ]
          },
          "metadata": {},
          "execution_count": 23
        },
        {
          "output_type": "display_data",
          "data": {
            "text/plain": [
              "<Figure size 576x576 with 1 Axes>"
            ],
            "image/png": "[encoded data removed]"
          },
          "metadata": {
            "needs_background": "light"
          }
        }
      ],
      "source": [
        "bar_metrics = pd.DataFrame.from_dict(cpu_times_total, orient='index', columns = ['CPU total time'])\n",
        "bar_metrics['N iterations'] = n_iters.values()\n",
        "\n",
        "final_accuracies = {name: acc[-1] for name, acc in accuracies.items()}\n",
        "bar_metrics['Final accuracy'] = final_accuracies.values()\n",
        "\n",
        "\n",
        "\n",
        "normalize_cols(bar_metrics)\n",
        "cols_to_plot = [c for c in bar_metrics.columns if 'norm' in c]\n",
        "\n",
        "plot_bar_metrics(bar_metrics.loc[:, cols_to_plot])\n",
        "bar_metrics.to_csv(full_dir + 'metrics res.csv')\n",
        "\n",
        "bar_metrics.head()"
      ]
    },
    {
      "cell_type": "markdown",
      "metadata": {
        "id": "AvivnwTfmC5-"
      },
      "source": [
        "## Graphics"
      ]
    },
    {
      "cell_type": "code",
      "execution_count": 24,
      "metadata": {
        "colab": {
          "base_uri": "https://localhost:8080/",
          "height": 404
        },
        "id": "07EmcJuSji8r",
        "outputId": "4b110b05-7865-434f-bfdf-8269760f8f91"
      },
      "outputs": [
        {
          "output_type": "display_data",
          "data": {
            "text/plain": [
              "<Figure size 648x432 with 1 Axes>"
            ],
            "image/png": "[encoded data removed]"
          },
          "metadata": {
            "needs_background": "light"
          }
        }
      ],
      "source": [
        "def plot_curves(curves_dict, title, y_label, figsize):\n",
        "    _, ax = plt.subplots(figsize = figsize)\n",
        "\n",
        "    for _, curve_res in curves_dict.items():\n",
        "        ax.plot(\n",
        "            curve_res,\n",
        "            marker = 'o',\n",
        "            linestyle = '--',\n",
        "            linewidth = 1.3,\n",
        "            markerfacecolor = 'white',\n",
        "            markersize = 2\n",
        "        )\n",
        "    plt.legend(list(curves_dict.keys()))\n",
        "    plt.title(title)\n",
        "    plt.xlabel('Iteration')\n",
        "    plt.ylabel(y_label)\n",
        "    plt.grid()\n",
        "\n",
        "\n",
        "# plot_curves({'Cyclic':losses['BCGD cyclic']}, 'Losses cyclic', y_label = 'Loss')\n",
        "# plot_curves({'GD':losses['GD']}, 'Losses GD', y_label = 'Loss')\n",
        "plot_curves(\n",
        "    losses,\n",
        "    'Losses VS N iterations', \n",
        "    y_label = 'Loss',\n",
        "    figsize = (9, 6)\n",
        ")"
      ]
    },
    {
      "cell_type": "code",
      "execution_count": 25,
      "metadata": {
        "colab": {
          "base_uri": "https://localhost:8080/",
          "height": 295
        },
        "id": "x0Vuj0yXmC6A",
        "outputId": "ef49b1c3-9aa7-47a8-f763-6b2cd8fec6a4"
      },
      "outputs": [
        {
          "output_type": "display_data",
          "data": {
            "text/plain": [
              "<Figure size 432x288 with 1 Axes>"
            ],
            "image/png": "[encoded data removed]"
          },
          "metadata": {
            "needs_background": "light"
          }
        }
      ],
      "source": [
        "def plot_losses_vs_cpu(losses_, cpu_times_):\n",
        "    assert(list(losses_.keys()) == list(cpu_times_.keys()))\n",
        "\n",
        "    _, ax = plt.subplots()\n",
        "\n",
        "    for model_name, loss in losses_.items():\n",
        "        cpu_time = cpu_times_[model_name]\n",
        "\n",
        "        ax.plot(\n",
        "            cpu_time,\n",
        "            loss,\n",
        "            marker = 'o',\n",
        "            markerfacecolor = 'white'\n",
        "        )\n",
        "    plt.xlabel('CPU time')\n",
        "    plt.ylabel('Loss')\n",
        "    plt.title('Loss VS CPU time')\n",
        "    plt.legend(list(losses_.keys()))\n",
        "    plt.grid()\n",
        "\n",
        "\n",
        "plot_losses_vs_cpu(losses, cpu_times)"
      ]
    },
    {
      "cell_type": "markdown",
      "metadata": {
        "id": "U2In6I0eji8s"
      },
      "source": [
        "# Real dataset"
      ]
    },
    {
      "cell_type": "code",
      "execution_count": null,
      "metadata": {
        "id": "ayGlyYP8mC6C"
      },
      "outputs": [],
      "source": [
        "# df = pd.read_csv('Pokemon.csv')"
      ]
    },
    {
      "cell_type": "code",
      "execution_count": null,
      "metadata": {
        "id": "op0he64kmC6C",
        "outputId": "04cf5f59-6d1b-4647-f5dd-87c49e07ee0d"
      },
      "outputs": [
        {
          "data": {
            "text/html": [
              "<div>\n",
              "<style scoped>\n",
              "    .dataframe tbody tr th:only-of-type {\n",
              "        vertical-align: middle;\n",
              "    }\n",
              "\n",
              "    .dataframe tbody tr th {\n",
              "        vertical-align: top;\n",
              "    }\n",
              "\n",
              "    .dataframe thead th {\n",
              "        text-align: right;\n",
              "    }\n",
              "</style>\n",
              "<table border=\"1\" class=\"dataframe\">\n",
              "  <thead>\n",
              "    <tr style=\"text-align: right;\">\n",
              "      <th></th>\n",
              "      <th>number</th>\n",
              "      <th>name</th>\n",
              "      <th>type1</th>\n",
              "      <th>type2</th>\n",
              "      <th>total</th>\n",
              "      <th>hp</th>\n",
              "      <th>attack</th>\n",
              "      <th>defense</th>\n",
              "      <th>sp_attack</th>\n",
              "      <th>sp_defense</th>\n",
              "      <th>speed</th>\n",
              "      <th>generation</th>\n",
              "      <th>legendary</th>\n",
              "    </tr>\n",
              "  </thead>\n",
              "  <tbody>\n",
              "    <tr>\n",
              "      <th>0</th>\n",
              "      <td>1</td>\n",
              "      <td>Bulbasaur</td>\n",
              "      <td>Grass</td>\n",
              "      <td>Poison</td>\n",
              "      <td>318</td>\n",
              "      <td>45</td>\n",
              "      <td>49</td>\n",
              "      <td>49</td>\n",
              "      <td>65</td>\n",
              "      <td>65</td>\n",
              "      <td>45</td>\n",
              "      <td>1</td>\n",
              "      <td>False</td>\n",
              "    </tr>\n",
              "    <tr>\n",
              "      <th>1</th>\n",
              "      <td>2</td>\n",
              "      <td>Ivysaur</td>\n",
              "      <td>Grass</td>\n",
              "      <td>Poison</td>\n",
              "      <td>405</td>\n",
              "      <td>60</td>\n",
              "      <td>62</td>\n",
              "      <td>63</td>\n",
              "      <td>80</td>\n",
              "      <td>80</td>\n",
              "      <td>60</td>\n",
              "      <td>1</td>\n",
              "      <td>False</td>\n",
              "    </tr>\n",
              "    <tr>\n",
              "      <th>2</th>\n",
              "      <td>3</td>\n",
              "      <td>Venusaur</td>\n",
              "      <td>Grass</td>\n",
              "      <td>Poison</td>\n",
              "      <td>525</td>\n",
              "      <td>80</td>\n",
              "      <td>82</td>\n",
              "      <td>83</td>\n",
              "      <td>100</td>\n",
              "      <td>100</td>\n",
              "      <td>80</td>\n",
              "      <td>1</td>\n",
              "      <td>False</td>\n",
              "    </tr>\n",
              "    <tr>\n",
              "      <th>3</th>\n",
              "      <td>3</td>\n",
              "      <td>Mega Venusaur</td>\n",
              "      <td>Grass</td>\n",
              "      <td>Poison</td>\n",
              "      <td>625</td>\n",
              "      <td>80</td>\n",
              "      <td>100</td>\n",
              "      <td>123</td>\n",
              "      <td>122</td>\n",
              "      <td>120</td>\n",
              "      <td>80</td>\n",
              "      <td>1</td>\n",
              "      <td>False</td>\n",
              "    </tr>\n",
              "    <tr>\n",
              "      <th>4</th>\n",
              "      <td>3</td>\n",
              "      <td>Gigantamax Venusaur</td>\n",
              "      <td>Grass</td>\n",
              "      <td>Poison</td>\n",
              "      <td>525</td>\n",
              "      <td>80</td>\n",
              "      <td>82</td>\n",
              "      <td>83</td>\n",
              "      <td>100</td>\n",
              "      <td>100</td>\n",
              "      <td>80</td>\n",
              "      <td>1</td>\n",
              "      <td>False</td>\n",
              "    </tr>\n",
              "  </tbody>\n",
              "</table>\n",
              "</div>"
            ],
            "text/plain": [
              "   number                 name  type1   type2  total  hp  attack  defense  \\\n",
              "0       1            Bulbasaur  Grass  Poison    318  45      49       49   \n",
              "1       2              Ivysaur  Grass  Poison    405  60      62       63   \n",
              "2       3             Venusaur  Grass  Poison    525  80      82       83   \n",
              "3       3        Mega Venusaur  Grass  Poison    625  80     100      123   \n",
              "4       3  Gigantamax Venusaur  Grass  Poison    525  80      82       83   \n",
              "\n",
              "   sp_attack  sp_defense  speed  generation  legendary  \n",
              "0         65          65     45           1      False  \n",
              "1         80          80     60           1      False  \n",
              "2        100         100     80           1      False  \n",
              "3        122         120     80           1      False  \n",
              "4        100         100     80           1      False  "
            ]
          },
          "execution_count": 245,
          "metadata": {},
          "output_type": "execute_result"
        }
      ],
      "source": [
        "# df.head()"
      ]
    },
    {
      "cell_type": "code",
      "execution_count": null,
      "metadata": {
        "id": "XT973oB7mC6D"
      },
      "outputs": [],
      "source": [
        "# df.head()\n",
        "# X_real = df.loc[:, ['total', 'sp_attack']].values\n",
        "# Y_real = df['legendary'].astype('int').values\n"
      ]
    },
    {
      "cell_type": "code",
      "execution_count": null,
      "metadata": {
        "id": "cxgsNL_JmC6D",
        "outputId": "14660a4e-0c71-4d58-e177-297e3650fc62"
      },
      "outputs": [
        {
          "data": {
            "image/png": "[encoded data removed]",
            "text/plain": [
              "<Figure size 432x288 with 1 Axes>"
            ]
          },
          "metadata": {
            "needs_background": "light"
          },
          "output_type": "display_data"
        }
      ],
      "source": [
        "# plot_clusters(\n",
        "#     X_real,\n",
        "#     Y_real\n",
        "# )"
      ]
    },
    {
      "cell_type": "code",
      "execution_count": null,
      "metadata": {
        "id": "W1DOQTaymC6E",
        "outputId": "750d55d7-5776-4cd5-a2bb-b95fdd12fce4"
      },
      "outputs": [
        {
          "name": "stdout",
          "output_type": "stream",
          "text": [
            "Found 954 instances of object 0\n",
            "We have to delabel 801 instances\n",
            "Found 118 instances of object 1\n",
            "We have to delabel 99 instances\n"
          ]
        }
      ],
      "source": [
        "# Y_real_delabeled = delabel_data(\n",
        "#     Y_real,\n",
        "#     labeled_percent = 0.16, # DataProperties.labeled_percentage,\n",
        "#     delabel_value = DataProperties.unlabeled\n",
        "# )"
      ]
    },
    {
      "cell_type": "code",
      "execution_count": null,
      "metadata": {
        "id": "G_9uTw_Fji8s"
      },
      "outputs": [],
      "source": [
        "# wine=datasets.load_wine()\n",
        "\n",
        "# #Conver to pandas dataframe\n",
        "# data=pd.DataFrame(data=np.c_[wine['data'],wine['target']],columns=wine['feature_names']+['target'])\n",
        "\n",
        "# data = data.loc[\n",
        "#     (data['target'] == 1) | (data['target'] == 0),\n",
        "#     ['od280/od315_of_diluted_wines', 'alcohol', 'target']\n",
        "# ]"
      ]
    },
    {
      "cell_type": "code",
      "execution_count": null,
      "metadata": {
        "colab": {
          "base_uri": "https://localhost:8080/",
          "height": 268
        },
        "id": "D-DhernSji8s",
        "outputId": "0bb868a7-fc14-46a5-e0c8-b06c6e190587"
      },
      "outputs": [
        {
          "data": {
            "image/png": "[encoded data removed]",
            "text/plain": [
              "<Figure size 432x288 with 1 Axes>"
            ]
          },
          "metadata": {
            "needs_background": "light"
          },
          "output_type": "display_data"
        }
      ],
      "source": [
        "# X_real = data.loc[\n",
        "#     :,\n",
        "#     ['od280/od315_of_diluted_wines', 'alcohol']\n",
        "# ].values\n",
        "# Y_real = data['target'].values\n",
        "\n",
        "# plot_clusters(\n",
        "#     X_real,\n",
        "#     Y_real\n",
        "# )"
      ]
    },
    {
      "cell_type": "code",
      "execution_count": null,
      "metadata": {
        "colab": {
          "base_uri": "https://localhost:8080/"
        },
        "id": "PLp4UwVRji8t",
        "outputId": "734982c6-2c10-4b39-8aaa-eaa4c8c820d9"
      },
      "outputs": [
        {
          "name": "stdout",
          "output_type": "stream",
          "text": [
            "Iteration: 0, Loss: 24173.807351957803, delta loss: 24173.807351957803\n",
            "Iteration: 1, Loss: 24173.807351957803, delta loss: 0.0\n",
            "Iteration: 2, Loss: 24173.807351957803, delta loss: 0.0\n",
            "Iteration: 3, Loss: 24173.807351957803, delta loss: 0.0\n",
            "Iteration: 4, Loss: 24173.807351957803, delta loss: 0.0\n",
            "\n",
            "\n"
          ]
        }
      ],
      "source": [
        "# solver = GradientDescentSolver(\n",
        "#     lr_strategy = 'lr_constant',\n",
        "#     learning_rate = 0.0001,\n",
        "#     similarity_func = None\n",
        "# )\n",
        "\n",
        "# Y_real_preds = solver.solve(\n",
        "#     X_real,\n",
        "#     Y_real_delabeled,\n",
        "#     iter_limit=5,\n",
        "#     delta_loss_limit = 0.003,\n",
        "#     stop_loss = 20\n",
        "# )"
      ]
    }
  ],
  "metadata": {
    "colab": {
      "collapsed_sections": [],
      "name": "HW1.ipynb",
      "provenance": []
    },
    "kernelspec": {
      "display_name": "Python 3",
      "name": "python3"
    },
    "language_info": {
      "codemirror_mode": {
        "name": "ipython",
        "version": 3
      },
      "file_extension": ".py",
      "mimetype": "text/x-python",
      "name": "python",
      "nbconvert_exporter": "python",
      "pygments_lexer": "ipython3",
      "version": "3.9.7"
    }
  },
  "nbformat": 4,
  "nbformat_minor": 0
}